{
  "nbformat": 4,
  "nbformat_minor": 0,
  "metadata": {
    "colab": {
      "provenance": []
    },
    "kernelspec": {
      "name": "python3",
      "display_name": "Python 3"
    },
    "language_info": {
      "name": "python"
    }
  },
  "cells": [
    {
      "cell_type": "code",
      "execution_count": null,
      "metadata": {
        "colab": {
          "base_uri": "https://localhost:8080/"
        },
        "id": "3a9pREqiQpsQ",
        "outputId": "33a0d466-5fd8-4221-db89-d48b3830102c"
      },
      "outputs": [
        {
          "output_type": "stream",
          "name": "stdout",
          "text": [
            "Mounted at /content/drive\n"
          ]
        },
        {
          "output_type": "stream",
          "name": "stderr",
          "text": [
            "100%|██████████| 2180/2180 [58:39<00:00,  1.61s/it]"
          ]
        },
        {
          "output_type": "stream",
          "name": "stdout",
          "text": [
            "Processing completed. Extracted ROIs saved in: /content/drive/MyDrive/Extracted_ROIs\n"
          ]
        },
        {
          "output_type": "stream",
          "name": "stderr",
          "text": [
            "\n"
          ]
        }
      ],
      "source": [
        "import os\n",
        "import numpy as np\n",
        "import nibabel as nib\n",
        "from tqdm import tqdm\n",
        "from multiprocessing import Pool\n",
        "\n",
        "# Configuration\n",
        "data_dir = '/content/drive/MyDrive/Processed'\n",
        "output_dir = '/content/drive/MyDrive/Extracted_ROIs'\n",
        "class_folders = ['CN_Combined', 'MCI_Combined', 'AD_Combined']\n",
        "\n",
        "# Neuropathology Regions (DKT Atlas labels)\n",
        "regions = {\n",
        "    'Aβ': {\n",
        "        'Precuneus': 1023,\n",
        "        'Posterior_Cingulate': 1024,\n",
        "        'Frontal_Cortex': [1003, 1012]  # Superior and Inferior Frontal\n",
        "    },\n",
        "    'NFT': {\n",
        "        'Entorhinal': 1006,\n",
        "        'CA1': 1026,\n",
        "        'Amygdala': 18\n",
        "    }\n",
        "}\n",
        "\n",
        "def create_mask(seg_data, labels):\n",
        "    mask = np.zeros_like(seg_data, dtype=bool)\n",
        "    if isinstance(labels, list):\n",
        "        for label in labels:\n",
        "            mask |= (seg_data == label)\n",
        "    else:\n",
        "        mask = (seg_data == labels)\n",
        "    return mask\n",
        "\n",
        "def process_subject(subject_path):\n",
        "    try:\n",
        "        # Load FastSurfer outputs\n",
        "        seg_file = os.path.join(subject_path, 'aparc.DKTatlas+aseg.deep.mgz')\n",
        "        orig_file = os.path.join(subject_path, 'orig.mgz')\n",
        "\n",
        "        seg_img = nib.load(seg_file)\n",
        "        orig_img = nib.load(orig_file)\n",
        "        seg_data = seg_img.get_fdata()\n",
        "        orig_data = orig_img.get_fdata()\n",
        "\n",
        "        # Create output directory\n",
        "        relative_path = os.path.relpath(subject_path, data_dir)\n",
        "        output_path = os.path.join(output_dir, relative_path)\n",
        "        os.makedirs(output_path, exist_ok=True)\n",
        "\n",
        "        # Extract pathology-specific ROIs\n",
        "        for pathology in ['Aβ', 'NFT']:\n",
        "            combined_mask = np.zeros_like(seg_data, dtype=bool)\n",
        "            for region, labels in regions[pathology].items():\n",
        "                combined_mask |= create_mask(seg_data, labels)\n",
        "\n",
        "            # Apply mask and save\n",
        "            roi_data = orig_data * combined_mask\n",
        "            output_file = os.path.join(output_path, f'{pathology}_ROI.nii.gz')\n",
        "            nib.save(nib.Nifti1Image(roi_data, orig_img.affine), output_file)\n",
        "\n",
        "    except Exception as e:\n",
        "        print(f\"Error processing {subject_path}: {str(e)}\")\n",
        "\n",
        "def main():\n",
        "    # Collect all subject paths\n",
        "    subjects = []\n",
        "    for cls in class_folders:\n",
        "        class_dir = os.path.join(data_dir, cls)\n",
        "        for subject in os.listdir(class_dir):\n",
        "            subject_dir = os.path.join(class_dir, subject, 'mri')\n",
        "            if os.path.exists(os.path.join(subject_dir, 'aparc.DKTatlas+aseg.deep.mgz')):\n",
        "                subjects.append(subject_dir)\n",
        "\n",
        "    # Process with parallel workers (set to 4 for Colab CPU)\n",
        "    with Pool(processes=4) as pool:\n",
        "        list(tqdm(pool.imap(process_subject, subjects), total=len(subjects)))\n",
        "\n",
        "if __name__ == '__main__':\n",
        "    # Mount Google Drive first\n",
        "    from google.colab import drive\n",
        "    drive.mount('/content/drive')\n",
        "\n",
        "    # Create output directory\n",
        "    os.makedirs(output_dir, exist_ok=True)\n",
        "\n",
        "    # Run main processing\n",
        "    main()\n",
        "    print(\"Processing completed. Extracted ROIs saved in:\", output_dir)"
      ]
    }
  ]
}