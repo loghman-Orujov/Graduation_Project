{
 "cells": [
  {
   "cell_type": "code",
   "execution_count": 1,
   "id": "8d2ffb28",
   "metadata": {
    "_cell_guid": "b1076dfc-b9ad-4769-8c92-a6c4dae69d19",
    "_uuid": "8f2839f25d086af736a60e9eeb907d3b93b6e0e5",
    "execution": {
     "iopub.execute_input": "2025-06-11T08:06:32.506904Z",
     "iopub.status.busy": "2025-06-11T08:06:32.506652Z"
    },
    "papermill": {
     "duration": null,
     "end_time": null,
     "exception": false,
     "start_time": "2025-06-11T08:06:32.502888",
     "status": "running"
    },
    "tags": []
   },
   "outputs": [
    {
     "name": "stdout",
     "output_type": "stream",
     "text": [
      "Using device: cuda\n"
     ]
    },
    {
     "name": "stdout",
     "output_type": "stream",
     "text": [
      "\n",
      "Fold 1/2\n",
      "\n",
      "Train set class distribution:\n",
      "Counter({1: 490, 0: 374, 2: 227})\n",
      "\n",
      "Validation set class distribution:\n",
      "Counter({1: 491, 0: 374, 2: 226})\n"
     ]
    },
    {
     "name": "stdout",
     "output_type": "stream",
     "text": [
      "\n",
      "Class weights for this fold: [0.861496877967819, 0.9860886199974187, 1.2657234296218451]\n"
     ]
    },
    {
     "name": "stderr",
     "output_type": "stream",
     "text": [
      "\r",
      "Epoch 1/25 - Training:   0%|          | 0/137 [00:00<?, ?it/s]"
     ]
    },
    {
     "name": "stderr",
     "output_type": "stream",
     "text": [
      "\r",
      "Epoch 1/25 - Training:   1%|          | 1/137 [01:01<2:19:47, 61.67s/it]"
     ]
    },
    {
     "name": "stderr",
     "output_type": "stream",
     "text": [
      "\r",
      "Epoch 1/25 - Training:   1%|▏         | 2/137 [01:02<58:17, 25.91s/it]  "
     ]
    },
    {
     "name": "stderr",
     "output_type": "stream",
     "text": [
      "\r",
      "Epoch 1/25 - Training:   2%|▏         | 3/137 [01:14<43:13, 19.35s/it]"
     ]
    },
    {
     "name": "stderr",
     "output_type": "stream",
     "text": [
      "\r",
      "Epoch 1/25 - Training:   3%|▎         | 4/137 [01:17<28:50, 13.01s/it]"
     ]
    },
    {
     "name": "stderr",
     "output_type": "stream",
     "text": [
      "\r",
      "Epoch 1/25 - Training:   4%|▎         | 5/137 [01:47<42:09, 19.16s/it]"
     ]
    },
    {
     "name": "stderr",
     "output_type": "stream",
     "text": [
      "\r",
      "Epoch 1/25 - Training:   4%|▍         | 6/137 [01:50<29:40, 13.59s/it]"
     ]
    },
    {
     "name": "stderr",
     "output_type": "stream",
     "text": [
      "\r",
      "Epoch 1/25 - Training:   5%|▌         | 7/137 [02:19<40:35, 18.73s/it]"
     ]
    },
    {
     "name": "stderr",
     "output_type": "stream",
     "text": [
      "\r",
      "Epoch 1/25 - Training:   6%|▌         | 8/137 [02:20<28:03, 13.05s/it]"
     ]
    },
    {
     "name": "stderr",
     "output_type": "stream",
     "text": [
      "\r",
      "Epoch 1/25 - Training:   7%|▋         | 9/137 [02:51<39:57, 18.73s/it]"
     ]
    },
    {
     "name": "stderr",
     "output_type": "stream",
     "text": [
      "\r",
      "Epoch 1/25 - Training:   7%|▋         | 10/137 [02:52<27:58, 13.22s/it]"
     ]
    },
    {
     "name": "stderr",
     "output_type": "stream",
     "text": [
      "\r",
      "Epoch 1/25 - Training:   8%|▊         | 11/137 [03:24<39:44, 18.92s/it]"
     ]
    },
    {
     "name": "stderr",
     "output_type": "stream",
     "text": [
      "\r",
      "Epoch 1/25 - Training:   9%|▉         | 12/137 [03:25<28:07, 13.50s/it]"
     ]
    },
    {
     "name": "stderr",
     "output_type": "stream",
     "text": [
      "\r",
      "Epoch 1/25 - Training:   9%|▉         | 13/137 [03:54<37:29, 18.14s/it]"
     ]
    },
    {
     "name": "stderr",
     "output_type": "stream",
     "text": [
      "\r",
      "Epoch 1/25 - Training:  10%|█         | 14/137 [03:58<28:16, 13.79s/it]"
     ]
    },
    {
     "name": "stderr",
     "output_type": "stream",
     "text": [
      "\r",
      "Epoch 1/25 - Training:  11%|█         | 15/137 [04:19<32:47, 16.13s/it]"
     ]
    },
    {
     "name": "stderr",
     "output_type": "stream",
     "text": [
      "\r",
      "Epoch 1/25 - Training:  12%|█▏        | 16/137 [04:22<24:41, 12.24s/it]"
     ]
    },
    {
     "name": "stderr",
     "output_type": "stream",
     "text": [
      "\r",
      "Epoch 1/25 - Training:  12%|█▏        | 17/137 [04:39<27:12, 13.61s/it]"
     ]
    },
    {
     "name": "stderr",
     "output_type": "stream",
     "text": [
      "\r",
      "Epoch 1/25 - Training:  13%|█▎        | 18/137 [04:51<25:59, 13.10s/it]"
     ]
    },
    {
     "name": "stderr",
     "output_type": "stream",
     "text": [
      "\r",
      "Epoch 1/25 - Training:  14%|█▍        | 19/137 [05:12<30:26, 15.48s/it]"
     ]
    },
    {
     "name": "stderr",
     "output_type": "stream",
     "text": [
      "\r",
      "Epoch 1/25 - Training:  15%|█▍        | 20/137 [05:24<28:12, 14.46s/it]"
     ]
    },
    {
     "name": "stderr",
     "output_type": "stream",
     "text": [
      "\r",
      "Epoch 1/25 - Training:  15%|█▌        | 21/137 [05:42<29:46, 15.40s/it]"
     ]
    },
    {
     "name": "stderr",
     "output_type": "stream",
     "text": [
      "\r",
      "Epoch 1/25 - Training:  16%|█▌        | 22/137 [05:59<30:27, 15.89s/it]"
     ]
    },
    {
     "name": "stderr",
     "output_type": "stream",
     "text": [
      "\r",
      "Epoch 1/25 - Training:  17%|█▋        | 23/137 [06:12<28:35, 15.04s/it]"
     ]
    },
    {
     "name": "stderr",
     "output_type": "stream",
     "text": [
      "\r",
      "Epoch 1/25 - Training:  18%|█▊        | 24/137 [06:32<31:26, 16.70s/it]"
     ]
    },
    {
     "name": "stderr",
     "output_type": "stream",
     "text": [
      "\r",
      "Epoch 1/25 - Training:  18%|█▊        | 25/137 [06:40<26:18, 14.09s/it]"
     ]
    },
    {
     "name": "stderr",
     "output_type": "stream",
     "text": [
      "\r",
      "Epoch 1/25 - Training:  19%|█▉        | 26/137 [07:06<32:13, 17.42s/it]"
     ]
    },
    {
     "name": "stderr",
     "output_type": "stream",
     "text": [
      "\r",
      "Epoch 1/25 - Training:  20%|█▉        | 27/137 [07:13<26:25, 14.42s/it]"
     ]
    },
    {
     "name": "stderr",
     "output_type": "stream",
     "text": [
      "\r",
      "Epoch 1/25 - Training:  20%|██        | 28/137 [07:35<30:15, 16.65s/it]"
     ]
    },
    {
     "name": "stderr",
     "output_type": "stream",
     "text": [
      "\r",
      "Epoch 1/25 - Training:  21%|██        | 29/137 [07:48<27:50, 15.47s/it]"
     ]
    },
    {
     "name": "stderr",
     "output_type": "stream",
     "text": [
      "\r",
      "Epoch 1/25 - Training:  22%|██▏       | 30/137 [08:08<30:00, 16.82s/it]"
     ]
    },
    {
     "name": "stderr",
     "output_type": "stream",
     "text": [
      "\r",
      "Epoch 1/25 - Training:  23%|██▎       | 31/137 [08:16<25:28, 14.42s/it]"
     ]
    },
    {
     "name": "stderr",
     "output_type": "stream",
     "text": [
      "\r",
      "Epoch 1/25 - Training:  23%|██▎       | 32/137 [08:41<30:35, 17.48s/it]"
     ]
    },
    {
     "name": "stderr",
     "output_type": "stream",
     "text": [
      "\r",
      "Epoch 1/25 - Training:  24%|██▍       | 33/137 [08:45<23:09, 13.36s/it]"
     ]
    },
    {
     "name": "stderr",
     "output_type": "stream",
     "text": [
      "\r",
      "Epoch 1/25 - Training:  25%|██▍       | 34/137 [09:10<29:03, 16.93s/it]"
     ]
    },
    {
     "name": "stderr",
     "output_type": "stream",
     "text": [
      "\r",
      "Epoch 1/25 - Training:  26%|██▌       | 35/137 [09:18<24:14, 14.26s/it]"
     ]
    },
    {
     "name": "stderr",
     "output_type": "stream",
     "text": [
      "\r",
      "Epoch 1/25 - Training:  26%|██▋       | 36/137 [09:39<27:31, 16.36s/it]"
     ]
    },
    {
     "name": "stderr",
     "output_type": "stream",
     "text": [
      "\r",
      "Epoch 1/25 - Training:  27%|██▋       | 37/137 [09:51<24:56, 14.97s/it]"
     ]
    },
    {
     "name": "stderr",
     "output_type": "stream",
     "text": [
      "\r",
      "Epoch 1/25 - Training:  28%|██▊       | 38/137 [10:02<22:56, 13.91s/it]"
     ]
    },
    {
     "name": "stderr",
     "output_type": "stream",
     "text": [
      "\r",
      "Epoch 1/25 - Training:  28%|██▊       | 39/137 [10:23<25:53, 15.85s/it]"
     ]
    },
    {
     "name": "stderr",
     "output_type": "stream",
     "text": [
      "\r",
      "Epoch 1/25 - Training:  29%|██▉       | 40/137 [10:35<23:58, 14.83s/it]"
     ]
    },
    {
     "name": "stderr",
     "output_type": "stream",
     "text": [
      "\r",
      "Epoch 1/25 - Training:  30%|██▉       | 41/137 [10:51<24:04, 15.05s/it]"
     ]
    },
    {
     "name": "stderr",
     "output_type": "stream",
     "text": [
      "\r",
      "Epoch 1/25 - Training:  31%|███       | 42/137 [11:04<23:00, 14.54s/it]"
     ]
    },
    {
     "name": "stderr",
     "output_type": "stream",
     "text": [
      "\r",
      "Epoch 1/25 - Training:  31%|███▏      | 43/137 [11:19<22:45, 14.52s/it]"
     ]
    },
    {
     "name": "stderr",
     "output_type": "stream",
     "text": [
      "\r",
      "Epoch 1/25 - Training:  32%|███▏      | 44/137 [11:28<20:07, 12.98s/it]"
     ]
    },
    {
     "name": "stderr",
     "output_type": "stream",
     "text": [
      "\r",
      "Epoch 1/25 - Training:  33%|███▎      | 45/137 [11:51<24:38, 16.07s/it]"
     ]
    },
    {
     "name": "stderr",
     "output_type": "stream",
     "text": [
      "\r",
      "Epoch 1/25 - Training:  34%|███▎      | 46/137 [12:01<21:17, 14.04s/it]"
     ]
    },
    {
     "name": "stderr",
     "output_type": "stream",
     "text": [
      "\r",
      "Epoch 1/25 - Training:  34%|███▍      | 47/137 [12:25<25:32, 17.02s/it]"
     ]
    },
    {
     "name": "stderr",
     "output_type": "stream",
     "text": [
      "\r",
      "Epoch 1/25 - Training:  35%|███▌      | 48/137 [12:34<21:51, 14.74s/it]"
     ]
    },
    {
     "name": "stderr",
     "output_type": "stream",
     "text": [
      "\r",
      "Epoch 1/25 - Training:  36%|███▌      | 49/137 [12:53<23:26, 15.99s/it]"
     ]
    },
    {
     "name": "stderr",
     "output_type": "stream",
     "text": [
      "\r",
      "Epoch 1/25 - Training:  36%|███▋      | 50/137 [12:58<18:39, 12.87s/it]"
     ]
    },
    {
     "name": "stderr",
     "output_type": "stream",
     "text": [
      "\r",
      "Epoch 1/25 - Training:  37%|███▋      | 51/137 [13:26<24:36, 17.17s/it]"
     ]
    },
    {
     "name": "stderr",
     "output_type": "stream",
     "text": [
      "\r",
      "Epoch 1/25 - Training:  38%|███▊      | 52/137 [13:28<17:53, 12.63s/it]"
     ]
    },
    {
     "name": "stderr",
     "output_type": "stream",
     "text": [
      "\r",
      "Epoch 1/25 - Training:  39%|███▊      | 53/137 [13:58<25:05, 17.92s/it]"
     ]
    },
    {
     "name": "stderr",
     "output_type": "stream",
     "text": [
      "\r",
      "Epoch 1/25 - Training:  39%|███▉      | 54/137 [14:00<18:11, 13.15s/it]"
     ]
    },
    {
     "name": "stderr",
     "output_type": "stream",
     "text": [
      "\r",
      "Epoch 1/25 - Training:  40%|████      | 55/137 [14:31<25:16, 18.50s/it]"
     ]
    },
    {
     "name": "stderr",
     "output_type": "stream",
     "text": [
      "\r",
      "Epoch 1/25 - Training:  41%|████      | 56/137 [14:33<18:21, 13.60s/it]"
     ]
    },
    {
     "name": "stderr",
     "output_type": "stream",
     "text": [
      "\r",
      "Epoch 1/25 - Training:  42%|████▏     | 57/137 [15:01<23:40, 17.76s/it]"
     ]
    },
    {
     "name": "stderr",
     "output_type": "stream",
     "text": [
      "\r",
      "Epoch 1/25 - Training:  42%|████▏     | 58/137 [15:03<17:08, 13.02s/it]"
     ]
    },
    {
     "name": "stderr",
     "output_type": "stream",
     "text": [
      "\r",
      "Epoch 1/25 - Training:  43%|████▎     | 59/137 [15:27<21:33, 16.58s/it]"
     ]
    },
    {
     "name": "stderr",
     "output_type": "stream",
     "text": [
      "\r",
      "Epoch 1/25 - Training:  44%|████▍     | 60/137 [15:31<16:19, 12.71s/it]"
     ]
    },
    {
     "name": "stderr",
     "output_type": "stream",
     "text": [
      "\r",
      "Epoch 1/25 - Training:  45%|████▍     | 61/137 [16:00<22:18, 17.61s/it]"
     ]
    },
    {
     "name": "stderr",
     "output_type": "stream",
     "text": [
      "\r",
      "Epoch 1/25 - Training:  45%|████▌     | 62/137 [16:01<15:44, 12.60s/it]"
     ]
    },
    {
     "name": "stderr",
     "output_type": "stream",
     "text": [
      "\r",
      "Epoch 1/25 - Training:  46%|████▌     | 63/137 [16:29<21:08, 17.15s/it]"
     ]
    },
    {
     "name": "stderr",
     "output_type": "stream",
     "text": [
      "\r",
      "Epoch 1/25 - Training:  47%|████▋     | 64/137 [16:32<15:51, 13.03s/it]"
     ]
    },
    {
     "name": "stderr",
     "output_type": "stream",
     "text": [
      "\r",
      "Epoch 1/25 - Training:  47%|████▋     | 65/137 [17:01<21:24, 17.84s/it]"
     ]
    },
    {
     "name": "stderr",
     "output_type": "stream",
     "text": [
      "\r",
      "Epoch 1/25 - Training:  48%|████▊     | 66/137 [17:04<15:51, 13.40s/it]"
     ]
    },
    {
     "name": "stderr",
     "output_type": "stream",
     "text": [
      "\r",
      "Epoch 1/25 - Training:  49%|████▉     | 67/137 [17:33<20:53, 17.91s/it]"
     ]
    },
    {
     "name": "stderr",
     "output_type": "stream",
     "text": [
      "\r",
      "Epoch 1/25 - Training:  50%|████▉     | 68/137 [17:38<16:18, 14.19s/it]"
     ]
    },
    {
     "name": "stderr",
     "output_type": "stream",
     "text": [
      "\r",
      "Epoch 1/25 - Training:  50%|█████     | 69/137 [18:00<18:35, 16.40s/it]"
     ]
    },
    {
     "name": "stderr",
     "output_type": "stream",
     "text": [
      "\r",
      "Epoch 1/25 - Training:  51%|█████     | 70/137 [18:11<16:39, 14.91s/it]"
     ]
    },
    {
     "name": "stderr",
     "output_type": "stream",
     "text": [
      "\r",
      "Epoch 1/25 - Training:  52%|█████▏    | 71/137 [18:33<18:31, 16.84s/it]"
     ]
    },
    {
     "name": "stderr",
     "output_type": "stream",
     "text": [
      "\r",
      "Epoch 1/25 - Training:  53%|█████▎    | 72/137 [18:40<15:07, 13.96s/it]"
     ]
    },
    {
     "name": "stderr",
     "output_type": "stream",
     "text": [
      "\r",
      "Epoch 1/25 - Training:  53%|█████▎    | 73/137 [18:58<16:16, 15.26s/it]"
     ]
    },
    {
     "name": "stderr",
     "output_type": "stream",
     "text": [
      "\r",
      "Epoch 1/25 - Training:  54%|█████▍    | 74/137 [19:09<14:29, 13.80s/it]"
     ]
    },
    {
     "name": "stderr",
     "output_type": "stream",
     "text": [
      "\r",
      "Epoch 1/25 - Training:  55%|█████▍    | 75/137 [19:29<16:27, 15.92s/it]"
     ]
    },
    {
     "name": "stderr",
     "output_type": "stream",
     "text": [
      "\r",
      "Epoch 1/25 - Training:  55%|█████▌    | 76/137 [19:41<14:48, 14.56s/it]"
     ]
    },
    {
     "name": "stderr",
     "output_type": "stream",
     "text": [
      "\r",
      "Epoch 1/25 - Training:  56%|█████▌    | 77/137 [19:58<15:12, 15.21s/it]"
     ]
    },
    {
     "name": "stderr",
     "output_type": "stream",
     "text": [
      "\r",
      "Epoch 1/25 - Training:  57%|█████▋    | 78/137 [20:13<15:07, 15.39s/it]"
     ]
    },
    {
     "name": "stderr",
     "output_type": "stream",
     "text": [
      "\r",
      "Epoch 1/25 - Training:  58%|█████▊    | 79/137 [20:25<13:55, 14.40s/it]"
     ]
    },
    {
     "name": "stderr",
     "output_type": "stream",
     "text": [
      "\r",
      "Epoch 1/25 - Training:  58%|█████▊    | 80/137 [20:46<15:18, 16.11s/it]"
     ]
    },
    {
     "name": "stderr",
     "output_type": "stream",
     "text": [
      "\r",
      "Epoch 1/25 - Training:  59%|█████▉    | 81/137 [20:58<13:57, 14.96s/it]"
     ]
    },
    {
     "name": "stderr",
     "output_type": "stream",
     "text": [
      "\r",
      "Epoch 1/25 - Training:  60%|█████▉    | 82/137 [21:18<15:15, 16.65s/it]"
     ]
    },
    {
     "name": "stderr",
     "output_type": "stream",
     "text": [
      "\r",
      "Epoch 1/25 - Training:  61%|██████    | 83/137 [21:30<13:43, 15.25s/it]"
     ]
    },
    {
     "name": "stderr",
     "output_type": "stream",
     "text": [
      "\r",
      "Epoch 1/25 - Training:  61%|██████▏   | 84/137 [21:47<13:56, 15.78s/it]"
     ]
    },
    {
     "name": "stderr",
     "output_type": "stream",
     "text": [
      "\r",
      "Epoch 1/25 - Training:  62%|██████▏   | 85/137 [22:03<13:41, 15.80s/it]"
     ]
    },
    {
     "name": "stderr",
     "output_type": "stream",
     "text": [
      "\r",
      "Epoch 1/25 - Training:  63%|██████▎   | 86/137 [22:12<11:43, 13.80s/it]"
     ]
    },
    {
     "name": "stderr",
     "output_type": "stream",
     "text": [
      "\r",
      "Epoch 1/25 - Training:  64%|██████▎   | 87/137 [22:36<13:52, 16.65s/it]"
     ]
    },
    {
     "name": "stderr",
     "output_type": "stream",
     "text": [
      "\r",
      "Epoch 1/25 - Training:  64%|██████▍   | 88/137 [22:41<10:47, 13.21s/it]"
     ]
    },
    {
     "name": "stderr",
     "output_type": "stream",
     "text": [
      "\r",
      "Epoch 1/25 - Training:  65%|██████▍   | 89/137 [23:01<12:09, 15.20s/it]"
     ]
    },
    {
     "name": "stderr",
     "output_type": "stream",
     "text": [
      "\r",
      "Epoch 1/25 - Training:  66%|██████▌   | 90/137 [23:09<10:16, 13.12s/it]"
     ]
    },
    {
     "name": "stderr",
     "output_type": "stream",
     "text": [
      "\r",
      "Epoch 1/25 - Training:  66%|██████▋   | 91/137 [23:25<10:43, 13.98s/it]"
     ]
    },
    {
     "name": "stderr",
     "output_type": "stream",
     "text": [
      "\r",
      "Epoch 1/25 - Training:  67%|██████▋   | 92/137 [23:42<11:05, 14.79s/it]"
     ]
    },
    {
     "name": "stderr",
     "output_type": "stream",
     "text": [
      "\r",
      "Epoch 1/25 - Training:  68%|██████▊   | 93/137 [23:56<10:50, 14.79s/it]"
     ]
    },
    {
     "name": "stderr",
     "output_type": "stream",
     "text": [
      "\r",
      "Epoch 1/25 - Training:  69%|██████▊   | 94/137 [24:14<11:15, 15.71s/it]"
     ]
    },
    {
     "name": "stderr",
     "output_type": "stream",
     "text": [
      "\r",
      "Epoch 1/25 - Training:  69%|██████▉   | 95/137 [24:26<10:05, 14.41s/it]"
     ]
    },
    {
     "name": "stderr",
     "output_type": "stream",
     "text": [
      "\r",
      "Epoch 1/25 - Training:  70%|███████   | 96/137 [24:47<11:15, 16.48s/it]"
     ]
    },
    {
     "name": "stderr",
     "output_type": "stream",
     "text": [
      "\r",
      "Epoch 1/25 - Training:  71%|███████   | 97/137 [24:58<09:51, 14.79s/it]"
     ]
    },
    {
     "name": "stderr",
     "output_type": "stream",
     "text": [
      "\r",
      "Epoch 1/25 - Training:  72%|███████▏  | 98/137 [25:16<10:17, 15.83s/it]"
     ]
    },
    {
     "name": "stderr",
     "output_type": "stream",
     "text": [
      "\r",
      "Epoch 1/25 - Training:  72%|███████▏  | 99/137 [25:30<09:34, 15.11s/it]"
     ]
    },
    {
     "name": "stderr",
     "output_type": "stream",
     "text": [
      "\r",
      "Epoch 1/25 - Training:  73%|███████▎  | 100/137 [25:49<10:10, 16.51s/it]"
     ]
    },
    {
     "name": "stderr",
     "output_type": "stream",
     "text": [
      "\r",
      "Epoch 1/25 - Training:  74%|███████▎  | 101/137 [26:02<09:13, 15.37s/it]"
     ]
    },
    {
     "name": "stderr",
     "output_type": "stream",
     "text": [
      "\r",
      "Epoch 1/25 - Training:  74%|███████▍  | 102/137 [26:23<09:55, 17.03s/it]"
     ]
    },
    {
     "name": "stderr",
     "output_type": "stream",
     "text": [
      "\r",
      "Epoch 1/25 - Training:  75%|███████▌  | 103/137 [26:27<07:21, 12.99s/it]"
     ]
    },
    {
     "name": "stderr",
     "output_type": "stream",
     "text": [
      "\r",
      "Epoch 1/25 - Training:  76%|███████▌  | 104/137 [26:49<08:37, 15.69s/it]"
     ]
    },
    {
     "name": "stderr",
     "output_type": "stream",
     "text": [
      "\r",
      "Epoch 1/25 - Training:  77%|███████▋  | 105/137 [27:00<07:39, 14.37s/it]"
     ]
    },
    {
     "name": "stderr",
     "output_type": "stream",
     "text": [
      "\r",
      "Epoch 1/25 - Training:  77%|███████▋  | 106/137 [27:14<07:19, 14.18s/it]"
     ]
    },
    {
     "name": "stderr",
     "output_type": "stream",
     "text": [
      "\r",
      "Epoch 1/25 - Training:  78%|███████▊  | 107/137 [27:33<07:48, 15.63s/it]"
     ]
    },
    {
     "name": "stderr",
     "output_type": "stream",
     "text": [
      "\r",
      "Epoch 1/25 - Training:  79%|███████▉  | 108/137 [27:38<06:05, 12.61s/it]"
     ]
    },
    {
     "name": "stderr",
     "output_type": "stream",
     "text": [
      "\r",
      "Epoch 1/25 - Training:  80%|███████▉  | 109/137 [28:05<07:53, 16.90s/it]"
     ]
    },
    {
     "name": "stderr",
     "output_type": "stream",
     "text": [
      "\r",
      "Epoch 1/25 - Training:  80%|████████  | 110/137 [28:06<05:26, 12.10s/it]"
     ]
    },
    {
     "name": "stderr",
     "output_type": "stream",
     "text": [
      "\r",
      "Epoch 1/25 - Training:  81%|████████  | 111/137 [28:38<07:50, 18.08s/it]"
     ]
    },
    {
     "name": "stderr",
     "output_type": "stream",
     "text": [
      "\r",
      "Epoch 1/25 - Training:  82%|████████▏ | 112/137 [28:39<05:23, 12.93s/it]"
     ]
    },
    {
     "name": "stderr",
     "output_type": "stream",
     "text": [
      "\r",
      "Epoch 1/25 - Training:  82%|████████▏ | 113/137 [29:07<07:00, 17.52s/it]"
     ]
    },
    {
     "name": "stderr",
     "output_type": "stream",
     "text": [
      "\r",
      "Epoch 1/25 - Training:  83%|████████▎ | 114/137 [29:08<04:48, 12.53s/it]"
     ]
    },
    {
     "name": "stderr",
     "output_type": "stream",
     "text": [
      "\r",
      "Epoch 1/25 - Training:  84%|████████▍ | 115/137 [29:40<06:46, 18.49s/it]"
     ]
    },
    {
     "name": "stderr",
     "output_type": "stream",
     "text": [
      "\r",
      "Epoch 1/25 - Training:  85%|████████▍ | 116/137 [29:41<04:37, 13.21s/it]"
     ]
    },
    {
     "name": "stderr",
     "output_type": "stream",
     "text": [
      "\r",
      "Epoch 1/25 - Training:  85%|████████▌ | 117/137 [30:13<06:16, 18.83s/it]"
     ]
    },
    {
     "name": "stderr",
     "output_type": "stream",
     "text": [
      "\r",
      "Epoch 1/25 - Training:  86%|████████▌ | 118/137 [30:14<04:15, 13.45s/it]"
     ]
    },
    {
     "name": "stderr",
     "output_type": "stream",
     "text": [
      "\r",
      "Epoch 1/25 - Training:  87%|████████▋ | 119/137 [30:46<05:41, 18.96s/it]"
     ]
    },
    {
     "name": "stderr",
     "output_type": "stream",
     "text": [
      "\r",
      "Epoch 1/25 - Training:  88%|████████▊ | 120/137 [30:47<03:50, 13.54s/it]"
     ]
    },
    {
     "name": "stderr",
     "output_type": "stream",
     "text": [
      "\r",
      "Epoch 1/25 - Training:  88%|████████▊ | 121/137 [31:14<04:43, 17.70s/it]"
     ]
    },
    {
     "name": "stderr",
     "output_type": "stream",
     "text": [
      "\r",
      "Epoch 1/25 - Training:  89%|████████▉ | 122/137 [31:15<03:09, 12.66s/it]"
     ]
    },
    {
     "name": "stderr",
     "output_type": "stream",
     "text": [
      "\r",
      "Epoch 1/25 - Training:  90%|████████▉ | 123/137 [31:47<04:18, 18.46s/it]"
     ]
    },
    {
     "name": "stderr",
     "output_type": "stream",
     "text": [
      "\r",
      "Epoch 1/25 - Training:  91%|█████████ | 124/137 [31:48<02:51, 13.20s/it]"
     ]
    },
    {
     "name": "stderr",
     "output_type": "stream",
     "text": [
      "\r",
      "Epoch 1/25 - Training:  91%|█████████ | 125/137 [32:20<03:45, 18.76s/it]"
     ]
    },
    {
     "name": "stderr",
     "output_type": "stream",
     "text": [
      "\r",
      "Epoch 1/25 - Training:  92%|█████████▏| 126/137 [32:21<02:27, 13.40s/it]"
     ]
    },
    {
     "name": "stderr",
     "output_type": "stream",
     "text": [
      "\r",
      "Epoch 1/25 - Training:  93%|█████████▎| 127/137 [32:48<02:57, 17.71s/it]"
     ]
    },
    {
     "name": "stderr",
     "output_type": "stream",
     "text": [
      "\r",
      "Epoch 1/25 - Training:  93%|█████████▎| 128/137 [32:49<01:54, 12.67s/it]"
     ]
    },
    {
     "name": "stderr",
     "output_type": "stream",
     "text": [
      "\r",
      "Epoch 1/25 - Training:  94%|█████████▍| 129/137 [33:22<02:29, 18.65s/it]"
     ]
    },
    {
     "name": "stderr",
     "output_type": "stream",
     "text": [
      "\r",
      "Epoch 1/25 - Training:  95%|█████████▍| 130/137 [33:23<01:33, 13.33s/it]"
     ]
    },
    {
     "name": "stderr",
     "output_type": "stream",
     "text": [
      "\r",
      "Epoch 1/25 - Training:  96%|█████████▌| 131/137 [33:54<01:52, 18.77s/it]"
     ]
    },
    {
     "name": "stderr",
     "output_type": "stream",
     "text": [
      "\r",
      "Epoch 1/25 - Training:  96%|█████████▋| 132/137 [33:55<01:07, 13.41s/it]"
     ]
    },
    {
     "name": "stderr",
     "output_type": "stream",
     "text": [
      "\r",
      "Epoch 1/25 - Training:  97%|█████████▋| 133/137 [34:27<01:15, 18.94s/it]"
     ]
    },
    {
     "name": "stderr",
     "output_type": "stream",
     "text": [
      "\r",
      "Epoch 1/25 - Training:  98%|█████████▊| 134/137 [34:28<00:40, 13.53s/it]"
     ]
    },
    {
     "name": "stderr",
     "output_type": "stream",
     "text": [
      "\r",
      "Epoch 1/25 - Training:  99%|█████████▊| 135/137 [34:50<00:32, 16.21s/it]"
     ]
    },
    {
     "name": "stderr",
     "output_type": "stream",
     "text": [
      "\r",
      "Epoch 1/25 - Training:  99%|█████████▉| 136/137 [34:51<00:11, 11.62s/it]"
     ]
    },
    {
     "name": "stderr",
     "output_type": "stream",
     "text": [
      "\r",
      "Epoch 1/25 - Training: 100%|██████████| 137/137 [35:12<00:00, 14.35s/it]"
     ]
    },
    {
     "name": "stderr",
     "output_type": "stream",
     "text": [
      "\r",
      "Epoch 1/25 - Training: 100%|██████████| 137/137 [35:12<00:00, 15.42s/it]"
     ]
    },
    {
     "name": "stderr",
     "output_type": "stream",
     "text": [
      "\n"
     ]
    },
    {
     "name": "stderr",
     "output_type": "stream",
     "text": [
      "\r",
      "Epoch 1/25 - Validation:   0%|          | 0/137 [00:00<?, ?it/s]"
     ]
    },
    {
     "name": "stderr",
     "output_type": "stream",
     "text": [
      "\r",
      "Epoch 1/25 - Validation:   1%|          | 1/137 [00:34<1:17:33, 34.22s/it]"
     ]
    },
    {
     "name": "stderr",
     "output_type": "stream",
     "text": [
      "\r",
      "Epoch 1/25 - Validation:   1%|▏         | 2/137 [00:34<32:07, 14.28s/it]  "
     ]
    },
    {
     "name": "stderr",
     "output_type": "stream",
     "text": [
      "\r",
      "Epoch 1/25 - Validation:   2%|▏         | 3/137 [01:07<51:06, 22.88s/it]"
     ]
    },
    {
     "name": "stderr",
     "output_type": "stream",
     "text": [
      "\r",
      "Epoch 1/25 - Validation:   3%|▎         | 4/137 [01:07<30:58, 13.97s/it]"
     ]
    },
    {
     "name": "stderr",
     "output_type": "stream",
     "text": [
      "\r",
      "Epoch 1/25 - Validation:   4%|▎         | 5/137 [01:39<45:01, 20.46s/it]"
     ]
    },
    {
     "name": "stderr",
     "output_type": "stream",
     "text": [
      "\r",
      "Epoch 1/25 - Validation:   4%|▍         | 6/137 [01:40<29:43, 13.61s/it]"
     ]
    },
    {
     "name": "stderr",
     "output_type": "stream",
     "text": [
      "\r",
      "Epoch 1/25 - Validation:   5%|▌         | 7/137 [02:12<42:33, 19.65s/it]"
     ]
    },
    {
     "name": "stderr",
     "output_type": "stream",
     "text": [
      "\r",
      "Epoch 1/25 - Validation:   6%|▌         | 8/137 [02:12<29:00, 13.49s/it]"
     ]
    },
    {
     "name": "stderr",
     "output_type": "stream",
     "text": [
      "\r",
      "Epoch 1/25 - Validation:   7%|▋         | 9/137 [02:44<41:01, 19.23s/it]"
     ]
    },
    {
     "name": "stderr",
     "output_type": "stream",
     "text": [
      "\r",
      "Epoch 1/25 - Validation:   7%|▋         | 10/137 [02:44<28:20, 13.39s/it]"
     ]
    },
    {
     "name": "stderr",
     "output_type": "stream",
     "text": [
      "\r",
      "Epoch 1/25 - Validation:   8%|▊         | 11/137 [03:17<40:24, 19.24s/it]"
     ]
    },
    {
     "name": "stderr",
     "output_type": "stream",
     "text": [
      "\r",
      "Epoch 1/25 - Validation:   9%|▉         | 12/137 [03:17<28:05, 13.48s/it]"
     ]
    },
    {
     "name": "stderr",
     "output_type": "stream",
     "text": [
      "\r",
      "Epoch 1/25 - Validation:   9%|▉         | 13/137 [03:50<39:45, 19.23s/it]"
     ]
    },
    {
     "name": "stderr",
     "output_type": "stream",
     "text": [
      "\r",
      "Epoch 1/25 - Validation:  10%|█         | 14/137 [03:50<27:42, 13.52s/it]"
     ]
    },
    {
     "name": "stderr",
     "output_type": "stream",
     "text": [
      "\r",
      "Epoch 1/25 - Validation:  11%|█         | 15/137 [04:22<38:55, 19.14s/it]"
     ]
    },
    {
     "name": "stderr",
     "output_type": "stream",
     "text": [
      "\r",
      "Epoch 1/25 - Validation:  12%|█▏        | 16/137 [04:22<27:10, 13.47s/it]"
     ]
    },
    {
     "name": "stderr",
     "output_type": "stream",
     "text": [
      "\r",
      "Epoch 1/25 - Validation:  12%|█▏        | 17/137 [04:54<37:55, 18.96s/it]"
     ]
    },
    {
     "name": "stderr",
     "output_type": "stream",
     "text": [
      "\r",
      "Epoch 1/25 - Validation:  13%|█▎        | 18/137 [04:54<26:29, 13.36s/it]"
     ]
    },
    {
     "name": "stderr",
     "output_type": "stream",
     "text": [
      "\r",
      "Epoch 1/25 - Validation:  14%|█▍        | 19/137 [05:27<37:43, 19.18s/it]"
     ]
    },
    {
     "name": "stderr",
     "output_type": "stream",
     "text": [
      "\r",
      "Epoch 1/25 - Validation:  15%|█▍        | 20/137 [05:27<26:21, 13.52s/it]"
     ]
    },
    {
     "name": "stderr",
     "output_type": "stream",
     "text": [
      "\r",
      "Epoch 1/25 - Validation:  15%|█▌        | 21/137 [06:00<36:58, 19.12s/it]"
     ]
    },
    {
     "name": "stderr",
     "output_type": "stream",
     "text": [
      "\r",
      "Epoch 1/25 - Validation:  16%|█▌        | 22/137 [06:00<25:49, 13.48s/it]"
     ]
    },
    {
     "name": "stderr",
     "output_type": "stream",
     "text": [
      "\r",
      "Epoch 1/25 - Validation:  17%|█▋        | 23/137 [06:32<36:21, 19.13s/it]"
     ]
    },
    {
     "name": "stderr",
     "output_type": "stream",
     "text": [
      "\r",
      "Epoch 1/25 - Validation:  18%|█▊        | 24/137 [06:33<25:23, 13.49s/it]"
     ]
    },
    {
     "name": "stderr",
     "output_type": "stream",
     "text": [
      "\r",
      "Epoch 1/25 - Validation:  18%|█▊        | 25/137 [07:05<35:53, 19.22s/it]"
     ]
    },
    {
     "name": "stderr",
     "output_type": "stream",
     "text": [
      "\r",
      "Epoch 1/25 - Validation:  19%|█▉        | 26/137 [07:06<25:04, 13.55s/it]"
     ]
    },
    {
     "name": "stderr",
     "output_type": "stream",
     "text": [
      "\r",
      "Epoch 1/25 - Validation:  20%|█▉        | 27/137 [07:36<34:24, 18.77s/it]"
     ]
    },
    {
     "name": "stderr",
     "output_type": "stream",
     "text": [
      "\r",
      "Epoch 1/25 - Validation:  20%|██        | 28/137 [07:37<24:16, 13.36s/it]"
     ]
    },
    {
     "name": "stderr",
     "output_type": "stream",
     "text": [
      "\r",
      "Epoch 1/25 - Validation:  21%|██        | 29/137 [08:09<34:12, 19.00s/it]"
     ]
    },
    {
     "name": "stderr",
     "output_type": "stream",
     "text": [
      "\r",
      "Epoch 1/25 - Validation:  22%|██▏       | 30/137 [08:10<23:53, 13.40s/it]"
     ]
    },
    {
     "name": "stderr",
     "output_type": "stream",
     "text": [
      "\r",
      "Epoch 1/25 - Validation:  23%|██▎       | 31/137 [08:43<34:02, 19.27s/it]"
     ]
    },
    {
     "name": "stderr",
     "output_type": "stream",
     "text": [
      "\r",
      "Epoch 1/25 - Validation:  23%|██▎       | 32/137 [08:43<23:46, 13.58s/it]"
     ]
    },
    {
     "name": "stderr",
     "output_type": "stream",
     "text": [
      "\r",
      "Epoch 1/25 - Validation:  24%|██▍       | 33/137 [09:16<33:39, 19.41s/it]"
     ]
    },
    {
     "name": "stderr",
     "output_type": "stream",
     "text": [
      "\r",
      "Epoch 1/25 - Validation:  25%|██▍       | 34/137 [09:16<23:29, 13.68s/it]"
     ]
    },
    {
     "name": "stderr",
     "output_type": "stream",
     "text": [
      "\r",
      "Epoch 1/25 - Validation:  26%|██▌       | 35/137 [09:49<32:52, 19.34s/it]"
     ]
    },
    {
     "name": "stderr",
     "output_type": "stream",
     "text": [
      "\r",
      "Epoch 1/25 - Validation:  26%|██▋       | 36/137 [09:49<22:56, 13.63s/it]"
     ]
    },
    {
     "name": "stderr",
     "output_type": "stream",
     "text": [
      "\r",
      "Epoch 1/25 - Validation:  27%|██▋       | 37/137 [10:22<32:28, 19.49s/it]"
     ]
    },
    {
     "name": "stderr",
     "output_type": "stream",
     "text": [
      "\r",
      "Epoch 1/25 - Validation:  28%|██▊       | 38/137 [10:23<22:39, 13.73s/it]"
     ]
    },
    {
     "name": "stderr",
     "output_type": "stream",
     "text": [
      "\r",
      "Epoch 1/25 - Validation:  28%|██▊       | 39/137 [10:55<31:28, 19.27s/it]"
     ]
    },
    {
     "name": "stderr",
     "output_type": "stream",
     "text": [
      "\r",
      "Epoch 1/25 - Validation:  29%|██▉       | 40/137 [10:56<22:21, 13.82s/it]"
     ]
    },
    {
     "name": "stderr",
     "output_type": "stream",
     "text": [
      "\r",
      "Epoch 1/25 - Validation:  30%|██▉       | 41/137 [11:28<31:03, 19.41s/it]"
     ]
    },
    {
     "name": "stderr",
     "output_type": "stream",
     "text": [
      "\r",
      "Epoch 1/25 - Validation:  31%|███       | 42/137 [11:29<21:39, 13.68s/it]"
     ]
    },
    {
     "name": "stderr",
     "output_type": "stream",
     "text": [
      "\r",
      "Epoch 1/25 - Validation:  31%|███▏      | 43/137 [12:01<30:22, 19.39s/it]"
     ]
    },
    {
     "name": "stderr",
     "output_type": "stream",
     "text": [
      "\r",
      "Epoch 1/25 - Validation:  32%|███▏      | 44/137 [12:02<21:10, 13.66s/it]"
     ]
    },
    {
     "name": "stderr",
     "output_type": "stream",
     "text": [
      "\r",
      "Epoch 1/25 - Validation:  33%|███▎      | 45/137 [12:34<29:18, 19.11s/it]"
     ]
    },
    {
     "name": "stderr",
     "output_type": "stream",
     "text": [
      "\r",
      "Epoch 1/25 - Validation:  34%|███▎      | 46/137 [12:34<20:25, 13.47s/it]"
     ]
    },
    {
     "name": "stderr",
     "output_type": "stream",
     "text": [
      "\r",
      "Epoch 1/25 - Validation:  34%|███▍      | 47/137 [13:07<28:58, 19.32s/it]"
     ]
    },
    {
     "name": "stderr",
     "output_type": "stream",
     "text": [
      "\r",
      "Epoch 1/25 - Validation:  35%|███▌      | 48/137 [13:07<20:11, 13.62s/it]"
     ]
    },
    {
     "name": "stderr",
     "output_type": "stream",
     "text": [
      "\r",
      "Epoch 1/25 - Validation:  36%|███▌      | 49/137 [13:39<28:11, 19.22s/it]"
     ]
    },
    {
     "name": "stderr",
     "output_type": "stream",
     "text": [
      "\r",
      "Epoch 1/25 - Validation:  36%|███▋      | 50/137 [13:40<19:38, 13.55s/it]"
     ]
    },
    {
     "name": "stderr",
     "output_type": "stream",
     "text": [
      "\r",
      "Epoch 1/25 - Validation:  37%|███▋      | 51/137 [14:12<27:27, 19.16s/it]"
     ]
    },
    {
     "name": "stderr",
     "output_type": "stream",
     "text": [
      "\r",
      "Epoch 1/25 - Validation:  38%|███▊      | 52/137 [14:12<19:07, 13.50s/it]"
     ]
    },
    {
     "name": "stderr",
     "output_type": "stream",
     "text": [
      "\r",
      "Epoch 1/25 - Validation:  39%|███▊      | 53/137 [14:44<26:43, 19.09s/it]"
     ]
    },
    {
     "name": "stderr",
     "output_type": "stream",
     "text": [
      "\r",
      "Epoch 1/25 - Validation:  39%|███▉      | 54/137 [14:45<18:36, 13.45s/it]"
     ]
    },
    {
     "name": "stderr",
     "output_type": "stream",
     "text": [
      "\r",
      "Epoch 1/25 - Validation:  40%|████      | 55/137 [15:17<26:09, 19.14s/it]"
     ]
    },
    {
     "name": "stderr",
     "output_type": "stream",
     "text": [
      "\r",
      "Epoch 1/25 - Validation:  41%|████      | 56/137 [15:18<18:18, 13.56s/it]"
     ]
    },
    {
     "name": "stderr",
     "output_type": "stream",
     "text": [
      "\r",
      "Epoch 1/25 - Validation:  42%|████▏     | 57/137 [15:50<25:31, 19.15s/it]"
     ]
    },
    {
     "name": "stderr",
     "output_type": "stream",
     "text": [
      "\r",
      "Epoch 1/25 - Validation:  42%|████▏     | 58/137 [15:50<17:51, 13.56s/it]"
     ]
    },
    {
     "name": "stderr",
     "output_type": "stream",
     "text": [
      "\r",
      "Epoch 1/25 - Validation:  43%|████▎     | 59/137 [16:23<25:12, 19.39s/it]"
     ]
    },
    {
     "name": "stderr",
     "output_type": "stream",
     "text": [
      "\r",
      "Epoch 1/25 - Validation:  44%|████▍     | 60/137 [16:24<17:32, 13.67s/it]"
     ]
    },
    {
     "name": "stderr",
     "output_type": "stream",
     "text": [
      "\r",
      "Epoch 1/25 - Validation:  45%|████▍     | 61/137 [16:56<24:34, 19.40s/it]"
     ]
    },
    {
     "name": "stderr",
     "output_type": "stream",
     "text": [
      "\r",
      "Epoch 1/25 - Validation:  45%|████▌     | 62/137 [16:57<17:05, 13.67s/it]"
     ]
    },
    {
     "name": "stderr",
     "output_type": "stream",
     "text": [
      "\r",
      "Epoch 1/25 - Validation:  46%|████▌     | 63/137 [17:29<23:48, 19.30s/it]"
     ]
    },
    {
     "name": "stderr",
     "output_type": "stream",
     "text": [
      "\r",
      "Epoch 1/25 - Validation:  47%|████▋     | 64/137 [17:30<16:33, 13.60s/it]"
     ]
    },
    {
     "name": "stderr",
     "output_type": "stream",
     "text": [
      "\r",
      "Epoch 1/25 - Validation:  47%|████▋     | 65/137 [18:03<23:31, 19.61s/it]"
     ]
    },
    {
     "name": "stderr",
     "output_type": "stream",
     "text": [
      "\r",
      "Epoch 1/25 - Validation:  48%|████▊     | 66/137 [18:03<16:21, 13.82s/it]"
     ]
    },
    {
     "name": "stderr",
     "output_type": "stream",
     "text": [
      "\r",
      "Epoch 1/25 - Validation:  49%|████▉     | 67/137 [18:36<22:39, 19.43s/it]"
     ]
    },
    {
     "name": "stderr",
     "output_type": "stream",
     "text": [
      "\r",
      "Epoch 1/25 - Validation:  50%|████▉     | 68/137 [18:36<15:44, 13.69s/it]"
     ]
    },
    {
     "name": "stderr",
     "output_type": "stream",
     "text": [
      "\r",
      "Epoch 1/25 - Validation:  50%|█████     | 69/137 [19:08<21:47, 19.22s/it]"
     ]
    },
    {
     "name": "stderr",
     "output_type": "stream",
     "text": [
      "\r",
      "Epoch 1/25 - Validation:  51%|█████     | 70/137 [19:09<15:07, 13.55s/it]"
     ]
    },
    {
     "name": "stderr",
     "output_type": "stream",
     "text": [
      "\r",
      "Epoch 1/25 - Validation:  52%|█████▏    | 71/137 [19:40<20:47, 18.90s/it]"
     ]
    },
    {
     "name": "stderr",
     "output_type": "stream",
     "text": [
      "\r",
      "Epoch 1/25 - Validation:  53%|█████▎    | 72/137 [19:40<14:25, 13.32s/it]"
     ]
    },
    {
     "name": "stderr",
     "output_type": "stream",
     "text": [
      "\r",
      "Epoch 1/25 - Validation:  53%|█████▎    | 73/137 [20:13<20:29, 19.21s/it]"
     ]
    },
    {
     "name": "stderr",
     "output_type": "stream",
     "text": [
      "\r",
      "Epoch 1/25 - Validation:  54%|█████▍    | 74/137 [20:14<14:13, 13.54s/it]"
     ]
    },
    {
     "name": "stderr",
     "output_type": "stream",
     "text": [
      "\r",
      "Epoch 1/25 - Validation:  55%|█████▍    | 75/137 [20:45<19:35, 18.96s/it]"
     ]
    },
    {
     "name": "stderr",
     "output_type": "stream",
     "text": [
      "\r",
      "Epoch 1/25 - Validation:  55%|█████▌    | 76/137 [20:46<13:35, 13.36s/it]"
     ]
    },
    {
     "name": "stderr",
     "output_type": "stream",
     "text": [
      "\r",
      "Epoch 1/25 - Validation:  56%|█████▌    | 77/137 [21:18<19:04, 19.07s/it]"
     ]
    },
    {
     "name": "stderr",
     "output_type": "stream",
     "text": [
      "\r",
      "Epoch 1/25 - Validation:  57%|█████▋    | 78/137 [21:18<13:12, 13.44s/it]"
     ]
    },
    {
     "name": "stderr",
     "output_type": "stream",
     "text": [
      "\r",
      "Epoch 1/25 - Validation:  58%|█████▊    | 79/137 [21:51<18:39, 19.30s/it]"
     ]
    },
    {
     "name": "stderr",
     "output_type": "stream",
     "text": [
      "\r",
      "Epoch 1/25 - Validation:  58%|█████▊    | 80/137 [21:52<12:55, 13.60s/it]"
     ]
    },
    {
     "name": "stderr",
     "output_type": "stream",
     "text": [
      "\r",
      "Epoch 1/25 - Validation:  59%|█████▉    | 81/137 [22:24<18:01, 19.32s/it]"
     ]
    },
    {
     "name": "stderr",
     "output_type": "stream",
     "text": [
      "\r",
      "Epoch 1/25 - Validation:  60%|█████▉    | 82/137 [22:25<12:28, 13.62s/it]"
     ]
    },
    {
     "name": "stderr",
     "output_type": "stream",
     "text": [
      "\r",
      "Epoch 1/25 - Validation:  61%|██████    | 83/137 [22:58<17:40, 19.64s/it]"
     ]
    },
    {
     "name": "stderr",
     "output_type": "stream",
     "text": [
      "\r",
      "Epoch 1/25 - Validation:  61%|██████▏   | 84/137 [22:59<12:13, 13.84s/it]"
     ]
    },
    {
     "name": "stderr",
     "output_type": "stream",
     "text": [
      "\r",
      "Epoch 1/25 - Validation:  62%|██████▏   | 85/137 [23:32<17:01, 19.64s/it]"
     ]
    },
    {
     "name": "stderr",
     "output_type": "stream",
     "text": [
      "\r",
      "Epoch 1/25 - Validation:  63%|██████▎   | 86/137 [23:32<11:45, 13.84s/it]"
     ]
    },
    {
     "name": "stderr",
     "output_type": "stream",
     "text": [
      "\r",
      "Epoch 1/25 - Validation:  64%|██████▎   | 87/137 [24:04<16:10, 19.41s/it]"
     ]
    },
    {
     "name": "stderr",
     "output_type": "stream",
     "text": [
      "\r",
      "Epoch 1/25 - Validation:  64%|██████▍   | 88/137 [24:05<11:10, 13.68s/it]"
     ]
    },
    {
     "name": "stderr",
     "output_type": "stream",
     "text": [
      "\r",
      "Epoch 1/25 - Validation:  65%|██████▍   | 89/137 [24:37<15:31, 19.41s/it]"
     ]
    },
    {
     "name": "stderr",
     "output_type": "stream",
     "text": [
      "\r",
      "Epoch 1/25 - Validation:  66%|██████▌   | 90/137 [24:38<10:42, 13.68s/it]"
     ]
    },
    {
     "name": "stderr",
     "output_type": "stream",
     "text": [
      "\r",
      "Epoch 1/25 - Validation:  66%|██████▋   | 91/137 [25:11<15:00, 19.57s/it]"
     ]
    },
    {
     "name": "stderr",
     "output_type": "stream",
     "text": [
      "\r",
      "Epoch 1/25 - Validation:  67%|██████▋   | 92/137 [25:11<10:20, 13.79s/it]"
     ]
    },
    {
     "name": "stderr",
     "output_type": "stream",
     "text": [
      "\r",
      "Epoch 1/25 - Validation:  68%|██████▊   | 93/137 [25:45<14:23, 19.63s/it]"
     ]
    },
    {
     "name": "stderr",
     "output_type": "stream",
     "text": [
      "\r",
      "Epoch 1/25 - Validation:  69%|██████▊   | 94/137 [25:45<09:54, 13.83s/it]"
     ]
    },
    {
     "name": "stderr",
     "output_type": "stream",
     "text": [
      "\r",
      "Epoch 1/25 - Validation:  69%|██████▉   | 95/137 [26:17<13:29, 19.28s/it]"
     ]
    },
    {
     "name": "stderr",
     "output_type": "stream",
     "text": [
      "\r",
      "Epoch 1/25 - Validation:  70%|███████   | 96/137 [26:17<09:16, 13.59s/it]"
     ]
    },
    {
     "name": "stderr",
     "output_type": "stream",
     "text": [
      "\r",
      "Epoch 1/25 - Validation:  71%|███████   | 97/137 [26:52<13:13, 19.83s/it]"
     ]
    },
    {
     "name": "stderr",
     "output_type": "stream",
     "text": [
      "\r",
      "Epoch 1/25 - Validation:  72%|███████▏  | 98/137 [26:52<09:05, 13.97s/it]"
     ]
    },
    {
     "name": "stderr",
     "output_type": "stream",
     "text": [
      "\r",
      "Epoch 1/25 - Validation:  72%|███████▏  | 99/137 [27:24<12:16, 19.38s/it]"
     ]
    },
    {
     "name": "stderr",
     "output_type": "stream",
     "text": [
      "\r",
      "Epoch 1/25 - Validation:  73%|███████▎  | 100/137 [27:24<08:25, 13.66s/it]"
     ]
    },
    {
     "name": "stderr",
     "output_type": "stream",
     "text": [
      "\r",
      "Epoch 1/25 - Validation:  74%|███████▎  | 101/137 [27:57<11:37, 19.37s/it]"
     ]
    },
    {
     "name": "stderr",
     "output_type": "stream",
     "text": [
      "\r",
      "Epoch 1/25 - Validation:  74%|███████▍  | 102/137 [27:57<07:57, 13.65s/it]"
     ]
    },
    {
     "name": "stderr",
     "output_type": "stream",
     "text": [
      "\r",
      "Epoch 1/25 - Validation:  75%|███████▌  | 103/137 [28:30<10:54, 19.24s/it]"
     ]
    },
    {
     "name": "stderr",
     "output_type": "stream",
     "text": [
      "\r",
      "Epoch 1/25 - Validation:  76%|███████▌  | 104/137 [28:30<07:27, 13.56s/it]"
     ]
    },
    {
     "name": "stderr",
     "output_type": "stream",
     "text": [
      "\r",
      "Epoch 1/25 - Validation:  77%|███████▋  | 105/137 [29:03<10:21, 19.44s/it]"
     ]
    },
    {
     "name": "stderr",
     "output_type": "stream",
     "text": [
      "\r",
      "Epoch 1/25 - Validation:  77%|███████▋  | 106/137 [29:03<07:04, 13.70s/it]"
     ]
    },
    {
     "name": "stderr",
     "output_type": "stream",
     "text": [
      "\r",
      "Epoch 1/25 - Validation:  78%|███████▊  | 107/137 [29:36<09:39, 19.32s/it]"
     ]
    },
    {
     "name": "stderr",
     "output_type": "stream",
     "text": [
      "\r",
      "Epoch 1/25 - Validation:  79%|███████▉  | 108/137 [29:36<06:35, 13.62s/it]"
     ]
    },
    {
     "name": "stderr",
     "output_type": "stream",
     "text": [
      "\r",
      "Epoch 1/25 - Validation:  80%|███████▉  | 109/137 [30:08<08:50, 18.96s/it]"
     ]
    },
    {
     "name": "stderr",
     "output_type": "stream",
     "text": [
      "\r",
      "Epoch 1/25 - Validation:  80%|████████  | 110/137 [30:08<06:00, 13.36s/it]"
     ]
    },
    {
     "name": "stderr",
     "output_type": "stream",
     "text": [
      "\r",
      "Epoch 1/25 - Validation:  81%|████████  | 111/137 [30:41<08:22, 19.32s/it]"
     ]
    },
    {
     "name": "stderr",
     "output_type": "stream",
     "text": [
      "\r",
      "Epoch 1/25 - Validation:  82%|████████▏ | 112/137 [30:41<05:40, 13.62s/it]"
     ]
    },
    {
     "name": "stderr",
     "output_type": "stream",
     "text": [
      "\r",
      "Epoch 1/25 - Validation:  82%|████████▏ | 113/137 [31:15<07:49, 19.57s/it]"
     ]
    },
    {
     "name": "stderr",
     "output_type": "stream",
     "text": [
      "\r",
      "Epoch 1/25 - Validation:  83%|████████▎ | 114/137 [31:15<05:17, 13.79s/it]"
     ]
    },
    {
     "name": "stderr",
     "output_type": "stream",
     "text": [
      "\r",
      "Epoch 1/25 - Validation:  84%|████████▍ | 115/137 [31:48<07:06, 19.38s/it]"
     ]
    },
    {
     "name": "stderr",
     "output_type": "stream",
     "text": [
      "\r",
      "Epoch 1/25 - Validation:  85%|████████▍ | 116/137 [31:48<04:46, 13.66s/it]"
     ]
    },
    {
     "name": "stderr",
     "output_type": "stream",
     "text": [
      "\r",
      "Epoch 1/25 - Validation:  85%|████████▌ | 117/137 [32:20<06:25, 19.29s/it]"
     ]
    },
    {
     "name": "stderr",
     "output_type": "stream",
     "text": [
      "\r",
      "Epoch 1/25 - Validation:  86%|████████▌ | 118/137 [32:21<04:18, 13.60s/it]"
     ]
    },
    {
     "name": "stderr",
     "output_type": "stream",
     "text": [
      "\r",
      "Epoch 1/25 - Validation:  87%|████████▋ | 119/137 [32:54<05:50, 19.47s/it]"
     ]
    },
    {
     "name": "stderr",
     "output_type": "stream",
     "text": [
      "\r",
      "Epoch 1/25 - Validation:  88%|████████▊ | 120/137 [32:54<03:53, 13.72s/it]"
     ]
    },
    {
     "name": "stderr",
     "output_type": "stream",
     "text": [
      "\r",
      "Epoch 1/25 - Validation:  88%|████████▊ | 121/137 [33:27<05:12, 19.56s/it]"
     ]
    },
    {
     "name": "stderr",
     "output_type": "stream",
     "text": [
      "\r",
      "Epoch 1/25 - Validation:  89%|████████▉ | 122/137 [33:28<03:26, 13.79s/it]"
     ]
    },
    {
     "name": "stderr",
     "output_type": "stream",
     "text": [
      "\r",
      "Epoch 1/25 - Validation:  90%|████████▉ | 123/137 [34:00<04:32, 19.49s/it]"
     ]
    },
    {
     "name": "stderr",
     "output_type": "stream",
     "text": [
      "\r",
      "Epoch 1/25 - Validation:  91%|█████████ | 124/137 [34:01<02:58, 13.74s/it]"
     ]
    },
    {
     "name": "stderr",
     "output_type": "stream",
     "text": [
      "\r",
      "Epoch 1/25 - Validation:  91%|█████████ | 125/137 [34:34<03:53, 19.47s/it]"
     ]
    },
    {
     "name": "stderr",
     "output_type": "stream",
     "text": [
      "\r",
      "Epoch 1/25 - Validation:  92%|█████████▏| 126/137 [34:34<02:30, 13.72s/it]"
     ]
    },
    {
     "name": "stderr",
     "output_type": "stream",
     "text": [
      "\r",
      "Epoch 1/25 - Validation:  93%|█████████▎| 127/137 [35:05<03:10, 19.00s/it]"
     ]
    },
    {
     "name": "stderr",
     "output_type": "stream",
     "text": [
      "\r",
      "Epoch 1/25 - Validation:  93%|█████████▎| 128/137 [35:05<02:00, 13.39s/it]"
     ]
    },
    {
     "name": "stderr",
     "output_type": "stream",
     "text": [
      "\r",
      "Epoch 1/25 - Validation:  94%|█████████▍| 129/137 [35:39<02:34, 19.34s/it]"
     ]
    },
    {
     "name": "stderr",
     "output_type": "stream",
     "text": [
      "\r",
      "Epoch 1/25 - Validation:  95%|█████████▍| 130/137 [35:39<01:35, 13.63s/it]"
     ]
    },
    {
     "name": "stderr",
     "output_type": "stream",
     "text": [
      "\r",
      "Epoch 1/25 - Validation:  96%|█████████▌| 131/137 [36:11<01:55, 19.20s/it]"
     ]
    },
    {
     "name": "stderr",
     "output_type": "stream",
     "text": [
      "\r",
      "Epoch 1/25 - Validation:  96%|█████████▋| 132/137 [36:11<01:07, 13.53s/it]"
     ]
    },
    {
     "name": "stderr",
     "output_type": "stream",
     "text": [
      "\r",
      "Epoch 1/25 - Validation:  97%|█████████▋| 133/137 [36:44<01:16, 19.16s/it]"
     ]
    },
    {
     "name": "stderr",
     "output_type": "stream",
     "text": [
      "\r",
      "Epoch 1/25 - Validation:  98%|█████████▊| 134/137 [36:44<00:40, 13.51s/it]"
     ]
    },
    {
     "name": "stderr",
     "output_type": "stream",
     "text": [
      "\r",
      "Epoch 1/25 - Validation:  99%|█████████▊| 135/137 [37:16<00:38, 19.11s/it]"
     ]
    },
    {
     "name": "stderr",
     "output_type": "stream",
     "text": [
      "\r",
      "Epoch 1/25 - Validation:  99%|█████████▉| 136/137 [37:17<00:13, 13.47s/it]"
     ]
    },
    {
     "name": "stderr",
     "output_type": "stream",
     "text": [
      "\r",
      "Epoch 1/25 - Validation: 100%|██████████| 137/137 [37:28<00:00, 12.87s/it]"
     ]
    },
    {
     "name": "stderr",
     "output_type": "stream",
     "text": [
      "\r",
      "Epoch 1/25 - Validation: 100%|██████████| 137/137 [37:28<00:00, 16.41s/it]"
     ]
    },
    {
     "name": "stderr",
     "output_type": "stream",
     "text": [
      "\n"
     ]
    },
    {
     "name": "stdout",
     "output_type": "stream",
     "text": [
      "Epoch 1/25:\n",
      "Train Loss: 1.0883, Train Acc: 0.4326\n",
      "Val Loss: 1.0994, Val Acc: 0.4500\n"
     ]
    },
    {
     "name": "stdout",
     "output_type": "stream",
     "text": [
      "--Yeni en iyi model kaydedildi--\n"
     ]
    },
    {
     "name": "stderr",
     "output_type": "stream",
     "text": [
      "\r",
      "Epoch 2/25 - Training:   0%|          | 0/137 [00:00<?, ?it/s]"
     ]
    },
    {
     "name": "stderr",
     "output_type": "stream",
     "text": [
      "\r",
      "Epoch 2/25 - Training:   1%|          | 1/137 [00:33<1:15:34, 33.34s/it]"
     ]
    },
    {
     "name": "stderr",
     "output_type": "stream",
     "text": [
      "\r",
      "Epoch 2/25 - Training:   1%|▏         | 2/137 [00:34<32:03, 14.25s/it]  "
     ]
    },
    {
     "name": "stderr",
     "output_type": "stream",
     "text": [
      "\r",
      "Epoch 2/25 - Training:   2%|▏         | 3/137 [01:05<49:26, 22.14s/it]"
     ]
    },
    {
     "name": "stderr",
     "output_type": "stream",
     "text": [
      "\r",
      "Epoch 2/25 - Training:   3%|▎         | 4/137 [01:07<31:01, 13.99s/it]"
     ]
    },
    {
     "name": "stderr",
     "output_type": "stream",
     "text": [
      "\r",
      "Epoch 2/25 - Training:   4%|▎         | 5/137 [01:38<44:19, 20.15s/it]"
     ]
    },
    {
     "name": "stderr",
     "output_type": "stream",
     "text": [
      "\r",
      "Epoch 2/25 - Training:   4%|▍         | 6/137 [01:40<30:35, 14.01s/it]"
     ]
    },
    {
     "name": "stderr",
     "output_type": "stream",
     "text": [
      "\r",
      "Epoch 2/25 - Training:   5%|▌         | 7/137 [02:13<43:37, 20.13s/it]"
     ]
    },
    {
     "name": "stderr",
     "output_type": "stream",
     "text": [
      "\r",
      "Epoch 2/25 - Training:   6%|▌         | 8/137 [02:14<30:07, 14.01s/it]"
     ]
    },
    {
     "name": "stderr",
     "output_type": "stream",
     "text": [
      "\r",
      "Epoch 2/25 - Training:   7%|▋         | 9/137 [02:46<42:03, 19.72s/it]"
     ]
    },
    {
     "name": "stderr",
     "output_type": "stream",
     "text": [
      "\r",
      "Epoch 2/25 - Training:   7%|▋         | 10/137 [02:47<29:25, 13.91s/it]"
     ]
    },
    {
     "name": "stderr",
     "output_type": "stream",
     "text": [
      "\r",
      "Epoch 2/25 - Training:   8%|▊         | 11/137 [03:18<40:24, 19.24s/it]"
     ]
    },
    {
     "name": "stderr",
     "output_type": "stream",
     "text": [
      "\r",
      "Epoch 2/25 - Training:   9%|▉         | 12/137 [03:19<28:27, 13.66s/it]"
     ]
    },
    {
     "name": "stderr",
     "output_type": "stream",
     "text": [
      "\r",
      "Epoch 2/25 - Training:   9%|▉         | 13/137 [03:51<39:42, 19.21s/it]"
     ]
    },
    {
     "name": "stderr",
     "output_type": "stream",
     "text": [
      "\r",
      "Epoch 2/25 - Training:  10%|█         | 14/137 [03:52<28:02, 13.68s/it]"
     ]
    },
    {
     "name": "stderr",
     "output_type": "stream",
     "text": [
      "\r",
      "Epoch 2/25 - Training:  11%|█         | 15/137 [04:12<31:43, 15.60s/it]"
     ]
    },
    {
     "name": "stderr",
     "output_type": "stream",
     "text": [
      "\r",
      "Epoch 2/25 - Training:  12%|█▏        | 16/137 [04:18<26:00, 12.90s/it]"
     ]
    },
    {
     "name": "stderr",
     "output_type": "stream",
     "text": [
      "\r",
      "Epoch 2/25 - Training:  12%|█▏        | 17/137 [04:41<31:45, 15.88s/it]"
     ]
    },
    {
     "name": "stderr",
     "output_type": "stream",
     "text": [
      "\r",
      "Epoch 2/25 - Training:  13%|█▎        | 18/137 [04:42<22:34, 11.38s/it]"
     ]
    },
    {
     "name": "stderr",
     "output_type": "stream",
     "text": [
      "\r",
      "Epoch 2/25 - Training:  14%|█▍        | 19/137 [05:15<34:44, 17.66s/it]"
     ]
    },
    {
     "name": "stderr",
     "output_type": "stream",
     "text": [
      "\r",
      "Epoch 2/25 - Training:  15%|█▍        | 20/137 [05:15<24:37, 12.63s/it]"
     ]
    },
    {
     "name": "stderr",
     "output_type": "stream",
     "text": [
      "\r",
      "Epoch 2/25 - Training:  15%|█▌        | 21/137 [05:47<35:17, 18.26s/it]"
     ]
    },
    {
     "name": "stderr",
     "output_type": "stream",
     "text": [
      "\r",
      "Epoch 2/25 - Training:  16%|█▌        | 22/137 [05:48<25:00, 13.04s/it]"
     ]
    },
    {
     "name": "stderr",
     "output_type": "stream",
     "text": [
      "\r",
      "Epoch 2/25 - Training:  17%|█▋        | 23/137 [06:20<35:43, 18.80s/it]"
     ]
    },
    {
     "name": "stderr",
     "output_type": "stream",
     "text": [
      "\r",
      "Epoch 2/25 - Training:  18%|█▊        | 24/137 [06:21<25:17, 13.43s/it]"
     ]
    },
    {
     "name": "stderr",
     "output_type": "stream",
     "text": [
      "\r",
      "Epoch 2/25 - Training:  18%|█▊        | 25/137 [06:47<32:24, 17.36s/it]"
     ]
    },
    {
     "name": "stderr",
     "output_type": "stream",
     "text": [
      "\r",
      "Epoch 2/25 - Training:  19%|█▉        | 26/137 [06:48<22:58, 12.42s/it]"
     ]
    },
    {
     "name": "stderr",
     "output_type": "stream",
     "text": [
      "\r",
      "Epoch 2/25 - Training:  20%|█▉        | 27/137 [07:15<30:40, 16.73s/it]"
     ]
    },
    {
     "name": "stderr",
     "output_type": "stream",
     "text": [
      "\r",
      "Epoch 2/25 - Training:  20%|██        | 28/137 [07:16<21:45, 11.98s/it]"
     ]
    },
    {
     "name": "stderr",
     "output_type": "stream",
     "text": [
      "\r",
      "Epoch 2/25 - Training:  21%|██        | 29/137 [07:48<32:34, 18.10s/it]"
     ]
    },
    {
     "name": "stderr",
     "output_type": "stream",
     "text": [
      "\r",
      "Epoch 2/25 - Training:  22%|██▏       | 30/137 [07:49<23:04, 12.94s/it]"
     ]
    },
    {
     "name": "stderr",
     "output_type": "stream",
     "text": [
      "\r",
      "Epoch 2/25 - Training:  23%|██▎       | 31/137 [08:20<32:06, 18.18s/it]"
     ]
    },
    {
     "name": "stderr",
     "output_type": "stream",
     "text": [
      "\r",
      "Epoch 2/25 - Training:  23%|██▎       | 32/137 [08:21<22:44, 13.00s/it]"
     ]
    },
    {
     "name": "stderr",
     "output_type": "stream",
     "text": [
      "\r",
      "Epoch 2/25 - Training:  24%|██▍       | 33/137 [08:43<27:30, 15.87s/it]"
     ]
    },
    {
     "name": "stderr",
     "output_type": "stream",
     "text": [
      "\r",
      "Epoch 2/25 - Training:  25%|██▍       | 34/137 [08:44<19:31, 11.38s/it]"
     ]
    },
    {
     "name": "stderr",
     "output_type": "stream",
     "text": [
      "\r",
      "Epoch 2/25 - Training:  26%|██▌       | 35/137 [09:08<25:58, 15.27s/it]"
     ]
    },
    {
     "name": "stderr",
     "output_type": "stream",
     "text": [
      "\r",
      "Epoch 2/25 - Training:  26%|██▋       | 36/137 [09:09<18:27, 10.97s/it]"
     ]
    },
    {
     "name": "stderr",
     "output_type": "stream",
     "text": [
      "\r",
      "Epoch 2/25 - Training:  27%|██▋       | 37/137 [09:42<28:57, 17.37s/it]"
     ]
    },
    {
     "name": "stderr",
     "output_type": "stream",
     "text": [
      "\r",
      "Epoch 2/25 - Training:  28%|██▊       | 38/137 [09:42<20:30, 12.43s/it]"
     ]
    },
    {
     "name": "stderr",
     "output_type": "stream",
     "text": [
      "\r",
      "Epoch 2/25 - Training:  28%|██▊       | 39/137 [10:13<29:16, 17.92s/it]"
     ]
    },
    {
     "name": "stderr",
     "output_type": "stream",
     "text": [
      "\r",
      "Epoch 2/25 - Training:  29%|██▉       | 40/137 [10:14<20:43, 12.82s/it]"
     ]
    },
    {
     "name": "stderr",
     "output_type": "stream",
     "text": [
      "\r",
      "Epoch 2/25 - Training:  30%|██▉       | 41/137 [10:40<26:39, 16.66s/it]"
     ]
    },
    {
     "name": "stderr",
     "output_type": "stream",
     "text": [
      "\r",
      "Epoch 2/25 - Training:  31%|███       | 42/137 [10:41<18:53, 11.93s/it]"
     ]
    },
    {
     "name": "stderr",
     "output_type": "stream",
     "text": [
      "\r",
      "Epoch 2/25 - Training:  31%|███▏      | 43/137 [11:12<27:54, 17.81s/it]"
     ]
    },
    {
     "name": "stderr",
     "output_type": "stream",
     "text": [
      "\r",
      "Epoch 2/25 - Training:  32%|███▏      | 44/137 [11:13<19:44, 12.74s/it]"
     ]
    },
    {
     "name": "stderr",
     "output_type": "stream",
     "text": [
      "\r",
      "Epoch 2/25 - Training:  33%|███▎      | 45/137 [11:45<28:10, 18.38s/it]"
     ]
    },
    {
     "name": "stderr",
     "output_type": "stream",
     "text": [
      "\r",
      "Epoch 2/25 - Training:  34%|███▎      | 46/137 [11:46<19:55, 13.14s/it]"
     ]
    },
    {
     "name": "stderr",
     "output_type": "stream",
     "text": [
      "\r",
      "Epoch 2/25 - Training:  34%|███▍      | 47/137 [12:09<24:21, 16.23s/it]"
     ]
    },
    {
     "name": "stderr",
     "output_type": "stream",
     "text": [
      "\r",
      "Epoch 2/25 - Training:  35%|███▌      | 48/137 [12:10<17:15, 11.64s/it]"
     ]
    },
    {
     "name": "stderr",
     "output_type": "stream",
     "text": [
      "\r",
      "Epoch 2/25 - Training:  36%|███▌      | 49/137 [12:37<24:02, 16.40s/it]"
     ]
    },
    {
     "name": "stderr",
     "output_type": "stream",
     "text": [
      "\r",
      "Epoch 2/25 - Training:  36%|███▋      | 50/137 [12:38<17:01, 11.75s/it]"
     ]
    },
    {
     "name": "stderr",
     "output_type": "stream",
     "text": [
      "\r",
      "Epoch 2/25 - Training:  37%|███▋      | 51/137 [13:10<25:13, 17.60s/it]"
     ]
    },
    {
     "name": "stderr",
     "output_type": "stream",
     "text": [
      "\r",
      "Epoch 2/25 - Training:  38%|███▊      | 52/137 [13:10<17:50, 12.60s/it]"
     ]
    },
    {
     "name": "stderr",
     "output_type": "stream",
     "text": [
      "\r",
      "Epoch 2/25 - Training:  39%|███▊      | 53/137 [13:34<22:14, 15.89s/it]"
     ]
    },
    {
     "name": "stderr",
     "output_type": "stream",
     "text": [
      "\r",
      "Epoch 2/25 - Training:  39%|███▉      | 54/137 [13:35<15:45, 11.40s/it]"
     ]
    },
    {
     "name": "stderr",
     "output_type": "stream",
     "text": [
      "\r",
      "Epoch 2/25 - Training:  40%|████      | 55/137 [14:02<22:01, 16.11s/it]"
     ]
    },
    {
     "name": "stderr",
     "output_type": "stream",
     "text": [
      "\r",
      "Epoch 2/25 - Training:  41%|████      | 56/137 [14:03<15:35, 11.55s/it]"
     ]
    },
    {
     "name": "stderr",
     "output_type": "stream",
     "text": [
      "\r",
      "Epoch 2/25 - Training:  42%|████▏     | 57/137 [14:27<20:27, 15.34s/it]"
     ]
    },
    {
     "name": "stderr",
     "output_type": "stream",
     "text": [
      "\r",
      "Epoch 2/25 - Training:  42%|████▏     | 58/137 [14:35<17:10, 13.05s/it]"
     ]
    },
    {
     "name": "stderr",
     "output_type": "stream",
     "text": [
      "\r",
      "Epoch 2/25 - Training:  43%|████▎     | 59/137 [14:56<20:14, 15.57s/it]"
     ]
    },
    {
     "name": "stderr",
     "output_type": "stream",
     "text": [
      "\r",
      "Epoch 2/25 - Training:  44%|████▍     | 60/137 [15:08<18:36, 14.50s/it]"
     ]
    },
    {
     "name": "stderr",
     "output_type": "stream",
     "text": [
      "\r",
      "Epoch 2/25 - Training:  45%|████▍     | 61/137 [15:29<20:49, 16.44s/it]"
     ]
    },
    {
     "name": "stderr",
     "output_type": "stream",
     "text": [
      "\r",
      "Epoch 2/25 - Training:  45%|████▌     | 62/137 [15:37<17:12, 13.77s/it]"
     ]
    },
    {
     "name": "stderr",
     "output_type": "stream",
     "text": [
      "\r",
      "Epoch 2/25 - Training:  46%|████▌     | 63/137 [15:57<19:14, 15.60s/it]"
     ]
    },
    {
     "name": "stderr",
     "output_type": "stream",
     "text": [
      "\r",
      "Epoch 2/25 - Training:  47%|████▋     | 64/137 [16:10<18:02, 14.83s/it]"
     ]
    },
    {
     "name": "stderr",
     "output_type": "stream",
     "text": [
      "\r",
      "Epoch 2/25 - Training:  47%|████▋     | 65/137 [16:25<18:01, 15.02s/it]"
     ]
    },
    {
     "name": "stderr",
     "output_type": "stream",
     "text": [
      "\r",
      "Epoch 2/25 - Training:  48%|████▊     | 66/137 [16:43<18:47, 15.89s/it]"
     ]
    },
    {
     "name": "stderr",
     "output_type": "stream",
     "text": [
      "\r",
      "Epoch 2/25 - Training:  49%|████▉     | 67/137 [16:58<18:09, 15.56s/it]"
     ]
    },
    {
     "name": "stderr",
     "output_type": "stream",
     "text": [
      "\r",
      "Epoch 2/25 - Training:  50%|████▉     | 68/137 [17:12<17:19, 15.06s/it]"
     ]
    },
    {
     "name": "stderr",
     "output_type": "stream",
     "text": [
      "\r",
      "Epoch 2/25 - Training:  50%|█████     | 69/137 [17:30<18:06, 15.99s/it]"
     ]
    },
    {
     "name": "stderr",
     "output_type": "stream",
     "text": [
      "\r",
      "Epoch 2/25 - Training:  51%|█████     | 70/137 [17:45<17:31, 15.69s/it]"
     ]
    },
    {
     "name": "stderr",
     "output_type": "stream",
     "text": [
      "\r",
      "Epoch 2/25 - Training:  52%|█████▏    | 71/137 [18:03<18:11, 16.54s/it]"
     ]
    },
    {
     "name": "stderr",
     "output_type": "stream",
     "text": [
      "\r",
      "Epoch 2/25 - Training:  53%|█████▎    | 72/137 [18:13<15:38, 14.44s/it]"
     ]
    },
    {
     "name": "stderr",
     "output_type": "stream",
     "text": [
      "\r",
      "Epoch 2/25 - Training:  53%|█████▎    | 73/137 [18:37<18:32, 17.38s/it]"
     ]
    },
    {
     "name": "stderr",
     "output_type": "stream",
     "text": [
      "\r",
      "Epoch 2/25 - Training:  54%|█████▍    | 74/137 [18:41<14:04, 13.41s/it]"
     ]
    },
    {
     "name": "stderr",
     "output_type": "stream",
     "text": [
      "\r",
      "Epoch 2/25 - Training:  55%|█████▍    | 75/137 [19:10<18:34, 17.97s/it]"
     ]
    },
    {
     "name": "stderr",
     "output_type": "stream",
     "text": [
      "\r",
      "Epoch 2/25 - Training:  55%|█████▌    | 76/137 [19:11<13:04, 12.85s/it]"
     ]
    },
    {
     "name": "stderr",
     "output_type": "stream",
     "text": [
      "\r",
      "Epoch 2/25 - Training:  56%|█████▌    | 77/137 [19:39<17:33, 17.55s/it]"
     ]
    },
    {
     "name": "stderr",
     "output_type": "stream",
     "text": [
      "\r",
      "Epoch 2/25 - Training:  57%|█████▋    | 78/137 [19:40<12:21, 12.56s/it]"
     ]
    },
    {
     "name": "stderr",
     "output_type": "stream",
     "text": [
      "\r",
      "Epoch 2/25 - Training:  58%|█████▊    | 79/137 [20:11<17:27, 18.05s/it]"
     ]
    },
    {
     "name": "stderr",
     "output_type": "stream",
     "text": [
      "\r",
      "Epoch 2/25 - Training:  58%|█████▊    | 80/137 [20:12<12:15, 12.91s/it]"
     ]
    },
    {
     "name": "stderr",
     "output_type": "stream",
     "text": [
      "\r",
      "Epoch 2/25 - Training:  59%|█████▉    | 81/137 [20:39<15:55, 17.07s/it]"
     ]
    },
    {
     "name": "stderr",
     "output_type": "stream",
     "text": [
      "\r",
      "Epoch 2/25 - Training:  60%|█████▉    | 82/137 [20:40<11:12, 12.22s/it]"
     ]
    },
    {
     "name": "stderr",
     "output_type": "stream",
     "text": [
      "\r",
      "Epoch 2/25 - Training:  61%|██████    | 83/137 [21:06<14:50, 16.49s/it]"
     ]
    },
    {
     "name": "stderr",
     "output_type": "stream",
     "text": [
      "\r",
      "Epoch 2/25 - Training:  61%|██████▏   | 84/137 [21:07<10:26, 11.81s/it]"
     ]
    },
    {
     "name": "stderr",
     "output_type": "stream",
     "text": [
      "\r",
      "Epoch 2/25 - Training:  62%|██████▏   | 85/137 [21:34<14:11, 16.37s/it]"
     ]
    },
    {
     "name": "stderr",
     "output_type": "stream",
     "text": [
      "\r",
      "Epoch 2/25 - Training:  63%|██████▎   | 86/137 [21:40<11:09, 13.12s/it]"
     ]
    },
    {
     "name": "stderr",
     "output_type": "stream",
     "text": [
      "\r",
      "Epoch 2/25 - Training:  64%|██████▎   | 87/137 [22:08<14:41, 17.62s/it]"
     ]
    },
    {
     "name": "stderr",
     "output_type": "stream",
     "text": [
      "\r",
      "Epoch 2/25 - Training:  64%|██████▍   | 88/137 [22:09<10:17, 12.61s/it]"
     ]
    },
    {
     "name": "stderr",
     "output_type": "stream",
     "text": [
      "\r",
      "Epoch 2/25 - Training:  65%|██████▍   | 89/137 [22:42<14:56, 18.67s/it]"
     ]
    },
    {
     "name": "stderr",
     "output_type": "stream",
     "text": [
      "\r",
      "Epoch 2/25 - Training:  66%|██████▌   | 90/137 [22:42<10:26, 13.34s/it]"
     ]
    },
    {
     "name": "stderr",
     "output_type": "stream",
     "text": [
      "\r",
      "Epoch 2/25 - Training:  66%|██████▋   | 91/137 [23:14<14:25, 18.82s/it]"
     ]
    },
    {
     "name": "stderr",
     "output_type": "stream",
     "text": [
      "\r",
      "Epoch 2/25 - Training:  67%|██████▋   | 92/137 [23:15<10:05, 13.45s/it]"
     ]
    },
    {
     "name": "stderr",
     "output_type": "stream",
     "text": [
      "\r",
      "Epoch 2/25 - Training:  68%|██████▊   | 93/137 [23:39<12:07, 16.53s/it]"
     ]
    },
    {
     "name": "stderr",
     "output_type": "stream",
     "text": [
      "\r",
      "Epoch 2/25 - Training:  69%|██████▊   | 94/137 [23:40<08:29, 11.84s/it]"
     ]
    },
    {
     "name": "stderr",
     "output_type": "stream",
     "text": [
      "\r",
      "Epoch 2/25 - Training:  69%|██████▉   | 95/137 [24:07<11:38, 16.62s/it]"
     ]
    },
    {
     "name": "stderr",
     "output_type": "stream",
     "text": [
      "\r",
      "Epoch 2/25 - Training:  70%|███████   | 96/137 [24:08<08:08, 11.91s/it]"
     ]
    },
    {
     "name": "stderr",
     "output_type": "stream",
     "text": [
      "\r",
      "Epoch 2/25 - Training:  71%|███████   | 97/137 [24:41<12:04, 18.12s/it]"
     ]
    },
    {
     "name": "stderr",
     "output_type": "stream",
     "text": [
      "\r",
      "Epoch 2/25 - Training:  72%|███████▏  | 98/137 [24:42<08:25, 12.95s/it]"
     ]
    },
    {
     "name": "stderr",
     "output_type": "stream",
     "text": [
      "\r",
      "Epoch 2/25 - Training:  72%|███████▏  | 99/137 [25:09<10:56, 17.29s/it]"
     ]
    },
    {
     "name": "stderr",
     "output_type": "stream",
     "text": [
      "\r",
      "Epoch 2/25 - Training:  73%|███████▎  | 100/137 [25:10<07:37, 12.37s/it]"
     ]
    },
    {
     "name": "stderr",
     "output_type": "stream",
     "text": [
      "\r",
      "Epoch 2/25 - Training:  74%|███████▎  | 101/137 [25:35<09:38, 16.07s/it]"
     ]
    },
    {
     "name": "stderr",
     "output_type": "stream",
     "text": [
      "\r",
      "Epoch 2/25 - Training:  74%|███████▍  | 102/137 [25:36<06:43, 11.52s/it]"
     ]
    },
    {
     "name": "stderr",
     "output_type": "stream",
     "text": [
      "\r",
      "Epoch 2/25 - Training:  75%|███████▌  | 103/137 [26:08<10:03, 17.76s/it]"
     ]
    },
    {
     "name": "stderr",
     "output_type": "stream",
     "text": [
      "\r",
      "Epoch 2/25 - Training:  76%|███████▌  | 104/137 [26:09<06:59, 12.71s/it]"
     ]
    },
    {
     "name": "stderr",
     "output_type": "stream",
     "text": [
      "\r",
      "Epoch 2/25 - Training:  77%|███████▋  | 105/137 [26:36<09:04, 17.01s/it]"
     ]
    },
    {
     "name": "stderr",
     "output_type": "stream",
     "text": [
      "\r",
      "Epoch 2/25 - Training:  77%|███████▋  | 106/137 [26:37<06:17, 12.17s/it]"
     ]
    },
    {
     "name": "stderr",
     "output_type": "stream",
     "text": [
      "\r",
      "Epoch 2/25 - Training:  78%|███████▊  | 107/137 [27:00<07:47, 15.57s/it]"
     ]
    },
    {
     "name": "stderr",
     "output_type": "stream",
     "text": [
      "\r",
      "Epoch 2/25 - Training:  79%|███████▉  | 108/137 [27:01<05:23, 11.17s/it]"
     ]
    },
    {
     "name": "stderr",
     "output_type": "stream",
     "text": [
      "\r",
      "Epoch 2/25 - Training:  80%|███████▉  | 109/137 [27:33<08:02, 17.23s/it]"
     ]
    },
    {
     "name": "stderr",
     "output_type": "stream",
     "text": [
      "\r",
      "Epoch 2/25 - Training:  80%|████████  | 110/137 [27:34<05:32, 12.33s/it]"
     ]
    },
    {
     "name": "stderr",
     "output_type": "stream",
     "text": [
      "\r",
      "Epoch 2/25 - Training:  81%|████████  | 111/137 [27:56<06:37, 15.29s/it]"
     ]
    },
    {
     "name": "stderr",
     "output_type": "stream",
     "text": [
      "\r",
      "Epoch 2/25 - Training:  82%|████████▏ | 112/137 [27:57<04:34, 10.97s/it]"
     ]
    },
    {
     "name": "stderr",
     "output_type": "stream",
     "text": [
      "\r",
      "Epoch 2/25 - Training:  82%|████████▏ | 113/137 [28:28<06:52, 17.17s/it]"
     ]
    },
    {
     "name": "stderr",
     "output_type": "stream",
     "text": [
      "\r",
      "Epoch 2/25 - Training:  83%|████████▎ | 114/137 [28:29<04:42, 12.29s/it]"
     ]
    },
    {
     "name": "stderr",
     "output_type": "stream",
     "text": [
      "\r",
      "Epoch 2/25 - Training:  84%|████████▍ | 115/137 [28:56<06:07, 16.69s/it]"
     ]
    },
    {
     "name": "stderr",
     "output_type": "stream",
     "text": [
      "\r",
      "Epoch 2/25 - Training:  85%|████████▍ | 116/137 [28:57<04:11, 11.96s/it]"
     ]
    },
    {
     "name": "stderr",
     "output_type": "stream",
     "text": [
      "\r",
      "Epoch 2/25 - Training:  85%|████████▌ | 117/137 [29:20<05:03, 15.19s/it]"
     ]
    },
    {
     "name": "stderr",
     "output_type": "stream",
     "text": [
      "\r",
      "Epoch 2/25 - Training:  86%|████████▌ | 118/137 [29:24<03:44, 11.84s/it]"
     ]
    },
    {
     "name": "stderr",
     "output_type": "stream",
     "text": [
      "\r",
      "Epoch 2/25 - Training:  87%|████████▋ | 119/137 [29:47<04:35, 15.32s/it]"
     ]
    },
    {
     "name": "stderr",
     "output_type": "stream",
     "text": [
      "\r",
      "Epoch 2/25 - Training:  88%|████████▊ | 120/137 [29:53<03:30, 12.40s/it]"
     ]
    },
    {
     "name": "stderr",
     "output_type": "stream",
     "text": [
      "\r",
      "Epoch 2/25 - Training:  88%|████████▊ | 121/137 [30:15<04:06, 15.39s/it]"
     ]
    },
    {
     "name": "stderr",
     "output_type": "stream",
     "text": [
      "\r",
      "Epoch 2/25 - Training:  89%|████████▉ | 122/137 [30:26<03:29, 13.96s/it]"
     ]
    },
    {
     "name": "stderr",
     "output_type": "stream",
     "text": [
      "\r",
      "Epoch 2/25 - Training:  90%|████████▉ | 123/137 [30:48<03:49, 16.39s/it]"
     ]
    },
    {
     "name": "stderr",
     "output_type": "stream",
     "text": [
      "\r",
      "Epoch 2/25 - Training:  91%|█████████ | 124/137 [30:51<02:40, 12.38s/it]"
     ]
    },
    {
     "name": "stderr",
     "output_type": "stream",
     "text": [
      "\r",
      "Epoch 2/25 - Training:  91%|█████████ | 125/137 [31:20<03:27, 17.27s/it]"
     ]
    },
    {
     "name": "stderr",
     "output_type": "stream",
     "text": [
      "\r",
      "Epoch 2/25 - Training:  92%|█████████▏| 126/137 [31:20<02:15, 12.36s/it]"
     ]
    },
    {
     "name": "stderr",
     "output_type": "stream",
     "text": [
      "\r",
      "Epoch 2/25 - Training:  93%|█████████▎| 127/137 [31:53<03:03, 18.35s/it]"
     ]
    },
    {
     "name": "stderr",
     "output_type": "stream",
     "text": [
      "\r",
      "Epoch 2/25 - Training:  93%|█████████▎| 128/137 [31:54<01:58, 13.12s/it]"
     ]
    },
    {
     "name": "stderr",
     "output_type": "stream",
     "text": [
      "\r",
      "Epoch 2/25 - Training:  94%|█████████▍| 129/137 [32:25<02:28, 18.55s/it]"
     ]
    },
    {
     "name": "stderr",
     "output_type": "stream",
     "text": [
      "\r",
      "Epoch 2/25 - Training:  95%|█████████▍| 130/137 [32:26<01:32, 13.26s/it]"
     ]
    },
    {
     "name": "stderr",
     "output_type": "stream",
     "text": [
      "\r",
      "Epoch 2/25 - Training:  96%|█████████▌| 131/137 [32:54<01:46, 17.75s/it]"
     ]
    },
    {
     "name": "stderr",
     "output_type": "stream",
     "text": [
      "\r",
      "Epoch 2/25 - Training:  96%|█████████▋| 132/137 [32:55<01:03, 12.70s/it]"
     ]
    },
    {
     "name": "stderr",
     "output_type": "stream",
     "text": [
      "\r",
      "Epoch 2/25 - Training:  97%|█████████▋| 133/137 [33:23<01:08, 17.23s/it]"
     ]
    },
    {
     "name": "stderr",
     "output_type": "stream",
     "text": [
      "\r",
      "Epoch 2/25 - Training:  98%|█████████▊| 134/137 [33:24<00:36, 12.33s/it]"
     ]
    },
    {
     "name": "stderr",
     "output_type": "stream",
     "text": [
      "\r",
      "Epoch 2/25 - Training:  99%|█████████▊| 135/137 [33:47<00:31, 15.70s/it]"
     ]
    },
    {
     "name": "stderr",
     "output_type": "stream",
     "text": [
      "\r",
      "Epoch 2/25 - Training:  99%|█████████▉| 136/137 [33:48<00:11, 11.26s/it]"
     ]
    },
    {
     "name": "stderr",
     "output_type": "stream",
     "text": [
      "\r",
      "Epoch 2/25 - Training: 100%|██████████| 137/137 [33:54<00:00,  9.63s/it]"
     ]
    },
    {
     "name": "stderr",
     "output_type": "stream",
     "text": [
      "\r",
      "Epoch 2/25 - Training: 100%|██████████| 137/137 [33:54<00:00, 14.85s/it]"
     ]
    },
    {
     "name": "stderr",
     "output_type": "stream",
     "text": [
      "\n"
     ]
    },
    {
     "name": "stderr",
     "output_type": "stream",
     "text": [
      "\r",
      "Epoch 2/25 - Validation:   0%|          | 0/137 [00:00<?, ?it/s]"
     ]
    },
    {
     "name": "stderr",
     "output_type": "stream",
     "text": [
      "\r",
      "Epoch 2/25 - Validation:   1%|          | 1/137 [00:33<1:15:24, 33.27s/it]"
     ]
    },
    {
     "name": "stderr",
     "output_type": "stream",
     "text": [
      "\r",
      "Epoch 2/25 - Validation:   1%|▏         | 2/137 [00:33<31:14, 13.88s/it]  "
     ]
    },
    {
     "name": "stderr",
     "output_type": "stream",
     "text": [
      "\r",
      "Epoch 2/25 - Validation:   2%|▏         | 3/137 [01:06<50:18, 22.52s/it]"
     ]
    },
    {
     "name": "stderr",
     "output_type": "stream",
     "text": [
      "\r",
      "Epoch 2/25 - Validation:   3%|▎         | 4/137 [01:06<30:29, 13.76s/it]"
     ]
    },
    {
     "name": "stderr",
     "output_type": "stream",
     "text": [
      "\r",
      "Epoch 2/25 - Validation:   4%|▎         | 5/137 [01:38<44:34, 20.26s/it]"
     ]
    },
    {
     "name": "stderr",
     "output_type": "stream",
     "text": [
      "\r",
      "Epoch 2/25 - Validation:   4%|▍         | 6/137 [01:38<29:25, 13.48s/it]"
     ]
    },
    {
     "name": "stderr",
     "output_type": "stream",
     "text": [
      "\r",
      "Epoch 2/25 - Validation:   5%|▌         | 7/137 [02:11<42:29, 19.61s/it]"
     ]
    },
    {
     "name": "stderr",
     "output_type": "stream",
     "text": [
      "\r",
      "Epoch 2/25 - Validation:   6%|▌         | 8/137 [02:11<28:56, 13.47s/it]"
     ]
    },
    {
     "name": "stderr",
     "output_type": "stream",
     "text": [
      "\r",
      "Epoch 2/25 - Validation:   7%|▋         | 9/137 [02:43<40:51, 19.15s/it]"
     ]
    },
    {
     "name": "stderr",
     "output_type": "stream",
     "text": [
      "\r",
      "Epoch 2/25 - Validation:   7%|▋         | 10/137 [02:43<28:14, 13.34s/it]"
     ]
    },
    {
     "name": "stderr",
     "output_type": "stream",
     "text": [
      "\r",
      "Epoch 2/25 - Validation:   8%|▊         | 11/137 [03:15<39:55, 19.01s/it]"
     ]
    },
    {
     "name": "stderr",
     "output_type": "stream",
     "text": [
      "\r",
      "Epoch 2/25 - Validation:   9%|▉         | 12/137 [03:15<27:45, 13.32s/it]"
     ]
    },
    {
     "name": "stderr",
     "output_type": "stream",
     "text": [
      "\r",
      "Epoch 2/25 - Validation:   9%|▉         | 13/137 [03:48<39:35, 19.16s/it]"
     ]
    },
    {
     "name": "stderr",
     "output_type": "stream",
     "text": [
      "\r",
      "Epoch 2/25 - Validation:  10%|█         | 14/137 [03:48<27:36, 13.47s/it]"
     ]
    },
    {
     "name": "stderr",
     "output_type": "stream",
     "text": [
      "\r",
      "Epoch 2/25 - Validation:  11%|█         | 15/137 [04:19<38:09, 18.77s/it]"
     ]
    },
    {
     "name": "stderr",
     "output_type": "stream",
     "text": [
      "\r",
      "Epoch 2/25 - Validation:  12%|█▏        | 16/137 [04:19<26:38, 13.21s/it]"
     ]
    },
    {
     "name": "stderr",
     "output_type": "stream",
     "text": [
      "\r",
      "Epoch 2/25 - Validation:  12%|█▏        | 17/137 [04:50<37:02, 18.52s/it]"
     ]
    },
    {
     "name": "stderr",
     "output_type": "stream",
     "text": [
      "\r",
      "Epoch 2/25 - Validation:  13%|█▎        | 18/137 [04:50<25:52, 13.05s/it]"
     ]
    },
    {
     "name": "stderr",
     "output_type": "stream",
     "text": [
      "\r",
      "Epoch 2/25 - Validation:  14%|█▍        | 19/137 [05:23<37:18, 18.97s/it]"
     ]
    },
    {
     "name": "stderr",
     "output_type": "stream",
     "text": [
      "\r",
      "Epoch 2/25 - Validation:  15%|█▍        | 20/137 [05:24<26:04, 13.37s/it]"
     ]
    },
    {
     "name": "stderr",
     "output_type": "stream",
     "text": [
      "\r",
      "Epoch 2/25 - Validation:  15%|█▌        | 21/137 [05:56<37:05, 19.19s/it]"
     ]
    },
    {
     "name": "stderr",
     "output_type": "stream",
     "text": [
      "\r",
      "Epoch 2/25 - Validation:  16%|█▌        | 22/137 [05:57<25:54, 13.52s/it]"
     ]
    },
    {
     "name": "stderr",
     "output_type": "stream",
     "text": [
      "\r",
      "Epoch 2/25 - Validation:  17%|█▋        | 23/137 [06:29<36:14, 19.07s/it]"
     ]
    },
    {
     "name": "stderr",
     "output_type": "stream",
     "text": [
      "\r",
      "Epoch 2/25 - Validation:  18%|█▊        | 24/137 [06:29<25:19, 13.44s/it]"
     ]
    },
    {
     "name": "stderr",
     "output_type": "stream",
     "text": [
      "\r",
      "Epoch 2/25 - Validation:  18%|█▊        | 25/137 [07:02<36:07, 19.35s/it]"
     ]
    },
    {
     "name": "stderr",
     "output_type": "stream",
     "text": [
      "\r",
      "Epoch 2/25 - Validation:  19%|█▉        | 26/137 [07:02<25:14, 13.64s/it]"
     ]
    },
    {
     "name": "stderr",
     "output_type": "stream",
     "text": [
      "\r",
      "Epoch 2/25 - Validation:  20%|█▉        | 27/137 [07:34<34:54, 19.04s/it]"
     ]
    },
    {
     "name": "stderr",
     "output_type": "stream",
     "text": [
      "\r",
      "Epoch 2/25 - Validation:  20%|██        | 28/137 [07:34<24:23, 13.42s/it]"
     ]
    },
    {
     "name": "stderr",
     "output_type": "stream",
     "text": [
      "\r",
      "Epoch 2/25 - Validation:  21%|██        | 29/137 [08:07<34:18, 19.06s/it]"
     ]
    },
    {
     "name": "stderr",
     "output_type": "stream",
     "text": [
      "\r",
      "Epoch 2/25 - Validation:  22%|██▏       | 30/137 [08:07<23:57, 13.43s/it]"
     ]
    },
    {
     "name": "stderr",
     "output_type": "stream",
     "text": [
      "\r",
      "Epoch 2/25 - Validation:  23%|██▎       | 31/137 [08:39<33:28, 18.95s/it]"
     ]
    },
    {
     "name": "stderr",
     "output_type": "stream",
     "text": [
      "\r",
      "Epoch 2/25 - Validation:  23%|██▎       | 32/137 [08:39<23:22, 13.36s/it]"
     ]
    },
    {
     "name": "stderr",
     "output_type": "stream",
     "text": [
      "\r",
      "Epoch 2/25 - Validation:  24%|██▍       | 33/137 [09:12<33:10, 19.14s/it]"
     ]
    },
    {
     "name": "stderr",
     "output_type": "stream",
     "text": [
      "\r",
      "Epoch 2/25 - Validation:  25%|██▍       | 34/137 [09:12<23:09, 13.49s/it]"
     ]
    },
    {
     "name": "stderr",
     "output_type": "stream",
     "text": [
      "\r",
      "Epoch 2/25 - Validation:  26%|██▌       | 35/137 [09:44<32:12, 18.95s/it]"
     ]
    },
    {
     "name": "stderr",
     "output_type": "stream",
     "text": [
      "\r",
      "Epoch 2/25 - Validation:  26%|██▋       | 36/137 [09:44<22:29, 13.36s/it]"
     ]
    },
    {
     "name": "stderr",
     "output_type": "stream",
     "text": [
      "\r",
      "Epoch 2/25 - Validation:  27%|██▋       | 37/137 [10:17<31:55, 19.16s/it]"
     ]
    },
    {
     "name": "stderr",
     "output_type": "stream",
     "text": [
      "\r",
      "Epoch 2/25 - Validation:  28%|██▊       | 38/137 [10:17<22:16, 13.50s/it]"
     ]
    },
    {
     "name": "stderr",
     "output_type": "stream",
     "text": [
      "\r",
      "Epoch 2/25 - Validation:  28%|██▊       | 39/137 [10:48<30:47, 18.85s/it]"
     ]
    },
    {
     "name": "stderr",
     "output_type": "stream",
     "text": [
      "\r",
      "Epoch 2/25 - Validation:  29%|██▉       | 40/137 [10:49<21:29, 13.29s/it]"
     ]
    },
    {
     "name": "stderr",
     "output_type": "stream",
     "text": [
      "\r",
      "Epoch 2/25 - Validation:  30%|██▉       | 41/137 [11:22<30:44, 19.21s/it]"
     ]
    },
    {
     "name": "stderr",
     "output_type": "stream",
     "text": [
      "\r",
      "Epoch 2/25 - Validation:  31%|███       | 42/137 [11:22<21:26, 13.54s/it]"
     ]
    },
    {
     "name": "stderr",
     "output_type": "stream",
     "text": [
      "\r",
      "Epoch 2/25 - Validation:  31%|███▏      | 43/137 [11:53<29:13, 18.66s/it]"
     ]
    },
    {
     "name": "stderr",
     "output_type": "stream",
     "text": [
      "\r",
      "Epoch 2/25 - Validation:  32%|███▏      | 44/137 [11:53<20:23, 13.15s/it]"
     ]
    },
    {
     "name": "stderr",
     "output_type": "stream",
     "text": [
      "\r",
      "Epoch 2/25 - Validation:  33%|███▎      | 45/137 [12:24<28:21, 18.50s/it]"
     ]
    },
    {
     "name": "stderr",
     "output_type": "stream",
     "text": [
      "\r",
      "Epoch 2/25 - Validation:  34%|███▎      | 46/137 [12:24<19:46, 13.04s/it]"
     ]
    },
    {
     "name": "stderr",
     "output_type": "stream",
     "text": [
      "\r",
      "Epoch 2/25 - Validation:  34%|███▍      | 47/137 [12:56<28:05, 18.72s/it]"
     ]
    },
    {
     "name": "stderr",
     "output_type": "stream",
     "text": [
      "\r",
      "Epoch 2/25 - Validation:  35%|███▌      | 48/137 [12:56<19:34, 13.20s/it]"
     ]
    },
    {
     "name": "stderr",
     "output_type": "stream",
     "text": [
      "\r",
      "Epoch 2/25 - Validation:  36%|███▌      | 49/137 [13:28<27:22, 18.66s/it]"
     ]
    },
    {
     "name": "stderr",
     "output_type": "stream",
     "text": [
      "\r",
      "Epoch 2/25 - Validation:  36%|███▋      | 50/137 [13:28<19:04, 13.16s/it]"
     ]
    },
    {
     "name": "stderr",
     "output_type": "stream",
     "text": [
      "\r",
      "Epoch 2/25 - Validation:  37%|███▋      | 51/137 [14:00<26:43, 18.65s/it]"
     ]
    },
    {
     "name": "stderr",
     "output_type": "stream",
     "text": [
      "\r",
      "Epoch 2/25 - Validation:  38%|███▊      | 52/137 [14:00<18:37, 13.15s/it]"
     ]
    },
    {
     "name": "stderr",
     "output_type": "stream",
     "text": [
      "\r",
      "Epoch 2/25 - Validation:  39%|███▊      | 53/137 [14:31<25:51, 18.48s/it]"
     ]
    },
    {
     "name": "stderr",
     "output_type": "stream",
     "text": [
      "\r",
      "Epoch 2/25 - Validation:  39%|███▉      | 54/137 [14:31<18:01, 13.03s/it]"
     ]
    },
    {
     "name": "stderr",
     "output_type": "stream",
     "text": [
      "\r",
      "Epoch 2/25 - Validation:  40%|████      | 55/137 [15:03<25:29, 18.65s/it]"
     ]
    },
    {
     "name": "stderr",
     "output_type": "stream",
     "text": [
      "\r",
      "Epoch 2/25 - Validation:  41%|████      | 56/137 [15:03<17:44, 13.15s/it]"
     ]
    },
    {
     "name": "stderr",
     "output_type": "stream",
     "text": [
      "\r",
      "Epoch 2/25 - Validation:  42%|████▏     | 57/137 [15:35<24:49, 18.62s/it]"
     ]
    },
    {
     "name": "stderr",
     "output_type": "stream",
     "text": [
      "\r",
      "Epoch 2/25 - Validation:  42%|████▏     | 58/137 [15:35<17:17, 13.13s/it]"
     ]
    },
    {
     "name": "stderr",
     "output_type": "stream",
     "text": [
      "\r",
      "Epoch 2/25 - Validation:  43%|████▎     | 59/137 [16:08<24:42, 19.01s/it]"
     ]
    },
    {
     "name": "stderr",
     "output_type": "stream",
     "text": [
      "\r",
      "Epoch 2/25 - Validation:  44%|████▍     | 60/137 [16:08<17:11, 13.40s/it]"
     ]
    },
    {
     "name": "stderr",
     "output_type": "stream",
     "text": [
      "\r",
      "Epoch 2/25 - Validation:  45%|████▍     | 61/137 [16:40<23:55, 18.89s/it]"
     ]
    },
    {
     "name": "stderr",
     "output_type": "stream",
     "text": [
      "\r",
      "Epoch 2/25 - Validation:  45%|████▌     | 62/137 [16:40<16:38, 13.31s/it]"
     ]
    },
    {
     "name": "stderr",
     "output_type": "stream",
     "text": [
      "\r",
      "Epoch 2/25 - Validation:  46%|████▌     | 63/137 [17:11<22:52, 18.55s/it]"
     ]
    },
    {
     "name": "stderr",
     "output_type": "stream",
     "text": [
      "\r",
      "Epoch 2/25 - Validation:  47%|████▋     | 64/137 [17:11<15:54, 13.08s/it]"
     ]
    },
    {
     "name": "stderr",
     "output_type": "stream",
     "text": [
      "\r",
      "Epoch 2/25 - Validation:  47%|████▋     | 65/137 [17:44<22:47, 18.99s/it]"
     ]
    },
    {
     "name": "stderr",
     "output_type": "stream",
     "text": [
      "\r",
      "Epoch 2/25 - Validation:  48%|████▊     | 66/137 [17:44<15:50, 13.38s/it]"
     ]
    },
    {
     "name": "stderr",
     "output_type": "stream",
     "text": [
      "\r",
      "Epoch 2/25 - Validation:  49%|████▉     | 67/137 [18:16<22:01, 18.88s/it]"
     ]
    },
    {
     "name": "stderr",
     "output_type": "stream",
     "text": [
      "\r",
      "Epoch 2/25 - Validation:  50%|████▉     | 68/137 [18:16<15:18, 13.31s/it]"
     ]
    },
    {
     "name": "stderr",
     "output_type": "stream",
     "text": [
      "\r",
      "Epoch 2/25 - Validation:  50%|█████     | 69/137 [18:48<21:21, 18.84s/it]"
     ]
    },
    {
     "name": "stderr",
     "output_type": "stream",
     "text": [
      "\r",
      "Epoch 2/25 - Validation:  51%|█████     | 70/137 [18:48<14:49, 13.28s/it]"
     ]
    },
    {
     "name": "stderr",
     "output_type": "stream",
     "text": [
      "\r",
      "Epoch 2/25 - Validation:  52%|█████▏    | 71/137 [19:19<20:19, 18.48s/it]"
     ]
    },
    {
     "name": "stderr",
     "output_type": "stream",
     "text": [
      "\r",
      "Epoch 2/25 - Validation:  53%|█████▎    | 72/137 [19:19<14:07, 13.03s/it]"
     ]
    },
    {
     "name": "stderr",
     "output_type": "stream",
     "text": [
      "\r",
      "Epoch 2/25 - Validation:  53%|█████▎    | 73/137 [19:51<19:57, 18.72s/it]"
     ]
    },
    {
     "name": "stderr",
     "output_type": "stream",
     "text": [
      "\r",
      "Epoch 2/25 - Validation:  54%|█████▍    | 74/137 [19:51<13:51, 13.20s/it]"
     ]
    },
    {
     "name": "stderr",
     "output_type": "stream",
     "text": [
      "\r",
      "Epoch 2/25 - Validation:  55%|█████▍    | 75/137 [20:23<19:20, 18.72s/it]"
     ]
    },
    {
     "name": "stderr",
     "output_type": "stream",
     "text": [
      "\r",
      "Epoch 2/25 - Validation:  55%|█████▌    | 76/137 [20:23<13:24, 13.19s/it]"
     ]
    },
    {
     "name": "stderr",
     "output_type": "stream",
     "text": [
      "\r",
      "Epoch 2/25 - Validation:  56%|█████▌    | 77/137 [20:56<19:04, 19.07s/it]"
     ]
    },
    {
     "name": "stderr",
     "output_type": "stream",
     "text": [
      "\r",
      "Epoch 2/25 - Validation:  57%|█████▋    | 78/137 [20:56<13:13, 13.44s/it]"
     ]
    },
    {
     "name": "stderr",
     "output_type": "stream",
     "text": [
      "\r",
      "Epoch 2/25 - Validation:  58%|█████▊    | 79/137 [21:29<18:28, 19.10s/it]"
     ]
    },
    {
     "name": "stderr",
     "output_type": "stream",
     "text": [
      "\r",
      "Epoch 2/25 - Validation:  58%|█████▊    | 80/137 [21:29<12:47, 13.47s/it]"
     ]
    },
    {
     "name": "stderr",
     "output_type": "stream",
     "text": [
      "\r",
      "Epoch 2/25 - Validation:  59%|█████▉    | 81/137 [22:01<17:45, 19.02s/it]"
     ]
    },
    {
     "name": "stderr",
     "output_type": "stream",
     "text": [
      "\r",
      "Epoch 2/25 - Validation:  60%|█████▉    | 82/137 [22:01<12:17, 13.41s/it]"
     ]
    },
    {
     "name": "stderr",
     "output_type": "stream",
     "text": [
      "\r",
      "Epoch 2/25 - Validation:  61%|██████    | 83/137 [22:34<17:14, 19.16s/it]"
     ]
    },
    {
     "name": "stderr",
     "output_type": "stream",
     "text": [
      "\r",
      "Epoch 2/25 - Validation:  61%|██████▏   | 84/137 [22:34<11:55, 13.50s/it]"
     ]
    },
    {
     "name": "stderr",
     "output_type": "stream",
     "text": [
      "\r",
      "Epoch 2/25 - Validation:  62%|██████▏   | 85/137 [23:07<16:42, 19.29s/it]"
     ]
    },
    {
     "name": "stderr",
     "output_type": "stream",
     "text": [
      "\r",
      "Epoch 2/25 - Validation:  63%|██████▎   | 86/137 [23:07<11:33, 13.60s/it]"
     ]
    },
    {
     "name": "stderr",
     "output_type": "stream",
     "text": [
      "\r",
      "Epoch 2/25 - Validation:  64%|██████▎   | 87/137 [23:38<15:42, 18.84s/it]"
     ]
    },
    {
     "name": "stderr",
     "output_type": "stream",
     "text": [
      "\r",
      "Epoch 2/25 - Validation:  64%|██████▍   | 88/137 [23:39<10:50, 13.28s/it]"
     ]
    },
    {
     "name": "stderr",
     "output_type": "stream",
     "text": [
      "\r",
      "Epoch 2/25 - Validation:  65%|██████▍   | 89/137 [24:10<14:52, 18.59s/it]"
     ]
    },
    {
     "name": "stderr",
     "output_type": "stream",
     "text": [
      "\r",
      "Epoch 2/25 - Validation:  66%|██████▌   | 90/137 [24:10<10:16, 13.11s/it]"
     ]
    },
    {
     "name": "stderr",
     "output_type": "stream",
     "text": [
      "\r",
      "Epoch 2/25 - Validation:  66%|██████▋   | 91/137 [24:42<14:26, 18.85s/it]"
     ]
    },
    {
     "name": "stderr",
     "output_type": "stream",
     "text": [
      "\r",
      "Epoch 2/25 - Validation:  67%|██████▋   | 92/137 [24:43<09:57, 13.29s/it]"
     ]
    },
    {
     "name": "stderr",
     "output_type": "stream",
     "text": [
      "\r",
      "Epoch 2/25 - Validation:  68%|██████▊   | 93/137 [25:14<13:51, 18.89s/it]"
     ]
    },
    {
     "name": "stderr",
     "output_type": "stream",
     "text": [
      "\r",
      "Epoch 2/25 - Validation:  69%|██████▊   | 94/137 [25:15<09:32, 13.31s/it]"
     ]
    },
    {
     "name": "stderr",
     "output_type": "stream",
     "text": [
      "\r",
      "Epoch 2/25 - Validation:  69%|██████▉   | 95/137 [25:45<12:56, 18.48s/it]"
     ]
    },
    {
     "name": "stderr",
     "output_type": "stream",
     "text": [
      "\r",
      "Epoch 2/25 - Validation:  70%|███████   | 96/137 [25:46<08:54, 13.03s/it]"
     ]
    },
    {
     "name": "stderr",
     "output_type": "stream",
     "text": [
      "\r",
      "Epoch 2/25 - Validation:  71%|███████   | 97/137 [26:19<12:42, 19.07s/it]"
     ]
    },
    {
     "name": "stderr",
     "output_type": "stream",
     "text": [
      "\r",
      "Epoch 2/25 - Validation:  72%|███████▏  | 98/137 [26:19<08:44, 13.45s/it]"
     ]
    },
    {
     "name": "stderr",
     "output_type": "stream",
     "text": [
      "\r",
      "Epoch 2/25 - Validation:  72%|███████▏  | 99/137 [26:50<11:48, 18.64s/it]"
     ]
    },
    {
     "name": "stderr",
     "output_type": "stream",
     "text": [
      "\r",
      "Epoch 2/25 - Validation:  73%|███████▎  | 100/137 [26:50<08:06, 13.14s/it]"
     ]
    },
    {
     "name": "stderr",
     "output_type": "stream",
     "text": [
      "\r",
      "Epoch 2/25 - Validation:  74%|███████▎  | 101/137 [27:22<11:16, 18.78s/it]"
     ]
    },
    {
     "name": "stderr",
     "output_type": "stream",
     "text": [
      "\r",
      "Epoch 2/25 - Validation:  74%|███████▍  | 102/137 [27:22<07:43, 13.24s/it]"
     ]
    },
    {
     "name": "stderr",
     "output_type": "stream",
     "text": [
      "\r",
      "Epoch 2/25 - Validation:  75%|███████▌  | 103/137 [27:53<10:29, 18.50s/it]"
     ]
    },
    {
     "name": "stderr",
     "output_type": "stream",
     "text": [
      "\r",
      "Epoch 2/25 - Validation:  76%|███████▌  | 104/137 [27:54<07:10, 13.04s/it]"
     ]
    },
    {
     "name": "stderr",
     "output_type": "stream",
     "text": [
      "\r",
      "Epoch 2/25 - Validation:  77%|███████▋  | 105/137 [28:26<10:04, 18.88s/it]"
     ]
    },
    {
     "name": "stderr",
     "output_type": "stream",
     "text": [
      "\r",
      "Epoch 2/25 - Validation:  77%|███████▋  | 106/137 [28:26<06:52, 13.31s/it]"
     ]
    },
    {
     "name": "stderr",
     "output_type": "stream",
     "text": [
      "\r",
      "Epoch 2/25 - Validation:  78%|███████▊  | 107/137 [28:57<09:19, 18.66s/it]"
     ]
    },
    {
     "name": "stderr",
     "output_type": "stream",
     "text": [
      "\r",
      "Epoch 2/25 - Validation:  79%|███████▉  | 108/137 [28:58<06:21, 13.16s/it]"
     ]
    },
    {
     "name": "stderr",
     "output_type": "stream",
     "text": [
      "\r",
      "Epoch 2/25 - Validation:  80%|███████▉  | 109/137 [29:29<08:35, 18.42s/it]"
     ]
    },
    {
     "name": "stderr",
     "output_type": "stream",
     "text": [
      "\r",
      "Epoch 2/25 - Validation:  80%|████████  | 110/137 [29:29<05:50, 12.99s/it]"
     ]
    },
    {
     "name": "stderr",
     "output_type": "stream",
     "text": [
      "\r",
      "Epoch 2/25 - Validation:  81%|████████  | 111/137 [30:01<08:06, 18.71s/it]"
     ]
    },
    {
     "name": "stderr",
     "output_type": "stream",
     "text": [
      "\r",
      "Epoch 2/25 - Validation:  82%|████████▏ | 112/137 [30:01<05:29, 13.19s/it]"
     ]
    },
    {
     "name": "stderr",
     "output_type": "stream",
     "text": [
      "\r",
      "Epoch 2/25 - Validation:  82%|████████▏ | 113/137 [30:33<07:31, 18.80s/it]"
     ]
    },
    {
     "name": "stderr",
     "output_type": "stream",
     "text": [
      "\r",
      "Epoch 2/25 - Validation:  83%|████████▎ | 114/137 [30:33<05:04, 13.26s/it]"
     ]
    },
    {
     "name": "stderr",
     "output_type": "stream",
     "text": [
      "\r",
      "Epoch 2/25 - Validation:  84%|████████▍ | 115/137 [31:05<06:53, 18.79s/it]"
     ]
    },
    {
     "name": "stderr",
     "output_type": "stream",
     "text": [
      "\r",
      "Epoch 2/25 - Validation:  85%|████████▍ | 116/137 [31:05<04:38, 13.25s/it]"
     ]
    },
    {
     "name": "stderr",
     "output_type": "stream",
     "text": [
      "\r",
      "Epoch 2/25 - Validation:  85%|████████▌ | 117/137 [31:37<06:14, 18.70s/it]"
     ]
    },
    {
     "name": "stderr",
     "output_type": "stream",
     "text": [
      "\r",
      "Epoch 2/25 - Validation:  86%|████████▌ | 118/137 [31:37<04:10, 13.19s/it]"
     ]
    },
    {
     "name": "stderr",
     "output_type": "stream",
     "text": [
      "\r",
      "Epoch 2/25 - Validation:  87%|████████▋ | 119/137 [32:09<05:38, 18.81s/it]"
     ]
    },
    {
     "name": "stderr",
     "output_type": "stream",
     "text": [
      "\r",
      "Epoch 2/25 - Validation:  88%|████████▊ | 120/137 [32:09<03:45, 13.26s/it]"
     ]
    },
    {
     "name": "stderr",
     "output_type": "stream",
     "text": [
      "\r",
      "Epoch 2/25 - Validation:  88%|████████▊ | 121/137 [32:41<05:01, 18.83s/it]"
     ]
    },
    {
     "name": "stderr",
     "output_type": "stream",
     "text": [
      "\r",
      "Epoch 2/25 - Validation:  89%|████████▉ | 122/137 [32:42<03:19, 13.27s/it]"
     ]
    },
    {
     "name": "stderr",
     "output_type": "stream",
     "text": [
      "\r",
      "Epoch 2/25 - Validation:  90%|████████▉ | 123/137 [33:12<04:19, 18.56s/it]"
     ]
    },
    {
     "name": "stderr",
     "output_type": "stream",
     "text": [
      "\r",
      "Epoch 2/25 - Validation:  91%|█████████ | 124/137 [33:13<02:50, 13.09s/it]"
     ]
    },
    {
     "name": "stderr",
     "output_type": "stream",
     "text": [
      "\r",
      "Epoch 2/25 - Validation:  91%|█████████ | 125/137 [33:44<03:43, 18.65s/it]"
     ]
    },
    {
     "name": "stderr",
     "output_type": "stream",
     "text": [
      "\r",
      "Epoch 2/25 - Validation:  92%|█████████▏| 126/137 [33:45<02:24, 13.15s/it]"
     ]
    },
    {
     "name": "stderr",
     "output_type": "stream",
     "text": [
      "\r",
      "Epoch 2/25 - Validation:  93%|█████████▎| 127/137 [34:15<03:01, 18.16s/it]"
     ]
    },
    {
     "name": "stderr",
     "output_type": "stream",
     "text": [
      "\r",
      "Epoch 2/25 - Validation:  93%|█████████▎| 128/137 [34:15<01:55, 12.80s/it]"
     ]
    },
    {
     "name": "stderr",
     "output_type": "stream",
     "text": [
      "\r",
      "Epoch 2/25 - Validation:  94%|█████████▍| 129/137 [34:47<02:29, 18.65s/it]"
     ]
    },
    {
     "name": "stderr",
     "output_type": "stream",
     "text": [
      "\r",
      "Epoch 2/25 - Validation:  95%|█████████▍| 130/137 [34:47<01:32, 13.15s/it]"
     ]
    },
    {
     "name": "stderr",
     "output_type": "stream",
     "text": [
      "\r",
      "Epoch 2/25 - Validation:  96%|█████████▌| 131/137 [35:19<01:51, 18.63s/it]"
     ]
    },
    {
     "name": "stderr",
     "output_type": "stream",
     "text": [
      "\r",
      "Epoch 2/25 - Validation:  96%|█████████▋| 132/137 [35:19<01:05, 13.13s/it]"
     ]
    },
    {
     "name": "stderr",
     "output_type": "stream",
     "text": [
      "\r",
      "Epoch 2/25 - Validation:  97%|█████████▋| 133/137 [35:50<01:13, 18.48s/it]"
     ]
    },
    {
     "name": "stderr",
     "output_type": "stream",
     "text": [
      "\r",
      "Epoch 2/25 - Validation:  98%|█████████▊| 134/137 [35:50<00:39, 13.03s/it]"
     ]
    },
    {
     "name": "stderr",
     "output_type": "stream",
     "text": [
      "\r",
      "Epoch 2/25 - Validation:  99%|█████████▊| 135/137 [36:22<00:36, 18.48s/it]"
     ]
    },
    {
     "name": "stderr",
     "output_type": "stream",
     "text": [
      "\r",
      "Epoch 2/25 - Validation:  99%|█████████▉| 136/137 [36:22<00:13, 13.03s/it]"
     ]
    },
    {
     "name": "stderr",
     "output_type": "stream",
     "text": [
      "\r",
      "Epoch 2/25 - Validation: 100%|██████████| 137/137 [36:33<00:00, 12.46s/it]"
     ]
    },
    {
     "name": "stderr",
     "output_type": "stream",
     "text": [
      "\r",
      "Epoch 2/25 - Validation: 100%|██████████| 137/137 [36:33<00:00, 16.01s/it]"
     ]
    },
    {
     "name": "stderr",
     "output_type": "stream",
     "text": [
      "\n"
     ]
    },
    {
     "name": "stdout",
     "output_type": "stream",
     "text": [
      "Epoch 2/25:\n",
      "Train Loss: 1.0857, Train Acc: 0.4519\n",
      "Val Loss: 1.1032, Val Acc: 0.4500\n"
     ]
    },
    {
     "name": "stderr",
     "output_type": "stream",
     "text": [
      "\r",
      "Epoch 3/25 - Training:   0%|          | 0/137 [00:00<?, ?it/s]"
     ]
    },
    {
     "name": "stderr",
     "output_type": "stream",
     "text": [
      "\r",
      "Epoch 3/25 - Training:   1%|          | 1/137 [00:33<1:15:04, 33.12s/it]"
     ]
    },
    {
     "name": "stderr",
     "output_type": "stream",
     "text": [
      "\r",
      "Epoch 3/25 - Training:   1%|▏         | 2/137 [00:34<31:52, 14.16s/it]  "
     ]
    },
    {
     "name": "stderr",
     "output_type": "stream",
     "text": [
      "\r",
      "Epoch 3/25 - Training:   2%|▏         | 3/137 [01:05<49:47, 22.30s/it]"
     ]
    },
    {
     "name": "stderr",
     "output_type": "stream",
     "text": [
      "\r",
      "Epoch 3/25 - Training:   3%|▎         | 4/137 [01:07<30:48, 13.90s/it]"
     ]
    },
    {
     "name": "stderr",
     "output_type": "stream",
     "text": [
      "\r",
      "Epoch 3/25 - Training:   4%|▎         | 5/137 [01:35<42:19, 19.24s/it]"
     ]
    },
    {
     "name": "stderr",
     "output_type": "stream",
     "text": [
      "\r",
      "Epoch 3/25 - Training:   4%|▍         | 6/137 [01:39<30:26, 13.94s/it]"
     ]
    },
    {
     "name": "stderr",
     "output_type": "stream",
     "text": [
      "\r",
      "Epoch 3/25 - Training:   5%|▌         | 7/137 [02:08<40:42, 18.79s/it]"
     ]
    },
    {
     "name": "stderr",
     "output_type": "stream",
     "text": [
      "\r",
      "Epoch 3/25 - Training:   6%|▌         | 8/137 [02:09<28:09, 13.09s/it]"
     ]
    },
    {
     "name": "stderr",
     "output_type": "stream",
     "text": [
      "\r",
      "Epoch 3/25 - Training:   7%|▋         | 9/137 [02:41<40:36, 19.04s/it]"
     ]
    },
    {
     "name": "stderr",
     "output_type": "stream",
     "text": [
      "\r",
      "Epoch 3/25 - Training:   7%|▋         | 10/137 [02:42<28:26, 13.44s/it]"
     ]
    },
    {
     "name": "stderr",
     "output_type": "stream",
     "text": [
      "\r",
      "Epoch 3/25 - Training:   8%|▊         | 11/137 [03:13<39:50, 18.97s/it]"
     ]
    },
    {
     "name": "stderr",
     "output_type": "stream",
     "text": [
      "\r",
      "Epoch 3/25 - Training:   9%|▉         | 12/137 [03:15<28:34, 13.72s/it]"
     ]
    },
    {
     "name": "stderr",
     "output_type": "stream",
     "text": [
      "\r",
      "Epoch 3/25 - Training:   9%|▉         | 13/137 [03:45<38:56, 18.84s/it]"
     ]
    },
    {
     "name": "stderr",
     "output_type": "stream",
     "text": [
      "\r",
      "Epoch 3/25 - Training:  10%|█         | 14/137 [03:46<27:30, 13.42s/it]"
     ]
    },
    {
     "name": "stderr",
     "output_type": "stream",
     "text": [
      "\r",
      "Epoch 3/25 - Training:  11%|█         | 15/137 [04:17<37:59, 18.68s/it]"
     ]
    },
    {
     "name": "stderr",
     "output_type": "stream",
     "text": [
      "\r",
      "Epoch 3/25 - Training:  12%|█▏        | 16/137 [04:18<26:52, 13.33s/it]"
     ]
    },
    {
     "name": "stderr",
     "output_type": "stream",
     "text": [
      "\r",
      "Epoch 3/25 - Training:  12%|█▏        | 17/137 [04:50<38:00, 19.01s/it]"
     ]
    },
    {
     "name": "stderr",
     "output_type": "stream",
     "text": [
      "\r",
      "Epoch 3/25 - Training:  13%|█▎        | 18/137 [04:51<26:54, 13.56s/it]"
     ]
    },
    {
     "name": "stderr",
     "output_type": "stream",
     "text": [
      "\r",
      "Epoch 3/25 - Training:  14%|█▍        | 19/137 [05:23<37:27, 19.05s/it]"
     ]
    },
    {
     "name": "stderr",
     "output_type": "stream",
     "text": [
      "\r",
      "Epoch 3/25 - Training:  15%|█▍        | 20/137 [05:24<26:31, 13.60s/it]"
     ]
    },
    {
     "name": "stderr",
     "output_type": "stream",
     "text": [
      "\r",
      "Epoch 3/25 - Training:  15%|█▌        | 21/137 [05:47<31:46, 16.44s/it]"
     ]
    },
    {
     "name": "stderr",
     "output_type": "stream",
     "text": [
      "\r",
      "Epoch 3/25 - Training:  16%|█▌        | 22/137 [05:48<22:33, 11.77s/it]"
     ]
    },
    {
     "name": "stderr",
     "output_type": "stream",
     "text": [
      "\r",
      "Epoch 3/25 - Training:  17%|█▋        | 23/137 [06:20<34:10, 17.99s/it]"
     ]
    },
    {
     "name": "stderr",
     "output_type": "stream",
     "text": [
      "\r",
      "Epoch 3/25 - Training:  18%|█▊        | 24/137 [06:21<24:13, 12.86s/it]"
     ]
    },
    {
     "name": "stderr",
     "output_type": "stream",
     "text": [
      "\r",
      "Epoch 3/25 - Training:  18%|█▊        | 25/137 [06:48<31:53, 17.08s/it]"
     ]
    },
    {
     "name": "stderr",
     "output_type": "stream",
     "text": [
      "\r",
      "Epoch 3/25 - Training:  19%|█▉        | 26/137 [06:49<22:37, 12.23s/it]"
     ]
    },
    {
     "name": "stderr",
     "output_type": "stream",
     "text": [
      "\r",
      "Epoch 3/25 - Training:  20%|█▉        | 27/137 [07:17<30:55, 16.87s/it]"
     ]
    },
    {
     "name": "stderr",
     "output_type": "stream",
     "text": [
      "\r",
      "Epoch 3/25 - Training:  20%|██        | 28/137 [07:18<21:56, 12.08s/it]"
     ]
    },
    {
     "name": "stderr",
     "output_type": "stream",
     "text": [
      "\r",
      "Epoch 3/25 - Training:  21%|██        | 29/137 [07:50<32:52, 18.26s/it]"
     ]
    },
    {
     "name": "stderr",
     "output_type": "stream",
     "text": [
      "\r",
      "Epoch 3/25 - Training:  22%|██▏       | 30/137 [07:51<23:16, 13.05s/it]"
     ]
    },
    {
     "name": "stderr",
     "output_type": "stream",
     "text": [
      "\r",
      "Epoch 3/25 - Training:  23%|██▎       | 31/137 [08:19<30:40, 17.36s/it]"
     ]
    },
    {
     "name": "stderr",
     "output_type": "stream",
     "text": [
      "\r",
      "Epoch 3/25 - Training:  23%|██▎       | 32/137 [08:20<21:44, 12.43s/it]"
     ]
    },
    {
     "name": "stderr",
     "output_type": "stream",
     "text": [
      "\r",
      "Epoch 3/25 - Training:  24%|██▍       | 33/137 [08:43<27:12, 15.70s/it]"
     ]
    },
    {
     "name": "stderr",
     "output_type": "stream",
     "text": [
      "\r",
      "Epoch 3/25 - Training:  25%|██▍       | 34/137 [08:44<19:19, 11.26s/it]"
     ]
    },
    {
     "name": "stderr",
     "output_type": "stream",
     "text": [
      "\r",
      "Epoch 3/25 - Training:  26%|██▌       | 35/137 [09:12<27:33, 16.22s/it]"
     ]
    },
    {
     "name": "stderr",
     "output_type": "stream",
     "text": [
      "\r",
      "Epoch 3/25 - Training:  26%|██▋       | 36/137 [09:12<19:33, 11.62s/it]"
     ]
    },
    {
     "name": "stderr",
     "output_type": "stream",
     "text": [
      "\r",
      "Epoch 3/25 - Training:  27%|██▋       | 37/137 [09:44<29:17, 17.57s/it]"
     ]
    },
    {
     "name": "stderr",
     "output_type": "stream",
     "text": [
      "\r",
      "Epoch 3/25 - Training:  28%|██▊       | 38/137 [09:45<20:44, 12.57s/it]"
     ]
    },
    {
     "name": "stderr",
     "output_type": "stream",
     "text": [
      "\r",
      "Epoch 3/25 - Training:  28%|██▊       | 39/137 [10:17<30:03, 18.41s/it]"
     ]
    },
    {
     "name": "stderr",
     "output_type": "stream",
     "text": [
      "\r",
      "Epoch 3/25 - Training:  29%|██▉       | 40/137 [10:18<21:16, 13.16s/it]"
     ]
    },
    {
     "name": "stderr",
     "output_type": "stream",
     "text": [
      "\r",
      "Epoch 3/25 - Training:  30%|██▉       | 41/137 [10:50<30:06, 18.81s/it]"
     ]
    },
    {
     "name": "stderr",
     "output_type": "stream",
     "text": [
      "\r",
      "Epoch 3/25 - Training:  31%|███       | 42/137 [10:51<21:16, 13.44s/it]"
     ]
    },
    {
     "name": "stderr",
     "output_type": "stream",
     "text": [
      "\r",
      "Epoch 3/25 - Training:  31%|███▏      | 43/137 [11:21<29:10, 18.62s/it]"
     ]
    },
    {
     "name": "stderr",
     "output_type": "stream",
     "text": [
      "\r",
      "Epoch 3/25 - Training:  32%|███▏      | 44/137 [11:22<20:37, 13.30s/it]"
     ]
    },
    {
     "name": "stderr",
     "output_type": "stream",
     "text": [
      "\r",
      "Epoch 3/25 - Training:  33%|███▎      | 45/137 [11:53<28:22, 18.50s/it]"
     ]
    },
    {
     "name": "stderr",
     "output_type": "stream",
     "text": [
      "\r",
      "Epoch 3/25 - Training:  34%|███▎      | 46/137 [11:54<20:03, 13.22s/it]"
     ]
    },
    {
     "name": "stderr",
     "output_type": "stream",
     "text": [
      "\r",
      "Epoch 3/25 - Training:  34%|███▍      | 47/137 [12:22<26:39, 17.77s/it]"
     ]
    },
    {
     "name": "stderr",
     "output_type": "stream",
     "text": [
      "\r",
      "Epoch 3/25 - Training:  35%|███▌      | 48/137 [12:23<18:51, 12.71s/it]"
     ]
    },
    {
     "name": "stderr",
     "output_type": "stream",
     "text": [
      "\r",
      "Epoch 3/25 - Training:  36%|███▌      | 49/137 [12:43<21:38, 14.76s/it]"
     ]
    },
    {
     "name": "stderr",
     "output_type": "stream",
     "text": [
      "\r",
      "Epoch 3/25 - Training:  36%|███▋      | 50/137 [12:44<15:22, 10.60s/it]"
     ]
    },
    {
     "name": "stderr",
     "output_type": "stream",
     "text": [
      "\r",
      "Epoch 3/25 - Training:  37%|███▋      | 51/137 [13:15<24:04, 16.80s/it]"
     ]
    },
    {
     "name": "stderr",
     "output_type": "stream",
     "text": [
      "\r",
      "Epoch 3/25 - Training:  38%|███▊      | 52/137 [13:16<17:02, 12.03s/it]"
     ]
    },
    {
     "name": "stderr",
     "output_type": "stream",
     "text": [
      "\r",
      "Epoch 3/25 - Training:  39%|███▊      | 53/137 [13:45<24:00, 17.15s/it]"
     ]
    },
    {
     "name": "stderr",
     "output_type": "stream",
     "text": [
      "\r",
      "Epoch 3/25 - Training:  39%|███▉      | 54/137 [13:46<16:58, 12.27s/it]"
     ]
    },
    {
     "name": "stderr",
     "output_type": "stream",
     "text": [
      "\r",
      "Epoch 3/25 - Training:  40%|████      | 55/137 [14:14<23:24, 17.12s/it]"
     ]
    },
    {
     "name": "stderr",
     "output_type": "stream",
     "text": [
      "\r",
      "Epoch 3/25 - Training:  41%|████      | 56/137 [14:15<16:32, 12.26s/it]"
     ]
    },
    {
     "name": "stderr",
     "output_type": "stream",
     "text": [
      "\r",
      "Epoch 3/25 - Training:  42%|████▏     | 57/137 [14:43<22:48, 17.10s/it]"
     ]
    },
    {
     "name": "stderr",
     "output_type": "stream",
     "text": [
      "\r",
      "Epoch 3/25 - Training:  42%|████▏     | 58/137 [14:44<16:07, 12.24s/it]"
     ]
    },
    {
     "name": "stderr",
     "output_type": "stream",
     "text": [
      "\r",
      "Epoch 3/25 - Training:  43%|████▎     | 59/137 [15:12<21:47, 16.76s/it]"
     ]
    },
    {
     "name": "stderr",
     "output_type": "stream",
     "text": [
      "\r",
      "Epoch 3/25 - Training:  44%|████▍     | 60/137 [15:13<15:24, 12.00s/it]"
     ]
    },
    {
     "name": "stderr",
     "output_type": "stream",
     "text": [
      "\r",
      "Epoch 3/25 - Training:  45%|████▍     | 61/137 [15:45<22:51, 18.05s/it]"
     ]
    },
    {
     "name": "stderr",
     "output_type": "stream",
     "text": [
      "\r",
      "Epoch 3/25 - Training:  45%|████▌     | 62/137 [15:46<16:07, 12.91s/it]"
     ]
    },
    {
     "name": "stderr",
     "output_type": "stream",
     "text": [
      "\r",
      "Epoch 3/25 - Training:  46%|████▌     | 63/137 [16:14<21:46, 17.66s/it]"
     ]
    },
    {
     "name": "stderr",
     "output_type": "stream",
     "text": [
      "\r",
      "Epoch 3/25 - Training:  47%|████▋     | 64/137 [16:15<15:22, 12.63s/it]"
     ]
    },
    {
     "name": "stderr",
     "output_type": "stream",
     "text": [
      "\r",
      "Epoch 3/25 - Training:  47%|████▋     | 65/137 [16:42<20:20, 16.95s/it]"
     ]
    },
    {
     "name": "stderr",
     "output_type": "stream",
     "text": [
      "\r",
      "Epoch 3/25 - Training:  48%|████▊     | 66/137 [16:43<14:21, 12.14s/it]"
     ]
    },
    {
     "name": "stderr",
     "output_type": "stream",
     "text": [
      "\r",
      "Epoch 3/25 - Training:  49%|████▉     | 67/137 [17:15<21:11, 18.16s/it]"
     ]
    },
    {
     "name": "stderr",
     "output_type": "stream",
     "text": [
      "\r",
      "Epoch 3/25 - Training:  50%|████▉     | 68/137 [17:16<14:55, 12.99s/it]"
     ]
    },
    {
     "name": "stderr",
     "output_type": "stream",
     "text": [
      "\r",
      "Epoch 3/25 - Training:  50%|█████     | 69/137 [17:45<19:54, 17.57s/it]"
     ]
    },
    {
     "name": "stderr",
     "output_type": "stream",
     "text": [
      "\r",
      "Epoch 3/25 - Training:  51%|█████     | 70/137 [17:45<14:01, 12.57s/it]"
     ]
    },
    {
     "name": "stderr",
     "output_type": "stream",
     "text": [
      "\r",
      "Epoch 3/25 - Training:  52%|█████▏    | 71/137 [18:17<20:04, 18.25s/it]"
     ]
    },
    {
     "name": "stderr",
     "output_type": "stream",
     "text": [
      "\r",
      "Epoch 3/25 - Training:  53%|█████▎    | 72/137 [18:18<14:07, 13.04s/it]"
     ]
    },
    {
     "name": "stderr",
     "output_type": "stream",
     "text": [
      "\r",
      "Epoch 3/25 - Training:  53%|█████▎    | 73/137 [18:42<17:18, 16.22s/it]"
     ]
    },
    {
     "name": "stderr",
     "output_type": "stream",
     "text": [
      "\r",
      "Epoch 3/25 - Training:  54%|█████▍    | 74/137 [18:42<12:12, 11.62s/it]"
     ]
    },
    {
     "name": "stderr",
     "output_type": "stream",
     "text": [
      "\r",
      "Epoch 3/25 - Training:  55%|█████▍    | 75/137 [19:14<18:19, 17.74s/it]"
     ]
    },
    {
     "name": "stderr",
     "output_type": "stream",
     "text": [
      "\r",
      "Epoch 3/25 - Training:  55%|█████▌    | 76/137 [19:15<12:54, 12.69s/it]"
     ]
    },
    {
     "name": "stderr",
     "output_type": "stream",
     "text": [
      "\r",
      "Epoch 3/25 - Training:  56%|█████▌    | 77/137 [19:47<18:16, 18.27s/it]"
     ]
    },
    {
     "name": "stderr",
     "output_type": "stream",
     "text": [
      "\r",
      "Epoch 3/25 - Training:  57%|█████▋    | 78/137 [19:48<12:50, 13.06s/it]"
     ]
    },
    {
     "name": "stderr",
     "output_type": "stream",
     "text": [
      "\r",
      "Epoch 3/25 - Training:  58%|█████▊    | 79/137 [20:16<17:00, 17.59s/it]"
     ]
    },
    {
     "name": "stderr",
     "output_type": "stream",
     "text": [
      "\r",
      "Epoch 3/25 - Training:  58%|█████▊    | 80/137 [20:17<11:57, 12.58s/it]"
     ]
    },
    {
     "name": "stderr",
     "output_type": "stream",
     "text": [
      "\r",
      "Epoch 3/25 - Training:  59%|█████▉    | 81/137 [20:41<14:58, 16.04s/it]"
     ]
    },
    {
     "name": "stderr",
     "output_type": "stream",
     "text": [
      "\r",
      "Epoch 3/25 - Training:  60%|█████▉    | 82/137 [20:42<10:32, 11.50s/it]"
     ]
    },
    {
     "name": "stderr",
     "output_type": "stream",
     "text": [
      "\r",
      "Epoch 3/25 - Training:  61%|██████    | 83/137 [21:13<15:43, 17.47s/it]"
     ]
    },
    {
     "name": "stderr",
     "output_type": "stream",
     "text": [
      "\r",
      "Epoch 3/25 - Training:  61%|██████▏   | 84/137 [21:14<11:02, 12.50s/it]"
     ]
    },
    {
     "name": "stderr",
     "output_type": "stream",
     "text": [
      "\r",
      "Epoch 3/25 - Training:  62%|██████▏   | 85/137 [21:42<14:56, 17.24s/it]"
     ]
    },
    {
     "name": "stderr",
     "output_type": "stream",
     "text": [
      "\r",
      "Epoch 3/25 - Training:  63%|██████▎   | 86/137 [21:43<10:29, 12.34s/it]"
     ]
    },
    {
     "name": "stderr",
     "output_type": "stream",
     "text": [
      "\r",
      "Epoch 3/25 - Training:  64%|██████▎   | 87/137 [22:07<13:15, 15.91s/it]"
     ]
    },
    {
     "name": "stderr",
     "output_type": "stream",
     "text": [
      "\r",
      "Epoch 3/25 - Training:  64%|██████▍   | 88/137 [22:08<09:19, 11.41s/it]"
     ]
    },
    {
     "name": "stderr",
     "output_type": "stream",
     "text": [
      "\r",
      "Epoch 3/25 - Training:  65%|██████▍   | 89/137 [22:40<13:53, 17.37s/it]"
     ]
    },
    {
     "name": "stderr",
     "output_type": "stream",
     "text": [
      "\r",
      "Epoch 3/25 - Training:  66%|██████▌   | 90/137 [22:40<09:44, 12.43s/it]"
     ]
    },
    {
     "name": "stderr",
     "output_type": "stream",
     "text": [
      "\r",
      "Epoch 3/25 - Training:  66%|██████▋   | 91/137 [23:13<14:07, 18.43s/it]"
     ]
    },
    {
     "name": "stderr",
     "output_type": "stream",
     "text": [
      "\r",
      "Epoch 3/25 - Training:  67%|██████▋   | 92/137 [23:14<09:52, 13.17s/it]"
     ]
    },
    {
     "name": "stderr",
     "output_type": "stream",
     "text": [
      "\r",
      "Epoch 3/25 - Training:  68%|██████▊   | 93/137 [23:45<13:32, 18.46s/it]"
     ]
    },
    {
     "name": "stderr",
     "output_type": "stream",
     "text": [
      "\r",
      "Epoch 3/25 - Training:  69%|██████▊   | 94/137 [23:45<09:27, 13.20s/it]"
     ]
    },
    {
     "name": "stderr",
     "output_type": "stream",
     "text": [
      "\r",
      "Epoch 3/25 - Training:  69%|██████▉   | 95/137 [24:13<12:14, 17.48s/it]"
     ]
    },
    {
     "name": "stderr",
     "output_type": "stream",
     "text": [
      "\r",
      "Epoch 3/25 - Training:  70%|███████   | 96/137 [24:14<08:32, 12.51s/it]"
     ]
    },
    {
     "name": "stderr",
     "output_type": "stream",
     "text": [
      "\r",
      "Epoch 3/25 - Training:  71%|███████   | 97/137 [24:46<12:17, 18.45s/it]"
     ]
    },
    {
     "name": "stderr",
     "output_type": "stream",
     "text": [
      "\r",
      "Epoch 3/25 - Training:  72%|███████▏  | 98/137 [24:47<08:34, 13.18s/it]"
     ]
    },
    {
     "name": "stderr",
     "output_type": "stream",
     "text": [
      "\r",
      "Epoch 3/25 - Training:  72%|███████▏  | 99/137 [25:20<12:05, 19.09s/it]"
     ]
    },
    {
     "name": "stderr",
     "output_type": "stream",
     "text": [
      "\r",
      "Epoch 3/25 - Training:  73%|███████▎  | 100/137 [25:21<08:24, 13.63s/it]"
     ]
    },
    {
     "name": "stderr",
     "output_type": "stream",
     "text": [
      "\r",
      "Epoch 3/25 - Training:  74%|███████▎  | 101/137 [25:39<09:04, 15.12s/it]"
     ]
    },
    {
     "name": "stderr",
     "output_type": "stream",
     "text": [
      "\r",
      "Epoch 3/25 - Training:  74%|███████▍  | 102/137 [25:40<06:19, 10.85s/it]"
     ]
    },
    {
     "name": "stderr",
     "output_type": "stream",
     "text": [
      "\r",
      "Epoch 3/25 - Training:  75%|███████▌  | 103/137 [26:09<09:05, 16.06s/it]"
     ]
    },
    {
     "name": "stderr",
     "output_type": "stream",
     "text": [
      "\r",
      "Epoch 3/25 - Training:  76%|███████▌  | 104/137 [26:09<06:19, 11.51s/it]"
     ]
    },
    {
     "name": "stderr",
     "output_type": "stream",
     "text": [
      "\r",
      "Epoch 3/25 - Training:  77%|███████▋  | 105/137 [26:41<09:19, 17.48s/it]"
     ]
    },
    {
     "name": "stderr",
     "output_type": "stream",
     "text": [
      "\r",
      "Epoch 3/25 - Training:  77%|███████▋  | 106/137 [26:42<06:27, 12.50s/it]"
     ]
    },
    {
     "name": "stderr",
     "output_type": "stream",
     "text": [
      "\r",
      "Epoch 3/25 - Training:  78%|███████▊  | 107/137 [27:13<09:03, 18.11s/it]"
     ]
    },
    {
     "name": "stderr",
     "output_type": "stream",
     "text": [
      "\r",
      "Epoch 3/25 - Training:  79%|███████▉  | 108/137 [27:14<06:15, 12.95s/it]"
     ]
    },
    {
     "name": "stderr",
     "output_type": "stream",
     "text": [
      "\r",
      "Epoch 3/25 - Training:  80%|███████▉  | 109/137 [27:42<08:09, 17.48s/it]"
     ]
    },
    {
     "name": "stderr",
     "output_type": "stream",
     "text": [
      "\r",
      "Epoch 3/25 - Training:  80%|████████  | 110/137 [27:43<05:37, 12.51s/it]"
     ]
    },
    {
     "name": "stderr",
     "output_type": "stream",
     "text": [
      "\r",
      "Epoch 3/25 - Training:  81%|████████  | 111/137 [28:13<07:46, 17.92s/it]"
     ]
    },
    {
     "name": "stderr",
     "output_type": "stream",
     "text": [
      "\r",
      "Epoch 3/25 - Training:  82%|████████▏ | 112/137 [28:14<05:20, 12.82s/it]"
     ]
    },
    {
     "name": "stderr",
     "output_type": "stream",
     "text": [
      "\r",
      "Epoch 3/25 - Training:  82%|████████▏ | 113/137 [28:47<07:30, 18.76s/it]"
     ]
    },
    {
     "name": "stderr",
     "output_type": "stream",
     "text": [
      "\r",
      "Epoch 3/25 - Training:  83%|████████▎ | 114/137 [28:48<05:08, 13.40s/it]"
     ]
    },
    {
     "name": "stderr",
     "output_type": "stream",
     "text": [
      "\r",
      "Epoch 3/25 - Training:  84%|████████▍ | 115/137 [29:12<06:06, 16.68s/it]"
     ]
    },
    {
     "name": "stderr",
     "output_type": "stream",
     "text": [
      "\r",
      "Epoch 3/25 - Training:  85%|████████▍ | 116/137 [29:13<04:10, 11.95s/it]"
     ]
    },
    {
     "name": "stderr",
     "output_type": "stream",
     "text": [
      "\r",
      "Epoch 3/25 - Training:  85%|████████▌ | 117/137 [29:45<06:01, 18.08s/it]"
     ]
    },
    {
     "name": "stderr",
     "output_type": "stream",
     "text": [
      "\r",
      "Epoch 3/25 - Training:  86%|████████▌ | 118/137 [29:46<04:05, 12.93s/it]"
     ]
    },
    {
     "name": "stderr",
     "output_type": "stream",
     "text": [
      "\r",
      "Epoch 3/25 - Training:  87%|████████▋ | 119/137 [30:10<04:49, 16.08s/it]"
     ]
    },
    {
     "name": "stderr",
     "output_type": "stream",
     "text": [
      "\r",
      "Epoch 3/25 - Training:  88%|████████▊ | 120/137 [30:11<03:16, 11.53s/it]"
     ]
    },
    {
     "name": "stderr",
     "output_type": "stream",
     "text": [
      "\r",
      "Epoch 3/25 - Training:  88%|████████▊ | 121/137 [30:39<04:25, 16.57s/it]"
     ]
    },
    {
     "name": "stderr",
     "output_type": "stream",
     "text": [
      "\r",
      "Epoch 3/25 - Training:  89%|████████▉ | 122/137 [30:40<02:58, 11.87s/it]"
     ]
    },
    {
     "name": "stderr",
     "output_type": "stream",
     "text": [
      "\r",
      "Epoch 3/25 - Training:  90%|████████▉ | 123/137 [31:12<04:11, 17.97s/it]"
     ]
    },
    {
     "name": "stderr",
     "output_type": "stream",
     "text": [
      "\r",
      "Epoch 3/25 - Training:  91%|█████████ | 124/137 [31:13<02:47, 12.85s/it]"
     ]
    },
    {
     "name": "stderr",
     "output_type": "stream",
     "text": [
      "\r",
      "Epoch 3/25 - Training:  91%|█████████ | 125/137 [31:34<03:02, 15.24s/it]"
     ]
    },
    {
     "name": "stderr",
     "output_type": "stream",
     "text": [
      "\r",
      "Epoch 3/25 - Training:  92%|█████████▏| 126/137 [31:36<02:03, 11.21s/it]"
     ]
    },
    {
     "name": "stderr",
     "output_type": "stream",
     "text": [
      "\r",
      "Epoch 3/25 - Training:  93%|█████████▎| 127/137 [32:03<02:42, 16.21s/it]"
     ]
    },
    {
     "name": "stderr",
     "output_type": "stream",
     "text": [
      "\r",
      "Epoch 3/25 - Training:  93%|█████████▎| 128/137 [32:04<01:44, 11.61s/it]"
     ]
    },
    {
     "name": "stderr",
     "output_type": "stream",
     "text": [
      "\r",
      "Epoch 3/25 - Training:  94%|█████████▍| 129/137 [32:37<02:23, 17.90s/it]"
     ]
    },
    {
     "name": "stderr",
     "output_type": "stream",
     "text": [
      "\r",
      "Epoch 3/25 - Training:  95%|█████████▍| 130/137 [32:38<01:29, 12.80s/it]"
     ]
    },
    {
     "name": "stderr",
     "output_type": "stream",
     "text": [
      "\r",
      "Epoch 3/25 - Training:  96%|█████████▌| 131/137 [33:04<01:40, 16.68s/it]"
     ]
    },
    {
     "name": "stderr",
     "output_type": "stream",
     "text": [
      "\r",
      "Epoch 3/25 - Training:  96%|█████████▋| 132/137 [33:04<00:59, 11.95s/it]"
     ]
    },
    {
     "name": "stderr",
     "output_type": "stream",
     "text": [
      "\r",
      "Epoch 3/25 - Training:  97%|█████████▋| 133/137 [33:37<01:11, 17.97s/it]"
     ]
    },
    {
     "name": "stderr",
     "output_type": "stream",
     "text": [
      "\r",
      "Epoch 3/25 - Training:  98%|█████████▊| 134/137 [33:37<00:38, 12.85s/it]"
     ]
    },
    {
     "name": "stderr",
     "output_type": "stream",
     "text": [
      "\r",
      "Epoch 3/25 - Training:  99%|█████████▊| 135/137 [34:04<00:33, 16.91s/it]"
     ]
    },
    {
     "name": "stderr",
     "output_type": "stream",
     "text": [
      "\r",
      "Epoch 3/25 - Training:  99%|█████████▉| 136/137 [34:05<00:12, 12.11s/it]"
     ]
    },
    {
     "name": "stderr",
     "output_type": "stream",
     "text": [
      "\r",
      "Epoch 3/25 - Training: 100%|██████████| 137/137 [34:15<00:00, 11.42s/it]"
     ]
    },
    {
     "name": "stderr",
     "output_type": "stream",
     "text": [
      "\r",
      "Epoch 3/25 - Training: 100%|██████████| 137/137 [34:15<00:00, 15.00s/it]"
     ]
    },
    {
     "name": "stderr",
     "output_type": "stream",
     "text": [
      "\n"
     ]
    },
    {
     "name": "stderr",
     "output_type": "stream",
     "text": [
      "\r",
      "Epoch 3/25 - Validation:   0%|          | 0/137 [00:00<?, ?it/s]"
     ]
    },
    {
     "name": "stderr",
     "output_type": "stream",
     "text": [
      "\r",
      "Epoch 3/25 - Validation:   1%|          | 1/137 [00:32<1:14:08, 32.71s/it]"
     ]
    },
    {
     "name": "stderr",
     "output_type": "stream",
     "text": [
      "\r",
      "Epoch 3/25 - Validation:   1%|▏         | 2/137 [00:33<30:42, 13.65s/it]  "
     ]
    },
    {
     "name": "stderr",
     "output_type": "stream",
     "text": [
      "\r",
      "Epoch 3/25 - Validation:   2%|▏         | 3/137 [01:05<49:52, 22.33s/it]"
     ]
    },
    {
     "name": "stderr",
     "output_type": "stream",
     "text": [
      "\r",
      "Epoch 3/25 - Validation:   3%|▎         | 4/137 [01:05<30:14, 13.64s/it]"
     ]
    },
    {
     "name": "stderr",
     "output_type": "stream",
     "text": [
      "\r",
      "Epoch 3/25 - Validation:   4%|▎         | 5/137 [01:37<44:13, 20.10s/it]"
     ]
    },
    {
     "name": "stderr",
     "output_type": "stream",
     "text": [
      "\r",
      "Epoch 3/25 - Validation:   4%|▍         | 6/137 [01:37<29:12, 13.37s/it]"
     ]
    },
    {
     "name": "stderr",
     "output_type": "stream",
     "text": [
      "\r",
      "Epoch 3/25 - Validation:   5%|▌         | 7/137 [02:09<41:51, 19.32s/it]"
     ]
    },
    {
     "name": "stderr",
     "output_type": "stream",
     "text": [
      "\r",
      "Epoch 3/25 - Validation:   6%|▌         | 8/137 [02:09<28:31, 13.27s/it]"
     ]
    },
    {
     "name": "stderr",
     "output_type": "stream",
     "text": [
      "\r",
      "Epoch 3/25 - Validation:   7%|▋         | 9/137 [02:41<40:50, 19.15s/it]"
     ]
    },
    {
     "name": "stderr",
     "output_type": "stream",
     "text": [
      "\r",
      "Epoch 3/25 - Validation:   7%|▋         | 10/137 [02:42<28:13, 13.33s/it]"
     ]
    },
    {
     "name": "stderr",
     "output_type": "stream",
     "text": [
      "\r",
      "Epoch 3/25 - Validation:   8%|▊         | 11/137 [03:14<39:55, 19.01s/it]"
     ]
    },
    {
     "name": "stderr",
     "output_type": "stream",
     "text": [
      "\r",
      "Epoch 3/25 - Validation:   9%|▉         | 12/137 [03:14<27:45, 13.32s/it]"
     ]
    },
    {
     "name": "stderr",
     "output_type": "stream",
     "text": [
      "\r",
      "Epoch 3/25 - Validation:   9%|▉         | 13/137 [03:46<39:07, 18.93s/it]"
     ]
    },
    {
     "name": "stderr",
     "output_type": "stream",
     "text": [
      "\r",
      "Epoch 3/25 - Validation:  10%|█         | 14/137 [03:46<27:27, 13.40s/it]"
     ]
    },
    {
     "name": "stderr",
     "output_type": "stream",
     "text": [
      "\r",
      "Epoch 3/25 - Validation:  11%|█         | 15/137 [04:18<38:18, 18.84s/it]"
     ]
    },
    {
     "name": "stderr",
     "output_type": "stream",
     "text": [
      "\r",
      "Epoch 3/25 - Validation:  12%|█▏        | 16/137 [04:18<26:45, 13.27s/it]"
     ]
    },
    {
     "name": "stderr",
     "output_type": "stream",
     "text": [
      "\r",
      "Epoch 3/25 - Validation:  12%|█▏        | 17/137 [04:49<37:14, 18.62s/it]"
     ]
    },
    {
     "name": "stderr",
     "output_type": "stream",
     "text": [
      "\r",
      "Epoch 3/25 - Validation:  13%|█▎        | 18/137 [04:50<26:08, 13.18s/it]"
     ]
    },
    {
     "name": "stderr",
     "output_type": "stream",
     "text": [
      "\r",
      "Epoch 3/25 - Validation:  14%|█▍        | 19/137 [05:21<36:42, 18.67s/it]"
     ]
    },
    {
     "name": "stderr",
     "output_type": "stream",
     "text": [
      "\r",
      "Epoch 3/25 - Validation:  15%|█▍        | 20/137 [05:21<25:39, 13.15s/it]"
     ]
    },
    {
     "name": "stderr",
     "output_type": "stream",
     "text": [
      "\r",
      "Epoch 3/25 - Validation:  15%|█▌        | 21/137 [05:54<36:35, 18.93s/it]"
     ]
    },
    {
     "name": "stderr",
     "output_type": "stream",
     "text": [
      "\r",
      "Epoch 3/25 - Validation:  16%|█▌        | 22/137 [05:54<25:34, 13.34s/it]"
     ]
    },
    {
     "name": "stderr",
     "output_type": "stream",
     "text": [
      "\r",
      "Epoch 3/25 - Validation:  17%|█▋        | 23/137 [06:26<35:49, 18.85s/it]"
     ]
    },
    {
     "name": "stderr",
     "output_type": "stream",
     "text": [
      "\r",
      "Epoch 3/25 - Validation:  18%|█▊        | 24/137 [06:26<25:01, 13.29s/it]"
     ]
    },
    {
     "name": "stderr",
     "output_type": "stream",
     "text": [
      "\r",
      "Epoch 3/25 - Validation:  18%|█▊        | 25/137 [06:59<35:36, 19.07s/it]"
     ]
    },
    {
     "name": "stderr",
     "output_type": "stream",
     "text": [
      "\r",
      "Epoch 3/25 - Validation:  19%|█▉        | 26/137 [06:59<24:52, 13.44s/it]"
     ]
    },
    {
     "name": "stderr",
     "output_type": "stream",
     "text": [
      "\r",
      "Epoch 3/25 - Validation:  20%|█▉        | 27/137 [07:31<34:40, 18.92s/it]"
     ]
    },
    {
     "name": "stderr",
     "output_type": "stream",
     "text": [
      "\r",
      "Epoch 3/25 - Validation:  20%|██        | 28/137 [07:31<24:13, 13.34s/it]"
     ]
    },
    {
     "name": "stderr",
     "output_type": "stream",
     "text": [
      "\r",
      "Epoch 3/25 - Validation:  21%|██        | 29/137 [08:04<34:35, 19.22s/it]"
     ]
    },
    {
     "name": "stderr",
     "output_type": "stream",
     "text": [
      "\r",
      "Epoch 3/25 - Validation:  22%|██▏       | 30/137 [08:04<24:09, 13.55s/it]"
     ]
    },
    {
     "name": "stderr",
     "output_type": "stream",
     "text": [
      "\r",
      "Epoch 3/25 - Validation:  23%|██▎       | 31/137 [08:38<34:33, 19.56s/it]"
     ]
    },
    {
     "name": "stderr",
     "output_type": "stream",
     "text": [
      "\r",
      "Epoch 3/25 - Validation:  23%|██▎       | 32/137 [08:38<24:07, 13.79s/it]"
     ]
    },
    {
     "name": "stderr",
     "output_type": "stream",
     "text": [
      "\r",
      "Epoch 3/25 - Validation:  24%|██▍       | 33/137 [09:11<33:52, 19.55s/it]"
     ]
    },
    {
     "name": "stderr",
     "output_type": "stream",
     "text": [
      "\r",
      "Epoch 3/25 - Validation:  25%|██▍       | 34/137 [09:11<23:38, 13.78s/it]"
     ]
    },
    {
     "name": "stderr",
     "output_type": "stream",
     "text": [
      "\r",
      "Epoch 3/25 - Validation:  26%|██▌       | 35/137 [09:44<33:12, 19.53s/it]"
     ]
    },
    {
     "name": "stderr",
     "output_type": "stream",
     "text": [
      "\r",
      "Epoch 3/25 - Validation:  26%|██▋       | 36/137 [09:45<23:10, 13.76s/it]"
     ]
    },
    {
     "name": "stderr",
     "output_type": "stream",
     "text": [
      "\r",
      "Epoch 3/25 - Validation:  27%|██▋       | 37/137 [10:18<32:32, 19.52s/it]"
     ]
    },
    {
     "name": "stderr",
     "output_type": "stream",
     "text": [
      "\r",
      "Epoch 3/25 - Validation:  28%|██▊       | 38/137 [10:18<22:42, 13.76s/it]"
     ]
    },
    {
     "name": "stderr",
     "output_type": "stream",
     "text": [
      "\r",
      "Epoch 3/25 - Validation:  28%|██▊       | 39/137 [10:50<31:12, 19.11s/it]"
     ]
    },
    {
     "name": "stderr",
     "output_type": "stream",
     "text": [
      "\r",
      "Epoch 3/25 - Validation:  29%|██▉       | 40/137 [10:50<21:46, 13.47s/it]"
     ]
    },
    {
     "name": "stderr",
     "output_type": "stream",
     "text": [
      "\r",
      "Epoch 3/25 - Validation:  30%|██▉       | 41/137 [11:22<30:40, 19.17s/it]"
     ]
    },
    {
     "name": "stderr",
     "output_type": "stream",
     "text": [
      "\r",
      "Epoch 3/25 - Validation:  31%|███       | 42/137 [11:23<21:23, 13.51s/it]"
     ]
    },
    {
     "name": "stderr",
     "output_type": "stream",
     "text": [
      "\r",
      "Epoch 3/25 - Validation:  31%|███▏      | 43/137 [11:54<29:31, 18.84s/it]"
     ]
    },
    {
     "name": "stderr",
     "output_type": "stream",
     "text": [
      "\r",
      "Epoch 3/25 - Validation:  32%|███▏      | 44/137 [11:54<20:35, 13.28s/it]"
     ]
    },
    {
     "name": "stderr",
     "output_type": "stream",
     "text": [
      "\r",
      "Epoch 3/25 - Validation:  33%|███▎      | 45/137 [12:26<28:48, 18.79s/it]"
     ]
    },
    {
     "name": "stderr",
     "output_type": "stream",
     "text": [
      "\r",
      "Epoch 3/25 - Validation:  34%|███▎      | 46/137 [12:26<20:05, 13.25s/it]"
     ]
    },
    {
     "name": "stderr",
     "output_type": "stream",
     "text": [
      "\r",
      "Epoch 3/25 - Validation:  34%|███▍      | 47/137 [12:59<28:31, 19.01s/it]"
     ]
    },
    {
     "name": "stderr",
     "output_type": "stream",
     "text": [
      "\r",
      "Epoch 3/25 - Validation:  35%|███▌      | 48/137 [12:59<19:52, 13.40s/it]"
     ]
    },
    {
     "name": "stderr",
     "output_type": "stream",
     "text": [
      "\r",
      "Epoch 3/25 - Validation:  36%|███▌      | 49/137 [13:31<28:02, 19.12s/it]"
     ]
    },
    {
     "name": "stderr",
     "output_type": "stream",
     "text": [
      "\r",
      "Epoch 3/25 - Validation:  36%|███▋      | 50/137 [13:32<19:32, 13.48s/it]"
     ]
    },
    {
     "name": "stderr",
     "output_type": "stream",
     "text": [
      "\r",
      "Epoch 3/25 - Validation:  37%|███▋      | 51/137 [14:04<27:12, 18.98s/it]"
     ]
    },
    {
     "name": "stderr",
     "output_type": "stream",
     "text": [
      "\r",
      "Epoch 3/25 - Validation:  38%|███▊      | 52/137 [14:04<18:57, 13.38s/it]"
     ]
    },
    {
     "name": "stderr",
     "output_type": "stream",
     "text": [
      "\r",
      "Epoch 3/25 - Validation:  39%|███▊      | 53/137 [14:35<26:16, 18.76s/it]"
     ]
    },
    {
     "name": "stderr",
     "output_type": "stream",
     "text": [
      "\r",
      "Epoch 3/25 - Validation:  39%|███▉      | 54/137 [14:36<18:17, 13.23s/it]"
     ]
    },
    {
     "name": "stderr",
     "output_type": "stream",
     "text": [
      "\r",
      "Epoch 3/25 - Validation:  40%|████      | 55/137 [15:07<25:36, 18.74s/it]"
     ]
    },
    {
     "name": "stderr",
     "output_type": "stream",
     "text": [
      "\r",
      "Epoch 3/25 - Validation:  41%|████      | 56/137 [15:07<17:50, 13.22s/it]"
     ]
    },
    {
     "name": "stderr",
     "output_type": "stream",
     "text": [
      "\r",
      "Epoch 3/25 - Validation:  42%|████▏     | 57/137 [15:40<25:22, 19.03s/it]"
     ]
    },
    {
     "name": "stderr",
     "output_type": "stream",
     "text": [
      "\r",
      "Epoch 3/25 - Validation:  42%|████▏     | 58/137 [15:40<17:39, 13.41s/it]"
     ]
    },
    {
     "name": "stderr",
     "output_type": "stream",
     "text": [
      "\r",
      "Epoch 3/25 - Validation:  43%|████▎     | 59/137 [16:13<25:03, 19.27s/it]"
     ]
    },
    {
     "name": "stderr",
     "output_type": "stream",
     "text": [
      "\r",
      "Epoch 3/25 - Validation:  44%|████▍     | 60/137 [16:14<17:26, 13.58s/it]"
     ]
    },
    {
     "name": "stderr",
     "output_type": "stream",
     "text": [
      "\r",
      "Epoch 3/25 - Validation:  45%|████▍     | 61/137 [16:47<24:31, 19.37s/it]"
     ]
    },
    {
     "name": "stderr",
     "output_type": "stream",
     "text": [
      "\r",
      "Epoch 3/25 - Validation:  45%|████▌     | 62/137 [16:47<17:03, 13.65s/it]"
     ]
    },
    {
     "name": "stderr",
     "output_type": "stream",
     "text": [
      "\r",
      "Epoch 3/25 - Validation:  46%|████▌     | 63/137 [17:19<23:35, 19.13s/it]"
     ]
    },
    {
     "name": "stderr",
     "output_type": "stream",
     "text": [
      "\r",
      "Epoch 3/25 - Validation:  47%|████▋     | 64/137 [17:19<16:24, 13.48s/it]"
     ]
    },
    {
     "name": "stderr",
     "output_type": "stream",
     "text": [
      "\r",
      "Epoch 3/25 - Validation:  47%|████▋     | 65/137 [17:52<23:12, 19.34s/it]"
     ]
    },
    {
     "name": "stderr",
     "output_type": "stream",
     "text": [
      "\r",
      "Epoch 3/25 - Validation:  48%|████▊     | 66/137 [17:52<16:07, 13.63s/it]"
     ]
    },
    {
     "name": "stderr",
     "output_type": "stream",
     "text": [
      "\r",
      "Epoch 3/25 - Validation:  49%|████▉     | 67/137 [18:25<22:39, 19.43s/it]"
     ]
    },
    {
     "name": "stderr",
     "output_type": "stream",
     "text": [
      "\r",
      "Epoch 3/25 - Validation:  50%|████▉     | 68/137 [18:26<15:44, 13.69s/it]"
     ]
    },
    {
     "name": "stderr",
     "output_type": "stream",
     "text": [
      "\r",
      "Epoch 3/25 - Validation:  50%|█████     | 69/137 [18:58<21:52, 19.30s/it]"
     ]
    },
    {
     "name": "stderr",
     "output_type": "stream",
     "text": [
      "\r",
      "Epoch 3/25 - Validation:  51%|█████     | 70/137 [18:58<15:11, 13.61s/it]"
     ]
    },
    {
     "name": "stderr",
     "output_type": "stream",
     "text": [
      "\r",
      "Epoch 3/25 - Validation:  52%|█████▏    | 71/137 [19:29<20:41, 18.81s/it]"
     ]
    },
    {
     "name": "stderr",
     "output_type": "stream",
     "text": [
      "\r",
      "Epoch 3/25 - Validation:  53%|█████▎    | 72/137 [19:30<14:22, 13.26s/it]"
     ]
    },
    {
     "name": "stderr",
     "output_type": "stream",
     "text": [
      "\r",
      "Epoch 3/25 - Validation:  53%|█████▎    | 73/137 [20:02<20:22, 19.10s/it]"
     ]
    },
    {
     "name": "stderr",
     "output_type": "stream",
     "text": [
      "\r",
      "Epoch 3/25 - Validation:  54%|█████▍    | 74/137 [20:03<14:08, 13.46s/it]"
     ]
    },
    {
     "name": "stderr",
     "output_type": "stream",
     "text": [
      "\r",
      "Epoch 3/25 - Validation:  55%|█████▍    | 75/137 [20:34<19:21, 18.74s/it]"
     ]
    },
    {
     "name": "stderr",
     "output_type": "stream",
     "text": [
      "\r",
      "Epoch 3/25 - Validation:  55%|█████▌    | 76/137 [20:34<13:25, 13.21s/it]"
     ]
    },
    {
     "name": "stderr",
     "output_type": "stream",
     "text": [
      "\r",
      "Epoch 3/25 - Validation:  56%|█████▌    | 77/137 [21:06<18:54, 18.90s/it]"
     ]
    },
    {
     "name": "stderr",
     "output_type": "stream",
     "text": [
      "\r",
      "Epoch 3/25 - Validation:  57%|█████▋    | 78/137 [21:06<13:06, 13.33s/it]"
     ]
    },
    {
     "name": "stderr",
     "output_type": "stream",
     "text": [
      "\r",
      "Epoch 3/25 - Validation:  58%|█████▊    | 79/137 [21:39<18:26, 19.08s/it]"
     ]
    },
    {
     "name": "stderr",
     "output_type": "stream",
     "text": [
      "\r",
      "Epoch 3/25 - Validation:  58%|█████▊    | 80/137 [21:39<12:46, 13.45s/it]"
     ]
    },
    {
     "name": "stderr",
     "output_type": "stream",
     "text": [
      "\r",
      "Epoch 3/25 - Validation:  59%|█████▉    | 81/137 [22:12<17:57, 19.25s/it]"
     ]
    },
    {
     "name": "stderr",
     "output_type": "stream",
     "text": [
      "\r",
      "Epoch 3/25 - Validation:  60%|█████▉    | 82/137 [22:12<12:26, 13.57s/it]"
     ]
    },
    {
     "name": "stderr",
     "output_type": "stream",
     "text": [
      "\r",
      "Epoch 3/25 - Validation:  61%|██████    | 83/137 [22:45<17:18, 19.23s/it]"
     ]
    },
    {
     "name": "stderr",
     "output_type": "stream",
     "text": [
      "\r",
      "Epoch 3/25 - Validation:  61%|██████▏   | 84/137 [22:45<11:58, 13.55s/it]"
     ]
    },
    {
     "name": "stderr",
     "output_type": "stream",
     "text": [
      "\r",
      "Epoch 3/25 - Validation:  62%|██████▏   | 85/137 [23:17<16:36, 19.17s/it]"
     ]
    },
    {
     "name": "stderr",
     "output_type": "stream",
     "text": [
      "\r",
      "Epoch 3/25 - Validation:  63%|██████▎   | 86/137 [23:18<11:28, 13.51s/it]"
     ]
    },
    {
     "name": "stderr",
     "output_type": "stream",
     "text": [
      "\r",
      "Epoch 3/25 - Validation:  64%|██████▎   | 87/137 [23:49<15:47, 18.95s/it]"
     ]
    },
    {
     "name": "stderr",
     "output_type": "stream",
     "text": [
      "\r",
      "Epoch 3/25 - Validation:  64%|██████▍   | 88/137 [23:50<10:54, 13.36s/it]"
     ]
    },
    {
     "name": "stderr",
     "output_type": "stream",
     "text": [
      "\r",
      "Epoch 3/25 - Validation:  65%|██████▍   | 89/137 [24:22<15:13, 19.04s/it]"
     ]
    },
    {
     "name": "stderr",
     "output_type": "stream",
     "text": [
      "\r",
      "Epoch 3/25 - Validation:  66%|██████▌   | 90/137 [24:22<10:30, 13.42s/it]"
     ]
    },
    {
     "name": "stderr",
     "output_type": "stream",
     "text": [
      "\r",
      "Epoch 3/25 - Validation:  66%|██████▋   | 91/137 [24:55<14:45, 19.26s/it]"
     ]
    },
    {
     "name": "stderr",
     "output_type": "stream",
     "text": [
      "\r",
      "Epoch 3/25 - Validation:  67%|██████▋   | 92/137 [24:55<10:10, 13.57s/it]"
     ]
    },
    {
     "name": "stderr",
     "output_type": "stream",
     "text": [
      "\r",
      "Epoch 3/25 - Validation:  68%|██████▊   | 93/137 [25:27<14:00, 19.10s/it]"
     ]
    },
    {
     "name": "stderr",
     "output_type": "stream",
     "text": [
      "\r",
      "Epoch 3/25 - Validation:  69%|██████▊   | 94/137 [25:28<09:38, 13.46s/it]"
     ]
    },
    {
     "name": "stderr",
     "output_type": "stream",
     "text": [
      "\r",
      "Epoch 3/25 - Validation:  69%|██████▉   | 95/137 [25:59<13:04, 18.68s/it]"
     ]
    },
    {
     "name": "stderr",
     "output_type": "stream",
     "text": [
      "\r",
      "Epoch 3/25 - Validation:  70%|███████   | 96/137 [25:59<08:59, 13.17s/it]"
     ]
    },
    {
     "name": "stderr",
     "output_type": "stream",
     "text": [
      "\r",
      "Epoch 3/25 - Validation:  71%|███████   | 97/137 [26:32<12:44, 19.11s/it]"
     ]
    },
    {
     "name": "stderr",
     "output_type": "stream",
     "text": [
      "\r",
      "Epoch 3/25 - Validation:  72%|███████▏  | 98/137 [26:32<08:45, 13.47s/it]"
     ]
    },
    {
     "name": "stderr",
     "output_type": "stream",
     "text": [
      "\r",
      "Epoch 3/25 - Validation:  72%|███████▏  | 99/137 [27:04<12:02, 19.02s/it]"
     ]
    },
    {
     "name": "stderr",
     "output_type": "stream",
     "text": [
      "\r",
      "Epoch 3/25 - Validation:  73%|███████▎  | 100/137 [27:05<08:16, 13.41s/it]"
     ]
    },
    {
     "name": "stderr",
     "output_type": "stream",
     "text": [
      "\r",
      "Epoch 3/25 - Validation:  74%|███████▎  | 101/137 [27:37<11:27, 19.09s/it]"
     ]
    },
    {
     "name": "stderr",
     "output_type": "stream",
     "text": [
      "\r",
      "Epoch 3/25 - Validation:  74%|███████▍  | 102/137 [27:37<07:51, 13.46s/it]"
     ]
    },
    {
     "name": "stderr",
     "output_type": "stream",
     "text": [
      "\r",
      "Epoch 3/25 - Validation:  75%|███████▌  | 103/137 [28:09<10:44, 18.96s/it]"
     ]
    },
    {
     "name": "stderr",
     "output_type": "stream",
     "text": [
      "\r",
      "Epoch 3/25 - Validation:  76%|███████▌  | 104/137 [28:09<07:21, 13.37s/it]"
     ]
    },
    {
     "name": "stderr",
     "output_type": "stream",
     "text": [
      "\r",
      "Epoch 3/25 - Validation:  77%|███████▋  | 105/137 [28:42<10:11, 19.11s/it]"
     ]
    },
    {
     "name": "stderr",
     "output_type": "stream",
     "text": [
      "\r",
      "Epoch 3/25 - Validation:  77%|███████▋  | 106/137 [28:42<06:57, 13.47s/it]"
     ]
    },
    {
     "name": "stderr",
     "output_type": "stream",
     "text": [
      "\r",
      "Epoch 3/25 - Validation:  78%|███████▊  | 107/137 [29:14<09:28, 18.94s/it]"
     ]
    },
    {
     "name": "stderr",
     "output_type": "stream",
     "text": [
      "\r",
      "Epoch 3/25 - Validation:  79%|███████▉  | 108/137 [29:14<06:27, 13.35s/it]"
     ]
    },
    {
     "name": "stderr",
     "output_type": "stream",
     "text": [
      "\r",
      "Epoch 3/25 - Validation:  80%|███████▉  | 109/137 [29:45<08:44, 18.74s/it]"
     ]
    },
    {
     "name": "stderr",
     "output_type": "stream",
     "text": [
      "\r",
      "Epoch 3/25 - Validation:  80%|████████  | 110/137 [29:46<05:56, 13.21s/it]"
     ]
    },
    {
     "name": "stderr",
     "output_type": "stream",
     "text": [
      "\r",
      "Epoch 3/25 - Validation:  81%|████████  | 111/137 [30:19<08:16, 19.08s/it]"
     ]
    },
    {
     "name": "stderr",
     "output_type": "stream",
     "text": [
      "\r",
      "Epoch 3/25 - Validation:  82%|████████▏ | 112/137 [30:19<05:36, 13.45s/it]"
     ]
    },
    {
     "name": "stderr",
     "output_type": "stream",
     "text": [
      "\r",
      "Epoch 3/25 - Validation:  82%|████████▏ | 113/137 [30:52<07:44, 19.37s/it]"
     ]
    },
    {
     "name": "stderr",
     "output_type": "stream",
     "text": [
      "\r",
      "Epoch 3/25 - Validation:  83%|████████▎ | 114/137 [30:52<05:14, 13.65s/it]"
     ]
    },
    {
     "name": "stderr",
     "output_type": "stream",
     "text": [
      "\r",
      "Epoch 3/25 - Validation:  84%|████████▍ | 115/137 [31:24<07:01, 19.14s/it]"
     ]
    },
    {
     "name": "stderr",
     "output_type": "stream",
     "text": [
      "\r",
      "Epoch 3/25 - Validation:  85%|████████▍ | 116/137 [31:25<04:43, 13.49s/it]"
     ]
    },
    {
     "name": "stderr",
     "output_type": "stream",
     "text": [
      "\r",
      "Epoch 3/25 - Validation:  85%|████████▌ | 117/137 [31:56<06:17, 18.88s/it]"
     ]
    },
    {
     "name": "stderr",
     "output_type": "stream",
     "text": [
      "\r",
      "Epoch 3/25 - Validation:  86%|████████▌ | 118/137 [31:56<04:12, 13.31s/it]"
     ]
    },
    {
     "name": "stderr",
     "output_type": "stream",
     "text": [
      "\r",
      "Epoch 3/25 - Validation:  87%|████████▋ | 119/137 [32:29<05:45, 19.19s/it]"
     ]
    },
    {
     "name": "stderr",
     "output_type": "stream",
     "text": [
      "\r",
      "Epoch 3/25 - Validation:  88%|████████▊ | 120/137 [32:30<03:49, 13.53s/it]"
     ]
    },
    {
     "name": "stderr",
     "output_type": "stream",
     "text": [
      "\r",
      "Epoch 3/25 - Validation:  88%|████████▊ | 121/137 [33:02<05:06, 19.16s/it]"
     ]
    },
    {
     "name": "stderr",
     "output_type": "stream",
     "text": [
      "\r",
      "Epoch 3/25 - Validation:  89%|████████▉ | 122/137 [33:02<03:22, 13.51s/it]"
     ]
    },
    {
     "name": "stderr",
     "output_type": "stream",
     "text": [
      "\r",
      "Epoch 3/25 - Validation:  90%|████████▉ | 123/137 [33:34<04:25, 18.95s/it]"
     ]
    },
    {
     "name": "stderr",
     "output_type": "stream",
     "text": [
      "\r",
      "Epoch 3/25 - Validation:  91%|█████████ | 124/137 [33:34<02:53, 13.36s/it]"
     ]
    },
    {
     "name": "stderr",
     "output_type": "stream",
     "text": [
      "\r",
      "Epoch 3/25 - Validation:  91%|█████████ | 125/137 [34:07<03:48, 19.08s/it]"
     ]
    },
    {
     "name": "stderr",
     "output_type": "stream",
     "text": [
      "\r",
      "Epoch 3/25 - Validation:  92%|█████████▏| 126/137 [34:07<02:27, 13.45s/it]"
     ]
    },
    {
     "name": "stderr",
     "output_type": "stream",
     "text": [
      "\r",
      "Epoch 3/25 - Validation:  93%|█████████▎| 127/137 [34:37<03:04, 18.49s/it]"
     ]
    },
    {
     "name": "stderr",
     "output_type": "stream",
     "text": [
      "\r",
      "Epoch 3/25 - Validation:  93%|█████████▎| 128/137 [34:37<01:57, 13.04s/it]"
     ]
    },
    {
     "name": "stderr",
     "output_type": "stream",
     "text": [
      "\r",
      "Epoch 3/25 - Validation:  94%|█████████▍| 129/137 [35:10<02:31, 18.97s/it]"
     ]
    },
    {
     "name": "stderr",
     "output_type": "stream",
     "text": [
      "\r",
      "Epoch 3/25 - Validation:  95%|█████████▍| 130/137 [35:11<01:33, 13.37s/it]"
     ]
    },
    {
     "name": "stderr",
     "output_type": "stream",
     "text": [
      "\r",
      "Epoch 3/25 - Validation:  96%|█████████▌| 131/137 [35:42<01:51, 18.66s/it]"
     ]
    },
    {
     "name": "stderr",
     "output_type": "stream",
     "text": [
      "\r",
      "Epoch 3/25 - Validation:  96%|█████████▋| 132/137 [35:42<01:05, 13.16s/it]"
     ]
    },
    {
     "name": "stderr",
     "output_type": "stream",
     "text": [
      "\r",
      "Epoch 3/25 - Validation:  97%|█████████▋| 133/137 [36:13<01:14, 18.55s/it]"
     ]
    },
    {
     "name": "stderr",
     "output_type": "stream",
     "text": [
      "\r",
      "Epoch 3/25 - Validation:  98%|█████████▊| 134/137 [36:13<00:39, 13.07s/it]"
     ]
    },
    {
     "name": "stderr",
     "output_type": "stream",
     "text": [
      "\r",
      "Epoch 3/25 - Validation:  99%|█████████▊| 135/137 [36:44<00:36, 18.42s/it]"
     ]
    },
    {
     "name": "stderr",
     "output_type": "stream",
     "text": [
      "\r",
      "Epoch 3/25 - Validation:  99%|█████████▉| 136/137 [36:45<00:12, 12.99s/it]"
     ]
    },
    {
     "name": "stderr",
     "output_type": "stream",
     "text": [
      "\r",
      "Epoch 3/25 - Validation: 100%|██████████| 137/137 [36:56<00:00, 12.42s/it]"
     ]
    },
    {
     "name": "stderr",
     "output_type": "stream",
     "text": [
      "\r",
      "Epoch 3/25 - Validation: 100%|██████████| 137/137 [36:56<00:00, 16.18s/it]"
     ]
    },
    {
     "name": "stderr",
     "output_type": "stream",
     "text": [
      "\n"
     ]
    },
    {
     "name": "stdout",
     "output_type": "stream",
     "text": [
      "Epoch 3/25:\n",
      "Train Loss: 1.0734, Train Acc: 0.4574\n",
      "Val Loss: 1.1099, Val Acc: 0.4500\n"
     ]
    },
    {
     "name": "stderr",
     "output_type": "stream",
     "text": [
      "\r",
      "Epoch 4/25 - Training:   0%|          | 0/137 [00:00<?, ?it/s]"
     ]
    },
    {
     "name": "stderr",
     "output_type": "stream",
     "text": [
      "\r",
      "Epoch 4/25 - Training:   1%|          | 1/137 [00:33<1:15:33, 33.34s/it]"
     ]
    },
    {
     "name": "stderr",
     "output_type": "stream",
     "text": [
      "\r",
      "Epoch 4/25 - Training:   1%|▏         | 2/137 [00:34<32:04, 14.25s/it]  "
     ]
    },
    {
     "name": "stderr",
     "output_type": "stream",
     "text": [
      "\r",
      "Epoch 4/25 - Training:   2%|▏         | 3/137 [01:05<49:02, 21.96s/it]"
     ]
    },
    {
     "name": "stderr",
     "output_type": "stream",
     "text": [
      "\r",
      "Epoch 4/25 - Training:   3%|▎         | 4/137 [01:06<30:33, 13.78s/it]"
     ]
    },
    {
     "name": "stderr",
     "output_type": "stream",
     "text": [
      "\r",
      "Epoch 4/25 - Training:   4%|▎         | 5/137 [01:38<44:32, 20.24s/it]"
     ]
    },
    {
     "name": "stderr",
     "output_type": "stream",
     "text": [
      "\r",
      "Epoch 4/25 - Training:   4%|▍         | 6/137 [01:39<29:49, 13.66s/it]"
     ]
    },
    {
     "name": "stderr",
     "output_type": "stream",
     "text": [
      "\r",
      "Epoch 4/25 - Training:   5%|▌         | 7/137 [02:11<42:45, 19.73s/it]"
     ]
    },
    {
     "name": "stderr",
     "output_type": "stream",
     "text": [
      "\r",
      "Epoch 4/25 - Training:   6%|▌         | 8/137 [02:12<29:31, 13.74s/it]"
     ]
    },
    {
     "name": "stderr",
     "output_type": "stream",
     "text": [
      "\r",
      "Epoch 4/25 - Training:   7%|▋         | 9/137 [02:44<41:29, 19.45s/it]"
     ]
    },
    {
     "name": "stderr",
     "output_type": "stream",
     "text": [
      "\r",
      "Epoch 4/25 - Training:   7%|▋         | 10/137 [02:45<29:02, 13.72s/it]"
     ]
    },
    {
     "name": "stderr",
     "output_type": "stream",
     "text": [
      "\r",
      "Epoch 4/25 - Training:   8%|▊         | 11/137 [03:16<39:48, 18.95s/it]"
     ]
    },
    {
     "name": "stderr",
     "output_type": "stream",
     "text": [
      "\r",
      "Epoch 4/25 - Training:   9%|▉         | 12/137 [03:16<28:02, 13.46s/it]"
     ]
    },
    {
     "name": "stderr",
     "output_type": "stream",
     "text": [
      "\r",
      "Epoch 4/25 - Training:   9%|▉         | 13/137 [03:49<39:45, 19.24s/it]"
     ]
    },
    {
     "name": "stderr",
     "output_type": "stream",
     "text": [
      "\r",
      "Epoch 4/25 - Training:  10%|█         | 14/137 [03:50<28:04, 13.70s/it]"
     ]
    },
    {
     "name": "stderr",
     "output_type": "stream",
     "text": [
      "\r",
      "Epoch 4/25 - Training:  11%|█         | 15/137 [04:21<38:28, 18.93s/it]"
     ]
    },
    {
     "name": "stderr",
     "output_type": "stream",
     "text": [
      "\r",
      "Epoch 4/25 - Training:  12%|█▏        | 16/137 [04:22<27:13, 13.50s/it]"
     ]
    },
    {
     "name": "stderr",
     "output_type": "stream",
     "text": [
      "\r",
      "Epoch 4/25 - Training:  12%|█▏        | 17/137 [04:53<37:46, 18.89s/it]"
     ]
    },
    {
     "name": "stderr",
     "output_type": "stream",
     "text": [
      "\r",
      "Epoch 4/25 - Training:  13%|█▎        | 18/137 [04:54<26:44, 13.48s/it]"
     ]
    },
    {
     "name": "stderr",
     "output_type": "stream",
     "text": [
      "\r",
      "Epoch 4/25 - Training:  14%|█▍        | 19/137 [05:18<32:28, 16.51s/it]"
     ]
    },
    {
     "name": "stderr",
     "output_type": "stream",
     "text": [
      "\r",
      "Epoch 4/25 - Training:  15%|█▍        | 20/137 [05:19<23:03, 11.83s/it]"
     ]
    },
    {
     "name": "stderr",
     "output_type": "stream",
     "text": [
      "\r",
      "Epoch 4/25 - Training:  15%|█▌        | 21/137 [05:50<34:05, 17.63s/it]"
     ]
    },
    {
     "name": "stderr",
     "output_type": "stream",
     "text": [
      "\r",
      "Epoch 4/25 - Training:  16%|█▌        | 22/137 [05:51<24:09, 12.61s/it]"
     ]
    },
    {
     "name": "stderr",
     "output_type": "stream",
     "text": [
      "\r",
      "Epoch 4/25 - Training:  17%|█▋        | 23/137 [06:18<32:08, 16.92s/it]"
     ]
    },
    {
     "name": "stderr",
     "output_type": "stream",
     "text": [
      "\r",
      "Epoch 4/25 - Training:  18%|█▊        | 24/137 [06:19<22:48, 12.11s/it]"
     ]
    },
    {
     "name": "stderr",
     "output_type": "stream",
     "text": [
      "\r",
      "Epoch 4/25 - Training:  18%|█▊        | 25/137 [06:50<33:40, 18.04s/it]"
     ]
    },
    {
     "name": "stderr",
     "output_type": "stream",
     "text": [
      "\r",
      "Epoch 4/25 - Training:  19%|█▉        | 26/137 [06:51<23:51, 12.90s/it]"
     ]
    },
    {
     "name": "stderr",
     "output_type": "stream",
     "text": [
      "\r",
      "Epoch 4/25 - Training:  20%|█▉        | 27/137 [07:22<33:16, 18.15s/it]"
     ]
    },
    {
     "name": "stderr",
     "output_type": "stream",
     "text": [
      "\r",
      "Epoch 4/25 - Training:  20%|██        | 28/137 [07:23<23:34, 12.98s/it]"
     ]
    },
    {
     "name": "stderr",
     "output_type": "stream",
     "text": [
      "\r",
      "Epoch 4/25 - Training:  21%|██        | 29/137 [07:51<31:32, 17.52s/it]"
     ]
    },
    {
     "name": "stderr",
     "output_type": "stream",
     "text": [
      "\r",
      "Epoch 4/25 - Training:  22%|██▏       | 30/137 [07:52<22:21, 12.54s/it]"
     ]
    },
    {
     "name": "stderr",
     "output_type": "stream",
     "text": [
      "\r",
      "Epoch 4/25 - Training:  23%|██▎       | 31/137 [08:24<32:24, 18.35s/it]"
     ]
    },
    {
     "name": "stderr",
     "output_type": "stream",
     "text": [
      "\r",
      "Epoch 4/25 - Training:  23%|██▎       | 32/137 [08:24<22:56, 13.11s/it]"
     ]
    },
    {
     "name": "stderr",
     "output_type": "stream",
     "text": [
      "\r",
      "Epoch 4/25 - Training:  24%|██▍       | 33/137 [08:47<27:29, 15.86s/it]"
     ]
    },
    {
     "name": "stderr",
     "output_type": "stream",
     "text": [
      "\r",
      "Epoch 4/25 - Training:  25%|██▍       | 34/137 [08:48<19:31, 11.37s/it]"
     ]
    },
    {
     "name": "stderr",
     "output_type": "stream",
     "text": [
      "\r",
      "Epoch 4/25 - Training:  26%|██▌       | 35/137 [09:20<29:51, 17.56s/it]"
     ]
    },
    {
     "name": "stderr",
     "output_type": "stream",
     "text": [
      "\r",
      "Epoch 4/25 - Training:  26%|██▋       | 36/137 [09:21<21:08, 12.56s/it]"
     ]
    },
    {
     "name": "stderr",
     "output_type": "stream",
     "text": [
      "\r",
      "Epoch 4/25 - Training:  27%|██▋       | 37/137 [09:49<28:39, 17.19s/it]"
     ]
    },
    {
     "name": "stderr",
     "output_type": "stream",
     "text": [
      "\r",
      "Epoch 4/25 - Training:  28%|██▊       | 38/137 [09:49<20:18, 12.31s/it]"
     ]
    },
    {
     "name": "stderr",
     "output_type": "stream",
     "text": [
      "\r",
      "Epoch 4/25 - Training:  28%|██▊       | 39/137 [10:21<29:34, 18.11s/it]"
     ]
    },
    {
     "name": "stderr",
     "output_type": "stream",
     "text": [
      "\r",
      "Epoch 4/25 - Training:  29%|██▉       | 40/137 [10:22<20:55, 12.95s/it]"
     ]
    },
    {
     "name": "stderr",
     "output_type": "stream",
     "text": [
      "\r",
      "Epoch 4/25 - Training:  30%|██▉       | 41/137 [10:50<27:50, 17.40s/it]"
     ]
    },
    {
     "name": "stderr",
     "output_type": "stream",
     "text": [
      "\r",
      "Epoch 4/25 - Training:  31%|███       | 42/137 [10:51<19:43, 12.45s/it]"
     ]
    },
    {
     "name": "stderr",
     "output_type": "stream",
     "text": [
      "\r",
      "Epoch 4/25 - Training:  31%|███▏      | 43/137 [11:15<24:56, 15.92s/it]"
     ]
    },
    {
     "name": "stderr",
     "output_type": "stream",
     "text": [
      "\r",
      "Epoch 4/25 - Training:  32%|███▏      | 44/137 [11:16<17:42, 11.42s/it]"
     ]
    },
    {
     "name": "stderr",
     "output_type": "stream",
     "text": [
      "\r",
      "Epoch 4/25 - Training:  33%|███▎      | 45/137 [11:48<27:03, 17.65s/it]"
     ]
    },
    {
     "name": "stderr",
     "output_type": "stream",
     "text": [
      "\r",
      "Epoch 4/25 - Training:  34%|███▎      | 46/137 [11:49<19:08, 12.63s/it]"
     ]
    },
    {
     "name": "stderr",
     "output_type": "stream",
     "text": [
      "\r",
      "Epoch 4/25 - Training:  34%|███▍      | 47/137 [12:20<27:18, 18.20s/it]"
     ]
    },
    {
     "name": "stderr",
     "output_type": "stream",
     "text": [
      "\r",
      "Epoch 4/25 - Training:  35%|███▌      | 48/137 [12:21<19:18, 13.01s/it]"
     ]
    },
    {
     "name": "stderr",
     "output_type": "stream",
     "text": [
      "\r",
      "Epoch 4/25 - Training:  36%|███▌      | 49/137 [12:47<25:02, 17.07s/it]"
     ]
    },
    {
     "name": "stderr",
     "output_type": "stream",
     "text": [
      "\r",
      "Epoch 4/25 - Training:  36%|███▋      | 50/137 [12:48<17:43, 12.22s/it]"
     ]
    },
    {
     "name": "stderr",
     "output_type": "stream",
     "text": [
      "\r",
      "Epoch 4/25 - Training:  37%|███▋      | 51/137 [13:15<23:51, 16.64s/it]"
     ]
    },
    {
     "name": "stderr",
     "output_type": "stream",
     "text": [
      "\r",
      "Epoch 4/25 - Training:  38%|███▊      | 52/137 [13:16<16:53, 11.92s/it]"
     ]
    },
    {
     "name": "stderr",
     "output_type": "stream",
     "text": [
      "\r",
      "Epoch 4/25 - Training:  39%|███▊      | 53/137 [13:44<23:30, 16.79s/it]"
     ]
    },
    {
     "name": "stderr",
     "output_type": "stream",
     "text": [
      "\r",
      "Epoch 4/25 - Training:  39%|███▉      | 54/137 [13:45<16:37, 12.02s/it]"
     ]
    },
    {
     "name": "stderr",
     "output_type": "stream",
     "text": [
      "\r",
      "Epoch 4/25 - Training:  40%|████      | 55/137 [14:15<23:55, 17.51s/it]"
     ]
    },
    {
     "name": "stderr",
     "output_type": "stream",
     "text": [
      "\r",
      "Epoch 4/25 - Training:  41%|████      | 56/137 [14:16<16:54, 12.53s/it]"
     ]
    },
    {
     "name": "stderr",
     "output_type": "stream",
     "text": [
      "\r",
      "Epoch 4/25 - Training:  42%|████▏     | 57/137 [14:39<20:50, 15.63s/it]"
     ]
    },
    {
     "name": "stderr",
     "output_type": "stream",
     "text": [
      "\r",
      "Epoch 4/25 - Training:  42%|████▏     | 58/137 [14:40<14:45, 11.21s/it]"
     ]
    },
    {
     "name": "stderr",
     "output_type": "stream",
     "text": [
      "\r",
      "Epoch 4/25 - Training:  43%|████▎     | 59/137 [15:08<20:56, 16.10s/it]"
     ]
    },
    {
     "name": "stderr",
     "output_type": "stream",
     "text": [
      "\r",
      "Epoch 4/25 - Training:  44%|████▍     | 60/137 [15:09<14:48, 11.54s/it]"
     ]
    },
    {
     "name": "stderr",
     "output_type": "stream",
     "text": [
      "\r",
      "Epoch 4/25 - Training:  45%|████▍     | 61/137 [15:36<20:34, 16.25s/it]"
     ]
    },
    {
     "name": "stderr",
     "output_type": "stream",
     "text": [
      "\r",
      "Epoch 4/25 - Training:  45%|████▌     | 62/137 [15:37<14:33, 11.64s/it]"
     ]
    },
    {
     "name": "stderr",
     "output_type": "stream",
     "text": [
      "\r",
      "Epoch 4/25 - Training:  46%|████▌     | 63/137 [16:09<21:57, 17.81s/it]"
     ]
    },
    {
     "name": "stderr",
     "output_type": "stream",
     "text": [
      "\r",
      "Epoch 4/25 - Training:  47%|████▋     | 64/137 [16:10<15:29, 12.74s/it]"
     ]
    },
    {
     "name": "stderr",
     "output_type": "stream",
     "text": [
      "\r",
      "Epoch 4/25 - Training:  47%|████▋     | 65/137 [16:41<21:59, 18.32s/it]"
     ]
    },
    {
     "name": "stderr",
     "output_type": "stream",
     "text": [
      "\r",
      "Epoch 4/25 - Training:  48%|████▊     | 66/137 [16:42<15:29, 13.09s/it]"
     ]
    },
    {
     "name": "stderr",
     "output_type": "stream",
     "text": [
      "\r",
      "Epoch 4/25 - Training:  49%|████▉     | 67/137 [17:14<21:56, 18.80s/it]"
     ]
    },
    {
     "name": "stderr",
     "output_type": "stream",
     "text": [
      "\r",
      "Epoch 4/25 - Training:  50%|████▉     | 68/137 [17:15<15:26, 13.43s/it]"
     ]
    },
    {
     "name": "stderr",
     "output_type": "stream",
     "text": [
      "\r",
      "Epoch 4/25 - Training:  50%|█████     | 69/137 [17:43<20:06, 17.74s/it]"
     ]
    },
    {
     "name": "stderr",
     "output_type": "stream",
     "text": [
      "\r",
      "Epoch 4/25 - Training:  51%|█████     | 70/137 [17:44<14:09, 12.69s/it]"
     ]
    },
    {
     "name": "stderr",
     "output_type": "stream",
     "text": [
      "\r",
      "Epoch 4/25 - Training:  52%|█████▏    | 71/137 [18:11<18:49, 17.11s/it]"
     ]
    },
    {
     "name": "stderr",
     "output_type": "stream",
     "text": [
      "\r",
      "Epoch 4/25 - Training:  53%|█████▎    | 72/137 [18:12<13:16, 12.25s/it]"
     ]
    },
    {
     "name": "stderr",
     "output_type": "stream",
     "text": [
      "\r",
      "Epoch 4/25 - Training:  53%|█████▎    | 73/137 [18:44<19:14, 18.04s/it]"
     ]
    },
    {
     "name": "stderr",
     "output_type": "stream",
     "text": [
      "\r",
      "Epoch 4/25 - Training:  54%|█████▍    | 74/137 [18:45<13:32, 12.90s/it]"
     ]
    },
    {
     "name": "stderr",
     "output_type": "stream",
     "text": [
      "\r",
      "Epoch 4/25 - Training:  55%|█████▍    | 75/137 [19:11<17:30, 16.94s/it]"
     ]
    },
    {
     "name": "stderr",
     "output_type": "stream",
     "text": [
      "\r",
      "Epoch 4/25 - Training:  55%|█████▌    | 76/137 [19:12<12:19, 12.13s/it]"
     ]
    },
    {
     "name": "stderr",
     "output_type": "stream",
     "text": [
      "\r",
      "Epoch 4/25 - Training:  56%|█████▌    | 77/137 [19:39<16:45, 16.75s/it]"
     ]
    },
    {
     "name": "stderr",
     "output_type": "stream",
     "text": [
      "\r",
      "Epoch 4/25 - Training:  57%|█████▋    | 78/137 [19:40<11:47, 12.00s/it]"
     ]
    },
    {
     "name": "stderr",
     "output_type": "stream",
     "text": [
      "\r",
      "Epoch 4/25 - Training:  58%|█████▊    | 79/137 [20:09<16:21, 16.93s/it]"
     ]
    },
    {
     "name": "stderr",
     "output_type": "stream",
     "text": [
      "\r",
      "Epoch 4/25 - Training:  58%|█████▊    | 80/137 [20:10<11:30, 12.12s/it]"
     ]
    },
    {
     "name": "stderr",
     "output_type": "stream",
     "text": [
      "\r",
      "Epoch 4/25 - Training:  59%|█████▉    | 81/137 [20:37<15:42, 16.84s/it]"
     ]
    },
    {
     "name": "stderr",
     "output_type": "stream",
     "text": [
      "\r",
      "Epoch 4/25 - Training:  60%|█████▉    | 82/137 [20:38<11:03, 12.06s/it]"
     ]
    },
    {
     "name": "stderr",
     "output_type": "stream",
     "text": [
      "\r",
      "Epoch 4/25 - Training:  61%|██████    | 83/137 [21:06<14:58, 16.64s/it]"
     ]
    },
    {
     "name": "stderr",
     "output_type": "stream",
     "text": [
      "\r",
      "Epoch 4/25 - Training:  61%|██████▏   | 84/137 [21:07<10:31, 11.92s/it]"
     ]
    },
    {
     "name": "stderr",
     "output_type": "stream",
     "text": [
      "\r",
      "Epoch 4/25 - Training:  62%|██████▏   | 85/137 [21:33<14:08, 16.31s/it]"
     ]
    },
    {
     "name": "stderr",
     "output_type": "stream",
     "text": [
      "\r",
      "Epoch 4/25 - Training:  63%|██████▎   | 86/137 [21:34<09:56, 11.69s/it]"
     ]
    },
    {
     "name": "stderr",
     "output_type": "stream",
     "text": [
      "\r",
      "Epoch 4/25 - Training:  64%|██████▎   | 87/137 [22:01<13:38, 16.38s/it]"
     ]
    },
    {
     "name": "stderr",
     "output_type": "stream",
     "text": [
      "\r",
      "Epoch 4/25 - Training:  64%|██████▍   | 88/137 [22:02<09:35, 11.74s/it]"
     ]
    },
    {
     "name": "stderr",
     "output_type": "stream",
     "text": [
      "\r",
      "Epoch 4/25 - Training:  65%|██████▍   | 89/137 [22:30<13:18, 16.64s/it]"
     ]
    },
    {
     "name": "stderr",
     "output_type": "stream",
     "text": [
      "\r",
      "Epoch 4/25 - Training:  66%|██████▌   | 90/137 [22:31<09:20, 11.92s/it]"
     ]
    },
    {
     "name": "stderr",
     "output_type": "stream",
     "text": [
      "\r",
      "Epoch 4/25 - Training:  66%|██████▋   | 91/137 [22:59<12:41, 16.55s/it]"
     ]
    },
    {
     "name": "stderr",
     "output_type": "stream",
     "text": [
      "\r",
      "Epoch 4/25 - Training:  67%|██████▋   | 92/137 [23:00<08:53, 11.86s/it]"
     ]
    },
    {
     "name": "stderr",
     "output_type": "stream",
     "text": [
      "\r",
      "Epoch 4/25 - Training:  68%|██████▊   | 93/137 [23:27<12:07, 16.53s/it]"
     ]
    },
    {
     "name": "stderr",
     "output_type": "stream",
     "text": [
      "\r",
      "Epoch 4/25 - Training:  69%|██████▊   | 94/137 [23:28<08:29, 11.84s/it]"
     ]
    },
    {
     "name": "stderr",
     "output_type": "stream",
     "text": [
      "\r",
      "Epoch 4/25 - Training:  69%|██████▉   | 95/137 [24:00<12:33, 17.93s/it]"
     ]
    },
    {
     "name": "stderr",
     "output_type": "stream",
     "text": [
      "\r",
      "Epoch 4/25 - Training:  70%|███████   | 96/137 [24:01<08:45, 12.82s/it]"
     ]
    },
    {
     "name": "stderr",
     "output_type": "stream",
     "text": [
      "\r",
      "Epoch 4/25 - Training:  71%|███████   | 97/137 [24:24<10:40, 16.00s/it]"
     ]
    },
    {
     "name": "stderr",
     "output_type": "stream",
     "text": [
      "\r",
      "Epoch 4/25 - Training:  72%|███████▏  | 98/137 [24:25<07:27, 11.47s/it]"
     ]
    },
    {
     "name": "stderr",
     "output_type": "stream",
     "text": [
      "\r",
      "Epoch 4/25 - Training:  72%|███████▏  | 99/137 [24:57<11:08, 17.61s/it]"
     ]
    },
    {
     "name": "stderr",
     "output_type": "stream",
     "text": [
      "\r",
      "Epoch 4/25 - Training:  73%|███████▎  | 100/137 [24:58<07:46, 12.60s/it]"
     ]
    },
    {
     "name": "stderr",
     "output_type": "stream",
     "text": [
      "\r",
      "Epoch 4/25 - Training:  74%|███████▎  | 101/137 [25:28<10:43, 17.89s/it]"
     ]
    },
    {
     "name": "stderr",
     "output_type": "stream",
     "text": [
      "\r",
      "Epoch 4/25 - Training:  74%|███████▍  | 102/137 [25:29<07:27, 12.79s/it]"
     ]
    },
    {
     "name": "stderr",
     "output_type": "stream",
     "text": [
      "\r",
      "Epoch 4/25 - Training:  75%|███████▌  | 103/137 [26:01<10:26, 18.44s/it]"
     ]
    },
    {
     "name": "stderr",
     "output_type": "stream",
     "text": [
      "\r",
      "Epoch 4/25 - Training:  76%|███████▌  | 104/137 [26:02<07:14, 13.18s/it]"
     ]
    },
    {
     "name": "stderr",
     "output_type": "stream",
     "text": [
      "\r",
      "Epoch 4/25 - Training:  77%|███████▋  | 105/137 [26:33<09:55, 18.62s/it]"
     ]
    },
    {
     "name": "stderr",
     "output_type": "stream",
     "text": [
      "\r",
      "Epoch 4/25 - Training:  77%|███████▋  | 106/137 [26:34<06:52, 13.31s/it]"
     ]
    },
    {
     "name": "stderr",
     "output_type": "stream",
     "text": [
      "\r",
      "Epoch 4/25 - Training:  78%|███████▊  | 107/137 [27:01<08:42, 17.40s/it]"
     ]
    },
    {
     "name": "stderr",
     "output_type": "stream",
     "text": [
      "\r",
      "Epoch 4/25 - Training:  79%|███████▉  | 108/137 [27:02<06:01, 12.46s/it]"
     ]
    },
    {
     "name": "stderr",
     "output_type": "stream",
     "text": [
      "\r",
      "Epoch 4/25 - Training:  80%|███████▉  | 109/137 [27:29<07:52, 16.89s/it]"
     ]
    },
    {
     "name": "stderr",
     "output_type": "stream",
     "text": [
      "\r",
      "Epoch 4/25 - Training:  80%|████████  | 110/137 [27:30<05:26, 12.09s/it]"
     ]
    },
    {
     "name": "stderr",
     "output_type": "stream",
     "text": [
      "\r",
      "Epoch 4/25 - Training:  81%|████████  | 111/137 [28:01<07:45, 17.89s/it]"
     ]
    },
    {
     "name": "stderr",
     "output_type": "stream",
     "text": [
      "\r",
      "Epoch 4/25 - Training:  82%|████████▏ | 112/137 [28:02<05:19, 12.80s/it]"
     ]
    },
    {
     "name": "stderr",
     "output_type": "stream",
     "text": [
      "\r",
      "Epoch 4/25 - Training:  82%|████████▏ | 113/137 [28:35<07:30, 18.75s/it]"
     ]
    },
    {
     "name": "stderr",
     "output_type": "stream",
     "text": [
      "\r",
      "Epoch 4/25 - Training:  83%|████████▎ | 114/137 [28:36<05:08, 13.40s/it]"
     ]
    },
    {
     "name": "stderr",
     "output_type": "stream",
     "text": [
      "\r",
      "Epoch 4/25 - Training:  84%|████████▍ | 115/137 [29:08<07:00, 19.12s/it]"
     ]
    },
    {
     "name": "stderr",
     "output_type": "stream",
     "text": [
      "\r",
      "Epoch 4/25 - Training:  85%|████████▍ | 116/137 [29:09<04:46, 13.66s/it]"
     ]
    },
    {
     "name": "stderr",
     "output_type": "stream",
     "text": [
      "\r",
      "Epoch 4/25 - Training:  85%|████████▌ | 117/137 [29:36<05:52, 17.60s/it]"
     ]
    },
    {
     "name": "stderr",
     "output_type": "stream",
     "text": [
      "\r",
      "Epoch 4/25 - Training:  86%|████████▌ | 118/137 [29:37<03:59, 12.59s/it]"
     ]
    },
    {
     "name": "stderr",
     "output_type": "stream",
     "text": [
      "\r",
      "Epoch 4/25 - Training:  87%|████████▋ | 119/137 [30:01<04:50, 16.11s/it]"
     ]
    },
    {
     "name": "stderr",
     "output_type": "stream",
     "text": [
      "\r",
      "Epoch 4/25 - Training:  88%|████████▊ | 120/137 [30:02<03:16, 11.55s/it]"
     ]
    },
    {
     "name": "stderr",
     "output_type": "stream",
     "text": [
      "\r",
      "Epoch 4/25 - Training:  88%|████████▊ | 121/137 [30:30<04:22, 16.40s/it]"
     ]
    },
    {
     "name": "stderr",
     "output_type": "stream",
     "text": [
      "\r",
      "Epoch 4/25 - Training:  89%|████████▉ | 122/137 [30:31<02:56, 11.75s/it]"
     ]
    },
    {
     "name": "stderr",
     "output_type": "stream",
     "text": [
      "\r",
      "Epoch 4/25 - Training:  90%|████████▉ | 123/137 [31:02<04:07, 17.66s/it]"
     ]
    },
    {
     "name": "stderr",
     "output_type": "stream",
     "text": [
      "\r",
      "Epoch 4/25 - Training:  91%|█████████ | 124/137 [31:03<02:44, 12.63s/it]"
     ]
    },
    {
     "name": "stderr",
     "output_type": "stream",
     "text": [
      "\r",
      "Epoch 4/25 - Training:  91%|█████████ | 125/137 [31:31<03:25, 17.09s/it]"
     ]
    },
    {
     "name": "stderr",
     "output_type": "stream",
     "text": [
      "\r",
      "Epoch 4/25 - Training:  92%|█████████▏| 126/137 [31:32<02:14, 12.23s/it]"
     ]
    },
    {
     "name": "stderr",
     "output_type": "stream",
     "text": [
      "\r",
      "Epoch 4/25 - Training:  93%|█████████▎| 127/137 [31:59<02:47, 16.77s/it]"
     ]
    },
    {
     "name": "stderr",
     "output_type": "stream",
     "text": [
      "\r",
      "Epoch 4/25 - Training:  93%|█████████▎| 128/137 [32:00<01:48, 12.01s/it]"
     ]
    },
    {
     "name": "stderr",
     "output_type": "stream",
     "text": [
      "\r",
      "Epoch 4/25 - Training:  94%|█████████▍| 129/137 [32:22<02:01, 15.20s/it]"
     ]
    },
    {
     "name": "stderr",
     "output_type": "stream",
     "text": [
      "\r",
      "Epoch 4/25 - Training:  95%|█████████▍| 130/137 [32:23<01:16, 10.91s/it]"
     ]
    },
    {
     "name": "stderr",
     "output_type": "stream",
     "text": [
      "\r",
      "Epoch 4/25 - Training:  96%|█████████▌| 131/137 [32:50<01:34, 15.70s/it]"
     ]
    },
    {
     "name": "stderr",
     "output_type": "stream",
     "text": [
      "\r",
      "Epoch 4/25 - Training:  96%|█████████▋| 132/137 [32:51<00:56, 11.26s/it]"
     ]
    },
    {
     "name": "stderr",
     "output_type": "stream",
     "text": [
      "\r",
      "Epoch 4/25 - Training:  97%|█████████▋| 133/137 [33:19<01:04, 16.18s/it]"
     ]
    },
    {
     "name": "stderr",
     "output_type": "stream",
     "text": [
      "\r",
      "Epoch 4/25 - Training:  98%|█████████▊| 134/137 [33:20<00:34, 11.60s/it]"
     ]
    },
    {
     "name": "stderr",
     "output_type": "stream",
     "text": [
      "\r",
      "Epoch 4/25 - Training:  99%|█████████▊| 135/137 [33:51<00:35, 17.56s/it]"
     ]
    },
    {
     "name": "stderr",
     "output_type": "stream",
     "text": [
      "\r",
      "Epoch 4/25 - Training:  99%|█████████▉| 136/137 [33:52<00:12, 12.56s/it]"
     ]
    },
    {
     "name": "stderr",
     "output_type": "stream",
     "text": [
      "\r",
      "Epoch 4/25 - Training: 100%|██████████| 137/137 [34:02<00:00, 11.88s/it]"
     ]
    },
    {
     "name": "stderr",
     "output_type": "stream",
     "text": [
      "\r",
      "Epoch 4/25 - Training: 100%|██████████| 137/137 [34:02<00:00, 14.91s/it]"
     ]
    },
    {
     "name": "stderr",
     "output_type": "stream",
     "text": [
      "\n"
     ]
    },
    {
     "name": "stderr",
     "output_type": "stream",
     "text": [
      "\r",
      "Epoch 4/25 - Validation:   0%|          | 0/137 [00:00<?, ?it/s]"
     ]
    },
    {
     "name": "stderr",
     "output_type": "stream",
     "text": [
      "\r",
      "Epoch 4/25 - Validation:   1%|          | 1/137 [00:32<1:14:28, 32.86s/it]"
     ]
    },
    {
     "name": "stderr",
     "output_type": "stream",
     "text": [
      "\r",
      "Epoch 4/25 - Validation:   1%|▏         | 2/137 [00:33<31:15, 13.89s/it]  "
     ]
    },
    {
     "name": "stderr",
     "output_type": "stream",
     "text": [
      "\r",
      "Epoch 4/25 - Validation:   2%|▏         | 3/137 [01:05<49:27, 22.15s/it]"
     ]
    },
    {
     "name": "stderr",
     "output_type": "stream",
     "text": [
      "\r",
      "Epoch 4/25 - Validation:   3%|▎         | 4/137 [01:06<30:22, 13.71s/it]"
     ]
    },
    {
     "name": "stderr",
     "output_type": "stream",
     "text": [
      "\r",
      "Epoch 4/25 - Validation:   4%|▎         | 5/137 [01:37<43:47, 19.91s/it]"
     ]
    },
    {
     "name": "stderr",
     "output_type": "stream",
     "text": [
      "\r",
      "Epoch 4/25 - Validation:   4%|▍         | 6/137 [01:37<28:55, 13.24s/it]"
     ]
    },
    {
     "name": "stderr",
     "output_type": "stream",
     "text": [
      "\r",
      "Epoch 4/25 - Validation:   5%|▌         | 7/137 [02:09<41:41, 19.25s/it]"
     ]
    },
    {
     "name": "stderr",
     "output_type": "stream",
     "text": [
      "\r",
      "Epoch 4/25 - Validation:   6%|▌         | 8/137 [02:09<28:51, 13.42s/it]"
     ]
    },
    {
     "name": "stderr",
     "output_type": "stream",
     "text": [
      "\r",
      "Epoch 4/25 - Validation:   7%|▋         | 9/137 [02:40<40:19, 18.90s/it]"
     ]
    },
    {
     "name": "stderr",
     "output_type": "stream",
     "text": [
      "\r",
      "Epoch 4/25 - Validation:   7%|▋         | 10/137 [02:42<28:30, 13.47s/it]"
     ]
    },
    {
     "name": "stderr",
     "output_type": "stream",
     "text": [
      "\r",
      "Epoch 4/25 - Validation:   8%|▊         | 11/137 [03:13<39:37, 18.87s/it]"
     ]
    },
    {
     "name": "stderr",
     "output_type": "stream",
     "text": [
      "\r",
      "Epoch 4/25 - Validation:   9%|▉         | 12/137 [03:13<27:45, 13.33s/it]"
     ]
    },
    {
     "name": "stderr",
     "output_type": "stream",
     "text": [
      "\r",
      "Epoch 4/25 - Validation:   9%|▉         | 13/137 [03:46<39:31, 19.12s/it]"
     ]
    },
    {
     "name": "stderr",
     "output_type": "stream",
     "text": [
      "\r",
      "Epoch 4/25 - Validation:  10%|█         | 14/137 [03:46<27:33, 13.44s/it]"
     ]
    },
    {
     "name": "stderr",
     "output_type": "stream",
     "text": [
      "\r",
      "Epoch 4/25 - Validation:  11%|█         | 15/137 [04:17<38:12, 18.79s/it]"
     ]
    },
    {
     "name": "stderr",
     "output_type": "stream",
     "text": [
      "\r",
      "Epoch 4/25 - Validation:  12%|█▏        | 16/137 [04:18<26:40, 13.23s/it]"
     ]
    },
    {
     "name": "stderr",
     "output_type": "stream",
     "text": [
      "\r",
      "Epoch 4/25 - Validation:  12%|█▏        | 17/137 [04:49<37:05, 18.54s/it]"
     ]
    },
    {
     "name": "stderr",
     "output_type": "stream",
     "text": [
      "\r",
      "Epoch 4/25 - Validation:  13%|█▎        | 18/137 [04:49<26:05, 13.15s/it]"
     ]
    },
    {
     "name": "stderr",
     "output_type": "stream",
     "text": [
      "\r",
      "Epoch 4/25 - Validation:  14%|█▍        | 19/137 [05:21<37:00, 18.82s/it]"
     ]
    },
    {
     "name": "stderr",
     "output_type": "stream",
     "text": [
      "\r",
      "Epoch 4/25 - Validation:  15%|█▍        | 20/137 [05:22<25:51, 13.26s/it]"
     ]
    },
    {
     "name": "stderr",
     "output_type": "stream",
     "text": [
      "\r",
      "Epoch 4/25 - Validation:  15%|█▌        | 21/137 [05:53<36:19, 18.79s/it]"
     ]
    },
    {
     "name": "stderr",
     "output_type": "stream",
     "text": [
      "\r",
      "Epoch 4/25 - Validation:  16%|█▌        | 22/137 [05:54<25:23, 13.24s/it]"
     ]
    },
    {
     "name": "stderr",
     "output_type": "stream",
     "text": [
      "\r",
      "Epoch 4/25 - Validation:  17%|█▋        | 23/137 [06:25<35:37, 18.75s/it]"
     ]
    },
    {
     "name": "stderr",
     "output_type": "stream",
     "text": [
      "\r",
      "Epoch 4/25 - Validation:  18%|█▊        | 24/137 [06:25<24:53, 13.22s/it]"
     ]
    },
    {
     "name": "stderr",
     "output_type": "stream",
     "text": [
      "\r",
      "Epoch 4/25 - Validation:  18%|█▊        | 25/137 [06:58<35:40, 19.11s/it]"
     ]
    },
    {
     "name": "stderr",
     "output_type": "stream",
     "text": [
      "\r",
      "Epoch 4/25 - Validation:  19%|█▉        | 26/137 [06:59<24:55, 13.47s/it]"
     ]
    },
    {
     "name": "stderr",
     "output_type": "stream",
     "text": [
      "\r",
      "Epoch 4/25 - Validation:  20%|█▉        | 27/137 [07:29<33:57, 18.52s/it]"
     ]
    },
    {
     "name": "stderr",
     "output_type": "stream",
     "text": [
      "\r",
      "Epoch 4/25 - Validation:  20%|██        | 28/137 [07:29<23:43, 13.06s/it]"
     ]
    },
    {
     "name": "stderr",
     "output_type": "stream",
     "text": [
      "\r",
      "Epoch 4/25 - Validation:  21%|██        | 29/137 [08:01<33:37, 18.68s/it]"
     ]
    },
    {
     "name": "stderr",
     "output_type": "stream",
     "text": [
      "\r",
      "Epoch 4/25 - Validation:  22%|██▏       | 30/137 [08:01<23:29, 13.17s/it]"
     ]
    },
    {
     "name": "stderr",
     "output_type": "stream",
     "text": [
      "\r",
      "Epoch 4/25 - Validation:  23%|██▎       | 31/137 [08:34<33:37, 19.03s/it]"
     ]
    },
    {
     "name": "stderr",
     "output_type": "stream",
     "text": [
      "\r",
      "Epoch 4/25 - Validation:  23%|██▎       | 32/137 [08:34<23:28, 13.41s/it]"
     ]
    },
    {
     "name": "stderr",
     "output_type": "stream",
     "text": [
      "\r",
      "Epoch 4/25 - Validation:  24%|██▍       | 33/137 [09:07<33:24, 19.27s/it]"
     ]
    },
    {
     "name": "stderr",
     "output_type": "stream",
     "text": [
      "\r",
      "Epoch 4/25 - Validation:  25%|██▍       | 34/137 [09:08<23:18, 13.58s/it]"
     ]
    },
    {
     "name": "stderr",
     "output_type": "stream",
     "text": [
      "\r",
      "Epoch 4/25 - Validation:  26%|██▌       | 35/137 [09:39<32:19, 19.02s/it]"
     ]
    },
    {
     "name": "stderr",
     "output_type": "stream",
     "text": [
      "\r",
      "Epoch 4/25 - Validation:  26%|██▋       | 36/137 [09:40<22:34, 13.41s/it]"
     ]
    },
    {
     "name": "stderr",
     "output_type": "stream",
     "text": [
      "\r",
      "Epoch 4/25 - Validation:  27%|██▋       | 37/137 [10:12<31:49, 19.10s/it]"
     ]
    },
    {
     "name": "stderr",
     "output_type": "stream",
     "text": [
      "\r",
      "Epoch 4/25 - Validation:  28%|██▊       | 38/137 [10:12<22:12, 13.46s/it]"
     ]
    },
    {
     "name": "stderr",
     "output_type": "stream",
     "text": [
      "\r",
      "Epoch 4/25 - Validation:  28%|██▊       | 39/137 [10:44<30:45, 18.83s/it]"
     ]
    },
    {
     "name": "stderr",
     "output_type": "stream",
     "text": [
      "\r",
      "Epoch 4/25 - Validation:  29%|██▉       | 40/137 [10:44<21:27, 13.28s/it]"
     ]
    },
    {
     "name": "stderr",
     "output_type": "stream",
     "text": [
      "\r",
      "Epoch 4/25 - Validation:  30%|██▉       | 41/137 [11:17<30:41, 19.18s/it]"
     ]
    },
    {
     "name": "stderr",
     "output_type": "stream",
     "text": [
      "\r",
      "Epoch 4/25 - Validation:  31%|███       | 42/137 [11:17<21:24, 13.52s/it]"
     ]
    },
    {
     "name": "stderr",
     "output_type": "stream",
     "text": [
      "\r",
      "Epoch 4/25 - Validation:  31%|███▏      | 43/137 [11:48<29:18, 18.70s/it]"
     ]
    },
    {
     "name": "stderr",
     "output_type": "stream",
     "text": [
      "\r",
      "Epoch 4/25 - Validation:  32%|███▏      | 44/137 [11:48<20:26, 13.19s/it]"
     ]
    },
    {
     "name": "stderr",
     "output_type": "stream",
     "text": [
      "\r",
      "Epoch 4/25 - Validation:  33%|███▎      | 45/137 [12:19<28:18, 18.47s/it]"
     ]
    },
    {
     "name": "stderr",
     "output_type": "stream",
     "text": [
      "\r",
      "Epoch 4/25 - Validation:  34%|███▎      | 46/137 [12:19<19:44, 13.02s/it]"
     ]
    },
    {
     "name": "stderr",
     "output_type": "stream",
     "text": [
      "\r",
      "Epoch 4/25 - Validation:  34%|███▍      | 47/137 [12:51<27:57, 18.64s/it]"
     ]
    },
    {
     "name": "stderr",
     "output_type": "stream",
     "text": [
      "\r",
      "Epoch 4/25 - Validation:  35%|███▌      | 48/137 [12:52<19:29, 13.14s/it]"
     ]
    },
    {
     "name": "stderr",
     "output_type": "stream",
     "text": [
      "\r",
      "Epoch 4/25 - Validation:  36%|███▌      | 49/137 [13:23<27:31, 18.77s/it]"
     ]
    },
    {
     "name": "stderr",
     "output_type": "stream",
     "text": [
      "\r",
      "Epoch 4/25 - Validation:  36%|███▋      | 50/137 [13:24<19:11, 13.23s/it]"
     ]
    },
    {
     "name": "stderr",
     "output_type": "stream",
     "text": [
      "\r",
      "Epoch 4/25 - Validation:  37%|███▋      | 51/137 [13:56<27:01, 18.86s/it]"
     ]
    },
    {
     "name": "stderr",
     "output_type": "stream",
     "text": [
      "\r",
      "Epoch 4/25 - Validation:  38%|███▊      | 52/137 [13:56<18:50, 13.29s/it]"
     ]
    },
    {
     "name": "stderr",
     "output_type": "stream",
     "text": [
      "\r",
      "Epoch 4/25 - Validation:  39%|███▊      | 53/137 [14:27<25:52, 18.49s/it]"
     ]
    },
    {
     "name": "stderr",
     "output_type": "stream",
     "text": [
      "\r",
      "Epoch 4/25 - Validation:  39%|███▉      | 54/137 [14:27<18:01, 13.03s/it]"
     ]
    },
    {
     "name": "stderr",
     "output_type": "stream",
     "text": [
      "\r",
      "Epoch 4/25 - Validation:  40%|████      | 55/137 [14:58<25:14, 18.47s/it]"
     ]
    },
    {
     "name": "stderr",
     "output_type": "stream",
     "text": [
      "\r",
      "Epoch 4/25 - Validation:  41%|████      | 56/137 [14:58<17:34, 13.02s/it]"
     ]
    },
    {
     "name": "stderr",
     "output_type": "stream",
     "text": [
      "\r",
      "Epoch 4/25 - Validation:  42%|████▏     | 57/137 [15:30<24:37, 18.47s/it]"
     ]
    },
    {
     "name": "stderr",
     "output_type": "stream",
     "text": [
      "\r",
      "Epoch 4/25 - Validation:  42%|████▏     | 58/137 [15:30<17:08, 13.02s/it]"
     ]
    },
    {
     "name": "stderr",
     "output_type": "stream",
     "text": [
      "\r",
      "Epoch 4/25 - Validation:  43%|████▎     | 59/137 [16:02<24:30, 18.86s/it]"
     ]
    },
    {
     "name": "stderr",
     "output_type": "stream",
     "text": [
      "\r",
      "Epoch 4/25 - Validation:  44%|████▍     | 60/137 [16:03<17:03, 13.29s/it]"
     ]
    },
    {
     "name": "stderr",
     "output_type": "stream",
     "text": [
      "\r",
      "Epoch 4/25 - Validation:  45%|████▍     | 61/137 [16:34<23:39, 18.67s/it]"
     ]
    },
    {
     "name": "stderr",
     "output_type": "stream",
     "text": [
      "\r",
      "Epoch 4/25 - Validation:  45%|████▌     | 62/137 [16:34<16:27, 13.16s/it]"
     ]
    },
    {
     "name": "stderr",
     "output_type": "stream",
     "text": [
      "\r",
      "Epoch 4/25 - Validation:  46%|████▌     | 63/137 [17:05<22:51, 18.53s/it]"
     ]
    },
    {
     "name": "stderr",
     "output_type": "stream",
     "text": [
      "\r",
      "Epoch 4/25 - Validation:  47%|████▋     | 64/137 [17:06<15:53, 13.06s/it]"
     ]
    },
    {
     "name": "stderr",
     "output_type": "stream",
     "text": [
      "\r",
      "Epoch 4/25 - Validation:  47%|████▋     | 65/137 [17:38<22:37, 18.85s/it]"
     ]
    },
    {
     "name": "stderr",
     "output_type": "stream",
     "text": [
      "\r",
      "Epoch 4/25 - Validation:  48%|████▊     | 66/137 [17:38<15:43, 13.29s/it]"
     ]
    },
    {
     "name": "stderr",
     "output_type": "stream",
     "text": [
      "\r",
      "Epoch 4/25 - Validation:  49%|████▉     | 67/137 [18:10<21:56, 18.81s/it]"
     ]
    },
    {
     "name": "stderr",
     "output_type": "stream",
     "text": [
      "\r",
      "Epoch 4/25 - Validation:  50%|████▉     | 68/137 [18:10<15:14, 13.26s/it]"
     ]
    },
    {
     "name": "stderr",
     "output_type": "stream",
     "text": [
      "\r",
      "Epoch 4/25 - Validation:  50%|█████     | 69/137 [18:41<20:59, 18.53s/it]"
     ]
    },
    {
     "name": "stderr",
     "output_type": "stream",
     "text": [
      "\r",
      "Epoch 4/25 - Validation:  51%|█████     | 70/137 [18:41<14:35, 13.06s/it]"
     ]
    },
    {
     "name": "stderr",
     "output_type": "stream",
     "text": [
      "\r",
      "Epoch 4/25 - Validation:  52%|█████▏    | 71/137 [19:12<20:07, 18.30s/it]"
     ]
    },
    {
     "name": "stderr",
     "output_type": "stream",
     "text": [
      "\r",
      "Epoch 4/25 - Validation:  53%|█████▎    | 72/137 [19:12<13:58, 12.90s/it]"
     ]
    },
    {
     "name": "stderr",
     "output_type": "stream",
     "text": [
      "\r",
      "Epoch 4/25 - Validation:  53%|█████▎    | 73/137 [19:44<19:51, 18.62s/it]"
     ]
    },
    {
     "name": "stderr",
     "output_type": "stream",
     "text": [
      "\r",
      "Epoch 4/25 - Validation:  54%|█████▍    | 74/137 [19:45<13:46, 13.12s/it]"
     ]
    },
    {
     "name": "stderr",
     "output_type": "stream",
     "text": [
      "\r",
      "Epoch 4/25 - Validation:  55%|█████▍    | 75/137 [20:16<19:05, 18.48s/it]"
     ]
    },
    {
     "name": "stderr",
     "output_type": "stream",
     "text": [
      "\r",
      "Epoch 4/25 - Validation:  55%|█████▌    | 76/137 [20:16<13:14, 13.03s/it]"
     ]
    },
    {
     "name": "stderr",
     "output_type": "stream",
     "text": [
      "\r",
      "Epoch 4/25 - Validation:  56%|█████▌    | 77/137 [20:47<18:35, 18.59s/it]"
     ]
    },
    {
     "name": "stderr",
     "output_type": "stream",
     "text": [
      "\r",
      "Epoch 4/25 - Validation:  57%|█████▋    | 78/137 [20:48<12:53, 13.11s/it]"
     ]
    },
    {
     "name": "stderr",
     "output_type": "stream",
     "text": [
      "\r",
      "Epoch 4/25 - Validation:  58%|█████▊    | 79/137 [21:20<18:08, 18.77s/it]"
     ]
    },
    {
     "name": "stderr",
     "output_type": "stream",
     "text": [
      "\r",
      "Epoch 4/25 - Validation:  58%|█████▊    | 80/137 [21:20<12:34, 13.23s/it]"
     ]
    },
    {
     "name": "stderr",
     "output_type": "stream",
     "text": [
      "\r",
      "Epoch 4/25 - Validation:  59%|█████▉    | 81/137 [21:52<17:36, 18.86s/it]"
     ]
    },
    {
     "name": "stderr",
     "output_type": "stream",
     "text": [
      "\r",
      "Epoch 4/25 - Validation:  60%|█████▉    | 82/137 [21:52<12:11, 13.29s/it]"
     ]
    },
    {
     "name": "stderr",
     "output_type": "stream",
     "text": [
      "\r",
      "Epoch 4/25 - Validation:  61%|██████    | 83/137 [22:24<17:00, 18.90s/it]"
     ]
    },
    {
     "name": "stderr",
     "output_type": "stream",
     "text": [
      "\r",
      "Epoch 4/25 - Validation:  61%|██████▏   | 84/137 [22:25<11:46, 13.32s/it]"
     ]
    },
    {
     "name": "stderr",
     "output_type": "stream",
     "text": [
      "\r",
      "Epoch 4/25 - Validation:  62%|██████▏   | 85/137 [22:56<16:22, 18.90s/it]"
     ]
    },
    {
     "name": "stderr",
     "output_type": "stream",
     "text": [
      "\r",
      "Epoch 4/25 - Validation:  63%|██████▎   | 86/137 [22:57<11:19, 13.32s/it]"
     ]
    },
    {
     "name": "stderr",
     "output_type": "stream",
     "text": [
      "\r",
      "Epoch 4/25 - Validation:  64%|██████▎   | 87/137 [23:28<15:32, 18.66s/it]"
     ]
    },
    {
     "name": "stderr",
     "output_type": "stream",
     "text": [
      "\r",
      "Epoch 4/25 - Validation:  64%|██████▍   | 88/137 [23:28<10:44, 13.15s/it]"
     ]
    },
    {
     "name": "stderr",
     "output_type": "stream",
     "text": [
      "\r",
      "Epoch 4/25 - Validation:  65%|██████▍   | 89/137 [24:01<15:07, 18.90s/it]"
     ]
    },
    {
     "name": "stderr",
     "output_type": "stream",
     "text": [
      "\r",
      "Epoch 4/25 - Validation:  66%|██████▌   | 90/137 [24:01<10:26, 13.33s/it]"
     ]
    },
    {
     "name": "stderr",
     "output_type": "stream",
     "text": [
      "\r",
      "Epoch 4/25 - Validation:  66%|██████▋   | 91/137 [24:33<14:28, 18.87s/it]"
     ]
    },
    {
     "name": "stderr",
     "output_type": "stream",
     "text": [
      "\r",
      "Epoch 4/25 - Validation:  67%|██████▋   | 92/137 [24:33<09:58, 13.30s/it]"
     ]
    },
    {
     "name": "stderr",
     "output_type": "stream",
     "text": [
      "\r",
      "Epoch 4/25 - Validation:  68%|██████▊   | 93/137 [25:05<13:52, 18.93s/it]"
     ]
    },
    {
     "name": "stderr",
     "output_type": "stream",
     "text": [
      "\r",
      "Epoch 4/25 - Validation:  69%|██████▊   | 94/137 [25:05<09:33, 13.34s/it]"
     ]
    },
    {
     "name": "stderr",
     "output_type": "stream",
     "text": [
      "\r",
      "Epoch 4/25 - Validation:  69%|██████▉   | 95/137 [25:36<13:03, 18.66s/it]"
     ]
    },
    {
     "name": "stderr",
     "output_type": "stream",
     "text": [
      "\r",
      "Epoch 4/25 - Validation:  70%|███████   | 96/137 [25:37<08:59, 13.16s/it]"
     ]
    },
    {
     "name": "stderr",
     "output_type": "stream",
     "text": [
      "\r",
      "Epoch 4/25 - Validation:  71%|███████   | 97/137 [26:10<12:51, 19.28s/it]"
     ]
    },
    {
     "name": "stderr",
     "output_type": "stream",
     "text": [
      "\r",
      "Epoch 4/25 - Validation:  72%|███████▏  | 98/137 [26:11<08:50, 13.59s/it]"
     ]
    },
    {
     "name": "stderr",
     "output_type": "stream",
     "text": [
      "\r",
      "Epoch 4/25 - Validation:  72%|███████▏  | 99/137 [26:42<11:56, 18.85s/it]"
     ]
    },
    {
     "name": "stderr",
     "output_type": "stream",
     "text": [
      "\r",
      "Epoch 4/25 - Validation:  73%|███████▎  | 100/137 [26:42<08:11, 13.28s/it]"
     ]
    },
    {
     "name": "stderr",
     "output_type": "stream",
     "text": [
      "\r",
      "Epoch 4/25 - Validation:  74%|███████▎  | 101/137 [27:14<11:21, 18.93s/it]"
     ]
    },
    {
     "name": "stderr",
     "output_type": "stream",
     "text": [
      "\r",
      "Epoch 4/25 - Validation:  74%|███████▍  | 102/137 [27:14<07:47, 13.34s/it]"
     ]
    },
    {
     "name": "stderr",
     "output_type": "stream",
     "text": [
      "\r",
      "Epoch 4/25 - Validation:  75%|███████▌  | 103/137 [27:46<10:37, 18.74s/it]"
     ]
    },
    {
     "name": "stderr",
     "output_type": "stream",
     "text": [
      "\r",
      "Epoch 4/25 - Validation:  76%|███████▌  | 104/137 [27:46<07:15, 13.21s/it]"
     ]
    },
    {
     "name": "stderr",
     "output_type": "stream",
     "text": [
      "\r",
      "Epoch 4/25 - Validation:  77%|███████▋  | 105/137 [28:18<10:06, 18.97s/it]"
     ]
    },
    {
     "name": "stderr",
     "output_type": "stream",
     "text": [
      "\r",
      "Epoch 4/25 - Validation:  77%|███████▋  | 106/137 [28:19<06:54, 13.37s/it]"
     ]
    },
    {
     "name": "stderr",
     "output_type": "stream",
     "text": [
      "\r",
      "Epoch 4/25 - Validation:  78%|███████▊  | 107/137 [28:50<09:24, 18.82s/it]"
     ]
    },
    {
     "name": "stderr",
     "output_type": "stream",
     "text": [
      "\r",
      "Epoch 4/25 - Validation:  79%|███████▉  | 108/137 [28:51<06:24, 13.27s/it]"
     ]
    },
    {
     "name": "stderr",
     "output_type": "stream",
     "text": [
      "\r",
      "Epoch 4/25 - Validation:  80%|███████▉  | 109/137 [29:21<08:35, 18.40s/it]"
     ]
    },
    {
     "name": "stderr",
     "output_type": "stream",
     "text": [
      "\r",
      "Epoch 4/25 - Validation:  80%|████████  | 110/137 [29:21<05:50, 12.97s/it]"
     ]
    },
    {
     "name": "stderr",
     "output_type": "stream",
     "text": [
      "\r",
      "Epoch 4/25 - Validation:  81%|████████  | 111/137 [29:53<08:07, 18.74s/it]"
     ]
    },
    {
     "name": "stderr",
     "output_type": "stream",
     "text": [
      "\r",
      "Epoch 4/25 - Validation:  82%|████████▏ | 112/137 [29:54<05:30, 13.21s/it]"
     ]
    },
    {
     "name": "stderr",
     "output_type": "stream",
     "text": [
      "\r",
      "Epoch 4/25 - Validation:  82%|████████▏ | 113/137 [30:26<07:33, 18.90s/it]"
     ]
    },
    {
     "name": "stderr",
     "output_type": "stream",
     "text": [
      "\r",
      "Epoch 4/25 - Validation:  83%|████████▎ | 114/137 [30:26<05:06, 13.32s/it]"
     ]
    },
    {
     "name": "stderr",
     "output_type": "stream",
     "text": [
      "\r",
      "Epoch 4/25 - Validation:  84%|████████▍ | 115/137 [30:58<06:56, 18.91s/it]"
     ]
    },
    {
     "name": "stderr",
     "output_type": "stream",
     "text": [
      "\r",
      "Epoch 4/25 - Validation:  85%|████████▍ | 116/137 [30:59<04:39, 13.33s/it]"
     ]
    },
    {
     "name": "stderr",
     "output_type": "stream",
     "text": [
      "\r",
      "Epoch 4/25 - Validation:  85%|████████▌ | 117/137 [31:30<06:15, 18.78s/it]"
     ]
    },
    {
     "name": "stderr",
     "output_type": "stream",
     "text": [
      "\r",
      "Epoch 4/25 - Validation:  86%|████████▌ | 118/137 [31:30<04:11, 13.24s/it]"
     ]
    },
    {
     "name": "stderr",
     "output_type": "stream",
     "text": [
      "\r",
      "Epoch 4/25 - Validation:  87%|████████▋ | 119/137 [32:02<05:39, 18.85s/it]"
     ]
    },
    {
     "name": "stderr",
     "output_type": "stream",
     "text": [
      "\r",
      "Epoch 4/25 - Validation:  88%|████████▊ | 120/137 [32:03<03:45, 13.29s/it]"
     ]
    },
    {
     "name": "stderr",
     "output_type": "stream",
     "text": [
      "\r",
      "Epoch 4/25 - Validation:  88%|████████▊ | 121/137 [32:34<05:01, 18.83s/it]"
     ]
    },
    {
     "name": "stderr",
     "output_type": "stream",
     "text": [
      "\r",
      "Epoch 4/25 - Validation:  89%|████████▉ | 122/137 [32:35<03:19, 13.28s/it]"
     ]
    },
    {
     "name": "stderr",
     "output_type": "stream",
     "text": [
      "\r",
      "Epoch 4/25 - Validation:  90%|████████▉ | 123/137 [33:06<04:20, 18.63s/it]"
     ]
    },
    {
     "name": "stderr",
     "output_type": "stream",
     "text": [
      "\r",
      "Epoch 4/25 - Validation:  91%|█████████ | 124/137 [33:06<02:50, 13.14s/it]"
     ]
    },
    {
     "name": "stderr",
     "output_type": "stream",
     "text": [
      "\r",
      "Epoch 4/25 - Validation:  91%|█████████ | 125/137 [33:38<03:46, 18.86s/it]"
     ]
    },
    {
     "name": "stderr",
     "output_type": "stream",
     "text": [
      "\r",
      "Epoch 4/25 - Validation:  92%|█████████▏| 126/137 [33:39<02:26, 13.30s/it]"
     ]
    },
    {
     "name": "stderr",
     "output_type": "stream",
     "text": [
      "\r",
      "Epoch 4/25 - Validation:  93%|█████████▎| 127/137 [34:09<03:03, 18.33s/it]"
     ]
    },
    {
     "name": "stderr",
     "output_type": "stream",
     "text": [
      "\r",
      "Epoch 4/25 - Validation:  93%|█████████▎| 128/137 [34:09<01:56, 12.92s/it]"
     ]
    },
    {
     "name": "stderr",
     "output_type": "stream",
     "text": [
      "\r",
      "Epoch 4/25 - Validation:  94%|█████████▍| 129/137 [34:42<02:30, 18.84s/it]"
     ]
    },
    {
     "name": "stderr",
     "output_type": "stream",
     "text": [
      "\r",
      "Epoch 4/25 - Validation:  95%|█████████▍| 130/137 [34:42<01:32, 13.28s/it]"
     ]
    },
    {
     "name": "stderr",
     "output_type": "stream",
     "text": [
      "\r",
      "Epoch 4/25 - Validation:  96%|█████████▌| 131/137 [35:13<01:51, 18.67s/it]"
     ]
    },
    {
     "name": "stderr",
     "output_type": "stream",
     "text": [
      "\r",
      "Epoch 4/25 - Validation:  96%|█████████▋| 132/137 [35:14<01:05, 13.16s/it]"
     ]
    },
    {
     "name": "stderr",
     "output_type": "stream",
     "text": [
      "\r",
      "Epoch 4/25 - Validation:  97%|█████████▋| 133/137 [35:45<01:14, 18.65s/it]"
     ]
    },
    {
     "name": "stderr",
     "output_type": "stream",
     "text": [
      "\r",
      "Epoch 4/25 - Validation:  98%|█████████▊| 134/137 [35:45<00:39, 13.15s/it]"
     ]
    },
    {
     "name": "stderr",
     "output_type": "stream",
     "text": [
      "\r",
      "Epoch 4/25 - Validation:  99%|█████████▊| 135/137 [36:17<00:37, 18.65s/it]"
     ]
    },
    {
     "name": "stderr",
     "output_type": "stream",
     "text": [
      "\r",
      "Epoch 4/25 - Validation:  99%|█████████▉| 136/137 [36:17<00:13, 13.14s/it]"
     ]
    },
    {
     "name": "stderr",
     "output_type": "stream",
     "text": [
      "\r",
      "Epoch 4/25 - Validation: 100%|██████████| 137/137 [36:28<00:00, 12.51s/it]"
     ]
    },
    {
     "name": "stderr",
     "output_type": "stream",
     "text": [
      "\r",
      "Epoch 4/25 - Validation: 100%|██████████| 137/137 [36:28<00:00, 15.98s/it]"
     ]
    },
    {
     "name": "stderr",
     "output_type": "stream",
     "text": [
      "\n"
     ]
    },
    {
     "name": "stdout",
     "output_type": "stream",
     "text": [
      "Epoch 4/25:\n",
      "Train Loss: 1.0678, Train Acc: 0.4830\n",
      "Val Loss: 1.1121, Val Acc: 0.4500\n"
     ]
    },
    {
     "name": "stderr",
     "output_type": "stream",
     "text": [
      "\r",
      "Epoch 5/25 - Training:   0%|          | 0/137 [00:00<?, ?it/s]"
     ]
    },
    {
     "name": "stderr",
     "output_type": "stream",
     "text": [
      "\r",
      "Epoch 5/25 - Training:   1%|          | 1/137 [00:33<1:16:39, 33.82s/it]"
     ]
    },
    {
     "name": "stderr",
     "output_type": "stream",
     "text": [
      "\r",
      "Epoch 5/25 - Training:   1%|▏         | 2/137 [00:34<32:31, 14.45s/it]  "
     ]
    },
    {
     "name": "stderr",
     "output_type": "stream",
     "text": [
      "\r",
      "Epoch 5/25 - Training:   2%|▏         | 3/137 [01:03<47:01, 21.06s/it]"
     ]
    },
    {
     "name": "stderr",
     "output_type": "stream",
     "text": [
      "\r",
      "Epoch 5/25 - Training:   3%|▎         | 4/137 [01:06<30:27, 13.74s/it]"
     ]
    },
    {
     "name": "stderr",
     "output_type": "stream",
     "text": [
      "\r",
      "Epoch 5/25 - Training:   4%|▎         | 5/137 [01:36<43:06, 19.60s/it]"
     ]
    },
    {
     "name": "stderr",
     "output_type": "stream",
     "text": [
      "\r",
      "Epoch 5/25 - Training:   4%|▍         | 6/137 [01:39<30:37, 14.02s/it]"
     ]
    },
    {
     "name": "stderr",
     "output_type": "stream",
     "text": [
      "\r",
      "Epoch 5/25 - Training:   5%|▌         | 7/137 [02:07<40:36, 18.74s/it]"
     ]
    },
    {
     "name": "stderr",
     "output_type": "stream",
     "text": [
      "\r",
      "Epoch 5/25 - Training:   6%|▌         | 8/137 [02:08<28:04, 13.06s/it]"
     ]
    },
    {
     "name": "stderr",
     "output_type": "stream",
     "text": [
      "\r",
      "Epoch 5/25 - Training:   7%|▋         | 9/137 [02:41<40:55, 19.19s/it]"
     ]
    },
    {
     "name": "stderr",
     "output_type": "stream",
     "text": [
      "\r",
      "Epoch 5/25 - Training:   7%|▋         | 10/137 [02:42<28:39, 13.54s/it]"
     ]
    },
    {
     "name": "stderr",
     "output_type": "stream",
     "text": [
      "\r",
      "Epoch 5/25 - Training:   8%|▊         | 11/137 [03:14<40:20, 19.21s/it]"
     ]
    },
    {
     "name": "stderr",
     "output_type": "stream",
     "text": [
      "\r",
      "Epoch 5/25 - Training:   9%|▉         | 12/137 [03:15<28:24, 13.64s/it]"
     ]
    },
    {
     "name": "stderr",
     "output_type": "stream",
     "text": [
      "\r",
      "Epoch 5/25 - Training:   9%|▉         | 13/137 [03:42<36:37, 17.72s/it]"
     ]
    },
    {
     "name": "stderr",
     "output_type": "stream",
     "text": [
      "\r",
      "Epoch 5/25 - Training:  10%|█         | 14/137 [03:47<28:37, 13.96s/it]"
     ]
    },
    {
     "name": "stderr",
     "output_type": "stream",
     "text": [
      "\r",
      "Epoch 5/25 - Training:  11%|█         | 15/137 [04:11<34:37, 17.03s/it]"
     ]
    },
    {
     "name": "stderr",
     "output_type": "stream",
     "text": [
      "\r",
      "Epoch 5/25 - Training:  12%|█▏        | 16/137 [04:12<24:33, 12.17s/it]"
     ]
    },
    {
     "name": "stderr",
     "output_type": "stream",
     "text": [
      "\r",
      "Epoch 5/25 - Training:  12%|█▏        | 17/137 [04:44<36:03, 18.03s/it]"
     ]
    },
    {
     "name": "stderr",
     "output_type": "stream",
     "text": [
      "\r",
      "Epoch 5/25 - Training:  13%|█▎        | 18/137 [04:45<25:32, 12.88s/it]"
     ]
    },
    {
     "name": "stderr",
     "output_type": "stream",
     "text": [
      "\r",
      "Epoch 5/25 - Training:  14%|█▍        | 19/137 [05:09<31:49, 16.18s/it]"
     ]
    },
    {
     "name": "stderr",
     "output_type": "stream",
     "text": [
      "\r",
      "Epoch 5/25 - Training:  15%|█▍        | 20/137 [05:09<22:36, 11.60s/it]"
     ]
    },
    {
     "name": "stderr",
     "output_type": "stream",
     "text": [
      "\r",
      "Epoch 5/25 - Training:  15%|█▌        | 21/137 [05:42<34:50, 18.03s/it]"
     ]
    },
    {
     "name": "stderr",
     "output_type": "stream",
     "text": [
      "\r",
      "Epoch 5/25 - Training:  16%|█▌        | 22/137 [05:43<24:41, 12.88s/it]"
     ]
    },
    {
     "name": "stderr",
     "output_type": "stream",
     "text": [
      "\r",
      "Epoch 5/25 - Training:  17%|█▋        | 23/137 [06:10<32:06, 16.90s/it]"
     ]
    },
    {
     "name": "stderr",
     "output_type": "stream",
     "text": [
      "\r",
      "Epoch 5/25 - Training:  18%|█▊        | 24/137 [06:11<23:18, 12.38s/it]"
     ]
    },
    {
     "name": "stderr",
     "output_type": "stream",
     "text": [
      "\r",
      "Epoch 5/25 - Training:  18%|█▊        | 25/137 [06:35<29:09, 15.62s/it]"
     ]
    },
    {
     "name": "stderr",
     "output_type": "stream",
     "text": [
      "\r",
      "Epoch 5/25 - Training:  19%|█▉        | 26/137 [06:40<23:03, 12.46s/it]"
     ]
    },
    {
     "name": "stderr",
     "output_type": "stream",
     "text": [
      "\r",
      "Epoch 5/25 - Training:  20%|█▉        | 27/137 [07:07<31:10, 17.00s/it]"
     ]
    },
    {
     "name": "stderr",
     "output_type": "stream",
     "text": [
      "\r",
      "Epoch 5/25 - Training:  20%|██        | 28/137 [07:12<24:05, 13.26s/it]"
     ]
    },
    {
     "name": "stderr",
     "output_type": "stream",
     "text": [
      "\r",
      "Epoch 5/25 - Training:  21%|██        | 29/137 [07:36<29:57, 16.65s/it]"
     ]
    },
    {
     "name": "stderr",
     "output_type": "stream",
     "text": [
      "\r",
      "Epoch 5/25 - Training:  22%|██▏       | 30/137 [07:44<24:39, 13.83s/it]"
     ]
    },
    {
     "name": "stderr",
     "output_type": "stream",
     "text": [
      "\r",
      "Epoch 5/25 - Training:  23%|██▎       | 31/137 [08:04<27:44, 15.71s/it]"
     ]
    },
    {
     "name": "stderr",
     "output_type": "stream",
     "text": [
      "\r",
      "Epoch 5/25 - Training:  23%|██▎       | 32/137 [08:16<25:47, 14.73s/it]"
     ]
    },
    {
     "name": "stderr",
     "output_type": "stream",
     "text": [
      "\r",
      "Epoch 5/25 - Training:  24%|██▍       | 33/137 [08:31<25:45, 14.86s/it]"
     ]
    },
    {
     "name": "stderr",
     "output_type": "stream",
     "text": [
      "\r",
      "Epoch 5/25 - Training:  25%|██▍       | 34/137 [08:45<25:00, 14.56s/it]"
     ]
    },
    {
     "name": "stderr",
     "output_type": "stream",
     "text": [
      "\r",
      "Epoch 5/25 - Training:  26%|██▌       | 35/137 [09:04<26:45, 15.74s/it]"
     ]
    },
    {
     "name": "stderr",
     "output_type": "stream",
     "text": [
      "\r",
      "Epoch 5/25 - Training:  26%|██▋       | 36/137 [09:11<22:12, 13.19s/it]"
     ]
    },
    {
     "name": "stderr",
     "output_type": "stream",
     "text": [
      "\r",
      "Epoch 5/25 - Training:  27%|██▋       | 37/137 [09:33<26:10, 15.71s/it]"
     ]
    },
    {
     "name": "stderr",
     "output_type": "stream",
     "text": [
      "\r",
      "Epoch 5/25 - Training:  28%|██▊       | 38/137 [09:39<21:24, 12.97s/it]"
     ]
    },
    {
     "name": "stderr",
     "output_type": "stream",
     "text": [
      "\r",
      "Epoch 5/25 - Training:  28%|██▊       | 39/137 [10:05<27:41, 16.95s/it]"
     ]
    },
    {
     "name": "stderr",
     "output_type": "stream",
     "text": [
      "\r",
      "Epoch 5/25 - Training:  29%|██▉       | 40/137 [10:09<20:45, 12.84s/it]"
     ]
    },
    {
     "name": "stderr",
     "output_type": "stream",
     "text": [
      "\r",
      "Epoch 5/25 - Training:  30%|██▉       | 41/137 [10:36<27:44, 17.34s/it]"
     ]
    },
    {
     "name": "stderr",
     "output_type": "stream",
     "text": [
      "\r",
      "Epoch 5/25 - Training:  31%|███       | 42/137 [10:41<21:09, 13.37s/it]"
     ]
    },
    {
     "name": "stderr",
     "output_type": "stream",
     "text": [
      "\r",
      "Epoch 5/25 - Training:  31%|███▏      | 43/137 [11:05<25:58, 16.58s/it]"
     ]
    },
    {
     "name": "stderr",
     "output_type": "stream",
     "text": [
      "\r",
      "Epoch 5/25 - Training:  32%|███▏      | 44/137 [11:09<20:04, 12.95s/it]"
     ]
    },
    {
     "name": "stderr",
     "output_type": "stream",
     "text": [
      "\r",
      "Epoch 5/25 - Training:  33%|███▎      | 45/137 [11:33<24:55, 16.25s/it]"
     ]
    },
    {
     "name": "stderr",
     "output_type": "stream",
     "text": [
      "\r",
      "Epoch 5/25 - Training:  34%|███▎      | 46/137 [11:41<20:47, 13.71s/it]"
     ]
    },
    {
     "name": "stderr",
     "output_type": "stream",
     "text": [
      "\r",
      "Epoch 5/25 - Training:  34%|███▍      | 47/137 [12:01<23:36, 15.74s/it]"
     ]
    },
    {
     "name": "stderr",
     "output_type": "stream",
     "text": [
      "\r",
      "Epoch 5/25 - Training:  35%|███▌      | 48/137 [12:13<21:36, 14.56s/it]"
     ]
    },
    {
     "name": "stderr",
     "output_type": "stream",
     "text": [
      "\r",
      "Epoch 5/25 - Training:  36%|███▌      | 49/137 [12:35<24:24, 16.64s/it]"
     ]
    },
    {
     "name": "stderr",
     "output_type": "stream",
     "text": [
      "\r",
      "Epoch 5/25 - Training:  36%|███▋      | 50/137 [12:42<20:04, 13.84s/it]"
     ]
    },
    {
     "name": "stderr",
     "output_type": "stream",
     "text": [
      "\r",
      "Epoch 5/25 - Training:  37%|███▋      | 51/137 [13:04<23:12, 16.20s/it]"
     ]
    },
    {
     "name": "stderr",
     "output_type": "stream",
     "text": [
      "\r",
      "Epoch 5/25 - Training:  38%|███▊      | 52/137 [13:10<18:58, 13.39s/it]"
     ]
    },
    {
     "name": "stderr",
     "output_type": "stream",
     "text": [
      "\r",
      "Epoch 5/25 - Training:  39%|███▊      | 53/137 [13:32<22:13, 15.87s/it]"
     ]
    },
    {
     "name": "stderr",
     "output_type": "stream",
     "text": [
      "\r",
      "Epoch 5/25 - Training:  39%|███▉      | 54/137 [13:39<18:09, 13.12s/it]"
     ]
    },
    {
     "name": "stderr",
     "output_type": "stream",
     "text": [
      "\r",
      "Epoch 5/25 - Training:  40%|████      | 55/137 [14:00<21:10, 15.49s/it]"
     ]
    },
    {
     "name": "stderr",
     "output_type": "stream",
     "text": [
      "\r",
      "Epoch 5/25 - Training:  41%|████      | 56/137 [14:03<16:01, 11.87s/it]"
     ]
    },
    {
     "name": "stderr",
     "output_type": "stream",
     "text": [
      "\r",
      "Epoch 5/25 - Training:  42%|████▏     | 57/137 [14:28<21:05, 15.81s/it]"
     ]
    },
    {
     "name": "stderr",
     "output_type": "stream",
     "text": [
      "\r",
      "Epoch 5/25 - Training:  42%|████▏     | 58/137 [14:32<16:04, 12.21s/it]"
     ]
    },
    {
     "name": "stderr",
     "output_type": "stream",
     "text": [
      "\r",
      "Epoch 5/25 - Training:  43%|████▎     | 59/137 [14:53<19:10, 14.75s/it]"
     ]
    },
    {
     "name": "stderr",
     "output_type": "stream",
     "text": [
      "\r",
      "Epoch 5/25 - Training:  44%|████▍     | 60/137 [15:06<18:15, 14.23s/it]"
     ]
    },
    {
     "name": "stderr",
     "output_type": "stream",
     "text": [
      "\r",
      "Epoch 5/25 - Training:  45%|████▍     | 61/137 [15:25<19:52, 15.69s/it]"
     ]
    },
    {
     "name": "stderr",
     "output_type": "stream",
     "text": [
      "\r",
      "Epoch 5/25 - Training:  45%|████▌     | 62/137 [15:33<16:47, 13.44s/it]"
     ]
    },
    {
     "name": "stderr",
     "output_type": "stream",
     "text": [
      "\r",
      "Epoch 5/25 - Training:  46%|████▌     | 63/137 [15:57<20:35, 16.69s/it]"
     ]
    },
    {
     "name": "stderr",
     "output_type": "stream",
     "text": [
      "\r",
      "Epoch 5/25 - Training:  47%|████▋     | 64/137 [16:06<17:13, 14.15s/it]"
     ]
    },
    {
     "name": "stderr",
     "output_type": "stream",
     "text": [
      "\r",
      "Epoch 5/25 - Training:  47%|████▋     | 65/137 [16:29<20:19, 16.94s/it]"
     ]
    },
    {
     "name": "stderr",
     "output_type": "stream",
     "text": [
      "\r",
      "Epoch 5/25 - Training:  48%|████▊     | 66/137 [16:31<14:35, 12.34s/it]"
     ]
    },
    {
     "name": "stderr",
     "output_type": "stream",
     "text": [
      "\r",
      "Epoch 5/25 - Training:  49%|████▉     | 67/137 [17:01<20:49, 17.85s/it]"
     ]
    },
    {
     "name": "stderr",
     "output_type": "stream",
     "text": [
      "\r",
      "Epoch 5/25 - Training:  50%|████▉     | 68/137 [17:02<14:41, 12.77s/it]"
     ]
    },
    {
     "name": "stderr",
     "output_type": "stream",
     "text": [
      "\r",
      "Epoch 5/25 - Training:  50%|█████     | 69/137 [17:29<19:18, 17.03s/it]"
     ]
    },
    {
     "name": "stderr",
     "output_type": "stream",
     "text": [
      "\r",
      "Epoch 5/25 - Training:  51%|█████     | 70/137 [17:30<13:37, 12.19s/it]"
     ]
    },
    {
     "name": "stderr",
     "output_type": "stream",
     "text": [
      "\r",
      "Epoch 5/25 - Training:  52%|█████▏    | 71/137 [17:57<18:20, 16.67s/it]"
     ]
    },
    {
     "name": "stderr",
     "output_type": "stream",
     "text": [
      "\r",
      "Epoch 5/25 - Training:  53%|█████▎    | 72/137 [17:58<12:58, 11.97s/it]"
     ]
    },
    {
     "name": "stderr",
     "output_type": "stream",
     "text": [
      "\r",
      "Epoch 5/25 - Training:  53%|█████▎    | 73/137 [18:26<17:43, 16.62s/it]"
     ]
    },
    {
     "name": "stderr",
     "output_type": "stream",
     "text": [
      "\r",
      "Epoch 5/25 - Training:  54%|█████▍    | 74/137 [18:27<12:29, 11.90s/it]"
     ]
    },
    {
     "name": "stderr",
     "output_type": "stream",
     "text": [
      "\r",
      "Epoch 5/25 - Training:  55%|█████▍    | 75/137 [18:55<17:22, 16.81s/it]"
     ]
    },
    {
     "name": "stderr",
     "output_type": "stream",
     "text": [
      "\r",
      "Epoch 5/25 - Training:  55%|█████▌    | 76/137 [18:56<12:14, 12.04s/it]"
     ]
    },
    {
     "name": "stderr",
     "output_type": "stream",
     "text": [
      "\r",
      "Epoch 5/25 - Training:  56%|█████▌    | 77/137 [19:26<17:27, 17.45s/it]"
     ]
    },
    {
     "name": "stderr",
     "output_type": "stream",
     "text": [
      "\r",
      "Epoch 5/25 - Training:  57%|█████▋    | 78/137 [19:27<12:16, 12.49s/it]"
     ]
    },
    {
     "name": "stderr",
     "output_type": "stream",
     "text": [
      "\r",
      "Epoch 5/25 - Training:  58%|█████▊    | 79/137 [20:00<17:56, 18.57s/it]"
     ]
    },
    {
     "name": "stderr",
     "output_type": "stream",
     "text": [
      "\r",
      "Epoch 5/25 - Training:  58%|█████▊    | 80/137 [20:00<12:36, 13.27s/it]"
     ]
    },
    {
     "name": "stderr",
     "output_type": "stream",
     "text": [
      "\r",
      "Epoch 5/25 - Training:  59%|█████▉    | 81/137 [20:23<14:57, 16.02s/it]"
     ]
    },
    {
     "name": "stderr",
     "output_type": "stream",
     "text": [
      "\r",
      "Epoch 5/25 - Training:  60%|█████▉    | 82/137 [20:24<10:31, 11.49s/it]"
     ]
    },
    {
     "name": "stderr",
     "output_type": "stream",
     "text": [
      "\r",
      "Epoch 5/25 - Training:  61%|██████    | 83/137 [20:49<13:54, 15.46s/it]"
     ]
    },
    {
     "name": "stderr",
     "output_type": "stream",
     "text": [
      "\r",
      "Epoch 5/25 - Training:  61%|██████▏   | 84/137 [20:49<09:48, 11.09s/it]"
     ]
    },
    {
     "name": "stderr",
     "output_type": "stream",
     "text": [
      "\r",
      "Epoch 5/25 - Training:  62%|██████▏   | 85/137 [21:17<13:57, 16.10s/it]"
     ]
    },
    {
     "name": "stderr",
     "output_type": "stream",
     "text": [
      "\r",
      "Epoch 5/25 - Training:  63%|██████▎   | 86/137 [21:20<10:12, 12.02s/it]"
     ]
    },
    {
     "name": "stderr",
     "output_type": "stream",
     "text": [
      "\r",
      "Epoch 5/25 - Training:  64%|██████▎   | 87/137 [21:49<14:27, 17.34s/it]"
     ]
    },
    {
     "name": "stderr",
     "output_type": "stream",
     "text": [
      "\r",
      "Epoch 5/25 - Training:  64%|██████▍   | 88/137 [21:50<10:08, 12.41s/it]"
     ]
    },
    {
     "name": "stderr",
     "output_type": "stream",
     "text": [
      "\r",
      "Epoch 5/25 - Training:  65%|██████▍   | 89/137 [22:21<14:22, 17.97s/it]"
     ]
    },
    {
     "name": "stderr",
     "output_type": "stream",
     "text": [
      "\r",
      "Epoch 5/25 - Training:  66%|██████▌   | 90/137 [22:22<10:03, 12.85s/it]"
     ]
    },
    {
     "name": "stderr",
     "output_type": "stream",
     "text": [
      "\r",
      "Epoch 5/25 - Training:  66%|██████▋   | 91/137 [22:53<14:03, 18.33s/it]"
     ]
    },
    {
     "name": "stderr",
     "output_type": "stream",
     "text": [
      "\r",
      "Epoch 5/25 - Training:  67%|██████▋   | 92/137 [22:54<09:49, 13.11s/it]"
     ]
    },
    {
     "name": "stderr",
     "output_type": "stream",
     "text": [
      "\r",
      "Epoch 5/25 - Training:  68%|██████▊   | 93/137 [23:21<12:31, 17.07s/it]"
     ]
    },
    {
     "name": "stderr",
     "output_type": "stream",
     "text": [
      "\r",
      "Epoch 5/25 - Training:  69%|██████▊   | 94/137 [23:21<08:45, 12.22s/it]"
     ]
    },
    {
     "name": "stderr",
     "output_type": "stream",
     "text": [
      "\r",
      "Epoch 5/25 - Training:  69%|██████▉   | 95/137 [23:53<12:37, 18.04s/it]"
     ]
    },
    {
     "name": "stderr",
     "output_type": "stream",
     "text": [
      "\r",
      "Epoch 5/25 - Training:  70%|███████   | 96/137 [23:54<08:48, 12.90s/it]"
     ]
    },
    {
     "name": "stderr",
     "output_type": "stream",
     "text": [
      "\r",
      "Epoch 5/25 - Training:  71%|███████   | 97/137 [24:25<12:15, 18.39s/it]"
     ]
    },
    {
     "name": "stderr",
     "output_type": "stream",
     "text": [
      "\r",
      "Epoch 5/25 - Training:  72%|███████▏  | 98/137 [24:26<08:32, 13.15s/it]"
     ]
    },
    {
     "name": "stderr",
     "output_type": "stream",
     "text": [
      "\r",
      "Epoch 5/25 - Training:  72%|███████▏  | 99/137 [24:53<10:51, 17.13s/it]"
     ]
    },
    {
     "name": "stderr",
     "output_type": "stream",
     "text": [
      "\r",
      "Epoch 5/25 - Training:  73%|███████▎  | 100/137 [24:53<07:33, 12.26s/it]"
     ]
    },
    {
     "name": "stderr",
     "output_type": "stream",
     "text": [
      "\r",
      "Epoch 5/25 - Training:  74%|███████▎  | 101/137 [25:25<10:51, 18.10s/it]"
     ]
    },
    {
     "name": "stderr",
     "output_type": "stream",
     "text": [
      "\r",
      "Epoch 5/25 - Training:  74%|███████▍  | 102/137 [25:26<07:32, 12.94s/it]"
     ]
    },
    {
     "name": "stderr",
     "output_type": "stream",
     "text": [
      "\r",
      "Epoch 5/25 - Training:  75%|███████▌  | 103/137 [25:58<10:30, 18.54s/it]"
     ]
    },
    {
     "name": "stderr",
     "output_type": "stream",
     "text": [
      "\r",
      "Epoch 5/25 - Training:  76%|███████▌  | 104/137 [25:59<07:17, 13.25s/it]"
     ]
    },
    {
     "name": "stderr",
     "output_type": "stream",
     "text": [
      "\r",
      "Epoch 5/25 - Training:  77%|███████▋  | 105/137 [26:27<09:28, 17.77s/it]"
     ]
    },
    {
     "name": "stderr",
     "output_type": "stream",
     "text": [
      "\r",
      "Epoch 5/25 - Training:  77%|███████▋  | 106/137 [26:28<06:33, 12.71s/it]"
     ]
    },
    {
     "name": "stderr",
     "output_type": "stream",
     "text": [
      "\r",
      "Epoch 5/25 - Training:  78%|███████▊  | 107/137 [26:51<07:58, 15.96s/it]"
     ]
    },
    {
     "name": "stderr",
     "output_type": "stream",
     "text": [
      "\r",
      "Epoch 5/25 - Training:  79%|███████▉  | 108/137 [26:52<05:31, 11.44s/it]"
     ]
    },
    {
     "name": "stderr",
     "output_type": "stream",
     "text": [
      "\r",
      "Epoch 5/25 - Training:  80%|███████▉  | 109/137 [27:20<07:35, 16.26s/it]"
     ]
    },
    {
     "name": "stderr",
     "output_type": "stream",
     "text": [
      "\r",
      "Epoch 5/25 - Training:  80%|████████  | 110/137 [27:21<05:14, 11.65s/it]"
     ]
    },
    {
     "name": "stderr",
     "output_type": "stream",
     "text": [
      "\r",
      "Epoch 5/25 - Training:  81%|████████  | 111/137 [27:44<06:32, 15.09s/it]"
     ]
    },
    {
     "name": "stderr",
     "output_type": "stream",
     "text": [
      "\r",
      "Epoch 5/25 - Training:  82%|████████▏ | 112/137 [27:45<04:30, 10.83s/it]"
     ]
    },
    {
     "name": "stderr",
     "output_type": "stream",
     "text": [
      "\r",
      "Epoch 5/25 - Training:  82%|████████▏ | 113/137 [28:12<06:19, 15.81s/it]"
     ]
    },
    {
     "name": "stderr",
     "output_type": "stream",
     "text": [
      "\r",
      "Epoch 5/25 - Training:  83%|████████▎ | 114/137 [28:13<04:20, 11.33s/it]"
     ]
    },
    {
     "name": "stderr",
     "output_type": "stream",
     "text": [
      "\r",
      "Epoch 5/25 - Training:  84%|████████▍ | 115/137 [28:41<06:00, 16.39s/it]"
     ]
    },
    {
     "name": "stderr",
     "output_type": "stream",
     "text": [
      "\r",
      "Epoch 5/25 - Training:  85%|████████▍ | 116/137 [28:42<04:06, 11.74s/it]"
     ]
    },
    {
     "name": "stderr",
     "output_type": "stream",
     "text": [
      "\r",
      "Epoch 5/25 - Training:  85%|████████▌ | 117/137 [29:10<05:31, 16.56s/it]"
     ]
    },
    {
     "name": "stderr",
     "output_type": "stream",
     "text": [
      "\r",
      "Epoch 5/25 - Training:  86%|████████▌ | 118/137 [29:11<03:45, 11.86s/it]"
     ]
    },
    {
     "name": "stderr",
     "output_type": "stream",
     "text": [
      "\r",
      "Epoch 5/25 - Training:  87%|████████▋ | 119/137 [29:42<05:18, 17.68s/it]"
     ]
    },
    {
     "name": "stderr",
     "output_type": "stream",
     "text": [
      "\r",
      "Epoch 5/25 - Training:  88%|████████▊ | 120/137 [29:43<03:35, 12.65s/it]"
     ]
    },
    {
     "name": "stderr",
     "output_type": "stream",
     "text": [
      "\r",
      "Epoch 5/25 - Training:  88%|████████▊ | 121/137 [30:14<04:50, 18.14s/it]"
     ]
    },
    {
     "name": "stderr",
     "output_type": "stream",
     "text": [
      "\r",
      "Epoch 5/25 - Training:  89%|████████▉ | 122/137 [30:15<03:14, 12.97s/it]"
     ]
    },
    {
     "name": "stderr",
     "output_type": "stream",
     "text": [
      "\r",
      "Epoch 5/25 - Training:  90%|████████▉ | 123/137 [30:45<04:14, 18.18s/it]"
     ]
    },
    {
     "name": "stderr",
     "output_type": "stream",
     "text": [
      "\r",
      "Epoch 5/25 - Training:  91%|█████████ | 124/137 [30:46<02:48, 13.00s/it]"
     ]
    },
    {
     "name": "stderr",
     "output_type": "stream",
     "text": [
      "\r",
      "Epoch 5/25 - Training:  91%|█████████ | 125/137 [31:08<03:08, 15.75s/it]"
     ]
    },
    {
     "name": "stderr",
     "output_type": "stream",
     "text": [
      "\r",
      "Epoch 5/25 - Training:  92%|█████████▏| 126/137 [31:09<02:04, 11.29s/it]"
     ]
    },
    {
     "name": "stderr",
     "output_type": "stream",
     "text": [
      "\r",
      "Epoch 5/25 - Training:  93%|█████████▎| 127/137 [31:37<02:44, 16.41s/it]"
     ]
    },
    {
     "name": "stderr",
     "output_type": "stream",
     "text": [
      "\r",
      "Epoch 5/25 - Training:  93%|█████████▎| 128/137 [31:38<01:45, 11.75s/it]"
     ]
    },
    {
     "name": "stderr",
     "output_type": "stream",
     "text": [
      "\r",
      "Epoch 5/25 - Training:  94%|█████████▍| 129/137 [32:06<02:11, 16.41s/it]"
     ]
    },
    {
     "name": "stderr",
     "output_type": "stream",
     "text": [
      "\r",
      "Epoch 5/25 - Training:  95%|█████████▍| 130/137 [32:06<01:22, 11.75s/it]"
     ]
    },
    {
     "name": "stderr",
     "output_type": "stream",
     "text": [
      "\r",
      "Epoch 5/25 - Training:  96%|█████████▌| 131/137 [32:34<01:39, 16.56s/it]"
     ]
    },
    {
     "name": "stderr",
     "output_type": "stream",
     "text": [
      "\r",
      "Epoch 5/25 - Training:  96%|█████████▋| 132/137 [32:35<00:59, 11.86s/it]"
     ]
    },
    {
     "name": "stderr",
     "output_type": "stream",
     "text": [
      "\r",
      "Epoch 5/25 - Training:  97%|█████████▋| 133/137 [33:02<01:05, 16.43s/it]"
     ]
    },
    {
     "name": "stderr",
     "output_type": "stream",
     "text": [
      "\r",
      "Epoch 5/25 - Training:  98%|█████████▊| 134/137 [33:03<00:35, 11.77s/it]"
     ]
    },
    {
     "name": "stderr",
     "output_type": "stream",
     "text": [
      "\r",
      "Epoch 5/25 - Training:  99%|█████████▊| 135/137 [33:33<00:34, 17.22s/it]"
     ]
    },
    {
     "name": "stderr",
     "output_type": "stream",
     "text": [
      "\r",
      "Epoch 5/25 - Training:  99%|█████████▉| 136/137 [33:34<00:12, 12.33s/it]"
     ]
    },
    {
     "name": "stderr",
     "output_type": "stream",
     "text": [
      "\r",
      "Epoch 5/25 - Training: 100%|██████████| 137/137 [33:44<00:00, 11.57s/it]"
     ]
    },
    {
     "name": "stderr",
     "output_type": "stream",
     "text": [
      "\r",
      "Epoch 5/25 - Training: 100%|██████████| 137/137 [33:44<00:00, 14.78s/it]"
     ]
    },
    {
     "name": "stderr",
     "output_type": "stream",
     "text": [
      "\n"
     ]
    },
    {
     "name": "stderr",
     "output_type": "stream",
     "text": [
      "\r",
      "Epoch 5/25 - Validation:   0%|          | 0/137 [00:00<?, ?it/s]"
     ]
    },
    {
     "name": "stderr",
     "output_type": "stream",
     "text": [
      "\r",
      "Epoch 5/25 - Validation:   1%|          | 1/137 [00:32<1:13:51, 32.59s/it]"
     ]
    },
    {
     "name": "stderr",
     "output_type": "stream",
     "text": [
      "\r",
      "Epoch 5/25 - Validation:   1%|▏         | 2/137 [00:32<30:36, 13.60s/it]  "
     ]
    },
    {
     "name": "stderr",
     "output_type": "stream",
     "text": [
      "\r",
      "Epoch 5/25 - Validation:   2%|▏         | 3/137 [01:05<49:29, 22.16s/it]"
     ]
    },
    {
     "name": "stderr",
     "output_type": "stream",
     "text": [
      "\r",
      "Epoch 5/25 - Validation:   3%|▎         | 4/137 [01:05<30:00, 13.53s/it]"
     ]
    },
    {
     "name": "stderr",
     "output_type": "stream",
     "text": [
      "\r",
      "Epoch 5/25 - Validation:   4%|▎         | 5/137 [01:37<44:19, 20.15s/it]"
     ]
    },
    {
     "name": "stderr",
     "output_type": "stream",
     "text": [
      "\r",
      "Epoch 5/25 - Validation:   4%|▍         | 6/137 [01:37<29:16, 13.40s/it]"
     ]
    },
    {
     "name": "stderr",
     "output_type": "stream",
     "text": [
      "\r",
      "Epoch 5/25 - Validation:   5%|▌         | 7/137 [02:09<42:00, 19.39s/it]"
     ]
    },
    {
     "name": "stderr",
     "output_type": "stream",
     "text": [
      "\r",
      "Epoch 5/25 - Validation:   6%|▌         | 8/137 [02:09<28:37, 13.31s/it]"
     ]
    },
    {
     "name": "stderr",
     "output_type": "stream",
     "text": [
      "\r",
      "Epoch 5/25 - Validation:   7%|▋         | 9/137 [02:40<40:13, 18.85s/it]"
     ]
    },
    {
     "name": "stderr",
     "output_type": "stream",
     "text": [
      "\r",
      "Epoch 5/25 - Validation:   7%|▋         | 10/137 [02:41<28:17, 13.37s/it]"
     ]
    },
    {
     "name": "stderr",
     "output_type": "stream",
     "text": [
      "\r",
      "Epoch 5/25 - Validation:   8%|▊         | 11/137 [03:13<39:30, 18.82s/it]"
     ]
    },
    {
     "name": "stderr",
     "output_type": "stream",
     "text": [
      "\r",
      "Epoch 5/25 - Validation:   9%|▉         | 12/137 [03:13<27:50, 13.37s/it]"
     ]
    },
    {
     "name": "stderr",
     "output_type": "stream",
     "text": [
      "\r",
      "Epoch 5/25 - Validation:   9%|▉         | 13/137 [03:45<39:17, 19.02s/it]"
     ]
    },
    {
     "name": "stderr",
     "output_type": "stream",
     "text": [
      "\r",
      "Epoch 5/25 - Validation:  10%|█         | 14/137 [03:46<27:43, 13.53s/it]"
     ]
    },
    {
     "name": "stderr",
     "output_type": "stream",
     "text": [
      "\r",
      "Epoch 5/25 - Validation:  11%|█         | 15/137 [04:17<38:16, 18.82s/it]"
     ]
    },
    {
     "name": "stderr",
     "output_type": "stream",
     "text": [
      "\r",
      "Epoch 5/25 - Validation:  12%|█▏        | 16/137 [04:18<26:43, 13.25s/it]"
     ]
    },
    {
     "name": "stderr",
     "output_type": "stream",
     "text": [
      "\r",
      "Epoch 5/25 - Validation:  12%|█▏        | 17/137 [04:48<36:47, 18.40s/it]"
     ]
    },
    {
     "name": "stderr",
     "output_type": "stream",
     "text": [
      "\r",
      "Epoch 5/25 - Validation:  13%|█▎        | 18/137 [04:50<26:31, 13.37s/it]"
     ]
    },
    {
     "name": "stderr",
     "output_type": "stream",
     "text": [
      "\r",
      "Epoch 5/25 - Validation:  14%|█▍        | 19/137 [05:21<36:36, 18.61s/it]"
     ]
    },
    {
     "name": "stderr",
     "output_type": "stream",
     "text": [
      "\r",
      "Epoch 5/25 - Validation:  15%|█▍        | 20/137 [05:21<25:34, 13.12s/it]"
     ]
    },
    {
     "name": "stderr",
     "output_type": "stream",
     "text": [
      "\r",
      "Epoch 5/25 - Validation:  15%|█▌        | 21/137 [05:53<36:11, 18.72s/it]"
     ]
    },
    {
     "name": "stderr",
     "output_type": "stream",
     "text": [
      "\r",
      "Epoch 5/25 - Validation:  16%|█▌        | 22/137 [05:53<25:17, 13.19s/it]"
     ]
    },
    {
     "name": "stderr",
     "output_type": "stream",
     "text": [
      "\r",
      "Epoch 5/25 - Validation:  17%|█▋        | 23/137 [06:25<35:40, 18.78s/it]"
     ]
    },
    {
     "name": "stderr",
     "output_type": "stream",
     "text": [
      "\r",
      "Epoch 5/25 - Validation:  18%|█▊        | 24/137 [06:25<24:55, 13.24s/it]"
     ]
    },
    {
     "name": "stderr",
     "output_type": "stream",
     "text": [
      "\r",
      "Epoch 5/25 - Validation:  18%|█▊        | 25/137 [06:57<35:18, 18.91s/it]"
     ]
    },
    {
     "name": "stderr",
     "output_type": "stream",
     "text": [
      "\r",
      "Epoch 5/25 - Validation:  19%|█▉        | 26/137 [06:58<24:39, 13.33s/it]"
     ]
    },
    {
     "name": "stderr",
     "output_type": "stream",
     "text": [
      "\r",
      "Epoch 5/25 - Validation:  20%|█▉        | 27/137 [07:28<33:50, 18.46s/it]"
     ]
    },
    {
     "name": "stderr",
     "output_type": "stream",
     "text": [
      "\r",
      "Epoch 5/25 - Validation:  20%|██        | 28/137 [07:29<24:13, 13.34s/it]"
     ]
    },
    {
     "name": "stderr",
     "output_type": "stream",
     "text": [
      "\r",
      "Epoch 5/25 - Validation:  21%|██        | 29/137 [08:00<33:14, 18.47s/it]"
     ]
    },
    {
     "name": "stderr",
     "output_type": "stream",
     "text": [
      "\r",
      "Epoch 5/25 - Validation:  22%|██▏       | 30/137 [08:02<24:06, 13.52s/it]"
     ]
    },
    {
     "name": "stderr",
     "output_type": "stream",
     "text": [
      "\r",
      "Epoch 5/25 - Validation:  23%|██▎       | 31/137 [08:32<32:51, 18.60s/it]"
     ]
    },
    {
     "name": "stderr",
     "output_type": "stream",
     "text": [
      "\r",
      "Epoch 5/25 - Validation:  23%|██▎       | 32/137 [08:34<23:38, 13.51s/it]"
     ]
    },
    {
     "name": "stderr",
     "output_type": "stream",
     "text": [
      "\r",
      "Epoch 5/25 - Validation:  24%|██▍       | 33/137 [09:05<32:29, 18.74s/it]"
     ]
    },
    {
     "name": "stderr",
     "output_type": "stream",
     "text": [
      "\r",
      "Epoch 5/25 - Validation:  25%|██▍       | 34/137 [09:06<23:17, 13.57s/it]"
     ]
    },
    {
     "name": "stderr",
     "output_type": "stream",
     "text": [
      "\r",
      "Epoch 5/25 - Validation:  26%|██▌       | 35/137 [09:37<31:36, 18.60s/it]"
     ]
    },
    {
     "name": "stderr",
     "output_type": "stream",
     "text": [
      "\r",
      "Epoch 5/25 - Validation:  26%|██▋       | 36/137 [09:38<22:29, 13.36s/it]"
     ]
    },
    {
     "name": "stderr",
     "output_type": "stream",
     "text": [
      "\r",
      "Epoch 5/25 - Validation:  27%|██▋       | 37/137 [10:10<31:35, 18.96s/it]"
     ]
    },
    {
     "name": "stderr",
     "output_type": "stream",
     "text": [
      "\r",
      "Epoch 5/25 - Validation:  28%|██▊       | 38/137 [10:10<22:05, 13.39s/it]"
     ]
    },
    {
     "name": "stderr",
     "output_type": "stream",
     "text": [
      "\r",
      "Epoch 5/25 - Validation:  28%|██▊       | 39/137 [10:42<30:49, 18.87s/it]"
     ]
    },
    {
     "name": "stderr",
     "output_type": "stream",
     "text": [
      "\r",
      "Epoch 5/25 - Validation:  29%|██▉       | 40/137 [10:43<22:04, 13.65s/it]"
     ]
    },
    {
     "name": "stderr",
     "output_type": "stream",
     "text": [
      "\r",
      "Epoch 5/25 - Validation:  30%|██▉       | 41/137 [11:15<30:25, 19.02s/it]"
     ]
    },
    {
     "name": "stderr",
     "output_type": "stream",
     "text": [
      "\r",
      "Epoch 5/25 - Validation:  31%|███       | 42/137 [11:15<21:13, 13.41s/it]"
     ]
    },
    {
     "name": "stderr",
     "output_type": "stream",
     "text": [
      "\r",
      "Epoch 5/25 - Validation:  31%|███▏      | 43/137 [11:46<29:18, 18.70s/it]"
     ]
    },
    {
     "name": "stderr",
     "output_type": "stream",
     "text": [
      "\r",
      "Epoch 5/25 - Validation:  32%|███▏      | 44/137 [11:47<20:46, 13.40s/it]"
     ]
    },
    {
     "name": "stderr",
     "output_type": "stream",
     "text": [
      "\r",
      "Epoch 5/25 - Validation:  33%|███▎      | 45/137 [12:18<28:24, 18.52s/it]"
     ]
    },
    {
     "name": "stderr",
     "output_type": "stream",
     "text": [
      "\r",
      "Epoch 5/25 - Validation:  34%|███▎      | 46/137 [12:19<20:17, 13.38s/it]"
     ]
    },
    {
     "name": "stderr",
     "output_type": "stream",
     "text": [
      "\r",
      "Epoch 5/25 - Validation:  34%|███▍      | 47/137 [12:51<28:13, 18.82s/it]"
     ]
    },
    {
     "name": "stderr",
     "output_type": "stream",
     "text": [
      "\r",
      "Epoch 5/25 - Validation:  35%|███▌      | 48/137 [12:51<19:40, 13.26s/it]"
     ]
    },
    {
     "name": "stderr",
     "output_type": "stream",
     "text": [
      "\r",
      "Epoch 5/25 - Validation:  36%|███▌      | 49/137 [13:23<27:39, 18.86s/it]"
     ]
    },
    {
     "name": "stderr",
     "output_type": "stream",
     "text": [
      "\r",
      "Epoch 5/25 - Validation:  36%|███▋      | 50/137 [13:23<19:16, 13.29s/it]"
     ]
    },
    {
     "name": "stderr",
     "output_type": "stream",
     "text": [
      "\r",
      "Epoch 5/25 - Validation:  37%|███▋      | 51/137 [13:55<26:57, 18.80s/it]"
     ]
    },
    {
     "name": "stderr",
     "output_type": "stream",
     "text": [
      "\r",
      "Epoch 5/25 - Validation:  38%|███▊      | 52/137 [13:55<18:46, 13.26s/it]"
     ]
    },
    {
     "name": "stderr",
     "output_type": "stream",
     "text": [
      "\r",
      "Epoch 5/25 - Validation:  39%|███▊      | 53/137 [14:26<26:02, 18.60s/it]"
     ]
    },
    {
     "name": "stderr",
     "output_type": "stream",
     "text": [
      "\r",
      "Epoch 5/25 - Validation:  39%|███▉      | 54/137 [14:27<18:08, 13.11s/it]"
     ]
    },
    {
     "name": "stderr",
     "output_type": "stream",
     "text": [
      "\r",
      "Epoch 5/25 - Validation:  40%|████      | 55/137 [14:58<25:26, 18.61s/it]"
     ]
    },
    {
     "name": "stderr",
     "output_type": "stream",
     "text": [
      "\r",
      "Epoch 5/25 - Validation:  41%|████      | 56/137 [14:59<17:59, 13.32s/it]"
     ]
    },
    {
     "name": "stderr",
     "output_type": "stream",
     "text": [
      "\r",
      "Epoch 5/25 - Validation:  42%|████▏     | 57/137 [15:30<24:42, 18.53s/it]"
     ]
    },
    {
     "name": "stderr",
     "output_type": "stream",
     "text": [
      "\r",
      "Epoch 5/25 - Validation:  42%|████▏     | 58/137 [15:31<17:47, 13.52s/it]"
     ]
    },
    {
     "name": "stderr",
     "output_type": "stream",
     "text": [
      "\r",
      "Epoch 5/25 - Validation:  43%|████▎     | 59/137 [16:02<24:20, 18.73s/it]"
     ]
    },
    {
     "name": "stderr",
     "output_type": "stream",
     "text": [
      "\r",
      "Epoch 5/25 - Validation:  44%|████▍     | 60/137 [16:03<17:04, 13.31s/it]"
     ]
    },
    {
     "name": "stderr",
     "output_type": "stream",
     "text": [
      "\r",
      "Epoch 5/25 - Validation:  45%|████▍     | 61/137 [16:35<23:49, 18.81s/it]"
     ]
    },
    {
     "name": "stderr",
     "output_type": "stream",
     "text": [
      "\r",
      "Epoch 5/25 - Validation:  45%|████▌     | 62/137 [16:35<16:34, 13.26s/it]"
     ]
    },
    {
     "name": "stderr",
     "output_type": "stream",
     "text": [
      "\r",
      "Epoch 5/25 - Validation:  46%|████▌     | 63/137 [17:06<23:07, 18.75s/it]"
     ]
    },
    {
     "name": "stderr",
     "output_type": "stream",
     "text": [
      "\r",
      "Epoch 5/25 - Validation:  47%|████▋     | 64/137 [17:07<16:04, 13.22s/it]"
     ]
    },
    {
     "name": "stderr",
     "output_type": "stream",
     "text": [
      "\r",
      "Epoch 5/25 - Validation:  47%|████▋     | 65/137 [17:41<23:15, 19.39s/it]"
     ]
    },
    {
     "name": "stderr",
     "output_type": "stream",
     "text": [
      "\r",
      "Epoch 5/25 - Validation:  48%|████▊     | 66/137 [17:41<16:10, 13.66s/it]"
     ]
    },
    {
     "name": "stderr",
     "output_type": "stream",
     "text": [
      "\r",
      "Epoch 5/25 - Validation:  49%|████▉     | 67/137 [18:14<22:34, 19.35s/it]"
     ]
    },
    {
     "name": "stderr",
     "output_type": "stream",
     "text": [
      "\r",
      "Epoch 5/25 - Validation:  50%|████▉     | 68/137 [18:14<15:41, 13.64s/it]"
     ]
    },
    {
     "name": "stderr",
     "output_type": "stream",
     "text": [
      "\r",
      "Epoch 5/25 - Validation:  50%|█████     | 69/137 [18:46<21:36, 19.06s/it]"
     ]
    },
    {
     "name": "stderr",
     "output_type": "stream",
     "text": [
      "\r",
      "Epoch 5/25 - Validation:  51%|█████     | 70/137 [18:46<15:00, 13.44s/it]"
     ]
    },
    {
     "name": "stderr",
     "output_type": "stream",
     "text": [
      "\r",
      "Epoch 5/25 - Validation:  52%|█████▏    | 71/137 [19:16<20:19, 18.48s/it]"
     ]
    },
    {
     "name": "stderr",
     "output_type": "stream",
     "text": [
      "\r",
      "Epoch 5/25 - Validation:  53%|█████▎    | 72/137 [19:16<14:06, 13.03s/it]"
     ]
    },
    {
     "name": "stderr",
     "output_type": "stream",
     "text": [
      "\r",
      "Epoch 5/25 - Validation:  53%|█████▎    | 73/137 [19:48<19:57, 18.71s/it]"
     ]
    },
    {
     "name": "stderr",
     "output_type": "stream",
     "text": [
      "\r",
      "Epoch 5/25 - Validation:  54%|█████▍    | 74/137 [19:49<13:50, 13.19s/it]"
     ]
    },
    {
     "name": "stderr",
     "output_type": "stream",
     "text": [
      "\r",
      "Epoch 5/25 - Validation:  55%|█████▍    | 75/137 [20:20<19:10, 18.55s/it]"
     ]
    },
    {
     "name": "stderr",
     "output_type": "stream",
     "text": [
      "\r",
      "Epoch 5/25 - Validation:  55%|█████▌    | 76/137 [20:20<13:17, 13.08s/it]"
     ]
    },
    {
     "name": "stderr",
     "output_type": "stream",
     "text": [
      "\r",
      "Epoch 5/25 - Validation:  56%|█████▌    | 77/137 [20:52<18:36, 18.60s/it]"
     ]
    },
    {
     "name": "stderr",
     "output_type": "stream",
     "text": [
      "\r",
      "Epoch 5/25 - Validation:  57%|█████▋    | 78/137 [20:52<12:53, 13.12s/it]"
     ]
    },
    {
     "name": "stderr",
     "output_type": "stream",
     "text": [
      "\r",
      "Epoch 5/25 - Validation:  58%|█████▊    | 79/137 [21:24<18:05, 18.72s/it]"
     ]
    },
    {
     "name": "stderr",
     "output_type": "stream",
     "text": [
      "\r",
      "Epoch 5/25 - Validation:  58%|█████▊    | 80/137 [21:24<12:32, 13.19s/it]"
     ]
    },
    {
     "name": "stderr",
     "output_type": "stream",
     "text": [
      "\r",
      "Epoch 5/25 - Validation:  59%|█████▉    | 81/137 [21:56<17:28, 18.73s/it]"
     ]
    },
    {
     "name": "stderr",
     "output_type": "stream",
     "text": [
      "\r",
      "Epoch 5/25 - Validation:  60%|█████▉    | 82/137 [21:56<12:06, 13.20s/it]"
     ]
    },
    {
     "name": "stderr",
     "output_type": "stream",
     "text": [
      "\r",
      "Epoch 5/25 - Validation:  61%|██████    | 83/137 [22:28<17:05, 18.99s/it]"
     ]
    },
    {
     "name": "stderr",
     "output_type": "stream",
     "text": [
      "\r",
      "Epoch 5/25 - Validation:  61%|██████▏   | 84/137 [22:29<11:49, 13.38s/it]"
     ]
    },
    {
     "name": "stderr",
     "output_type": "stream",
     "text": [
      "\r",
      "Epoch 5/25 - Validation:  62%|██████▏   | 85/137 [23:01<16:24, 18.94s/it]"
     ]
    },
    {
     "name": "stderr",
     "output_type": "stream",
     "text": [
      "\r",
      "Epoch 5/25 - Validation:  63%|██████▎   | 86/137 [23:01<11:20, 13.35s/it]"
     ]
    },
    {
     "name": "stderr",
     "output_type": "stream",
     "text": [
      "\r",
      "Epoch 5/25 - Validation:  64%|██████▎   | 87/137 [23:32<15:39, 18.79s/it]"
     ]
    },
    {
     "name": "stderr",
     "output_type": "stream",
     "text": [
      "\r",
      "Epoch 5/25 - Validation:  64%|██████▍   | 88/137 [23:33<10:49, 13.25s/it]"
     ]
    },
    {
     "name": "stderr",
     "output_type": "stream",
     "text": [
      "\r",
      "Epoch 5/25 - Validation:  65%|██████▍   | 89/137 [24:05<15:08, 18.93s/it]"
     ]
    },
    {
     "name": "stderr",
     "output_type": "stream",
     "text": [
      "\r",
      "Epoch 5/25 - Validation:  66%|██████▌   | 90/137 [24:05<10:27, 13.34s/it]"
     ]
    },
    {
     "name": "stderr",
     "output_type": "stream",
     "text": [
      "\r",
      "Epoch 5/25 - Validation:  66%|██████▋   | 91/137 [24:37<14:33, 18.98s/it]"
     ]
    },
    {
     "name": "stderr",
     "output_type": "stream",
     "text": [
      "\r",
      "Epoch 5/25 - Validation:  67%|██████▋   | 92/137 [24:38<10:02, 13.38s/it]"
     ]
    },
    {
     "name": "stderr",
     "output_type": "stream",
     "text": [
      "\r",
      "Epoch 5/25 - Validation:  68%|██████▊   | 93/137 [25:09<13:51, 18.90s/it]"
     ]
    },
    {
     "name": "stderr",
     "output_type": "stream",
     "text": [
      "\r",
      "Epoch 5/25 - Validation:  69%|██████▊   | 94/137 [25:10<09:32, 13.33s/it]"
     ]
    },
    {
     "name": "stderr",
     "output_type": "stream",
     "text": [
      "\r",
      "Epoch 5/25 - Validation:  69%|██████▉   | 95/137 [25:40<12:58, 18.55s/it]"
     ]
    },
    {
     "name": "stderr",
     "output_type": "stream",
     "text": [
      "\r",
      "Epoch 5/25 - Validation:  70%|███████   | 96/137 [25:41<08:56, 13.08s/it]"
     ]
    },
    {
     "name": "stderr",
     "output_type": "stream",
     "text": [
      "\r",
      "Epoch 5/25 - Validation:  71%|███████   | 97/137 [26:14<12:45, 19.13s/it]"
     ]
    },
    {
     "name": "stderr",
     "output_type": "stream",
     "text": [
      "\r",
      "Epoch 5/25 - Validation:  72%|███████▏  | 98/137 [26:14<08:45, 13.49s/it]"
     ]
    },
    {
     "name": "stderr",
     "output_type": "stream",
     "text": [
      "\r",
      "Epoch 5/25 - Validation:  72%|███████▏  | 99/137 [26:45<11:46, 18.60s/it]"
     ]
    },
    {
     "name": "stderr",
     "output_type": "stream",
     "text": [
      "\r",
      "Epoch 5/25 - Validation:  73%|███████▎  | 100/137 [26:45<08:05, 13.11s/it]"
     ]
    },
    {
     "name": "stderr",
     "output_type": "stream",
     "text": [
      "\r",
      "Epoch 5/25 - Validation:  74%|███████▎  | 101/137 [27:17<11:11, 18.64s/it]"
     ]
    },
    {
     "name": "stderr",
     "output_type": "stream",
     "text": [
      "\r",
      "Epoch 5/25 - Validation:  74%|███████▍  | 102/137 [27:17<07:40, 13.14s/it]"
     ]
    },
    {
     "name": "stderr",
     "output_type": "stream",
     "text": [
      "\r",
      "Epoch 5/25 - Validation:  75%|███████▌  | 103/137 [27:49<10:34, 18.65s/it]"
     ]
    },
    {
     "name": "stderr",
     "output_type": "stream",
     "text": [
      "\r",
      "Epoch 5/25 - Validation:  76%|███████▌  | 104/137 [27:49<07:13, 13.15s/it]"
     ]
    },
    {
     "name": "stderr",
     "output_type": "stream",
     "text": [
      "\r",
      "Epoch 5/25 - Validation:  77%|███████▋  | 105/137 [28:22<10:15, 19.24s/it]"
     ]
    },
    {
     "name": "stderr",
     "output_type": "stream",
     "text": [
      "\r",
      "Epoch 5/25 - Validation:  77%|███████▋  | 106/137 [28:23<07:00, 13.56s/it]"
     ]
    },
    {
     "name": "stderr",
     "output_type": "stream",
     "text": [
      "\r",
      "Epoch 5/25 - Validation:  78%|███████▊  | 107/137 [28:54<09:26, 18.87s/it]"
     ]
    },
    {
     "name": "stderr",
     "output_type": "stream",
     "text": [
      "\r",
      "Epoch 5/25 - Validation:  79%|███████▉  | 108/137 [28:54<06:25, 13.30s/it]"
     ]
    },
    {
     "name": "stderr",
     "output_type": "stream",
     "text": [
      "\r",
      "Epoch 5/25 - Validation:  80%|███████▉  | 109/137 [29:25<08:42, 18.67s/it]"
     ]
    },
    {
     "name": "stderr",
     "output_type": "stream",
     "text": [
      "\r",
      "Epoch 5/25 - Validation:  80%|████████  | 110/137 [29:26<05:55, 13.16s/it]"
     ]
    },
    {
     "name": "stderr",
     "output_type": "stream",
     "text": [
      "\r",
      "Epoch 5/25 - Validation:  81%|████████  | 111/137 [29:57<08:06, 18.71s/it]"
     ]
    },
    {
     "name": "stderr",
     "output_type": "stream",
     "text": [
      "\r",
      "Epoch 5/25 - Validation:  82%|████████▏ | 112/137 [29:58<05:29, 13.19s/it]"
     ]
    },
    {
     "name": "stderr",
     "output_type": "stream",
     "text": [
      "\r",
      "Epoch 5/25 - Validation:  82%|████████▏ | 113/137 [30:31<07:38, 19.11s/it]"
     ]
    },
    {
     "name": "stderr",
     "output_type": "stream",
     "text": [
      "\r",
      "Epoch 5/25 - Validation:  83%|████████▎ | 114/137 [30:31<05:09, 13.47s/it]"
     ]
    },
    {
     "name": "stderr",
     "output_type": "stream",
     "text": [
      "\r",
      "Epoch 5/25 - Validation:  84%|████████▍ | 115/137 [31:03<07:00, 19.11s/it]"
     ]
    },
    {
     "name": "stderr",
     "output_type": "stream",
     "text": [
      "\r",
      "Epoch 5/25 - Validation:  85%|████████▍ | 116/137 [31:03<04:42, 13.47s/it]"
     ]
    },
    {
     "name": "stderr",
     "output_type": "stream",
     "text": [
      "\r",
      "Epoch 5/25 - Validation:  85%|████████▌ | 117/137 [31:35<06:16, 18.83s/it]"
     ]
    },
    {
     "name": "stderr",
     "output_type": "stream",
     "text": [
      "\r",
      "Epoch 5/25 - Validation:  86%|████████▌ | 118/137 [31:35<04:12, 13.28s/it]"
     ]
    },
    {
     "name": "stderr",
     "output_type": "stream",
     "text": [
      "\r",
      "Epoch 5/25 - Validation:  87%|████████▋ | 119/137 [32:08<05:43, 19.09s/it]"
     ]
    },
    {
     "name": "stderr",
     "output_type": "stream",
     "text": [
      "\r",
      "Epoch 5/25 - Validation:  88%|████████▊ | 120/137 [32:08<03:48, 13.46s/it]"
     ]
    },
    {
     "name": "stderr",
     "output_type": "stream",
     "text": [
      "\r",
      "Epoch 5/25 - Validation:  88%|████████▊ | 121/137 [32:40<05:03, 18.95s/it]"
     ]
    },
    {
     "name": "stderr",
     "output_type": "stream",
     "text": [
      "\r",
      "Epoch 5/25 - Validation:  89%|████████▉ | 122/137 [32:40<03:20, 13.36s/it]"
     ]
    },
    {
     "name": "stderr",
     "output_type": "stream",
     "text": [
      "\r",
      "Epoch 5/25 - Validation:  90%|████████▉ | 123/137 [33:13<04:26, 19.05s/it]"
     ]
    },
    {
     "name": "stderr",
     "output_type": "stream",
     "text": [
      "\r",
      "Epoch 5/25 - Validation:  91%|█████████ | 124/137 [33:13<02:54, 13.43s/it]"
     ]
    },
    {
     "name": "stderr",
     "output_type": "stream",
     "text": [
      "\r",
      "Epoch 5/25 - Validation:  91%|█████████ | 125/137 [33:45<03:49, 19.10s/it]"
     ]
    },
    {
     "name": "stderr",
     "output_type": "stream",
     "text": [
      "\r",
      "Epoch 5/25 - Validation:  92%|█████████▏| 126/137 [33:45<02:28, 13.46s/it]"
     ]
    },
    {
     "name": "stderr",
     "output_type": "stream",
     "text": [
      "\r",
      "Epoch 5/25 - Validation:  93%|█████████▎| 127/137 [34:16<03:05, 18.56s/it]"
     ]
    },
    {
     "name": "stderr",
     "output_type": "stream",
     "text": [
      "\r",
      "Epoch 5/25 - Validation:  93%|█████████▎| 128/137 [34:16<01:57, 13.08s/it]"
     ]
    },
    {
     "name": "stderr",
     "output_type": "stream",
     "text": [
      "\r",
      "Epoch 5/25 - Validation:  94%|█████████▍| 129/137 [34:49<02:31, 18.95s/it]"
     ]
    },
    {
     "name": "stderr",
     "output_type": "stream",
     "text": [
      "\r",
      "Epoch 5/25 - Validation:  95%|█████████▍| 130/137 [34:49<01:33, 13.36s/it]"
     ]
    },
    {
     "name": "stderr",
     "output_type": "stream",
     "text": [
      "\r",
      "Epoch 5/25 - Validation:  96%|█████████▌| 131/137 [35:20<01:51, 18.64s/it]"
     ]
    },
    {
     "name": "stderr",
     "output_type": "stream",
     "text": [
      "\r",
      "Epoch 5/25 - Validation:  96%|█████████▋| 132/137 [35:20<01:05, 13.14s/it]"
     ]
    },
    {
     "name": "stderr",
     "output_type": "stream",
     "text": [
      "\r",
      "Epoch 5/25 - Validation:  97%|█████████▋| 133/137 [35:51<01:13, 18.44s/it]"
     ]
    },
    {
     "name": "stderr",
     "output_type": "stream",
     "text": [
      "\r",
      "Epoch 5/25 - Validation:  98%|█████████▊| 134/137 [35:52<00:38, 13.00s/it]"
     ]
    },
    {
     "name": "stderr",
     "output_type": "stream",
     "text": [
      "\r",
      "Epoch 5/25 - Validation:  99%|█████████▊| 135/137 [36:23<00:36, 18.44s/it]"
     ]
    },
    {
     "name": "stderr",
     "output_type": "stream",
     "text": [
      "\r",
      "Epoch 5/25 - Validation:  99%|█████████▉| 136/137 [36:23<00:13, 13.00s/it]"
     ]
    },
    {
     "name": "stderr",
     "output_type": "stream",
     "text": [
      "\r",
      "Epoch 5/25 - Validation: 100%|██████████| 137/137 [36:34<00:00, 12.38s/it]"
     ]
    },
    {
     "name": "stderr",
     "output_type": "stream",
     "text": [
      "\r",
      "Epoch 5/25 - Validation: 100%|██████████| 137/137 [36:34<00:00, 16.02s/it]"
     ]
    },
    {
     "name": "stderr",
     "output_type": "stream",
     "text": [
      "\n"
     ]
    },
    {
     "name": "stdout",
     "output_type": "stream",
     "text": [
      "Epoch 5/25:\n",
      "Train Loss: 1.0896, Train Acc: 0.4354\n",
      "Val Loss: 1.1013, Val Acc: 0.4500\n"
     ]
    },
    {
     "name": "stderr",
     "output_type": "stream",
     "text": [
      "\r",
      "Epoch 6/25 - Training:   0%|          | 0/137 [00:00<?, ?it/s]"
     ]
    },
    {
     "name": "stderr",
     "output_type": "stream",
     "text": [
      "\r",
      "Epoch 6/25 - Training:   1%|          | 1/137 [00:34<1:17:25, 34.16s/it]"
     ]
    },
    {
     "name": "stderr",
     "output_type": "stream",
     "text": [
      "\r",
      "Epoch 6/25 - Training:   1%|▏         | 2/137 [00:35<32:49, 14.59s/it]  "
     ]
    },
    {
     "name": "stderr",
     "output_type": "stream",
     "text": [
      "\r",
      "Epoch 6/25 - Training:   2%|▏         | 3/137 [01:06<49:55, 22.35s/it]"
     ]
    },
    {
     "name": "stderr",
     "output_type": "stream",
     "text": [
      "\r",
      "Epoch 6/25 - Training:   3%|▎         | 4/137 [01:07<30:46, 13.88s/it]"
     ]
    },
    {
     "name": "stderr",
     "output_type": "stream",
     "text": [
      "\r",
      "Epoch 6/25 - Training:   4%|▎         | 5/137 [01:38<44:17, 20.13s/it]"
     ]
    },
    {
     "name": "stderr",
     "output_type": "stream",
     "text": [
      "\r",
      "Epoch 6/25 - Training:   4%|▍         | 6/137 [01:39<29:39, 13.59s/it]"
     ]
    },
    {
     "name": "stderr",
     "output_type": "stream",
     "text": [
      "\r",
      "Epoch 6/25 - Training:   5%|▌         | 7/137 [02:12<42:45, 19.74s/it]"
     ]
    },
    {
     "name": "stderr",
     "output_type": "stream",
     "text": [
      "\r",
      "Epoch 6/25 - Training:   6%|▌         | 8/137 [02:12<29:32, 13.74s/it]"
     ]
    },
    {
     "name": "stderr",
     "output_type": "stream",
     "text": [
      "\r",
      "Epoch 6/25 - Training:   7%|▋         | 9/137 [02:41<39:05, 18.32s/it]"
     ]
    },
    {
     "name": "stderr",
     "output_type": "stream",
     "text": [
      "\r",
      "Epoch 6/25 - Training:   7%|▋         | 10/137 [02:42<27:23, 12.94s/it]"
     ]
    },
    {
     "name": "stderr",
     "output_type": "stream",
     "text": [
      "\r",
      "Epoch 6/25 - Training:   8%|▊         | 11/137 [03:09<36:26, 17.36s/it]"
     ]
    },
    {
     "name": "stderr",
     "output_type": "stream",
     "text": [
      "\r",
      "Epoch 6/25 - Training:   9%|▉         | 12/137 [03:10<25:43, 12.35s/it]"
     ]
    },
    {
     "name": "stderr",
     "output_type": "stream",
     "text": [
      "\r",
      "Epoch 6/25 - Training:   9%|▉         | 13/137 [03:42<37:52, 18.32s/it]"
     ]
    },
    {
     "name": "stderr",
     "output_type": "stream",
     "text": [
      "\r",
      "Epoch 6/25 - Training:  10%|█         | 14/137 [03:43<26:46, 13.06s/it]"
     ]
    },
    {
     "name": "stderr",
     "output_type": "stream",
     "text": [
      "\r",
      "Epoch 6/25 - Training:  11%|█         | 15/137 [04:14<37:24, 18.40s/it]"
     ]
    },
    {
     "name": "stderr",
     "output_type": "stream",
     "text": [
      "\r",
      "Epoch 6/25 - Training:  12%|█▏        | 16/137 [04:15<26:29, 13.13s/it]"
     ]
    },
    {
     "name": "stderr",
     "output_type": "stream",
     "text": [
      "\r",
      "Epoch 6/25 - Training:  12%|█▏        | 17/137 [04:42<35:07, 17.56s/it]"
     ]
    },
    {
     "name": "stderr",
     "output_type": "stream",
     "text": [
      "\r",
      "Epoch 6/25 - Training:  13%|█▎        | 18/137 [04:43<24:53, 12.55s/it]"
     ]
    },
    {
     "name": "stderr",
     "output_type": "stream",
     "text": [
      "\r",
      "Epoch 6/25 - Training:  14%|█▍        | 19/137 [05:12<33:57, 17.27s/it]"
     ]
    },
    {
     "name": "stderr",
     "output_type": "stream",
     "text": [
      "\r",
      "Epoch 6/25 - Training:  15%|█▍        | 20/137 [05:13<24:05, 12.35s/it]"
     ]
    },
    {
     "name": "stderr",
     "output_type": "stream",
     "text": [
      "\r",
      "Epoch 6/25 - Training:  15%|█▌        | 21/137 [05:40<32:53, 17.01s/it]"
     ]
    },
    {
     "name": "stderr",
     "output_type": "stream",
     "text": [
      "\r",
      "Epoch 6/25 - Training:  16%|█▌        | 22/137 [05:41<23:20, 12.17s/it]"
     ]
    },
    {
     "name": "stderr",
     "output_type": "stream",
     "text": [
      "\r",
      "Epoch 6/25 - Training:  17%|█▋        | 23/137 [06:13<34:06, 17.95s/it]"
     ]
    },
    {
     "name": "stderr",
     "output_type": "stream",
     "text": [
      "\r",
      "Epoch 6/25 - Training:  18%|█▊        | 24/137 [06:14<24:10, 12.83s/it]"
     ]
    },
    {
     "name": "stderr",
     "output_type": "stream",
     "text": [
      "\r",
      "Epoch 6/25 - Training:  18%|█▊        | 25/137 [06:41<32:18, 17.31s/it]"
     ]
    },
    {
     "name": "stderr",
     "output_type": "stream",
     "text": [
      "\r",
      "Epoch 6/25 - Training:  19%|█▉        | 26/137 [06:42<22:54, 12.39s/it]"
     ]
    },
    {
     "name": "stderr",
     "output_type": "stream",
     "text": [
      "\r",
      "Epoch 6/25 - Training:  20%|█▉        | 27/137 [07:14<33:33, 18.31s/it]"
     ]
    },
    {
     "name": "stderr",
     "output_type": "stream",
     "text": [
      "\r",
      "Epoch 6/25 - Training:  20%|██        | 28/137 [07:15<23:46, 13.09s/it]"
     ]
    },
    {
     "name": "stderr",
     "output_type": "stream",
     "text": [
      "\r",
      "Epoch 6/25 - Training:  21%|██        | 29/137 [07:43<31:11, 17.33s/it]"
     ]
    },
    {
     "name": "stderr",
     "output_type": "stream",
     "text": [
      "\r",
      "Epoch 6/25 - Training:  22%|██▏       | 30/137 [07:43<22:06, 12.40s/it]"
     ]
    },
    {
     "name": "stderr",
     "output_type": "stream",
     "text": [
      "\r",
      "Epoch 6/25 - Training:  23%|██▎       | 31/137 [08:10<29:29, 16.70s/it]"
     ]
    },
    {
     "name": "stderr",
     "output_type": "stream",
     "text": [
      "\r",
      "Epoch 6/25 - Training:  23%|██▎       | 32/137 [08:11<20:55, 11.96s/it]"
     ]
    },
    {
     "name": "stderr",
     "output_type": "stream",
     "text": [
      "\r",
      "Epoch 6/25 - Training:  24%|██▍       | 33/137 [08:34<26:34, 15.33s/it]"
     ]
    },
    {
     "name": "stderr",
     "output_type": "stream",
     "text": [
      "\r",
      "Epoch 6/25 - Training:  25%|██▍       | 34/137 [08:35<18:53, 11.00s/it]"
     ]
    },
    {
     "name": "stderr",
     "output_type": "stream",
     "text": [
      "\r",
      "Epoch 6/25 - Training:  26%|██▌       | 35/137 [09:03<27:04, 15.93s/it]"
     ]
    },
    {
     "name": "stderr",
     "output_type": "stream",
     "text": [
      "\r",
      "Epoch 6/25 - Training:  26%|██▋       | 36/137 [09:05<19:51, 11.79s/it]"
     ]
    },
    {
     "name": "stderr",
     "output_type": "stream",
     "text": [
      "\r",
      "Epoch 6/25 - Training:  27%|██▋       | 37/137 [09:35<28:39, 17.20s/it]"
     ]
    },
    {
     "name": "stderr",
     "output_type": "stream",
     "text": [
      "\r",
      "Epoch 6/25 - Training:  28%|██▊       | 38/137 [09:35<20:18, 12.30s/it]"
     ]
    },
    {
     "name": "stderr",
     "output_type": "stream",
     "text": [
      "\r",
      "Epoch 6/25 - Training:  28%|██▊       | 39/137 [10:03<27:38, 16.93s/it]"
     ]
    },
    {
     "name": "stderr",
     "output_type": "stream",
     "text": [
      "\r",
      "Epoch 6/25 - Training:  29%|██▉       | 40/137 [10:06<20:25, 12.64s/it]"
     ]
    },
    {
     "name": "stderr",
     "output_type": "stream",
     "text": [
      "\r",
      "Epoch 6/25 - Training:  30%|██▉       | 41/137 [10:35<28:17, 17.69s/it]"
     ]
    },
    {
     "name": "stderr",
     "output_type": "stream",
     "text": [
      "\r",
      "Epoch 6/25 - Training:  31%|███       | 42/137 [10:36<20:01, 12.65s/it]"
     ]
    },
    {
     "name": "stderr",
     "output_type": "stream",
     "text": [
      "\r",
      "Epoch 6/25 - Training:  31%|███▏      | 43/137 [11:03<26:18, 16.80s/it]"
     ]
    },
    {
     "name": "stderr",
     "output_type": "stream",
     "text": [
      "\r",
      "Epoch 6/25 - Training:  32%|███▏      | 44/137 [11:03<18:38, 12.03s/it]"
     ]
    },
    {
     "name": "stderr",
     "output_type": "stream",
     "text": [
      "\r",
      "Epoch 6/25 - Training:  33%|███▎      | 45/137 [11:30<25:06, 16.37s/it]"
     ]
    },
    {
     "name": "stderr",
     "output_type": "stream",
     "text": [
      "\r",
      "Epoch 6/25 - Training:  34%|███▎      | 46/137 [11:32<18:14, 12.03s/it]"
     ]
    },
    {
     "name": "stderr",
     "output_type": "stream",
     "text": [
      "\r",
      "Epoch 6/25 - Training:  34%|███▍      | 47/137 [11:58<24:14, 16.16s/it]"
     ]
    },
    {
     "name": "stderr",
     "output_type": "stream",
     "text": [
      "\r",
      "Epoch 6/25 - Training:  35%|███▌      | 48/137 [12:04<19:40, 13.27s/it]"
     ]
    },
    {
     "name": "stderr",
     "output_type": "stream",
     "text": [
      "\r",
      "Epoch 6/25 - Training:  36%|███▌      | 49/137 [12:26<23:17, 15.88s/it]"
     ]
    },
    {
     "name": "stderr",
     "output_type": "stream",
     "text": [
      "\r",
      "Epoch 6/25 - Training:  36%|███▋      | 50/137 [12:37<20:41, 14.27s/it]"
     ]
    },
    {
     "name": "stderr",
     "output_type": "stream",
     "text": [
      "\r",
      "Epoch 6/25 - Training:  37%|███▋      | 51/137 [12:55<22:12, 15.49s/it]"
     ]
    },
    {
     "name": "stderr",
     "output_type": "stream",
     "text": [
      "\r",
      "Epoch 6/25 - Training:  38%|███▊      | 52/137 [13:04<19:20, 13.65s/it]"
     ]
    },
    {
     "name": "stderr",
     "output_type": "stream",
     "text": [
      "\r",
      "Epoch 6/25 - Training:  39%|███▊      | 53/137 [13:28<23:12, 16.58s/it]"
     ]
    },
    {
     "name": "stderr",
     "output_type": "stream",
     "text": [
      "\r",
      "Epoch 6/25 - Training:  39%|███▉      | 54/137 [13:38<20:09, 14.57s/it]"
     ]
    },
    {
     "name": "stderr",
     "output_type": "stream",
     "text": [
      "\r",
      "Epoch 6/25 - Training:  40%|████      | 55/137 [13:52<20:00, 14.64s/it]"
     ]
    },
    {
     "name": "stderr",
     "output_type": "stream",
     "text": [
      "\r",
      "Epoch 6/25 - Training:  41%|████      | 56/137 [14:05<19:02, 14.11s/it]"
     ]
    },
    {
     "name": "stderr",
     "output_type": "stream",
     "text": [
      "\r",
      "Epoch 6/25 - Training:  42%|████▏     | 57/137 [14:21<19:15, 14.44s/it]"
     ]
    },
    {
     "name": "stderr",
     "output_type": "stream",
     "text": [
      "\r",
      "Epoch 6/25 - Training:  42%|████▏     | 58/137 [14:37<19:49, 15.06s/it]"
     ]
    },
    {
     "name": "stderr",
     "output_type": "stream",
     "text": [
      "\r",
      "Epoch 6/25 - Training:  43%|████▎     | 59/137 [14:53<19:53, 15.30s/it]"
     ]
    },
    {
     "name": "stderr",
     "output_type": "stream",
     "text": [
      "\r",
      "Epoch 6/25 - Training:  44%|████▍     | 60/137 [15:06<18:34, 14.48s/it]"
     ]
    },
    {
     "name": "stderr",
     "output_type": "stream",
     "text": [
      "\r",
      "Epoch 6/25 - Training:  45%|████▍     | 61/137 [15:25<20:20, 16.05s/it]"
     ]
    },
    {
     "name": "stderr",
     "output_type": "stream",
     "text": [
      "\r",
      "Epoch 6/25 - Training:  45%|████▌     | 62/137 [15:35<17:32, 14.03s/it]"
     ]
    },
    {
     "name": "stderr",
     "output_type": "stream",
     "text": [
      "\r",
      "Epoch 6/25 - Training:  46%|████▌     | 63/137 [15:58<20:44, 16.82s/it]"
     ]
    },
    {
     "name": "stderr",
     "output_type": "stream",
     "text": [
      "\r",
      "Epoch 6/25 - Training:  47%|████▋     | 64/137 [15:59<14:53, 12.24s/it]"
     ]
    },
    {
     "name": "stderr",
     "output_type": "stream",
     "text": [
      "\r",
      "Epoch 6/25 - Training:  47%|████▋     | 65/137 [16:26<19:51, 16.55s/it]"
     ]
    },
    {
     "name": "stderr",
     "output_type": "stream",
     "text": [
      "\r",
      "Epoch 6/25 - Training:  48%|████▊     | 66/137 [16:27<14:01, 11.85s/it]"
     ]
    },
    {
     "name": "stderr",
     "output_type": "stream",
     "text": [
      "\r",
      "Epoch 6/25 - Training:  49%|████▉     | 67/137 [16:51<17:56, 15.38s/it]"
     ]
    },
    {
     "name": "stderr",
     "output_type": "stream",
     "text": [
      "\r",
      "Epoch 6/25 - Training:  50%|████▉     | 68/137 [16:51<12:41, 11.04s/it]"
     ]
    },
    {
     "name": "stderr",
     "output_type": "stream",
     "text": [
      "\r",
      "Epoch 6/25 - Training:  50%|█████     | 69/137 [17:23<19:28, 17.19s/it]"
     ]
    },
    {
     "name": "stderr",
     "output_type": "stream",
     "text": [
      "\r",
      "Epoch 6/25 - Training:  51%|█████     | 70/137 [17:24<13:44, 12.30s/it]"
     ]
    },
    {
     "name": "stderr",
     "output_type": "stream",
     "text": [
      "\r",
      "Epoch 6/25 - Training:  52%|█████▏    | 71/137 [17:51<18:17, 16.62s/it]"
     ]
    },
    {
     "name": "stderr",
     "output_type": "stream",
     "text": [
      "\r",
      "Epoch 6/25 - Training:  53%|█████▎    | 72/137 [17:51<12:53, 11.91s/it]"
     ]
    },
    {
     "name": "stderr",
     "output_type": "stream",
     "text": [
      "\r",
      "Epoch 6/25 - Training:  53%|█████▎    | 73/137 [18:19<17:35, 16.49s/it]"
     ]
    },
    {
     "name": "stderr",
     "output_type": "stream",
     "text": [
      "\r",
      "Epoch 6/25 - Training:  54%|█████▍    | 74/137 [18:20<12:24, 11.81s/it]"
     ]
    },
    {
     "name": "stderr",
     "output_type": "stream",
     "text": [
      "\r",
      "Epoch 6/25 - Training:  55%|█████▍    | 75/137 [18:50<18:01, 17.44s/it]"
     ]
    },
    {
     "name": "stderr",
     "output_type": "stream",
     "text": [
      "\r",
      "Epoch 6/25 - Training:  55%|█████▌    | 76/137 [18:51<12:41, 12.48s/it]"
     ]
    },
    {
     "name": "stderr",
     "output_type": "stream",
     "text": [
      "\r",
      "Epoch 6/25 - Training:  56%|█████▌    | 77/137 [19:23<18:13, 18.22s/it]"
     ]
    },
    {
     "name": "stderr",
     "output_type": "stream",
     "text": [
      "\r",
      "Epoch 6/25 - Training:  57%|█████▋    | 78/137 [19:24<12:48, 13.02s/it]"
     ]
    },
    {
     "name": "stderr",
     "output_type": "stream",
     "text": [
      "\r",
      "Epoch 6/25 - Training:  58%|█████▊    | 79/137 [19:51<16:52, 17.45s/it]"
     ]
    },
    {
     "name": "stderr",
     "output_type": "stream",
     "text": [
      "\r",
      "Epoch 6/25 - Training:  58%|█████▊    | 80/137 [19:52<11:51, 12.49s/it]"
     ]
    },
    {
     "name": "stderr",
     "output_type": "stream",
     "text": [
      "\r",
      "Epoch 6/25 - Training:  59%|█████▉    | 81/137 [20:16<14:46, 15.84s/it]"
     ]
    },
    {
     "name": "stderr",
     "output_type": "stream",
     "text": [
      "\r",
      "Epoch 6/25 - Training:  60%|█████▉    | 82/137 [20:17<10:24, 11.35s/it]"
     ]
    },
    {
     "name": "stderr",
     "output_type": "stream",
     "text": [
      "\r",
      "Epoch 6/25 - Training:  61%|██████    | 83/137 [20:47<15:25, 17.14s/it]"
     ]
    },
    {
     "name": "stderr",
     "output_type": "stream",
     "text": [
      "\r",
      "Epoch 6/25 - Training:  61%|██████▏   | 84/137 [20:48<10:50, 12.27s/it]"
     ]
    },
    {
     "name": "stderr",
     "output_type": "stream",
     "text": [
      "\r",
      "Epoch 6/25 - Training:  62%|██████▏   | 85/137 [21:15<14:22, 16.58s/it]"
     ]
    },
    {
     "name": "stderr",
     "output_type": "stream",
     "text": [
      "\r",
      "Epoch 6/25 - Training:  63%|██████▎   | 86/137 [21:16<10:05, 11.88s/it]"
     ]
    },
    {
     "name": "stderr",
     "output_type": "stream",
     "text": [
      "\r",
      "Epoch 6/25 - Training:  64%|██████▎   | 87/137 [21:39<12:46, 15.34s/it]"
     ]
    },
    {
     "name": "stderr",
     "output_type": "stream",
     "text": [
      "\r",
      "Epoch 6/25 - Training:  64%|██████▍   | 88/137 [21:40<08:59, 11.01s/it]"
     ]
    },
    {
     "name": "stderr",
     "output_type": "stream",
     "text": [
      "\r",
      "Epoch 6/25 - Training:  65%|██████▍   | 89/137 [22:07<12:36, 15.77s/it]"
     ]
    },
    {
     "name": "stderr",
     "output_type": "stream",
     "text": [
      "\r",
      "Epoch 6/25 - Training:  66%|██████▌   | 90/137 [22:08<08:51, 11.31s/it]"
     ]
    },
    {
     "name": "stderr",
     "output_type": "stream",
     "text": [
      "\r",
      "Epoch 6/25 - Training:  66%|██████▋   | 91/137 [22:32<11:29, 14.99s/it]"
     ]
    },
    {
     "name": "stderr",
     "output_type": "stream",
     "text": [
      "\r",
      "Epoch 6/25 - Training:  67%|██████▋   | 92/137 [22:32<08:04, 10.77s/it]"
     ]
    },
    {
     "name": "stderr",
     "output_type": "stream",
     "text": [
      "\r",
      "Epoch 6/25 - Training:  68%|██████▊   | 93/137 [23:04<12:24, 16.91s/it]"
     ]
    },
    {
     "name": "stderr",
     "output_type": "stream",
     "text": [
      "\r",
      "Epoch 6/25 - Training:  69%|██████▊   | 94/137 [23:05<08:40, 12.10s/it]"
     ]
    },
    {
     "name": "stderr",
     "output_type": "stream",
     "text": [
      "\r",
      "Epoch 6/25 - Training:  69%|██████▉   | 95/137 [23:31<11:32, 16.49s/it]"
     ]
    },
    {
     "name": "stderr",
     "output_type": "stream",
     "text": [
      "\r",
      "Epoch 6/25 - Training:  70%|███████   | 96/137 [23:37<08:58, 13.13s/it]"
     ]
    },
    {
     "name": "stderr",
     "output_type": "stream",
     "text": [
      "\r",
      "Epoch 6/25 - Training:  71%|███████   | 97/137 [24:03<11:23, 17.10s/it]"
     ]
    },
    {
     "name": "stderr",
     "output_type": "stream",
     "text": [
      "\r",
      "Epoch 6/25 - Training:  72%|███████▏  | 98/137 [24:05<08:14, 12.67s/it]"
     ]
    },
    {
     "name": "stderr",
     "output_type": "stream",
     "text": [
      "\r",
      "Epoch 6/25 - Training:  72%|███████▏  | 99/137 [24:36<11:21, 17.93s/it]"
     ]
    },
    {
     "name": "stderr",
     "output_type": "stream",
     "text": [
      "\r",
      "Epoch 6/25 - Training:  73%|███████▎  | 100/137 [24:38<08:08, 13.19s/it]"
     ]
    },
    {
     "name": "stderr",
     "output_type": "stream",
     "text": [
      "\r",
      "Epoch 6/25 - Training:  74%|███████▎  | 101/137 [25:06<10:40, 17.80s/it]"
     ]
    },
    {
     "name": "stderr",
     "output_type": "stream",
     "text": [
      "\r",
      "Epoch 6/25 - Training:  74%|███████▍  | 102/137 [25:07<07:25, 12.72s/it]"
     ]
    },
    {
     "name": "stderr",
     "output_type": "stream",
     "text": [
      "\r",
      "Epoch 6/25 - Training:  75%|███████▌  | 103/137 [25:40<10:36, 18.71s/it]"
     ]
    },
    {
     "name": "stderr",
     "output_type": "stream",
     "text": [
      "\r",
      "Epoch 6/25 - Training:  76%|███████▌  | 104/137 [25:41<07:21, 13.37s/it]"
     ]
    },
    {
     "name": "stderr",
     "output_type": "stream",
     "text": [
      "\r",
      "Epoch 6/25 - Training:  77%|███████▋  | 105/137 [26:12<10:01, 18.79s/it]"
     ]
    },
    {
     "name": "stderr",
     "output_type": "stream",
     "text": [
      "\r",
      "Epoch 6/25 - Training:  77%|███████▋  | 106/137 [26:13<06:56, 13.42s/it]"
     ]
    },
    {
     "name": "stderr",
     "output_type": "stream",
     "text": [
      "\r",
      "Epoch 6/25 - Training:  78%|███████▊  | 107/137 [26:46<09:34, 19.16s/it]"
     ]
    },
    {
     "name": "stderr",
     "output_type": "stream",
     "text": [
      "\r",
      "Epoch 6/25 - Training:  79%|███████▉  | 108/137 [26:46<06:36, 13.69s/it]"
     ]
    },
    {
     "name": "stderr",
     "output_type": "stream",
     "text": [
      "\r",
      "Epoch 6/25 - Training:  80%|███████▉  | 109/137 [27:10<07:45, 16.63s/it]"
     ]
    },
    {
     "name": "stderr",
     "output_type": "stream",
     "text": [
      "\r",
      "Epoch 6/25 - Training:  80%|████████  | 110/137 [27:11<05:21, 11.91s/it]"
     ]
    },
    {
     "name": "stderr",
     "output_type": "stream",
     "text": [
      "\r",
      "Epoch 6/25 - Training:  81%|████████  | 111/137 [27:42<07:39, 17.66s/it]"
     ]
    },
    {
     "name": "stderr",
     "output_type": "stream",
     "text": [
      "\r",
      "Epoch 6/25 - Training:  82%|████████▏ | 112/137 [27:43<05:15, 12.63s/it]"
     ]
    },
    {
     "name": "stderr",
     "output_type": "stream",
     "text": [
      "\r",
      "Epoch 6/25 - Training:  82%|████████▏ | 113/137 [28:11<06:53, 17.23s/it]"
     ]
    },
    {
     "name": "stderr",
     "output_type": "stream",
     "text": [
      "\r",
      "Epoch 6/25 - Training:  83%|████████▎ | 114/137 [28:12<04:43, 12.33s/it]"
     ]
    },
    {
     "name": "stderr",
     "output_type": "stream",
     "text": [
      "\r",
      "Epoch 6/25 - Training:  84%|████████▍ | 115/137 [28:34<05:37, 15.34s/it]"
     ]
    },
    {
     "name": "stderr",
     "output_type": "stream",
     "text": [
      "\r",
      "Epoch 6/25 - Training:  85%|████████▍ | 116/137 [28:35<03:51, 11.01s/it]"
     ]
    },
    {
     "name": "stderr",
     "output_type": "stream",
     "text": [
      "\r",
      "Epoch 6/25 - Training:  85%|████████▌ | 117/137 [29:05<05:36, 16.83s/it]"
     ]
    },
    {
     "name": "stderr",
     "output_type": "stream",
     "text": [
      "\r",
      "Epoch 6/25 - Training:  86%|████████▌ | 118/137 [29:06<03:48, 12.05s/it]"
     ]
    },
    {
     "name": "stderr",
     "output_type": "stream",
     "text": [
      "\r",
      "Epoch 6/25 - Training:  87%|████████▋ | 119/137 [29:37<05:19, 17.75s/it]"
     ]
    },
    {
     "name": "stderr",
     "output_type": "stream",
     "text": [
      "\r",
      "Epoch 6/25 - Training:  88%|████████▊ | 120/137 [29:38<03:35, 12.69s/it]"
     ]
    },
    {
     "name": "stderr",
     "output_type": "stream",
     "text": [
      "\r",
      "Epoch 6/25 - Training:  88%|████████▊ | 121/137 [30:10<04:53, 18.35s/it]"
     ]
    },
    {
     "name": "stderr",
     "output_type": "stream",
     "text": [
      "\r",
      "Epoch 6/25 - Training:  89%|████████▉ | 122/137 [30:11<03:16, 13.12s/it]"
     ]
    },
    {
     "name": "stderr",
     "output_type": "stream",
     "text": [
      "\r",
      "Epoch 6/25 - Training:  90%|████████▉ | 123/137 [30:33<03:44, 16.01s/it]"
     ]
    },
    {
     "name": "stderr",
     "output_type": "stream",
     "text": [
      "\r",
      "Epoch 6/25 - Training:  91%|█████████ | 124/137 [30:34<02:29, 11.48s/it]"
     ]
    },
    {
     "name": "stderr",
     "output_type": "stream",
     "text": [
      "\r",
      "Epoch 6/25 - Training:  91%|█████████ | 125/137 [31:01<03:12, 16.08s/it]"
     ]
    },
    {
     "name": "stderr",
     "output_type": "stream",
     "text": [
      "\r",
      "Epoch 6/25 - Training:  92%|█████████▏| 126/137 [31:02<02:06, 11.53s/it]"
     ]
    },
    {
     "name": "stderr",
     "output_type": "stream",
     "text": [
      "\r",
      "Epoch 6/25 - Training:  93%|█████████▎| 127/137 [31:25<02:29, 14.93s/it]"
     ]
    },
    {
     "name": "stderr",
     "output_type": "stream",
     "text": [
      "\r",
      "Epoch 6/25 - Training:  93%|█████████▎| 128/137 [31:26<01:36, 10.72s/it]"
     ]
    },
    {
     "name": "stderr",
     "output_type": "stream",
     "text": [
      "\r",
      "Epoch 6/25 - Training:  94%|█████████▍| 129/137 [31:53<02:05, 15.67s/it]"
     ]
    },
    {
     "name": "stderr",
     "output_type": "stream",
     "text": [
      "\r",
      "Epoch 6/25 - Training:  95%|█████████▍| 130/137 [31:54<01:18, 11.24s/it]"
     ]
    },
    {
     "name": "stderr",
     "output_type": "stream",
     "text": [
      "\r",
      "Epoch 6/25 - Training:  96%|█████████▌| 131/137 [32:26<01:45, 17.59s/it]"
     ]
    },
    {
     "name": "stderr",
     "output_type": "stream",
     "text": [
      "\r",
      "Epoch 6/25 - Training:  96%|█████████▋| 132/137 [32:27<01:02, 12.58s/it]"
     ]
    },
    {
     "name": "stderr",
     "output_type": "stream",
     "text": [
      "\r",
      "Epoch 6/25 - Training:  97%|█████████▋| 133/137 [32:54<01:07, 16.87s/it]"
     ]
    },
    {
     "name": "stderr",
     "output_type": "stream",
     "text": [
      "\r",
      "Epoch 6/25 - Training:  98%|█████████▊| 134/137 [32:55<00:36, 12.08s/it]"
     ]
    },
    {
     "name": "stderr",
     "output_type": "stream",
     "text": [
      "\r",
      "Epoch 6/25 - Training:  99%|█████████▊| 135/137 [33:22<00:33, 16.53s/it]"
     ]
    },
    {
     "name": "stderr",
     "output_type": "stream",
     "text": [
      "\r",
      "Epoch 6/25 - Training:  99%|█████████▉| 136/137 [33:23<00:11, 11.85s/it]"
     ]
    },
    {
     "name": "stderr",
     "output_type": "stream",
     "text": [
      "\r",
      "Epoch 6/25 - Training: 100%|██████████| 137/137 [33:25<00:00,  9.06s/it]"
     ]
    },
    {
     "name": "stderr",
     "output_type": "stream",
     "text": [
      "\r",
      "Epoch 6/25 - Training: 100%|██████████| 137/137 [33:25<00:00, 14.64s/it]"
     ]
    },
    {
     "name": "stderr",
     "output_type": "stream",
     "text": [
      "\n"
     ]
    },
    {
     "name": "stderr",
     "output_type": "stream",
     "text": [
      "\r",
      "Epoch 6/25 - Validation:   0%|          | 0/137 [00:00<?, ?it/s]"
     ]
    },
    {
     "name": "stderr",
     "output_type": "stream",
     "text": [
      "\r",
      "Epoch 6/25 - Validation:   1%|          | 1/137 [00:32<1:14:26, 32.85s/it]"
     ]
    },
    {
     "name": "stderr",
     "output_type": "stream",
     "text": [
      "\r",
      "Epoch 6/25 - Validation:   1%|▏         | 2/137 [00:33<30:50, 13.71s/it]  "
     ]
    },
    {
     "name": "stderr",
     "output_type": "stream",
     "text": [
      "\r",
      "Epoch 6/25 - Validation:   2%|▏         | 3/137 [01:05<49:10, 22.02s/it]"
     ]
    },
    {
     "name": "stderr",
     "output_type": "stream",
     "text": [
      "\r",
      "Epoch 6/25 - Validation:   3%|▎         | 4/137 [01:05<30:00, 13.54s/it]"
     ]
    },
    {
     "name": "stderr",
     "output_type": "stream",
     "text": [
      "\r",
      "Epoch 6/25 - Validation:   4%|▎         | 5/137 [01:36<43:32, 19.79s/it]"
     ]
    },
    {
     "name": "stderr",
     "output_type": "stream",
     "text": [
      "\r",
      "Epoch 6/25 - Validation:   4%|▍         | 6/137 [01:36<28:45, 13.17s/it]"
     ]
    },
    {
     "name": "stderr",
     "output_type": "stream",
     "text": [
      "\r",
      "Epoch 6/25 - Validation:   5%|▌         | 7/137 [02:08<41:40, 19.24s/it]"
     ]
    },
    {
     "name": "stderr",
     "output_type": "stream",
     "text": [
      "\r",
      "Epoch 6/25 - Validation:   6%|▌         | 8/137 [02:09<28:35, 13.30s/it]"
     ]
    },
    {
     "name": "stderr",
     "output_type": "stream",
     "text": [
      "\r",
      "Epoch 6/25 - Validation:   7%|▋         | 9/137 [02:40<40:29, 18.98s/it]"
     ]
    },
    {
     "name": "stderr",
     "output_type": "stream",
     "text": [
      "\r",
      "Epoch 6/25 - Validation:   7%|▋         | 10/137 [02:40<27:58, 13.21s/it]"
     ]
    },
    {
     "name": "stderr",
     "output_type": "stream",
     "text": [
      "\r",
      "Epoch 6/25 - Validation:   8%|▊         | 11/137 [03:13<39:56, 19.02s/it]"
     ]
    },
    {
     "name": "stderr",
     "output_type": "stream",
     "text": [
      "\r",
      "Epoch 6/25 - Validation:   9%|▉         | 12/137 [03:13<27:45, 13.33s/it]"
     ]
    },
    {
     "name": "stderr",
     "output_type": "stream",
     "text": [
      "\r",
      "Epoch 6/25 - Validation:   9%|▉         | 13/137 [03:46<39:45, 19.24s/it]"
     ]
    },
    {
     "name": "stderr",
     "output_type": "stream",
     "text": [
      "\r",
      "Epoch 6/25 - Validation:  10%|█         | 14/137 [03:46<27:43, 13.52s/it]"
     ]
    },
    {
     "name": "stderr",
     "output_type": "stream",
     "text": [
      "\r",
      "Epoch 6/25 - Validation:  11%|█         | 15/137 [04:17<38:19, 18.85s/it]"
     ]
    },
    {
     "name": "stderr",
     "output_type": "stream",
     "text": [
      "\r",
      "Epoch 6/25 - Validation:  12%|█▏        | 16/137 [04:18<26:45, 13.27s/it]"
     ]
    },
    {
     "name": "stderr",
     "output_type": "stream",
     "text": [
      "\r",
      "Epoch 6/25 - Validation:  12%|█▏        | 17/137 [04:49<37:30, 18.75s/it]"
     ]
    },
    {
     "name": "stderr",
     "output_type": "stream",
     "text": [
      "\r",
      "Epoch 6/25 - Validation:  13%|█▎        | 18/137 [04:49<26:11, 13.21s/it]"
     ]
    },
    {
     "name": "stderr",
     "output_type": "stream",
     "text": [
      "\r",
      "Epoch 6/25 - Validation:  14%|█▍        | 19/137 [05:21<36:59, 18.81s/it]"
     ]
    },
    {
     "name": "stderr",
     "output_type": "stream",
     "text": [
      "\r",
      "Epoch 6/25 - Validation:  15%|█▍        | 20/137 [05:22<25:50, 13.26s/it]"
     ]
    },
    {
     "name": "stderr",
     "output_type": "stream",
     "text": [
      "\r",
      "Epoch 6/25 - Validation:  15%|█▌        | 21/137 [05:53<36:21, 18.81s/it]"
     ]
    },
    {
     "name": "stderr",
     "output_type": "stream",
     "text": [
      "\r",
      "Epoch 6/25 - Validation:  16%|█▌        | 22/137 [05:54<25:24, 13.26s/it]"
     ]
    },
    {
     "name": "stderr",
     "output_type": "stream",
     "text": [
      "\r",
      "Epoch 6/25 - Validation:  17%|█▋        | 23/137 [06:25<35:47, 18.84s/it]"
     ]
    },
    {
     "name": "stderr",
     "output_type": "stream",
     "text": [
      "\r",
      "Epoch 6/25 - Validation:  18%|█▊        | 24/137 [06:26<25:00, 13.28s/it]"
     ]
    },
    {
     "name": "stderr",
     "output_type": "stream",
     "text": [
      "\r",
      "Epoch 6/25 - Validation:  18%|█▊        | 25/137 [06:58<35:18, 18.92s/it]"
     ]
    },
    {
     "name": "stderr",
     "output_type": "stream",
     "text": [
      "\r",
      "Epoch 6/25 - Validation:  19%|█▉        | 26/137 [06:58<24:40, 13.34s/it]"
     ]
    },
    {
     "name": "stderr",
     "output_type": "stream",
     "text": [
      "\r",
      "Epoch 6/25 - Validation:  20%|█▉        | 27/137 [07:28<33:43, 18.39s/it]"
     ]
    },
    {
     "name": "stderr",
     "output_type": "stream",
     "text": [
      "\r",
      "Epoch 6/25 - Validation:  20%|██        | 28/137 [07:29<23:41, 13.04s/it]"
     ]
    },
    {
     "name": "stderr",
     "output_type": "stream",
     "text": [
      "\r",
      "Epoch 6/25 - Validation:  21%|██        | 29/137 [08:01<33:39, 18.70s/it]"
     ]
    },
    {
     "name": "stderr",
     "output_type": "stream",
     "text": [
      "\r",
      "Epoch 6/25 - Validation:  22%|██▏       | 30/137 [08:01<23:30, 13.18s/it]"
     ]
    },
    {
     "name": "stderr",
     "output_type": "stream",
     "text": [
      "\r",
      "Epoch 6/25 - Validation:  23%|██▎       | 31/137 [08:34<33:29, 18.96s/it]"
     ]
    },
    {
     "name": "stderr",
     "output_type": "stream",
     "text": [
      "\r",
      "Epoch 6/25 - Validation:  23%|██▎       | 32/137 [08:34<23:22, 13.36s/it]"
     ]
    },
    {
     "name": "stderr",
     "output_type": "stream",
     "text": [
      "\r",
      "Epoch 6/25 - Validation:  24%|██▍       | 33/137 [09:06<32:54, 18.98s/it]"
     ]
    },
    {
     "name": "stderr",
     "output_type": "stream",
     "text": [
      "\r",
      "Epoch 6/25 - Validation:  25%|██▍       | 34/137 [09:06<22:58, 13.38s/it]"
     ]
    },
    {
     "name": "stderr",
     "output_type": "stream",
     "text": [
      "\r",
      "Epoch 6/25 - Validation:  26%|██▌       | 35/137 [09:38<31:59, 18.82s/it]"
     ]
    },
    {
     "name": "stderr",
     "output_type": "stream",
     "text": [
      "\r",
      "Epoch 6/25 - Validation:  26%|██▋       | 36/137 [09:38<22:19, 13.27s/it]"
     ]
    },
    {
     "name": "stderr",
     "output_type": "stream",
     "text": [
      "\r",
      "Epoch 6/25 - Validation:  27%|██▋       | 37/137 [10:11<31:43, 19.04s/it]"
     ]
    },
    {
     "name": "stderr",
     "output_type": "stream",
     "text": [
      "\r",
      "Epoch 6/25 - Validation:  28%|██▊       | 38/137 [10:11<22:08, 13.42s/it]"
     ]
    },
    {
     "name": "stderr",
     "output_type": "stream",
     "text": [
      "\r",
      "Epoch 6/25 - Validation:  28%|██▊       | 39/137 [10:42<30:30, 18.68s/it]"
     ]
    },
    {
     "name": "stderr",
     "output_type": "stream",
     "text": [
      "\r",
      "Epoch 6/25 - Validation:  29%|██▉       | 40/137 [10:42<21:17, 13.17s/it]"
     ]
    },
    {
     "name": "stderr",
     "output_type": "stream",
     "text": [
      "\r",
      "Epoch 6/25 - Validation:  30%|██▉       | 41/137 [11:14<30:06, 18.82s/it]"
     ]
    },
    {
     "name": "stderr",
     "output_type": "stream",
     "text": [
      "\r",
      "Epoch 6/25 - Validation:  31%|███       | 42/137 [11:14<21:00, 13.26s/it]"
     ]
    },
    {
     "name": "stderr",
     "output_type": "stream",
     "text": [
      "\r",
      "Epoch 6/25 - Validation:  31%|███▏      | 43/137 [11:45<29:05, 18.57s/it]"
     ]
    },
    {
     "name": "stderr",
     "output_type": "stream",
     "text": [
      "\r",
      "Epoch 6/25 - Validation:  32%|███▏      | 44/137 [11:46<20:17, 13.09s/it]"
     ]
    },
    {
     "name": "stderr",
     "output_type": "stream",
     "text": [
      "\r",
      "Epoch 6/25 - Validation:  33%|███▎      | 45/137 [12:17<28:19, 18.47s/it]"
     ]
    },
    {
     "name": "stderr",
     "output_type": "stream",
     "text": [
      "\r",
      "Epoch 6/25 - Validation:  34%|███▎      | 46/137 [12:17<19:45, 13.02s/it]"
     ]
    },
    {
     "name": "stderr",
     "output_type": "stream",
     "text": [
      "\r",
      "Epoch 6/25 - Validation:  34%|███▍      | 47/137 [12:50<28:29, 18.99s/it]"
     ]
    },
    {
     "name": "stderr",
     "output_type": "stream",
     "text": [
      "\r",
      "Epoch 6/25 - Validation:  35%|███▌      | 48/137 [12:50<19:51, 13.39s/it]"
     ]
    },
    {
     "name": "stderr",
     "output_type": "stream",
     "text": [
      "\r",
      "Epoch 6/25 - Validation:  36%|███▌      | 49/137 [13:22<27:48, 18.96s/it]"
     ]
    },
    {
     "name": "stderr",
     "output_type": "stream",
     "text": [
      "\r",
      "Epoch 6/25 - Validation:  36%|███▋      | 50/137 [13:23<19:22, 13.37s/it]"
     ]
    },
    {
     "name": "stderr",
     "output_type": "stream",
     "text": [
      "\r",
      "Epoch 6/25 - Validation:  37%|███▋      | 51/137 [13:54<26:54, 18.77s/it]"
     ]
    },
    {
     "name": "stderr",
     "output_type": "stream",
     "text": [
      "\r",
      "Epoch 6/25 - Validation:  38%|███▊      | 52/137 [13:54<18:44, 13.23s/it]"
     ]
    },
    {
     "name": "stderr",
     "output_type": "stream",
     "text": [
      "\r",
      "Epoch 6/25 - Validation:  39%|███▊      | 53/137 [14:26<26:19, 18.81s/it]"
     ]
    },
    {
     "name": "stderr",
     "output_type": "stream",
     "text": [
      "\r",
      "Epoch 6/25 - Validation:  39%|███▉      | 54/137 [14:26<18:20, 13.26s/it]"
     ]
    },
    {
     "name": "stderr",
     "output_type": "stream",
     "text": [
      "\r",
      "Epoch 6/25 - Validation:  40%|████      | 55/137 [14:58<25:44, 18.83s/it]"
     ]
    },
    {
     "name": "stderr",
     "output_type": "stream",
     "text": [
      "\r",
      "Epoch 6/25 - Validation:  41%|████      | 56/137 [14:58<17:55, 13.28s/it]"
     ]
    },
    {
     "name": "stderr",
     "output_type": "stream",
     "text": [
      "\r",
      "Epoch 6/25 - Validation:  42%|████▏     | 57/137 [15:30<25:09, 18.87s/it]"
     ]
    },
    {
     "name": "stderr",
     "output_type": "stream",
     "text": [
      "\r",
      "Epoch 6/25 - Validation:  42%|████▏     | 58/137 [15:31<17:30, 13.30s/it]"
     ]
    },
    {
     "name": "stderr",
     "output_type": "stream",
     "text": [
      "\r",
      "Epoch 6/25 - Validation:  43%|████▎     | 59/137 [16:04<25:13, 19.40s/it]"
     ]
    },
    {
     "name": "stderr",
     "output_type": "stream",
     "text": [
      "\r",
      "Epoch 6/25 - Validation:  44%|████▍     | 60/137 [16:05<17:32, 13.67s/it]"
     ]
    },
    {
     "name": "stderr",
     "output_type": "stream",
     "text": [
      "\r",
      "Epoch 6/25 - Validation:  45%|████▍     | 61/137 [16:37<24:16, 19.16s/it]"
     ]
    },
    {
     "name": "stderr",
     "output_type": "stream",
     "text": [
      "\r",
      "Epoch 6/25 - Validation:  45%|████▌     | 62/137 [16:37<16:53, 13.51s/it]"
     ]
    },
    {
     "name": "stderr",
     "output_type": "stream",
     "text": [
      "\r",
      "Epoch 6/25 - Validation:  46%|████▌     | 63/137 [17:08<23:16, 18.87s/it]"
     ]
    },
    {
     "name": "stderr",
     "output_type": "stream",
     "text": [
      "\r",
      "Epoch 6/25 - Validation:  47%|████▋     | 64/137 [17:09<16:10, 13.30s/it]"
     ]
    },
    {
     "name": "stderr",
     "output_type": "stream",
     "text": [
      "\r",
      "Epoch 6/25 - Validation:  47%|████▋     | 65/137 [17:41<22:53, 19.08s/it]"
     ]
    },
    {
     "name": "stderr",
     "output_type": "stream",
     "text": [
      "\r",
      "Epoch 6/25 - Validation:  48%|████▊     | 66/137 [17:42<15:54, 13.45s/it]"
     ]
    },
    {
     "name": "stderr",
     "output_type": "stream",
     "text": [
      "\r",
      "Epoch 6/25 - Validation:  49%|████▉     | 67/137 [18:13<22:09, 18.99s/it]"
     ]
    },
    {
     "name": "stderr",
     "output_type": "stream",
     "text": [
      "\r",
      "Epoch 6/25 - Validation:  50%|████▉     | 68/137 [18:14<15:23, 13.39s/it]"
     ]
    },
    {
     "name": "stderr",
     "output_type": "stream",
     "text": [
      "\r",
      "Epoch 6/25 - Validation:  50%|█████     | 69/137 [18:45<21:21, 18.85s/it]"
     ]
    },
    {
     "name": "stderr",
     "output_type": "stream",
     "text": [
      "\r",
      "Epoch 6/25 - Validation:  51%|█████     | 70/137 [18:46<14:50, 13.29s/it]"
     ]
    },
    {
     "name": "stderr",
     "output_type": "stream",
     "text": [
      "\r",
      "Epoch 6/25 - Validation:  52%|█████▏    | 71/137 [19:16<20:13, 18.38s/it]"
     ]
    },
    {
     "name": "stderr",
     "output_type": "stream",
     "text": [
      "\r",
      "Epoch 6/25 - Validation:  53%|█████▎    | 72/137 [19:16<14:02, 12.96s/it]"
     ]
    },
    {
     "name": "stderr",
     "output_type": "stream",
     "text": [
      "\r",
      "Epoch 6/25 - Validation:  53%|█████▎    | 73/137 [19:49<20:12, 18.94s/it]"
     ]
    },
    {
     "name": "stderr",
     "output_type": "stream",
     "text": [
      "\r",
      "Epoch 6/25 - Validation:  54%|█████▍    | 74/137 [19:49<14:01, 13.35s/it]"
     ]
    },
    {
     "name": "stderr",
     "output_type": "stream",
     "text": [
      "\r",
      "Epoch 6/25 - Validation:  55%|█████▍    | 75/137 [20:22<19:42, 19.07s/it]"
     ]
    },
    {
     "name": "stderr",
     "output_type": "stream",
     "text": [
      "\r",
      "Epoch 6/25 - Validation:  55%|█████▌    | 76/137 [20:22<13:39, 13.44s/it]"
     ]
    },
    {
     "name": "stderr",
     "output_type": "stream",
     "text": [
      "\r",
      "Epoch 6/25 - Validation:  56%|█████▌    | 77/137 [20:54<19:00, 19.00s/it]"
     ]
    },
    {
     "name": "stderr",
     "output_type": "stream",
     "text": [
      "\r",
      "Epoch 6/25 - Validation:  57%|█████▋    | 78/137 [20:54<13:10, 13.40s/it]"
     ]
    },
    {
     "name": "stderr",
     "output_type": "stream",
     "text": [
      "\r",
      "Epoch 6/25 - Validation:  58%|█████▊    | 79/137 [21:26<18:17, 18.93s/it]"
     ]
    },
    {
     "name": "stderr",
     "output_type": "stream",
     "text": [
      "\r",
      "Epoch 6/25 - Validation:  58%|█████▊    | 80/137 [21:27<12:40, 13.35s/it]"
     ]
    },
    {
     "name": "stderr",
     "output_type": "stream",
     "text": [
      "\r",
      "Epoch 6/25 - Validation:  59%|█████▉    | 81/137 [21:59<17:41, 18.95s/it]"
     ]
    },
    {
     "name": "stderr",
     "output_type": "stream",
     "text": [
      "\r",
      "Epoch 6/25 - Validation:  60%|█████▉    | 82/137 [21:59<12:14, 13.36s/it]"
     ]
    },
    {
     "name": "stderr",
     "output_type": "stream",
     "text": [
      "\r",
      "Epoch 6/25 - Validation:  61%|██████    | 83/137 [22:31<17:05, 18.99s/it]"
     ]
    },
    {
     "name": "stderr",
     "output_type": "stream",
     "text": [
      "\r",
      "Epoch 6/25 - Validation:  61%|██████▏   | 84/137 [22:31<11:49, 13.39s/it]"
     ]
    },
    {
     "name": "stderr",
     "output_type": "stream",
     "text": [
      "\r",
      "Epoch 6/25 - Validation:  62%|██████▏   | 85/137 [23:04<16:28, 19.01s/it]"
     ]
    },
    {
     "name": "stderr",
     "output_type": "stream",
     "text": [
      "\r",
      "Epoch 6/25 - Validation:  63%|██████▎   | 86/137 [23:04<11:23, 13.40s/it]"
     ]
    },
    {
     "name": "stderr",
     "output_type": "stream",
     "text": [
      "\r",
      "Epoch 6/25 - Validation:  64%|██████▎   | 87/137 [23:35<15:39, 18.79s/it]"
     ]
    },
    {
     "name": "stderr",
     "output_type": "stream",
     "text": [
      "\r",
      "Epoch 6/25 - Validation:  64%|██████▍   | 88/137 [23:35<10:49, 13.25s/it]"
     ]
    },
    {
     "name": "stderr",
     "output_type": "stream",
     "text": [
      "\r",
      "Epoch 6/25 - Validation:  65%|██████▍   | 89/137 [24:07<15:02, 18.80s/it]"
     ]
    },
    {
     "name": "stderr",
     "output_type": "stream",
     "text": [
      "\r",
      "Epoch 6/25 - Validation:  66%|██████▌   | 90/137 [24:08<10:22, 13.25s/it]"
     ]
    },
    {
     "name": "stderr",
     "output_type": "stream",
     "text": [
      "\r",
      "Epoch 6/25 - Validation:  66%|██████▋   | 91/137 [24:40<14:31, 18.94s/it]"
     ]
    },
    {
     "name": "stderr",
     "output_type": "stream",
     "text": [
      "\r",
      "Epoch 6/25 - Validation:  67%|██████▋   | 92/137 [24:40<10:00, 13.35s/it]"
     ]
    },
    {
     "name": "stderr",
     "output_type": "stream",
     "text": [
      "\r",
      "Epoch 6/25 - Validation:  68%|██████▊   | 93/137 [25:12<13:58, 19.05s/it]"
     ]
    },
    {
     "name": "stderr",
     "output_type": "stream",
     "text": [
      "\r",
      "Epoch 6/25 - Validation:  69%|██████▊   | 94/137 [25:13<09:37, 13.43s/it]"
     ]
    },
    {
     "name": "stderr",
     "output_type": "stream",
     "text": [
      "\r",
      "Epoch 6/25 - Validation:  69%|██████▉   | 95/137 [25:43<13:00, 18.59s/it]"
     ]
    },
    {
     "name": "stderr",
     "output_type": "stream",
     "text": [
      "\r",
      "Epoch 6/25 - Validation:  70%|███████   | 96/137 [25:44<08:57, 13.10s/it]"
     ]
    },
    {
     "name": "stderr",
     "output_type": "stream",
     "text": [
      "\r",
      "Epoch 6/25 - Validation:  71%|███████   | 97/137 [26:17<12:42, 19.06s/it]"
     ]
    },
    {
     "name": "stderr",
     "output_type": "stream",
     "text": [
      "\r",
      "Epoch 6/25 - Validation:  72%|███████▏  | 98/137 [26:17<08:43, 13.43s/it]"
     ]
    },
    {
     "name": "stderr",
     "output_type": "stream",
     "text": [
      "\r",
      "Epoch 6/25 - Validation:  72%|███████▏  | 99/137 [26:48<11:53, 18.79s/it]"
     ]
    },
    {
     "name": "stderr",
     "output_type": "stream",
     "text": [
      "\r",
      "Epoch 6/25 - Validation:  73%|███████▎  | 100/137 [26:49<08:10, 13.25s/it]"
     ]
    },
    {
     "name": "stderr",
     "output_type": "stream",
     "text": [
      "\r",
      "Epoch 6/25 - Validation:  74%|███████▎  | 101/137 [27:21<11:23, 18.97s/it]"
     ]
    },
    {
     "name": "stderr",
     "output_type": "stream",
     "text": [
      "\r",
      "Epoch 6/25 - Validation:  74%|███████▍  | 102/137 [27:21<07:48, 13.37s/it]"
     ]
    },
    {
     "name": "stderr",
     "output_type": "stream",
     "text": [
      "\r",
      "Epoch 6/25 - Validation:  75%|███████▌  | 103/137 [27:52<10:37, 18.75s/it]"
     ]
    },
    {
     "name": "stderr",
     "output_type": "stream",
     "text": [
      "\r",
      "Epoch 6/25 - Validation:  76%|███████▌  | 104/137 [27:53<07:16, 13.22s/it]"
     ]
    },
    {
     "name": "stderr",
     "output_type": "stream",
     "text": [
      "\r",
      "Epoch 6/25 - Validation:  77%|███████▋  | 105/137 [28:25<10:05, 18.92s/it]"
     ]
    },
    {
     "name": "stderr",
     "output_type": "stream",
     "text": [
      "\r",
      "Epoch 6/25 - Validation:  77%|███████▋  | 106/137 [28:25<06:53, 13.34s/it]"
     ]
    },
    {
     "name": "stderr",
     "output_type": "stream",
     "text": [
      "\r",
      "Epoch 6/25 - Validation:  78%|███████▊  | 107/137 [28:56<09:19, 18.67s/it]"
     ]
    },
    {
     "name": "stderr",
     "output_type": "stream",
     "text": [
      "\r",
      "Epoch 6/25 - Validation:  79%|███████▉  | 108/137 [28:57<06:21, 13.16s/it]"
     ]
    },
    {
     "name": "stderr",
     "output_type": "stream",
     "text": [
      "\r",
      "Epoch 6/25 - Validation:  80%|███████▉  | 109/137 [29:27<08:33, 18.34s/it]"
     ]
    },
    {
     "name": "stderr",
     "output_type": "stream",
     "text": [
      "\r",
      "Epoch 6/25 - Validation:  80%|████████  | 110/137 [29:27<05:49, 12.93s/it]"
     ]
    },
    {
     "name": "stderr",
     "output_type": "stream",
     "text": [
      "\r",
      "Epoch 6/25 - Validation:  81%|████████  | 111/137 [30:00<08:08, 18.77s/it]"
     ]
    },
    {
     "name": "stderr",
     "output_type": "stream",
     "text": [
      "\r",
      "Epoch 6/25 - Validation:  82%|████████▏ | 112/137 [30:00<05:30, 13.23s/it]"
     ]
    },
    {
     "name": "stderr",
     "output_type": "stream",
     "text": [
      "\r",
      "Epoch 6/25 - Validation:  82%|████████▏ | 113/137 [30:32<07:34, 18.96s/it]"
     ]
    },
    {
     "name": "stderr",
     "output_type": "stream",
     "text": [
      "\r",
      "Epoch 6/25 - Validation:  83%|████████▎ | 114/137 [30:33<05:07, 13.36s/it]"
     ]
    },
    {
     "name": "stderr",
     "output_type": "stream",
     "text": [
      "\r",
      "Epoch 6/25 - Validation:  84%|████████▍ | 115/137 [31:05<06:55, 18.89s/it]"
     ]
    },
    {
     "name": "stderr",
     "output_type": "stream",
     "text": [
      "\r",
      "Epoch 6/25 - Validation:  85%|████████▍ | 116/137 [31:05<04:39, 13.32s/it]"
     ]
    },
    {
     "name": "stderr",
     "output_type": "stream",
     "text": [
      "\r",
      "Epoch 6/25 - Validation:  85%|████████▌ | 117/137 [31:37<06:17, 18.89s/it]"
     ]
    },
    {
     "name": "stderr",
     "output_type": "stream",
     "text": [
      "\r",
      "Epoch 6/25 - Validation:  86%|████████▌ | 118/137 [31:37<04:13, 13.32s/it]"
     ]
    },
    {
     "name": "stderr",
     "output_type": "stream",
     "text": [
      "\r",
      "Epoch 6/25 - Validation:  87%|████████▋ | 119/137 [32:10<05:43, 19.10s/it]"
     ]
    },
    {
     "name": "stderr",
     "output_type": "stream",
     "text": [
      "\r",
      "Epoch 6/25 - Validation:  88%|████████▊ | 120/137 [32:10<03:48, 13.46s/it]"
     ]
    },
    {
     "name": "stderr",
     "output_type": "stream",
     "text": [
      "\r",
      "Epoch 6/25 - Validation:  88%|████████▊ | 121/137 [32:42<05:02, 18.91s/it]"
     ]
    },
    {
     "name": "stderr",
     "output_type": "stream",
     "text": [
      "\r",
      "Epoch 6/25 - Validation:  89%|████████▉ | 122/137 [32:42<03:19, 13.33s/it]"
     ]
    },
    {
     "name": "stderr",
     "output_type": "stream",
     "text": [
      "\r",
      "Epoch 6/25 - Validation:  90%|████████▉ | 123/137 [33:13<04:21, 18.71s/it]"
     ]
    },
    {
     "name": "stderr",
     "output_type": "stream",
     "text": [
      "\r",
      "Epoch 6/25 - Validation:  91%|█████████ | 124/137 [33:14<02:51, 13.19s/it]"
     ]
    },
    {
     "name": "stderr",
     "output_type": "stream",
     "text": [
      "\r",
      "Epoch 6/25 - Validation:  91%|█████████ | 125/137 [33:46<03:47, 18.95s/it]"
     ]
    },
    {
     "name": "stderr",
     "output_type": "stream",
     "text": [
      "\r",
      "Epoch 6/25 - Validation:  92%|█████████▏| 126/137 [33:46<02:26, 13.36s/it]"
     ]
    },
    {
     "name": "stderr",
     "output_type": "stream",
     "text": [
      "\r",
      "Epoch 6/25 - Validation:  93%|█████████▎| 127/137 [34:16<03:03, 18.33s/it]"
     ]
    },
    {
     "name": "stderr",
     "output_type": "stream",
     "text": [
      "\r",
      "Epoch 6/25 - Validation:  93%|█████████▎| 128/137 [34:16<01:56, 12.92s/it]"
     ]
    },
    {
     "name": "stderr",
     "output_type": "stream",
     "text": [
      "\r",
      "Epoch 6/25 - Validation:  94%|█████████▍| 129/137 [34:49<02:30, 18.79s/it]"
     ]
    },
    {
     "name": "stderr",
     "output_type": "stream",
     "text": [
      "\r",
      "Epoch 6/25 - Validation:  95%|█████████▍| 130/137 [34:49<01:32, 13.25s/it]"
     ]
    },
    {
     "name": "stderr",
     "output_type": "stream",
     "text": [
      "\r",
      "Epoch 6/25 - Validation:  96%|█████████▌| 131/137 [35:21<01:52, 18.79s/it]"
     ]
    },
    {
     "name": "stderr",
     "output_type": "stream",
     "text": [
      "\r",
      "Epoch 6/25 - Validation:  96%|█████████▋| 132/137 [35:21<01:06, 13.25s/it]"
     ]
    },
    {
     "name": "stderr",
     "output_type": "stream",
     "text": [
      "\r",
      "Epoch 6/25 - Validation:  97%|█████████▋| 133/137 [35:53<01:14, 18.74s/it]"
     ]
    },
    {
     "name": "stderr",
     "output_type": "stream",
     "text": [
      "\r",
      "Epoch 6/25 - Validation:  98%|█████████▊| 134/137 [35:53<00:39, 13.21s/it]"
     ]
    },
    {
     "name": "stderr",
     "output_type": "stream",
     "text": [
      "\r",
      "Epoch 6/25 - Validation:  99%|█████████▊| 135/137 [36:24<00:37, 18.65s/it]"
     ]
    },
    {
     "name": "stderr",
     "output_type": "stream",
     "text": [
      "\r",
      "Epoch 6/25 - Validation:  99%|█████████▉| 136/137 [36:25<00:13, 13.15s/it]"
     ]
    },
    {
     "name": "stderr",
     "output_type": "stream",
     "text": [
      "\r",
      "Epoch 6/25 - Validation: 100%|██████████| 137/137 [36:36<00:00, 12.50s/it]"
     ]
    },
    {
     "name": "stderr",
     "output_type": "stream",
     "text": [
      "\r",
      "Epoch 6/25 - Validation: 100%|██████████| 137/137 [36:36<00:00, 16.03s/it]"
     ]
    },
    {
     "name": "stderr",
     "output_type": "stream",
     "text": [
      "\n"
     ]
    },
    {
     "name": "stdout",
     "output_type": "stream",
     "text": [
      "Epoch 6/25:\n",
      "Train Loss: 1.0757, Train Acc: 0.4656\n",
      "Val Loss: 1.0992, Val Acc: 0.4500\n"
     ]
    },
    {
     "name": "stderr",
     "output_type": "stream",
     "text": [
      "\r",
      "Epoch 7/25 - Training:   0%|          | 0/137 [00:00<?, ?it/s]"
     ]
    },
    {
     "name": "stderr",
     "output_type": "stream",
     "text": [
      "\r",
      "Epoch 7/25 - Training:   1%|          | 1/137 [00:32<1:13:49, 32.57s/it]"
     ]
    },
    {
     "name": "stderr",
     "output_type": "stream",
     "text": [
      "\r",
      "Epoch 7/25 - Training:   1%|▏         | 2/137 [00:33<31:40, 14.08s/it]  "
     ]
    },
    {
     "name": "stderr",
     "output_type": "stream",
     "text": [
      "\r",
      "Epoch 7/25 - Training:   2%|▏         | 3/137 [01:04<48:00, 21.49s/it]"
     ]
    },
    {
     "name": "stderr",
     "output_type": "stream",
     "text": [
      "\r",
      "Epoch 7/25 - Training:   3%|▎         | 4/137 [01:07<31:50, 14.36s/it]"
     ]
    },
    {
     "name": "stderr",
     "output_type": "stream",
     "text": [
      "\r",
      "Epoch 7/25 - Training:   4%|▎         | 5/137 [01:38<44:34, 20.26s/it]"
     ]
    },
    {
     "name": "stderr",
     "output_type": "stream",
     "text": [
      "\r",
      "Epoch 7/25 - Training:   4%|▍         | 6/137 [01:39<29:55, 13.71s/it]"
     ]
    },
    {
     "name": "stderr",
     "output_type": "stream",
     "text": [
      "\r",
      "Epoch 7/25 - Training:   5%|▌         | 7/137 [02:11<42:56, 19.82s/it]"
     ]
    },
    {
     "name": "stderr",
     "output_type": "stream",
     "text": [
      "\r",
      "Epoch 7/25 - Training:   6%|▌         | 8/137 [02:12<29:39, 13.80s/it]"
     ]
    },
    {
     "name": "stderr",
     "output_type": "stream",
     "text": [
      "\r",
      "Epoch 7/25 - Training:   7%|▋         | 9/137 [02:43<40:37, 19.04s/it]"
     ]
    },
    {
     "name": "stderr",
     "output_type": "stream",
     "text": [
      "\r",
      "Epoch 7/25 - Training:   7%|▋         | 10/137 [02:45<29:17, 13.83s/it]"
     ]
    },
    {
     "name": "stderr",
     "output_type": "stream",
     "text": [
      "\r",
      "Epoch 7/25 - Training:   8%|▊         | 11/137 [03:15<39:24, 18.77s/it]"
     ]
    },
    {
     "name": "stderr",
     "output_type": "stream",
     "text": [
      "\r",
      "Epoch 7/25 - Training:   9%|▉         | 12/137 [03:17<28:44, 13.79s/it]"
     ]
    },
    {
     "name": "stderr",
     "output_type": "stream",
     "text": [
      "\r",
      "Epoch 7/25 - Training:   9%|▉         | 13/137 [03:39<33:52, 16.39s/it]"
     ]
    },
    {
     "name": "stderr",
     "output_type": "stream",
     "text": [
      "\r",
      "Epoch 7/25 - Training:  10%|█         | 14/137 [03:46<27:14, 13.29s/it]"
     ]
    },
    {
     "name": "stderr",
     "output_type": "stream",
     "text": [
      "\r",
      "Epoch 7/25 - Training:  11%|█         | 15/137 [04:12<35:09, 17.29s/it]"
     ]
    },
    {
     "name": "stderr",
     "output_type": "stream",
     "text": [
      "\r",
      "Epoch 7/25 - Training:  12%|█▏        | 16/137 [04:17<27:31, 13.65s/it]"
     ]
    },
    {
     "name": "stderr",
     "output_type": "stream",
     "text": [
      "\r",
      "Epoch 7/25 - Training:  12%|█▏        | 17/137 [04:44<35:22, 17.69s/it]"
     ]
    },
    {
     "name": "stderr",
     "output_type": "stream",
     "text": [
      "\r",
      "Epoch 7/25 - Training:  13%|█▎        | 18/137 [04:45<25:04, 12.64s/it]"
     ]
    },
    {
     "name": "stderr",
     "output_type": "stream",
     "text": [
      "\r",
      "Epoch 7/25 - Training:  14%|█▍        | 19/137 [05:17<36:11, 18.41s/it]"
     ]
    },
    {
     "name": "stderr",
     "output_type": "stream",
     "text": [
      "\r",
      "Epoch 7/25 - Training:  15%|█▍        | 20/137 [05:18<25:38, 13.15s/it]"
     ]
    },
    {
     "name": "stderr",
     "output_type": "stream",
     "text": [
      "\r",
      "Epoch 7/25 - Training:  15%|█▌        | 21/137 [05:41<31:22, 16.23s/it]"
     ]
    },
    {
     "name": "stderr",
     "output_type": "stream",
     "text": [
      "\r",
      "Epoch 7/25 - Training:  16%|█▌        | 22/137 [05:42<22:16, 11.63s/it]"
     ]
    },
    {
     "name": "stderr",
     "output_type": "stream",
     "text": [
      "\r",
      "Epoch 7/25 - Training:  17%|█▋        | 23/137 [06:10<31:16, 16.46s/it]"
     ]
    },
    {
     "name": "stderr",
     "output_type": "stream",
     "text": [
      "\r",
      "Epoch 7/25 - Training:  18%|█▊        | 24/137 [06:11<22:12, 11.79s/it]"
     ]
    },
    {
     "name": "stderr",
     "output_type": "stream",
     "text": [
      "\r",
      "Epoch 7/25 - Training:  18%|█▊        | 25/137 [06:39<30:53, 16.55s/it]"
     ]
    },
    {
     "name": "stderr",
     "output_type": "stream",
     "text": [
      "\r",
      "Epoch 7/25 - Training:  19%|█▉        | 26/137 [06:40<21:55, 11.85s/it]"
     ]
    },
    {
     "name": "stderr",
     "output_type": "stream",
     "text": [
      "\r",
      "Epoch 7/25 - Training:  20%|█▉        | 27/137 [07:08<30:36, 16.69s/it]"
     ]
    },
    {
     "name": "stderr",
     "output_type": "stream",
     "text": [
      "\r",
      "Epoch 7/25 - Training:  20%|██        | 28/137 [07:08<21:43, 11.96s/it]"
     ]
    },
    {
     "name": "stderr",
     "output_type": "stream",
     "text": [
      "\r",
      "Epoch 7/25 - Training:  21%|██        | 29/137 [07:39<31:28, 17.48s/it]"
     ]
    },
    {
     "name": "stderr",
     "output_type": "stream",
     "text": [
      "\r",
      "Epoch 7/25 - Training:  22%|██▏       | 30/137 [07:40<22:18, 12.51s/it]"
     ]
    },
    {
     "name": "stderr",
     "output_type": "stream",
     "text": [
      "\r",
      "Epoch 7/25 - Training:  23%|██▎       | 31/137 [08:08<30:23, 17.20s/it]"
     ]
    },
    {
     "name": "stderr",
     "output_type": "stream",
     "text": [
      "\r",
      "Epoch 7/25 - Training:  23%|██▎       | 32/137 [08:09<21:33, 12.32s/it]"
     ]
    },
    {
     "name": "stderr",
     "output_type": "stream",
     "text": [
      "\r",
      "Epoch 7/25 - Training:  24%|██▍       | 33/137 [08:39<30:42, 17.72s/it]"
     ]
    },
    {
     "name": "stderr",
     "output_type": "stream",
     "text": [
      "\r",
      "Epoch 7/25 - Training:  25%|██▍       | 34/137 [08:40<21:45, 12.68s/it]"
     ]
    },
    {
     "name": "stderr",
     "output_type": "stream",
     "text": [
      "\r",
      "Epoch 7/25 - Training:  26%|██▌       | 35/137 [09:11<31:02, 18.26s/it]"
     ]
    },
    {
     "name": "stderr",
     "output_type": "stream",
     "text": [
      "\r",
      "Epoch 7/25 - Training:  26%|██▋       | 36/137 [09:12<21:58, 13.05s/it]"
     ]
    },
    {
     "name": "stderr",
     "output_type": "stream",
     "text": [
      "\r",
      "Epoch 7/25 - Training:  27%|██▋       | 37/137 [09:44<31:14, 18.74s/it]"
     ]
    },
    {
     "name": "stderr",
     "output_type": "stream",
     "text": [
      "\r",
      "Epoch 7/25 - Training:  28%|██▊       | 38/137 [09:45<22:05, 13.39s/it]"
     ]
    },
    {
     "name": "stderr",
     "output_type": "stream",
     "text": [
      "\r",
      "Epoch 7/25 - Training:  28%|██▊       | 39/137 [10:13<28:44, 17.60s/it]"
     ]
    },
    {
     "name": "stderr",
     "output_type": "stream",
     "text": [
      "\r",
      "Epoch 7/25 - Training:  29%|██▉       | 40/137 [10:13<20:21, 12.59s/it]"
     ]
    },
    {
     "name": "stderr",
     "output_type": "stream",
     "text": [
      "\r",
      "Epoch 7/25 - Training:  30%|██▉       | 41/137 [10:41<27:08, 16.96s/it]"
     ]
    },
    {
     "name": "stderr",
     "output_type": "stream",
     "text": [
      "\r",
      "Epoch 7/25 - Training:  31%|███       | 42/137 [10:41<19:13, 12.14s/it]"
     ]
    },
    {
     "name": "stderr",
     "output_type": "stream",
     "text": [
      "\r",
      "Epoch 7/25 - Training:  31%|███▏      | 43/137 [11:05<24:16, 15.49s/it]"
     ]
    },
    {
     "name": "stderr",
     "output_type": "stream",
     "text": [
      "\r",
      "Epoch 7/25 - Training:  32%|███▏      | 44/137 [11:06<17:13, 11.11s/it]"
     ]
    },
    {
     "name": "stderr",
     "output_type": "stream",
     "text": [
      "\r",
      "Epoch 7/25 - Training:  33%|███▎      | 45/137 [11:29<22:47, 14.86s/it]"
     ]
    },
    {
     "name": "stderr",
     "output_type": "stream",
     "text": [
      "\r",
      "Epoch 7/25 - Training:  34%|███▎      | 46/137 [11:30<16:11, 10.67s/it]"
     ]
    },
    {
     "name": "stderr",
     "output_type": "stream",
     "text": [
      "\r",
      "Epoch 7/25 - Training:  34%|███▍      | 47/137 [11:54<21:46, 14.52s/it]"
     ]
    },
    {
     "name": "stderr",
     "output_type": "stream",
     "text": [
      "\r",
      "Epoch 7/25 - Training:  35%|███▌      | 48/137 [11:55<15:28, 10.43s/it]"
     ]
    },
    {
     "name": "stderr",
     "output_type": "stream",
     "text": [
      "\r",
      "Epoch 7/25 - Training:  36%|███▌      | 49/137 [12:25<24:12, 16.51s/it]"
     ]
    },
    {
     "name": "stderr",
     "output_type": "stream",
     "text": [
      "\r",
      "Epoch 7/25 - Training:  36%|███▋      | 50/137 [12:26<17:08, 11.82s/it]"
     ]
    },
    {
     "name": "stderr",
     "output_type": "stream",
     "text": [
      "\r",
      "Epoch 7/25 - Training:  37%|███▋      | 51/137 [12:57<25:08, 17.54s/it]"
     ]
    },
    {
     "name": "stderr",
     "output_type": "stream",
     "text": [
      "\r",
      "Epoch 7/25 - Training:  38%|███▊      | 52/137 [12:58<17:46, 12.55s/it]"
     ]
    },
    {
     "name": "stderr",
     "output_type": "stream",
     "text": [
      "\r",
      "Epoch 7/25 - Training:  39%|███▊      | 53/137 [13:28<24:57, 17.83s/it]"
     ]
    },
    {
     "name": "stderr",
     "output_type": "stream",
     "text": [
      "\r",
      "Epoch 7/25 - Training:  39%|███▉      | 54/137 [13:29<17:38, 12.75s/it]"
     ]
    },
    {
     "name": "stderr",
     "output_type": "stream",
     "text": [
      "\r",
      "Epoch 7/25 - Training:  40%|████      | 55/137 [13:57<23:34, 17.25s/it]"
     ]
    },
    {
     "name": "stderr",
     "output_type": "stream",
     "text": [
      "\r",
      "Epoch 7/25 - Training:  41%|████      | 56/137 [13:58<16:39, 12.34s/it]"
     ]
    },
    {
     "name": "stderr",
     "output_type": "stream",
     "text": [
      "\r",
      "Epoch 7/25 - Training:  42%|████▏     | 57/137 [14:18<19:35, 14.70s/it]"
     ]
    },
    {
     "name": "stderr",
     "output_type": "stream",
     "text": [
      "\r",
      "Epoch 7/25 - Training:  42%|████▏     | 58/137 [14:19<13:54, 10.56s/it]"
     ]
    },
    {
     "name": "stderr",
     "output_type": "stream",
     "text": [
      "\r",
      "Epoch 7/25 - Training:  43%|████▎     | 59/137 [14:50<21:40, 16.67s/it]"
     ]
    },
    {
     "name": "stderr",
     "output_type": "stream",
     "text": [
      "\r",
      "Epoch 7/25 - Training:  44%|████▍     | 60/137 [14:51<15:19, 11.94s/it]"
     ]
    },
    {
     "name": "stderr",
     "output_type": "stream",
     "text": [
      "\r",
      "Epoch 7/25 - Training:  45%|████▍     | 61/137 [15:21<22:14, 17.56s/it]"
     ]
    },
    {
     "name": "stderr",
     "output_type": "stream",
     "text": [
      "\r",
      "Epoch 7/25 - Training:  45%|████▌     | 62/137 [15:22<15:42, 12.56s/it]"
     ]
    },
    {
     "name": "stderr",
     "output_type": "stream",
     "text": [
      "\r",
      "Epoch 7/25 - Training:  46%|████▌     | 63/137 [15:54<22:40, 18.39s/it]"
     ]
    },
    {
     "name": "stderr",
     "output_type": "stream",
     "text": [
      "\r",
      "Epoch 7/25 - Training:  47%|████▋     | 64/137 [15:55<15:59, 13.14s/it]"
     ]
    },
    {
     "name": "stderr",
     "output_type": "stream",
     "text": [
      "\r",
      "Epoch 7/25 - Training:  47%|████▋     | 65/137 [16:27<22:25, 18.69s/it]"
     ]
    },
    {
     "name": "stderr",
     "output_type": "stream",
     "text": [
      "\r",
      "Epoch 7/25 - Training:  48%|████▊     | 66/137 [16:28<15:47, 13.35s/it]"
     ]
    },
    {
     "name": "stderr",
     "output_type": "stream",
     "text": [
      "\r",
      "Epoch 7/25 - Training:  49%|████▉     | 67/137 [16:59<21:56, 18.80s/it]"
     ]
    },
    {
     "name": "stderr",
     "output_type": "stream",
     "text": [
      "\r",
      "Epoch 7/25 - Training:  50%|████▉     | 68/137 [17:00<15:27, 13.44s/it]"
     ]
    },
    {
     "name": "stderr",
     "output_type": "stream",
     "text": [
      "\r",
      "Epoch 7/25 - Training:  50%|█████     | 69/137 [17:32<21:29, 18.96s/it]"
     ]
    },
    {
     "name": "stderr",
     "output_type": "stream",
     "text": [
      "\r",
      "Epoch 7/25 - Training:  51%|█████     | 70/137 [17:33<15:07, 13.55s/it]"
     ]
    },
    {
     "name": "stderr",
     "output_type": "stream",
     "text": [
      "\r",
      "Epoch 7/25 - Training:  52%|█████▏    | 71/137 [17:57<18:20, 16.67s/it]"
     ]
    },
    {
     "name": "stderr",
     "output_type": "stream",
     "text": [
      "\r",
      "Epoch 7/25 - Training:  53%|█████▎    | 72/137 [17:58<12:56, 11.94s/it]"
     ]
    },
    {
     "name": "stderr",
     "output_type": "stream",
     "text": [
      "\r",
      "Epoch 7/25 - Training:  53%|█████▎    | 73/137 [18:20<15:59, 14.99s/it]"
     ]
    },
    {
     "name": "stderr",
     "output_type": "stream",
     "text": [
      "\r",
      "Epoch 7/25 - Training:  54%|█████▍    | 74/137 [18:21<11:17, 10.76s/it]"
     ]
    },
    {
     "name": "stderr",
     "output_type": "stream",
     "text": [
      "\r",
      "Epoch 7/25 - Training:  55%|█████▍    | 75/137 [18:47<16:02, 15.52s/it]"
     ]
    },
    {
     "name": "stderr",
     "output_type": "stream",
     "text": [
      "\r",
      "Epoch 7/25 - Training:  55%|█████▌    | 76/137 [18:48<11:19, 11.13s/it]"
     ]
    },
    {
     "name": "stderr",
     "output_type": "stream",
     "text": [
      "\r",
      "Epoch 7/25 - Training:  56%|█████▌    | 77/137 [19:16<16:10, 16.17s/it]"
     ]
    },
    {
     "name": "stderr",
     "output_type": "stream",
     "text": [
      "\r",
      "Epoch 7/25 - Training:  57%|█████▋    | 78/137 [19:17<11:23, 11.59s/it]"
     ]
    },
    {
     "name": "stderr",
     "output_type": "stream",
     "text": [
      "\r",
      "Epoch 7/25 - Training:  58%|█████▊    | 79/137 [19:48<16:44, 17.31s/it]"
     ]
    },
    {
     "name": "stderr",
     "output_type": "stream",
     "text": [
      "\r",
      "Epoch 7/25 - Training:  58%|█████▊    | 80/137 [19:49<11:46, 12.39s/it]"
     ]
    },
    {
     "name": "stderr",
     "output_type": "stream",
     "text": [
      "\r",
      "Epoch 7/25 - Training:  59%|█████▉    | 81/137 [20:16<15:49, 16.96s/it]"
     ]
    },
    {
     "name": "stderr",
     "output_type": "stream",
     "text": [
      "\r",
      "Epoch 7/25 - Training:  60%|█████▉    | 82/137 [20:17<11:07, 12.14s/it]"
     ]
    },
    {
     "name": "stderr",
     "output_type": "stream",
     "text": [
      "\r",
      "Epoch 7/25 - Training:  61%|██████    | 83/137 [20:44<14:52, 16.53s/it]"
     ]
    },
    {
     "name": "stderr",
     "output_type": "stream",
     "text": [
      "\r",
      "Epoch 7/25 - Training:  61%|██████▏   | 84/137 [20:45<10:27, 11.84s/it]"
     ]
    },
    {
     "name": "stderr",
     "output_type": "stream",
     "text": [
      "\r",
      "Epoch 7/25 - Training:  62%|██████▏   | 85/137 [21:13<14:25, 16.64s/it]"
     ]
    },
    {
     "name": "stderr",
     "output_type": "stream",
     "text": [
      "\r",
      "Epoch 7/25 - Training:  63%|██████▎   | 86/137 [21:13<10:07, 11.92s/it]"
     ]
    },
    {
     "name": "stderr",
     "output_type": "stream",
     "text": [
      "\r",
      "Epoch 7/25 - Training:  64%|██████▎   | 87/137 [21:36<12:34, 15.09s/it]"
     ]
    },
    {
     "name": "stderr",
     "output_type": "stream",
     "text": [
      "\r",
      "Epoch 7/25 - Training:  64%|██████▍   | 88/137 [21:37<08:51, 10.84s/it]"
     ]
    },
    {
     "name": "stderr",
     "output_type": "stream",
     "text": [
      "\r",
      "Epoch 7/25 - Training:  65%|██████▍   | 89/137 [22:08<13:25, 16.78s/it]"
     ]
    },
    {
     "name": "stderr",
     "output_type": "stream",
     "text": [
      "\r",
      "Epoch 7/25 - Training:  66%|██████▌   | 90/137 [22:08<09:24, 12.01s/it]"
     ]
    },
    {
     "name": "stderr",
     "output_type": "stream",
     "text": [
      "\r",
      "Epoch 7/25 - Training:  66%|██████▋   | 91/137 [22:40<13:43, 17.91s/it]"
     ]
    },
    {
     "name": "stderr",
     "output_type": "stream",
     "text": [
      "\r",
      "Epoch 7/25 - Training:  67%|██████▋   | 92/137 [22:41<09:36, 12.81s/it]"
     ]
    },
    {
     "name": "stderr",
     "output_type": "stream",
     "text": [
      "\r",
      "Epoch 7/25 - Training:  68%|██████▊   | 93/137 [23:11<13:14, 18.07s/it]"
     ]
    },
    {
     "name": "stderr",
     "output_type": "stream",
     "text": [
      "\r",
      "Epoch 7/25 - Training:  69%|██████▊   | 94/137 [23:12<09:15, 12.92s/it]"
     ]
    },
    {
     "name": "stderr",
     "output_type": "stream",
     "text": [
      "\r",
      "Epoch 7/25 - Training:  69%|██████▉   | 95/137 [23:36<11:21, 16.23s/it]"
     ]
    },
    {
     "name": "stderr",
     "output_type": "stream",
     "text": [
      "\r",
      "Epoch 7/25 - Training:  70%|███████   | 96/137 [23:37<07:56, 11.63s/it]"
     ]
    },
    {
     "name": "stderr",
     "output_type": "stream",
     "text": [
      "\r",
      "Epoch 7/25 - Training:  71%|███████   | 97/137 [24:04<10:52, 16.31s/it]"
     ]
    },
    {
     "name": "stderr",
     "output_type": "stream",
     "text": [
      "\r",
      "Epoch 7/25 - Training:  72%|███████▏  | 98/137 [24:09<08:19, 12.81s/it]"
     ]
    },
    {
     "name": "stderr",
     "output_type": "stream",
     "text": [
      "\r",
      "Epoch 7/25 - Training:  72%|███████▏  | 99/137 [24:36<10:46, 17.01s/it]"
     ]
    },
    {
     "name": "stderr",
     "output_type": "stream",
     "text": [
      "\r",
      "Epoch 7/25 - Training:  73%|███████▎  | 100/137 [24:40<08:05, 13.12s/it]"
     ]
    },
    {
     "name": "stderr",
     "output_type": "stream",
     "text": [
      "\r",
      "Epoch 7/25 - Training:  74%|███████▎  | 101/137 [25:04<09:50, 16.40s/it]"
     ]
    },
    {
     "name": "stderr",
     "output_type": "stream",
     "text": [
      "\r",
      "Epoch 7/25 - Training:  74%|███████▍  | 102/137 [25:08<07:24, 12.71s/it]"
     ]
    },
    {
     "name": "stderr",
     "output_type": "stream",
     "text": [
      "\r",
      "Epoch 7/25 - Training:  75%|███████▌  | 103/137 [25:36<09:45, 17.23s/it]"
     ]
    },
    {
     "name": "stderr",
     "output_type": "stream",
     "text": [
      "\r",
      "Epoch 7/25 - Training:  76%|███████▌  | 104/137 [25:41<07:25, 13.50s/it]"
     ]
    },
    {
     "name": "stderr",
     "output_type": "stream",
     "text": [
      "\r",
      "Epoch 7/25 - Training:  77%|███████▋  | 105/137 [26:08<09:30, 17.83s/it]"
     ]
    },
    {
     "name": "stderr",
     "output_type": "stream",
     "text": [
      "\r",
      "Epoch 7/25 - Training:  77%|███████▋  | 106/137 [26:09<06:35, 12.75s/it]"
     ]
    },
    {
     "name": "stderr",
     "output_type": "stream",
     "text": [
      "\r",
      "Epoch 7/25 - Training:  78%|███████▊  | 107/137 [26:32<07:53, 15.80s/it]"
     ]
    },
    {
     "name": "stderr",
     "output_type": "stream",
     "text": [
      "\r",
      "Epoch 7/25 - Training:  79%|███████▉  | 108/137 [26:37<06:03, 12.53s/it]"
     ]
    },
    {
     "name": "stderr",
     "output_type": "stream",
     "text": [
      "\r",
      "Epoch 7/25 - Training:  80%|███████▉  | 109/137 [26:59<07:08, 15.31s/it]"
     ]
    },
    {
     "name": "stderr",
     "output_type": "stream",
     "text": [
      "\r",
      "Epoch 7/25 - Training:  80%|████████  | 110/137 [27:09<06:11, 13.74s/it]"
     ]
    },
    {
     "name": "stderr",
     "output_type": "stream",
     "text": [
      "\r",
      "Epoch 7/25 - Training:  81%|████████  | 111/137 [27:28<06:37, 15.28s/it]"
     ]
    },
    {
     "name": "stderr",
     "output_type": "stream",
     "text": [
      "\r",
      "Epoch 7/25 - Training:  82%|████████▏ | 112/137 [27:37<05:37, 13.51s/it]"
     ]
    },
    {
     "name": "stderr",
     "output_type": "stream",
     "text": [
      "\r",
      "Epoch 7/25 - Training:  82%|████████▏ | 113/137 [27:48<05:06, 12.76s/it]"
     ]
    },
    {
     "name": "stderr",
     "output_type": "stream",
     "text": [
      "\r",
      "Epoch 7/25 - Training:  83%|████████▎ | 114/137 [27:57<04:26, 11.58s/it]"
     ]
    },
    {
     "name": "stderr",
     "output_type": "stream",
     "text": [
      "\r",
      "Epoch 7/25 - Training:  84%|████████▍ | 115/137 [28:21<05:34, 15.18s/it]"
     ]
    },
    {
     "name": "stderr",
     "output_type": "stream",
     "text": [
      "\r",
      "Epoch 7/25 - Training:  85%|████████▍ | 116/137 [28:29<04:33, 13.04s/it]"
     ]
    },
    {
     "name": "stderr",
     "output_type": "stream",
     "text": [
      "\r",
      "Epoch 7/25 - Training:  85%|████████▌ | 117/137 [28:52<05:24, 16.20s/it]"
     ]
    },
    {
     "name": "stderr",
     "output_type": "stream",
     "text": [
      "\r",
      "Epoch 7/25 - Training:  86%|████████▌ | 118/137 [28:53<03:40, 11.61s/it]"
     ]
    },
    {
     "name": "stderr",
     "output_type": "stream",
     "text": [
      "\r",
      "Epoch 7/25 - Training:  87%|████████▋ | 119/137 [29:24<05:14, 17.49s/it]"
     ]
    },
    {
     "name": "stderr",
     "output_type": "stream",
     "text": [
      "\r",
      "Epoch 7/25 - Training:  88%|████████▊ | 120/137 [29:25<03:32, 12.51s/it]"
     ]
    },
    {
     "name": "stderr",
     "output_type": "stream",
     "text": [
      "\r",
      "Epoch 7/25 - Training:  88%|████████▊ | 121/137 [29:57<04:50, 18.17s/it]"
     ]
    },
    {
     "name": "stderr",
     "output_type": "stream",
     "text": [
      "\r",
      "Epoch 7/25 - Training:  89%|████████▉ | 122/137 [29:58<03:14, 12.99s/it]"
     ]
    },
    {
     "name": "stderr",
     "output_type": "stream",
     "text": [
      "\r",
      "Epoch 7/25 - Training:  90%|████████▉ | 123/137 [30:28<04:16, 18.29s/it]"
     ]
    },
    {
     "name": "stderr",
     "output_type": "stream",
     "text": [
      "\r",
      "Epoch 7/25 - Training:  91%|█████████ | 124/137 [30:29<02:50, 13.08s/it]"
     ]
    },
    {
     "name": "stderr",
     "output_type": "stream",
     "text": [
      "\r",
      "Epoch 7/25 - Training:  91%|█████████ | 125/137 [31:01<03:43, 18.65s/it]"
     ]
    },
    {
     "name": "stderr",
     "output_type": "stream",
     "text": [
      "\r",
      "Epoch 7/25 - Training:  92%|█████████▏| 126/137 [31:02<02:26, 13.33s/it]"
     ]
    },
    {
     "name": "stderr",
     "output_type": "stream",
     "text": [
      "\r",
      "Epoch 7/25 - Training:  93%|█████████▎| 127/137 [31:33<03:07, 18.73s/it]"
     ]
    },
    {
     "name": "stderr",
     "output_type": "stream",
     "text": [
      "\r",
      "Epoch 7/25 - Training:  93%|█████████▎| 128/137 [31:34<02:00, 13.38s/it]"
     ]
    },
    {
     "name": "stderr",
     "output_type": "stream",
     "text": [
      "\r",
      "Epoch 7/25 - Training:  94%|█████████▍| 129/137 [32:05<02:30, 18.75s/it]"
     ]
    },
    {
     "name": "stderr",
     "output_type": "stream",
     "text": [
      "\r",
      "Epoch 7/25 - Training:  95%|█████████▍| 130/137 [32:06<01:33, 13.40s/it]"
     ]
    },
    {
     "name": "stderr",
     "output_type": "stream",
     "text": [
      "\r",
      "Epoch 7/25 - Training:  96%|█████████▌| 131/137 [32:38<01:52, 18.83s/it]"
     ]
    },
    {
     "name": "stderr",
     "output_type": "stream",
     "text": [
      "\r",
      "Epoch 7/25 - Training:  96%|█████████▋| 132/137 [32:39<01:07, 13.45s/it]"
     ]
    },
    {
     "name": "stderr",
     "output_type": "stream",
     "text": [
      "\r",
      "Epoch 7/25 - Training:  97%|█████████▋| 133/137 [33:08<01:13, 18.30s/it]"
     ]
    },
    {
     "name": "stderr",
     "output_type": "stream",
     "text": [
      "\r",
      "Epoch 7/25 - Training:  98%|█████████▊| 134/137 [33:09<00:39, 13.08s/it]"
     ]
    },
    {
     "name": "stderr",
     "output_type": "stream",
     "text": [
      "\r",
      "Epoch 7/25 - Training:  99%|█████████▊| 135/137 [33:39<00:36, 18.09s/it]"
     ]
    },
    {
     "name": "stderr",
     "output_type": "stream",
     "text": [
      "\r",
      "Epoch 7/25 - Training:  99%|█████████▉| 136/137 [33:40<00:12, 12.93s/it]"
     ]
    },
    {
     "name": "stderr",
     "output_type": "stream",
     "text": [
      "\r",
      "Epoch 7/25 - Training: 100%|██████████| 137/137 [33:46<00:00, 10.97s/it]"
     ]
    },
    {
     "name": "stderr",
     "output_type": "stream",
     "text": [
      "\r",
      "Epoch 7/25 - Training: 100%|██████████| 137/137 [33:46<00:00, 14.79s/it]"
     ]
    },
    {
     "name": "stderr",
     "output_type": "stream",
     "text": [
      "\n"
     ]
    },
    {
     "name": "stderr",
     "output_type": "stream",
     "text": [
      "\r",
      "Epoch 7/25 - Validation:   0%|          | 0/137 [00:00<?, ?it/s]"
     ]
    },
    {
     "name": "stderr",
     "output_type": "stream",
     "text": [
      "\r",
      "Epoch 7/25 - Validation:   1%|          | 1/137 [00:32<1:13:54, 32.61s/it]"
     ]
    },
    {
     "name": "stderr",
     "output_type": "stream",
     "text": [
      "\r",
      "Epoch 7/25 - Validation:   1%|▏         | 2/137 [00:32<30:37, 13.61s/it]  "
     ]
    },
    {
     "name": "stderr",
     "output_type": "stream",
     "text": [
      "\r",
      "Epoch 7/25 - Validation:   2%|▏         | 3/137 [01:04<48:35, 21.75s/it]"
     ]
    },
    {
     "name": "stderr",
     "output_type": "stream",
     "text": [
      "\r",
      "Epoch 7/25 - Validation:   3%|▎         | 4/137 [01:04<29:27, 13.29s/it]"
     ]
    },
    {
     "name": "stderr",
     "output_type": "stream",
     "text": [
      "\r",
      "Epoch 7/25 - Validation:   4%|▎         | 5/137 [01:36<43:47, 19.90s/it]"
     ]
    },
    {
     "name": "stderr",
     "output_type": "stream",
     "text": [
      "\r",
      "Epoch 7/25 - Validation:   4%|▍         | 6/137 [01:36<28:54, 13.24s/it]"
     ]
    },
    {
     "name": "stderr",
     "output_type": "stream",
     "text": [
      "\r",
      "Epoch 7/25 - Validation:   5%|▌         | 7/137 [02:07<41:20, 19.08s/it]"
     ]
    },
    {
     "name": "stderr",
     "output_type": "stream",
     "text": [
      "\r",
      "Epoch 7/25 - Validation:   6%|▌         | 8/137 [02:08<28:16, 13.15s/it]"
     ]
    },
    {
     "name": "stderr",
     "output_type": "stream",
     "text": [
      "\r",
      "Epoch 7/25 - Validation:   7%|▋         | 9/137 [02:39<40:13, 18.86s/it]"
     ]
    },
    {
     "name": "stderr",
     "output_type": "stream",
     "text": [
      "\r",
      "Epoch 7/25 - Validation:   7%|▋         | 10/137 [02:40<28:00, 13.23s/it]"
     ]
    },
    {
     "name": "stderr",
     "output_type": "stream",
     "text": [
      "\r",
      "Epoch 7/25 - Validation:   8%|▊         | 11/137 [03:11<39:38, 18.87s/it]"
     ]
    },
    {
     "name": "stderr",
     "output_type": "stream",
     "text": [
      "\r",
      "Epoch 7/25 - Validation:   9%|▉         | 12/137 [03:12<27:33, 13.23s/it]"
     ]
    },
    {
     "name": "stderr",
     "output_type": "stream",
     "text": [
      "\r",
      "Epoch 7/25 - Validation:   9%|▉         | 13/137 [03:44<39:32, 19.13s/it]"
     ]
    },
    {
     "name": "stderr",
     "output_type": "stream",
     "text": [
      "\r",
      "Epoch 7/25 - Validation:  10%|█         | 14/137 [03:45<27:34, 13.45s/it]"
     ]
    },
    {
     "name": "stderr",
     "output_type": "stream",
     "text": [
      "\r",
      "Epoch 7/25 - Validation:  11%|█         | 15/137 [04:16<38:28, 18.92s/it]"
     ]
    },
    {
     "name": "stderr",
     "output_type": "stream",
     "text": [
      "\r",
      "Epoch 7/25 - Validation:  12%|█▏        | 16/137 [04:17<26:51, 13.32s/it]"
     ]
    },
    {
     "name": "stderr",
     "output_type": "stream",
     "text": [
      "\r",
      "Epoch 7/25 - Validation:  12%|█▏        | 17/137 [04:48<37:30, 18.76s/it]"
     ]
    },
    {
     "name": "stderr",
     "output_type": "stream",
     "text": [
      "\r",
      "Epoch 7/25 - Validation:  13%|█▎        | 18/137 [04:48<26:12, 13.21s/it]"
     ]
    },
    {
     "name": "stderr",
     "output_type": "stream",
     "text": [
      "\r",
      "Epoch 7/25 - Validation:  14%|█▍        | 19/137 [05:20<37:01, 18.82s/it]"
     ]
    },
    {
     "name": "stderr",
     "output_type": "stream",
     "text": [
      "\r",
      "Epoch 7/25 - Validation:  15%|█▍        | 20/137 [05:21<25:51, 13.26s/it]"
     ]
    },
    {
     "name": "stderr",
     "output_type": "stream",
     "text": [
      "\r",
      "Epoch 7/25 - Validation:  15%|█▌        | 21/137 [05:53<36:47, 19.03s/it]"
     ]
    },
    {
     "name": "stderr",
     "output_type": "stream",
     "text": [
      "\r",
      "Epoch 7/25 - Validation:  16%|█▌        | 22/137 [05:53<25:42, 13.41s/it]"
     ]
    },
    {
     "name": "stderr",
     "output_type": "stream",
     "text": [
      "\r",
      "Epoch 7/25 - Validation:  17%|█▋        | 23/137 [06:25<36:02, 18.97s/it]"
     ]
    },
    {
     "name": "stderr",
     "output_type": "stream",
     "text": [
      "\r",
      "Epoch 7/25 - Validation:  18%|█▊        | 24/137 [06:26<25:11, 13.37s/it]"
     ]
    },
    {
     "name": "stderr",
     "output_type": "stream",
     "text": [
      "\r",
      "Epoch 7/25 - Validation:  18%|█▊        | 25/137 [06:58<35:41, 19.12s/it]"
     ]
    },
    {
     "name": "stderr",
     "output_type": "stream",
     "text": [
      "\r",
      "Epoch 7/25 - Validation:  19%|█▉        | 26/137 [06:58<24:56, 13.48s/it]"
     ]
    },
    {
     "name": "stderr",
     "output_type": "stream",
     "text": [
      "\r",
      "Epoch 7/25 - Validation:  20%|█▉        | 27/137 [07:29<34:07, 18.61s/it]"
     ]
    },
    {
     "name": "stderr",
     "output_type": "stream",
     "text": [
      "\r",
      "Epoch 7/25 - Validation:  20%|██        | 28/137 [07:29<23:49, 13.12s/it]"
     ]
    },
    {
     "name": "stderr",
     "output_type": "stream",
     "text": [
      "\r",
      "Epoch 7/25 - Validation:  21%|██        | 29/137 [08:01<33:34, 18.65s/it]"
     ]
    },
    {
     "name": "stderr",
     "output_type": "stream",
     "text": [
      "\r",
      "Epoch 7/25 - Validation:  22%|██▏       | 30/137 [08:01<23:27, 13.15s/it]"
     ]
    },
    {
     "name": "stderr",
     "output_type": "stream",
     "text": [
      "\r",
      "Epoch 7/25 - Validation:  23%|██▎       | 31/137 [08:33<33:14, 18.81s/it]"
     ]
    },
    {
     "name": "stderr",
     "output_type": "stream",
     "text": [
      "\r",
      "Epoch 7/25 - Validation:  23%|██▎       | 32/137 [08:34<23:12, 13.26s/it]"
     ]
    },
    {
     "name": "stderr",
     "output_type": "stream",
     "text": [
      "\r",
      "Epoch 7/25 - Validation:  24%|██▍       | 33/137 [09:06<33:00, 19.04s/it]"
     ]
    },
    {
     "name": "stderr",
     "output_type": "stream",
     "text": [
      "\r",
      "Epoch 7/25 - Validation:  25%|██▍       | 34/137 [09:06<23:02, 13.42s/it]"
     ]
    },
    {
     "name": "stderr",
     "output_type": "stream",
     "text": [
      "\r",
      "Epoch 7/25 - Validation:  26%|██▌       | 35/137 [09:38<32:06, 18.89s/it]"
     ]
    },
    {
     "name": "stderr",
     "output_type": "stream",
     "text": [
      "\r",
      "Epoch 7/25 - Validation:  26%|██▋       | 36/137 [09:38<22:24, 13.31s/it]"
     ]
    },
    {
     "name": "stderr",
     "output_type": "stream",
     "text": [
      "\r",
      "Epoch 7/25 - Validation:  27%|██▋       | 37/137 [10:10<31:32, 18.92s/it]"
     ]
    },
    {
     "name": "stderr",
     "output_type": "stream",
     "text": [
      "\r",
      "Epoch 7/25 - Validation:  28%|██▊       | 38/137 [10:11<22:00, 13.34s/it]"
     ]
    },
    {
     "name": "stderr",
     "output_type": "stream",
     "text": [
      "\r",
      "Epoch 7/25 - Validation:  28%|██▊       | 39/137 [10:42<30:47, 18.85s/it]"
     ]
    },
    {
     "name": "stderr",
     "output_type": "stream",
     "text": [
      "\r",
      "Epoch 7/25 - Validation:  29%|██▉       | 40/137 [10:43<21:29, 13.29s/it]"
     ]
    },
    {
     "name": "stderr",
     "output_type": "stream",
     "text": [
      "\r",
      "Epoch 7/25 - Validation:  30%|██▉       | 41/137 [11:15<30:25, 19.02s/it]"
     ]
    },
    {
     "name": "stderr",
     "output_type": "stream",
     "text": [
      "\r",
      "Epoch 7/25 - Validation:  31%|███       | 42/137 [11:15<21:13, 13.41s/it]"
     ]
    },
    {
     "name": "stderr",
     "output_type": "stream",
     "text": [
      "\r",
      "Epoch 7/25 - Validation:  31%|███▏      | 43/137 [11:47<29:20, 18.73s/it]"
     ]
    },
    {
     "name": "stderr",
     "output_type": "stream",
     "text": [
      "\r",
      "Epoch 7/25 - Validation:  32%|███▏      | 44/137 [11:47<20:27, 13.20s/it]"
     ]
    },
    {
     "name": "stderr",
     "output_type": "stream",
     "text": [
      "\r",
      "Epoch 7/25 - Validation:  33%|███▎      | 45/137 [12:18<28:33, 18.63s/it]"
     ]
    },
    {
     "name": "stderr",
     "output_type": "stream",
     "text": [
      "\r",
      "Epoch 7/25 - Validation:  34%|███▎      | 46/137 [12:18<19:54, 13.13s/it]"
     ]
    },
    {
     "name": "stderr",
     "output_type": "stream",
     "text": [
      "\r",
      "Epoch 7/25 - Validation:  34%|███▍      | 47/137 [12:50<28:08, 18.76s/it]"
     ]
    },
    {
     "name": "stderr",
     "output_type": "stream",
     "text": [
      "\r",
      "Epoch 7/25 - Validation:  35%|███▌      | 48/137 [12:51<19:37, 13.22s/it]"
     ]
    },
    {
     "name": "stderr",
     "output_type": "stream",
     "text": [
      "\r",
      "Epoch 7/25 - Validation:  36%|███▌      | 49/137 [13:23<27:49, 18.97s/it]"
     ]
    },
    {
     "name": "stderr",
     "output_type": "stream",
     "text": [
      "\r",
      "Epoch 7/25 - Validation:  36%|███▋      | 50/137 [13:23<19:23, 13.37s/it]"
     ]
    },
    {
     "name": "stderr",
     "output_type": "stream",
     "text": [
      "\r",
      "Epoch 7/25 - Validation:  37%|███▋      | 51/137 [13:55<27:06, 18.92s/it]"
     ]
    },
    {
     "name": "stderr",
     "output_type": "stream",
     "text": [
      "\r",
      "Epoch 7/25 - Validation:  38%|███▊      | 52/137 [13:55<18:53, 13.33s/it]"
     ]
    },
    {
     "name": "stderr",
     "output_type": "stream",
     "text": [
      "\r",
      "Epoch 7/25 - Validation:  39%|███▊      | 53/137 [14:27<26:24, 18.87s/it]"
     ]
    },
    {
     "name": "stderr",
     "output_type": "stream",
     "text": [
      "\r",
      "Epoch 7/25 - Validation:  39%|███▉      | 54/137 [14:28<18:23, 13.30s/it]"
     ]
    },
    {
     "name": "stderr",
     "output_type": "stream",
     "text": [
      "\r",
      "Epoch 7/25 - Validation:  40%|████      | 55/137 [15:00<25:49, 18.90s/it]"
     ]
    },
    {
     "name": "stderr",
     "output_type": "stream",
     "text": [
      "\r",
      "Epoch 7/25 - Validation:  41%|████      | 56/137 [15:00<17:58, 13.32s/it]"
     ]
    },
    {
     "name": "stderr",
     "output_type": "stream",
     "text": [
      "\r",
      "Epoch 7/25 - Validation:  42%|████▏     | 57/137 [15:32<25:17, 18.97s/it]"
     ]
    },
    {
     "name": "stderr",
     "output_type": "stream",
     "text": [
      "\r",
      "Epoch 7/25 - Validation:  42%|████▏     | 58/137 [15:32<17:36, 13.37s/it]"
     ]
    },
    {
     "name": "stderr",
     "output_type": "stream",
     "text": [
      "\r",
      "Epoch 7/25 - Validation:  43%|████▎     | 59/137 [16:05<24:48, 19.08s/it]"
     ]
    },
    {
     "name": "stderr",
     "output_type": "stream",
     "text": [
      "\r",
      "Epoch 7/25 - Validation:  44%|████▍     | 60/137 [16:05<17:15, 13.45s/it]"
     ]
    },
    {
     "name": "stderr",
     "output_type": "stream",
     "text": [
      "\r",
      "Epoch 7/25 - Validation:  45%|████▍     | 61/137 [16:37<23:59, 18.94s/it]"
     ]
    },
    {
     "name": "stderr",
     "output_type": "stream",
     "text": [
      "\r",
      "Epoch 7/25 - Validation:  45%|████▌     | 62/137 [16:37<16:41, 13.35s/it]"
     ]
    },
    {
     "name": "stderr",
     "output_type": "stream",
     "text": [
      "\r",
      "Epoch 7/25 - Validation:  46%|████▌     | 63/137 [17:09<23:11, 18.80s/it]"
     ]
    },
    {
     "name": "stderr",
     "output_type": "stream",
     "text": [
      "\r",
      "Epoch 7/25 - Validation:  47%|████▋     | 64/137 [17:09<16:07, 13.25s/it]"
     ]
    },
    {
     "name": "stderr",
     "output_type": "stream",
     "text": [
      "\r",
      "Epoch 7/25 - Validation:  47%|████▋     | 65/137 [17:42<23:02, 19.20s/it]"
     ]
    },
    {
     "name": "stderr",
     "output_type": "stream",
     "text": [
      "\r",
      "Epoch 7/25 - Validation:  48%|████▊     | 66/137 [17:42<16:00, 13.53s/it]"
     ]
    },
    {
     "name": "stderr",
     "output_type": "stream",
     "text": [
      "\r",
      "Epoch 7/25 - Validation:  49%|████▉     | 67/137 [18:15<22:20, 19.15s/it]"
     ]
    },
    {
     "name": "stderr",
     "output_type": "stream",
     "text": [
      "\r",
      "Epoch 7/25 - Validation:  50%|████▉     | 68/137 [18:15<15:31, 13.50s/it]"
     ]
    },
    {
     "name": "stderr",
     "output_type": "stream",
     "text": [
      "\r",
      "Epoch 7/25 - Validation:  50%|█████     | 69/137 [18:46<21:24, 18.88s/it]"
     ]
    },
    {
     "name": "stderr",
     "output_type": "stream",
     "text": [
      "\r",
      "Epoch 7/25 - Validation:  51%|█████     | 70/137 [18:47<14:51, 13.31s/it]"
     ]
    },
    {
     "name": "stderr",
     "output_type": "stream",
     "text": [
      "\r",
      "Epoch 7/25 - Validation:  52%|█████▏    | 71/137 [19:17<20:20, 18.49s/it]"
     ]
    },
    {
     "name": "stderr",
     "output_type": "stream",
     "text": [
      "\r",
      "Epoch 7/25 - Validation:  53%|█████▎    | 72/137 [19:17<14:07, 13.04s/it]"
     ]
    },
    {
     "name": "stderr",
     "output_type": "stream",
     "text": [
      "\r",
      "Epoch 7/25 - Validation:  53%|█████▎    | 73/137 [19:49<19:54, 18.67s/it]"
     ]
    },
    {
     "name": "stderr",
     "output_type": "stream",
     "text": [
      "\r",
      "Epoch 7/25 - Validation:  54%|█████▍    | 74/137 [19:50<13:49, 13.16s/it]"
     ]
    },
    {
     "name": "stderr",
     "output_type": "stream",
     "text": [
      "\r",
      "Epoch 7/25 - Validation:  55%|█████▍    | 75/137 [20:21<19:10, 18.56s/it]"
     ]
    },
    {
     "name": "stderr",
     "output_type": "stream",
     "text": [
      "\r",
      "Epoch 7/25 - Validation:  55%|█████▌    | 76/137 [20:21<13:18, 13.09s/it]"
     ]
    },
    {
     "name": "stderr",
     "output_type": "stream",
     "text": [
      "\r",
      "Epoch 7/25 - Validation:  56%|█████▌    | 77/137 [20:53<18:39, 18.66s/it]"
     ]
    },
    {
     "name": "stderr",
     "output_type": "stream",
     "text": [
      "\r",
      "Epoch 7/25 - Validation:  57%|█████▋    | 78/137 [20:53<12:56, 13.16s/it]"
     ]
    },
    {
     "name": "stderr",
     "output_type": "stream",
     "text": [
      "\r",
      "Epoch 7/25 - Validation:  58%|█████▊    | 79/137 [21:25<18:10, 18.81s/it]"
     ]
    },
    {
     "name": "stderr",
     "output_type": "stream",
     "text": [
      "\r",
      "Epoch 7/25 - Validation:  58%|█████▊    | 80/137 [21:25<12:35, 13.26s/it]"
     ]
    },
    {
     "name": "stderr",
     "output_type": "stream",
     "text": [
      "\r",
      "Epoch 7/25 - Validation:  59%|█████▉    | 81/137 [21:58<17:40, 18.93s/it]"
     ]
    },
    {
     "name": "stderr",
     "output_type": "stream",
     "text": [
      "\r",
      "Epoch 7/25 - Validation:  60%|█████▉    | 82/137 [21:58<12:14, 13.35s/it]"
     ]
    },
    {
     "name": "stderr",
     "output_type": "stream",
     "text": [
      "\r",
      "Epoch 7/25 - Validation:  61%|██████    | 83/137 [22:30<17:03, 18.95s/it]"
     ]
    },
    {
     "name": "stderr",
     "output_type": "stream",
     "text": [
      "\r",
      "Epoch 7/25 - Validation:  61%|██████▏   | 84/137 [22:30<11:47, 13.36s/it]"
     ]
    },
    {
     "name": "stderr",
     "output_type": "stream",
     "text": [
      "\r",
      "Epoch 7/25 - Validation:  62%|██████▏   | 85/137 [23:02<16:27, 18.98s/it]"
     ]
    },
    {
     "name": "stderr",
     "output_type": "stream",
     "text": [
      "\r",
      "Epoch 7/25 - Validation:  63%|██████▎   | 86/137 [23:03<11:22, 13.38s/it]"
     ]
    },
    {
     "name": "stderr",
     "output_type": "stream",
     "text": [
      "\r",
      "Epoch 7/25 - Validation:  64%|██████▎   | 87/137 [23:34<15:38, 18.77s/it]"
     ]
    },
    {
     "name": "stderr",
     "output_type": "stream",
     "text": [
      "\r",
      "Epoch 7/25 - Validation:  64%|██████▍   | 88/137 [23:34<10:48, 13.23s/it]"
     ]
    },
    {
     "name": "stderr",
     "output_type": "stream",
     "text": [
      "\r",
      "Epoch 7/25 - Validation:  65%|██████▍   | 89/137 [24:06<14:56, 18.68s/it]"
     ]
    },
    {
     "name": "stderr",
     "output_type": "stream",
     "text": [
      "\r",
      "Epoch 7/25 - Validation:  66%|██████▌   | 90/137 [24:06<10:19, 13.17s/it]"
     ]
    },
    {
     "name": "stderr",
     "output_type": "stream",
     "text": [
      "\r",
      "Epoch 7/25 - Validation:  66%|██████▋   | 91/137 [24:38<14:30, 18.93s/it]"
     ]
    },
    {
     "name": "stderr",
     "output_type": "stream",
     "text": [
      "\r",
      "Epoch 7/25 - Validation:  67%|██████▋   | 92/137 [24:39<10:00, 13.34s/it]"
     ]
    },
    {
     "name": "stderr",
     "output_type": "stream",
     "text": [
      "\r",
      "Epoch 7/25 - Validation:  68%|██████▊   | 93/137 [25:10<13:50, 18.87s/it]"
     ]
    },
    {
     "name": "stderr",
     "output_type": "stream",
     "text": [
      "\r",
      "Epoch 7/25 - Validation:  69%|██████▊   | 94/137 [25:11<09:32, 13.30s/it]"
     ]
    },
    {
     "name": "stderr",
     "output_type": "stream",
     "text": [
      "\r",
      "Epoch 7/25 - Validation:  69%|██████▉   | 95/137 [25:42<12:59, 18.56s/it]"
     ]
    },
    {
     "name": "stderr",
     "output_type": "stream",
     "text": [
      "\r",
      "Epoch 7/25 - Validation:  70%|███████   | 96/137 [25:42<08:56, 13.08s/it]"
     ]
    },
    {
     "name": "stderr",
     "output_type": "stream",
     "text": [
      "\r",
      "Epoch 7/25 - Validation:  71%|███████   | 97/137 [26:15<12:41, 19.05s/it]"
     ]
    },
    {
     "name": "stderr",
     "output_type": "stream",
     "text": [
      "\r",
      "Epoch 7/25 - Validation:  72%|███████▏  | 98/137 [26:15<08:43, 13.43s/it]"
     ]
    },
    {
     "name": "stderr",
     "output_type": "stream",
     "text": [
      "\r",
      "Epoch 7/25 - Validation:  72%|███████▏  | 99/137 [26:46<11:46, 18.59s/it]"
     ]
    },
    {
     "name": "stderr",
     "output_type": "stream",
     "text": [
      "\r",
      "Epoch 7/25 - Validation:  73%|███████▎  | 100/137 [26:46<08:04, 13.11s/it]"
     ]
    },
    {
     "name": "stderr",
     "output_type": "stream",
     "text": [
      "\r",
      "Epoch 7/25 - Validation:  74%|███████▎  | 101/137 [27:18<11:10, 18.63s/it]"
     ]
    },
    {
     "name": "stderr",
     "output_type": "stream",
     "text": [
      "\r",
      "Epoch 7/25 - Validation:  74%|███████▍  | 102/137 [27:18<07:39, 13.13s/it]"
     ]
    },
    {
     "name": "stderr",
     "output_type": "stream",
     "text": [
      "\r",
      "Epoch 7/25 - Validation:  75%|███████▌  | 103/137 [27:49<10:30, 18.55s/it]"
     ]
    },
    {
     "name": "stderr",
     "output_type": "stream",
     "text": [
      "\r",
      "Epoch 7/25 - Validation:  76%|███████▌  | 104/137 [27:49<07:11, 13.08s/it]"
     ]
    },
    {
     "name": "stderr",
     "output_type": "stream",
     "text": [
      "\r",
      "Epoch 7/25 - Validation:  77%|███████▋  | 105/137 [28:22<10:04, 18.88s/it]"
     ]
    },
    {
     "name": "stderr",
     "output_type": "stream",
     "text": [
      "\r",
      "Epoch 7/25 - Validation:  77%|███████▋  | 106/137 [28:22<06:52, 13.31s/it]"
     ]
    },
    {
     "name": "stderr",
     "output_type": "stream",
     "text": [
      "\r",
      "Epoch 7/25 - Validation:  78%|███████▊  | 107/137 [28:53<09:21, 18.71s/it]"
     ]
    },
    {
     "name": "stderr",
     "output_type": "stream",
     "text": [
      "\r",
      "Epoch 7/25 - Validation:  79%|███████▉  | 108/137 [28:54<06:22, 13.19s/it]"
     ]
    },
    {
     "name": "stderr",
     "output_type": "stream",
     "text": [
      "\r",
      "Epoch 7/25 - Validation:  80%|███████▉  | 109/137 [29:25<08:38, 18.54s/it]"
     ]
    },
    {
     "name": "stderr",
     "output_type": "stream",
     "text": [
      "\r",
      "Epoch 7/25 - Validation:  80%|████████  | 110/137 [29:25<05:52, 13.07s/it]"
     ]
    },
    {
     "name": "stderr",
     "output_type": "stream",
     "text": [
      "\r",
      "Epoch 7/25 - Validation:  81%|████████  | 111/137 [29:57<08:10, 18.86s/it]"
     ]
    },
    {
     "name": "stderr",
     "output_type": "stream",
     "text": [
      "\r",
      "Epoch 7/25 - Validation:  82%|████████▏ | 112/137 [29:58<05:32, 13.30s/it]"
     ]
    },
    {
     "name": "stderr",
     "output_type": "stream",
     "text": [
      "\r",
      "Epoch 7/25 - Validation:  82%|████████▏ | 113/137 [30:31<07:42, 19.26s/it]"
     ]
    },
    {
     "name": "stderr",
     "output_type": "stream",
     "text": [
      "\r",
      "Epoch 7/25 - Validation:  83%|████████▎ | 114/137 [30:31<05:12, 13.58s/it]"
     ]
    },
    {
     "name": "stderr",
     "output_type": "stream",
     "text": [
      "\r",
      "Epoch 7/25 - Validation:  84%|████████▍ | 115/137 [31:03<07:00, 19.11s/it]"
     ]
    },
    {
     "name": "stderr",
     "output_type": "stream",
     "text": [
      "\r",
      "Epoch 7/25 - Validation:  85%|████████▍ | 116/137 [31:04<04:42, 13.47s/it]"
     ]
    },
    {
     "name": "stderr",
     "output_type": "stream",
     "text": [
      "\r",
      "Epoch 7/25 - Validation:  85%|████████▌ | 117/137 [31:35<06:16, 18.84s/it]"
     ]
    },
    {
     "name": "stderr",
     "output_type": "stream",
     "text": [
      "\r",
      "Epoch 7/25 - Validation:  86%|████████▌ | 118/137 [31:35<04:12, 13.28s/it]"
     ]
    },
    {
     "name": "stderr",
     "output_type": "stream",
     "text": [
      "\r",
      "Epoch 7/25 - Validation:  87%|████████▋ | 119/137 [32:08<05:43, 19.08s/it]"
     ]
    },
    {
     "name": "stderr",
     "output_type": "stream",
     "text": [
      "\r",
      "Epoch 7/25 - Validation:  88%|████████▊ | 120/137 [32:08<03:48, 13.45s/it]"
     ]
    },
    {
     "name": "stderr",
     "output_type": "stream",
     "text": [
      "\r",
      "Epoch 7/25 - Validation:  88%|████████▊ | 121/137 [32:40<05:02, 18.88s/it]"
     ]
    },
    {
     "name": "stderr",
     "output_type": "stream",
     "text": [
      "\r",
      "Epoch 7/25 - Validation:  89%|████████▉ | 122/137 [32:40<03:19, 13.31s/it]"
     ]
    },
    {
     "name": "stderr",
     "output_type": "stream",
     "text": [
      "\r",
      "Epoch 7/25 - Validation:  90%|████████▉ | 123/137 [33:11<04:21, 18.67s/it]"
     ]
    },
    {
     "name": "stderr",
     "output_type": "stream",
     "text": [
      "\r",
      "Epoch 7/25 - Validation:  91%|█████████ | 124/137 [33:12<02:51, 13.16s/it]"
     ]
    },
    {
     "name": "stderr",
     "output_type": "stream",
     "text": [
      "\r",
      "Epoch 7/25 - Validation:  91%|█████████ | 125/137 [33:44<03:48, 19.02s/it]"
     ]
    },
    {
     "name": "stderr",
     "output_type": "stream",
     "text": [
      "\r",
      "Epoch 7/25 - Validation:  92%|█████████▏| 126/137 [33:45<02:27, 13.41s/it]"
     ]
    },
    {
     "name": "stderr",
     "output_type": "stream",
     "text": [
      "\r",
      "Epoch 7/25 - Validation:  93%|█████████▎| 127/137 [34:15<03:04, 18.42s/it]"
     ]
    },
    {
     "name": "stderr",
     "output_type": "stream",
     "text": [
      "\r",
      "Epoch 7/25 - Validation:  93%|█████████▎| 128/137 [34:15<01:56, 12.99s/it]"
     ]
    },
    {
     "name": "stderr",
     "output_type": "stream",
     "text": [
      "\r",
      "Epoch 7/25 - Validation:  94%|█████████▍| 129/137 [34:48<02:30, 18.85s/it]"
     ]
    },
    {
     "name": "stderr",
     "output_type": "stream",
     "text": [
      "\r",
      "Epoch 7/25 - Validation:  95%|█████████▍| 130/137 [34:48<01:33, 13.29s/it]"
     ]
    },
    {
     "name": "stderr",
     "output_type": "stream",
     "text": [
      "\r",
      "Epoch 7/25 - Validation:  96%|█████████▌| 131/137 [35:19<01:51, 18.58s/it]"
     ]
    },
    {
     "name": "stderr",
     "output_type": "stream",
     "text": [
      "\r",
      "Epoch 7/25 - Validation:  96%|█████████▋| 132/137 [35:19<01:05, 13.10s/it]"
     ]
    },
    {
     "name": "stderr",
     "output_type": "stream",
     "text": [
      "\r",
      "Epoch 7/25 - Validation:  97%|█████████▋| 133/137 [35:50<01:13, 18.37s/it]"
     ]
    },
    {
     "name": "stderr",
     "output_type": "stream",
     "text": [
      "\r",
      "Epoch 7/25 - Validation:  98%|█████████▊| 134/137 [35:50<00:38, 12.95s/it]"
     ]
    },
    {
     "name": "stderr",
     "output_type": "stream",
     "text": [
      "\r",
      "Epoch 7/25 - Validation:  99%|█████████▊| 135/137 [36:22<00:37, 18.56s/it]"
     ]
    },
    {
     "name": "stderr",
     "output_type": "stream",
     "text": [
      "\r",
      "Epoch 7/25 - Validation:  99%|█████████▉| 136/137 [36:22<00:13, 13.09s/it]"
     ]
    },
    {
     "name": "stderr",
     "output_type": "stream",
     "text": [
      "\r",
      "Epoch 7/25 - Validation: 100%|██████████| 137/137 [36:33<00:00, 12.46s/it]"
     ]
    },
    {
     "name": "stderr",
     "output_type": "stream",
     "text": [
      "\r",
      "Epoch 7/25 - Validation: 100%|██████████| 137/137 [36:33<00:00, 16.01s/it]"
     ]
    },
    {
     "name": "stderr",
     "output_type": "stream",
     "text": [
      "\n"
     ]
    },
    {
     "name": "stdout",
     "output_type": "stream",
     "text": [
      "Epoch 7/25:\n",
      "Train Loss: 1.0762, Train Acc: 0.4565\n",
      "Val Loss: 1.0944, Val Acc: 0.4500\n"
     ]
    },
    {
     "name": "stderr",
     "output_type": "stream",
     "text": [
      "\r",
      "Epoch 8/25 - Training:   0%|          | 0/137 [00:00<?, ?it/s]"
     ]
    },
    {
     "name": "stderr",
     "output_type": "stream",
     "text": [
      "\r",
      "Epoch 8/25 - Training:   1%|          | 1/137 [00:32<1:14:38, 32.93s/it]"
     ]
    },
    {
     "name": "stderr",
     "output_type": "stream",
     "text": [
      "\r",
      "Epoch 8/25 - Training:   1%|▏         | 2/137 [00:33<31:41, 14.08s/it]  "
     ]
    },
    {
     "name": "stderr",
     "output_type": "stream",
     "text": [
      "\r",
      "Epoch 8/25 - Training:   2%|▏         | 3/137 [01:05<49:15, 22.05s/it]"
     ]
    },
    {
     "name": "stderr",
     "output_type": "stream",
     "text": [
      "\r",
      "Epoch 8/25 - Training:   3%|▎         | 4/137 [01:06<30:22, 13.70s/it]"
     ]
    },
    {
     "name": "stderr",
     "output_type": "stream",
     "text": [
      "\r",
      "Epoch 8/25 - Training:   4%|▎         | 5/137 [01:38<44:32, 20.25s/it]"
     ]
    },
    {
     "name": "stderr",
     "output_type": "stream",
     "text": [
      "\r",
      "Epoch 8/25 - Training:   4%|▍         | 6/137 [01:39<29:50, 13.67s/it]"
     ]
    },
    {
     "name": "stderr",
     "output_type": "stream",
     "text": [
      "\r",
      "Epoch 8/25 - Training:   5%|▌         | 7/137 [02:10<42:13, 19.49s/it]"
     ]
    },
    {
     "name": "stderr",
     "output_type": "stream",
     "text": [
      "\r",
      "Epoch 8/25 - Training:   6%|▌         | 8/137 [02:11<29:10, 13.57s/it]"
     ]
    },
    {
     "name": "stderr",
     "output_type": "stream",
     "text": [
      "\r",
      "Epoch 8/25 - Training:   7%|▋         | 9/137 [02:39<38:46, 18.17s/it]"
     ]
    },
    {
     "name": "stderr",
     "output_type": "stream",
     "text": [
      "\r",
      "Epoch 8/25 - Training:   7%|▋         | 10/137 [02:40<27:10, 12.84s/it]"
     ]
    },
    {
     "name": "stderr",
     "output_type": "stream",
     "text": [
      "\r",
      "Epoch 8/25 - Training:   8%|▊         | 11/137 [03:12<39:16, 18.70s/it]"
     ]
    },
    {
     "name": "stderr",
     "output_type": "stream",
     "text": [
      "\r",
      "Epoch 8/25 - Training:   9%|▉         | 12/137 [03:13<27:41, 13.29s/it]"
     ]
    },
    {
     "name": "stderr",
     "output_type": "stream",
     "text": [
      "\r",
      "Epoch 8/25 - Training:   9%|▉         | 13/137 [03:44<38:31, 18.64s/it]"
     ]
    },
    {
     "name": "stderr",
     "output_type": "stream",
     "text": [
      "\r",
      "Epoch 8/25 - Training:  10%|█         | 14/137 [03:45<27:13, 13.28s/it]"
     ]
    },
    {
     "name": "stderr",
     "output_type": "stream",
     "text": [
      "\r",
      "Epoch 8/25 - Training:  11%|█         | 15/137 [04:16<38:03, 18.72s/it]"
     ]
    },
    {
     "name": "stderr",
     "output_type": "stream",
     "text": [
      "\r",
      "Epoch 8/25 - Training:  12%|█▏        | 16/137 [04:17<26:55, 13.35s/it]"
     ]
    },
    {
     "name": "stderr",
     "output_type": "stream",
     "text": [
      "\r",
      "Epoch 8/25 - Training:  12%|█▏        | 17/137 [04:44<35:06, 17.55s/it]"
     ]
    },
    {
     "name": "stderr",
     "output_type": "stream",
     "text": [
      "\r",
      "Epoch 8/25 - Training:  13%|█▎        | 18/137 [04:48<26:17, 13.25s/it]"
     ]
    },
    {
     "name": "stderr",
     "output_type": "stream",
     "text": [
      "\r",
      "Epoch 8/25 - Training:  14%|█▍        | 19/137 [05:17<35:29, 18.05s/it]"
     ]
    },
    {
     "name": "stderr",
     "output_type": "stream",
     "text": [
      "\r",
      "Epoch 8/25 - Training:  15%|█▍        | 20/137 [05:19<26:01, 13.35s/it]"
     ]
    },
    {
     "name": "stderr",
     "output_type": "stream",
     "text": [
      "\r",
      "Epoch 8/25 - Training:  15%|█▌        | 21/137 [05:49<35:24, 18.32s/it]"
     ]
    },
    {
     "name": "stderr",
     "output_type": "stream",
     "text": [
      "\r",
      "Epoch 8/25 - Training:  16%|█▌        | 22/137 [05:52<26:06, 13.62s/it]"
     ]
    },
    {
     "name": "stderr",
     "output_type": "stream",
     "text": [
      "\r",
      "Epoch 8/25 - Training:  17%|█▋        | 23/137 [06:21<35:01, 18.43s/it]"
     ]
    },
    {
     "name": "stderr",
     "output_type": "stream",
     "text": [
      "\r",
      "Epoch 8/25 - Training:  18%|█▊        | 24/137 [06:22<24:48, 13.17s/it]"
     ]
    },
    {
     "name": "stderr",
     "output_type": "stream",
     "text": [
      "\r",
      "Epoch 8/25 - Training:  18%|█▊        | 25/137 [06:50<32:29, 17.40s/it]"
     ]
    },
    {
     "name": "stderr",
     "output_type": "stream",
     "text": [
      "\r",
      "Epoch 8/25 - Training:  19%|█▉        | 26/137 [06:51<23:02, 12.45s/it]"
     ]
    },
    {
     "name": "stderr",
     "output_type": "stream",
     "text": [
      "\r",
      "Epoch 8/25 - Training:  20%|█▉        | 27/137 [07:21<32:58, 17.98s/it]"
     ]
    },
    {
     "name": "stderr",
     "output_type": "stream",
     "text": [
      "\r",
      "Epoch 8/25 - Training:  20%|██        | 28/137 [07:22<23:21, 12.86s/it]"
     ]
    },
    {
     "name": "stderr",
     "output_type": "stream",
     "text": [
      "\r",
      "Epoch 8/25 - Training:  21%|██        | 29/137 [07:51<31:37, 17.57s/it]"
     ]
    },
    {
     "name": "stderr",
     "output_type": "stream",
     "text": [
      "\r",
      "Epoch 8/25 - Training:  22%|██▏       | 30/137 [07:52<22:24, 12.57s/it]"
     ]
    },
    {
     "name": "stderr",
     "output_type": "stream",
     "text": [
      "\r",
      "Epoch 8/25 - Training:  23%|██▎       | 31/137 [08:23<32:10, 18.21s/it]"
     ]
    },
    {
     "name": "stderr",
     "output_type": "stream",
     "text": [
      "\r",
      "Epoch 8/25 - Training:  23%|██▎       | 32/137 [08:24<22:47, 13.02s/it]"
     ]
    },
    {
     "name": "stderr",
     "output_type": "stream",
     "text": [
      "\r",
      "Epoch 8/25 - Training:  24%|██▍       | 33/137 [08:51<29:41, 17.13s/it]"
     ]
    },
    {
     "name": "stderr",
     "output_type": "stream",
     "text": [
      "\r",
      "Epoch 8/25 - Training:  25%|██▍       | 34/137 [08:52<21:02, 12.26s/it]"
     ]
    },
    {
     "name": "stderr",
     "output_type": "stream",
     "text": [
      "\r",
      "Epoch 8/25 - Training:  26%|██▌       | 35/137 [09:15<26:15, 15.44s/it]"
     ]
    },
    {
     "name": "stderr",
     "output_type": "stream",
     "text": [
      "\r",
      "Epoch 8/25 - Training:  26%|██▋       | 36/137 [09:15<18:39, 11.08s/it]"
     ]
    },
    {
     "name": "stderr",
     "output_type": "stream",
     "text": [
      "\r",
      "Epoch 8/25 - Training:  27%|██▋       | 37/137 [09:44<27:14, 16.35s/it]"
     ]
    },
    {
     "name": "stderr",
     "output_type": "stream",
     "text": [
      "\r",
      "Epoch 8/25 - Training:  28%|██▊       | 38/137 [09:45<19:19, 11.71s/it]"
     ]
    },
    {
     "name": "stderr",
     "output_type": "stream",
     "text": [
      "\r",
      "Epoch 8/25 - Training:  28%|██▊       | 39/137 [10:16<28:49, 17.64s/it]"
     ]
    },
    {
     "name": "stderr",
     "output_type": "stream",
     "text": [
      "\r",
      "Epoch 8/25 - Training:  29%|██▉       | 40/137 [10:17<20:24, 12.62s/it]"
     ]
    },
    {
     "name": "stderr",
     "output_type": "stream",
     "text": [
      "\r",
      "Epoch 8/25 - Training:  30%|██▉       | 41/137 [10:48<29:00, 18.13s/it]"
     ]
    },
    {
     "name": "stderr",
     "output_type": "stream",
     "text": [
      "\r",
      "Epoch 8/25 - Training:  31%|███       | 42/137 [10:49<20:31, 12.96s/it]"
     ]
    },
    {
     "name": "stderr",
     "output_type": "stream",
     "text": [
      "\r",
      "Epoch 8/25 - Training:  31%|███▏      | 43/137 [11:17<27:06, 17.30s/it]"
     ]
    },
    {
     "name": "stderr",
     "output_type": "stream",
     "text": [
      "\r",
      "Epoch 8/25 - Training:  32%|███▏      | 44/137 [11:18<19:11, 12.38s/it]"
     ]
    },
    {
     "name": "stderr",
     "output_type": "stream",
     "text": [
      "\r",
      "Epoch 8/25 - Training:  33%|███▎      | 45/137 [11:40<23:35, 15.39s/it]"
     ]
    },
    {
     "name": "stderr",
     "output_type": "stream",
     "text": [
      "\r",
      "Epoch 8/25 - Training:  34%|███▎      | 46/137 [11:41<16:44, 11.04s/it]"
     ]
    },
    {
     "name": "stderr",
     "output_type": "stream",
     "text": [
      "\r",
      "Epoch 8/25 - Training:  34%|███▍      | 47/137 [12:05<22:18, 14.88s/it]"
     ]
    },
    {
     "name": "stderr",
     "output_type": "stream",
     "text": [
      "\r",
      "Epoch 8/25 - Training:  35%|███▌      | 48/137 [12:06<15:51, 10.69s/it]"
     ]
    },
    {
     "name": "stderr",
     "output_type": "stream",
     "text": [
      "\r",
      "Epoch 8/25 - Training:  36%|███▌      | 49/137 [12:37<24:43, 16.86s/it]"
     ]
    },
    {
     "name": "stderr",
     "output_type": "stream",
     "text": [
      "\r",
      "Epoch 8/25 - Training:  36%|███▋      | 50/137 [12:38<17:30, 12.07s/it]"
     ]
    },
    {
     "name": "stderr",
     "output_type": "stream",
     "text": [
      "\r",
      "Epoch 8/25 - Training:  37%|███▋      | 51/137 [13:05<23:38, 16.49s/it]"
     ]
    },
    {
     "name": "stderr",
     "output_type": "stream",
     "text": [
      "\r",
      "Epoch 8/25 - Training:  38%|███▊      | 52/137 [13:05<16:44, 11.82s/it]"
     ]
    },
    {
     "name": "stderr",
     "output_type": "stream",
     "text": [
      "\r",
      "Epoch 8/25 - Training:  39%|███▊      | 53/137 [13:33<23:20, 16.67s/it]"
     ]
    },
    {
     "name": "stderr",
     "output_type": "stream",
     "text": [
      "\r",
      "Epoch 8/25 - Training:  39%|███▉      | 54/137 [13:34<16:30, 11.94s/it]"
     ]
    },
    {
     "name": "stderr",
     "output_type": "stream",
     "text": [
      "\r",
      "Epoch 8/25 - Training:  40%|████      | 55/137 [14:02<22:38, 16.56s/it]"
     ]
    },
    {
     "name": "stderr",
     "output_type": "stream",
     "text": [
      "\r",
      "Epoch 8/25 - Training:  41%|████      | 56/137 [14:03<16:01, 11.86s/it]"
     ]
    },
    {
     "name": "stderr",
     "output_type": "stream",
     "text": [
      "\r",
      "Epoch 8/25 - Training:  42%|████▏     | 57/137 [14:31<22:16, 16.71s/it]"
     ]
    },
    {
     "name": "stderr",
     "output_type": "stream",
     "text": [
      "\r",
      "Epoch 8/25 - Training:  42%|████▏     | 58/137 [14:32<15:45, 11.97s/it]"
     ]
    },
    {
     "name": "stderr",
     "output_type": "stream",
     "text": [
      "\r",
      "Epoch 8/25 - Training:  43%|████▎     | 59/137 [15:03<23:01, 17.71s/it]"
     ]
    },
    {
     "name": "stderr",
     "output_type": "stream",
     "text": [
      "\r",
      "Epoch 8/25 - Training:  44%|████▍     | 60/137 [15:04<16:15, 12.67s/it]"
     ]
    },
    {
     "name": "stderr",
     "output_type": "stream",
     "text": [
      "\r",
      "Epoch 8/25 - Training:  45%|████▍     | 61/137 [15:28<20:20, 16.06s/it]"
     ]
    },
    {
     "name": "stderr",
     "output_type": "stream",
     "text": [
      "\r",
      "Epoch 8/25 - Training:  45%|████▌     | 62/137 [15:28<14:23, 11.51s/it]"
     ]
    },
    {
     "name": "stderr",
     "output_type": "stream",
     "text": [
      "\r",
      "Epoch 8/25 - Training:  46%|████▌     | 63/137 [15:59<21:08, 17.15s/it]"
     ]
    },
    {
     "name": "stderr",
     "output_type": "stream",
     "text": [
      "\r",
      "Epoch 8/25 - Training:  47%|████▋     | 64/137 [16:00<14:55, 12.27s/it]"
     ]
    },
    {
     "name": "stderr",
     "output_type": "stream",
     "text": [
      "\r",
      "Epoch 8/25 - Training:  47%|████▋     | 65/137 [16:31<21:32, 17.96s/it]"
     ]
    },
    {
     "name": "stderr",
     "output_type": "stream",
     "text": [
      "\r",
      "Epoch 8/25 - Training:  48%|████▊     | 66/137 [16:32<15:11, 12.84s/it]"
     ]
    },
    {
     "name": "stderr",
     "output_type": "stream",
     "text": [
      "\r",
      "Epoch 8/25 - Training:  49%|████▉     | 67/137 [17:00<20:13, 17.33s/it]"
     ]
    },
    {
     "name": "stderr",
     "output_type": "stream",
     "text": [
      "\r",
      "Epoch 8/25 - Training:  50%|████▉     | 68/137 [17:01<14:16, 12.41s/it]"
     ]
    },
    {
     "name": "stderr",
     "output_type": "stream",
     "text": [
      "\r",
      "Epoch 8/25 - Training:  50%|█████     | 69/137 [17:28<19:09, 16.91s/it]"
     ]
    },
    {
     "name": "stderr",
     "output_type": "stream",
     "text": [
      "\r",
      "Epoch 8/25 - Training:  51%|█████     | 70/137 [17:29<13:31, 12.11s/it]"
     ]
    },
    {
     "name": "stderr",
     "output_type": "stream",
     "text": [
      "\r",
      "Epoch 8/25 - Training:  52%|█████▏    | 71/137 [17:59<19:24, 17.64s/it]"
     ]
    },
    {
     "name": "stderr",
     "output_type": "stream",
     "text": [
      "\r",
      "Epoch 8/25 - Training:  53%|█████▎    | 72/137 [18:00<13:40, 12.62s/it]"
     ]
    },
    {
     "name": "stderr",
     "output_type": "stream",
     "text": [
      "\r",
      "Epoch 8/25 - Training:  53%|█████▎    | 73/137 [18:28<18:14, 17.10s/it]"
     ]
    },
    {
     "name": "stderr",
     "output_type": "stream",
     "text": [
      "\r",
      "Epoch 8/25 - Training:  54%|█████▍    | 74/137 [18:29<12:51, 12.24s/it]"
     ]
    },
    {
     "name": "stderr",
     "output_type": "stream",
     "text": [
      "\r",
      "Epoch 8/25 - Training:  55%|█████▍    | 75/137 [18:56<17:21, 16.80s/it]"
     ]
    },
    {
     "name": "stderr",
     "output_type": "stream",
     "text": [
      "\r",
      "Epoch 8/25 - Training:  55%|█████▌    | 76/137 [18:57<12:13, 12.03s/it]"
     ]
    },
    {
     "name": "stderr",
     "output_type": "stream",
     "text": [
      "\r",
      "Epoch 8/25 - Training:  56%|█████▌    | 77/137 [19:20<15:14, 15.24s/it]"
     ]
    },
    {
     "name": "stderr",
     "output_type": "stream",
     "text": [
      "\r",
      "Epoch 8/25 - Training:  57%|█████▋    | 78/137 [19:21<10:45, 10.94s/it]"
     ]
    },
    {
     "name": "stderr",
     "output_type": "stream",
     "text": [
      "\r",
      "Epoch 8/25 - Training:  58%|█████▊    | 79/137 [19:48<15:19, 15.85s/it]"
     ]
    },
    {
     "name": "stderr",
     "output_type": "stream",
     "text": [
      "\r",
      "Epoch 8/25 - Training:  58%|█████▊    | 80/137 [19:49<10:47, 11.37s/it]"
     ]
    },
    {
     "name": "stderr",
     "output_type": "stream",
     "text": [
      "\r",
      "Epoch 8/25 - Training:  59%|█████▉    | 81/137 [20:20<16:08, 17.29s/it]"
     ]
    },
    {
     "name": "stderr",
     "output_type": "stream",
     "text": [
      "\r",
      "Epoch 8/25 - Training:  60%|█████▉    | 82/137 [20:21<11:20, 12.37s/it]"
     ]
    },
    {
     "name": "stderr",
     "output_type": "stream",
     "text": [
      "\r",
      "Epoch 8/25 - Training:  61%|██████    | 83/137 [20:44<14:08, 15.71s/it]"
     ]
    },
    {
     "name": "stderr",
     "output_type": "stream",
     "text": [
      "\r",
      "Epoch 8/25 - Training:  61%|██████▏   | 84/137 [20:45<09:57, 11.27s/it]"
     ]
    },
    {
     "name": "stderr",
     "output_type": "stream",
     "text": [
      "\r",
      "Epoch 8/25 - Training:  62%|██████▏   | 85/137 [21:12<13:53, 16.03s/it]"
     ]
    },
    {
     "name": "stderr",
     "output_type": "stream",
     "text": [
      "\r",
      "Epoch 8/25 - Training:  63%|██████▎   | 86/137 [21:13<09:46, 11.49s/it]"
     ]
    },
    {
     "name": "stderr",
     "output_type": "stream",
     "text": [
      "\r",
      "Epoch 8/25 - Training:  64%|██████▎   | 87/137 [21:45<14:37, 17.54s/it]"
     ]
    },
    {
     "name": "stderr",
     "output_type": "stream",
     "text": [
      "\r",
      "Epoch 8/25 - Training:  64%|██████▍   | 88/137 [21:46<10:15, 12.55s/it]"
     ]
    },
    {
     "name": "stderr",
     "output_type": "stream",
     "text": [
      "\r",
      "Epoch 8/25 - Training:  65%|██████▍   | 89/137 [22:18<14:42, 18.40s/it]"
     ]
    },
    {
     "name": "stderr",
     "output_type": "stream",
     "text": [
      "\r",
      "Epoch 8/25 - Training:  66%|██████▌   | 90/137 [22:19<10:17, 13.15s/it]"
     ]
    },
    {
     "name": "stderr",
     "output_type": "stream",
     "text": [
      "\r",
      "Epoch 8/25 - Training:  66%|██████▋   | 91/137 [22:47<13:30, 17.62s/it]"
     ]
    },
    {
     "name": "stderr",
     "output_type": "stream",
     "text": [
      "\r",
      "Epoch 8/25 - Training:  67%|██████▋   | 92/137 [22:48<09:27, 12.61s/it]"
     ]
    },
    {
     "name": "stderr",
     "output_type": "stream",
     "text": [
      "\r",
      "Epoch 8/25 - Training:  68%|██████▊   | 93/137 [23:19<13:14, 18.05s/it]"
     ]
    },
    {
     "name": "stderr",
     "output_type": "stream",
     "text": [
      "\r",
      "Epoch 8/25 - Training:  69%|██████▊   | 94/137 [23:20<09:15, 12.91s/it]"
     ]
    },
    {
     "name": "stderr",
     "output_type": "stream",
     "text": [
      "\r",
      "Epoch 8/25 - Training:  69%|██████▉   | 95/137 [23:47<12:11, 17.42s/it]"
     ]
    },
    {
     "name": "stderr",
     "output_type": "stream",
     "text": [
      "\r",
      "Epoch 8/25 - Training:  70%|███████   | 96/137 [23:48<08:31, 12.47s/it]"
     ]
    },
    {
     "name": "stderr",
     "output_type": "stream",
     "text": [
      "\r",
      "Epoch 8/25 - Training:  71%|███████   | 97/137 [24:18<11:50, 17.76s/it]"
     ]
    },
    {
     "name": "stderr",
     "output_type": "stream",
     "text": [
      "\r",
      "Epoch 8/25 - Training:  72%|███████▏  | 98/137 [24:19<08:15, 12.70s/it]"
     ]
    },
    {
     "name": "stderr",
     "output_type": "stream",
     "text": [
      "\r",
      "Epoch 8/25 - Training:  72%|███████▏  | 99/137 [24:43<10:11, 16.09s/it]"
     ]
    },
    {
     "name": "stderr",
     "output_type": "stream",
     "text": [
      "\r",
      "Epoch 8/25 - Training:  73%|███████▎  | 100/137 [24:44<07:06, 11.54s/it]"
     ]
    },
    {
     "name": "stderr",
     "output_type": "stream",
     "text": [
      "\r",
      "Epoch 8/25 - Training:  74%|███████▎  | 101/137 [25:16<10:33, 17.61s/it]"
     ]
    },
    {
     "name": "stderr",
     "output_type": "stream",
     "text": [
      "\r",
      "Epoch 8/25 - Training:  74%|███████▍  | 102/137 [25:17<07:20, 12.59s/it]"
     ]
    },
    {
     "name": "stderr",
     "output_type": "stream",
     "text": [
      "\r",
      "Epoch 8/25 - Training:  75%|███████▌  | 103/137 [25:45<09:45, 17.22s/it]"
     ]
    },
    {
     "name": "stderr",
     "output_type": "stream",
     "text": [
      "\r",
      "Epoch 8/25 - Training:  76%|███████▌  | 104/137 [25:46<06:46, 12.33s/it]"
     ]
    },
    {
     "name": "stderr",
     "output_type": "stream",
     "text": [
      "\r",
      "Epoch 8/25 - Training:  77%|███████▋  | 105/137 [26:17<09:37, 18.04s/it]"
     ]
    },
    {
     "name": "stderr",
     "output_type": "stream",
     "text": [
      "\r",
      "Epoch 8/25 - Training:  77%|███████▋  | 106/137 [26:18<06:39, 12.90s/it]"
     ]
    },
    {
     "name": "stderr",
     "output_type": "stream",
     "text": [
      "\r",
      "Epoch 8/25 - Training:  78%|███████▊  | 107/137 [26:46<08:38, 17.29s/it]"
     ]
    },
    {
     "name": "stderr",
     "output_type": "stream",
     "text": [
      "\r",
      "Epoch 8/25 - Training:  79%|███████▉  | 108/137 [26:47<05:58, 12.37s/it]"
     ]
    },
    {
     "name": "stderr",
     "output_type": "stream",
     "text": [
      "\r",
      "Epoch 8/25 - Training:  80%|███████▉  | 109/137 [27:18<08:28, 18.18s/it]"
     ]
    },
    {
     "name": "stderr",
     "output_type": "stream",
     "text": [
      "\r",
      "Epoch 8/25 - Training:  80%|████████  | 110/137 [27:19<05:50, 12.99s/it]"
     ]
    },
    {
     "name": "stderr",
     "output_type": "stream",
     "text": [
      "\r",
      "Epoch 8/25 - Training:  81%|████████  | 111/137 [27:47<07:29, 17.29s/it]"
     ]
    },
    {
     "name": "stderr",
     "output_type": "stream",
     "text": [
      "\r",
      "Epoch 8/25 - Training:  82%|████████▏ | 112/137 [27:47<05:09, 12.37s/it]"
     ]
    },
    {
     "name": "stderr",
     "output_type": "stream",
     "text": [
      "\r",
      "Epoch 8/25 - Training:  82%|████████▏ | 113/137 [28:07<05:49, 14.54s/it]"
     ]
    },
    {
     "name": "stderr",
     "output_type": "stream",
     "text": [
      "\r",
      "Epoch 8/25 - Training:  83%|████████▎ | 114/137 [28:08<04:00, 10.45s/it]"
     ]
    },
    {
     "name": "stderr",
     "output_type": "stream",
     "text": [
      "\r",
      "Epoch 8/25 - Training:  84%|████████▍ | 115/137 [28:32<05:21, 14.62s/it]"
     ]
    },
    {
     "name": "stderr",
     "output_type": "stream",
     "text": [
      "\r",
      "Epoch 8/25 - Training:  85%|████████▍ | 116/137 [28:33<03:40, 10.50s/it]"
     ]
    },
    {
     "name": "stderr",
     "output_type": "stream",
     "text": [
      "\r",
      "Epoch 8/25 - Training:  85%|████████▌ | 117/137 [29:01<05:16, 15.80s/it]"
     ]
    },
    {
     "name": "stderr",
     "output_type": "stream",
     "text": [
      "\r",
      "Epoch 8/25 - Training:  86%|████████▌ | 118/137 [29:02<03:35, 11.33s/it]"
     ]
    },
    {
     "name": "stderr",
     "output_type": "stream",
     "text": [
      "\r",
      "Epoch 8/25 - Training:  87%|████████▋ | 119/137 [29:30<04:53, 16.33s/it]"
     ]
    },
    {
     "name": "stderr",
     "output_type": "stream",
     "text": [
      "\r",
      "Epoch 8/25 - Training:  88%|████████▊ | 120/137 [29:31<03:18, 11.70s/it]"
     ]
    },
    {
     "name": "stderr",
     "output_type": "stream",
     "text": [
      "\r",
      "Epoch 8/25 - Training:  88%|████████▊ | 121/137 [29:55<04:07, 15.46s/it]"
     ]
    },
    {
     "name": "stderr",
     "output_type": "stream",
     "text": [
      "\r",
      "Epoch 8/25 - Training:  89%|████████▉ | 122/137 [29:56<02:46, 11.10s/it]"
     ]
    },
    {
     "name": "stderr",
     "output_type": "stream",
     "text": [
      "\r",
      "Epoch 8/25 - Training:  90%|████████▉ | 123/137 [30:23<03:41, 15.82s/it]"
     ]
    },
    {
     "name": "stderr",
     "output_type": "stream",
     "text": [
      "\r",
      "Epoch 8/25 - Training:  91%|█████████ | 124/137 [30:24<02:27, 11.35s/it]"
     ]
    },
    {
     "name": "stderr",
     "output_type": "stream",
     "text": [
      "\r",
      "Epoch 8/25 - Training:  91%|█████████ | 125/137 [30:55<03:27, 17.29s/it]"
     ]
    },
    {
     "name": "stderr",
     "output_type": "stream",
     "text": [
      "\r",
      "Epoch 8/25 - Training:  92%|█████████▏| 126/137 [30:56<02:16, 12.37s/it]"
     ]
    },
    {
     "name": "stderr",
     "output_type": "stream",
     "text": [
      "\r",
      "Epoch 8/25 - Training:  93%|█████████▎| 127/137 [31:27<02:58, 17.86s/it]"
     ]
    },
    {
     "name": "stderr",
     "output_type": "stream",
     "text": [
      "\r",
      "Epoch 8/25 - Training:  93%|█████████▎| 128/137 [31:28<01:54, 12.77s/it]"
     ]
    },
    {
     "name": "stderr",
     "output_type": "stream",
     "text": [
      "\r",
      "Epoch 8/25 - Training:  94%|█████████▍| 129/137 [31:51<02:06, 15.85s/it]"
     ]
    },
    {
     "name": "stderr",
     "output_type": "stream",
     "text": [
      "\r",
      "Epoch 8/25 - Training:  95%|█████████▍| 130/137 [31:52<01:19, 11.37s/it]"
     ]
    },
    {
     "name": "stderr",
     "output_type": "stream",
     "text": [
      "\r",
      "Epoch 8/25 - Training:  96%|█████████▌| 131/137 [32:20<01:38, 16.38s/it]"
     ]
    },
    {
     "name": "stderr",
     "output_type": "stream",
     "text": [
      "\r",
      "Epoch 8/25 - Training:  96%|█████████▋| 132/137 [32:21<00:58, 11.74s/it]"
     ]
    },
    {
     "name": "stderr",
     "output_type": "stream",
     "text": [
      "\r",
      "Epoch 8/25 - Training:  97%|█████████▋| 133/137 [32:48<01:05, 16.49s/it]"
     ]
    },
    {
     "name": "stderr",
     "output_type": "stream",
     "text": [
      "\r",
      "Epoch 8/25 - Training:  98%|█████████▊| 134/137 [32:49<00:35, 11.82s/it]"
     ]
    },
    {
     "name": "stderr",
     "output_type": "stream",
     "text": [
      "\r",
      "Epoch 8/25 - Training:  99%|█████████▊| 135/137 [33:20<00:35, 17.54s/it]"
     ]
    },
    {
     "name": "stderr",
     "output_type": "stream",
     "text": [
      "\r",
      "Epoch 8/25 - Training:  99%|█████████▉| 136/137 [33:21<00:12, 12.55s/it]"
     ]
    },
    {
     "name": "stderr",
     "output_type": "stream",
     "text": [
      "\r",
      "Epoch 8/25 - Training: 100%|██████████| 137/137 [33:27<00:00, 10.66s/it]"
     ]
    },
    {
     "name": "stderr",
     "output_type": "stream",
     "text": [
      "\r",
      "Epoch 8/25 - Training: 100%|██████████| 137/137 [33:27<00:00, 14.65s/it]"
     ]
    },
    {
     "name": "stderr",
     "output_type": "stream",
     "text": [
      "\n"
     ]
    },
    {
     "name": "stderr",
     "output_type": "stream",
     "text": [
      "\r",
      "Epoch 8/25 - Validation:   0%|          | 0/137 [00:00<?, ?it/s]"
     ]
    },
    {
     "name": "stderr",
     "output_type": "stream",
     "text": [
      "\r",
      "Epoch 8/25 - Validation:   1%|          | 1/137 [00:32<1:13:45, 32.54s/it]"
     ]
    },
    {
     "name": "stderr",
     "output_type": "stream",
     "text": [
      "\r",
      "Epoch 8/25 - Validation:   1%|▏         | 2/137 [00:32<30:33, 13.58s/it]  "
     ]
    },
    {
     "name": "stderr",
     "output_type": "stream",
     "text": [
      "\r",
      "Epoch 8/25 - Validation:   2%|▏         | 3/137 [01:04<48:48, 21.86s/it]"
     ]
    },
    {
     "name": "stderr",
     "output_type": "stream",
     "text": [
      "\r",
      "Epoch 8/25 - Validation:   3%|▎         | 4/137 [01:04<29:38, 13.37s/it]"
     ]
    },
    {
     "name": "stderr",
     "output_type": "stream",
     "text": [
      "\r",
      "Epoch 8/25 - Validation:   4%|▎         | 5/137 [01:35<43:25, 19.74s/it]"
     ]
    },
    {
     "name": "stderr",
     "output_type": "stream",
     "text": [
      "\r",
      "Epoch 8/25 - Validation:   4%|▍         | 6/137 [01:36<28:40, 13.13s/it]"
     ]
    },
    {
     "name": "stderr",
     "output_type": "stream",
     "text": [
      "\r",
      "Epoch 8/25 - Validation:   5%|▌         | 7/137 [02:08<41:53, 19.33s/it]"
     ]
    },
    {
     "name": "stderr",
     "output_type": "stream",
     "text": [
      "\r",
      "Epoch 8/25 - Validation:   6%|▌         | 8/137 [02:08<28:32, 13.28s/it]"
     ]
    },
    {
     "name": "stderr",
     "output_type": "stream",
     "text": [
      "\r",
      "Epoch 8/25 - Validation:   7%|▋         | 9/137 [02:40<40:42, 19.08s/it]"
     ]
    },
    {
     "name": "stderr",
     "output_type": "stream",
     "text": [
      "\r",
      "Epoch 8/25 - Validation:   7%|▋         | 10/137 [02:41<28:20, 13.39s/it]"
     ]
    },
    {
     "name": "stderr",
     "output_type": "stream",
     "text": [
      "\r",
      "Epoch 8/25 - Validation:   8%|▊         | 11/137 [03:12<39:57, 19.03s/it]"
     ]
    },
    {
     "name": "stderr",
     "output_type": "stream",
     "text": [
      "\r",
      "Epoch 8/25 - Validation:   9%|▉         | 12/137 [03:13<27:48, 13.35s/it]"
     ]
    },
    {
     "name": "stderr",
     "output_type": "stream",
     "text": [
      "\r",
      "Epoch 8/25 - Validation:   9%|▉         | 13/137 [03:45<39:28, 19.10s/it]"
     ]
    },
    {
     "name": "stderr",
     "output_type": "stream",
     "text": [
      "\r",
      "Epoch 8/25 - Validation:  10%|█         | 14/137 [03:46<27:34, 13.45s/it]"
     ]
    },
    {
     "name": "stderr",
     "output_type": "stream",
     "text": [
      "\r",
      "Epoch 8/25 - Validation:  11%|█         | 15/137 [04:17<38:06, 18.74s/it]"
     ]
    },
    {
     "name": "stderr",
     "output_type": "stream",
     "text": [
      "\r",
      "Epoch 8/25 - Validation:  12%|█▏        | 16/137 [04:17<26:46, 13.28s/it]"
     ]
    },
    {
     "name": "stderr",
     "output_type": "stream",
     "text": [
      "\r",
      "Epoch 8/25 - Validation:  12%|█▏        | 17/137 [04:48<37:00, 18.51s/it]"
     ]
    },
    {
     "name": "stderr",
     "output_type": "stream",
     "text": [
      "\r",
      "Epoch 8/25 - Validation:  13%|█▎        | 18/137 [04:49<26:39, 13.44s/it]"
     ]
    },
    {
     "name": "stderr",
     "output_type": "stream",
     "text": [
      "\r",
      "Epoch 8/25 - Validation:  14%|█▍        | 19/137 [05:20<36:20, 18.48s/it]"
     ]
    },
    {
     "name": "stderr",
     "output_type": "stream",
     "text": [
      "\r",
      "Epoch 8/25 - Validation:  15%|█▍        | 20/137 [05:21<25:53, 13.28s/it]"
     ]
    },
    {
     "name": "stderr",
     "output_type": "stream",
     "text": [
      "\r",
      "Epoch 8/25 - Validation:  15%|█▌        | 21/137 [05:52<35:48, 18.52s/it]"
     ]
    },
    {
     "name": "stderr",
     "output_type": "stream",
     "text": [
      "\r",
      "Epoch 8/25 - Validation:  16%|█▌        | 22/137 [05:53<25:28, 13.29s/it]"
     ]
    },
    {
     "name": "stderr",
     "output_type": "stream",
     "text": [
      "\r",
      "Epoch 8/25 - Validation:  17%|█▋        | 23/137 [06:24<35:36, 18.74s/it]"
     ]
    },
    {
     "name": "stderr",
     "output_type": "stream",
     "text": [
      "\r",
      "Epoch 8/25 - Validation:  18%|█▊        | 24/137 [06:25<25:15, 13.41s/it]"
     ]
    },
    {
     "name": "stderr",
     "output_type": "stream",
     "text": [
      "\r",
      "Epoch 8/25 - Validation:  18%|█▊        | 25/137 [06:57<35:28, 19.01s/it]"
     ]
    },
    {
     "name": "stderr",
     "output_type": "stream",
     "text": [
      "\r",
      "Epoch 8/25 - Validation:  19%|█▉        | 26/137 [06:57<24:47, 13.40s/it]"
     ]
    },
    {
     "name": "stderr",
     "output_type": "stream",
     "text": [
      "\r",
      "Epoch 8/25 - Validation:  20%|█▉        | 27/137 [07:28<34:06, 18.60s/it]"
     ]
    },
    {
     "name": "stderr",
     "output_type": "stream",
     "text": [
      "\r",
      "Epoch 8/25 - Validation:  20%|██        | 28/137 [07:29<23:56, 13.18s/it]"
     ]
    },
    {
     "name": "stderr",
     "output_type": "stream",
     "text": [
      "\r",
      "Epoch 8/25 - Validation:  21%|██        | 29/137 [08:00<33:25, 18.57s/it]"
     ]
    },
    {
     "name": "stderr",
     "output_type": "stream",
     "text": [
      "\r",
      "Epoch 8/25 - Validation:  22%|██▏       | 30/137 [08:01<23:37, 13.25s/it]"
     ]
    },
    {
     "name": "stderr",
     "output_type": "stream",
     "text": [
      "\r",
      "Epoch 8/25 - Validation:  23%|██▎       | 31/137 [08:32<33:12, 18.79s/it]"
     ]
    },
    {
     "name": "stderr",
     "output_type": "stream",
     "text": [
      "\r",
      "Epoch 8/25 - Validation:  23%|██▎       | 32/137 [08:33<23:11, 13.25s/it]"
     ]
    },
    {
     "name": "stderr",
     "output_type": "stream",
     "text": [
      "\r",
      "Epoch 8/25 - Validation:  24%|██▍       | 33/137 [09:05<32:43, 18.88s/it]"
     ]
    },
    {
     "name": "stderr",
     "output_type": "stream",
     "text": [
      "\r",
      "Epoch 8/25 - Validation:  25%|██▍       | 34/137 [09:05<22:50, 13.31s/it]"
     ]
    },
    {
     "name": "stderr",
     "output_type": "stream",
     "text": [
      "\r",
      "Epoch 8/25 - Validation:  26%|██▌       | 35/137 [09:37<32:07, 18.90s/it]"
     ]
    },
    {
     "name": "stderr",
     "output_type": "stream",
     "text": [
      "\r",
      "Epoch 8/25 - Validation:  26%|██▋       | 36/137 [09:37<22:25, 13.32s/it]"
     ]
    },
    {
     "name": "stderr",
     "output_type": "stream",
     "text": [
      "\r",
      "Epoch 8/25 - Validation:  27%|██▋       | 37/137 [10:10<32:00, 19.20s/it]"
     ]
    },
    {
     "name": "stderr",
     "output_type": "stream",
     "text": [
      "\r",
      "Epoch 8/25 - Validation:  28%|██▊       | 38/137 [10:11<22:19, 13.53s/it]"
     ]
    },
    {
     "name": "stderr",
     "output_type": "stream",
     "text": [
      "\r",
      "Epoch 8/25 - Validation:  28%|██▊       | 39/137 [10:42<31:05, 19.03s/it]"
     ]
    },
    {
     "name": "stderr",
     "output_type": "stream",
     "text": [
      "\r",
      "Epoch 8/25 - Validation:  29%|██▉       | 40/137 [10:43<21:41, 13.41s/it]"
     ]
    },
    {
     "name": "stderr",
     "output_type": "stream",
     "text": [
      "\r",
      "Epoch 8/25 - Validation:  30%|██▉       | 41/137 [11:16<30:56, 19.34s/it]"
     ]
    },
    {
     "name": "stderr",
     "output_type": "stream",
     "text": [
      "\r",
      "Epoch 8/25 - Validation:  31%|███       | 42/137 [11:16<21:34, 13.63s/it]"
     ]
    },
    {
     "name": "stderr",
     "output_type": "stream",
     "text": [
      "\r",
      "Epoch 8/25 - Validation:  31%|███▏      | 43/137 [11:48<29:45, 18.99s/it]"
     ]
    },
    {
     "name": "stderr",
     "output_type": "stream",
     "text": [
      "\r",
      "Epoch 8/25 - Validation:  32%|███▏      | 44/137 [11:48<20:44, 13.39s/it]"
     ]
    },
    {
     "name": "stderr",
     "output_type": "stream",
     "text": [
      "\r",
      "Epoch 8/25 - Validation:  33%|███▎      | 45/137 [12:19<28:30, 18.59s/it]"
     ]
    },
    {
     "name": "stderr",
     "output_type": "stream",
     "text": [
      "\r",
      "Epoch 8/25 - Validation:  34%|███▎      | 46/137 [12:19<19:52, 13.11s/it]"
     ]
    },
    {
     "name": "stderr",
     "output_type": "stream",
     "text": [
      "\r",
      "Epoch 8/25 - Validation:  34%|███▍      | 47/137 [12:52<28:25, 18.95s/it]"
     ]
    },
    {
     "name": "stderr",
     "output_type": "stream",
     "text": [
      "\r",
      "Epoch 8/25 - Validation:  35%|███▌      | 48/137 [12:52<19:48, 13.36s/it]"
     ]
    },
    {
     "name": "stderr",
     "output_type": "stream",
     "text": [
      "\r",
      "Epoch 8/25 - Validation:  36%|███▌      | 49/137 [13:24<27:43, 18.90s/it]"
     ]
    },
    {
     "name": "stderr",
     "output_type": "stream",
     "text": [
      "\r",
      "Epoch 8/25 - Validation:  36%|███▋      | 50/137 [13:24<19:19, 13.32s/it]"
     ]
    },
    {
     "name": "stderr",
     "output_type": "stream",
     "text": [
      "\r",
      "Epoch 8/25 - Validation:  37%|███▋      | 51/137 [13:55<26:49, 18.72s/it]"
     ]
    },
    {
     "name": "stderr",
     "output_type": "stream",
     "text": [
      "\r",
      "Epoch 8/25 - Validation:  38%|███▊      | 52/137 [13:56<18:41, 13.20s/it]"
     ]
    },
    {
     "name": "stderr",
     "output_type": "stream",
     "text": [
      "\r",
      "Epoch 8/25 - Validation:  39%|███▊      | 53/137 [14:28<26:18, 18.79s/it]"
     ]
    },
    {
     "name": "stderr",
     "output_type": "stream",
     "text": [
      "\r",
      "Epoch 8/25 - Validation:  39%|███▉      | 54/137 [14:28<18:19, 13.25s/it]"
     ]
    },
    {
     "name": "stderr",
     "output_type": "stream",
     "text": [
      "\r",
      "Epoch 8/25 - Validation:  40%|████      | 55/137 [14:59<25:31, 18.67s/it]"
     ]
    },
    {
     "name": "stderr",
     "output_type": "stream",
     "text": [
      "\r",
      "Epoch 8/25 - Validation:  41%|████      | 56/137 [15:00<17:46, 13.16s/it]"
     ]
    },
    {
     "name": "stderr",
     "output_type": "stream",
     "text": [
      "\r",
      "Epoch 8/25 - Validation:  42%|████▏     | 57/137 [15:31<25:00, 18.76s/it]"
     ]
    },
    {
     "name": "stderr",
     "output_type": "stream",
     "text": [
      "\r",
      "Epoch 8/25 - Validation:  42%|████▏     | 58/137 [15:32<17:24, 13.22s/it]"
     ]
    },
    {
     "name": "stderr",
     "output_type": "stream",
     "text": [
      "\r",
      "Epoch 8/25 - Validation:  43%|████▎     | 59/137 [16:04<24:33, 18.88s/it]"
     ]
    },
    {
     "name": "stderr",
     "output_type": "stream",
     "text": [
      "\r",
      "Epoch 8/25 - Validation:  44%|████▍     | 60/137 [16:04<17:05, 13.31s/it]"
     ]
    },
    {
     "name": "stderr",
     "output_type": "stream",
     "text": [
      "\r",
      "Epoch 8/25 - Validation:  45%|████▍     | 61/137 [16:36<23:49, 18.81s/it]"
     ]
    },
    {
     "name": "stderr",
     "output_type": "stream",
     "text": [
      "\r",
      "Epoch 8/25 - Validation:  45%|████▌     | 62/137 [16:36<16:34, 13.26s/it]"
     ]
    },
    {
     "name": "stderr",
     "output_type": "stream",
     "text": [
      "\r",
      "Epoch 8/25 - Validation:  46%|████▌     | 63/137 [17:08<23:20, 18.92s/it]"
     ]
    },
    {
     "name": "stderr",
     "output_type": "stream",
     "text": [
      "\r",
      "Epoch 8/25 - Validation:  47%|████▋     | 64/137 [17:08<16:13, 13.34s/it]"
     ]
    },
    {
     "name": "stderr",
     "output_type": "stream",
     "text": [
      "\r",
      "Epoch 8/25 - Validation:  47%|████▋     | 65/137 [17:41<22:48, 19.01s/it]"
     ]
    },
    {
     "name": "stderr",
     "output_type": "stream",
     "text": [
      "\r",
      "Epoch 8/25 - Validation:  48%|████▊     | 66/137 [17:41<15:51, 13.40s/it]"
     ]
    },
    {
     "name": "stderr",
     "output_type": "stream",
     "text": [
      "\r",
      "Epoch 8/25 - Validation:  49%|████▉     | 67/137 [18:13<22:10, 19.01s/it]"
     ]
    },
    {
     "name": "stderr",
     "output_type": "stream",
     "text": [
      "\r",
      "Epoch 8/25 - Validation:  50%|████▉     | 68/137 [18:13<15:24, 13.40s/it]"
     ]
    },
    {
     "name": "stderr",
     "output_type": "stream",
     "text": [
      "\r",
      "Epoch 8/25 - Validation:  50%|█████     | 69/137 [18:46<21:34, 19.03s/it]"
     ]
    },
    {
     "name": "stderr",
     "output_type": "stream",
     "text": [
      "\r",
      "Epoch 8/25 - Validation:  51%|█████     | 70/137 [18:46<14:58, 13.42s/it]"
     ]
    },
    {
     "name": "stderr",
     "output_type": "stream",
     "text": [
      "\r",
      "Epoch 8/25 - Validation:  52%|█████▏    | 71/137 [19:16<20:25, 18.56s/it]"
     ]
    },
    {
     "name": "stderr",
     "output_type": "stream",
     "text": [
      "\r",
      "Epoch 8/25 - Validation:  53%|█████▎    | 72/137 [19:17<14:10, 13.09s/it]"
     ]
    },
    {
     "name": "stderr",
     "output_type": "stream",
     "text": [
      "\r",
      "Epoch 8/25 - Validation:  53%|█████▎    | 73/137 [19:49<20:02, 18.79s/it]"
     ]
    },
    {
     "name": "stderr",
     "output_type": "stream",
     "text": [
      "\r",
      "Epoch 8/25 - Validation:  54%|█████▍    | 74/137 [19:49<13:54, 13.25s/it]"
     ]
    },
    {
     "name": "stderr",
     "output_type": "stream",
     "text": [
      "\r",
      "Epoch 8/25 - Validation:  55%|█████▍    | 75/137 [20:21<19:23, 18.76s/it]"
     ]
    },
    {
     "name": "stderr",
     "output_type": "stream",
     "text": [
      "\r",
      "Epoch 8/25 - Validation:  55%|█████▌    | 76/137 [20:21<13:26, 13.23s/it]"
     ]
    },
    {
     "name": "stderr",
     "output_type": "stream",
     "text": [
      "\r",
      "Epoch 8/25 - Validation:  56%|█████▌    | 77/137 [20:53<18:54, 18.91s/it]"
     ]
    },
    {
     "name": "stderr",
     "output_type": "stream",
     "text": [
      "\r",
      "Epoch 8/25 - Validation:  57%|█████▋    | 78/137 [20:54<13:06, 13.33s/it]"
     ]
    },
    {
     "name": "stderr",
     "output_type": "stream",
     "text": [
      "\r",
      "Epoch 8/25 - Validation:  58%|█████▊    | 79/137 [21:25<18:15, 18.89s/it]"
     ]
    },
    {
     "name": "stderr",
     "output_type": "stream",
     "text": [
      "\r",
      "Epoch 8/25 - Validation:  58%|█████▊    | 80/137 [21:26<12:38, 13.31s/it]"
     ]
    },
    {
     "name": "stderr",
     "output_type": "stream",
     "text": [
      "\r",
      "Epoch 8/25 - Validation:  59%|█████▉    | 81/137 [21:58<17:39, 18.93s/it]"
     ]
    },
    {
     "name": "stderr",
     "output_type": "stream",
     "text": [
      "\r",
      "Epoch 8/25 - Validation:  60%|█████▉    | 82/137 [21:58<12:13, 13.34s/it]"
     ]
    },
    {
     "name": "stderr",
     "output_type": "stream",
     "text": [
      "\r",
      "Epoch 8/25 - Validation:  61%|██████    | 83/137 [22:30<17:09, 19.06s/it]"
     ]
    },
    {
     "name": "stderr",
     "output_type": "stream",
     "text": [
      "\r",
      "Epoch 8/25 - Validation:  61%|██████▏   | 84/137 [22:31<11:51, 13.43s/it]"
     ]
    },
    {
     "name": "stderr",
     "output_type": "stream",
     "text": [
      "\r",
      "Epoch 8/25 - Validation:  62%|██████▏   | 85/137 [23:03<16:32, 19.09s/it]"
     ]
    },
    {
     "name": "stderr",
     "output_type": "stream",
     "text": [
      "\r",
      "Epoch 8/25 - Validation:  63%|██████▎   | 86/137 [23:03<11:26, 13.45s/it]"
     ]
    },
    {
     "name": "stderr",
     "output_type": "stream",
     "text": [
      "\r",
      "Epoch 8/25 - Validation:  64%|██████▎   | 87/137 [23:34<15:34, 18.69s/it]"
     ]
    },
    {
     "name": "stderr",
     "output_type": "stream",
     "text": [
      "\r",
      "Epoch 8/25 - Validation:  64%|██████▍   | 88/137 [23:35<10:45, 13.18s/it]"
     ]
    },
    {
     "name": "stderr",
     "output_type": "stream",
     "text": [
      "\r",
      "Epoch 8/25 - Validation:  65%|██████▍   | 89/137 [24:06<14:53, 18.62s/it]"
     ]
    },
    {
     "name": "stderr",
     "output_type": "stream",
     "text": [
      "\r",
      "Epoch 8/25 - Validation:  66%|██████▌   | 90/137 [24:06<10:16, 13.12s/it]"
     ]
    },
    {
     "name": "stderr",
     "output_type": "stream",
     "text": [
      "\r",
      "Epoch 8/25 - Validation:  66%|██████▋   | 91/137 [24:39<14:29, 18.89s/it]"
     ]
    },
    {
     "name": "stderr",
     "output_type": "stream",
     "text": [
      "\r",
      "Epoch 8/25 - Validation:  67%|██████▋   | 92/137 [24:39<09:59, 13.32s/it]"
     ]
    },
    {
     "name": "stderr",
     "output_type": "stream",
     "text": [
      "\r",
      "Epoch 8/25 - Validation:  68%|██████▊   | 93/137 [25:11<13:52, 18.92s/it]"
     ]
    },
    {
     "name": "stderr",
     "output_type": "stream",
     "text": [
      "\r",
      "Epoch 8/25 - Validation:  69%|██████▊   | 94/137 [25:11<09:33, 13.34s/it]"
     ]
    },
    {
     "name": "stderr",
     "output_type": "stream",
     "text": [
      "\r",
      "Epoch 8/25 - Validation:  69%|██████▉   | 95/137 [25:42<12:54, 18.43s/it]"
     ]
    },
    {
     "name": "stderr",
     "output_type": "stream",
     "text": [
      "\r",
      "Epoch 8/25 - Validation:  70%|███████   | 96/137 [25:42<08:52, 13.00s/it]"
     ]
    },
    {
     "name": "stderr",
     "output_type": "stream",
     "text": [
      "\r",
      "Epoch 8/25 - Validation:  71%|███████   | 97/137 [26:15<12:37, 18.94s/it]"
     ]
    },
    {
     "name": "stderr",
     "output_type": "stream",
     "text": [
      "\r",
      "Epoch 8/25 - Validation:  72%|███████▏  | 98/137 [26:15<08:40, 13.36s/it]"
     ]
    },
    {
     "name": "stderr",
     "output_type": "stream",
     "text": [
      "\r",
      "Epoch 8/25 - Validation:  72%|███████▏  | 99/137 [26:45<11:43, 18.51s/it]"
     ]
    },
    {
     "name": "stderr",
     "output_type": "stream",
     "text": [
      "\r",
      "Epoch 8/25 - Validation:  73%|███████▎  | 100/137 [26:46<08:02, 13.05s/it]"
     ]
    },
    {
     "name": "stderr",
     "output_type": "stream",
     "text": [
      "\r",
      "Epoch 8/25 - Validation:  74%|███████▎  | 101/137 [27:18<11:12, 18.68s/it]"
     ]
    },
    {
     "name": "stderr",
     "output_type": "stream",
     "text": [
      "\r",
      "Epoch 8/25 - Validation:  74%|███████▍  | 102/137 [27:18<07:40, 13.17s/it]"
     ]
    },
    {
     "name": "stderr",
     "output_type": "stream",
     "text": [
      "\r",
      "Epoch 8/25 - Validation:  75%|███████▌  | 103/137 [27:49<10:29, 18.52s/it]"
     ]
    },
    {
     "name": "stderr",
     "output_type": "stream",
     "text": [
      "\r",
      "Epoch 8/25 - Validation:  76%|███████▌  | 104/137 [27:49<07:10, 13.05s/it]"
     ]
    },
    {
     "name": "stderr",
     "output_type": "stream",
     "text": [
      "\r",
      "Epoch 8/25 - Validation:  77%|███████▋  | 105/137 [28:21<10:00, 18.78s/it]"
     ]
    },
    {
     "name": "stderr",
     "output_type": "stream",
     "text": [
      "\r",
      "Epoch 8/25 - Validation:  77%|███████▋  | 106/137 [28:22<06:50, 13.24s/it]"
     ]
    },
    {
     "name": "stderr",
     "output_type": "stream",
     "text": [
      "\r",
      "Epoch 8/25 - Validation:  78%|███████▊  | 107/137 [28:53<09:18, 18.60s/it]"
     ]
    },
    {
     "name": "stderr",
     "output_type": "stream",
     "text": [
      "\r",
      "Epoch 8/25 - Validation:  79%|███████▉  | 108/137 [28:53<06:20, 13.11s/it]"
     ]
    },
    {
     "name": "stderr",
     "output_type": "stream",
     "text": [
      "\r",
      "Epoch 8/25 - Validation:  80%|███████▉  | 109/137 [29:24<08:37, 18.48s/it]"
     ]
    },
    {
     "name": "stderr",
     "output_type": "stream",
     "text": [
      "\r",
      "Epoch 8/25 - Validation:  80%|████████  | 110/137 [29:24<05:51, 13.03s/it]"
     ]
    },
    {
     "name": "stderr",
     "output_type": "stream",
     "text": [
      "\r",
      "Epoch 8/25 - Validation:  81%|████████  | 111/137 [29:57<08:12, 18.95s/it]"
     ]
    },
    {
     "name": "stderr",
     "output_type": "stream",
     "text": [
      "\r",
      "Epoch 8/25 - Validation:  82%|████████▏ | 112/137 [29:57<05:33, 13.36s/it]"
     ]
    },
    {
     "name": "stderr",
     "output_type": "stream",
     "text": [
      "\r",
      "Epoch 8/25 - Validation:  82%|████████▏ | 113/137 [30:30<07:38, 19.11s/it]"
     ]
    },
    {
     "name": "stderr",
     "output_type": "stream",
     "text": [
      "\r",
      "Epoch 8/25 - Validation:  83%|████████▎ | 114/137 [30:30<05:09, 13.47s/it]"
     ]
    },
    {
     "name": "stderr",
     "output_type": "stream",
     "text": [
      "\r",
      "Epoch 8/25 - Validation:  84%|████████▍ | 115/137 [31:02<06:54, 18.86s/it]"
     ]
    },
    {
     "name": "stderr",
     "output_type": "stream",
     "text": [
      "\r",
      "Epoch 8/25 - Validation:  85%|████████▍ | 116/137 [31:02<04:39, 13.30s/it]"
     ]
    },
    {
     "name": "stderr",
     "output_type": "stream",
     "text": [
      "\r",
      "Epoch 8/25 - Validation:  85%|████████▌ | 117/137 [31:34<06:14, 18.73s/it]"
     ]
    },
    {
     "name": "stderr",
     "output_type": "stream",
     "text": [
      "\r",
      "Epoch 8/25 - Validation:  86%|████████▌ | 118/137 [31:34<04:10, 13.21s/it]"
     ]
    },
    {
     "name": "stderr",
     "output_type": "stream",
     "text": [
      "\r",
      "Epoch 8/25 - Validation:  87%|████████▋ | 119/137 [32:06<05:39, 18.84s/it]"
     ]
    },
    {
     "name": "stderr",
     "output_type": "stream",
     "text": [
      "\r",
      "Epoch 8/25 - Validation:  88%|████████▊ | 120/137 [32:06<03:45, 13.28s/it]"
     ]
    },
    {
     "name": "stderr",
     "output_type": "stream",
     "text": [
      "\r",
      "Epoch 8/25 - Validation:  88%|████████▊ | 121/137 [32:38<05:01, 18.86s/it]"
     ]
    },
    {
     "name": "stderr",
     "output_type": "stream",
     "text": [
      "\r",
      "Epoch 8/25 - Validation:  89%|████████▉ | 122/137 [32:38<03:19, 13.30s/it]"
     ]
    },
    {
     "name": "stderr",
     "output_type": "stream",
     "text": [
      "\r",
      "Epoch 8/25 - Validation:  90%|████████▉ | 123/137 [33:10<04:22, 18.74s/it]"
     ]
    },
    {
     "name": "stderr",
     "output_type": "stream",
     "text": [
      "\r",
      "Epoch 8/25 - Validation:  91%|█████████ | 124/137 [33:10<02:51, 13.21s/it]"
     ]
    },
    {
     "name": "stderr",
     "output_type": "stream",
     "text": [
      "\r",
      "Epoch 8/25 - Validation:  91%|█████████ | 125/137 [33:42<03:45, 18.79s/it]"
     ]
    },
    {
     "name": "stderr",
     "output_type": "stream",
     "text": [
      "\r",
      "Epoch 8/25 - Validation:  92%|█████████▏| 126/137 [33:42<02:25, 13.25s/it]"
     ]
    },
    {
     "name": "stderr",
     "output_type": "stream",
     "text": [
      "\r",
      "Epoch 8/25 - Validation:  93%|█████████▎| 127/137 [34:13<03:04, 18.45s/it]"
     ]
    },
    {
     "name": "stderr",
     "output_type": "stream",
     "text": [
      "\r",
      "Epoch 8/25 - Validation:  93%|█████████▎| 128/137 [34:13<01:57, 13.01s/it]"
     ]
    },
    {
     "name": "stderr",
     "output_type": "stream",
     "text": [
      "\r",
      "Epoch 8/25 - Validation:  94%|█████████▍| 129/137 [34:45<02:29, 18.75s/it]"
     ]
    },
    {
     "name": "stderr",
     "output_type": "stream",
     "text": [
      "\r",
      "Epoch 8/25 - Validation:  95%|█████████▍| 130/137 [34:46<01:32, 13.22s/it]"
     ]
    },
    {
     "name": "stderr",
     "output_type": "stream",
     "text": [
      "\r",
      "Epoch 8/25 - Validation:  96%|█████████▌| 131/137 [35:18<01:53, 18.84s/it]"
     ]
    },
    {
     "name": "stderr",
     "output_type": "stream",
     "text": [
      "\r",
      "Epoch 8/25 - Validation:  96%|█████████▋| 132/137 [35:18<01:06, 13.28s/it]"
     ]
    },
    {
     "name": "stderr",
     "output_type": "stream",
     "text": [
      "\r",
      "Epoch 8/25 - Validation:  97%|█████████▋| 133/137 [35:49<01:14, 18.70s/it]"
     ]
    },
    {
     "name": "stderr",
     "output_type": "stream",
     "text": [
      "\r",
      "Epoch 8/25 - Validation:  98%|█████████▊| 134/137 [35:49<00:39, 13.18s/it]"
     ]
    },
    {
     "name": "stderr",
     "output_type": "stream",
     "text": [
      "\r",
      "Epoch 8/25 - Validation:  99%|█████████▊| 135/137 [36:21<00:37, 18.71s/it]"
     ]
    },
    {
     "name": "stderr",
     "output_type": "stream",
     "text": [
      "\r",
      "Epoch 8/25 - Validation:  99%|█████████▉| 136/137 [36:21<00:13, 13.19s/it]"
     ]
    },
    {
     "name": "stderr",
     "output_type": "stream",
     "text": [
      "\r",
      "Epoch 8/25 - Validation: 100%|██████████| 137/137 [36:33<00:00, 12.58s/it]"
     ]
    },
    {
     "name": "stderr",
     "output_type": "stream",
     "text": [
      "\r",
      "Epoch 8/25 - Validation: 100%|██████████| 137/137 [36:33<00:00, 16.01s/it]"
     ]
    },
    {
     "name": "stderr",
     "output_type": "stream",
     "text": [
      "\n"
     ]
    },
    {
     "name": "stdout",
     "output_type": "stream",
     "text": [
      "Epoch 8/25:\n",
      "Train Loss: 1.0900, Train Acc: 0.4290\n",
      "Val Loss: 1.0915, Val Acc: 0.4500\n"
     ]
    },
    {
     "name": "stderr",
     "output_type": "stream",
     "text": [
      "\r",
      "Epoch 9/25 - Training:   0%|          | 0/137 [00:00<?, ?it/s]"
     ]
    },
    {
     "name": "stderr",
     "output_type": "stream",
     "text": [
      "\r",
      "Epoch 9/25 - Training:   1%|          | 1/137 [00:33<1:15:51, 33.47s/it]"
     ]
    },
    {
     "name": "stderr",
     "output_type": "stream",
     "text": [
      "\r",
      "Epoch 9/25 - Training:   1%|▏         | 2/137 [00:34<32:41, 14.53s/it]  "
     ]
    },
    {
     "name": "stderr",
     "output_type": "stream",
     "text": [
      "\r",
      "Epoch 9/25 - Training:   2%|▏         | 3/137 [01:05<48:50, 21.87s/it]"
     ]
    },
    {
     "name": "stderr",
     "output_type": "stream",
     "text": [
      "\r",
      "Epoch 9/25 - Training:   3%|▎         | 4/137 [01:07<31:38, 14.27s/it]"
     ]
    },
    {
     "name": "stderr",
     "output_type": "stream",
     "text": [
      "\r",
      "Epoch 9/25 - Training:   4%|▎         | 5/137 [01:38<44:15, 20.12s/it]"
     ]
    },
    {
     "name": "stderr",
     "output_type": "stream",
     "text": [
      "\r",
      "Epoch 9/25 - Training:   4%|▍         | 6/137 [01:40<30:32, 13.99s/it]"
     ]
    },
    {
     "name": "stderr",
     "output_type": "stream",
     "text": [
      "\r",
      "Epoch 9/25 - Training:   5%|▌         | 7/137 [02:12<42:42, 19.71s/it]"
     ]
    },
    {
     "name": "stderr",
     "output_type": "stream",
     "text": [
      "\r",
      "Epoch 9/25 - Training:   6%|▌         | 8/137 [02:12<29:30, 13.73s/it]"
     ]
    },
    {
     "name": "stderr",
     "output_type": "stream",
     "text": [
      "\r",
      "Epoch 9/25 - Training:   7%|▋         | 9/137 [02:45<41:33, 19.48s/it]"
     ]
    },
    {
     "name": "stderr",
     "output_type": "stream",
     "text": [
      "\r",
      "Epoch 9/25 - Training:   7%|▋         | 10/137 [02:45<29:05, 13.75s/it]"
     ]
    },
    {
     "name": "stderr",
     "output_type": "stream",
     "text": [
      "\r",
      "Epoch 9/25 - Training:   8%|▊         | 11/137 [03:09<34:56, 16.64s/it]"
     ]
    },
    {
     "name": "stderr",
     "output_type": "stream",
     "text": [
      "\r",
      "Epoch 9/25 - Training:   9%|▉         | 12/137 [03:18<29:43, 14.27s/it]"
     ]
    },
    {
     "name": "stderr",
     "output_type": "stream",
     "text": [
      "\r",
      "Epoch 9/25 - Training:   9%|▉         | 13/137 [03:33<30:13, 14.63s/it]"
     ]
    },
    {
     "name": "stderr",
     "output_type": "stream",
     "text": [
      "\r",
      "Epoch 9/25 - Training:  10%|█         | 14/137 [03:46<29:04, 14.18s/it]"
     ]
    },
    {
     "name": "stderr",
     "output_type": "stream",
     "text": [
      "\r",
      "Epoch 9/25 - Training:  11%|█         | 15/137 [04:02<29:45, 14.64s/it]"
     ]
    },
    {
     "name": "stderr",
     "output_type": "stream",
     "text": [
      "\r",
      "Epoch 9/25 - Training:  12%|█▏        | 16/137 [04:14<28:11, 13.98s/it]"
     ]
    },
    {
     "name": "stderr",
     "output_type": "stream",
     "text": [
      "\r",
      "Epoch 9/25 - Training:  12%|█▏        | 17/137 [04:34<31:17, 15.64s/it]"
     ]
    },
    {
     "name": "stderr",
     "output_type": "stream",
     "text": [
      "\r",
      "Epoch 9/25 - Training:  13%|█▎        | 18/137 [04:48<30:17, 15.27s/it]"
     ]
    },
    {
     "name": "stderr",
     "output_type": "stream",
     "text": [
      "\r",
      "Epoch 9/25 - Training:  14%|█▍        | 19/137 [05:02<29:22, 14.94s/it]"
     ]
    },
    {
     "name": "stderr",
     "output_type": "stream",
     "text": [
      "\r",
      "Epoch 9/25 - Training:  15%|█▍        | 20/137 [05:17<28:49, 14.78s/it]"
     ]
    },
    {
     "name": "stderr",
     "output_type": "stream",
     "text": [
      "\r",
      "Epoch 9/25 - Training:  15%|█▌        | 21/137 [05:34<30:11, 15.62s/it]"
     ]
    },
    {
     "name": "stderr",
     "output_type": "stream",
     "text": [
      "\r",
      "Epoch 9/25 - Training:  16%|█▌        | 22/137 [05:50<30:07, 15.71s/it]"
     ]
    },
    {
     "name": "stderr",
     "output_type": "stream",
     "text": [
      "\r",
      "Epoch 9/25 - Training:  17%|█▋        | 23/137 [06:07<30:22, 15.98s/it]"
     ]
    },
    {
     "name": "stderr",
     "output_type": "stream",
     "text": [
      "\r",
      "Epoch 9/25 - Training:  18%|█▊        | 24/137 [06:23<29:54, 15.88s/it]"
     ]
    },
    {
     "name": "stderr",
     "output_type": "stream",
     "text": [
      "\r",
      "Epoch 9/25 - Training:  18%|█▊        | 25/137 [06:39<30:03, 16.10s/it]"
     ]
    },
    {
     "name": "stderr",
     "output_type": "stream",
     "text": [
      "\r",
      "Epoch 9/25 - Training:  19%|█▉        | 26/137 [06:56<29:56, 16.18s/it]"
     ]
    },
    {
     "name": "stderr",
     "output_type": "stream",
     "text": [
      "\r",
      "Epoch 9/25 - Training:  20%|█▉        | 27/137 [07:12<29:51, 16.29s/it]"
     ]
    },
    {
     "name": "stderr",
     "output_type": "stream",
     "text": [
      "\r",
      "Epoch 9/25 - Training:  20%|██        | 28/137 [07:24<27:17, 15.02s/it]"
     ]
    },
    {
     "name": "stderr",
     "output_type": "stream",
     "text": [
      "\r",
      "Epoch 9/25 - Training:  21%|██        | 29/137 [07:45<30:03, 16.70s/it]"
     ]
    },
    {
     "name": "stderr",
     "output_type": "stream",
     "text": [
      "\r",
      "Epoch 9/25 - Training:  22%|██▏       | 30/137 [07:53<25:02, 14.04s/it]"
     ]
    },
    {
     "name": "stderr",
     "output_type": "stream",
     "text": [
      "\r",
      "Epoch 9/25 - Training:  23%|██▎       | 31/137 [08:13<28:08, 15.93s/it]"
     ]
    },
    {
     "name": "stderr",
     "output_type": "stream",
     "text": [
      "\r",
      "Epoch 9/25 - Training:  23%|██▎       | 32/137 [08:25<25:57, 14.84s/it]"
     ]
    },
    {
     "name": "stderr",
     "output_type": "stream",
     "text": [
      "\r",
      "Epoch 9/25 - Training:  24%|██▍       | 33/137 [08:38<24:38, 14.22s/it]"
     ]
    },
    {
     "name": "stderr",
     "output_type": "stream",
     "text": [
      "\r",
      "Epoch 9/25 - Training:  25%|██▍       | 34/137 [08:57<26:54, 15.68s/it]"
     ]
    },
    {
     "name": "stderr",
     "output_type": "stream",
     "text": [
      "\r",
      "Epoch 9/25 - Training:  26%|██▌       | 35/137 [09:11<25:47, 15.17s/it]"
     ]
    },
    {
     "name": "stderr",
     "output_type": "stream",
     "text": [
      "\r",
      "Epoch 9/25 - Training:  26%|██▋       | 36/137 [09:29<26:59, 16.04s/it]"
     ]
    },
    {
     "name": "stderr",
     "output_type": "stream",
     "text": [
      "\r",
      "Epoch 9/25 - Training:  27%|██▋       | 37/137 [09:40<24:10, 14.50s/it]"
     ]
    },
    {
     "name": "stderr",
     "output_type": "stream",
     "text": [
      "\r",
      "Epoch 9/25 - Training:  28%|██▊       | 38/137 [10:01<27:17, 16.55s/it]"
     ]
    },
    {
     "name": "stderr",
     "output_type": "stream",
     "text": [
      "\r",
      "Epoch 9/25 - Training:  28%|██▊       | 39/137 [10:12<24:10, 14.80s/it]"
     ]
    },
    {
     "name": "stderr",
     "output_type": "stream",
     "text": [
      "\r",
      "Epoch 9/25 - Training:  29%|██▉       | 40/137 [10:31<25:47, 15.95s/it]"
     ]
    },
    {
     "name": "stderr",
     "output_type": "stream",
     "text": [
      "\r",
      "Epoch 9/25 - Training:  30%|██▉       | 41/137 [10:41<22:35, 14.12s/it]"
     ]
    },
    {
     "name": "stderr",
     "output_type": "stream",
     "text": [
      "\r",
      "Epoch 9/25 - Training:  31%|███       | 42/137 [11:00<24:49, 15.68s/it]"
     ]
    },
    {
     "name": "stderr",
     "output_type": "stream",
     "text": [
      "\r",
      "Epoch 9/25 - Training:  31%|███▏      | 43/137 [11:08<21:12, 13.54s/it]"
     ]
    },
    {
     "name": "stderr",
     "output_type": "stream",
     "text": [
      "\r",
      "Epoch 9/25 - Training:  32%|███▏      | 44/137 [11:24<22:08, 14.28s/it]"
     ]
    },
    {
     "name": "stderr",
     "output_type": "stream",
     "text": [
      "\r",
      "Epoch 9/25 - Training:  33%|███▎      | 45/137 [11:41<22:43, 14.82s/it]"
     ]
    },
    {
     "name": "stderr",
     "output_type": "stream",
     "text": [
      "\r",
      "Epoch 9/25 - Training:  34%|███▎      | 46/137 [11:49<19:45, 13.03s/it]"
     ]
    },
    {
     "name": "stderr",
     "output_type": "stream",
     "text": [
      "\r",
      "Epoch 9/25 - Training:  34%|███▍      | 47/137 [12:09<22:27, 14.97s/it]"
     ]
    },
    {
     "name": "stderr",
     "output_type": "stream",
     "text": [
      "\r",
      "Epoch 9/25 - Training:  35%|███▌      | 48/137 [12:17<19:08, 12.91s/it]"
     ]
    },
    {
     "name": "stderr",
     "output_type": "stream",
     "text": [
      "\r",
      "Epoch 9/25 - Training:  36%|███▌      | 49/137 [12:37<22:16, 15.18s/it]"
     ]
    },
    {
     "name": "stderr",
     "output_type": "stream",
     "text": [
      "\r",
      "Epoch 9/25 - Training:  36%|███▋      | 50/137 [12:41<17:09, 11.83s/it]"
     ]
    },
    {
     "name": "stderr",
     "output_type": "stream",
     "text": [
      "\r",
      "Epoch 9/25 - Training:  37%|███▋      | 51/137 [13:10<24:19, 16.98s/it]"
     ]
    },
    {
     "name": "stderr",
     "output_type": "stream",
     "text": [
      "\r",
      "Epoch 9/25 - Training:  38%|███▊      | 52/137 [13:11<17:13, 12.16s/it]"
     ]
    },
    {
     "name": "stderr",
     "output_type": "stream",
     "text": [
      "\r",
      "Epoch 9/25 - Training:  39%|███▊      | 53/137 [13:35<21:56, 15.68s/it]"
     ]
    },
    {
     "name": "stderr",
     "output_type": "stream",
     "text": [
      "\r",
      "Epoch 9/25 - Training:  39%|███▉      | 54/137 [13:39<16:37, 12.02s/it]"
     ]
    },
    {
     "name": "stderr",
     "output_type": "stream",
     "text": [
      "\r",
      "Epoch 9/25 - Training:  40%|████      | 55/137 [14:08<23:34, 17.24s/it]"
     ]
    },
    {
     "name": "stderr",
     "output_type": "stream",
     "text": [
      "\r",
      "Epoch 9/25 - Training:  41%|████      | 56/137 [14:12<18:02, 13.37s/it]"
     ]
    },
    {
     "name": "stderr",
     "output_type": "stream",
     "text": [
      "\r",
      "Epoch 9/25 - Training:  42%|████▏     | 57/137 [14:39<23:16, 17.46s/it]"
     ]
    },
    {
     "name": "stderr",
     "output_type": "stream",
     "text": [
      "\r",
      "Epoch 9/25 - Training:  42%|████▏     | 58/137 [14:46<18:41, 14.20s/it]"
     ]
    },
    {
     "name": "stderr",
     "output_type": "stream",
     "text": [
      "\r",
      "Epoch 9/25 - Training:  43%|████▎     | 59/137 [15:07<21:14, 16.34s/it]"
     ]
    },
    {
     "name": "stderr",
     "output_type": "stream",
     "text": [
      "\r",
      "Epoch 9/25 - Training:  44%|████▍     | 60/137 [15:12<16:16, 12.68s/it]"
     ]
    },
    {
     "name": "stderr",
     "output_type": "stream",
     "text": [
      "\r",
      "Epoch 9/25 - Training:  45%|████▍     | 61/137 [15:36<20:37, 16.29s/it]"
     ]
    },
    {
     "name": "stderr",
     "output_type": "stream",
     "text": [
      "\r",
      "Epoch 9/25 - Training:  45%|████▌     | 62/137 [15:45<17:27, 13.96s/it]"
     ]
    },
    {
     "name": "stderr",
     "output_type": "stream",
     "text": [
      "\r",
      "Epoch 9/25 - Training:  46%|████▌     | 63/137 [16:01<17:53, 14.50s/it]"
     ]
    },
    {
     "name": "stderr",
     "output_type": "stream",
     "text": [
      "\r",
      "Epoch 9/25 - Training:  47%|████▋     | 64/137 [16:17<18:12, 14.96s/it]"
     ]
    },
    {
     "name": "stderr",
     "output_type": "stream",
     "text": [
      "\r",
      "Epoch 9/25 - Training:  47%|████▋     | 65/137 [16:33<18:36, 15.51s/it]"
     ]
    },
    {
     "name": "stderr",
     "output_type": "stream",
     "text": [
      "\r",
      "Epoch 9/25 - Training:  48%|████▊     | 66/137 [16:44<16:45, 14.17s/it]"
     ]
    },
    {
     "name": "stderr",
     "output_type": "stream",
     "text": [
      "\r",
      "Epoch 9/25 - Training:  49%|████▉     | 67/137 [17:06<19:10, 16.43s/it]"
     ]
    },
    {
     "name": "stderr",
     "output_type": "stream",
     "text": [
      "\r",
      "Epoch 9/25 - Training:  50%|████▉     | 68/137 [17:13<15:26, 13.43s/it]"
     ]
    },
    {
     "name": "stderr",
     "output_type": "stream",
     "text": [
      "\r",
      "Epoch 9/25 - Training:  50%|█████     | 69/137 [17:28<15:51, 14.00s/it]"
     ]
    },
    {
     "name": "stderr",
     "output_type": "stream",
     "text": [
      "\r",
      "Epoch 9/25 - Training:  51%|█████     | 70/137 [17:41<15:24, 13.80s/it]"
     ]
    },
    {
     "name": "stderr",
     "output_type": "stream",
     "text": [
      "\r",
      "Epoch 9/25 - Training:  52%|█████▏    | 71/137 [17:52<14:08, 12.86s/it]"
     ]
    },
    {
     "name": "stderr",
     "output_type": "stream",
     "text": [
      "\r",
      "Epoch 9/25 - Training:  53%|█████▎    | 72/137 [18:13<16:44, 15.46s/it]"
     ]
    },
    {
     "name": "stderr",
     "output_type": "stream",
     "text": [
      "\r",
      "Epoch 9/25 - Training:  53%|█████▎    | 73/137 [18:20<13:31, 12.67s/it]"
     ]
    },
    {
     "name": "stderr",
     "output_type": "stream",
     "text": [
      "\r",
      "Epoch 9/25 - Training:  54%|█████▍    | 74/137 [18:39<15:19, 14.60s/it]"
     ]
    },
    {
     "name": "stderr",
     "output_type": "stream",
     "text": [
      "\r",
      "Epoch 9/25 - Training:  55%|█████▍    | 75/137 [18:52<14:36, 14.13s/it]"
     ]
    },
    {
     "name": "stderr",
     "output_type": "stream",
     "text": [
      "\r",
      "Epoch 9/25 - Training:  55%|█████▌    | 76/137 [19:12<16:11, 15.93s/it]"
     ]
    },
    {
     "name": "stderr",
     "output_type": "stream",
     "text": [
      "\r",
      "Epoch 9/25 - Training:  56%|█████▌    | 77/137 [19:20<13:37, 13.63s/it]"
     ]
    },
    {
     "name": "stderr",
     "output_type": "stream",
     "text": [
      "\r",
      "Epoch 9/25 - Training:  57%|█████▋    | 78/137 [19:41<15:31, 15.78s/it]"
     ]
    },
    {
     "name": "stderr",
     "output_type": "stream",
     "text": [
      "\r",
      "Epoch 9/25 - Training:  58%|█████▊    | 79/137 [19:53<14:03, 14.55s/it]"
     ]
    },
    {
     "name": "stderr",
     "output_type": "stream",
     "text": [
      "\r",
      "Epoch 9/25 - Training:  58%|█████▊    | 80/137 [20:10<14:39, 15.44s/it]"
     ]
    },
    {
     "name": "stderr",
     "output_type": "stream",
     "text": [
      "\r",
      "Epoch 9/25 - Training:  59%|█████▉    | 81/137 [20:20<12:56, 13.87s/it]"
     ]
    },
    {
     "name": "stderr",
     "output_type": "stream",
     "text": [
      "\r",
      "Epoch 9/25 - Training:  60%|█████▉    | 82/137 [20:39<13:55, 15.20s/it]"
     ]
    },
    {
     "name": "stderr",
     "output_type": "stream",
     "text": [
      "\r",
      "Epoch 9/25 - Training:  61%|██████    | 83/137 [20:54<13:35, 15.11s/it]"
     ]
    },
    {
     "name": "stderr",
     "output_type": "stream",
     "text": [
      "\r",
      "Epoch 9/25 - Training:  61%|██████▏   | 84/137 [21:10<13:50, 15.67s/it]"
     ]
    },
    {
     "name": "stderr",
     "output_type": "stream",
     "text": [
      "\r",
      "Epoch 9/25 - Training:  62%|██████▏   | 85/137 [21:23<12:38, 14.58s/it]"
     ]
    },
    {
     "name": "stderr",
     "output_type": "stream",
     "text": [
      "\r",
      "Epoch 9/25 - Training:  63%|██████▎   | 86/137 [21:35<11:50, 13.93s/it]"
     ]
    },
    {
     "name": "stderr",
     "output_type": "stream",
     "text": [
      "\r",
      "Epoch 9/25 - Training:  64%|██████▎   | 87/137 [21:51<12:10, 14.60s/it]"
     ]
    },
    {
     "name": "stderr",
     "output_type": "stream",
     "text": [
      "\r",
      "Epoch 9/25 - Training:  64%|██████▍   | 88/137 [22:03<11:11, 13.71s/it]"
     ]
    },
    {
     "name": "stderr",
     "output_type": "stream",
     "text": [
      "\r",
      "Epoch 9/25 - Training:  65%|██████▍   | 89/137 [22:19<11:38, 14.55s/it]"
     ]
    },
    {
     "name": "stderr",
     "output_type": "stream",
     "text": [
      "\r",
      "Epoch 9/25 - Training:  66%|██████▌   | 90/137 [22:32<10:52, 13.88s/it]"
     ]
    },
    {
     "name": "stderr",
     "output_type": "stream",
     "text": [
      "\r",
      "Epoch 9/25 - Training:  66%|██████▋   | 91/137 [22:52<12:05, 15.78s/it]"
     ]
    },
    {
     "name": "stderr",
     "output_type": "stream",
     "text": [
      "\r",
      "Epoch 9/25 - Training:  67%|██████▋   | 92/137 [23:00<10:05, 13.45s/it]"
     ]
    },
    {
     "name": "stderr",
     "output_type": "stream",
     "text": [
      "\r",
      "Epoch 9/25 - Training:  68%|██████▊   | 93/137 [23:20<11:14, 15.33s/it]"
     ]
    },
    {
     "name": "stderr",
     "output_type": "stream",
     "text": [
      "\r",
      "Epoch 9/25 - Training:  69%|██████▊   | 94/137 [23:32<10:22, 14.48s/it]"
     ]
    },
    {
     "name": "stderr",
     "output_type": "stream",
     "text": [
      "\r",
      "Epoch 9/25 - Training:  69%|██████▉   | 95/137 [23:52<11:19, 16.19s/it]"
     ]
    },
    {
     "name": "stderr",
     "output_type": "stream",
     "text": [
      "\r",
      "Epoch 9/25 - Training:  70%|███████   | 96/137 [24:03<10:03, 14.72s/it]"
     ]
    },
    {
     "name": "stderr",
     "output_type": "stream",
     "text": [
      "\r",
      "Epoch 9/25 - Training:  71%|███████   | 97/137 [24:24<10:54, 16.37s/it]"
     ]
    },
    {
     "name": "stderr",
     "output_type": "stream",
     "text": [
      "\r",
      "Epoch 9/25 - Training:  72%|███████▏  | 98/137 [24:36<09:45, 15.00s/it]"
     ]
    },
    {
     "name": "stderr",
     "output_type": "stream",
     "text": [
      "\r",
      "Epoch 9/25 - Training:  72%|███████▏  | 99/137 [24:56<10:31, 16.63s/it]"
     ]
    },
    {
     "name": "stderr",
     "output_type": "stream",
     "text": [
      "\r",
      "Epoch 9/25 - Training:  73%|███████▎  | 100/137 [25:08<09:26, 15.31s/it]"
     ]
    },
    {
     "name": "stderr",
     "output_type": "stream",
     "text": [
      "\r",
      "Epoch 9/25 - Training:  74%|███████▎  | 101/137 [25:27<09:52, 16.47s/it]"
     ]
    },
    {
     "name": "stderr",
     "output_type": "stream",
     "text": [
      "\r",
      "Epoch 9/25 - Training:  74%|███████▍  | 102/137 [25:37<08:20, 14.31s/it]"
     ]
    },
    {
     "name": "stderr",
     "output_type": "stream",
     "text": [
      "\r",
      "Epoch 9/25 - Training:  75%|███████▌  | 103/137 [25:56<09:01, 15.93s/it]"
     ]
    },
    {
     "name": "stderr",
     "output_type": "stream",
     "text": [
      "\r",
      "Epoch 9/25 - Training:  76%|███████▌  | 104/137 [26:10<08:19, 15.13s/it]"
     ]
    },
    {
     "name": "stderr",
     "output_type": "stream",
     "text": [
      "\r",
      "Epoch 9/25 - Training:  77%|███████▋  | 105/137 [26:24<07:58, 14.97s/it]"
     ]
    },
    {
     "name": "stderr",
     "output_type": "stream",
     "text": [
      "\r",
      "Epoch 9/25 - Training:  77%|███████▋  | 106/137 [26:38<07:32, 14.61s/it]"
     ]
    },
    {
     "name": "stderr",
     "output_type": "stream",
     "text": [
      "\r",
      "Epoch 9/25 - Training:  78%|███████▊  | 107/137 [26:52<07:14, 14.47s/it]"
     ]
    },
    {
     "name": "stderr",
     "output_type": "stream",
     "text": [
      "\r",
      "Epoch 9/25 - Training:  79%|███████▉  | 108/137 [27:12<07:43, 15.97s/it]"
     ]
    },
    {
     "name": "stderr",
     "output_type": "stream",
     "text": [
      "\r",
      "Epoch 9/25 - Training:  80%|███████▉  | 109/137 [27:20<06:27, 13.83s/it]"
     ]
    },
    {
     "name": "stderr",
     "output_type": "stream",
     "text": [
      "\r",
      "Epoch 9/25 - Training:  80%|████████  | 110/137 [27:47<07:56, 17.66s/it]"
     ]
    },
    {
     "name": "stderr",
     "output_type": "stream",
     "text": [
      "\r",
      "Epoch 9/25 - Training:  81%|████████  | 111/137 [27:50<05:47, 13.37s/it]"
     ]
    },
    {
     "name": "stderr",
     "output_type": "stream",
     "text": [
      "\r",
      "Epoch 9/25 - Training:  82%|████████▏ | 112/137 [28:19<07:25, 17.82s/it]"
     ]
    },
    {
     "name": "stderr",
     "output_type": "stream",
     "text": [
      "\r",
      "Epoch 9/25 - Training:  82%|████████▏ | 113/137 [28:19<05:05, 12.74s/it]"
     ]
    },
    {
     "name": "stderr",
     "output_type": "stream",
     "text": [
      "\r",
      "Epoch 9/25 - Training:  83%|████████▎ | 114/137 [28:48<06:44, 17.59s/it]"
     ]
    },
    {
     "name": "stderr",
     "output_type": "stream",
     "text": [
      "\r",
      "Epoch 9/25 - Training:  84%|████████▍ | 115/137 [28:51<04:47, 13.07s/it]"
     ]
    },
    {
     "name": "stderr",
     "output_type": "stream",
     "text": [
      "\r",
      "Epoch 9/25 - Training:  85%|████████▍ | 116/137 [29:17<05:57, 17.04s/it]"
     ]
    },
    {
     "name": "stderr",
     "output_type": "stream",
     "text": [
      "\r",
      "Epoch 9/25 - Training:  85%|████████▌ | 117/137 [29:20<04:13, 12.69s/it]"
     ]
    },
    {
     "name": "stderr",
     "output_type": "stream",
     "text": [
      "\r",
      "Epoch 9/25 - Training:  86%|████████▌ | 118/137 [29:45<05:11, 16.41s/it]"
     ]
    },
    {
     "name": "stderr",
     "output_type": "stream",
     "text": [
      "\r",
      "Epoch 9/25 - Training:  87%|████████▋ | 119/137 [29:49<03:46, 12.60s/it]"
     ]
    },
    {
     "name": "stderr",
     "output_type": "stream",
     "text": [
      "\r",
      "Epoch 9/25 - Training:  88%|████████▊ | 120/137 [30:13<04:34, 16.16s/it]"
     ]
    },
    {
     "name": "stderr",
     "output_type": "stream",
     "text": [
      "\r",
      "Epoch 9/25 - Training:  88%|████████▊ | 121/137 [30:14<03:05, 11.58s/it]"
     ]
    },
    {
     "name": "stderr",
     "output_type": "stream",
     "text": [
      "\r",
      "Epoch 9/25 - Training:  89%|████████▉ | 122/137 [30:38<03:49, 15.31s/it]"
     ]
    },
    {
     "name": "stderr",
     "output_type": "stream",
     "text": [
      "\r",
      "Epoch 9/25 - Training:  90%|████████▉ | 123/137 [30:39<02:33, 10.99s/it]"
     ]
    },
    {
     "name": "stderr",
     "output_type": "stream",
     "text": [
      "\r",
      "Epoch 9/25 - Training:  91%|█████████ | 124/137 [31:10<03:42, 17.10s/it]"
     ]
    },
    {
     "name": "stderr",
     "output_type": "stream",
     "text": [
      "\r",
      "Epoch 9/25 - Training:  91%|█████████ | 125/137 [31:11<02:26, 12.24s/it]"
     ]
    },
    {
     "name": "stderr",
     "output_type": "stream",
     "text": [
      "\r",
      "Epoch 9/25 - Training:  92%|█████████▏| 126/137 [31:39<03:05, 16.84s/it]"
     ]
    },
    {
     "name": "stderr",
     "output_type": "stream",
     "text": [
      "\r",
      "Epoch 9/25 - Training:  93%|█████████▎| 127/137 [31:40<02:01, 12.11s/it]"
     ]
    },
    {
     "name": "stderr",
     "output_type": "stream",
     "text": [
      "\r",
      "Epoch 9/25 - Training:  93%|█████████▎| 128/137 [32:11<02:40, 17.79s/it]"
     ]
    },
    {
     "name": "stderr",
     "output_type": "stream",
     "text": [
      "\r",
      "Epoch 9/25 - Training:  94%|█████████▍| 129/137 [32:12<01:41, 12.73s/it]"
     ]
    },
    {
     "name": "stderr",
     "output_type": "stream",
     "text": [
      "\r",
      "Epoch 9/25 - Training:  95%|█████████▍| 130/137 [32:40<02:02, 17.46s/it]"
     ]
    },
    {
     "name": "stderr",
     "output_type": "stream",
     "text": [
      "\r",
      "Epoch 9/25 - Training:  96%|█████████▌| 131/137 [32:41<01:14, 12.49s/it]"
     ]
    },
    {
     "name": "stderr",
     "output_type": "stream",
     "text": [
      "\r",
      "Epoch 9/25 - Training:  96%|█████████▋| 132/137 [33:08<01:23, 16.79s/it]"
     ]
    },
    {
     "name": "stderr",
     "output_type": "stream",
     "text": [
      "\r",
      "Epoch 9/25 - Training:  97%|█████████▋| 133/137 [33:09<00:48, 12.02s/it]"
     ]
    },
    {
     "name": "stderr",
     "output_type": "stream",
     "text": [
      "\r",
      "Epoch 9/25 - Training:  98%|█████████▊| 134/137 [33:37<00:50, 16.78s/it]"
     ]
    },
    {
     "name": "stderr",
     "output_type": "stream",
     "text": [
      "\r",
      "Epoch 9/25 - Training:  99%|█████████▊| 135/137 [33:38<00:24, 12.02s/it]"
     ]
    },
    {
     "name": "stderr",
     "output_type": "stream",
     "text": [
      "\r",
      "Epoch 9/25 - Training:  99%|█████████▉| 136/137 [34:08<00:17, 17.65s/it]"
     ]
    },
    {
     "name": "stderr",
     "output_type": "stream",
     "text": [
      "\r",
      "Epoch 9/25 - Training: 100%|██████████| 137/137 [34:09<00:00, 12.45s/it]"
     ]
    },
    {
     "name": "stderr",
     "output_type": "stream",
     "text": [
      "\r",
      "Epoch 9/25 - Training: 100%|██████████| 137/137 [34:09<00:00, 14.96s/it]"
     ]
    },
    {
     "name": "stderr",
     "output_type": "stream",
     "text": [
      "\n"
     ]
    },
    {
     "name": "stderr",
     "output_type": "stream",
     "text": [
      "\r",
      "Epoch 9/25 - Validation:   0%|          | 0/137 [00:00<?, ?it/s]"
     ]
    },
    {
     "name": "stderr",
     "output_type": "stream",
     "text": [
      "\r",
      "Epoch 9/25 - Validation:   1%|          | 1/137 [00:33<1:15:00, 33.09s/it]"
     ]
    },
    {
     "name": "stderr",
     "output_type": "stream",
     "text": [
      "\r",
      "Epoch 9/25 - Validation:   1%|▏         | 2/137 [00:33<31:04, 13.81s/it]  "
     ]
    },
    {
     "name": "stderr",
     "output_type": "stream",
     "text": [
      "\r",
      "Epoch 9/25 - Validation:   2%|▏         | 3/137 [01:06<50:31, 22.62s/it]"
     ]
    },
    {
     "name": "stderr",
     "output_type": "stream",
     "text": [
      "\r",
      "Epoch 9/25 - Validation:   3%|▎         | 4/137 [01:06<30:37, 13.81s/it]"
     ]
    },
    {
     "name": "stderr",
     "output_type": "stream",
     "text": [
      "\r",
      "Epoch 9/25 - Validation:   4%|▎         | 5/137 [01:39<45:00, 20.46s/it]"
     ]
    },
    {
     "name": "stderr",
     "output_type": "stream",
     "text": [
      "\r",
      "Epoch 9/25 - Validation:   4%|▍         | 6/137 [01:39<29:42, 13.61s/it]"
     ]
    },
    {
     "name": "stderr",
     "output_type": "stream",
     "text": [
      "\r",
      "Epoch 9/25 - Validation:   5%|▌         | 7/137 [02:11<42:55, 19.81s/it]"
     ]
    },
    {
     "name": "stderr",
     "output_type": "stream",
     "text": [
      "\r",
      "Epoch 9/25 - Validation:   6%|▌         | 8/137 [02:12<29:15, 13.61s/it]"
     ]
    },
    {
     "name": "stderr",
     "output_type": "stream",
     "text": [
      "\r",
      "Epoch 9/25 - Validation:   7%|▋         | 9/137 [02:43<40:54, 19.18s/it]"
     ]
    },
    {
     "name": "stderr",
     "output_type": "stream",
     "text": [
      "\r",
      "Epoch 9/25 - Validation:   7%|▋         | 10/137 [02:44<28:15, 13.35s/it]"
     ]
    },
    {
     "name": "stderr",
     "output_type": "stream",
     "text": [
      "\r",
      "Epoch 9/25 - Validation:   8%|▊         | 11/137 [03:16<40:13, 19.16s/it]"
     ]
    },
    {
     "name": "stderr",
     "output_type": "stream",
     "text": [
      "\r",
      "Epoch 9/25 - Validation:   9%|▉         | 12/137 [03:16<27:58, 13.42s/it]"
     ]
    },
    {
     "name": "stderr",
     "output_type": "stream",
     "text": [
      "\r",
      "Epoch 9/25 - Validation:   9%|▉         | 13/137 [03:49<40:06, 19.41s/it]"
     ]
    },
    {
     "name": "stderr",
     "output_type": "stream",
     "text": [
      "\r",
      "Epoch 9/25 - Validation:  10%|█         | 14/137 [03:50<27:57, 13.64s/it]"
     ]
    },
    {
     "name": "stderr",
     "output_type": "stream",
     "text": [
      "\r",
      "Epoch 9/25 - Validation:  11%|█         | 15/137 [04:21<38:42, 19.03s/it]"
     ]
    },
    {
     "name": "stderr",
     "output_type": "stream",
     "text": [
      "\r",
      "Epoch 9/25 - Validation:  12%|█▏        | 16/137 [04:21<27:01, 13.40s/it]"
     ]
    },
    {
     "name": "stderr",
     "output_type": "stream",
     "text": [
      "\r",
      "Epoch 9/25 - Validation:  12%|█▏        | 17/137 [04:53<37:50, 18.92s/it]"
     ]
    },
    {
     "name": "stderr",
     "output_type": "stream",
     "text": [
      "\r",
      "Epoch 9/25 - Validation:  13%|█▎        | 18/137 [04:54<26:26, 13.33s/it]"
     ]
    },
    {
     "name": "stderr",
     "output_type": "stream",
     "text": [
      "\r",
      "Epoch 9/25 - Validation:  14%|█▍        | 19/137 [05:26<37:44, 19.19s/it]"
     ]
    },
    {
     "name": "stderr",
     "output_type": "stream",
     "text": [
      "\r",
      "Epoch 9/25 - Validation:  15%|█▍        | 20/137 [05:27<26:22, 13.52s/it]"
     ]
    },
    {
     "name": "stderr",
     "output_type": "stream",
     "text": [
      "\r",
      "Epoch 9/25 - Validation:  15%|█▌        | 21/137 [05:59<37:12, 19.24s/it]"
     ]
    },
    {
     "name": "stderr",
     "output_type": "stream",
     "text": [
      "\r",
      "Epoch 9/25 - Validation:  16%|█▌        | 22/137 [06:00<25:59, 13.56s/it]"
     ]
    },
    {
     "name": "stderr",
     "output_type": "stream",
     "text": [
      "\r",
      "Epoch 9/25 - Validation:  17%|█▋        | 23/137 [06:32<36:23, 19.15s/it]"
     ]
    },
    {
     "name": "stderr",
     "output_type": "stream",
     "text": [
      "\r",
      "Epoch 9/25 - Validation:  18%|█▊        | 24/137 [06:32<25:25, 13.50s/it]"
     ]
    },
    {
     "name": "stderr",
     "output_type": "stream",
     "text": [
      "\r",
      "Epoch 9/25 - Validation:  18%|█▊        | 25/137 [07:05<36:07, 19.36s/it]"
     ]
    },
    {
     "name": "stderr",
     "output_type": "stream",
     "text": [
      "\r",
      "Epoch 9/25 - Validation:  19%|█▉        | 26/137 [07:05<25:14, 13.64s/it]"
     ]
    },
    {
     "name": "stderr",
     "output_type": "stream",
     "text": [
      "\r",
      "Epoch 9/25 - Validation:  20%|█▉        | 27/137 [07:37<34:42, 18.93s/it]"
     ]
    },
    {
     "name": "stderr",
     "output_type": "stream",
     "text": [
      "\r",
      "Epoch 9/25 - Validation:  20%|██        | 28/137 [07:37<24:14, 13.35s/it]"
     ]
    },
    {
     "name": "stderr",
     "output_type": "stream",
     "text": [
      "\r",
      "Epoch 9/25 - Validation:  21%|██        | 29/137 [08:09<34:04, 18.93s/it]"
     ]
    },
    {
     "name": "stderr",
     "output_type": "stream",
     "text": [
      "\r",
      "Epoch 9/25 - Validation:  22%|██▏       | 30/137 [08:09<23:48, 13.35s/it]"
     ]
    },
    {
     "name": "stderr",
     "output_type": "stream",
     "text": [
      "\r",
      "Epoch 9/25 - Validation:  23%|██▎       | 31/137 [08:42<33:53, 19.18s/it]"
     ]
    },
    {
     "name": "stderr",
     "output_type": "stream",
     "text": [
      "\r",
      "Epoch 9/25 - Validation:  23%|██▎       | 32/137 [08:42<23:39, 13.52s/it]"
     ]
    },
    {
     "name": "stderr",
     "output_type": "stream",
     "text": [
      "\r",
      "Epoch 9/25 - Validation:  24%|██▍       | 33/137 [09:15<33:19, 19.23s/it]"
     ]
    },
    {
     "name": "stderr",
     "output_type": "stream",
     "text": [
      "\r",
      "Epoch 9/25 - Validation:  25%|██▍       | 34/137 [09:15<23:16, 13.55s/it]"
     ]
    },
    {
     "name": "stderr",
     "output_type": "stream",
     "text": [
      "\r",
      "Epoch 9/25 - Validation:  26%|██▌       | 35/137 [09:48<32:35, 19.17s/it]"
     ]
    },
    {
     "name": "stderr",
     "output_type": "stream",
     "text": [
      "\r",
      "Epoch 9/25 - Validation:  26%|██▋       | 36/137 [09:48<22:44, 13.51s/it]"
     ]
    },
    {
     "name": "stderr",
     "output_type": "stream",
     "text": [
      "\r",
      "Epoch 9/25 - Validation:  27%|██▋       | 37/137 [10:20<31:57, 19.18s/it]"
     ]
    },
    {
     "name": "stderr",
     "output_type": "stream",
     "text": [
      "\r",
      "Epoch 9/25 - Validation:  28%|██▊       | 38/137 [10:21<22:18, 13.52s/it]"
     ]
    },
    {
     "name": "stderr",
     "output_type": "stream",
     "text": [
      "\r",
      "Epoch 9/25 - Validation:  28%|██▊       | 39/137 [10:52<31:04, 19.03s/it]"
     ]
    },
    {
     "name": "stderr",
     "output_type": "stream",
     "text": [
      "\r",
      "Epoch 9/25 - Validation:  29%|██▉       | 40/137 [10:53<21:41, 13.41s/it]"
     ]
    },
    {
     "name": "stderr",
     "output_type": "stream",
     "text": [
      "\r",
      "Epoch 9/25 - Validation:  30%|██▉       | 41/137 [11:26<30:52, 19.30s/it]"
     ]
    },
    {
     "name": "stderr",
     "output_type": "stream",
     "text": [
      "\r",
      "Epoch 9/25 - Validation:  31%|███       | 42/137 [11:26<21:32, 13.60s/it]"
     ]
    },
    {
     "name": "stderr",
     "output_type": "stream",
     "text": [
      "\r",
      "Epoch 9/25 - Validation:  31%|███▏      | 43/137 [11:58<29:44, 18.99s/it]"
     ]
    },
    {
     "name": "stderr",
     "output_type": "stream",
     "text": [
      "\r",
      "Epoch 9/25 - Validation:  32%|███▏      | 44/137 [11:58<20:44, 13.38s/it]"
     ]
    },
    {
     "name": "stderr",
     "output_type": "stream",
     "text": [
      "\r",
      "Epoch 9/25 - Validation:  33%|███▎      | 45/137 [12:29<28:37, 18.67s/it]"
     ]
    },
    {
     "name": "stderr",
     "output_type": "stream",
     "text": [
      "\r",
      "Epoch 9/25 - Validation:  34%|███▎      | 46/137 [12:29<19:57, 13.16s/it]"
     ]
    },
    {
     "name": "stderr",
     "output_type": "stream",
     "text": [
      "\r",
      "Epoch 9/25 - Validation:  34%|███▍      | 47/137 [13:02<28:36, 19.08s/it]"
     ]
    },
    {
     "name": "stderr",
     "output_type": "stream",
     "text": [
      "\r",
      "Epoch 9/25 - Validation:  35%|███▌      | 48/137 [13:02<19:56, 13.45s/it]"
     ]
    },
    {
     "name": "stderr",
     "output_type": "stream",
     "text": [
      "\r",
      "Epoch 9/25 - Validation:  36%|███▌      | 49/137 [13:34<27:48, 18.96s/it]"
     ]
    },
    {
     "name": "stderr",
     "output_type": "stream",
     "text": [
      "\r",
      "Epoch 9/25 - Validation:  36%|███▋      | 50/137 [13:35<19:22, 13.37s/it]"
     ]
    },
    {
     "name": "stderr",
     "output_type": "stream",
     "text": [
      "\r",
      "Epoch 9/25 - Validation:  37%|███▋      | 51/137 [14:06<26:57, 18.81s/it]"
     ]
    },
    {
     "name": "stderr",
     "output_type": "stream",
     "text": [
      "\r",
      "Epoch 9/25 - Validation:  38%|███▊      | 52/137 [14:06<18:47, 13.26s/it]"
     ]
    },
    {
     "name": "stderr",
     "output_type": "stream",
     "text": [
      "\r",
      "Epoch 9/25 - Validation:  39%|███▊      | 53/137 [14:38<26:13, 18.73s/it]"
     ]
    },
    {
     "name": "stderr",
     "output_type": "stream",
     "text": [
      "\r",
      "Epoch 9/25 - Validation:  39%|███▉      | 54/137 [14:38<18:15, 13.20s/it]"
     ]
    },
    {
     "name": "stderr",
     "output_type": "stream",
     "text": [
      "\r",
      "Epoch 9/25 - Validation:  40%|████      | 55/137 [15:10<25:33, 18.70s/it]"
     ]
    },
    {
     "name": "stderr",
     "output_type": "stream",
     "text": [
      "\r",
      "Epoch 9/25 - Validation:  41%|████      | 56/137 [15:10<17:47, 13.18s/it]"
     ]
    },
    {
     "name": "stderr",
     "output_type": "stream",
     "text": [
      "\r",
      "Epoch 9/25 - Validation:  42%|████▏     | 57/137 [15:43<25:16, 18.95s/it]"
     ]
    },
    {
     "name": "stderr",
     "output_type": "stream",
     "text": [
      "\r",
      "Epoch 9/25 - Validation:  42%|████▏     | 58/137 [15:43<17:35, 13.36s/it]"
     ]
    },
    {
     "name": "stderr",
     "output_type": "stream",
     "text": [
      "\r",
      "Epoch 9/25 - Validation:  43%|████▎     | 59/137 [16:16<24:58, 19.21s/it]"
     ]
    },
    {
     "name": "stderr",
     "output_type": "stream",
     "text": [
      "\r",
      "Epoch 9/25 - Validation:  44%|████▍     | 60/137 [16:16<17:22, 13.54s/it]"
     ]
    },
    {
     "name": "stderr",
     "output_type": "stream",
     "text": [
      "\r",
      "Epoch 9/25 - Validation:  45%|████▍     | 61/137 [16:48<24:14, 19.13s/it]"
     ]
    },
    {
     "name": "stderr",
     "output_type": "stream",
     "text": [
      "\r",
      "Epoch 9/25 - Validation:  45%|████▌     | 62/137 [16:48<16:51, 13.49s/it]"
     ]
    },
    {
     "name": "stderr",
     "output_type": "stream",
     "text": [
      "\r",
      "Epoch 9/25 - Validation:  46%|████▌     | 63/137 [17:20<23:21, 18.94s/it]"
     ]
    },
    {
     "name": "stderr",
     "output_type": "stream",
     "text": [
      "\r",
      "Epoch 9/25 - Validation:  47%|████▋     | 64/137 [17:20<16:14, 13.35s/it]"
     ]
    },
    {
     "name": "stderr",
     "output_type": "stream",
     "text": [
      "\r",
      "Epoch 9/25 - Validation:  47%|████▋     | 65/137 [17:53<23:01, 19.19s/it]"
     ]
    },
    {
     "name": "stderr",
     "output_type": "stream",
     "text": [
      "\r",
      "Epoch 9/25 - Validation:  48%|████▊     | 66/137 [17:54<16:00, 13.53s/it]"
     ]
    },
    {
     "name": "stderr",
     "output_type": "stream",
     "text": [
      "\r",
      "Epoch 9/25 - Validation:  49%|████▉     | 67/137 [18:26<22:23, 19.20s/it]"
     ]
    },
    {
     "name": "stderr",
     "output_type": "stream",
     "text": [
      "\r",
      "Epoch 9/25 - Validation:  50%|████▉     | 68/137 [18:26<15:33, 13.53s/it]"
     ]
    },
    {
     "name": "stderr",
     "output_type": "stream",
     "text": [
      "\r",
      "Epoch 9/25 - Validation:  50%|█████     | 69/137 [18:59<21:43, 19.17s/it]"
     ]
    },
    {
     "name": "stderr",
     "output_type": "stream",
     "text": [
      "\r",
      "Epoch 9/25 - Validation:  51%|█████     | 70/137 [18:59<15:05, 13.51s/it]"
     ]
    },
    {
     "name": "stderr",
     "output_type": "stream",
     "text": [
      "\r",
      "Epoch 9/25 - Validation:  52%|█████▏    | 71/137 [19:30<20:42, 18.82s/it]"
     ]
    },
    {
     "name": "stderr",
     "output_type": "stream",
     "text": [
      "\r",
      "Epoch 9/25 - Validation:  53%|█████▎    | 72/137 [19:30<14:22, 13.27s/it]"
     ]
    },
    {
     "name": "stderr",
     "output_type": "stream",
     "text": [
      "\r",
      "Epoch 9/25 - Validation:  53%|█████▎    | 73/137 [20:03<20:23, 19.12s/it]"
     ]
    },
    {
     "name": "stderr",
     "output_type": "stream",
     "text": [
      "\r",
      "Epoch 9/25 - Validation:  54%|█████▍    | 74/137 [20:04<14:08, 13.48s/it]"
     ]
    },
    {
     "name": "stderr",
     "output_type": "stream",
     "text": [
      "\r",
      "Epoch 9/25 - Validation:  55%|█████▍    | 75/137 [20:36<19:40, 19.04s/it]"
     ]
    },
    {
     "name": "stderr",
     "output_type": "stream",
     "text": [
      "\r",
      "Epoch 9/25 - Validation:  55%|█████▌    | 76/137 [20:36<13:38, 13.42s/it]"
     ]
    },
    {
     "name": "stderr",
     "output_type": "stream",
     "text": [
      "\r",
      "Epoch 9/25 - Validation:  56%|█████▌    | 77/137 [21:08<19:01, 19.03s/it]"
     ]
    },
    {
     "name": "stderr",
     "output_type": "stream",
     "text": [
      "\r",
      "Epoch 9/25 - Validation:  57%|█████▋    | 78/137 [21:08<13:11, 13.41s/it]"
     ]
    },
    {
     "name": "stderr",
     "output_type": "stream",
     "text": [
      "\r",
      "Epoch 9/25 - Validation:  58%|█████▊    | 79/137 [21:41<18:24, 19.05s/it]"
     ]
    },
    {
     "name": "stderr",
     "output_type": "stream",
     "text": [
      "\r",
      "Epoch 9/25 - Validation:  58%|█████▊    | 80/137 [21:41<12:45, 13.43s/it]"
     ]
    },
    {
     "name": "stderr",
     "output_type": "stream",
     "text": [
      "\r",
      "Epoch 9/25 - Validation:  59%|█████▉    | 81/137 [22:14<17:57, 19.24s/it]"
     ]
    },
    {
     "name": "stderr",
     "output_type": "stream",
     "text": [
      "\r",
      "Epoch 9/25 - Validation:  60%|█████▉    | 82/137 [22:14<12:25, 13.56s/it]"
     ]
    },
    {
     "name": "stderr",
     "output_type": "stream",
     "text": [
      "\r",
      "Epoch 9/25 - Validation:  61%|██████    | 83/137 [22:46<17:19, 19.26s/it]"
     ]
    },
    {
     "name": "stderr",
     "output_type": "stream",
     "text": [
      "\r",
      "Epoch 9/25 - Validation:  61%|██████▏   | 84/137 [22:47<11:59, 13.57s/it]"
     ]
    },
    {
     "name": "stderr",
     "output_type": "stream",
     "text": [
      "\r",
      "Epoch 9/25 - Validation:  62%|██████▏   | 85/137 [23:19<16:37, 19.18s/it]"
     ]
    },
    {
     "name": "stderr",
     "output_type": "stream",
     "text": [
      "\r",
      "Epoch 9/25 - Validation:  63%|██████▎   | 86/137 [23:19<11:29, 13.52s/it]"
     ]
    },
    {
     "name": "stderr",
     "output_type": "stream",
     "text": [
      "\r",
      "Epoch 9/25 - Validation:  64%|██████▎   | 87/137 [23:52<15:55, 19.11s/it]"
     ]
    },
    {
     "name": "stderr",
     "output_type": "stream",
     "text": [
      "\r",
      "Epoch 9/25 - Validation:  64%|██████▍   | 88/137 [23:52<11:00, 13.47s/it]"
     ]
    },
    {
     "name": "stderr",
     "output_type": "stream",
     "text": [
      "\r",
      "Epoch 9/25 - Validation:  65%|██████▍   | 89/137 [24:24<15:11, 18.99s/it]"
     ]
    },
    {
     "name": "stderr",
     "output_type": "stream",
     "text": [
      "\r",
      "Epoch 9/25 - Validation:  66%|██████▌   | 90/137 [24:24<10:29, 13.39s/it]"
     ]
    },
    {
     "name": "stderr",
     "output_type": "stream",
     "text": [
      "\r",
      "Epoch 9/25 - Validation:  66%|██████▋   | 91/137 [24:58<14:53, 19.43s/it]"
     ]
    },
    {
     "name": "stderr",
     "output_type": "stream",
     "text": [
      "\r",
      "Epoch 9/25 - Validation:  67%|██████▋   | 92/137 [24:58<10:16, 13.69s/it]"
     ]
    },
    {
     "name": "stderr",
     "output_type": "stream",
     "text": [
      "\r",
      "Epoch 9/25 - Validation:  68%|██████▊   | 93/137 [25:31<14:16, 19.46s/it]"
     ]
    },
    {
     "name": "stderr",
     "output_type": "stream",
     "text": [
      "\r",
      "Epoch 9/25 - Validation:  69%|██████▊   | 94/137 [25:31<09:49, 13.71s/it]"
     ]
    },
    {
     "name": "stderr",
     "output_type": "stream",
     "text": [
      "\r",
      "Epoch 9/25 - Validation:  69%|██████▉   | 95/137 [26:03<13:21, 19.07s/it]"
     ]
    },
    {
     "name": "stderr",
     "output_type": "stream",
     "text": [
      "\r",
      "Epoch 9/25 - Validation:  70%|███████   | 96/137 [26:03<09:11, 13.44s/it]"
     ]
    },
    {
     "name": "stderr",
     "output_type": "stream",
     "text": [
      "\r",
      "Epoch 9/25 - Validation:  71%|███████   | 97/137 [26:37<13:01, 19.53s/it]"
     ]
    },
    {
     "name": "stderr",
     "output_type": "stream",
     "text": [
      "\r",
      "Epoch 9/25 - Validation:  72%|███████▏  | 98/137 [26:37<08:56, 13.76s/it]"
     ]
    },
    {
     "name": "stderr",
     "output_type": "stream",
     "text": [
      "\r",
      "Epoch 9/25 - Validation:  72%|███████▏  | 99/137 [27:09<12:06, 19.11s/it]"
     ]
    },
    {
     "name": "stderr",
     "output_type": "stream",
     "text": [
      "\r",
      "Epoch 9/25 - Validation:  73%|███████▎  | 100/137 [27:09<08:18, 13.47s/it]"
     ]
    },
    {
     "name": "stderr",
     "output_type": "stream",
     "text": [
      "\r",
      "Epoch 9/25 - Validation:  74%|███████▎  | 101/137 [27:42<11:36, 19.36s/it]"
     ]
    },
    {
     "name": "stderr",
     "output_type": "stream",
     "text": [
      "\r",
      "Epoch 9/25 - Validation:  74%|███████▍  | 102/137 [27:42<07:57, 13.64s/it]"
     ]
    },
    {
     "name": "stderr",
     "output_type": "stream",
     "text": [
      "\r",
      "Epoch 9/25 - Validation:  75%|███████▌  | 103/137 [28:14<10:52, 19.18s/it]"
     ]
    },
    {
     "name": "stderr",
     "output_type": "stream",
     "text": [
      "\r",
      "Epoch 9/25 - Validation:  76%|███████▌  | 104/137 [28:15<07:26, 13.52s/it]"
     ]
    },
    {
     "name": "stderr",
     "output_type": "stream",
     "text": [
      "\r",
      "Epoch 9/25 - Validation:  77%|███████▋  | 105/137 [28:48<10:19, 19.35s/it]"
     ]
    },
    {
     "name": "stderr",
     "output_type": "stream",
     "text": [
      "\r",
      "Epoch 9/25 - Validation:  77%|███████▋  | 106/137 [28:48<07:02, 13.64s/it]"
     ]
    },
    {
     "name": "stderr",
     "output_type": "stream",
     "text": [
      "\r",
      "Epoch 9/25 - Validation:  78%|███████▊  | 107/137 [29:19<09:27, 18.92s/it]"
     ]
    },
    {
     "name": "stderr",
     "output_type": "stream",
     "text": [
      "\r",
      "Epoch 9/25 - Validation:  79%|███████▉  | 108/137 [29:20<06:26, 13.34s/it]"
     ]
    },
    {
     "name": "stderr",
     "output_type": "stream",
     "text": [
      "\r",
      "Epoch 9/25 - Validation:  80%|███████▉  | 109/137 [29:50<08:40, 18.58s/it]"
     ]
    },
    {
     "name": "stderr",
     "output_type": "stream",
     "text": [
      "\r",
      "Epoch 9/25 - Validation:  80%|████████  | 110/137 [29:51<05:53, 13.10s/it]"
     ]
    },
    {
     "name": "stderr",
     "output_type": "stream",
     "text": [
      "\r",
      "Epoch 9/25 - Validation:  81%|████████  | 111/137 [30:23<08:12, 18.92s/it]"
     ]
    },
    {
     "name": "stderr",
     "output_type": "stream",
     "text": [
      "\r",
      "Epoch 9/25 - Validation:  82%|████████▏ | 112/137 [30:23<05:33, 13.34s/it]"
     ]
    },
    {
     "name": "stderr",
     "output_type": "stream",
     "text": [
      "\r",
      "Epoch 9/25 - Validation:  82%|████████▏ | 113/137 [30:56<07:40, 19.20s/it]"
     ]
    },
    {
     "name": "stderr",
     "output_type": "stream",
     "text": [
      "\r",
      "Epoch 9/25 - Validation:  83%|████████▎ | 114/137 [30:57<05:11, 13.53s/it]"
     ]
    },
    {
     "name": "stderr",
     "output_type": "stream",
     "text": [
      "\r",
      "Epoch 9/25 - Validation:  84%|████████▍ | 115/137 [31:29<06:59, 19.08s/it]"
     ]
    },
    {
     "name": "stderr",
     "output_type": "stream",
     "text": [
      "\r",
      "Epoch 9/25 - Validation:  85%|████████▍ | 116/137 [31:29<04:42, 13.45s/it]"
     ]
    },
    {
     "name": "stderr",
     "output_type": "stream",
     "text": [
      "\r",
      "Epoch 9/25 - Validation:  85%|████████▌ | 117/137 [32:01<06:20, 19.01s/it]"
     ]
    },
    {
     "name": "stderr",
     "output_type": "stream",
     "text": [
      "\r",
      "Epoch 9/25 - Validation:  86%|████████▌ | 118/137 [32:01<04:14, 13.40s/it]"
     ]
    },
    {
     "name": "stderr",
     "output_type": "stream",
     "text": [
      "\r",
      "Epoch 9/25 - Validation:  87%|████████▋ | 119/137 [32:33<05:41, 18.97s/it]"
     ]
    },
    {
     "name": "stderr",
     "output_type": "stream",
     "text": [
      "\r",
      "Epoch 9/25 - Validation:  88%|████████▊ | 120/137 [32:34<03:47, 13.37s/it]"
     ]
    },
    {
     "name": "stderr",
     "output_type": "stream",
     "text": [
      "\r",
      "Epoch 9/25 - Validation:  88%|████████▊ | 121/137 [33:05<05:01, 18.87s/it]"
     ]
    },
    {
     "name": "stderr",
     "output_type": "stream",
     "text": [
      "\r",
      "Epoch 9/25 - Validation:  89%|████████▉ | 122/137 [33:06<03:19, 13.30s/it]"
     ]
    },
    {
     "name": "stderr",
     "output_type": "stream",
     "text": [
      "\r",
      "Epoch 9/25 - Validation:  90%|████████▉ | 123/137 [33:38<04:25, 18.97s/it]"
     ]
    },
    {
     "name": "stderr",
     "output_type": "stream",
     "text": [
      "\r",
      "Epoch 9/25 - Validation:  91%|█████████ | 124/137 [33:38<02:53, 13.37s/it]"
     ]
    },
    {
     "name": "stderr",
     "output_type": "stream",
     "text": [
      "\r",
      "Epoch 9/25 - Validation:  91%|█████████ | 125/137 [34:11<03:50, 19.19s/it]"
     ]
    },
    {
     "name": "stderr",
     "output_type": "stream",
     "text": [
      "\r",
      "Epoch 9/25 - Validation:  92%|█████████▏| 126/137 [34:11<02:28, 13.53s/it]"
     ]
    },
    {
     "name": "stderr",
     "output_type": "stream",
     "text": [
      "\r",
      "Epoch 9/25 - Validation:  93%|█████████▎| 127/137 [34:42<03:06, 18.67s/it]"
     ]
    },
    {
     "name": "stderr",
     "output_type": "stream",
     "text": [
      "\r",
      "Epoch 9/25 - Validation:  93%|█████████▎| 128/137 [34:42<01:58, 13.16s/it]"
     ]
    },
    {
     "name": "stderr",
     "output_type": "stream",
     "text": [
      "\r",
      "Epoch 9/25 - Validation:  94%|█████████▍| 129/137 [35:15<02:33, 19.13s/it]"
     ]
    },
    {
     "name": "stderr",
     "output_type": "stream",
     "text": [
      "\r",
      "Epoch 9/25 - Validation:  95%|█████████▍| 130/137 [35:15<01:34, 13.49s/it]"
     ]
    },
    {
     "name": "stderr",
     "output_type": "stream",
     "text": [
      "\r",
      "Epoch 9/25 - Validation:  96%|█████████▌| 131/137 [35:47<01:53, 18.96s/it]"
     ]
    },
    {
     "name": "stderr",
     "output_type": "stream",
     "text": [
      "\r",
      "Epoch 9/25 - Validation:  96%|█████████▋| 132/137 [35:48<01:06, 13.37s/it]"
     ]
    },
    {
     "name": "stderr",
     "output_type": "stream",
     "text": [
      "\r",
      "Epoch 9/25 - Validation:  97%|█████████▋| 133/137 [36:19<01:15, 18.90s/it]"
     ]
    },
    {
     "name": "stderr",
     "output_type": "stream",
     "text": [
      "\r",
      "Epoch 9/25 - Validation:  98%|█████████▊| 134/137 [36:20<00:39, 13.33s/it]"
     ]
    },
    {
     "name": "stderr",
     "output_type": "stream",
     "text": [
      "\r",
      "Epoch 9/25 - Validation:  99%|█████████▊| 135/137 [36:50<00:37, 18.57s/it]"
     ]
    },
    {
     "name": "stderr",
     "output_type": "stream",
     "text": [
      "\r",
      "Epoch 9/25 - Validation:  99%|█████████▉| 136/137 [36:51<00:13, 13.09s/it]"
     ]
    },
    {
     "name": "stderr",
     "output_type": "stream",
     "text": [
      "\r",
      "Epoch 9/25 - Validation: 100%|██████████| 137/137 [37:02<00:00, 12.51s/it]"
     ]
    },
    {
     "name": "stderr",
     "output_type": "stream",
     "text": [
      "\r",
      "Epoch 9/25 - Validation: 100%|██████████| 137/137 [37:02<00:00, 16.22s/it]"
     ]
    },
    {
     "name": "stderr",
     "output_type": "stream",
     "text": [
      "\n"
     ]
    },
    {
     "name": "stdout",
     "output_type": "stream",
     "text": [
      "Epoch 9/25:\n",
      "Train Loss: 1.0785, Train Acc: 0.4464\n",
      "Val Loss: 1.0928, Val Acc: 0.4500\n"
     ]
    },
    {
     "name": "stderr",
     "output_type": "stream",
     "text": [
      "\r",
      "Epoch 10/25 - Training:   0%|          | 0/137 [00:00<?, ?it/s]"
     ]
    },
    {
     "name": "stderr",
     "output_type": "stream",
     "text": [
      "\r",
      "Epoch 10/25 - Training:   1%|          | 1/137 [00:34<1:17:06, 34.02s/it]"
     ]
    },
    {
     "name": "stderr",
     "output_type": "stream",
     "text": [
      "\r",
      "Epoch 10/25 - Training:   1%|▏         | 2/137 [00:34<32:41, 14.53s/it]  "
     ]
    },
    {
     "name": "stderr",
     "output_type": "stream",
     "text": [
      "\r",
      "Epoch 10/25 - Training:   2%|▏         | 3/137 [01:06<50:06, 22.44s/it]"
     ]
    },
    {
     "name": "stderr",
     "output_type": "stream",
     "text": [
      "\r",
      "Epoch 10/25 - Training:   3%|▎         | 4/137 [01:07<30:53, 13.93s/it]"
     ]
    },
    {
     "name": "stderr",
     "output_type": "stream",
     "text": [
      "\r",
      "Epoch 10/25 - Training:   4%|▎         | 5/137 [01:35<41:58, 19.08s/it]"
     ]
    },
    {
     "name": "stderr",
     "output_type": "stream",
     "text": [
      "\r",
      "Epoch 10/25 - Training:   4%|▍         | 6/137 [01:39<30:30, 13.97s/it]"
     ]
    },
    {
     "name": "stderr",
     "output_type": "stream",
     "text": [
      "\r",
      "Epoch 10/25 - Training:   5%|▌         | 7/137 [02:09<41:05, 18.97s/it]"
     ]
    },
    {
     "name": "stderr",
     "output_type": "stream",
     "text": [
      "\r",
      "Epoch 10/25 - Training:   6%|▌         | 8/137 [02:12<29:56, 13.92s/it]"
     ]
    },
    {
     "name": "stderr",
     "output_type": "stream",
     "text": [
      "\r",
      "Epoch 10/25 - Training:   7%|▋         | 9/137 [02:41<40:11, 18.84s/it]"
     ]
    },
    {
     "name": "stderr",
     "output_type": "stream",
     "text": [
      "\r",
      "Epoch 10/25 - Training:   7%|▋         | 10/137 [02:44<29:15, 13.82s/it]"
     ]
    },
    {
     "name": "stderr",
     "output_type": "stream",
     "text": [
      "\r",
      "Epoch 10/25 - Training:   8%|▊         | 11/137 [03:14<39:29, 18.80s/it]"
     ]
    },
    {
     "name": "stderr",
     "output_type": "stream",
     "text": [
      "\r",
      "Epoch 10/25 - Training:   9%|▉         | 12/137 [03:16<28:32, 13.70s/it]"
     ]
    },
    {
     "name": "stderr",
     "output_type": "stream",
     "text": [
      "\r",
      "Epoch 10/25 - Training:   9%|▉         | 13/137 [03:43<36:21, 17.59s/it]"
     ]
    },
    {
     "name": "stderr",
     "output_type": "stream",
     "text": [
      "\r",
      "Epoch 10/25 - Training:  10%|█         | 14/137 [03:50<29:42, 14.49s/it]"
     ]
    },
    {
     "name": "stderr",
     "output_type": "stream",
     "text": [
      "\r",
      "Epoch 10/25 - Training:  11%|█         | 15/137 [04:12<34:16, 16.86s/it]"
     ]
    },
    {
     "name": "stderr",
     "output_type": "stream",
     "text": [
      "\r",
      "Epoch 10/25 - Training:  12%|█▏        | 16/137 [04:18<27:17, 13.53s/it]"
     ]
    },
    {
     "name": "stderr",
     "output_type": "stream",
     "text": [
      "\r",
      "Epoch 10/25 - Training:  12%|█▏        | 17/137 [04:42<33:32, 16.77s/it]"
     ]
    },
    {
     "name": "stderr",
     "output_type": "stream",
     "text": [
      "\r",
      "Epoch 10/25 - Training:  13%|█▎        | 18/137 [04:52<28:56, 14.59s/it]"
     ]
    },
    {
     "name": "stderr",
     "output_type": "stream",
     "text": [
      "\r",
      "Epoch 10/25 - Training:  14%|█▍        | 19/137 [05:11<31:29, 16.01s/it]"
     ]
    },
    {
     "name": "stderr",
     "output_type": "stream",
     "text": [
      "\r",
      "Epoch 10/25 - Training:  15%|█▍        | 20/137 [05:25<29:34, 15.16s/it]"
     ]
    },
    {
     "name": "stderr",
     "output_type": "stream",
     "text": [
      "\r",
      "Epoch 10/25 - Training:  15%|█▌        | 21/137 [05:41<30:05, 15.56s/it]"
     ]
    },
    {
     "name": "stderr",
     "output_type": "stream",
     "text": [
      "\r",
      "Epoch 10/25 - Training:  16%|█▌        | 22/137 [05:57<30:13, 15.77s/it]"
     ]
    },
    {
     "name": "stderr",
     "output_type": "stream",
     "text": [
      "\r",
      "Epoch 10/25 - Training:  17%|█▋        | 23/137 [06:06<26:12, 13.79s/it]"
     ]
    },
    {
     "name": "stderr",
     "output_type": "stream",
     "text": [
      "\r",
      "Epoch 10/25 - Training:  18%|█▊        | 24/137 [06:25<28:51, 15.32s/it]"
     ]
    },
    {
     "name": "stderr",
     "output_type": "stream",
     "text": [
      "\r",
      "Epoch 10/25 - Training:  18%|█▊        | 25/137 [06:40<27:58, 14.99s/it]"
     ]
    },
    {
     "name": "stderr",
     "output_type": "stream",
     "text": [
      "\r",
      "Epoch 10/25 - Training:  19%|█▉        | 26/137 [06:54<27:11, 14.70s/it]"
     ]
    },
    {
     "name": "stderr",
     "output_type": "stream",
     "text": [
      "\r",
      "Epoch 10/25 - Training:  20%|█▉        | 27/137 [07:08<27:04, 14.77s/it]"
     ]
    },
    {
     "name": "stderr",
     "output_type": "stream",
     "text": [
      "\r",
      "Epoch 10/25 - Training:  20%|██        | 28/137 [07:22<26:06, 14.37s/it]"
     ]
    },
    {
     "name": "stderr",
     "output_type": "stream",
     "text": [
      "\r",
      "Epoch 10/25 - Training:  21%|██        | 29/137 [07:41<28:09, 15.64s/it]"
     ]
    },
    {
     "name": "stderr",
     "output_type": "stream",
     "text": [
      "\r",
      "Epoch 10/25 - Training:  22%|██▏       | 30/137 [07:50<24:27, 13.71s/it]"
     ]
    },
    {
     "name": "stderr",
     "output_type": "stream",
     "text": [
      "\r",
      "Epoch 10/25 - Training:  23%|██▎       | 31/137 [08:13<29:28, 16.68s/it]"
     ]
    },
    {
     "name": "stderr",
     "output_type": "stream",
     "text": [
      "\r",
      "Epoch 10/25 - Training:  23%|██▎       | 32/137 [08:23<25:25, 14.53s/it]"
     ]
    },
    {
     "name": "stderr",
     "output_type": "stream",
     "text": [
      "\r",
      "Epoch 10/25 - Training:  24%|██▍       | 33/137 [08:38<25:20, 14.62s/it]"
     ]
    },
    {
     "name": "stderr",
     "output_type": "stream",
     "text": [
      "\r",
      "Epoch 10/25 - Training:  25%|██▍       | 34/137 [08:55<26:36, 15.50s/it]"
     ]
    },
    {
     "name": "stderr",
     "output_type": "stream",
     "text": [
      "\r",
      "Epoch 10/25 - Training:  26%|██▌       | 35/137 [09:09<25:42, 15.12s/it]"
     ]
    },
    {
     "name": "stderr",
     "output_type": "stream",
     "text": [
      "\r",
      "Epoch 10/25 - Training:  26%|██▋       | 36/137 [09:23<24:51, 14.77s/it]"
     ]
    },
    {
     "name": "stderr",
     "output_type": "stream",
     "text": [
      "\r",
      "Epoch 10/25 - Training:  27%|██▋       | 37/137 [09:42<26:42, 16.02s/it]"
     ]
    },
    {
     "name": "stderr",
     "output_type": "stream",
     "text": [
      "\r",
      "Epoch 10/25 - Training:  28%|██▊       | 38/137 [09:56<25:02, 15.18s/it]"
     ]
    },
    {
     "name": "stderr",
     "output_type": "stream",
     "text": [
      "\r",
      "Epoch 10/25 - Training:  28%|██▊       | 39/137 [10:14<26:13, 16.05s/it]"
     ]
    },
    {
     "name": "stderr",
     "output_type": "stream",
     "text": [
      "\r",
      "Epoch 10/25 - Training:  29%|██▉       | 40/137 [10:28<25:16, 15.64s/it]"
     ]
    },
    {
     "name": "stderr",
     "output_type": "stream",
     "text": [
      "\r",
      "Epoch 10/25 - Training:  30%|██▉       | 41/137 [10:41<23:49, 14.89s/it]"
     ]
    },
    {
     "name": "stderr",
     "output_type": "stream",
     "text": [
      "\r",
      "Epoch 10/25 - Training:  31%|███       | 42/137 [11:00<25:28, 16.09s/it]"
     ]
    },
    {
     "name": "stderr",
     "output_type": "stream",
     "text": [
      "\r",
      "Epoch 10/25 - Training:  31%|███▏      | 43/137 [11:10<22:20, 14.26s/it]"
     ]
    },
    {
     "name": "stderr",
     "output_type": "stream",
     "text": [
      "\r",
      "Epoch 10/25 - Training:  32%|███▏      | 44/137 [11:29<23:59, 15.48s/it]"
     ]
    },
    {
     "name": "stderr",
     "output_type": "stream",
     "text": [
      "\r",
      "Epoch 10/25 - Training:  33%|███▎      | 45/137 [11:44<23:26, 15.28s/it]"
     ]
    },
    {
     "name": "stderr",
     "output_type": "stream",
     "text": [
      "\r",
      "Epoch 10/25 - Training:  34%|███▎      | 46/137 [11:57<22:17, 14.70s/it]"
     ]
    },
    {
     "name": "stderr",
     "output_type": "stream",
     "text": [
      "\r",
      "Epoch 10/25 - Training:  34%|███▍      | 47/137 [12:17<24:34, 16.38s/it]"
     ]
    },
    {
     "name": "stderr",
     "output_type": "stream",
     "text": [
      "\r",
      "Epoch 10/25 - Training:  35%|███▌      | 48/137 [12:29<22:21, 15.07s/it]"
     ]
    },
    {
     "name": "stderr",
     "output_type": "stream",
     "text": [
      "\r",
      "Epoch 10/25 - Training:  36%|███▌      | 49/137 [12:42<21:09, 14.42s/it]"
     ]
    },
    {
     "name": "stderr",
     "output_type": "stream",
     "text": [
      "\r",
      "Epoch 10/25 - Training:  36%|███▋      | 50/137 [13:01<23:04, 15.92s/it]"
     ]
    },
    {
     "name": "stderr",
     "output_type": "stream",
     "text": [
      "\r",
      "Epoch 10/25 - Training:  37%|███▋      | 51/137 [13:11<20:09, 14.06s/it]"
     ]
    },
    {
     "name": "stderr",
     "output_type": "stream",
     "text": [
      "\r",
      "Epoch 10/25 - Training:  38%|███▊      | 52/137 [13:34<23:25, 16.53s/it]"
     ]
    },
    {
     "name": "stderr",
     "output_type": "stream",
     "text": [
      "\r",
      "Epoch 10/25 - Training:  39%|███▊      | 53/137 [13:45<21:00, 15.01s/it]"
     ]
    },
    {
     "name": "stderr",
     "output_type": "stream",
     "text": [
      "\r",
      "Epoch 10/25 - Training:  39%|███▉      | 54/137 [14:02<21:35, 15.61s/it]"
     ]
    },
    {
     "name": "stderr",
     "output_type": "stream",
     "text": [
      "\r",
      "Epoch 10/25 - Training:  40%|████      | 55/137 [14:10<18:03, 13.22s/it]"
     ]
    },
    {
     "name": "stderr",
     "output_type": "stream",
     "text": [
      "\r",
      "Epoch 10/25 - Training:  41%|████      | 56/137 [14:34<22:28, 16.65s/it]"
     ]
    },
    {
     "name": "stderr",
     "output_type": "stream",
     "text": [
      "\r",
      "Epoch 10/25 - Training:  42%|████▏     | 57/137 [14:38<17:07, 12.84s/it]"
     ]
    },
    {
     "name": "stderr",
     "output_type": "stream",
     "text": [
      "\r",
      "Epoch 10/25 - Training:  42%|████▏     | 58/137 [15:02<21:18, 16.19s/it]"
     ]
    },
    {
     "name": "stderr",
     "output_type": "stream",
     "text": [
      "\r",
      "Epoch 10/25 - Training:  43%|████▎     | 59/137 [15:11<17:57, 13.82s/it]"
     ]
    },
    {
     "name": "stderr",
     "output_type": "stream",
     "text": [
      "\r",
      "Epoch 10/25 - Training:  44%|████▍     | 60/137 [15:35<21:46, 16.96s/it]"
     ]
    },
    {
     "name": "stderr",
     "output_type": "stream",
     "text": [
      "\r",
      "Epoch 10/25 - Training:  45%|████▍     | 61/137 [15:36<15:23, 12.15s/it]"
     ]
    },
    {
     "name": "stderr",
     "output_type": "stream",
     "text": [
      "\r",
      "Epoch 10/25 - Training:  45%|████▌     | 62/137 [16:07<22:30, 18.00s/it]"
     ]
    },
    {
     "name": "stderr",
     "output_type": "stream",
     "text": [
      "\r",
      "Epoch 10/25 - Training:  46%|████▌     | 63/137 [16:08<15:52, 12.87s/it]"
     ]
    },
    {
     "name": "stderr",
     "output_type": "stream",
     "text": [
      "\r",
      "Epoch 10/25 - Training:  47%|████▋     | 64/137 [16:39<22:05, 18.15s/it]"
     ]
    },
    {
     "name": "stderr",
     "output_type": "stream",
     "text": [
      "\r",
      "Epoch 10/25 - Training:  47%|████▋     | 65/137 [16:40<15:34, 12.98s/it]"
     ]
    },
    {
     "name": "stderr",
     "output_type": "stream",
     "text": [
      "\r",
      "Epoch 10/25 - Training:  48%|████▊     | 66/137 [17:11<21:50, 18.45s/it]"
     ]
    },
    {
     "name": "stderr",
     "output_type": "stream",
     "text": [
      "\r",
      "Epoch 10/25 - Training:  49%|████▉     | 67/137 [17:12<15:22, 13.19s/it]"
     ]
    },
    {
     "name": "stderr",
     "output_type": "stream",
     "text": [
      "\r",
      "Epoch 10/25 - Training:  50%|████▉     | 68/137 [17:43<21:13, 18.46s/it]"
     ]
    },
    {
     "name": "stderr",
     "output_type": "stream",
     "text": [
      "\r",
      "Epoch 10/25 - Training:  50%|█████     | 69/137 [17:43<14:56, 13.19s/it]"
     ]
    },
    {
     "name": "stderr",
     "output_type": "stream",
     "text": [
      "\r",
      "Epoch 10/25 - Training:  51%|█████     | 70/137 [18:10<19:12, 17.20s/it]"
     ]
    },
    {
     "name": "stderr",
     "output_type": "stream",
     "text": [
      "\r",
      "Epoch 10/25 - Training:  52%|█████▏    | 71/137 [18:11<13:32, 12.31s/it]"
     ]
    },
    {
     "name": "stderr",
     "output_type": "stream",
     "text": [
      "\r",
      "Epoch 10/25 - Training:  53%|█████▎    | 72/137 [18:42<19:34, 18.07s/it]"
     ]
    },
    {
     "name": "stderr",
     "output_type": "stream",
     "text": [
      "\r",
      "Epoch 10/25 - Training:  53%|█████▎    | 73/137 [18:43<13:46, 12.92s/it]"
     ]
    },
    {
     "name": "stderr",
     "output_type": "stream",
     "text": [
      "\r",
      "Epoch 10/25 - Training:  54%|█████▍    | 74/137 [19:10<18:01, 17.16s/it]"
     ]
    },
    {
     "name": "stderr",
     "output_type": "stream",
     "text": [
      "\r",
      "Epoch 10/25 - Training:  55%|█████▍    | 75/137 [19:11<12:41, 12.28s/it]"
     ]
    },
    {
     "name": "stderr",
     "output_type": "stream",
     "text": [
      "\r",
      "Epoch 10/25 - Training:  55%|█████▌    | 76/137 [19:35<16:03, 15.80s/it]"
     ]
    },
    {
     "name": "stderr",
     "output_type": "stream",
     "text": [
      "\r",
      "Epoch 10/25 - Training:  56%|█████▌    | 77/137 [19:36<11:19, 11.33s/it]"
     ]
    },
    {
     "name": "stderr",
     "output_type": "stream",
     "text": [
      "\r",
      "Epoch 10/25 - Training:  57%|█████▋    | 78/137 [20:07<16:46, 17.07s/it]"
     ]
    },
    {
     "name": "stderr",
     "output_type": "stream",
     "text": [
      "\r",
      "Epoch 10/25 - Training:  58%|█████▊    | 79/137 [20:08<11:48, 12.21s/it]"
     ]
    },
    {
     "name": "stderr",
     "output_type": "stream",
     "text": [
      "\r",
      "Epoch 10/25 - Training:  58%|█████▊    | 80/137 [20:39<17:04, 17.97s/it]"
     ]
    },
    {
     "name": "stderr",
     "output_type": "stream",
     "text": [
      "\r",
      "Epoch 10/25 - Training:  59%|█████▉    | 81/137 [20:40<11:59, 12.85s/it]"
     ]
    },
    {
     "name": "stderr",
     "output_type": "stream",
     "text": [
      "\r",
      "Epoch 10/25 - Training:  60%|█████▉    | 82/137 [21:06<15:32, 16.96s/it]"
     ]
    },
    {
     "name": "stderr",
     "output_type": "stream",
     "text": [
      "\r",
      "Epoch 10/25 - Training:  61%|██████    | 83/137 [21:07<10:55, 12.14s/it]"
     ]
    },
    {
     "name": "stderr",
     "output_type": "stream",
     "text": [
      "\r",
      "Epoch 10/25 - Training:  61%|██████▏   | 84/137 [21:39<15:47, 17.87s/it]"
     ]
    },
    {
     "name": "stderr",
     "output_type": "stream",
     "text": [
      "\r",
      "Epoch 10/25 - Training:  62%|██████▏   | 85/137 [21:39<11:04, 12.78s/it]"
     ]
    },
    {
     "name": "stderr",
     "output_type": "stream",
     "text": [
      "\r",
      "Epoch 10/25 - Training:  63%|██████▎   | 86/137 [22:08<14:49, 17.44s/it]"
     ]
    },
    {
     "name": "stderr",
     "output_type": "stream",
     "text": [
      "\r",
      "Epoch 10/25 - Training:  64%|██████▎   | 87/137 [22:09<10:23, 12.48s/it]"
     ]
    },
    {
     "name": "stderr",
     "output_type": "stream",
     "text": [
      "\r",
      "Epoch 10/25 - Training:  64%|██████▍   | 88/137 [22:37<14:03, 17.22s/it]"
     ]
    },
    {
     "name": "stderr",
     "output_type": "stream",
     "text": [
      "\r",
      "Epoch 10/25 - Training:  65%|██████▍   | 89/137 [22:38<09:51, 12.32s/it]"
     ]
    },
    {
     "name": "stderr",
     "output_type": "stream",
     "text": [
      "\r",
      "Epoch 10/25 - Training:  66%|██████▌   | 90/137 [23:09<14:08, 18.06s/it]"
     ]
    },
    {
     "name": "stderr",
     "output_type": "stream",
     "text": [
      "\r",
      "Epoch 10/25 - Training:  66%|██████▋   | 91/137 [23:10<09:53, 12.91s/it]"
     ]
    },
    {
     "name": "stderr",
     "output_type": "stream",
     "text": [
      "\r",
      "Epoch 10/25 - Training:  67%|██████▋   | 92/137 [23:42<13:56, 18.58s/it]"
     ]
    },
    {
     "name": "stderr",
     "output_type": "stream",
     "text": [
      "\r",
      "Epoch 10/25 - Training:  68%|██████▊   | 93/137 [23:43<09:44, 13.28s/it]"
     ]
    },
    {
     "name": "stderr",
     "output_type": "stream",
     "text": [
      "\r",
      "Epoch 10/25 - Training:  69%|██████▊   | 94/137 [24:03<10:58, 15.30s/it]"
     ]
    },
    {
     "name": "stderr",
     "output_type": "stream",
     "text": [
      "\r",
      "Epoch 10/25 - Training:  69%|██████▉   | 95/137 [24:04<07:41, 10.98s/it]"
     ]
    },
    {
     "name": "stderr",
     "output_type": "stream",
     "text": [
      "\r",
      "Epoch 10/25 - Training:  70%|███████   | 96/137 [24:28<10:08, 14.83s/it]"
     ]
    },
    {
     "name": "stderr",
     "output_type": "stream",
     "text": [
      "\r",
      "Epoch 10/25 - Training:  71%|███████   | 97/137 [24:29<07:06, 10.65s/it]"
     ]
    },
    {
     "name": "stderr",
     "output_type": "stream",
     "text": [
      "\r",
      "Epoch 10/25 - Training:  72%|███████▏  | 98/137 [24:56<10:07, 15.58s/it]"
     ]
    },
    {
     "name": "stderr",
     "output_type": "stream",
     "text": [
      "\r",
      "Epoch 10/25 - Training:  72%|███████▏  | 99/137 [24:56<07:04, 11.17s/it]"
     ]
    },
    {
     "name": "stderr",
     "output_type": "stream",
     "text": [
      "\r",
      "Epoch 10/25 - Training:  73%|███████▎  | 100/137 [25:25<10:01, 16.24s/it]"
     ]
    },
    {
     "name": "stderr",
     "output_type": "stream",
     "text": [
      "\r",
      "Epoch 10/25 - Training:  74%|███████▎  | 101/137 [25:25<06:59, 11.64s/it]"
     ]
    },
    {
     "name": "stderr",
     "output_type": "stream",
     "text": [
      "\r",
      "Epoch 10/25 - Training:  74%|███████▍  | 102/137 [25:58<10:27, 17.93s/it]"
     ]
    },
    {
     "name": "stderr",
     "output_type": "stream",
     "text": [
      "\r",
      "Epoch 10/25 - Training:  75%|███████▌  | 103/137 [25:59<07:15, 12.82s/it]"
     ]
    },
    {
     "name": "stderr",
     "output_type": "stream",
     "text": [
      "\r",
      "Epoch 10/25 - Training:  76%|███████▌  | 104/137 [26:23<08:53, 16.16s/it]"
     ]
    },
    {
     "name": "stderr",
     "output_type": "stream",
     "text": [
      "\r",
      "Epoch 10/25 - Training:  77%|███████▋  | 105/137 [26:24<06:10, 11.58s/it]"
     ]
    },
    {
     "name": "stderr",
     "output_type": "stream",
     "text": [
      "\r",
      "Epoch 10/25 - Training:  77%|███████▋  | 106/137 [26:51<08:20, 16.16s/it]"
     ]
    },
    {
     "name": "stderr",
     "output_type": "stream",
     "text": [
      "\r",
      "Epoch 10/25 - Training:  78%|███████▊  | 107/137 [26:52<05:47, 11.58s/it]"
     ]
    },
    {
     "name": "stderr",
     "output_type": "stream",
     "text": [
      "\r",
      "Epoch 10/25 - Training:  79%|███████▉  | 108/137 [27:23<08:32, 17.69s/it]"
     ]
    },
    {
     "name": "stderr",
     "output_type": "stream",
     "text": [
      "\r",
      "Epoch 10/25 - Training:  80%|███████▉  | 109/137 [27:24<05:54, 12.65s/it]"
     ]
    },
    {
     "name": "stderr",
     "output_type": "stream",
     "text": [
      "\r",
      "Epoch 10/25 - Training:  80%|████████  | 110/137 [27:56<08:12, 18.24s/it]"
     ]
    },
    {
     "name": "stderr",
     "output_type": "stream",
     "text": [
      "\r",
      "Epoch 10/25 - Training:  81%|████████  | 111/137 [27:57<05:39, 13.04s/it]"
     ]
    },
    {
     "name": "stderr",
     "output_type": "stream",
     "text": [
      "\r",
      "Epoch 10/25 - Training:  82%|████████▏ | 112/137 [28:25<07:22, 17.71s/it]"
     ]
    },
    {
     "name": "stderr",
     "output_type": "stream",
     "text": [
      "\r",
      "Epoch 10/25 - Training:  82%|████████▏ | 113/137 [28:26<05:03, 12.67s/it]"
     ]
    },
    {
     "name": "stderr",
     "output_type": "stream",
     "text": [
      "\r",
      "Epoch 10/25 - Training:  83%|████████▎ | 114/137 [28:56<06:48, 17.78s/it]"
     ]
    },
    {
     "name": "stderr",
     "output_type": "stream",
     "text": [
      "\r",
      "Epoch 10/25 - Training:  84%|████████▍ | 115/137 [28:57<04:39, 12.72s/it]"
     ]
    },
    {
     "name": "stderr",
     "output_type": "stream",
     "text": [
      "\r",
      "Epoch 10/25 - Training:  85%|████████▍ | 116/137 [29:29<06:29, 18.54s/it]"
     ]
    },
    {
     "name": "stderr",
     "output_type": "stream",
     "text": [
      "\r",
      "Epoch 10/25 - Training:  85%|████████▌ | 117/137 [29:30<04:24, 13.25s/it]"
     ]
    },
    {
     "name": "stderr",
     "output_type": "stream",
     "text": [
      "\r",
      "Epoch 10/25 - Training:  86%|████████▌ | 118/137 [30:01<05:56, 18.75s/it]"
     ]
    },
    {
     "name": "stderr",
     "output_type": "stream",
     "text": [
      "\r",
      "Epoch 10/25 - Training:  87%|████████▋ | 119/137 [30:02<04:01, 13.40s/it]"
     ]
    },
    {
     "name": "stderr",
     "output_type": "stream",
     "text": [
      "\r",
      "Epoch 10/25 - Training:  88%|████████▊ | 120/137 [30:33<05:18, 18.72s/it]"
     ]
    },
    {
     "name": "stderr",
     "output_type": "stream",
     "text": [
      "\r",
      "Epoch 10/25 - Training:  88%|████████▊ | 121/137 [30:34<03:34, 13.38s/it]"
     ]
    },
    {
     "name": "stderr",
     "output_type": "stream",
     "text": [
      "\r",
      "Epoch 10/25 - Training:  89%|████████▉ | 122/137 [31:06<04:44, 18.99s/it]"
     ]
    },
    {
     "name": "stderr",
     "output_type": "stream",
     "text": [
      "\r",
      "Epoch 10/25 - Training:  90%|████████▉ | 123/137 [31:07<03:09, 13.56s/it]"
     ]
    },
    {
     "name": "stderr",
     "output_type": "stream",
     "text": [
      "\r",
      "Epoch 10/25 - Training:  91%|█████████ | 124/137 [31:35<03:50, 17.76s/it]"
     ]
    },
    {
     "name": "stderr",
     "output_type": "stream",
     "text": [
      "\r",
      "Epoch 10/25 - Training:  91%|█████████ | 125/137 [31:36<02:32, 12.70s/it]"
     ]
    },
    {
     "name": "stderr",
     "output_type": "stream",
     "text": [
      "\r",
      "Epoch 10/25 - Training:  92%|█████████▏| 126/137 [32:03<03:08, 17.12s/it]"
     ]
    },
    {
     "name": "stderr",
     "output_type": "stream",
     "text": [
      "\r",
      "Epoch 10/25 - Training:  93%|█████████▎| 127/137 [32:04<02:02, 12.26s/it]"
     ]
    },
    {
     "name": "stderr",
     "output_type": "stream",
     "text": [
      "\r",
      "Epoch 10/25 - Training:  93%|█████████▎| 128/137 [32:32<02:32, 16.97s/it]"
     ]
    },
    {
     "name": "stderr",
     "output_type": "stream",
     "text": [
      "\r",
      "Epoch 10/25 - Training:  94%|█████████▍| 129/137 [32:33<01:37, 12.15s/it]"
     ]
    },
    {
     "name": "stderr",
     "output_type": "stream",
     "text": [
      "\r",
      "Epoch 10/25 - Training:  95%|█████████▍| 130/137 [33:04<02:04, 17.85s/it]"
     ]
    },
    {
     "name": "stderr",
     "output_type": "stream",
     "text": [
      "\r",
      "Epoch 10/25 - Training:  96%|█████████▌| 131/137 [33:05<01:16, 12.77s/it]"
     ]
    },
    {
     "name": "stderr",
     "output_type": "stream",
     "text": [
      "\r",
      "Epoch 10/25 - Training:  96%|█████████▋| 132/137 [33:35<01:30, 18.09s/it]"
     ]
    },
    {
     "name": "stderr",
     "output_type": "stream",
     "text": [
      "\r",
      "Epoch 10/25 - Training:  97%|█████████▋| 133/137 [33:36<00:51, 12.93s/it]"
     ]
    },
    {
     "name": "stderr",
     "output_type": "stream",
     "text": [
      "\r",
      "Epoch 10/25 - Training:  98%|█████████▊| 134/137 [34:08<00:55, 18.56s/it]"
     ]
    },
    {
     "name": "stderr",
     "output_type": "stream",
     "text": [
      "\r",
      "Epoch 10/25 - Training:  99%|█████████▊| 135/137 [34:09<00:26, 13.27s/it]"
     ]
    },
    {
     "name": "stderr",
     "output_type": "stream",
     "text": [
      "\r",
      "Epoch 10/25 - Training:  99%|█████████▉| 136/137 [34:39<00:18, 18.29s/it]"
     ]
    },
    {
     "name": "stderr",
     "output_type": "stream",
     "text": [
      "\r",
      "Epoch 10/25 - Training: 100%|██████████| 137/137 [34:39<00:00, 12.91s/it]"
     ]
    },
    {
     "name": "stderr",
     "output_type": "stream",
     "text": [
      "\r",
      "Epoch 10/25 - Training: 100%|██████████| 137/137 [34:39<00:00, 15.18s/it]"
     ]
    },
    {
     "name": "stderr",
     "output_type": "stream",
     "text": [
      "\n"
     ]
    },
    {
     "name": "stderr",
     "output_type": "stream",
     "text": [
      "\r",
      "Epoch 10/25 - Validation:   0%|          | 0/137 [00:00<?, ?it/s]"
     ]
    },
    {
     "name": "stderr",
     "output_type": "stream",
     "text": [
      "\r",
      "Epoch 10/25 - Validation:   1%|          | 1/137 [00:33<1:16:05, 33.57s/it]"
     ]
    },
    {
     "name": "stderr",
     "output_type": "stream",
     "text": [
      "\r",
      "Epoch 10/25 - Validation:   1%|▏         | 2/137 [00:33<31:31, 14.01s/it]  "
     ]
    },
    {
     "name": "stderr",
     "output_type": "stream",
     "text": [
      "\r",
      "Epoch 10/25 - Validation:   2%|▏         | 3/137 [01:06<50:37, 22.66s/it]"
     ]
    },
    {
     "name": "stderr",
     "output_type": "stream",
     "text": [
      "\r",
      "Epoch 10/25 - Validation:   3%|▎         | 4/137 [01:07<30:40, 13.84s/it]"
     ]
    },
    {
     "name": "stderr",
     "output_type": "stream",
     "text": [
      "\r",
      "Epoch 10/25 - Validation:   4%|▎         | 5/137 [01:39<44:47, 20.36s/it]"
     ]
    },
    {
     "name": "stderr",
     "output_type": "stream",
     "text": [
      "\r",
      "Epoch 10/25 - Validation:   4%|▍         | 6/137 [01:39<29:34, 13.55s/it]"
     ]
    },
    {
     "name": "stderr",
     "output_type": "stream",
     "text": [
      "\r",
      "Epoch 10/25 - Validation:   5%|▌         | 7/137 [02:11<42:12, 19.48s/it]"
     ]
    },
    {
     "name": "stderr",
     "output_type": "stream",
     "text": [
      "\r",
      "Epoch 10/25 - Validation:   6%|▌         | 8/137 [02:11<28:45, 13.38s/it]"
     ]
    },
    {
     "name": "stderr",
     "output_type": "stream",
     "text": [
      "\r",
      "Epoch 10/25 - Validation:   7%|▋         | 9/137 [02:43<40:42, 19.08s/it]"
     ]
    },
    {
     "name": "stderr",
     "output_type": "stream",
     "text": [
      "\r",
      "Epoch 10/25 - Validation:   7%|▋         | 10/137 [02:43<28:07, 13.29s/it]"
     ]
    },
    {
     "name": "stderr",
     "output_type": "stream",
     "text": [
      "\r",
      "Epoch 10/25 - Validation:   8%|▊         | 11/137 [03:15<40:02, 19.07s/it]"
     ]
    },
    {
     "name": "stderr",
     "output_type": "stream",
     "text": [
      "\r",
      "Epoch 10/25 - Validation:   9%|▉         | 12/137 [03:15<27:55, 13.40s/it]"
     ]
    },
    {
     "name": "stderr",
     "output_type": "stream",
     "text": [
      "\r",
      "Epoch 10/25 - Validation:   9%|▉         | 13/137 [03:48<39:59, 19.35s/it]"
     ]
    },
    {
     "name": "stderr",
     "output_type": "stream",
     "text": [
      "\r",
      "Epoch 10/25 - Validation:  10%|█         | 14/137 [03:49<27:52, 13.60s/it]"
     ]
    },
    {
     "name": "stderr",
     "output_type": "stream",
     "text": [
      "\r",
      "Epoch 10/25 - Validation:  11%|█         | 15/137 [04:20<38:41, 19.03s/it]"
     ]
    },
    {
     "name": "stderr",
     "output_type": "stream",
     "text": [
      "\r",
      "Epoch 10/25 - Validation:  12%|█▏        | 16/137 [04:21<27:00, 13.40s/it]"
     ]
    },
    {
     "name": "stderr",
     "output_type": "stream",
     "text": [
      "\r",
      "Epoch 10/25 - Validation:  12%|█▏        | 17/137 [04:52<37:40, 18.84s/it]"
     ]
    },
    {
     "name": "stderr",
     "output_type": "stream",
     "text": [
      "\r",
      "Epoch 10/25 - Validation:  13%|█▎        | 18/137 [04:53<26:19, 13.27s/it]"
     ]
    },
    {
     "name": "stderr",
     "output_type": "stream",
     "text": [
      "\r",
      "Epoch 10/25 - Validation:  14%|█▍        | 19/137 [05:25<37:27, 19.04s/it]"
     ]
    },
    {
     "name": "stderr",
     "output_type": "stream",
     "text": [
      "\r",
      "Epoch 10/25 - Validation:  15%|█▍        | 20/137 [05:25<26:10, 13.42s/it]"
     ]
    },
    {
     "name": "stderr",
     "output_type": "stream",
     "text": [
      "\r",
      "Epoch 10/25 - Validation:  15%|█▌        | 21/137 [05:58<37:16, 19.28s/it]"
     ]
    },
    {
     "name": "stderr",
     "output_type": "stream",
     "text": [
      "\r",
      "Epoch 10/25 - Validation:  16%|█▌        | 22/137 [05:59<26:02, 13.59s/it]"
     ]
    },
    {
     "name": "stderr",
     "output_type": "stream",
     "text": [
      "\r",
      "Epoch 10/25 - Validation:  17%|█▋        | 23/137 [06:31<36:40, 19.30s/it]"
     ]
    },
    {
     "name": "stderr",
     "output_type": "stream",
     "text": [
      "\r",
      "Epoch 10/25 - Validation:  18%|█▊        | 24/137 [06:32<25:37, 13.60s/it]"
     ]
    },
    {
     "name": "stderr",
     "output_type": "stream",
     "text": [
      "\r",
      "Epoch 10/25 - Validation:  18%|█▊        | 25/137 [07:04<36:12, 19.40s/it]"
     ]
    },
    {
     "name": "stderr",
     "output_type": "stream",
     "text": [
      "\r",
      "Epoch 10/25 - Validation:  19%|█▉        | 26/137 [07:05<25:17, 13.67s/it]"
     ]
    },
    {
     "name": "stderr",
     "output_type": "stream",
     "text": [
      "\r",
      "Epoch 10/25 - Validation:  20%|█▉        | 27/137 [07:35<34:21, 18.74s/it]"
     ]
    },
    {
     "name": "stderr",
     "output_type": "stream",
     "text": [
      "\r",
      "Epoch 10/25 - Validation:  20%|██        | 28/137 [07:36<23:59, 13.21s/it]"
     ]
    },
    {
     "name": "stderr",
     "output_type": "stream",
     "text": [
      "\r",
      "Epoch 10/25 - Validation:  21%|██        | 29/137 [08:08<34:03, 18.92s/it]"
     ]
    },
    {
     "name": "stderr",
     "output_type": "stream",
     "text": [
      "\r",
      "Epoch 10/25 - Validation:  22%|██▏       | 30/137 [08:08<23:46, 13.33s/it]"
     ]
    },
    {
     "name": "stderr",
     "output_type": "stream",
     "text": [
      "\r",
      "Epoch 10/25 - Validation:  23%|██▎       | 31/137 [08:40<33:32, 18.99s/it]"
     ]
    },
    {
     "name": "stderr",
     "output_type": "stream",
     "text": [
      "\r",
      "Epoch 10/25 - Validation:  23%|██▎       | 32/137 [08:41<23:25, 13.38s/it]"
     ]
    },
    {
     "name": "stderr",
     "output_type": "stream",
     "text": [
      "\r",
      "Epoch 10/25 - Validation:  24%|██▍       | 33/137 [09:13<33:09, 19.13s/it]"
     ]
    },
    {
     "name": "stderr",
     "output_type": "stream",
     "text": [
      "\r",
      "Epoch 10/25 - Validation:  25%|██▍       | 34/137 [09:14<23:09, 13.49s/it]"
     ]
    },
    {
     "name": "stderr",
     "output_type": "stream",
     "text": [
      "\r",
      "Epoch 10/25 - Validation:  26%|██▌       | 35/137 [09:45<32:19, 19.01s/it]"
     ]
    },
    {
     "name": "stderr",
     "output_type": "stream",
     "text": [
      "\r",
      "Epoch 10/25 - Validation:  26%|██▋       | 36/137 [09:46<22:33, 13.40s/it]"
     ]
    },
    {
     "name": "stderr",
     "output_type": "stream",
     "text": [
      "\r",
      "Epoch 10/25 - Validation:  27%|██▋       | 37/137 [10:18<31:50, 19.10s/it]"
     ]
    },
    {
     "name": "stderr",
     "output_type": "stream",
     "text": [
      "\r",
      "Epoch 10/25 - Validation:  28%|██▊       | 38/137 [10:18<22:13, 13.47s/it]"
     ]
    },
    {
     "name": "stderr",
     "output_type": "stream",
     "text": [
      "\r",
      "Epoch 10/25 - Validation:  28%|██▊       | 39/137 [10:50<30:43, 18.81s/it]"
     ]
    },
    {
     "name": "stderr",
     "output_type": "stream",
     "text": [
      "\r",
      "Epoch 10/25 - Validation:  29%|██▉       | 40/137 [10:50<21:26, 13.26s/it]"
     ]
    },
    {
     "name": "stderr",
     "output_type": "stream",
     "text": [
      "\r",
      "Epoch 10/25 - Validation:  30%|██▉       | 41/137 [11:22<30:17, 18.93s/it]"
     ]
    },
    {
     "name": "stderr",
     "output_type": "stream",
     "text": [
      "\r",
      "Epoch 10/25 - Validation:  31%|███       | 42/137 [11:23<21:08, 13.35s/it]"
     ]
    },
    {
     "name": "stderr",
     "output_type": "stream",
     "text": [
      "\r",
      "Epoch 10/25 - Validation:  31%|███▏      | 43/137 [11:54<29:16, 18.69s/it]"
     ]
    },
    {
     "name": "stderr",
     "output_type": "stream",
     "text": [
      "\r",
      "Epoch 10/25 - Validation:  32%|███▏      | 44/137 [11:54<20:25, 13.17s/it]"
     ]
    },
    {
     "name": "stderr",
     "output_type": "stream",
     "text": [
      "\r",
      "Epoch 10/25 - Validation:  33%|███▎      | 45/137 [12:25<28:26, 18.55s/it]"
     ]
    },
    {
     "name": "stderr",
     "output_type": "stream",
     "text": [
      "\r",
      "Epoch 10/25 - Validation:  34%|███▎      | 46/137 [12:25<19:50, 13.08s/it]"
     ]
    },
    {
     "name": "stderr",
     "output_type": "stream",
     "text": [
      "\r",
      "Epoch 10/25 - Validation:  34%|███▍      | 47/137 [12:57<28:06, 18.74s/it]"
     ]
    },
    {
     "name": "stderr",
     "output_type": "stream",
     "text": [
      "\r",
      "Epoch 10/25 - Validation:  35%|███▌      | 48/137 [12:58<19:35, 13.21s/it]"
     ]
    },
    {
     "name": "stderr",
     "output_type": "stream",
     "text": [
      "\r",
      "Epoch 10/25 - Validation:  36%|███▌      | 49/137 [13:29<27:30, 18.76s/it]"
     ]
    },
    {
     "name": "stderr",
     "output_type": "stream",
     "text": [
      "\r",
      "Epoch 10/25 - Validation:  36%|███▋      | 50/137 [13:30<19:10, 13.23s/it]"
     ]
    },
    {
     "name": "stderr",
     "output_type": "stream",
     "text": [
      "\r",
      "Epoch 10/25 - Validation:  37%|███▋      | 51/137 [14:01<26:43, 18.65s/it]"
     ]
    },
    {
     "name": "stderr",
     "output_type": "stream",
     "text": [
      "\r",
      "Epoch 10/25 - Validation:  38%|███▊      | 52/137 [14:01<18:37, 13.15s/it]"
     ]
    },
    {
     "name": "stderr",
     "output_type": "stream",
     "text": [
      "\r",
      "Epoch 10/25 - Validation:  39%|███▊      | 53/137 [14:32<25:50, 18.46s/it]"
     ]
    },
    {
     "name": "stderr",
     "output_type": "stream",
     "text": [
      "\r",
      "Epoch 10/25 - Validation:  39%|███▉      | 54/137 [14:32<18:00, 13.01s/it]"
     ]
    },
    {
     "name": "stderr",
     "output_type": "stream",
     "text": [
      "\r",
      "Epoch 10/25 - Validation:  40%|████      | 55/137 [15:04<25:29, 18.65s/it]"
     ]
    },
    {
     "name": "stderr",
     "output_type": "stream",
     "text": [
      "\r",
      "Epoch 10/25 - Validation:  41%|████      | 56/137 [15:05<17:56, 13.29s/it]"
     ]
    },
    {
     "name": "stderr",
     "output_type": "stream",
     "text": [
      "\r",
      "Epoch 10/25 - Validation:  42%|████▏     | 57/137 [15:37<25:14, 18.94s/it]"
     ]
    },
    {
     "name": "stderr",
     "output_type": "stream",
     "text": [
      "\r",
      "Epoch 10/25 - Validation:  42%|████▏     | 58/137 [15:37<17:34, 13.35s/it]"
     ]
    },
    {
     "name": "stderr",
     "output_type": "stream",
     "text": [
      "\r",
      "Epoch 10/25 - Validation:  43%|████▎     | 59/137 [16:10<24:50, 19.11s/it]"
     ]
    },
    {
     "name": "stderr",
     "output_type": "stream",
     "text": [
      "\r",
      "Epoch 10/25 - Validation:  44%|████▍     | 60/137 [16:10<17:17, 13.47s/it]"
     ]
    },
    {
     "name": "stderr",
     "output_type": "stream",
     "text": [
      "\r",
      "Epoch 10/25 - Validation:  45%|████▍     | 61/137 [16:42<24:02, 18.98s/it]"
     ]
    },
    {
     "name": "stderr",
     "output_type": "stream",
     "text": [
      "\r",
      "Epoch 10/25 - Validation:  45%|████▌     | 62/137 [16:42<16:43, 13.38s/it]"
     ]
    },
    {
     "name": "stderr",
     "output_type": "stream",
     "text": [
      "\r",
      "Epoch 10/25 - Validation:  46%|████▌     | 63/137 [17:14<23:21, 18.94s/it]"
     ]
    },
    {
     "name": "stderr",
     "output_type": "stream",
     "text": [
      "\r",
      "Epoch 10/25 - Validation:  47%|████▋     | 64/137 [17:15<16:14, 13.35s/it]"
     ]
    },
    {
     "name": "stderr",
     "output_type": "stream",
     "text": [
      "\r",
      "Epoch 10/25 - Validation:  47%|████▋     | 65/137 [17:48<23:06, 19.25s/it]"
     ]
    },
    {
     "name": "stderr",
     "output_type": "stream",
     "text": [
      "\r",
      "Epoch 10/25 - Validation:  48%|████▊     | 66/137 [17:48<16:03, 13.57s/it]"
     ]
    },
    {
     "name": "stderr",
     "output_type": "stream",
     "text": [
      "\r",
      "Epoch 10/25 - Validation:  49%|████▉     | 67/137 [18:20<22:22, 19.17s/it]"
     ]
    },
    {
     "name": "stderr",
     "output_type": "stream",
     "text": [
      "\r",
      "Epoch 10/25 - Validation:  50%|████▉     | 68/137 [18:21<15:32, 13.52s/it]"
     ]
    },
    {
     "name": "stderr",
     "output_type": "stream",
     "text": [
      "\r",
      "Epoch 10/25 - Validation:  50%|█████     | 69/137 [18:52<21:32, 19.01s/it]"
     ]
    },
    {
     "name": "stderr",
     "output_type": "stream",
     "text": [
      "\r",
      "Epoch 10/25 - Validation:  51%|█████     | 70/137 [18:53<14:57, 13.40s/it]"
     ]
    },
    {
     "name": "stderr",
     "output_type": "stream",
     "text": [
      "\r",
      "Epoch 10/25 - Validation:  52%|█████▏    | 71/137 [19:23<20:26, 18.58s/it]"
     ]
    },
    {
     "name": "stderr",
     "output_type": "stream",
     "text": [
      "\r",
      "Epoch 10/25 - Validation:  53%|█████▎    | 72/137 [19:24<14:11, 13.10s/it]"
     ]
    },
    {
     "name": "stderr",
     "output_type": "stream",
     "text": [
      "\r",
      "Epoch 10/25 - Validation:  53%|█████▎    | 73/137 [19:57<20:23, 19.11s/it]"
     ]
    },
    {
     "name": "stderr",
     "output_type": "stream",
     "text": [
      "\r",
      "Epoch 10/25 - Validation:  54%|█████▍    | 74/137 [19:57<14:08, 13.47s/it]"
     ]
    },
    {
     "name": "stderr",
     "output_type": "stream",
     "text": [
      "\r",
      "Epoch 10/25 - Validation:  55%|█████▍    | 75/137 [20:29<19:45, 19.12s/it]"
     ]
    },
    {
     "name": "stderr",
     "output_type": "stream",
     "text": [
      "\r",
      "Epoch 10/25 - Validation:  55%|█████▌    | 76/137 [20:30<13:41, 13.48s/it]"
     ]
    },
    {
     "name": "stderr",
     "output_type": "stream",
     "text": [
      "\r",
      "Epoch 10/25 - Validation:  56%|█████▌    | 77/137 [21:02<19:14, 19.23s/it]"
     ]
    },
    {
     "name": "stderr",
     "output_type": "stream",
     "text": [
      "\r",
      "Epoch 10/25 - Validation:  57%|█████▋    | 78/137 [21:03<13:19, 13.56s/it]"
     ]
    },
    {
     "name": "stderr",
     "output_type": "stream",
     "text": [
      "\r",
      "Epoch 10/25 - Validation:  58%|█████▊    | 79/137 [21:35<18:38, 19.28s/it]"
     ]
    },
    {
     "name": "stderr",
     "output_type": "stream",
     "text": [
      "\r",
      "Epoch 10/25 - Validation:  58%|█████▊    | 80/137 [21:36<12:54, 13.59s/it]"
     ]
    },
    {
     "name": "stderr",
     "output_type": "stream",
     "text": [
      "\r",
      "Epoch 10/25 - Validation:  59%|█████▉    | 81/137 [22:09<18:08, 19.44s/it]"
     ]
    },
    {
     "name": "stderr",
     "output_type": "stream",
     "text": [
      "\r",
      "Epoch 10/25 - Validation:  60%|█████▉    | 82/137 [22:09<12:33, 13.70s/it]"
     ]
    },
    {
     "name": "stderr",
     "output_type": "stream",
     "text": [
      "\r",
      "Epoch 10/25 - Validation:  61%|██████    | 83/137 [22:42<17:27, 19.40s/it]"
     ]
    },
    {
     "name": "stderr",
     "output_type": "stream",
     "text": [
      "\r",
      "Epoch 10/25 - Validation:  61%|██████▏   | 84/137 [22:42<12:04, 13.67s/it]"
     ]
    },
    {
     "name": "stderr",
     "output_type": "stream",
     "text": [
      "\r",
      "Epoch 10/25 - Validation:  62%|██████▏   | 85/137 [23:15<16:47, 19.37s/it]"
     ]
    },
    {
     "name": "stderr",
     "output_type": "stream",
     "text": [
      "\r",
      "Epoch 10/25 - Validation:  63%|██████▎   | 86/137 [23:15<11:36, 13.65s/it]"
     ]
    },
    {
     "name": "stderr",
     "output_type": "stream",
     "text": [
      "\r",
      "Epoch 10/25 - Validation:  64%|██████▎   | 87/137 [23:47<15:51, 19.02s/it]"
     ]
    },
    {
     "name": "stderr",
     "output_type": "stream",
     "text": [
      "\r",
      "Epoch 10/25 - Validation:  64%|██████▍   | 88/137 [23:47<10:57, 13.41s/it]"
     ]
    },
    {
     "name": "stderr",
     "output_type": "stream",
     "text": [
      "\r",
      "Epoch 10/25 - Validation:  65%|██████▍   | 89/137 [24:19<15:10, 18.97s/it]"
     ]
    },
    {
     "name": "stderr",
     "output_type": "stream",
     "text": [
      "\r",
      "Epoch 10/25 - Validation:  66%|██████▌   | 90/137 [24:19<10:28, 13.37s/it]"
     ]
    },
    {
     "name": "stderr",
     "output_type": "stream",
     "text": [
      "\r",
      "Epoch 10/25 - Validation:  66%|██████▋   | 91/137 [24:51<14:33, 18.99s/it]"
     ]
    },
    {
     "name": "stderr",
     "output_type": "stream",
     "text": [
      "\r",
      "Epoch 10/25 - Validation:  67%|██████▋   | 92/137 [24:52<10:02, 13.39s/it]"
     ]
    },
    {
     "name": "stderr",
     "output_type": "stream",
     "text": [
      "\r",
      "Epoch 10/25 - Validation:  68%|██████▊   | 93/137 [25:24<13:56, 19.02s/it]"
     ]
    },
    {
     "name": "stderr",
     "output_type": "stream",
     "text": [
      "\r",
      "Epoch 10/25 - Validation:  69%|██████▊   | 94/137 [25:24<09:36, 13.41s/it]"
     ]
    },
    {
     "name": "stderr",
     "output_type": "stream",
     "text": [
      "\r",
      "Epoch 10/25 - Validation:  69%|██████▉   | 95/137 [25:55<12:59, 18.56s/it]"
     ]
    },
    {
     "name": "stderr",
     "output_type": "stream",
     "text": [
      "\r",
      "Epoch 10/25 - Validation:  70%|███████   | 96/137 [25:55<08:56, 13.09s/it]"
     ]
    },
    {
     "name": "stderr",
     "output_type": "stream",
     "text": [
      "\r",
      "Epoch 10/25 - Validation:  71%|███████   | 97/137 [26:28<12:39, 18.99s/it]"
     ]
    },
    {
     "name": "stderr",
     "output_type": "stream",
     "text": [
      "\r",
      "Epoch 10/25 - Validation:  72%|███████▏  | 98/137 [26:28<08:42, 13.39s/it]"
     ]
    },
    {
     "name": "stderr",
     "output_type": "stream",
     "text": [
      "\r",
      "Epoch 10/25 - Validation:  72%|███████▏  | 99/137 [26:59<11:53, 18.78s/it]"
     ]
    },
    {
     "name": "stderr",
     "output_type": "stream",
     "text": [
      "\r",
      "Epoch 10/25 - Validation:  73%|███████▎  | 100/137 [27:00<08:09, 13.24s/it]"
     ]
    },
    {
     "name": "stderr",
     "output_type": "stream",
     "text": [
      "\r",
      "Epoch 10/25 - Validation:  74%|███████▎  | 101/137 [27:32<11:22, 18.96s/it]"
     ]
    },
    {
     "name": "stderr",
     "output_type": "stream",
     "text": [
      "\r",
      "Epoch 10/25 - Validation:  74%|███████▍  | 102/137 [27:32<07:47, 13.36s/it]"
     ]
    },
    {
     "name": "stderr",
     "output_type": "stream",
     "text": [
      "\r",
      "Epoch 10/25 - Validation:  75%|███████▌  | 103/137 [28:04<10:39, 18.80s/it]"
     ]
    },
    {
     "name": "stderr",
     "output_type": "stream",
     "text": [
      "\r",
      "Epoch 10/25 - Validation:  76%|███████▌  | 104/137 [28:04<07:17, 13.26s/it]"
     ]
    },
    {
     "name": "stderr",
     "output_type": "stream",
     "text": [
      "\r",
      "Epoch 10/25 - Validation:  77%|███████▋  | 105/137 [28:38<10:18, 19.33s/it]"
     ]
    },
    {
     "name": "stderr",
     "output_type": "stream",
     "text": [
      "\r",
      "Epoch 10/25 - Validation:  77%|███████▋  | 106/137 [28:38<07:02, 13.62s/it]"
     ]
    },
    {
     "name": "stderr",
     "output_type": "stream",
     "text": [
      "\r",
      "Epoch 10/25 - Validation:  78%|███████▊  | 107/137 [29:10<09:36, 19.21s/it]"
     ]
    },
    {
     "name": "stderr",
     "output_type": "stream",
     "text": [
      "\r",
      "Epoch 10/25 - Validation:  79%|███████▉  | 108/137 [29:11<06:32, 13.54s/it]"
     ]
    },
    {
     "name": "stderr",
     "output_type": "stream",
     "text": [
      "\r",
      "Epoch 10/25 - Validation:  80%|███████▉  | 109/137 [29:42<08:52, 19.00s/it]"
     ]
    },
    {
     "name": "stderr",
     "output_type": "stream",
     "text": [
      "\r",
      "Epoch 10/25 - Validation:  80%|████████  | 110/137 [29:43<06:01, 13.40s/it]"
     ]
    },
    {
     "name": "stderr",
     "output_type": "stream",
     "text": [
      "\r",
      "Epoch 10/25 - Validation:  81%|████████  | 111/137 [30:15<08:19, 19.20s/it]"
     ]
    },
    {
     "name": "stderr",
     "output_type": "stream",
     "text": [
      "\r",
      "Epoch 10/25 - Validation:  82%|████████▏ | 112/137 [30:16<05:38, 13.53s/it]"
     ]
    },
    {
     "name": "stderr",
     "output_type": "stream",
     "text": [
      "\r",
      "Epoch 10/25 - Validation:  82%|████████▏ | 113/137 [30:49<07:43, 19.33s/it]"
     ]
    },
    {
     "name": "stderr",
     "output_type": "stream",
     "text": [
      "\r",
      "Epoch 10/25 - Validation:  83%|████████▎ | 114/137 [30:49<05:13, 13.63s/it]"
     ]
    },
    {
     "name": "stderr",
     "output_type": "stream",
     "text": [
      "\r",
      "Epoch 10/25 - Validation:  84%|████████▍ | 115/137 [31:21<07:01, 19.17s/it]"
     ]
    },
    {
     "name": "stderr",
     "output_type": "stream",
     "text": [
      "\r",
      "Epoch 10/25 - Validation:  85%|████████▍ | 116/137 [31:21<04:43, 13.51s/it]"
     ]
    },
    {
     "name": "stderr",
     "output_type": "stream",
     "text": [
      "\r",
      "Epoch 10/25 - Validation:  85%|████████▌ | 117/137 [31:53<06:18, 18.90s/it]"
     ]
    },
    {
     "name": "stderr",
     "output_type": "stream",
     "text": [
      "\r",
      "Epoch 10/25 - Validation:  86%|████████▌ | 118/137 [31:53<04:13, 13.32s/it]"
     ]
    },
    {
     "name": "stderr",
     "output_type": "stream",
     "text": [
      "\r",
      "Epoch 10/25 - Validation:  87%|████████▋ | 119/137 [32:26<05:44, 19.15s/it]"
     ]
    },
    {
     "name": "stderr",
     "output_type": "stream",
     "text": [
      "\r",
      "Epoch 10/25 - Validation:  88%|████████▊ | 120/137 [32:26<03:49, 13.50s/it]"
     ]
    },
    {
     "name": "stderr",
     "output_type": "stream",
     "text": [
      "\r",
      "Epoch 10/25 - Validation:  88%|████████▊ | 121/137 [32:58<05:04, 19.04s/it]"
     ]
    },
    {
     "name": "stderr",
     "output_type": "stream",
     "text": [
      "\r",
      "Epoch 10/25 - Validation:  89%|████████▉ | 122/137 [32:58<03:21, 13.42s/it]"
     ]
    },
    {
     "name": "stderr",
     "output_type": "stream",
     "text": [
      "\r",
      "Epoch 10/25 - Validation:  90%|████████▉ | 123/137 [33:30<04:23, 18.84s/it]"
     ]
    },
    {
     "name": "stderr",
     "output_type": "stream",
     "text": [
      "\r",
      "Epoch 10/25 - Validation:  91%|█████████ | 124/137 [33:30<02:52, 13.28s/it]"
     ]
    },
    {
     "name": "stderr",
     "output_type": "stream",
     "text": [
      "\r",
      "Epoch 10/25 - Validation:  91%|█████████ | 125/137 [34:02<03:47, 18.92s/it]"
     ]
    },
    {
     "name": "stderr",
     "output_type": "stream",
     "text": [
      "\r",
      "Epoch 10/25 - Validation:  92%|█████████▏| 126/137 [34:03<02:26, 13.34s/it]"
     ]
    },
    {
     "name": "stderr",
     "output_type": "stream",
     "text": [
      "\r",
      "Epoch 10/25 - Validation:  93%|█████████▎| 127/137 [34:33<03:05, 18.59s/it]"
     ]
    },
    {
     "name": "stderr",
     "output_type": "stream",
     "text": [
      "\r",
      "Epoch 10/25 - Validation:  93%|█████████▎| 128/137 [34:34<01:57, 13.11s/it]"
     ]
    },
    {
     "name": "stderr",
     "output_type": "stream",
     "text": [
      "\r",
      "Epoch 10/25 - Validation:  94%|█████████▍| 129/137 [35:06<02:31, 18.94s/it]"
     ]
    },
    {
     "name": "stderr",
     "output_type": "stream",
     "text": [
      "\r",
      "Epoch 10/25 - Validation:  95%|█████████▍| 130/137 [35:07<01:33, 13.35s/it]"
     ]
    },
    {
     "name": "stderr",
     "output_type": "stream",
     "text": [
      "\r",
      "Epoch 10/25 - Validation:  96%|█████████▌| 131/137 [35:38<01:52, 18.79s/it]"
     ]
    },
    {
     "name": "stderr",
     "output_type": "stream",
     "text": [
      "\r",
      "Epoch 10/25 - Validation:  96%|█████████▋| 132/137 [35:38<01:06, 13.24s/it]"
     ]
    },
    {
     "name": "stderr",
     "output_type": "stream",
     "text": [
      "\r",
      "Epoch 10/25 - Validation:  97%|█████████▋| 133/137 [36:10<01:14, 18.71s/it]"
     ]
    },
    {
     "name": "stderr",
     "output_type": "stream",
     "text": [
      "\r",
      "Epoch 10/25 - Validation:  98%|█████████▊| 134/137 [36:10<00:39, 13.19s/it]"
     ]
    },
    {
     "name": "stderr",
     "output_type": "stream",
     "text": [
      "\r",
      "Epoch 10/25 - Validation:  99%|█████████▊| 135/137 [36:42<00:37, 18.75s/it]"
     ]
    },
    {
     "name": "stderr",
     "output_type": "stream",
     "text": [
      "\r",
      "Epoch 10/25 - Validation:  99%|█████████▉| 136/137 [36:42<00:13, 13.22s/it]"
     ]
    },
    {
     "name": "stderr",
     "output_type": "stream",
     "text": [
      "\r",
      "Epoch 10/25 - Validation: 100%|██████████| 137/137 [36:53<00:00, 12.63s/it]"
     ]
    },
    {
     "name": "stderr",
     "output_type": "stream",
     "text": [
      "\r",
      "Epoch 10/25 - Validation: 100%|██████████| 137/137 [36:53<00:00, 16.16s/it]"
     ]
    },
    {
     "name": "stderr",
     "output_type": "stream",
     "text": [
      "\n"
     ]
    },
    {
     "name": "stdout",
     "output_type": "stream",
     "text": [
      "Epoch 10/25:\n",
      "Train Loss: 1.0760, Train Acc: 0.4500\n",
      "Val Loss: 1.0927, Val Acc: 0.4500\n"
     ]
    },
    {
     "name": "stderr",
     "output_type": "stream",
     "text": [
      "\r",
      "Epoch 11/25 - Training:   0%|          | 0/137 [00:00<?, ?it/s]"
     ]
    },
    {
     "name": "stderr",
     "output_type": "stream",
     "text": [
      "\r",
      "Epoch 11/25 - Training:   1%|          | 1/137 [00:33<1:15:23, 33.26s/it]"
     ]
    },
    {
     "name": "stderr",
     "output_type": "stream",
     "text": [
      "\r",
      "Epoch 11/25 - Training:   1%|▏         | 2/137 [00:35<33:27, 14.87s/it]  "
     ]
    },
    {
     "name": "stderr",
     "output_type": "stream",
     "text": [
      "\r",
      "Epoch 11/25 - Training:   2%|▏         | 3/137 [01:07<50:25, 22.58s/it]"
     ]
    },
    {
     "name": "stderr",
     "output_type": "stream",
     "text": [
      "\r",
      "Epoch 11/25 - Training:   3%|▎         | 4/137 [01:08<31:57, 14.42s/it]"
     ]
    },
    {
     "name": "stderr",
     "output_type": "stream",
     "text": [
      "\r",
      "Epoch 11/25 - Training:   4%|▎         | 5/137 [01:40<45:29, 20.68s/it]"
     ]
    },
    {
     "name": "stderr",
     "output_type": "stream",
     "text": [
      "\r",
      "Epoch 11/25 - Training:   4%|▍         | 6/137 [01:41<30:27, 13.95s/it]"
     ]
    },
    {
     "name": "stderr",
     "output_type": "stream",
     "text": [
      "\r",
      "Epoch 11/25 - Training:   5%|▌         | 7/137 [02:12<42:33, 19.64s/it]"
     ]
    },
    {
     "name": "stderr",
     "output_type": "stream",
     "text": [
      "\r",
      "Epoch 11/25 - Training:   6%|▌         | 8/137 [02:13<29:24, 13.68s/it]"
     ]
    },
    {
     "name": "stderr",
     "output_type": "stream",
     "text": [
      "\r",
      "Epoch 11/25 - Training:   7%|▋         | 9/137 [02:46<41:32, 19.47s/it]"
     ]
    },
    {
     "name": "stderr",
     "output_type": "stream",
     "text": [
      "\r",
      "Epoch 11/25 - Training:   7%|▋         | 10/137 [02:46<29:04, 13.73s/it]"
     ]
    },
    {
     "name": "stderr",
     "output_type": "stream",
     "text": [
      "\r",
      "Epoch 11/25 - Training:   8%|▊         | 11/137 [03:19<40:59, 19.52s/it]"
     ]
    },
    {
     "name": "stderr",
     "output_type": "stream",
     "text": [
      "\r",
      "Epoch 11/25 - Training:   9%|▉         | 12/137 [03:20<28:51, 13.85s/it]"
     ]
    },
    {
     "name": "stderr",
     "output_type": "stream",
     "text": [
      "\r",
      "Epoch 11/25 - Training:   9%|▉         | 13/137 [03:52<39:46, 19.24s/it]"
     ]
    },
    {
     "name": "stderr",
     "output_type": "stream",
     "text": [
      "\r",
      "Epoch 11/25 - Training:  10%|█         | 14/137 [03:53<28:05, 13.70s/it]"
     ]
    },
    {
     "name": "stderr",
     "output_type": "stream",
     "text": [
      "\r",
      "Epoch 11/25 - Training:  11%|█         | 15/137 [04:25<39:27, 19.41s/it]"
     ]
    },
    {
     "name": "stderr",
     "output_type": "stream",
     "text": [
      "\r",
      "Epoch 11/25 - Training:  12%|█▏        | 16/137 [04:26<27:54, 13.84s/it]"
     ]
    },
    {
     "name": "stderr",
     "output_type": "stream",
     "text": [
      "\r",
      "Epoch 11/25 - Training:  12%|█▏        | 17/137 [04:58<38:27, 19.23s/it]"
     ]
    },
    {
     "name": "stderr",
     "output_type": "stream",
     "text": [
      "\r",
      "Epoch 11/25 - Training:  13%|█▎        | 18/137 [04:59<27:12, 13.72s/it]"
     ]
    },
    {
     "name": "stderr",
     "output_type": "stream",
     "text": [
      "\r",
      "Epoch 11/25 - Training:  14%|█▍        | 19/137 [05:32<38:47, 19.72s/it]"
     ]
    },
    {
     "name": "stderr",
     "output_type": "stream",
     "text": [
      "\r",
      "Epoch 11/25 - Training:  15%|█▍        | 20/137 [05:33<27:26, 14.07s/it]"
     ]
    },
    {
     "name": "stderr",
     "output_type": "stream",
     "text": [
      "\r",
      "Epoch 11/25 - Training:  15%|█▌        | 21/137 [06:01<35:11, 18.20s/it]"
     ]
    },
    {
     "name": "stderr",
     "output_type": "stream",
     "text": [
      "\r",
      "Epoch 11/25 - Training:  16%|█▌        | 22/137 [06:02<24:56, 13.01s/it]"
     ]
    },
    {
     "name": "stderr",
     "output_type": "stream",
     "text": [
      "\r",
      "Epoch 11/25 - Training:  17%|█▋        | 23/137 [06:30<33:15, 17.51s/it]"
     ]
    },
    {
     "name": "stderr",
     "output_type": "stream",
     "text": [
      "\r",
      "Epoch 11/25 - Training:  18%|█▊        | 24/137 [06:31<23:35, 12.52s/it]"
     ]
    },
    {
     "name": "stderr",
     "output_type": "stream",
     "text": [
      "\r",
      "Epoch 11/25 - Training:  18%|█▊        | 25/137 [07:03<34:09, 18.30s/it]"
     ]
    },
    {
     "name": "stderr",
     "output_type": "stream",
     "text": [
      "\r",
      "Epoch 11/25 - Training:  19%|█▉        | 26/137 [07:04<24:12, 13.08s/it]"
     ]
    },
    {
     "name": "stderr",
     "output_type": "stream",
     "text": [
      "\r",
      "Epoch 11/25 - Training:  20%|█▉        | 27/137 [07:31<32:01, 17.46s/it]"
     ]
    },
    {
     "name": "stderr",
     "output_type": "stream",
     "text": [
      "\r",
      "Epoch 11/25 - Training:  20%|██        | 28/137 [07:32<22:42, 12.50s/it]"
     ]
    },
    {
     "name": "stderr",
     "output_type": "stream",
     "text": [
      "\r",
      "Epoch 11/25 - Training:  21%|██        | 29/137 [07:59<30:00, 16.68s/it]"
     ]
    },
    {
     "name": "stderr",
     "output_type": "stream",
     "text": [
      "\r",
      "Epoch 11/25 - Training:  22%|██▏       | 30/137 [08:00<21:17, 11.94s/it]"
     ]
    },
    {
     "name": "stderr",
     "output_type": "stream",
     "text": [
      "\r",
      "Epoch 11/25 - Training:  23%|██▎       | 31/137 [08:19<25:05, 14.21s/it]"
     ]
    },
    {
     "name": "stderr",
     "output_type": "stream",
     "text": [
      "\r",
      "Epoch 11/25 - Training:  23%|██▎       | 32/137 [08:20<17:52, 10.21s/it]"
     ]
    },
    {
     "name": "stderr",
     "output_type": "stream",
     "text": [
      "\r",
      "Epoch 11/25 - Training:  24%|██▍       | 33/137 [08:51<28:40, 16.54s/it]"
     ]
    },
    {
     "name": "stderr",
     "output_type": "stream",
     "text": [
      "\r",
      "Epoch 11/25 - Training:  25%|██▍       | 34/137 [08:52<20:20, 11.85s/it]"
     ]
    },
    {
     "name": "stderr",
     "output_type": "stream",
     "text": [
      "\r",
      "Epoch 11/25 - Training:  26%|██▌       | 35/137 [09:16<26:07, 15.37s/it]"
     ]
    },
    {
     "name": "stderr",
     "output_type": "stream",
     "text": [
      "\r",
      "Epoch 11/25 - Training:  26%|██▋       | 36/137 [09:17<18:34, 11.03s/it]"
     ]
    },
    {
     "name": "stderr",
     "output_type": "stream",
     "text": [
      "\r",
      "Epoch 11/25 - Training:  27%|██▋       | 37/137 [09:40<24:19, 14.60s/it]"
     ]
    }
   ],
   "source": [
    "import os\n",
    "import glob\n",
    "import numpy as np\n",
    "import torch\n",
    "import torch.nn as nn\n",
    "import torch.nn.functional as F\n",
    "import nibabel as nib\n",
    "from torch.utils.data import Dataset, DataLoader, WeightedRandomSampler\n",
    "from torch.nn import BCEWithLogitsLoss\n",
    "from tqdm import tqdm\n",
    "import matplotlib.pyplot as plt\n",
    "from sklearn.metrics import classification_report, confusion_matrix\n",
    "from sklearn.model_selection import train_test_split, StratifiedKFold\n",
    "from collections import Counter\n",
    "import seaborn as sns\n",
    "import random\n",
    "from scipy.ndimage import rotate, zoom\n",
    "import gc\n",
    "import warnings\n",
    "from skimage.filters import threshold_otsu\n",
    "from scipy import ndimage\n",
    "from datetime import datetime\n",
    "warnings.filterwarnings('ignore')\n",
    "\n",
    "# ---------------------------------------\n",
    "# CUDA ve CUDNN Ayarları\n",
    "# ---------------------------------------\n",
    "DEVICE = torch.device('cuda' if torch.cuda.is_available() else 'cpu')\n",
    "torch.backends.cudnn.benchmark = True\n",
    "torch.backends.cudnn.deterministic = True\n",
    "print(f\"Using device: {DEVICE}\")\n",
    "\n",
    "# ---------------------------------------\n",
    "# Eğitim Parametreleri\n",
    "# ---------------------------------------\n",
    "num_epochs = 25\n",
    "batch_size = 8\n",
    "learning_rate = 1e-4\n",
    "weight_decay = 1e-4\n",
    "accumulation_steps = 4\n",
    "patience = 15\n",
    "patch_size = (112, 112, 112)  # Updated to match preprocessed data\n",
    "\n",
    "# Dinamik hiperparametre ayarlama fonksiyonu\n",
    "def adjust_hyperparameters(fold_results):\n",
    "    if not fold_results:\n",
    "        return {\n",
    "            'learning_rate': learning_rate,\n",
    "            'batch_size': batch_size,\n",
    "            'weight_decay': weight_decay,\n",
    "            'accumulation_steps': accumulation_steps\n",
    "        }\n",
    "    \n",
    "    try:\n",
    "        last_fold = fold_results[-1]\n",
    "        val_acc = last_fold['best_val_acc']\n",
    "        train_loss = last_fold.get('train_losses', [])[-1] if last_fold.get('train_losses') else None\n",
    "        \n",
    "        new_params = {\n",
    "            'learning_rate': learning_rate,\n",
    "            'batch_size': batch_size,\n",
    "            'weight_decay': weight_decay,\n",
    "            'accumulation_steps': accumulation_steps\n",
    "        }\n",
    "        \n",
    "        # Validation accuracy'ye göre learning rate ayarlama\n",
    "        if val_acc < 0.6:  # Düşük accuracy\n",
    "            new_params['learning_rate'] *= 1.5  # Learning rate'i artır\n",
    "        elif val_acc > 0.85:  # Yüksek accuracy\n",
    "            new_params['learning_rate'] *= 0.8  # Learning rate'i azalt\n",
    "        \n",
    "        # Overfitting kontrolü\n",
    "        if train_loss and last_fold.get('val_losses'):\n",
    "            train_loss = last_fold['train_losses'][-1]\n",
    "            val_loss = last_fold['val_losses'][-1]\n",
    "            if val_loss > train_loss * 1.2:  # Overfitting varsa\n",
    "                new_params['weight_decay'] *= 1.5  # Regularization'ı artır\n",
    "                new_params['batch_size'] = min(batch_size * 2, 32)  # Batch size'ı artır\n",
    "        \n",
    "        # Batch size sınırlamaları\n",
    "        new_params['batch_size'] = max(4, min(new_params['batch_size'], 32))\n",
    "        \n",
    "        print(\"\\nHiperparametre Ayarlamaları:\")\n",
    "        print(f\"Önceki Learning Rate: {learning_rate:.2e} -> Yeni: {new_params['learning_rate']:.2e}\")\n",
    "        print(f\"Önceki Batch Size: {batch_size} -> Yeni: {new_params['batch_size']}\")\n",
    "        print(f\"Önceki Weight Decay: {weight_decay:.2e} -> Yeni: {new_params['weight_decay']:.2e}\")\n",
    "        \n",
    "        return new_params\n",
    "    except Exception as e:\n",
    "        print(f\"Hiperparametre ayarlama hatası: {str(e)}\")\n",
    "        return {\n",
    "            'learning_rate': learning_rate,\n",
    "            'batch_size': batch_size,\n",
    "            'weight_decay': weight_decay,\n",
    "            'accumulation_steps': accumulation_steps\n",
    "        }\n",
    "\n",
    "# ---------------------------------------\n",
    "# Mixed Precision Training Setup\n",
    "# ---------------------------------------\n",
    "scaler = torch.cuda.amp.GradScaler(enabled=True)\n",
    "\n",
    "# ---------------------------------------\n",
    "# Data Augmentation Functions\n",
    "# ---------------------------------------\n",
    "def random_rotation(img, max_angle=15):\n",
    "    try:\n",
    "        angle = random.uniform(-max_angle, max_angle)\n",
    "        return rotate(img, angle, axes=(0, 1), reshape=False)\n",
    "    except Exception as e:\n",
    "        print(f\"Rotation hatası: {str(e)}\")\n",
    "        return img\n",
    "\n",
    "def random_zoom(img, min_zoom=0.9, max_zoom=1.1):\n",
    "    try:\n",
    "        zoom_factor = random.uniform(min_zoom, max_zoom)\n",
    "        return zoom(img, zoom_factor, order=1)\n",
    "    except Exception as e:\n",
    "        print(f\"Zoom hatası: {str(e)}\")\n",
    "        return img\n",
    "\n",
    "def random_flip(img, prob=0.5):\n",
    "    try:\n",
    "        if random.random() < prob:\n",
    "            return np.flip(img, axis=0)\n",
    "        return img\n",
    "    except Exception as e:\n",
    "        print(f\"Flip hatası: {str(e)}\")\n",
    "        return img\n",
    "\n",
    "def random_noise(img, mean=0, std=0.01):\n",
    "    try:\n",
    "        noise = np.random.normal(mean, std, img.shape)\n",
    "        return img + noise\n",
    "    except Exception as e:\n",
    "        print(f\"Noise hatası: {str(e)}\")\n",
    "        return img\n",
    "\n",
    "# ---------------------------------------\n",
    "# Dataset ve Model Tanımları\n",
    "# ---------------------------------------\n",
    "class ADNI_Dataset(Dataset):\n",
    "    def __init__(self, paths, labels, transform=None, is_training=True):\n",
    "        self.paths = paths\n",
    "        self.labels = labels\n",
    "        self.transform = transform\n",
    "        self.is_training = is_training\n",
    "        self.cache = {}\n",
    "        self.max_cache_size = 100\n",
    "\n",
    "    def __len__(self):\n",
    "        return len(self.paths)\n",
    "\n",
    "    def __getitem__(self, idx):\n",
    "        try:\n",
    "            if idx in self.cache:\n",
    "                return self.cache[idx]\n",
    "\n",
    "            full_path = self.paths[idx]\n",
    "            img_nib = nib.load(full_path)\n",
    "            img = img_nib.get_fdata().astype(np.float32)\n",
    "\n",
    "            # Normalize\n",
    "            p1, p99 = np.percentile(img, (1, 99))\n",
    "            img = np.clip(img, p1, p99)\n",
    "            img = (img - p1) / (p99 - p1 + 1e-6)\n",
    "\n",
    "            # Brain mask\n",
    "            thresh = threshold_otsu(img)\n",
    "            brain_mask = img > thresh\n",
    "            brain_mask = ndimage.binary_closing(brain_mask, structure=np.ones((3, 3, 3)))\n",
    "            brain_mask = ndimage.binary_fill_holes(brain_mask)\n",
    "            brain_mask = ndimage.binary_dilation(brain_mask, structure=np.ones((3, 3, 3)))\n",
    "\n",
    "            # Largest connected component\n",
    "            labeled, num_features = ndimage.label(brain_mask)\n",
    "            if num_features > 1:\n",
    "                counts = np.bincount(labeled.ravel())\n",
    "                counts[0] = 0\n",
    "                largest_label = counts.argmax()\n",
    "                brain_mask = (labeled == largest_label)\n",
    "\n",
    "            # Bounding box\n",
    "            coords = np.array(np.where(brain_mask))\n",
    "            if len(coords) == 0 or coords.size == 0:\n",
    "                raise ValueError(\"Empty coordinate array\")\n",
    "            \n",
    "            z_min, y_min, x_min = coords.min(axis=1)\n",
    "            z_max, y_max, x_max = coords.max(axis=1)\n",
    "\n",
    "            # Center crop\n",
    "            center_d = (z_min + z_max) // 2\n",
    "            center_h = (y_min + y_max) // 2\n",
    "            center_w = (x_min + x_max) // 2\n",
    "\n",
    "            half = patch_size[0] // 2\n",
    "            start_d = max(0, center_d - half)\n",
    "            start_h = max(0, center_h - half)\n",
    "            start_w = max(0, center_w - half)\n",
    "\n",
    "            d, h, w = img.shape\n",
    "            end_d = min(d, start_d + patch_size[0])\n",
    "            end_h = min(h, start_h + patch_size[0])\n",
    "            end_w = min(w, start_w + patch_size[0])\n",
    "\n",
    "            # Adjust sizes\n",
    "            if end_d - start_d < patch_size[0]:\n",
    "                start_d = max(0, end_d - patch_size[0])\n",
    "            if end_h - start_h < patch_size[0]:\n",
    "                start_h = max(0, end_h - patch_size[0])\n",
    "            if end_w - start_w < patch_size[0]:\n",
    "                start_w = max(0, end_w - patch_size[0])\n",
    "\n",
    "            patch = img[start_d:end_d, start_h:end_h, start_w:end_w]\n",
    "\n",
    "            # Ensure patch is exactly patch_size\n",
    "            if patch.shape != patch_size:\n",
    "                # Create a new array of zeros with the target size\n",
    "                new_patch = np.zeros(patch_size, dtype=np.float32)\n",
    "                # Calculate the slices for copying\n",
    "                d_slice = slice(0, min(patch.shape[0], patch_size[0]))\n",
    "                h_slice = slice(0, min(patch.shape[1], patch_size[1]))\n",
    "                w_slice = slice(0, min(patch.shape[2], patch_size[2]))\n",
    "                # Copy the data\n",
    "                new_patch[d_slice, h_slice, w_slice] = patch[d_slice, h_slice, w_slice]\n",
    "                patch = new_patch\n",
    "\n",
    "            # Z-score normalize\n",
    "            mean = patch.mean()\n",
    "            std = patch.std() + 1e-6\n",
    "            patch = (patch - mean) / std\n",
    "\n",
    "            # Apply augmentations during training\n",
    "            if self.is_training:\n",
    "                patch = random_rotation(patch)\n",
    "                patch = random_zoom(patch)\n",
    "                patch = random_flip(patch)\n",
    "                patch = random_noise(patch)\n",
    "\n",
    "            # Ensure final size is correct after augmentations\n",
    "            if patch.shape != patch_size:\n",
    "                new_patch = np.zeros(patch_size, dtype=np.float32)\n",
    "                d_slice = slice(0, min(patch.shape[0], patch_size[0]))\n",
    "                h_slice = slice(0, min(patch.shape[1], patch_size[1]))\n",
    "                w_slice = slice(0, min(patch.shape[2], patch_size[2]))\n",
    "                new_patch[d_slice, h_slice, w_slice] = patch[d_slice, h_slice, w_slice]\n",
    "                patch = new_patch\n",
    "\n",
    "            img_tensor = torch.from_numpy(patch).float().unsqueeze(0)\n",
    "            \n",
    "            if self.transform:\n",
    "                img_tensor = self.transform(img_tensor)\n",
    "\n",
    "            label = torch.tensor(self.labels[idx], dtype=torch.long)\n",
    "\n",
    "            # Cache\n",
    "            if len(self.cache) >= self.max_cache_size:\n",
    "                self.cache.pop(next(iter(self.cache)))\n",
    "            self.cache[idx] = (img_tensor, label)\n",
    "\n",
    "            return img_tensor, label\n",
    "\n",
    "        except Exception as e:\n",
    "            print(f\"Error processing {self.paths[idx]}: {str(e)}\")\n",
    "            # Return a zero tensor of the correct size in case of error\n",
    "            return torch.zeros((1, *patch_size)), torch.tensor(self.labels[idx], dtype=torch.long)\n",
    "\n",
    "class ImprovedCNN3D(nn.Module):\n",
    "    def __init__(self, num_classes=3):\n",
    "        super().__init__()\n",
    "        \n",
    "        # Initial convolution with larger kernel\n",
    "        self.conv1 = nn.Sequential(\n",
    "            nn.Conv3d(1, 64, kernel_size=5, padding=2),\n",
    "            nn.BatchNorm3d(64),\n",
    "            nn.LeakyReLU(0.2, inplace=True),\n",
    "            nn.Dropout3d(0.1)\n",
    "        )\n",
    "        \n",
    "        # Residual blocks\n",
    "        self.res1 = ResidualBlock(64, 128)\n",
    "        self.res2 = ResidualBlock(128, 256)\n",
    "        self.res3 = ResidualBlock(256, 512)\n",
    "        \n",
    "        # Attention mechanism\n",
    "        self.attention = SelfAttention(512)\n",
    "        \n",
    "        # Global pooling\n",
    "        self.global_pool = nn.AdaptiveAvgPool3d(1)\n",
    "        \n",
    "        # Classifier with more layers and dropout\n",
    "        self.classifier = nn.Sequential(\n",
    "            nn.Dropout(0.5),\n",
    "            nn.Linear(512, 512),\n",
    "            nn.LeakyReLU(0.2, inplace=True),\n",
    "            nn.Dropout(0.3),\n",
    "            nn.Linear(512, 256),\n",
    "            nn.LeakyReLU(0.2, inplace=True),\n",
    "            nn.Dropout(0.3),\n",
    "            nn.Linear(256, num_classes)\n",
    "        )\n",
    "        \n",
    "        self._initialize_weights()\n",
    "    \n",
    "    def _initialize_weights(self):\n",
    "        for m in self.modules():\n",
    "            if isinstance(m, nn.Conv3d):\n",
    "                nn.init.kaiming_normal_(m.weight, mode='fan_out', nonlinearity='leaky_relu')\n",
    "                if m.bias is not None:\n",
    "                    nn.init.constant_(m.bias, 0)\n",
    "            elif isinstance(m, nn.BatchNorm3d):\n",
    "                nn.init.constant_(m.weight, 1)\n",
    "                nn.init.constant_(m.bias, 0)\n",
    "            elif isinstance(m, nn.Linear):\n",
    "                nn.init.normal_(m.weight, 0, 0.01)\n",
    "                nn.init.constant_(m.bias, 0)\n",
    "    \n",
    "    def forward(self, x):\n",
    "        x = self.conv1(x)\n",
    "        x = F.max_pool3d(x, 2)\n",
    "        \n",
    "        x = self.res1(x)\n",
    "        x = F.max_pool3d(x, 2)\n",
    "        \n",
    "        x = self.res2(x)\n",
    "        x = F.max_pool3d(x, 2)\n",
    "        \n",
    "        x = self.res3(x)\n",
    "        x = F.max_pool3d(x, 2)\n",
    "        \n",
    "        x = self.attention(x)\n",
    "        x = self.global_pool(x)\n",
    "        x = x.view(x.size(0), -1)\n",
    "        return self.classifier(x)\n",
    "\n",
    "class ResidualBlock(nn.Module):\n",
    "    def __init__(self, in_channels, out_channels):\n",
    "        super().__init__()\n",
    "        self.conv1 = nn.Conv3d(in_channels, out_channels, kernel_size=3, padding=1)\n",
    "        self.bn1 = nn.BatchNorm3d(out_channels)\n",
    "        self.conv2 = nn.Conv3d(out_channels, out_channels, kernel_size=3, padding=1)\n",
    "        self.bn2 = nn.BatchNorm3d(out_channels)\n",
    "        \n",
    "        self.shortcut = nn.Sequential()\n",
    "        if in_channels != out_channels:\n",
    "            self.shortcut = nn.Sequential(\n",
    "                nn.Conv3d(in_channels, out_channels, kernel_size=1),\n",
    "                nn.BatchNorm3d(out_channels)\n",
    "            )\n",
    "    \n",
    "    def forward(self, x):\n",
    "        residual = x\n",
    "        out = F.leaky_relu(self.bn1(self.conv1(x)), 0.2)\n",
    "        out = self.bn2(self.conv2(out))\n",
    "        out += self.shortcut(residual)\n",
    "        out = F.leaky_relu(out, 0.2)\n",
    "        return out\n",
    "\n",
    "class SelfAttention(nn.Module):\n",
    "    def __init__(self, in_channels):\n",
    "        super().__init__()\n",
    "        self.query = nn.Conv3d(in_channels, in_channels//8, 1)\n",
    "        self.key = nn.Conv3d(in_channels, in_channels//8, 1)\n",
    "        self.value = nn.Conv3d(in_channels, in_channels, 1)\n",
    "        self.gamma = nn.Parameter(torch.zeros(1))\n",
    "    \n",
    "    def forward(self, x):\n",
    "        batch_size, C, D, H, W = x.size()\n",
    "        \n",
    "        q = self.query(x).view(batch_size, -1, D*H*W)\n",
    "        k = self.key(x).view(batch_size, -1, D*H*W)\n",
    "        v = self.value(x).view(batch_size, -1, D*H*W)\n",
    "        \n",
    "        attention = F.softmax(torch.bmm(q.permute(0, 2, 1), k), dim=2)\n",
    "        out = torch.bmm(v, attention.permute(0, 2, 1))\n",
    "        out = out.view(batch_size, C, D, H, W)\n",
    "        \n",
    "        return self.gamma * out + x\n",
    "\n",
    "# ---------------------------------------\n",
    "# Veri Yükleme ve Hazırlama\n",
    "# ---------------------------------------\n",
    "DATA_DIR = '/kaggle/input/adniprocessed'\n",
    "classes = {\n",
    "    'CN_Combined': 0,\n",
    "    'MCI_Combined': 1,\n",
    "    'AD_Combined': 2\n",
    "}\n",
    "\n",
    "# Veri yükleme ve filtreleme\n",
    "all_mgz = glob.glob(os.path.join(DATA_DIR, '**', '*.mgz'), recursive=True)\n",
    "orig_files = [p for p in all_mgz if os.path.basename(p).lower() == 'orig.mgz']\n",
    "\n",
    "valid_paths, valid_labels = [], []\n",
    "for orig_path in orig_files:\n",
    "    group_name = None\n",
    "    cur_dir = os.path.dirname(orig_path)\n",
    "    while True:\n",
    "        cur_dir = os.path.dirname(cur_dir)\n",
    "        if os.path.basename(cur_dir) in classes:\n",
    "            group_name = os.path.basename(cur_dir)\n",
    "            break\n",
    "        if os.path.abspath(cur_dir) == os.path.abspath(DATA_DIR):\n",
    "            break\n",
    "\n",
    "    if group_name is None or os.path.getsize(orig_path) == 0:\n",
    "        continue\n",
    "\n",
    "    valid_paths.append(orig_path)\n",
    "    valid_labels.append(classes[group_name])\n",
    "\n",
    "# Her sınıftan 300 örnek seç\n",
    "random.seed(42)\n",
    "limited_paths, limited_labels = [], []\n",
    "for cls_name, cls_idx in classes.items():\n",
    "    cls_indices = [i for i, lab in enumerate(valid_labels) if lab == cls_idx]\n",
    "    selected = random.sample(cls_indices, min(len(cls_indices), 300))\n",
    "    for idx in selected:\n",
    "        limited_paths.append(valid_paths[idx])\n",
    "        limited_labels.append(cls_idx)\n",
    "\n",
    "# ---------------------------------------\n",
    "# K-Fold Cross Validation\n",
    "# ---------------------------------------\n",
    "n_splits = 2\n",
    "kfold = StratifiedKFold(n_splits=n_splits, shuffle=True, random_state=42)\n",
    "all_paths = np.array(valid_paths)\n",
    "all_labels = np.array(valid_labels)\n",
    "\n",
    "fold_results = []\n",
    "\n",
    "for fold in range(n_splits):\n",
    "    print(f\"\\nFold {fold+1}/{n_splits}\")\n",
    "    \n",
    "    # İlk fold'dan sonra hiperparametreleri ayarla\n",
    "    if fold > 0:\n",
    "        new_params = adjust_hyperparameters(fold_results)\n",
    "        learning_rate = new_params['learning_rate']\n",
    "        batch_size = new_params['batch_size']\n",
    "        weight_decay = new_params['weight_decay']\n",
    "        accumulation_steps = new_params['accumulation_steps']\n",
    "    \n",
    "    # Data split with stratification\n",
    "    train_idx, val_idx = list(kfold.split(all_paths, all_labels))[fold]\n",
    "    paths_train = all_paths[train_idx]\n",
    "    labels_train = all_labels[train_idx]\n",
    "    paths_val = all_paths[val_idx]\n",
    "    labels_val = all_labels[val_idx]\n",
    "    \n",
    "    # Print class distribution for this fold\n",
    "    print(\"\\nTrain set class distribution:\")\n",
    "    print(Counter(labels_train))\n",
    "    print(\"\\nValidation set class distribution:\")\n",
    "    print(Counter(labels_val))\n",
    "    \n",
    "    # Calculate class weights for this fold\n",
    "    counter_train = Counter(labels_train)\n",
    "    total_train = sum(counter_train.values())\n",
    "    class_weights = [np.sqrt(total_train / (len(counter_train) * count)) for count in counter_train.values()]\n",
    "    class_weights_tensor = torch.tensor(class_weights, dtype=torch.float).to(DEVICE)\n",
    "    print(\"\\nClass weights for this fold:\", class_weights)\n",
    "    \n",
    "    # Create weighted sampler for training\n",
    "    sample_weights = [class_weights[label] for label in labels_train]\n",
    "    train_sampler = WeightedRandomSampler(\n",
    "        weights=sample_weights,\n",
    "        num_samples=len(sample_weights),\n",
    "        replacement=True\n",
    "    )\n",
    "    \n",
    "    # Dataset and DataLoader with weighted sampling\n",
    "    train_ds = ADNI_Dataset(paths_train, labels_train)\n",
    "    val_ds = ADNI_Dataset(paths_val, labels_val)\n",
    "    \n",
    "    train_loader = DataLoader(\n",
    "        train_ds,\n",
    "        batch_size=batch_size,\n",
    "        sampler=train_sampler,\n",
    "        num_workers=2,\n",
    "        pin_memory=True\n",
    "    )\n",
    "    val_loader = DataLoader(\n",
    "        val_ds,\n",
    "        batch_size=batch_size,\n",
    "        shuffle=False,\n",
    "        num_workers=2,\n",
    "        pin_memory=True\n",
    "    )\n",
    "    \n",
    "    # Model, Loss and Optimizer\n",
    "    model = ImprovedCNN3D(num_classes=3).to(DEVICE)\n",
    "    optimizer = torch.optim.AdamW(model.parameters(), lr=learning_rate, weight_decay=weight_decay)\n",
    "    \n",
    "    # Cosine annealing with warm restarts\n",
    "    scheduler = torch.optim.lr_scheduler.CosineAnnealingWarmRestarts(\n",
    "        optimizer,\n",
    "        T_0=10,\n",
    "        T_mult=2,\n",
    "        eta_min=1e-6\n",
    "    )\n",
    "    \n",
    "    # Use weighted loss function with label smoothing\n",
    "    cls_loss_fn = nn.CrossEntropyLoss(weight=class_weights_tensor, label_smoothing=0.1)\n",
    "    \n",
    "    # Training\n",
    "    best_val_acc = 0.0\n",
    "    epochs_no_improve = 0\n",
    "    train_losses, val_losses = [], []\n",
    "    train_accs, val_accs = [], []\n",
    "    \n",
    "    for epoch in range(num_epochs):\n",
    "        # Training\n",
    "        model.train()\n",
    "        total_loss = 0.0\n",
    "        correct = 0\n",
    "        total = 0\n",
    "        \n",
    "        for i, (imgs, labels) in enumerate(tqdm(train_loader, desc=f\"Epoch {epoch+1}/{num_epochs} - Training\")):\n",
    "            try:\n",
    "                imgs = imgs.to(DEVICE, non_blocking=True)\n",
    "                labels = labels.to(DEVICE, non_blocking=True)\n",
    "                \n",
    "                optimizer.zero_grad()\n",
    "                \n",
    "                with torch.cuda.amp.autocast():\n",
    "                    outputs = model(imgs)\n",
    "                    loss = cls_loss_fn(outputs, labels) / accumulation_steps\n",
    "                \n",
    "                scaler.scale(loss).backward()\n",
    "                \n",
    "                if (i + 1) % accumulation_steps == 0:\n",
    "                    scaler.step(optimizer)\n",
    "                    scaler.update()\n",
    "                    optimizer.zero_grad()\n",
    "                \n",
    "                total_loss += loss.item() * accumulation_steps\n",
    "                preds = outputs.argmax(dim=1)\n",
    "                correct += (preds == labels).sum().item()\n",
    "                total += labels.size(0)\n",
    "                \n",
    "            except Exception as e:\n",
    "                print(f\"Training batch hatası (epoch {epoch+1}, batch {i}): {str(e)}\")\n",
    "                continue\n",
    "        \n",
    "        train_loss = total_loss / len(train_loader)\n",
    "        train_acc = correct / total\n",
    "        train_losses.append(train_loss)\n",
    "        train_accs.append(train_acc)\n",
    "        \n",
    "        # Validation\n",
    "        model.eval()\n",
    "        val_loss = 0.0\n",
    "        correct = 0\n",
    "        total = 0\n",
    "        \n",
    "        with torch.no_grad():\n",
    "            for imgs, labels in tqdm(val_loader, desc=f\"Epoch {epoch+1}/{num_epochs} - Validation\"):\n",
    "                try:\n",
    "                    imgs = imgs.to(DEVICE)\n",
    "                    labels = labels.to(DEVICE)\n",
    "                    \n",
    "                    with torch.cuda.amp.autocast():\n",
    "                        outputs = model(imgs)\n",
    "                        loss = cls_loss_fn(outputs, labels)\n",
    "                    \n",
    "                    val_loss += loss.item()\n",
    "                    preds = outputs.argmax(dim=1)\n",
    "                    correct += (preds == labels).sum().item()\n",
    "                    total += labels.size(0)\n",
    "                    \n",
    "                except Exception as e:\n",
    "                    print(f\"Validation batch hatası (epoch {epoch+1}): {str(e)}\")\n",
    "                    continue\n",
    "        \n",
    "        val_loss = val_loss / len(val_loader)\n",
    "        val_acc = correct / total\n",
    "        val_losses.append(val_loss)\n",
    "        val_accs.append(val_acc)\n",
    "        \n",
    "        print(f\"Epoch {epoch+1}/{num_epochs}:\")\n",
    "        print(f\"Train Loss: {train_loss:.4f}, Train Acc: {train_acc:.4f}\")\n",
    "        print(f\"Val Loss: {val_loss:.4f}, Val Acc: {val_acc:.4f}\")\n",
    "        \n",
    "        scheduler.step()\n",
    "        \n",
    "        if val_acc > best_val_acc + 1e-4:\n",
    "            best_val_acc = val_acc\n",
    "            epochs_no_improve = 0\n",
    "            try:\n",
    "                torch.save({\n",
    "                    'epoch': epoch,\n",
    "                    'model_state_dict': model.state_dict(),\n",
    "                    'optimizer_state_dict': optimizer.state_dict(),\n",
    "                    'scheduler_state_dict': scheduler.state_dict(),\n",
    "                    'best_val_acc': best_val_acc,\n",
    "                    'class_weights': class_weights,\n",
    "                    'fold': fold + 1\n",
    "                }, f'best_model_fold_{fold+1}.pth')\n",
    "                print(\"--Yeni en iyi model kaydedildi--\")\n",
    "            except Exception as e:\n",
    "                print(f\"Model kaydetme hatası: {str(e)}\")\n",
    "        else:\n",
    "            epochs_no_improve += 1\n",
    "            if epochs_no_improve >= patience:\n",
    "                print(f\"Early stopping triggered after {epoch+1} epochs\")\n",
    "                break\n",
    "        \n",
    "        # Memory cleanup\n",
    "        gc.collect()\n",
    "        if torch.cuda.is_available():\n",
    "            torch.cuda.empty_cache()\n",
    "    \n",
    "    # Test evaluation for this fold\n",
    "    try:\n",
    "        checkpoint = torch.load(f'best_model_fold_{fold+1}.pth')\n",
    "        model.load_state_dict(checkpoint['model_state_dict'])\n",
    "        model.eval()\n",
    "        \n",
    "        all_targets = []\n",
    "        all_preds = []\n",
    "        all_probs = []\n",
    "        \n",
    "        with torch.no_grad():\n",
    "            for imgs, labels in tqdm(val_loader, desc=\"Testing\"):\n",
    "                try:\n",
    "                    imgs = imgs.to(DEVICE)\n",
    "                    labels = labels.to(DEVICE)\n",
    "                    \n",
    "                    with torch.cuda.amp.autocast():\n",
    "                        outputs = model(imgs)\n",
    "                        probs = F.softmax(outputs, dim=1)\n",
    "                    \n",
    "                    preds = outputs.argmax(dim=1)\n",
    "                    all_targets.extend(labels.cpu().numpy())\n",
    "                    all_preds.extend(preds.cpu().numpy())\n",
    "                    all_probs.extend(probs.cpu().numpy())\n",
    "                    \n",
    "                except Exception as e:\n",
    "                    print(f\"Test batch hatası: {str(e)}\")\n",
    "                    continue\n",
    "        \n",
    "        # Calculate metrics for this fold\n",
    "        fold_acc = np.mean(np.array(all_preds) == np.array(all_targets))\n",
    "        fold_report = classification_report(all_targets, all_preds, target_names=[\"CN\", \"MCI\", \"AD\"], output_dict=True)\n",
    "        \n",
    "        # Save fold results\n",
    "        fold_results.append({\n",
    "            'fold': fold + 1,\n",
    "            'accuracy': fold_acc,\n",
    "            'classification_report': fold_report,\n",
    "            'predictions': all_preds,\n",
    "            'targets': all_targets,\n",
    "            'probabilities': all_probs,\n",
    "            'class_weights': class_weights,\n",
    "            'best_val_acc': best_val_acc,\n",
    "            'best_epoch': checkpoint['epoch'],\n",
    "            'train_losses': train_losses,\n",
    "            'val_losses': val_losses,\n",
    "            'train_accs': train_accs,\n",
    "            'val_accs': val_accs\n",
    "        })\n",
    "        \n",
    "        # Save fold results to file\n",
    "        try:\n",
    "            with open(f'fold_{fold+1}_results.txt', 'w') as f:\n",
    "                f.write(f\"Fold {fold+1} Results:\\n\")\n",
    "                f.write(f\"Best Validation Accuracy: {best_val_acc:.4f}\\n\")\n",
    "                f.write(f\"Best Epoch: {checkpoint['epoch']}\\n\")\n",
    "                f.write(f\"Final Test Accuracy: {fold_acc:.4f}\\n\")\n",
    "                f.write(f\"Class Weights Used: {class_weights}\\n\\n\")\n",
    "                f.write(\"Classification Report:\\n\")\n",
    "                f.write(classification_report(all_targets, all_preds, target_names=[\"CN\", \"MCI\", \"AD\"]))\n",
    "        except Exception as e:\n",
    "            print(f\"Sonuç dosyası yazma hatası: {str(e)}\")\n",
    "        \n",
    "        # Plot confusion matrix for this fold\n",
    "        try:\n",
    "            cm = confusion_matrix(all_targets, all_preds)\n",
    "            plt.figure(figsize=(8, 6))\n",
    "            sns.heatmap(cm, annot=True, fmt='d', xticklabels=[\"CN\", \"MCI\", \"AD\"], yticklabels=[\"CN\", \"MCI\", \"AD\"])\n",
    "            plt.xlabel(\"Predicted\")\n",
    "            plt.ylabel(\"True\")\n",
    "            plt.title(f\"Confusion Matrix - Fold {fold+1}\")\n",
    "            plt.savefig(f'confusion_matrix_fold_{fold+1}.png')\n",
    "            plt.close()\n",
    "        except Exception as e:\n",
    "            print(f\"Confusion matrix çizim hatası: {str(e)}\")\n",
    "            \n",
    "    except Exception as e:\n",
    "        print(f\"Test değerlendirme hatası: {str(e)}\")\n",
    "        continue\n",
    "\n",
    "# Save all fold results to a single file\n",
    "try:\n",
    "    with open('all_folds_results.txt', 'w') as f:\n",
    "        f.write(\"All Folds Results:\\n\\n\")\n",
    "        for fold_result in fold_results:\n",
    "            f.write(f\"Fold {fold_result['fold']}:\\n\")\n",
    "            f.write(f\"Best Validation Accuracy: {fold_result['best_val_acc']:.4f}\\n\")\n",
    "            f.write(f\"Best Epoch: {fold_result['best_epoch']}\\n\")\n",
    "            f.write(f\"Final Test Accuracy: {fold_result['accuracy']:.4f}\\n\")\n",
    "            f.write(f\"Class Weights Used: {fold_result['class_weights']}\\n\")\n",
    "            f.write(\"Classification Report:\\n\")\n",
    "            f.write(classification_report(fold_result['targets'], fold_result['predictions'], target_names=[\"CN\", \"MCI\", \"AD\"]))\n",
    "            f.write(\"\\n\" + \"=\"*50 + \"\\n\\n\")\n",
    "except Exception as e:\n",
    "    print(f\"Tüm sonuçları kaydetme hatası: {str(e)}\")\n"
   ]
  }
 ],
 "metadata": {
  "kaggle": {
   "accelerator": "nvidiaTeslaT4",
   "dataSources": [
    {
     "datasetId": 7573050,
     "sourceId": 12036252,
     "sourceType": "datasetVersion"
    }
   ],
   "isGpuEnabled": true,
   "isInternetEnabled": true,
   "language": "python",
   "sourceType": "notebook"
  },
  "kernelspec": {
   "display_name": "Python 3",
   "language": "python",
   "name": "python3"
  },
  "language_info": {
   "codemirror_mode": {
    "name": "ipython",
    "version": 3
   },
   "file_extension": ".py",
   "mimetype": "text/x-python",
   "name": "python",
   "nbconvert_exporter": "python",
   "pygments_lexer": "ipython3",
   "version": "3.6.4"
  },
  "papermill": {
   "default_parameters": {},
   "duration": null,
   "end_time": null,
   "environment_variables": {},
   "exception": null,
   "input_path": "__notebook__.ipynb",
   "output_path": "__notebook__.ipynb",
   "parameters": {},
   "start_time": "2025-06-11T08:06:25.955879",
   "version": "2.6.0"
  }
 },
 "nbformat": 4,
 "nbformat_minor": 5
}