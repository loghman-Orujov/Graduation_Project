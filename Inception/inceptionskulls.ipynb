{
 "cells": [
  {
   "cell_type": "code",
   "execution_count": null,
   "id": "abe4beb5",
   "metadata": {
    "_cell_guid": "b1076dfc-b9ad-4769-8c92-a6c4dae69d19",
    "_uuid": "8f2839f25d086af736a60e9eeb907d3b93b6e0e5",
    "execution": {
     "iopub.execute_input": "2025-06-10T13:46:43.222859Z",
     "iopub.status.busy": "2025-06-10T13:46:43.222569Z"
    },
    "papermill": {
     "duration": null,
     "end_time": null,
     "exception": false,
     "start_time": "2025-06-10T13:46:43.218875",
     "status": "running"
    },
    "tags": []
   },
   "outputs": [
    {
     "name": "stdout",
     "output_type": "stream",
     "text": [
      "Using 2 GPUs!\n",
      "Detected classes: {'AD': 0, 'CN': 1, 'MCI': 2}\n"
     ]
    },
    {
     "name": "stdout",
     "output_type": "stream",
     "text": [
      "  AD: 453 örnek\n",
      "  CN: 748 örnek\n",
      "  MCI: 981 örnek\n"
     ]
    },
    {
     "name": "stdout",
     "output_type": "stream",
     "text": [
      "Class weights: tensor([1.6056, 0.9724, 0.7414], device='cuda:0')\n",
      "\n",
      ">>> Fold 1/5\n"
     ]
    },
    {
     "name": "stderr",
     "output_type": "stream",
     "text": [
      "/tmp/ipykernel_19/972150201.py:380: FutureWarning: `torch.cuda.amp.GradScaler(args...)` is deprecated. Please use `torch.amp.GradScaler('cuda', args...)` instead.\n",
      "  scaler = GradScaler()\n"
     ]
    },
    {
     "name": "stdout",
     "output_type": "stream",
     "text": [
      "Epoch 1/10\n"
     ]
    },
    {
     "name": "stderr",
     "output_type": "stream",
     "text": [
      "\r\n",
      "Train:   0%|          | 0/110 [00:00<?, ?it/s]"
     ]
    },
    {
     "name": "stderr",
     "output_type": "stream",
     "text": [
      "/tmp/ipykernel_19/972150201.py:406: FutureWarning: `torch.cuda.amp.autocast(args...)` is deprecated. Please use `torch.amp.autocast('cuda', args...)` instead.\n",
      "  with autocast():\n"
     ]
    },
    {
     "name": "stderr",
     "output_type": "stream",
     "text": [
      "\r\n",
      "Train:   1%|          | 1/110 [01:14<2:14:59, 74.30s/it]"
     ]
    },
    {
     "name": "stderr",
     "output_type": "stream",
     "text": [
      "\r\n",
      "Train:   2%|▏         | 2/110 [01:19<1:00:03, 33.37s/it]"
     ]
    },
    {
     "name": "stderr",
     "output_type": "stream",
     "text": [
      "\r\n",
      "Train:   3%|▎         | 3/110 [01:23<36:02, 20.21s/it]  "
     ]
    },
    {
     "name": "stderr",
     "output_type": "stream",
     "text": [
      "\r\n",
      "Train:   4%|▎         | 4/110 [01:28<24:45, 14.01s/it]"
     ]
    },
    {
     "name": "stderr",
     "output_type": "stream",
     "text": [
      "\r\n",
      "Train:   5%|▍         | 5/110 [02:03<37:56, 21.68s/it]"
     ]
    },
    {
     "name": "stderr",
     "output_type": "stream",
     "text": [
      "\r\n",
      "Train:   5%|▌         | 6/110 [02:07<27:23, 15.80s/it]"
     ]
    },
    {
     "name": "stderr",
     "output_type": "stream",
     "text": [
      "\r\n",
      "Train:   6%|▋         | 7/110 [02:12<20:51, 12.15s/it]"
     ]
    },
    {
     "name": "stderr",
     "output_type": "stream",
     "text": [
      "\r\n",
      "Train:   7%|▋         | 8/110 [02:17<16:42,  9.83s/it]"
     ]
    },
    {
     "name": "stderr",
     "output_type": "stream",
     "text": [
      "\r\n",
      "Train:   8%|▊         | 9/110 [03:05<37:01, 22.00s/it]"
     ]
    },
    {
     "name": "stderr",
     "output_type": "stream",
     "text": [
      "\r\n",
      "Train:   9%|▉         | 10/110 [03:10<27:42, 16.63s/it]"
     ]
    },
    {
     "name": "stderr",
     "output_type": "stream",
     "text": [
      "\r\n",
      "Train:  10%|█         | 11/110 [03:15<21:25, 12.98s/it]"
     ]
    },
    {
     "name": "stderr",
     "output_type": "stream",
     "text": [
      "\r\n",
      "Train:  11%|█         | 12/110 [03:20<17:05, 10.46s/it]"
     ]
    },
    {
     "name": "stderr",
     "output_type": "stream",
     "text": [
      "\r\n",
      "Train:  12%|█▏        | 13/110 [04:09<35:57, 22.25s/it]"
     ]
    },
    {
     "name": "stderr",
     "output_type": "stream",
     "text": [
      "\r\n",
      "Train:  13%|█▎        | 14/110 [04:14<27:09, 16.97s/it]"
     ]
    },
    {
     "name": "stderr",
     "output_type": "stream",
     "text": [
      "\r\n",
      "Train:  14%|█▎        | 15/110 [04:18<21:03, 13.30s/it]"
     ]
    },
    {
     "name": "stderr",
     "output_type": "stream",
     "text": [
      "\r\n",
      "Train:  15%|█▍        | 16/110 [04:23<16:52, 10.77s/it]"
     ]
    },
    {
     "name": "stderr",
     "output_type": "stream",
     "text": [
      "\r\n",
      "Train:  15%|█▌        | 17/110 [05:09<33:06, 21.36s/it]"
     ]
    },
    {
     "name": "stderr",
     "output_type": "stream",
     "text": [
      "\r\n",
      "Train:  16%|█▋        | 18/110 [05:14<25:09, 16.41s/it]"
     ]
    },
    {
     "name": "stderr",
     "output_type": "stream",
     "text": [
      "\r\n",
      "Train:  17%|█▋        | 19/110 [05:19<19:38, 12.95s/it]"
     ]
    },
    {
     "name": "stderr",
     "output_type": "stream",
     "text": [
      "\r\n",
      "Train:  18%|█▊        | 20/110 [05:24<15:49, 10.55s/it]"
     ]
    },
    {
     "name": "stderr",
     "output_type": "stream",
     "text": [
      "\r\n",
      "Train:  19%|█▉        | 21/110 [06:06<29:35, 19.95s/it]"
     ]
    },
    {
     "name": "stderr",
     "output_type": "stream",
     "text": [
      "\r\n",
      "Train:  20%|██        | 22/110 [06:11<22:38, 15.44s/it]"
     ]
    },
    {
     "name": "stderr",
     "output_type": "stream",
     "text": [
      "\r\n",
      "Train:  21%|██        | 23/110 [06:16<17:45, 12.25s/it]"
     ]
    },
    {
     "name": "stderr",
     "output_type": "stream",
     "text": [
      "\r\n",
      "Train:  22%|██▏       | 24/110 [06:21<14:26, 10.07s/it]"
     ]
    },
    {
     "name": "stderr",
     "output_type": "stream",
     "text": [
      "\r\n",
      "Train:  23%|██▎       | 25/110 [07:02<27:43, 19.57s/it]"
     ]
    },
    {
     "name": "stderr",
     "output_type": "stream",
     "text": [
      "\r\n",
      "Train:  24%|██▎       | 26/110 [07:07<21:17, 15.21s/it]"
     ]
    },
    {
     "name": "stderr",
     "output_type": "stream",
     "text": [
      "\r\n",
      "Train:  25%|██▍       | 27/110 [07:12<16:49, 12.17s/it]"
     ]
    },
    {
     "name": "stderr",
     "output_type": "stream",
     "text": [
      "\r\n",
      "Train:  25%|██▌       | 28/110 [07:18<13:44, 10.06s/it]"
     ]
    },
    {
     "name": "stderr",
     "output_type": "stream",
     "text": [
      "\r\n",
      "Train:  26%|██▋       | 29/110 [08:03<27:46, 20.57s/it]"
     ]
    },
    {
     "name": "stderr",
     "output_type": "stream",
     "text": [
      "\r\n",
      "Train:  27%|██▋       | 30/110 [08:08<21:11, 15.89s/it]"
     ]
    },
    {
     "name": "stderr",
     "output_type": "stream",
     "text": [
      "\r\n",
      "Train:  28%|██▊       | 31/110 [08:13<16:40, 12.67s/it]"
     ]
    },
    {
     "name": "stderr",
     "output_type": "stream",
     "text": [
      "\r\n",
      "Train:  29%|██▉       | 32/110 [08:18<13:28, 10.37s/it]"
     ]
    },
    {
     "name": "stderr",
     "output_type": "stream",
     "text": [
      "\r\n",
      "Train:  30%|███       | 33/110 [09:02<26:13, 20.44s/it]"
     ]
    },
    {
     "name": "stderr",
     "output_type": "stream",
     "text": [
      "\r\n",
      "Train:  31%|███       | 34/110 [09:07<20:00, 15.80s/it]"
     ]
    },
    {
     "name": "stderr",
     "output_type": "stream",
     "text": [
      "\r\n",
      "Train:  32%|███▏      | 35/110 [09:12<15:41, 12.55s/it]"
     ]
    },
    {
     "name": "stderr",
     "output_type": "stream",
     "text": [
      "\r\n",
      "Train:  33%|███▎      | 36/110 [09:17<12:40, 10.28s/it]"
     ]
    },
    {
     "name": "stderr",
     "output_type": "stream",
     "text": [
      "\r\n",
      "Train:  34%|███▎      | 37/110 [09:57<23:22, 19.21s/it]"
     ]
    },
    {
     "name": "stderr",
     "output_type": "stream",
     "text": [
      "\r\n",
      "Train:  35%|███▍      | 38/110 [10:02<17:53, 14.90s/it]"
     ]
    },
    {
     "name": "stderr",
     "output_type": "stream",
     "text": [
      "\r\n",
      "Train:  35%|███▌      | 39/110 [10:07<14:05, 11.91s/it]"
     ]
    },
    {
     "name": "stderr",
     "output_type": "stream",
     "text": [
      "\r\n",
      "Train:  36%|███▋      | 40/110 [10:12<11:28,  9.84s/it]"
     ]
    },
    {
     "name": "stderr",
     "output_type": "stream",
     "text": [
      "\r\n",
      "Train:  37%|███▋      | 41/110 [10:59<24:15, 21.09s/it]"
     ]
    },
    {
     "name": "stderr",
     "output_type": "stream",
     "text": [
      "\r\n",
      "Train:  38%|███▊      | 42/110 [11:04<18:23, 16.23s/it]"
     ]
    },
    {
     "name": "stderr",
     "output_type": "stream",
     "text": [
      "\r\n",
      "Train:  39%|███▉      | 43/110 [11:09<14:20, 12.84s/it]"
     ]
    },
    {
     "name": "stderr",
     "output_type": "stream",
     "text": [
      "\r\n",
      "Train:  40%|████      | 44/110 [11:14<11:31, 10.48s/it]"
     ]
    },
    {
     "name": "stderr",
     "output_type": "stream",
     "text": [
      "\r\n",
      "Train:  41%|████      | 45/110 [11:55<21:32, 19.88s/it]"
     ]
    },
    {
     "name": "stderr",
     "output_type": "stream",
     "text": [
      "\r\n",
      "Train:  42%|████▏     | 46/110 [12:01<16:30, 15.47s/it]"
     ]
    },
    {
     "name": "stderr",
     "output_type": "stream",
     "text": [
      "\r\n",
      "Train:  43%|████▎     | 47/110 [12:06<12:58, 12.35s/it]"
     ]
    },
    {
     "name": "stderr",
     "output_type": "stream",
     "text": [
      "\r\n",
      "Train:  44%|████▎     | 48/110 [12:11<10:30, 10.17s/it]"
     ]
    },
    {
     "name": "stderr",
     "output_type": "stream",
     "text": [
      "\r\n",
      "Train:  45%|████▍     | 49/110 [12:44<17:15, 16.97s/it]"
     ]
    },
    {
     "name": "stderr",
     "output_type": "stream",
     "text": [
      "\r\n",
      "Train:  45%|████▌     | 50/110 [12:49<13:21, 13.36s/it]"
     ]
    },
    {
     "name": "stderr",
     "output_type": "stream",
     "text": [
      "\r\n",
      "Train:  46%|████▋     | 51/110 [12:53<10:36, 10.79s/it]"
     ]
    },
    {
     "name": "stderr",
     "output_type": "stream",
     "text": [
      "\r\n",
      "Train:  47%|████▋     | 52/110 [12:58<08:45,  9.06s/it]"
     ]
    },
    {
     "name": "stderr",
     "output_type": "stream",
     "text": [
      "\r\n",
      "Train:  48%|████▊     | 53/110 [13:41<18:07, 19.08s/it]"
     ]
    },
    {
     "name": "stderr",
     "output_type": "stream",
     "text": [
      "\r\n",
      "Train:  49%|████▉     | 54/110 [13:46<13:51, 14.84s/it]"
     ]
    },
    {
     "name": "stderr",
     "output_type": "stream",
     "text": [
      "\r\n",
      "Train:  50%|█████     | 55/110 [13:51<10:54, 11.90s/it]"
     ]
    },
    {
     "name": "stderr",
     "output_type": "stream",
     "text": [
      "\r\n",
      "Train:  51%|█████     | 56/110 [13:56<08:53,  9.88s/it]"
     ]
    },
    {
     "name": "stderr",
     "output_type": "stream",
     "text": [
      "\r\n",
      "Train:  52%|█████▏    | 57/110 [14:31<15:26, 17.49s/it]"
     ]
    },
    {
     "name": "stderr",
     "output_type": "stream",
     "text": [
      "\r\n",
      "Train:  53%|█████▎    | 58/110 [14:39<12:37, 14.56s/it]"
     ]
    },
    {
     "name": "stderr",
     "output_type": "stream",
     "text": [
      "\r\n",
      "Train:  54%|█████▎    | 59/110 [14:44<09:56, 11.69s/it]"
     ]
    },
    {
     "name": "stderr",
     "output_type": "stream",
     "text": [
      "\r\n",
      "Train:  55%|█████▍    | 60/110 [14:49<08:05,  9.71s/it]"
     ]
    },
    {
     "name": "stderr",
     "output_type": "stream",
     "text": [
      "\r\n",
      "Train:  55%|█████▌    | 61/110 [15:28<15:10, 18.58s/it]"
     ]
    },
    {
     "name": "stderr",
     "output_type": "stream",
     "text": [
      "\r\n",
      "Train:  56%|█████▋    | 62/110 [15:39<12:52, 16.10s/it]"
     ]
    },
    {
     "name": "stderr",
     "output_type": "stream",
     "text": [
      "\r\n",
      "Train:  57%|█████▋    | 63/110 [15:44<09:59, 12.76s/it]"
     ]
    },
    {
     "name": "stderr",
     "output_type": "stream",
     "text": [
      "\r\n",
      "Train:  58%|█████▊    | 64/110 [15:49<08:01, 10.47s/it]"
     ]
    },
    {
     "name": "stderr",
     "output_type": "stream",
     "text": [
      "\r\n",
      "Train:  59%|█████▉    | 65/110 [16:27<14:09, 18.88s/it]"
     ]
    },
    {
     "name": "stderr",
     "output_type": "stream",
     "text": [
      "\r\n",
      "Train:  60%|██████    | 66/110 [16:35<11:23, 15.54s/it]"
     ]
    },
    {
     "name": "stderr",
     "output_type": "stream",
     "text": [
      "\r\n",
      "Train:  61%|██████    | 67/110 [16:40<08:51, 12.37s/it]"
     ]
    },
    {
     "name": "stderr",
     "output_type": "stream",
     "text": [
      "\r\n",
      "Train:  62%|██████▏   | 68/110 [16:45<07:07, 10.17s/it]"
     ]
    },
    {
     "name": "stderr",
     "output_type": "stream",
     "text": [
      "\r\n",
      "Train:  63%|██████▎   | 69/110 [17:25<13:02, 19.09s/it]"
     ]
    },
    {
     "name": "stderr",
     "output_type": "stream",
     "text": [
      "\r\n",
      "Train:  64%|██████▎   | 70/110 [17:34<10:45, 16.13s/it]"
     ]
    },
    {
     "name": "stderr",
     "output_type": "stream",
     "text": [
      "\r\n",
      "Train:  65%|██████▍   | 71/110 [17:39<08:17, 12.76s/it]"
     ]
    },
    {
     "name": "stderr",
     "output_type": "stream",
     "text": [
      "\r\n",
      "Train:  65%|██████▌   | 72/110 [17:44<06:34, 10.39s/it]"
     ]
    },
    {
     "name": "stderr",
     "output_type": "stream",
     "text": [
      "\r\n",
      "Train:  66%|██████▋   | 73/110 [18:25<12:08, 19.68s/it]"
     ]
    },
    {
     "name": "stderr",
     "output_type": "stream",
     "text": [
      "\r\n",
      "Train:  67%|██████▋   | 74/110 [18:34<09:52, 16.46s/it]"
     ]
    },
    {
     "name": "stderr",
     "output_type": "stream",
     "text": [
      "\r\n",
      "Train:  68%|██████▊   | 75/110 [18:39<07:35, 13.02s/it]"
     ]
    },
    {
     "name": "stderr",
     "output_type": "stream",
     "text": [
      "\r\n",
      "Train:  69%|██████▉   | 76/110 [18:44<06:01, 10.63s/it]"
     ]
    },
    {
     "name": "stderr",
     "output_type": "stream",
     "text": [
      "\r\n",
      "Train:  70%|███████   | 77/110 [19:18<09:37, 17.49s/it]"
     ]
    },
    {
     "name": "stderr",
     "output_type": "stream",
     "text": [
      "\r\n",
      "Train:  71%|███████   | 78/110 [19:33<08:56, 16.77s/it]"
     ]
    },
    {
     "name": "stderr",
     "output_type": "stream",
     "text": [
      "\r\n",
      "Train:  72%|███████▏  | 79/110 [19:38<06:49, 13.19s/it]"
     ]
    },
    {
     "name": "stderr",
     "output_type": "stream",
     "text": [
      "\r\n",
      "Train:  73%|███████▎  | 80/110 [19:43<05:22, 10.76s/it]"
     ]
    },
    {
     "name": "stderr",
     "output_type": "stream",
     "text": [
      "\r\n",
      "Train:  74%|███████▎  | 81/110 [20:16<08:25, 17.43s/it]"
     ]
    },
    {
     "name": "stderr",
     "output_type": "stream",
     "text": [
      "\r\n",
      "Train:  75%|███████▍  | 82/110 [20:27<07:14, 15.52s/it]"
     ]
    },
    {
     "name": "stderr",
     "output_type": "stream",
     "text": [
      "\r\n",
      "Train:  75%|███████▌  | 83/110 [20:32<05:34, 12.39s/it]"
     ]
    },
    {
     "name": "stderr",
     "output_type": "stream",
     "text": [
      "\r\n",
      "Train:  76%|███████▋  | 84/110 [20:37<04:25, 10.21s/it]"
     ]
    },
    {
     "name": "stderr",
     "output_type": "stream",
     "text": [
      "\r\n",
      "Train:  77%|███████▋  | 85/110 [21:14<07:36, 18.28s/it]"
     ]
    },
    {
     "name": "stderr",
     "output_type": "stream",
     "text": [
      "\r\n",
      "Train:  78%|███████▊  | 86/110 [21:25<06:24, 16.02s/it]"
     ]
    },
    {
     "name": "stderr",
     "output_type": "stream",
     "text": [
      "\r\n",
      "Train:  79%|███████▉  | 87/110 [21:30<04:52, 12.72s/it]"
     ]
    },
    {
     "name": "stderr",
     "output_type": "stream",
     "text": [
      "\r\n",
      "Train:  80%|████████  | 88/110 [21:35<03:49, 10.44s/it]"
     ]
    },
    {
     "name": "stderr",
     "output_type": "stream",
     "text": [
      "\r\n",
      "Train:  81%|████████  | 89/110 [22:09<06:09, 17.60s/it]"
     ]
    },
    {
     "name": "stderr",
     "output_type": "stream",
     "text": [
      "\r\n",
      "Train:  82%|████████▏ | 90/110 [22:24<05:34, 16.73s/it]"
     ]
    },
    {
     "name": "stderr",
     "output_type": "stream",
     "text": [
      "\r\n",
      "Train:  83%|████████▎ | 91/110 [22:29<04:11, 13.24s/it]"
     ]
    },
    {
     "name": "stderr",
     "output_type": "stream",
     "text": [
      "\r\n",
      "Train:  84%|████████▎ | 92/110 [22:34<03:14, 10.81s/it]"
     ]
    },
    {
     "name": "stderr",
     "output_type": "stream",
     "text": [
      "\r\n",
      "Train:  85%|████████▍ | 93/110 [23:06<04:51, 17.16s/it]"
     ]
    },
    {
     "name": "stderr",
     "output_type": "stream",
     "text": [
      "\r\n",
      "Train:  85%|████████▌ | 94/110 [23:25<04:43, 17.73s/it]"
     ]
    },
    {
     "name": "stderr",
     "output_type": "stream",
     "text": [
      "\r\n",
      "Train:  86%|████████▋ | 95/110 [23:30<03:28, 13.89s/it]"
     ]
    },
    {
     "name": "stderr",
     "output_type": "stream",
     "text": [
      "\r\n",
      "Train:  87%|████████▋ | 96/110 [23:35<02:37, 11.25s/it]"
     ]
    },
    {
     "name": "stderr",
     "output_type": "stream",
     "text": [
      "\r\n",
      "Train:  88%|████████▊ | 97/110 [24:09<03:53, 17.94s/it]"
     ]
    },
    {
     "name": "stderr",
     "output_type": "stream",
     "text": [
      "\r\n",
      "Train:  89%|████████▉ | 98/110 [24:18<03:05, 15.43s/it]"
     ]
    },
    {
     "name": "stderr",
     "output_type": "stream",
     "text": [
      "\r\n",
      "Train:  90%|█████████ | 99/110 [24:24<02:15, 12.31s/it]"
     ]
    },
    {
     "name": "stderr",
     "output_type": "stream",
     "text": [
      "\r\n",
      "Train:  91%|█████████ | 100/110 [24:29<01:41, 10.12s/it]"
     ]
    },
    {
     "name": "stderr",
     "output_type": "stream",
     "text": [
      "\r\n",
      "Train:  92%|█████████▏| 101/110 [25:08<02:49, 18.80s/it]"
     ]
    },
    {
     "name": "stderr",
     "output_type": "stream",
     "text": [
      "\r\n",
      "Train:  93%|█████████▎| 102/110 [25:20<02:14, 16.78s/it]"
     ]
    },
    {
     "name": "stderr",
     "output_type": "stream",
     "text": [
      "\r\n",
      "Train:  94%|█████████▎| 103/110 [25:25<01:32, 13.22s/it]"
     ]
    },
    {
     "name": "stderr",
     "output_type": "stream",
     "text": [
      "\r\n",
      "Train:  95%|█████████▍| 104/110 [25:30<01:04, 10.75s/it]"
     ]
    },
    {
     "name": "stderr",
     "output_type": "stream",
     "text": [
      "\r\n",
      "Train:  95%|█████████▌| 105/110 [26:07<01:34, 18.90s/it]"
     ]
    },
    {
     "name": "stderr",
     "output_type": "stream",
     "text": [
      "\r\n",
      "Train:  96%|█████████▋| 106/110 [26:21<01:08, 17.16s/it]"
     ]
    },
    {
     "name": "stderr",
     "output_type": "stream",
     "text": [
      "\r\n",
      "Train:  97%|█████████▋| 107/110 [26:25<00:40, 13.40s/it]"
     ]
    },
    {
     "name": "stderr",
     "output_type": "stream",
     "text": [
      "\r\n",
      "Train:  98%|█████████▊| 108/110 [26:30<00:21, 10.80s/it]"
     ]
    },
    {
     "name": "stderr",
     "output_type": "stream",
     "text": [
      "\r\n",
      "Train:  99%|█████████▉| 109/110 [26:51<00:13, 13.81s/it]"
     ]
    },
    {
     "name": "stderr",
     "output_type": "stream",
     "text": [
      "\r\n",
      "Train: 100%|██████████| 110/110 [26:52<00:00, 10.19s/it]"
     ]
    },
    {
     "name": "stderr",
     "output_type": "stream",
     "text": [
      "\r\n",
      "Train: 100%|██████████| 110/110 [26:53<00:00, 14.66s/it]"
     ]
    },
    {
     "name": "stderr",
     "output_type": "stream",
     "text": [
      "\n"
     ]
    },
    {
     "name": "stdout",
     "output_type": "stream",
     "text": [
      "  Train Loss: 1.0903, Acc: 0.3507\n"
     ]
    },
    {
     "name": "stderr",
     "output_type": "stream",
     "text": [
      "\r\n",
      "Val:   0%|          | 0/28 [00:00<?, ?it/s]"
     ]
    },
    {
     "name": "stderr",
     "output_type": "stream",
     "text": [
      "/tmp/ipykernel_19/972150201.py:438: FutureWarning: `torch.cuda.amp.autocast(args...)` is deprecated. Please use `torch.amp.autocast('cuda', args...)` instead.\n",
      "  with autocast():\n"
     ]
    },
    {
     "name": "stderr",
     "output_type": "stream",
     "text": [
      "\r\n",
      "Val:   4%|▎         | 1/28 [01:00<27:10, 60.41s/it]"
     ]
    },
    {
     "name": "stderr",
     "output_type": "stream",
     "text": [
      "\r\n",
      "Val:   7%|▋         | 2/28 [01:05<11:57, 27.58s/it]"
     ]
    },
    {
     "name": "stderr",
     "output_type": "stream",
     "text": [
      "\r\n",
      "Val:  11%|█         | 3/28 [01:09<07:08, 17.14s/it]"
     ]
    },
    {
     "name": "stderr",
     "output_type": "stream",
     "text": [
      "\r\n",
      "Val:  14%|█▍        | 4/28 [01:14<04:54, 12.27s/it]"
     ]
    },
    {
     "name": "stderr",
     "output_type": "stream",
     "text": [
      "\r\n",
      "Val:  18%|█▊        | 5/28 [02:02<09:41, 25.29s/it]"
     ]
    },
    {
     "name": "stderr",
     "output_type": "stream",
     "text": [
      "\r\n",
      "Val:  21%|██▏       | 6/28 [02:07<06:41, 18.24s/it]"
     ]
    },
    {
     "name": "stderr",
     "output_type": "stream",
     "text": [
      "\r\n",
      "Val:  25%|██▌       | 7/28 [02:12<04:50, 13.83s/it]"
     ]
    },
    {
     "name": "stderr",
     "output_type": "stream",
     "text": [
      "\r\n",
      "Val:  29%|██▊       | 8/28 [02:17<03:39, 10.97s/it]"
     ]
    },
    {
     "name": "stderr",
     "output_type": "stream",
     "text": [
      "\r\n",
      "Val:  32%|███▏      | 9/28 [02:58<06:29, 20.50s/it]"
     ]
    },
    {
     "name": "stderr",
     "output_type": "stream",
     "text": [
      "\r\n",
      "Val:  36%|███▌      | 10/28 [03:03<04:41, 15.63s/it]"
     ]
    },
    {
     "name": "stderr",
     "output_type": "stream",
     "text": [
      "\r\n",
      "Val:  39%|███▉      | 11/28 [03:08<03:31, 12.44s/it]"
     ]
    },
    {
     "name": "stderr",
     "output_type": "stream",
     "text": [
      "\r\n",
      "Val:  43%|████▎     | 12/28 [03:13<02:41, 10.12s/it]"
     ]
    },
    {
     "name": "stderr",
     "output_type": "stream",
     "text": [
      "\r\n",
      "Val:  46%|████▋     | 13/28 [03:56<05:00, 20.03s/it]"
     ]
    },
    {
     "name": "stderr",
     "output_type": "stream",
     "text": [
      "\r\n",
      "Val:  50%|█████     | 14/28 [04:00<03:35, 15.42s/it]"
     ]
    },
    {
     "name": "stderr",
     "output_type": "stream",
     "text": [
      "\r\n",
      "Val:  54%|█████▎    | 15/28 [04:05<02:38, 12.16s/it]"
     ]
    },
    {
     "name": "stderr",
     "output_type": "stream",
     "text": [
      "\r\n",
      "Val:  57%|█████▋    | 16/28 [04:10<01:58,  9.91s/it]"
     ]
    },
    {
     "name": "stderr",
     "output_type": "stream",
     "text": [
      "\r\n",
      "Val:  61%|██████    | 17/28 [04:54<03:43, 20.33s/it]"
     ]
    },
    {
     "name": "stderr",
     "output_type": "stream",
     "text": [
      "\r\n",
      "Val:  64%|██████▍   | 18/28 [04:59<02:35, 15.59s/it]"
     ]
    },
    {
     "name": "stderr",
     "output_type": "stream",
     "text": [
      "\r\n",
      "Val:  68%|██████▊   | 19/28 [05:03<01:50, 12.29s/it]"
     ]
    },
    {
     "name": "stderr",
     "output_type": "stream",
     "text": [
      "\r\n",
      "Val:  71%|███████▏  | 20/28 [05:08<01:20, 10.04s/it]"
     ]
    },
    {
     "name": "stderr",
     "output_type": "stream",
     "text": [
      "\r\n",
      "Val:  75%|███████▌  | 21/28 [05:51<02:19, 19.86s/it]"
     ]
    },
    {
     "name": "stderr",
     "output_type": "stream",
     "text": [
      "\r\n",
      "Val:  79%|███████▊  | 22/28 [05:56<01:31, 15.30s/it]"
     ]
    },
    {
     "name": "stderr",
     "output_type": "stream",
     "text": [
      "\r\n",
      "Val:  82%|████████▏ | 23/28 [06:00<01:00, 12.13s/it]"
     ]
    },
    {
     "name": "stderr",
     "output_type": "stream",
     "text": [
      "\r\n",
      "Val:  86%|████████▌ | 24/28 [06:05<00:39,  9.97s/it]"
     ]
    },
    {
     "name": "stderr",
     "output_type": "stream",
     "text": [
      "\r\n",
      "Val:  89%|████████▉ | 25/28 [06:46<00:57, 19.22s/it]"
     ]
    },
    {
     "name": "stderr",
     "output_type": "stream",
     "text": [
      "\r\n",
      "Val:  93%|█████████▎| 26/28 [06:50<00:29, 14.75s/it]"
     ]
    },
    {
     "name": "stderr",
     "output_type": "stream",
     "text": [
      "\r\n",
      "Val:  96%|█████████▋| 27/28 [06:55<00:11, 11.64s/it]"
     ]
    },
    {
     "name": "stderr",
     "output_type": "stream",
     "text": [
      "\r\n",
      "Val: 100%|██████████| 28/28 [06:56<00:00,  8.65s/it]"
     ]
    },
    {
     "name": "stderr",
     "output_type": "stream",
     "text": [
      "\r\n",
      "Val: 100%|██████████| 28/28 [06:56<00:00, 14.89s/it]"
     ]
    },
    {
     "name": "stderr",
     "output_type": "stream",
     "text": [
      "\n"
     ]
    },
    {
     "name": "stdout",
     "output_type": "stream",
     "text": [
      "  Val Loss: 1.0742, Acc: 0.4622\n",
      "  + New best! Saved.\n",
      "Epoch 2/10\n"
     ]
    },
    {
     "name": "stderr",
     "output_type": "stream",
     "text": [
      "\r\n",
      "Train:   0%|          | 0/110 [00:00<?, ?it/s]"
     ]
    },
    {
     "name": "stderr",
     "output_type": "stream",
     "text": [
      "\r\n",
      "Train:   1%|          | 1/110 [00:54<1:38:32, 54.25s/it]"
     ]
    },
    {
     "name": "stderr",
     "output_type": "stream",
     "text": [
      "\r\n",
      "Train:   2%|▏         | 2/110 [01:01<48:19, 26.84s/it]  "
     ]
    },
    {
     "name": "stderr",
     "output_type": "stream",
     "text": [
      "\r\n",
      "Train:   3%|▎         | 3/110 [01:06<30:09, 16.91s/it]"
     ]
    },
    {
     "name": "stderr",
     "output_type": "stream",
     "text": [
      "\r\n",
      "Train:   4%|▎         | 4/110 [01:12<21:39, 12.26s/it]"
     ]
    },
    {
     "name": "stderr",
     "output_type": "stream",
     "text": [
      "\r\n",
      "Train:   5%|▍         | 5/110 [01:52<39:19, 22.47s/it]"
     ]
    },
    {
     "name": "stderr",
     "output_type": "stream",
     "text": [
      "\r\n",
      "Train:   5%|▌         | 6/110 [02:01<31:00, 17.89s/it]"
     ]
    },
    {
     "name": "stderr",
     "output_type": "stream",
     "text": [
      "\r\n",
      "Train:   6%|▋         | 7/110 [02:06<23:26, 13.66s/it]"
     ]
    },
    {
     "name": "stderr",
     "output_type": "stream",
     "text": [
      "\r\n",
      "Train:   7%|▋         | 8/110 [02:11<18:28, 10.87s/it]"
     ]
    },
    {
     "name": "stderr",
     "output_type": "stream",
     "text": [
      "\r\n",
      "Train:   8%|▊         | 9/110 [02:52<34:19, 20.39s/it]"
     ]
    },
    {
     "name": "stderr",
     "output_type": "stream",
     "text": [
      "\r\n",
      "Train:   9%|▉         | 10/110 [02:57<26:05, 15.66s/it]"
     ]
    },
    {
     "name": "stderr",
     "output_type": "stream",
     "text": [
      "\r\n",
      "Train:  10%|█         | 11/110 [03:05<21:34, 13.08s/it]"
     ]
    },
    {
     "name": "stderr",
     "output_type": "stream",
     "text": [
      "\r\n",
      "Train:  11%|█         | 12/110 [03:10<17:22, 10.64s/it]"
     ]
    },
    {
     "name": "stderr",
     "output_type": "stream",
     "text": [
      "\r\n",
      "Train:  12%|█▏        | 13/110 [03:48<30:50, 19.08s/it]"
     ]
    },
    {
     "name": "stderr",
     "output_type": "stream",
     "text": [
      "\r\n",
      "Train:  13%|█▎        | 14/110 [03:53<23:39, 14.79s/it]"
     ]
    },
    {
     "name": "stderr",
     "output_type": "stream",
     "text": [
      "\r\n",
      "Train:  14%|█▎        | 15/110 [04:01<20:18, 12.83s/it]"
     ]
    },
    {
     "name": "stderr",
     "output_type": "stream",
     "text": [
      "\r\n",
      "Train:  15%|█▍        | 16/110 [04:07<16:33, 10.57s/it]"
     ]
    },
    {
     "name": "stderr",
     "output_type": "stream",
     "text": [
      "\r\n",
      "Train:  15%|█▌        | 17/110 [04:56<34:25, 22.21s/it]"
     ]
    },
    {
     "name": "stderr",
     "output_type": "stream",
     "text": [
      "\r\n",
      "Train:  16%|█▋        | 18/110 [05:01<26:06, 17.03s/it]"
     ]
    },
    {
     "name": "stderr",
     "output_type": "stream",
     "text": [
      "\r\n",
      "Train:  17%|█▋        | 19/110 [05:06<20:20, 13.41s/it]"
     ]
    },
    {
     "name": "stderr",
     "output_type": "stream",
     "text": [
      "\r\n",
      "Train:  18%|█▊        | 20/110 [05:11<16:29, 11.00s/it]"
     ]
    },
    {
     "name": "stderr",
     "output_type": "stream",
     "text": [
      "\r\n",
      "Train:  19%|█▉        | 21/110 [06:00<32:56, 22.21s/it]"
     ]
    },
    {
     "name": "stderr",
     "output_type": "stream",
     "text": [
      "\r\n",
      "Train:  20%|██        | 22/110 [06:04<24:55, 16.99s/it]"
     ]
    },
    {
     "name": "stderr",
     "output_type": "stream",
     "text": [
      "\r\n",
      "Train:  21%|██        | 23/110 [06:10<19:27, 13.42s/it]"
     ]
    },
    {
     "name": "stderr",
     "output_type": "stream",
     "text": [
      "\r\n",
      "Train:  22%|██▏       | 24/110 [06:15<15:37, 10.90s/it]"
     ]
    },
    {
     "name": "stderr",
     "output_type": "stream",
     "text": [
      "\r\n",
      "Train:  23%|██▎       | 25/110 [07:01<30:31, 21.55s/it]"
     ]
    },
    {
     "name": "stderr",
     "output_type": "stream",
     "text": [
      "\r\n",
      "Train:  24%|██▎       | 26/110 [07:06<23:10, 16.56s/it]"
     ]
    },
    {
     "name": "stderr",
     "output_type": "stream",
     "text": [
      "\r\n",
      "Train:  25%|██▍       | 27/110 [07:11<18:05, 13.08s/it]"
     ]
    },
    {
     "name": "stderr",
     "output_type": "stream",
     "text": [
      "\r\n",
      "Train:  25%|██▌       | 28/110 [07:16<14:35, 10.68s/it]"
     ]
    },
    {
     "name": "stderr",
     "output_type": "stream",
     "text": [
      "\r\n",
      "Train:  26%|██▋       | 29/110 [07:58<26:57, 19.97s/it]"
     ]
    },
    {
     "name": "stderr",
     "output_type": "stream",
     "text": [
      "\r\n",
      "Train:  27%|██▋       | 30/110 [08:03<20:38, 15.48s/it]"
     ]
    },
    {
     "name": "stderr",
     "output_type": "stream",
     "text": [
      "\r\n",
      "Train:  28%|██▊       | 31/110 [08:08<16:15, 12.35s/it]"
     ]
    },
    {
     "name": "stderr",
     "output_type": "stream",
     "text": [
      "\r\n",
      "Train:  29%|██▉       | 32/110 [08:13<13:15, 10.20s/it]"
     ]
    },
    {
     "name": "stderr",
     "output_type": "stream",
     "text": [
      "\r\n",
      "Train:  30%|███       | 33/110 [09:05<29:18, 22.83s/it]"
     ]
    },
    {
     "name": "stderr",
     "output_type": "stream",
     "text": [
      "\r\n",
      "Train:  31%|███       | 34/110 [09:10<22:07, 17.47s/it]"
     ]
    },
    {
     "name": "stderr",
     "output_type": "stream",
     "text": [
      "\r\n",
      "Train:  32%|███▏      | 35/110 [09:15<17:09, 13.73s/it]"
     ]
    },
    {
     "name": "stderr",
     "output_type": "stream",
     "text": [
      "\r\n",
      "Train:  33%|███▎      | 36/110 [09:20<13:39, 11.08s/it]"
     ]
    },
    {
     "name": "stderr",
     "output_type": "stream",
     "text": [
      "\r\n",
      "Train:  34%|███▎      | 37/110 [10:02<24:43, 20.32s/it]"
     ]
    },
    {
     "name": "stderr",
     "output_type": "stream",
     "text": [
      "\r\n",
      "Train:  35%|███▍      | 38/110 [10:07<18:48, 15.67s/it]"
     ]
    },
    {
     "name": "stderr",
     "output_type": "stream",
     "text": [
      "\r\n",
      "Train:  35%|███▌      | 39/110 [10:12<14:44, 12.46s/it]"
     ]
    },
    {
     "name": "stderr",
     "output_type": "stream",
     "text": [
      "\r\n",
      "Train:  36%|███▋      | 40/110 [10:17<11:56, 10.24s/it]"
     ]
    },
    {
     "name": "stderr",
     "output_type": "stream",
     "text": [
      "\r\n",
      "Train:  37%|███▋      | 41/110 [11:06<25:16, 21.98s/it]"
     ]
    },
    {
     "name": "stderr",
     "output_type": "stream",
     "text": [
      "\r\n",
      "Train:  38%|███▊      | 42/110 [11:11<19:07, 16.87s/it]"
     ]
    },
    {
     "name": "stderr",
     "output_type": "stream",
     "text": [
      "\r\n",
      "Train:  39%|███▉      | 43/110 [11:16<14:51, 13.30s/it]"
     ]
    },
    {
     "name": "stderr",
     "output_type": "stream",
     "text": [
      "\r\n",
      "Train:  40%|████      | 44/110 [11:21<11:52, 10.80s/it]"
     ]
    },
    {
     "name": "stderr",
     "output_type": "stream",
     "text": [
      "\r\n",
      "Train:  41%|████      | 45/110 [12:01<21:09, 19.54s/it]"
     ]
    },
    {
     "name": "stderr",
     "output_type": "stream",
     "text": [
      "\r\n",
      "Train:  42%|████▏     | 46/110 [12:06<16:10, 15.16s/it]"
     ]
    },
    {
     "name": "stderr",
     "output_type": "stream",
     "text": [
      "\r\n",
      "Train:  43%|████▎     | 47/110 [12:11<12:43, 12.12s/it]"
     ]
    },
    {
     "name": "stderr",
     "output_type": "stream",
     "text": [
      "\r\n",
      "Train:  44%|████▎     | 48/110 [12:16<10:21, 10.02s/it]"
     ]
    },
    {
     "name": "stderr",
     "output_type": "stream",
     "text": [
      "\r\n",
      "Train:  45%|████▍     | 49/110 [13:05<22:12, 21.85s/it]"
     ]
    },
    {
     "name": "stderr",
     "output_type": "stream",
     "text": [
      "\r\n",
      "Train:  45%|████▌     | 50/110 [13:10<16:44, 16.74s/it]"
     ]
    },
    {
     "name": "stderr",
     "output_type": "stream",
     "text": [
      "\r\n",
      "Train:  46%|████▋     | 51/110 [13:15<13:00, 13.23s/it]"
     ]
    },
    {
     "name": "stderr",
     "output_type": "stream",
     "text": [
      "\r\n",
      "Train:  47%|████▋     | 52/110 [13:20<10:27, 10.81s/it]"
     ]
    },
    {
     "name": "stderr",
     "output_type": "stream",
     "text": [
      "\r\n",
      "Train:  48%|████▊     | 53/110 [14:08<20:39, 21.74s/it]"
     ]
    },
    {
     "name": "stderr",
     "output_type": "stream",
     "text": [
      "\r\n",
      "Train:  49%|████▉     | 54/110 [14:13<15:36, 16.72s/it]"
     ]
    },
    {
     "name": "stderr",
     "output_type": "stream",
     "text": [
      "\r\n",
      "Train:  50%|█████     | 55/110 [14:18<12:04, 13.18s/it]"
     ]
    },
    {
     "name": "stderr",
     "output_type": "stream",
     "text": [
      "\r\n",
      "Train:  51%|█████     | 56/110 [14:23<09:42, 10.78s/it]"
     ]
    },
    {
     "name": "stderr",
     "output_type": "stream",
     "text": [
      "\r\n",
      "Train:  52%|█████▏    | 57/110 [14:59<16:20, 18.50s/it]"
     ]
    },
    {
     "name": "stderr",
     "output_type": "stream",
     "text": [
      "\r\n",
      "Train:  53%|█████▎    | 58/110 [15:04<12:31, 14.44s/it]"
     ]
    },
    {
     "name": "stderr",
     "output_type": "stream",
     "text": [
      "\r\n",
      "Train:  54%|█████▎    | 59/110 [15:09<09:52, 11.63s/it]"
     ]
    },
    {
     "name": "stderr",
     "output_type": "stream",
     "text": [
      "\r\n",
      "Train:  55%|█████▍    | 60/110 [15:14<08:03,  9.67s/it]"
     ]
    },
    {
     "name": "stderr",
     "output_type": "stream",
     "text": [
      "\r\n",
      "Train:  55%|█████▌    | 61/110 [16:02<17:16, 21.16s/it]"
     ]
    },
    {
     "name": "stderr",
     "output_type": "stream",
     "text": [
      "\r\n",
      "Train:  56%|█████▋    | 62/110 [16:07<13:02, 16.29s/it]"
     ]
    },
    {
     "name": "stderr",
     "output_type": "stream",
     "text": [
      "\r\n",
      "Train:  57%|█████▋    | 63/110 [16:12<10:05, 12.89s/it]"
     ]
    },
    {
     "name": "stderr",
     "output_type": "stream",
     "text": [
      "\r\n",
      "Train:  58%|█████▊    | 64/110 [16:17<08:04, 10.53s/it]"
     ]
    },
    {
     "name": "stderr",
     "output_type": "stream",
     "text": [
      "\r\n",
      "Train:  59%|█████▉    | 65/110 [17:00<15:02, 20.05s/it]"
     ]
    },
    {
     "name": "stderr",
     "output_type": "stream",
     "text": [
      "\r\n",
      "Train:  60%|██████    | 66/110 [17:05<11:22, 15.50s/it]"
     ]
    },
    {
     "name": "stderr",
     "output_type": "stream",
     "text": [
      "\r\n",
      "Train:  61%|██████    | 67/110 [17:10<08:53, 12.40s/it]"
     ]
    },
    {
     "name": "stderr",
     "output_type": "stream",
     "text": [
      "\r\n",
      "Train:  62%|██████▏   | 68/110 [17:15<07:08, 10.21s/it]"
     ]
    },
    {
     "name": "stderr",
     "output_type": "stream",
     "text": [
      "\r\n",
      "Train:  63%|██████▎   | 69/110 [17:56<13:15, 19.40s/it]"
     ]
    },
    {
     "name": "stderr",
     "output_type": "stream",
     "text": [
      "\r\n",
      "Train:  64%|██████▎   | 70/110 [18:00<10:00, 15.02s/it]"
     ]
    },
    {
     "name": "stderr",
     "output_type": "stream",
     "text": [
      "\r\n",
      "Train:  65%|██████▍   | 71/110 [18:05<07:48, 12.00s/it]"
     ]
    },
    {
     "name": "stderr",
     "output_type": "stream",
     "text": [
      "\r\n",
      "Train:  65%|██████▌   | 72/110 [18:11<06:18,  9.97s/it]"
     ]
    },
    {
     "name": "stderr",
     "output_type": "stream",
     "text": [
      "\r\n",
      "Train:  66%|██████▋   | 73/110 [18:50<11:37, 18.84s/it]"
     ]
    },
    {
     "name": "stderr",
     "output_type": "stream",
     "text": [
      "\r\n",
      "Train:  67%|██████▋   | 74/110 [18:55<08:48, 14.67s/it]"
     ]
    },
    {
     "name": "stderr",
     "output_type": "stream",
     "text": [
      "\r\n",
      "Train:  68%|██████▊   | 75/110 [19:00<06:52, 11.78s/it]"
     ]
    },
    {
     "name": "stderr",
     "output_type": "stream",
     "text": [
      "\r\n",
      "Train:  69%|██████▉   | 76/110 [19:05<05:32,  9.79s/it]"
     ]
    },
    {
     "name": "stderr",
     "output_type": "stream",
     "text": [
      "\r\n",
      "Train:  70%|███████   | 77/110 [19:50<11:07, 20.23s/it]"
     ]
    },
    {
     "name": "stderr",
     "output_type": "stream",
     "text": [
      "\r\n",
      "Train:  71%|███████   | 78/110 [19:55<08:18, 15.59s/it]"
     ]
    },
    {
     "name": "stderr",
     "output_type": "stream",
     "text": [
      "\r\n",
      "Train:  72%|███████▏  | 79/110 [19:59<06:23, 12.37s/it]"
     ]
    },
    {
     "name": "stderr",
     "output_type": "stream",
     "text": [
      "\r\n",
      "Train:  73%|███████▎  | 80/110 [20:04<05:04, 10.16s/it]"
     ]
    },
    {
     "name": "stderr",
     "output_type": "stream",
     "text": [
      "\r\n",
      "Train:  74%|███████▎  | 81/110 [20:46<09:27, 19.57s/it]"
     ]
    },
    {
     "name": "stderr",
     "output_type": "stream",
     "text": [
      "\r\n",
      "Train:  75%|███████▍  | 82/110 [20:51<07:04, 15.16s/it]"
     ]
    },
    {
     "name": "stderr",
     "output_type": "stream",
     "text": [
      "\r\n",
      "Train:  75%|███████▌  | 83/110 [20:56<05:27, 12.15s/it]"
     ]
    },
    {
     "name": "stderr",
     "output_type": "stream",
     "text": [
      "\r\n",
      "Train:  76%|███████▋  | 84/110 [21:01<04:20, 10.01s/it]"
     ]
    },
    {
     "name": "stderr",
     "output_type": "stream",
     "text": [
      "\r\n",
      "Train:  77%|███████▋  | 85/110 [21:47<08:38, 20.73s/it]"
     ]
    },
    {
     "name": "stderr",
     "output_type": "stream",
     "text": [
      "\r\n",
      "Train:  78%|███████▊  | 86/110 [21:52<06:22, 15.95s/it]"
     ]
    },
    {
     "name": "stderr",
     "output_type": "stream",
     "text": [
      "\r\n",
      "Train:  79%|███████▉  | 87/110 [21:56<04:50, 12.64s/it]"
     ]
    },
    {
     "name": "stderr",
     "output_type": "stream",
     "text": [
      "\r\n",
      "Train:  80%|████████  | 88/110 [22:01<03:47, 10.35s/it]"
     ]
    },
    {
     "name": "stderr",
     "output_type": "stream",
     "text": [
      "\r\n",
      "Train:  81%|████████  | 89/110 [22:43<06:55, 19.80s/it]"
     ]
    },
    {
     "name": "stderr",
     "output_type": "stream",
     "text": [
      "\r\n",
      "Train:  82%|████████▏ | 90/110 [22:48<05:06, 15.31s/it]"
     ]
    },
    {
     "name": "stderr",
     "output_type": "stream",
     "text": [
      "\r\n",
      "Train:  83%|████████▎ | 91/110 [22:53<03:51, 12.21s/it]"
     ]
    },
    {
     "name": "stderr",
     "output_type": "stream",
     "text": [
      "\r\n",
      "Train:  84%|████████▎ | 92/110 [22:58<03:01, 10.09s/it]"
     ]
    },
    {
     "name": "stderr",
     "output_type": "stream",
     "text": [
      "\r\n",
      "Train:  85%|████████▍ | 93/110 [23:47<06:06, 21.54s/it]"
     ]
    },
    {
     "name": "stderr",
     "output_type": "stream",
     "text": [
      "\r\n",
      "Train:  85%|████████▌ | 94/110 [23:51<04:24, 16.52s/it]"
     ]
    },
    {
     "name": "stderr",
     "output_type": "stream",
     "text": [
      "\r\n",
      "Train:  86%|████████▋ | 95/110 [23:56<03:15, 13.03s/it]"
     ]
    },
    {
     "name": "stderr",
     "output_type": "stream",
     "text": [
      "\r\n",
      "Train:  87%|████████▋ | 96/110 [24:01<02:29, 10.67s/it]"
     ]
    },
    {
     "name": "stderr",
     "output_type": "stream",
     "text": [
      "\r\n",
      "Train:  88%|████████▊ | 97/110 [24:40<04:06, 18.96s/it]"
     ]
    },
    {
     "name": "stderr",
     "output_type": "stream",
     "text": [
      "\r\n",
      "Train:  89%|████████▉ | 98/110 [24:45<02:57, 14.77s/it]"
     ]
    },
    {
     "name": "stderr",
     "output_type": "stream",
     "text": [
      "\r\n",
      "Train:  90%|█████████ | 99/110 [24:50<02:10, 11.85s/it]"
     ]
    },
    {
     "name": "stderr",
     "output_type": "stream",
     "text": [
      "\r\n",
      "Train:  91%|█████████ | 100/110 [24:55<01:38,  9.85s/it]"
     ]
    },
    {
     "name": "stderr",
     "output_type": "stream",
     "text": [
      "\r\n",
      "Train:  92%|█████████▏| 101/110 [25:37<02:55, 19.49s/it]"
     ]
    },
    {
     "name": "stderr",
     "output_type": "stream",
     "text": [
      "\r\n",
      "Train:  93%|█████████▎| 102/110 [25:42<02:00, 15.12s/it]"
     ]
    },
    {
     "name": "stderr",
     "output_type": "stream",
     "text": [
      "\r\n",
      "Train:  94%|█████████▎| 103/110 [25:47<01:24, 12.13s/it]"
     ]
    },
    {
     "name": "stderr",
     "output_type": "stream",
     "text": [
      "\r\n",
      "Train:  95%|█████████▍| 104/110 [25:52<00:59,  9.99s/it]"
     ]
    },
    {
     "name": "stderr",
     "output_type": "stream",
     "text": [
      "\r\n",
      "Train:  95%|█████████▌| 105/110 [26:20<01:16, 15.38s/it]"
     ]
    },
    {
     "name": "stderr",
     "output_type": "stream",
     "text": [
      "\r\n",
      "Train:  96%|█████████▋| 106/110 [26:24<00:48, 12.13s/it]"
     ]
    },
    {
     "name": "stderr",
     "output_type": "stream",
     "text": [
      "\r\n",
      "Train:  97%|█████████▋| 107/110 [26:29<00:29,  9.89s/it]"
     ]
    },
    {
     "name": "stderr",
     "output_type": "stream",
     "text": [
      "\r\n",
      "Train:  98%|█████████▊| 108/110 [26:34<00:16,  8.34s/it]"
     ]
    },
    {
     "name": "stderr",
     "output_type": "stream",
     "text": [
      "\r\n",
      "Train:  99%|█████████▉| 109/110 [26:59<00:13, 13.40s/it]"
     ]
    },
    {
     "name": "stderr",
     "output_type": "stream",
     "text": [
      "\r\n",
      "Train: 100%|██████████| 110/110 [26:59<00:00, 14.72s/it]"
     ]
    },
    {
     "name": "stderr",
     "output_type": "stream",
     "text": [
      "\n"
     ]
    },
    {
     "name": "stdout",
     "output_type": "stream",
     "text": [
      "  Train Loss: 1.0624, Acc: 0.4103\n"
     ]
    },
    {
     "name": "stderr",
     "output_type": "stream",
     "text": [
      "\r\n",
      "Val:   0%|          | 0/28 [00:00<?, ?it/s]"
     ]
    },
    {
     "name": "stderr",
     "output_type": "stream",
     "text": [
      "\r\n",
      "Val:   4%|▎         | 1/28 [00:59<26:47, 59.55s/it]"
     ]
    },
    {
     "name": "stderr",
     "output_type": "stream",
     "text": [
      "\r\n",
      "Val:   7%|▋         | 2/28 [01:04<11:49, 27.29s/it]"
     ]
    },
    {
     "name": "stderr",
     "output_type": "stream",
     "text": [
      "\r\n",
      "Val:  11%|█         | 3/28 [01:09<07:05, 17.03s/it]"
     ]
    },
    {
     "name": "stderr",
     "output_type": "stream",
     "text": [
      "\r\n",
      "Val:  14%|█▍        | 4/28 [01:14<04:54, 12.26s/it]"
     ]
    },
    {
     "name": "stderr",
     "output_type": "stream",
     "text": [
      "\r\n",
      "Val:  18%|█▊        | 5/28 [01:58<09:08, 23.85s/it]"
     ]
    },
    {
     "name": "stderr",
     "output_type": "stream",
     "text": [
      "\r\n",
      "Val:  21%|██▏       | 6/28 [02:03<06:21, 17.35s/it]"
     ]
    },
    {
     "name": "stderr",
     "output_type": "stream",
     "text": [
      "\r\n",
      "Val:  25%|██▌       | 7/28 [02:07<04:37, 13.22s/it]"
     ]
    },
    {
     "name": "stderr",
     "output_type": "stream",
     "text": [
      "\r\n",
      "Val:  29%|██▊       | 8/28 [02:12<03:31, 10.55s/it]"
     ]
    },
    {
     "name": "stderr",
     "output_type": "stream",
     "text": [
      "\r\n",
      "Val:  32%|███▏      | 9/28 [02:48<05:52, 18.53s/it]"
     ]
    },
    {
     "name": "stderr",
     "output_type": "stream",
     "text": [
      "\r\n",
      "Val:  36%|███▌      | 10/28 [02:53<04:16, 14.24s/it]"
     ]
    },
    {
     "name": "stderr",
     "output_type": "stream",
     "text": [
      "\r\n",
      "Val:  39%|███▉      | 11/28 [02:58<03:13, 11.37s/it]"
     ]
    },
    {
     "name": "stderr",
     "output_type": "stream",
     "text": [
      "\r\n",
      "Val:  43%|████▎     | 12/28 [03:03<02:30,  9.39s/it]"
     ]
    },
    {
     "name": "stderr",
     "output_type": "stream",
     "text": [
      "\r\n",
      "Val:  46%|████▋     | 13/28 [03:43<04:43, 18.92s/it]"
     ]
    },
    {
     "name": "stderr",
     "output_type": "stream",
     "text": [
      "\r\n",
      "Val:  50%|█████     | 14/28 [03:48<03:24, 14.62s/it]"
     ]
    },
    {
     "name": "stderr",
     "output_type": "stream",
     "text": [
      "\r\n",
      "Val:  54%|█████▎    | 15/28 [03:53<02:31, 11.64s/it]"
     ]
    },
    {
     "name": "stderr",
     "output_type": "stream",
     "text": [
      "\r\n",
      "Val:  57%|█████▋    | 16/28 [03:58<01:54,  9.58s/it]"
     ]
    },
    {
     "name": "stderr",
     "output_type": "stream",
     "text": [
      "\r\n",
      "Val:  61%|██████    | 17/28 [04:37<03:22, 18.44s/it]"
     ]
    },
    {
     "name": "stderr",
     "output_type": "stream",
     "text": [
      "\r\n",
      "Val:  64%|██████▍   | 18/28 [04:44<02:32, 15.20s/it]"
     ]
    },
    {
     "name": "stderr",
     "output_type": "stream",
     "text": [
      "\r\n",
      "Val:  68%|██████▊   | 19/28 [04:49<01:48, 12.07s/it]"
     ]
    },
    {
     "name": "stderr",
     "output_type": "stream",
     "text": [
      "\r\n",
      "Val:  71%|███████▏  | 20/28 [04:54<01:19,  9.90s/it]"
     ]
    },
    {
     "name": "stderr",
     "output_type": "stream",
     "text": [
      "\r\n",
      "Val:  75%|███████▌  | 21/28 [05:27<01:57, 16.81s/it]"
     ]
    },
    {
     "name": "stderr",
     "output_type": "stream",
     "text": [
      "\r\n",
      "Val:  79%|███████▊  | 22/28 [05:37<01:28, 14.69s/it]"
     ]
    },
    {
     "name": "stderr",
     "output_type": "stream",
     "text": [
      "\r\n",
      "Val:  82%|████████▏ | 23/28 [05:42<00:58, 11.72s/it]"
     ]
    },
    {
     "name": "stderr",
     "output_type": "stream",
     "text": [
      "\r\n",
      "Val:  86%|████████▌ | 24/28 [05:46<00:38,  9.61s/it]"
     ]
    },
    {
     "name": "stderr",
     "output_type": "stream",
     "text": [
      "\r\n",
      "Val:  89%|████████▉ | 25/28 [06:20<00:50, 16.86s/it]"
     ]
    },
    {
     "name": "stderr",
     "output_type": "stream",
     "text": [
      "\r\n",
      "Val:  93%|█████████▎| 26/28 [06:24<00:26, 13.10s/it]"
     ]
    },
    {
     "name": "stderr",
     "output_type": "stream",
     "text": [
      "\r\n",
      "Val:  96%|█████████▋| 27/28 [06:29<00:10, 10.49s/it]"
     ]
    },
    {
     "name": "stderr",
     "output_type": "stream",
     "text": [
      "\r\n",
      "Val: 100%|██████████| 28/28 [06:30<00:00,  7.85s/it]"
     ]
    },
    {
     "name": "stderr",
     "output_type": "stream",
     "text": [
      "\r\n",
      "Val: 100%|██████████| 28/28 [06:30<00:00, 13.96s/it]"
     ]
    },
    {
     "name": "stderr",
     "output_type": "stream",
     "text": [
      "\n"
     ]
    },
    {
     "name": "stdout",
     "output_type": "stream",
     "text": [
      "  Val Loss: 1.0844, Acc: 0.3890\n",
      "Epoch 3/10\n"
     ]
    },
    {
     "name": "stderr",
     "output_type": "stream",
     "text": [
      "\r\n",
      "Train:   0%|          | 0/110 [00:00<?, ?it/s]"
     ]
    },
    {
     "name": "stderr",
     "output_type": "stream",
     "text": [
      "\r\n",
      "Train:   1%|          | 1/110 [00:55<1:40:42, 55.44s/it]"
     ]
    },
    {
     "name": "stderr",
     "output_type": "stream",
     "text": [
      "\r\n",
      "Train:   2%|▏         | 2/110 [01:06<53:11, 29.55s/it]  "
     ]
    },
    {
     "name": "stderr",
     "output_type": "stream",
     "text": [
      "\r\n",
      "Train:   3%|▎         | 3/110 [01:11<32:45, 18.37s/it]"
     ]
    },
    {
     "name": "stderr",
     "output_type": "stream",
     "text": [
      "\r\n",
      "Train:   4%|▎         | 4/110 [01:17<23:17, 13.18s/it]"
     ]
    },
    {
     "name": "stderr",
     "output_type": "stream",
     "text": [
      "\r\n",
      "Train:   5%|▍         | 5/110 [01:48<34:36, 19.78s/it]"
     ]
    },
    {
     "name": "stderr",
     "output_type": "stream",
     "text": [
      "\r\n",
      "Train:   5%|▌         | 6/110 [02:03<31:32, 18.20s/it]"
     ]
    },
    {
     "name": "stderr",
     "output_type": "stream",
     "text": [
      "\r\n",
      "Train:   6%|▋         | 7/110 [02:08<23:49, 13.88s/it]"
     ]
    },
    {
     "name": "stderr",
     "output_type": "stream",
     "text": [
      "\r\n",
      "Train:   7%|▋         | 8/110 [02:13<18:51, 11.09s/it]"
     ]
    },
    {
     "name": "stderr",
     "output_type": "stream",
     "text": [
      "\r\n",
      "Train:   8%|▊         | 9/110 [02:48<31:03, 18.46s/it]"
     ]
    },
    {
     "name": "stderr",
     "output_type": "stream",
     "text": [
      "\r\n",
      "Train:   9%|▉         | 10/110 [03:01<27:42, 16.63s/it]"
     ]
    },
    {
     "name": "stderr",
     "output_type": "stream",
     "text": [
      "\r\n",
      "Train:  10%|█         | 11/110 [03:06<21:37, 13.11s/it]"
     ]
    },
    {
     "name": "stderr",
     "output_type": "stream",
     "text": [
      "\r\n",
      "Train:  11%|█         | 12/110 [03:11<17:27, 10.69s/it]"
     ]
    },
    {
     "name": "stderr",
     "output_type": "stream",
     "text": [
      "\r\n",
      "Train:  12%|█▏        | 13/110 [03:44<28:23, 17.56s/it]"
     ]
    },
    {
     "name": "stderr",
     "output_type": "stream",
     "text": [
      "\r\n",
      "Train:  13%|█▎        | 14/110 [03:55<24:50, 15.52s/it]"
     ]
    },
    {
     "name": "stderr",
     "output_type": "stream",
     "text": [
      "\r\n",
      "Train:  14%|█▎        | 15/110 [04:00<19:34, 12.36s/it]"
     ]
    },
    {
     "name": "stderr",
     "output_type": "stream",
     "text": [
      "\r\n",
      "Train:  15%|█▍        | 16/110 [04:05<15:52, 10.14s/it]"
     ]
    },
    {
     "name": "stderr",
     "output_type": "stream",
     "text": [
      "\r\n",
      "Train:  15%|█▌        | 17/110 [04:34<24:30, 15.81s/it]"
     ]
    },
    {
     "name": "stderr",
     "output_type": "stream",
     "text": [
      "\r\n",
      "Train:  16%|█▋        | 18/110 [04:59<28:15, 18.43s/it]"
     ]
    },
    {
     "name": "stderr",
     "output_type": "stream",
     "text": [
      "\r\n",
      "Train:  17%|█▋        | 19/110 [05:04<21:51, 14.41s/it]"
     ]
    },
    {
     "name": "stderr",
     "output_type": "stream",
     "text": [
      "\r\n",
      "Train:  18%|█▊        | 20/110 [05:09<17:26, 11.63s/it]"
     ]
    },
    {
     "name": "stderr",
     "output_type": "stream",
     "text": [
      "\r\n",
      "Train:  19%|█▉        | 21/110 [05:24<18:58, 12.79s/it]"
     ]
    },
    {
     "name": "stderr",
     "output_type": "stream",
     "text": [
      "\r\n",
      "Train:  20%|██        | 22/110 [05:58<28:09, 19.20s/it]"
     ]
    },
    {
     "name": "stderr",
     "output_type": "stream",
     "text": [
      "\r\n",
      "Train:  21%|██        | 23/110 [06:03<21:41, 14.96s/it]"
     ]
    },
    {
     "name": "stderr",
     "output_type": "stream",
     "text": [
      "\r\n",
      "Train:  22%|██▏       | 24/110 [06:09<17:11, 11.99s/it]"
     ]
    },
    {
     "name": "stderr",
     "output_type": "stream",
     "text": [
      "\r\n",
      "Train:  23%|██▎       | 25/110 [06:22<17:45, 12.54s/it]"
     ]
    },
    {
     "name": "stderr",
     "output_type": "stream",
     "text": [
      "\r\n",
      "Train:  24%|██▎       | 26/110 [06:55<26:07, 18.66s/it]"
     ]
    },
    {
     "name": "stderr",
     "output_type": "stream",
     "text": [
      "\r\n",
      "Train:  25%|██▍       | 27/110 [07:00<20:07, 14.55s/it]"
     ]
    },
    {
     "name": "stderr",
     "output_type": "stream",
     "text": [
      "\r\n",
      "Train:  25%|██▌       | 28/110 [07:05<16:01, 11.72s/it]"
     ]
    },
    {
     "name": "stderr",
     "output_type": "stream",
     "text": [
      "\r\n",
      "Train:  26%|██▋       | 29/110 [07:18<16:10, 11.98s/it]"
     ]
    },
    {
     "name": "stderr",
     "output_type": "stream",
     "text": [
      "\r\n",
      "Train:  27%|██▋       | 30/110 [07:58<27:21, 20.52s/it]"
     ]
    },
    {
     "name": "stderr",
     "output_type": "stream",
     "text": [
      "\r\n",
      "Train:  28%|██▊       | 31/110 [08:03<20:51, 15.84s/it]"
     ]
    },
    {
     "name": "stderr",
     "output_type": "stream",
     "text": [
      "\r\n",
      "Train:  29%|██▉       | 32/110 [08:08<16:21, 12.59s/it]"
     ]
    },
    {
     "name": "stderr",
     "output_type": "stream",
     "text": [
      "\r\n",
      "Train:  30%|███       | 33/110 [08:16<14:11, 11.06s/it]"
     ]
    },
    {
     "name": "stderr",
     "output_type": "stream",
     "text": [
      "\r\n",
      "Train:  31%|███       | 34/110 [09:05<28:31, 22.52s/it]"
     ]
    },
    {
     "name": "stderr",
     "output_type": "stream",
     "text": [
      "\r\n",
      "Train:  32%|███▏      | 35/110 [09:10<21:34, 17.26s/it]"
     ]
    },
    {
     "name": "stderr",
     "output_type": "stream",
     "text": [
      "\r\n",
      "Train:  33%|███▎      | 36/110 [09:15<16:47, 13.62s/it]"
     ]
    },
    {
     "name": "stderr",
     "output_type": "stream",
     "text": [
      "\r\n",
      "Train:  34%|███▎      | 37/110 [09:20<13:28, 11.07s/it]"
     ]
    },
    {
     "name": "stderr",
     "output_type": "stream",
     "text": [
      "\r\n",
      "Train:  35%|███▍      | 38/110 [10:04<24:51, 20.72s/it]"
     ]
    },
    {
     "name": "stderr",
     "output_type": "stream",
     "text": [
      "\r\n",
      "Train:  35%|███▌      | 39/110 [10:09<18:57, 16.02s/it]"
     ]
    },
    {
     "name": "stderr",
     "output_type": "stream",
     "text": [
      "\r\n",
      "Train:  36%|███▋      | 40/110 [10:14<14:52, 12.74s/it]"
     ]
    },
    {
     "name": "stderr",
     "output_type": "stream",
     "text": [
      "\r\n",
      "Train:  37%|███▋      | 41/110 [10:19<12:01, 10.46s/it]"
     ]
    },
    {
     "name": "stderr",
     "output_type": "stream",
     "text": [
      "\r\n",
      "Train:  38%|███▊      | 42/110 [11:06<24:20, 21.47s/it]"
     ]
    },
    {
     "name": "stderr",
     "output_type": "stream",
     "text": [
      "\r\n",
      "Train:  39%|███▉      | 43/110 [11:11<18:28, 16.54s/it]"
     ]
    },
    {
     "name": "stderr",
     "output_type": "stream",
     "text": [
      "\r\n",
      "Train:  40%|████      | 44/110 [11:16<14:23, 13.08s/it]"
     ]
    },
    {
     "name": "stderr",
     "output_type": "stream",
     "text": [
      "\r\n",
      "Train:  41%|████      | 45/110 [11:21<11:33, 10.68s/it]"
     ]
    },
    {
     "name": "stderr",
     "output_type": "stream",
     "text": [
      "\r\n",
      "Train:  42%|████▏     | 46/110 [12:06<22:26, 21.05s/it]"
     ]
    },
    {
     "name": "stderr",
     "output_type": "stream",
     "text": [
      "\r\n",
      "Train:  43%|████▎     | 47/110 [12:11<17:01, 16.22s/it]"
     ]
    },
    {
     "name": "stderr",
     "output_type": "stream",
     "text": [
      "\r\n",
      "Train:  44%|████▎     | 48/110 [12:16<13:19, 12.90s/it]"
     ]
    },
    {
     "name": "stderr",
     "output_type": "stream",
     "text": [
      "\r\n",
      "Train:  45%|████▍     | 49/110 [12:22<10:43, 10.54s/it]"
     ]
    },
    {
     "name": "stderr",
     "output_type": "stream",
     "text": [
      "\r\n",
      "Train:  45%|████▌     | 50/110 [12:59<18:40, 18.68s/it]"
     ]
    },
    {
     "name": "stderr",
     "output_type": "stream",
     "text": [
      "\r\n",
      "Train:  46%|████▋     | 51/110 [13:04<14:19, 14.57s/it]"
     ]
    },
    {
     "name": "stderr",
     "output_type": "stream",
     "text": [
      "\r\n",
      "Train:  47%|████▋     | 52/110 [13:09<11:20, 11.73s/it]"
     ]
    },
    {
     "name": "stderr",
     "output_type": "stream",
     "text": [
      "\r\n",
      "Train:  48%|████▊     | 53/110 [13:14<09:16,  9.76s/it]"
     ]
    },
    {
     "name": "stderr",
     "output_type": "stream",
     "text": [
      "\r\n",
      "Train:  49%|████▉     | 54/110 [13:54<17:24, 18.65s/it]"
     ]
    },
    {
     "name": "stderr",
     "output_type": "stream",
     "text": [
      "\r\n",
      "Train:  50%|█████     | 55/110 [13:59<13:19, 14.55s/it]"
     ]
    },
    {
     "name": "stderr",
     "output_type": "stream",
     "text": [
      "\r\n",
      "Train:  51%|█████     | 56/110 [14:04<10:31, 11.70s/it]"
     ]
    },
    {
     "name": "stderr",
     "output_type": "stream",
     "text": [
      "\r\n",
      "Train:  52%|█████▏    | 57/110 [14:09<08:35,  9.72s/it]"
     ]
    },
    {
     "name": "stderr",
     "output_type": "stream",
     "text": [
      "\r\n",
      "Train:  53%|█████▎    | 58/110 [14:54<17:29, 20.18s/it]"
     ]
    },
    {
     "name": "stderr",
     "output_type": "stream",
     "text": [
      "\r\n",
      "Train:  54%|█████▎    | 59/110 [14:59<13:17, 15.65s/it]"
     ]
    },
    {
     "name": "stderr",
     "output_type": "stream",
     "text": [
      "\r\n",
      "Train:  55%|█████▍    | 60/110 [15:04<10:22, 12.45s/it]"
     ]
    },
    {
     "name": "stderr",
     "output_type": "stream",
     "text": [
      "\r\n",
      "Train:  55%|█████▌    | 61/110 [15:09<08:21, 10.23s/it]"
     ]
    },
    {
     "name": "stderr",
     "output_type": "stream",
     "text": [
      "\r\n",
      "Train:  56%|█████▋    | 62/110 [15:48<15:06, 18.88s/it]"
     ]
    },
    {
     "name": "stderr",
     "output_type": "stream",
     "text": [
      "\r\n",
      "Train:  57%|█████▋    | 63/110 [15:53<11:29, 14.66s/it]"
     ]
    },
    {
     "name": "stderr",
     "output_type": "stream",
     "text": [
      "\r\n",
      "Train:  58%|█████▊    | 64/110 [15:57<09:00, 11.74s/it]"
     ]
    },
    {
     "name": "stderr",
     "output_type": "stream",
     "text": [
      "\r\n",
      "Train:  59%|█████▉    | 65/110 [16:03<07:18,  9.75s/it]"
     ]
    },
    {
     "name": "stderr",
     "output_type": "stream",
     "text": [
      "\r\n",
      "Train:  60%|██████    | 66/110 [16:36<12:23, 16.90s/it]"
     ]
    },
    {
     "name": "stderr",
     "output_type": "stream",
     "text": [
      "\r\n",
      "Train:  61%|██████    | 67/110 [16:41<09:33, 13.33s/it]"
     ]
    },
    {
     "name": "stderr",
     "output_type": "stream",
     "text": [
      "\r\n",
      "Train:  62%|██████▏   | 68/110 [16:46<07:35, 10.86s/it]"
     ]
    },
    {
     "name": "stderr",
     "output_type": "stream",
     "text": [
      "\r\n",
      "Train:  63%|██████▎   | 69/110 [16:52<06:24,  9.38s/it]"
     ]
    },
    {
     "name": "stderr",
     "output_type": "stream",
     "text": [
      "\r\n",
      "Train:  64%|██████▎   | 70/110 [17:26<11:13, 16.83s/it]"
     ]
    },
    {
     "name": "stderr",
     "output_type": "stream",
     "text": [
      "\r\n",
      "Train:  65%|██████▍   | 71/110 [17:31<08:36, 13.24s/it]"
     ]
    },
    {
     "name": "stderr",
     "output_type": "stream",
     "text": [
      "\r\n",
      "Train:  65%|██████▌   | 72/110 [17:36<06:47, 10.72s/it]"
     ]
    },
    {
     "name": "stderr",
     "output_type": "stream",
     "text": [
      "\r\n",
      "Train:  66%|██████▋   | 73/110 [17:52<07:38, 12.39s/it]"
     ]
    },
    {
     "name": "stderr",
     "output_type": "stream",
     "text": [
      "\r\n",
      "Train:  67%|██████▋   | 74/110 [18:24<10:53, 18.17s/it]"
     ]
    },
    {
     "name": "stderr",
     "output_type": "stream",
     "text": [
      "\r\n",
      "Train:  68%|██████▊   | 75/110 [18:29<08:17, 14.21s/it]"
     ]
    },
    {
     "name": "stderr",
     "output_type": "stream",
     "text": [
      "\r\n",
      "Train:  69%|██████▉   | 76/110 [18:34<06:29, 11.46s/it]"
     ]
    },
    {
     "name": "stderr",
     "output_type": "stream",
     "text": [
      "\r\n",
      "Train:  70%|███████   | 77/110 [18:49<06:48, 12.38s/it]"
     ]
    },
    {
     "name": "stderr",
     "output_type": "stream",
     "text": [
      "\r\n",
      "Train:  71%|███████   | 78/110 [19:20<09:41, 18.18s/it]"
     ]
    },
    {
     "name": "stderr",
     "output_type": "stream",
     "text": [
      "\r\n",
      "Train:  72%|███████▏  | 79/110 [19:25<07:19, 14.19s/it]"
     ]
    },
    {
     "name": "stderr",
     "output_type": "stream",
     "text": [
      "\r\n",
      "Train:  73%|███████▎  | 80/110 [19:30<05:42, 11.40s/it]"
     ]
    },
    {
     "name": "stderr",
     "output_type": "stream",
     "text": [
      "\r\n",
      "Train:  74%|███████▎  | 81/110 [19:44<05:50, 12.10s/it]"
     ]
    },
    {
     "name": "stderr",
     "output_type": "stream",
     "text": [
      "\r\n",
      "Train:  75%|███████▍  | 82/110 [20:15<08:15, 17.69s/it]"
     ]
    },
    {
     "name": "stderr",
     "output_type": "stream",
     "text": [
      "\r\n",
      "Train:  75%|███████▌  | 83/110 [20:19<06:13, 13.85s/it]"
     ]
    },
    {
     "name": "stderr",
     "output_type": "stream",
     "text": [
      "\r\n",
      "Train:  76%|███████▋  | 84/110 [20:25<04:51, 11.23s/it]"
     ]
    },
    {
     "name": "stderr",
     "output_type": "stream",
     "text": [
      "\r\n",
      "Train:  77%|███████▋  | 85/110 [20:40<05:13, 12.54s/it]"
     ]
    },
    {
     "name": "stderr",
     "output_type": "stream",
     "text": [
      "\r\n",
      "Train:  78%|███████▊  | 86/110 [21:09<07:00, 17.51s/it]"
     ]
    },
    {
     "name": "stderr",
     "output_type": "stream",
     "text": [
      "\r\n",
      "Train:  79%|███████▉  | 87/110 [21:14<05:16, 13.76s/it]"
     ]
    },
    {
     "name": "stderr",
     "output_type": "stream",
     "text": [
      "\r\n",
      "Train:  80%|████████  | 88/110 [21:19<04:06, 11.19s/it]"
     ]
    },
    {
     "name": "stderr",
     "output_type": "stream",
     "text": [
      "\r\n",
      "Train:  81%|████████  | 89/110 [21:36<04:27, 12.72s/it]"
     ]
    },
    {
     "name": "stderr",
     "output_type": "stream",
     "text": [
      "\r\n",
      "Train:  82%|████████▏ | 90/110 [22:00<05:23, 16.16s/it]"
     ]
    },
    {
     "name": "stderr",
     "output_type": "stream",
     "text": [
      "\r\n",
      "Train:  83%|████████▎ | 91/110 [22:05<04:02, 12.77s/it]"
     ]
    },
    {
     "name": "stderr",
     "output_type": "stream",
     "text": [
      "\r\n",
      "Train:  84%|████████▎ | 92/110 [22:10<03:07, 10.42s/it]"
     ]
    },
    {
     "name": "stderr",
     "output_type": "stream",
     "text": [
      "\r\n",
      "Train:  85%|████████▍ | 93/110 [22:36<04:20, 15.31s/it]"
     ]
    },
    {
     "name": "stderr",
     "output_type": "stream",
     "text": [
      "\r\n",
      "Train:  85%|████████▌ | 94/110 [22:54<04:15, 15.99s/it]"
     ]
    },
    {
     "name": "stderr",
     "output_type": "stream",
     "text": [
      "\r\n",
      "Train:  86%|████████▋ | 95/110 [22:59<03:10, 12.69s/it]"
     ]
    },
    {
     "name": "stderr",
     "output_type": "stream",
     "text": [
      "\r\n",
      "Train:  87%|████████▋ | 96/110 [23:04<02:25, 10.42s/it]"
     ]
    },
    {
     "name": "stderr",
     "output_type": "stream",
     "text": [
      "\r\n",
      "Train:  88%|████████▊ | 97/110 [23:37<03:43, 17.20s/it]"
     ]
    },
    {
     "name": "stderr",
     "output_type": "stream",
     "text": [
      "\r\n",
      "Train:  89%|████████▉ | 98/110 [23:53<03:22, 16.91s/it]"
     ]
    },
    {
     "name": "stderr",
     "output_type": "stream",
     "text": [
      "\r\n",
      "Train:  90%|█████████ | 99/110 [23:58<02:26, 13.30s/it]"
     ]
    },
    {
     "name": "stderr",
     "output_type": "stream",
     "text": [
      "\r\n",
      "Train:  91%|█████████ | 100/110 [24:03<01:48, 10.82s/it]"
     ]
    },
    {
     "name": "stderr",
     "output_type": "stream",
     "text": [
      "\r\n",
      "Train:  92%|█████████▏| 101/110 [24:34<02:31, 16.80s/it]"
     ]
    },
    {
     "name": "stderr",
     "output_type": "stream",
     "text": [
      "\r\n",
      "Train:  93%|█████████▎| 102/110 [24:51<02:15, 16.94s/it]"
     ]
    },
    {
     "name": "stderr",
     "output_type": "stream",
     "text": [
      "\r\n",
      "Train:  94%|█████████▎| 103/110 [24:56<01:33, 13.36s/it]"
     ]
    },
    {
     "name": "stderr",
     "output_type": "stream",
     "text": [
      "\r\n",
      "Train:  95%|█████████▍| 104/110 [25:01<01:05, 10.86s/it]"
     ]
    },
    {
     "name": "stderr",
     "output_type": "stream",
     "text": [
      "\r\n",
      "Train:  95%|█████████▌| 105/110 [25:29<01:20, 16.04s/it]"
     ]
    },
    {
     "name": "stderr",
     "output_type": "stream",
     "text": [
      "\r\n",
      "Train:  96%|█████████▋| 106/110 [25:41<00:58, 14.72s/it]"
     ]
    },
    {
     "name": "stderr",
     "output_type": "stream",
     "text": [
      "\r\n",
      "Train:  97%|█████████▋| 107/110 [25:46<00:35, 11.69s/it]"
     ]
    },
    {
     "name": "stderr",
     "output_type": "stream",
     "text": [
      "\r\n",
      "Train:  98%|█████████▊| 108/110 [25:50<00:19,  9.60s/it]"
     ]
    },
    {
     "name": "stderr",
     "output_type": "stream",
     "text": [
      "\r\n",
      "Train:  99%|█████████▉| 109/110 [26:08<00:11, 11.94s/it]"
     ]
    },
    {
     "name": "stderr",
     "output_type": "stream",
     "text": [
      "\r\n",
      "Train: 100%|██████████| 110/110 [26:08<00:00, 14.26s/it]"
     ]
    },
    {
     "name": "stderr",
     "output_type": "stream",
     "text": [
      "\n"
     ]
    },
    {
     "name": "stdout",
     "output_type": "stream",
     "text": [
      "  Train Loss: 1.0438, Acc: 0.4384\n"
     ]
    },
    {
     "name": "stderr",
     "output_type": "stream",
     "text": [
      "\r\n",
      "Val:   0%|          | 0/28 [00:00<?, ?it/s]"
     ]
    },
    {
     "name": "stderr",
     "output_type": "stream",
     "text": [
      "\r\n",
      "Val:   4%|▎         | 1/28 [00:59<26:41, 59.30s/it]"
     ]
    },
    {
     "name": "stderr",
     "output_type": "stream",
     "text": [
      "\r\n",
      "Val:   7%|▋         | 2/28 [01:04<11:48, 27.23s/it]"
     ]
    },
    {
     "name": "stderr",
     "output_type": "stream",
     "text": [
      "\r\n",
      "Val:  11%|█         | 3/28 [01:08<07:03, 16.94s/it]"
     ]
    },
    {
     "name": "stderr",
     "output_type": "stream",
     "text": [
      "\r\n",
      "Val:  14%|█▍        | 4/28 [01:13<04:51, 12.13s/it]"
     ]
    },
    {
     "name": "stderr",
     "output_type": "stream",
     "text": [
      "\r\n",
      "Val:  18%|█▊        | 5/28 [01:58<09:14, 24.09s/it]"
     ]
    },
    {
     "name": "stderr",
     "output_type": "stream",
     "text": [
      "\r\n",
      "Val:  21%|██▏       | 6/28 [02:03<06:24, 17.49s/it]"
     ]
    },
    {
     "name": "stderr",
     "output_type": "stream",
     "text": [
      "\r\n",
      "Val:  25%|██▌       | 7/28 [02:08<04:39, 13.31s/it]"
     ]
    },
    {
     "name": "stderr",
     "output_type": "stream",
     "text": [
      "\r\n",
      "Val:  29%|██▊       | 8/28 [02:13<03:32, 10.61s/it]"
     ]
    },
    {
     "name": "stderr",
     "output_type": "stream",
     "text": [
      "\r\n",
      "Val:  32%|███▏      | 9/28 [02:50<06:00, 19.00s/it]"
     ]
    },
    {
     "name": "stderr",
     "output_type": "stream",
     "text": [
      "\r\n",
      "Val:  36%|███▌      | 10/28 [02:55<04:22, 14.58s/it]"
     ]
    },
    {
     "name": "stderr",
     "output_type": "stream",
     "text": [
      "\r\n",
      "Val:  39%|███▉      | 11/28 [02:59<03:16, 11.57s/it]"
     ]
    },
    {
     "name": "stderr",
     "output_type": "stream",
     "text": [
      "\r\n",
      "Val:  43%|████▎     | 12/28 [03:04<02:32,  9.51s/it]"
     ]
    },
    {
     "name": "stderr",
     "output_type": "stream",
     "text": [
      "\r\n",
      "Val:  46%|████▋     | 13/28 [03:46<04:48, 19.25s/it]"
     ]
    },
    {
     "name": "stderr",
     "output_type": "stream",
     "text": [
      "\r\n",
      "Val:  50%|█████     | 14/28 [03:51<03:27, 14.84s/it]"
     ]
    },
    {
     "name": "stderr",
     "output_type": "stream",
     "text": [
      "\r\n",
      "Val:  54%|█████▎    | 15/28 [03:55<02:33, 11.79s/it]"
     ]
    },
    {
     "name": "stderr",
     "output_type": "stream",
     "text": [
      "\r\n",
      "Val:  57%|█████▋    | 16/28 [04:00<01:56,  9.69s/it]"
     ]
    },
    {
     "name": "stderr",
     "output_type": "stream",
     "text": [
      "\r\n",
      "Val:  61%|██████    | 17/28 [04:39<03:24, 18.61s/it]"
     ]
    },
    {
     "name": "stderr",
     "output_type": "stream",
     "text": [
      "\r\n",
      "Val:  64%|██████▍   | 18/28 [04:49<02:37, 15.76s/it]"
     ]
    },
    {
     "name": "stderr",
     "output_type": "stream",
     "text": [
      "\r\n",
      "Val:  68%|██████▊   | 19/28 [04:53<01:51, 12.44s/it]"
     ]
    },
    {
     "name": "stderr",
     "output_type": "stream",
     "text": [
      "\r\n",
      "Val:  71%|███████▏  | 20/28 [04:58<01:21, 10.15s/it]"
     ]
    },
    {
     "name": "stderr",
     "output_type": "stream",
     "text": [
      "\r\n",
      "Val:  75%|███████▌  | 21/28 [05:31<01:59, 17.12s/it]"
     ]
    },
    {
     "name": "stderr",
     "output_type": "stream",
     "text": [
      "\r\n",
      "Val:  79%|███████▊  | 22/28 [05:43<01:33, 15.51s/it]"
     ]
    },
    {
     "name": "stderr",
     "output_type": "stream",
     "text": [
      "\r\n",
      "Val:  82%|████████▏ | 23/28 [05:48<01:01, 12.33s/it]"
     ]
    },
    {
     "name": "stderr",
     "output_type": "stream",
     "text": [
      "\r\n",
      "Val:  86%|████████▌ | 24/28 [05:53<00:40, 10.00s/it]"
     ]
    },
    {
     "name": "stderr",
     "output_type": "stream",
     "text": [
      "\r\n",
      "Val:  89%|████████▉ | 25/28 [06:24<00:49, 16.36s/it]"
     ]
    },
    {
     "name": "stderr",
     "output_type": "stream",
     "text": [
      "\r\n",
      "Val:  93%|█████████▎| 26/28 [06:28<00:25, 12.74s/it]"
     ]
    },
    {
     "name": "stderr",
     "output_type": "stream",
     "text": [
      "\r\n",
      "Val:  96%|█████████▋| 27/28 [06:32<00:10, 10.23s/it]"
     ]
    },
    {
     "name": "stderr",
     "output_type": "stream",
     "text": [
      "\r\n",
      "Val: 100%|██████████| 28/28 [06:34<00:00,  7.66s/it]"
     ]
    },
    {
     "name": "stderr",
     "output_type": "stream",
     "text": [
      "\r\n",
      "Val: 100%|██████████| 28/28 [06:34<00:00, 14.10s/it]"
     ]
    },
    {
     "name": "stderr",
     "output_type": "stream",
     "text": [
      "\n"
     ]
    },
    {
     "name": "stdout",
     "output_type": "stream",
     "text": [
      "  Val Loss: 1.1737, Acc: 0.3913\n",
      "Epoch 4/10\n"
     ]
    },
    {
     "name": "stderr",
     "output_type": "stream",
     "text": [
      "\r\n",
      "Train:   0%|          | 0/110 [00:00<?, ?it/s]"
     ]
    },
    {
     "name": "stderr",
     "output_type": "stream",
     "text": [
      "\r\n",
      "Train:   1%|          | 1/110 [00:57<1:44:29, 57.51s/it]"
     ]
    },
    {
     "name": "stderr",
     "output_type": "stream",
     "text": [
      "\r\n",
      "Train:   2%|▏         | 2/110 [01:02<48:01, 26.68s/it]  "
     ]
    },
    {
     "name": "stderr",
     "output_type": "stream",
     "text": [
      "\r\n",
      "Train:   3%|▎         | 3/110 [01:07<30:03, 16.86s/it]"
     ]
    },
    {
     "name": "stderr",
     "output_type": "stream",
     "text": [
      "\r\n",
      "Train:   4%|▎         | 4/110 [01:12<21:35, 12.23s/it]"
     ]
    },
    {
     "name": "stderr",
     "output_type": "stream",
     "text": [
      "\r\n",
      "Train:   5%|▍         | 5/110 [01:49<36:47, 21.03s/it]"
     ]
    },
    {
     "name": "stderr",
     "output_type": "stream",
     "text": [
      "\r\n",
      "Train:   5%|▌         | 6/110 [01:58<29:15, 16.88s/it]"
     ]
    },
    {
     "name": "stderr",
     "output_type": "stream",
     "text": [
      "\r\n",
      "Train:   6%|▋         | 7/110 [02:03<22:13, 12.95s/it]"
     ]
    },
    {
     "name": "stderr",
     "output_type": "stream",
     "text": [
      "\r\n",
      "Train:   7%|▋         | 8/110 [02:08<17:43, 10.43s/it]"
     ]
    },
    {
     "name": "stderr",
     "output_type": "stream",
     "text": [
      "\r\n",
      "Train:   8%|▊         | 9/110 [02:42<30:10, 17.93s/it]"
     ]
    },
    {
     "name": "stderr",
     "output_type": "stream",
     "text": [
      "\r\n",
      "Train:   9%|▉         | 10/110 [02:55<27:29, 16.49s/it]"
     ]
    },
    {
     "name": "stderr",
     "output_type": "stream",
     "text": [
      "\r\n",
      "Train:  10%|█         | 11/110 [03:00<21:23, 12.96s/it]"
     ]
    },
    {
     "name": "stderr",
     "output_type": "stream",
     "text": [
      "\r\n",
      "Train:  11%|█         | 12/110 [03:06<17:16, 10.58s/it]"
     ]
    },
    {
     "name": "stderr",
     "output_type": "stream",
     "text": [
      "\r\n",
      "Train:  12%|█▏        | 13/110 [03:36<26:43, 16.53s/it]"
     ]
    },
    {
     "name": "stderr",
     "output_type": "stream",
     "text": [
      "\r\n",
      "Train:  13%|█▎        | 14/110 [03:59<29:53, 18.68s/it]"
     ]
    },
    {
     "name": "stderr",
     "output_type": "stream",
     "text": [
      "\r\n",
      "Train:  14%|█▎        | 15/110 [04:05<23:08, 14.62s/it]"
     ]
    },
    {
     "name": "stderr",
     "output_type": "stream",
     "text": [
      "\r\n",
      "Train:  15%|█▍        | 16/110 [04:10<18:24, 11.75s/it]"
     ]
    },
    {
     "name": "stderr",
     "output_type": "stream",
     "text": [
      "\r\n",
      "Train:  15%|█▌        | 17/110 [04:37<25:30, 16.45s/it]"
     ]
    },
    {
     "name": "stderr",
     "output_type": "stream",
     "text": [
      "\r\n",
      "Train:  16%|█▋        | 18/110 [05:03<29:35, 19.29s/it]"
     ]
    },
    {
     "name": "stderr",
     "output_type": "stream",
     "text": [
      "\r\n",
      "Train:  17%|█▋        | 19/110 [05:08<22:47, 15.02s/it]"
     ]
    },
    {
     "name": "stderr",
     "output_type": "stream",
     "text": [
      "\r\n",
      "Train:  18%|█▊        | 20/110 [05:13<18:00, 12.01s/it]"
     ]
    },
    {
     "name": "stderr",
     "output_type": "stream",
     "text": [
      "\r\n",
      "Train:  19%|█▉        | 21/110 [05:39<24:13, 16.33s/it]"
     ]
    },
    {
     "name": "stderr",
     "output_type": "stream",
     "text": [
      "\r\n",
      "Train:  20%|██        | 22/110 [05:54<23:12, 15.82s/it]"
     ]
    },
    {
     "name": "stderr",
     "output_type": "stream",
     "text": [
      "\r\n",
      "Train:  21%|██        | 23/110 [05:59<18:13, 12.57s/it]"
     ]
    },
    {
     "name": "stderr",
     "output_type": "stream",
     "text": [
      "\r\n",
      "Train:  22%|██▏       | 24/110 [06:04<14:47, 10.32s/it]"
     ]
    },
    {
     "name": "stderr",
     "output_type": "stream",
     "text": [
      "\r\n",
      "Train:  23%|██▎       | 25/110 [06:38<24:42, 17.44s/it]"
     ]
    },
    {
     "name": "stderr",
     "output_type": "stream",
     "text": [
      "\r\n",
      "Train:  24%|██▎       | 26/110 [06:47<20:38, 14.75s/it]"
     ]
    },
    {
     "name": "stderr",
     "output_type": "stream",
     "text": [
      "\r\n",
      "Train:  25%|██▍       | 27/110 [06:52<16:17, 11.78s/it]"
     ]
    },
    {
     "name": "stderr",
     "output_type": "stream",
     "text": [
      "\r\n",
      "Train:  25%|██▌       | 28/110 [06:57<13:20,  9.76s/it]"
     ]
    },
    {
     "name": "stderr",
     "output_type": "stream",
     "text": [
      "\r\n",
      "Train:  26%|██▋       | 29/110 [07:34<24:14, 17.96s/it]"
     ]
    },
    {
     "name": "stderr",
     "output_type": "stream",
     "text": [
      "\r\n",
      "Train:  27%|██▋       | 30/110 [07:45<21:07, 15.85s/it]"
     ]
    },
    {
     "name": "stderr",
     "output_type": "stream",
     "text": [
      "\r\n",
      "Train:  28%|██▊       | 31/110 [07:50<16:37, 12.63s/it]"
     ]
    },
    {
     "name": "stderr",
     "output_type": "stream",
     "text": [
      "\r\n",
      "Train:  29%|██▉       | 32/110 [07:55<13:28, 10.36s/it]"
     ]
    },
    {
     "name": "stderr",
     "output_type": "stream",
     "text": [
      "\r\n",
      "Train:  30%|███       | 33/110 [08:29<22:32, 17.56s/it]"
     ]
    },
    {
     "name": "stderr",
     "output_type": "stream",
     "text": [
      "\r\n",
      "Train:  31%|███       | 34/110 [08:46<22:09, 17.50s/it]"
     ]
    },
    {
     "name": "stderr",
     "output_type": "stream",
     "text": [
      "\r\n",
      "Train:  32%|███▏      | 35/110 [08:51<17:10, 13.73s/it]"
     ]
    },
    {
     "name": "stderr",
     "output_type": "stream",
     "text": [
      "\r\n",
      "Train:  33%|███▎      | 36/110 [08:57<13:51, 11.24s/it]"
     ]
    },
    {
     "name": "stderr",
     "output_type": "stream",
     "text": [
      "\r\n",
      "Train:  34%|███▎      | 37/110 [09:22<18:51, 15.50s/it]"
     ]
    },
    {
     "name": "stderr",
     "output_type": "stream",
     "text": [
      "\r\n",
      "Train:  35%|███▍      | 38/110 [09:36<17:58, 14.98s/it]"
     ]
    },
    {
     "name": "stderr",
     "output_type": "stream",
     "text": [
      "\r\n",
      "Train:  35%|███▌      | 39/110 [09:41<14:11, 11.99s/it]"
     ]
    },
    {
     "name": "stderr",
     "output_type": "stream",
     "text": [
      "\r\n",
      "Train:  36%|███▋      | 40/110 [09:46<11:31,  9.88s/it]"
     ]
    },
    {
     "name": "stderr",
     "output_type": "stream",
     "text": [
      "\r\n",
      "Train:  37%|███▋      | 41/110 [10:22<20:26, 17.77s/it]"
     ]
    },
    {
     "name": "stderr",
     "output_type": "stream",
     "text": [
      "\r\n",
      "Train:  38%|███▊      | 42/110 [10:32<17:20, 15.30s/it]"
     ]
    },
    {
     "name": "stderr",
     "output_type": "stream",
     "text": [
      "\r\n",
      "Train:  39%|███▉      | 43/110 [10:37<13:38, 12.21s/it]"
     ]
    },
    {
     "name": "stderr",
     "output_type": "stream",
     "text": [
      "\r\n",
      "Train:  40%|████      | 44/110 [10:42<11:03, 10.06s/it]"
     ]
    },
    {
     "name": "stderr",
     "output_type": "stream",
     "text": [
      "\r\n",
      "Train:  41%|████      | 45/110 [11:18<19:17, 17.81s/it]"
     ]
    },
    {
     "name": "stderr",
     "output_type": "stream",
     "text": [
      "\r\n",
      "Train:  42%|████▏     | 46/110 [11:25<15:34, 14.60s/it]"
     ]
    },
    {
     "name": "stderr",
     "output_type": "stream",
     "text": [
      "\r\n",
      "Train:  43%|████▎     | 47/110 [11:30<12:19, 11.73s/it]"
     ]
    },
    {
     "name": "stderr",
     "output_type": "stream",
     "text": [
      "\r\n",
      "Train:  44%|████▎     | 48/110 [11:35<10:05,  9.77s/it]"
     ]
    },
    {
     "name": "stderr",
     "output_type": "stream",
     "text": [
      "\r\n",
      "Train:  45%|████▍     | 49/110 [12:12<18:16, 17.98s/it]"
     ]
    },
    {
     "name": "stderr",
     "output_type": "stream",
     "text": [
      "\r\n",
      "Train:  45%|████▌     | 50/110 [12:22<15:25, 15.42s/it]"
     ]
    },
    {
     "name": "stderr",
     "output_type": "stream",
     "text": [
      "\r\n",
      "Train:  46%|████▋     | 51/110 [12:27<12:04, 12.28s/it]"
     ]
    },
    {
     "name": "stderr",
     "output_type": "stream",
     "text": [
      "\r\n",
      "Train:  47%|████▋     | 52/110 [12:32<09:45, 10.09s/it]"
     ]
    },
    {
     "name": "stderr",
     "output_type": "stream",
     "text": [
      "\r\n",
      "Train:  48%|████▊     | 53/110 [13:06<16:30, 17.37s/it]"
     ]
    },
    {
     "name": "stderr",
     "output_type": "stream",
     "text": [
      "\r\n",
      "Train:  49%|████▉     | 54/110 [13:19<14:56, 16.01s/it]"
     ]
    },
    {
     "name": "stderr",
     "output_type": "stream",
     "text": [
      "\r\n",
      "Train:  50%|█████     | 55/110 [13:24<11:40, 12.73s/it]"
     ]
    },
    {
     "name": "stderr",
     "output_type": "stream",
     "text": [
      "\r\n",
      "Train:  51%|█████     | 56/110 [13:29<09:23, 10.44s/it]"
     ]
    },
    {
     "name": "stderr",
     "output_type": "stream",
     "text": [
      "\r\n",
      "Train:  52%|█████▏    | 57/110 [14:02<15:10, 17.18s/it]"
     ]
    },
    {
     "name": "stderr",
     "output_type": "stream",
     "text": [
      "\r\n",
      "Train:  53%|█████▎    | 58/110 [14:15<13:46, 15.89s/it]"
     ]
    },
    {
     "name": "stderr",
     "output_type": "stream",
     "text": [
      "\r\n",
      "Train:  54%|█████▎    | 59/110 [14:20<10:44, 12.64s/it]"
     ]
    },
    {
     "name": "stderr",
     "output_type": "stream",
     "text": [
      "\r\n",
      "Train:  55%|█████▍    | 60/110 [14:25<08:38, 10.36s/it]"
     ]
    },
    {
     "name": "stderr",
     "output_type": "stream",
     "text": [
      "\r\n",
      "Train:  55%|█████▌    | 61/110 [15:07<16:16, 19.94s/it]"
     ]
    },
    {
     "name": "stderr",
     "output_type": "stream",
     "text": [
      "\r\n",
      "Train:  56%|█████▋    | 62/110 [15:13<12:41, 15.85s/it]"
     ]
    },
    {
     "name": "stderr",
     "output_type": "stream",
     "text": [
      "\r\n",
      "Train:  57%|█████▋    | 63/110 [15:19<09:55, 12.66s/it]"
     ]
    },
    {
     "name": "stderr",
     "output_type": "stream",
     "text": [
      "\r\n",
      "Train:  58%|█████▊    | 64/110 [15:24<07:57, 10.38s/it]"
     ]
    },
    {
     "name": "stderr",
     "output_type": "stream",
     "text": [
      "\r\n",
      "Train:  59%|█████▉    | 65/110 [15:59<13:29, 17.98s/it]"
     ]
    },
    {
     "name": "stderr",
     "output_type": "stream",
     "text": [
      "\r\n",
      "Train:  60%|██████    | 66/110 [16:09<11:15, 15.35s/it]"
     ]
    },
    {
     "name": "stderr",
     "output_type": "stream",
     "text": [
      "\r\n",
      "Train:  61%|██████    | 67/110 [16:14<08:46, 12.24s/it]"
     ]
    },
    {
     "name": "stderr",
     "output_type": "stream",
     "text": [
      "\r\n",
      "Train:  62%|██████▏   | 68/110 [16:19<07:03, 10.08s/it]"
     ]
    },
    {
     "name": "stderr",
     "output_type": "stream",
     "text": [
      "\r\n",
      "Train:  63%|██████▎   | 69/110 [16:55<12:21, 18.08s/it]"
     ]
    },
    {
     "name": "stderr",
     "output_type": "stream",
     "text": [
      "\r\n",
      "Train:  64%|██████▎   | 70/110 [17:09<11:07, 16.70s/it]"
     ]
    },
    {
     "name": "stderr",
     "output_type": "stream",
     "text": [
      "\r\n",
      "Train:  65%|██████▍   | 71/110 [17:14<08:35, 13.21s/it]"
     ]
    },
    {
     "name": "stderr",
     "output_type": "stream",
     "text": [
      "\r\n",
      "Train:  65%|██████▌   | 72/110 [17:19<06:49, 10.78s/it]"
     ]
    },
    {
     "name": "stderr",
     "output_type": "stream",
     "text": [
      "\r\n",
      "Train:  66%|██████▋   | 73/110 [17:55<11:13, 18.20s/it]"
     ]
    },
    {
     "name": "stderr",
     "output_type": "stream",
     "text": [
      "\r\n",
      "Train:  67%|██████▋   | 74/110 [18:09<10:11, 17.00s/it]"
     ]
    },
    {
     "name": "stderr",
     "output_type": "stream",
     "text": [
      "\r\n",
      "Train:  68%|██████▊   | 75/110 [18:14<07:48, 13.39s/it]"
     ]
    },
    {
     "name": "stderr",
     "output_type": "stream",
     "text": [
      "\r\n",
      "Train:  69%|██████▉   | 76/110 [18:19<06:10, 10.89s/it]"
     ]
    },
    {
     "name": "stderr",
     "output_type": "stream",
     "text": [
      "\r\n",
      "Train:  70%|███████   | 77/110 [18:48<09:05, 16.53s/it]"
     ]
    },
    {
     "name": "stderr",
     "output_type": "stream",
     "text": [
      "\r\n",
      "Train:  71%|███████   | 78/110 [19:08<09:18, 17.46s/it]"
     ]
    },
    {
     "name": "stderr",
     "output_type": "stream",
     "text": [
      "\r\n",
      "Train:  72%|███████▏  | 79/110 [19:13<07:07, 13.80s/it]"
     ]
    },
    {
     "name": "stderr",
     "output_type": "stream",
     "text": [
      "\r\n",
      "Train:  73%|███████▎  | 80/110 [19:18<05:35, 11.19s/it]"
     ]
    },
    {
     "name": "stderr",
     "output_type": "stream",
     "text": [
      "\r\n",
      "Train:  74%|███████▎  | 81/110 [19:44<07:28, 15.47s/it]"
     ]
    },
    {
     "name": "stderr",
     "output_type": "stream",
     "text": [
      "\r\n",
      "Train:  75%|███████▍  | 82/110 [20:03<07:43, 16.54s/it]"
     ]
    },
    {
     "name": "stderr",
     "output_type": "stream",
     "text": [
      "\r\n",
      "Train:  75%|███████▌  | 83/110 [20:08<05:51, 13.03s/it]"
     ]
    },
    {
     "name": "stderr",
     "output_type": "stream",
     "text": [
      "\r\n",
      "Train:  76%|███████▋  | 84/110 [20:13<04:36, 10.64s/it]"
     ]
    },
    {
     "name": "stderr",
     "output_type": "stream",
     "text": [
      "\r\n",
      "Train:  77%|███████▋  | 85/110 [20:39<06:20, 15.21s/it]"
     ]
    },
    {
     "name": "stderr",
     "output_type": "stream",
     "text": [
      "\r\n",
      "Train:  78%|███████▊  | 86/110 [20:58<06:35, 16.50s/it]"
     ]
    },
    {
     "name": "stderr",
     "output_type": "stream",
     "text": [
      "\r\n",
      "Train:  79%|███████▉  | 87/110 [21:03<05:00, 13.08s/it]"
     ]
    },
    {
     "name": "stderr",
     "output_type": "stream",
     "text": [
      "\r\n",
      "Train:  80%|████████  | 88/110 [21:09<03:55, 10.73s/it]"
     ]
    },
    {
     "name": "stderr",
     "output_type": "stream",
     "text": [
      "\r\n",
      "Train:  81%|████████  | 89/110 [21:36<05:27, 15.61s/it]"
     ]
    },
    {
     "name": "stderr",
     "output_type": "stream",
     "text": [
      "\r\n",
      "Train:  82%|████████▏ | 90/110 [22:01<06:12, 18.62s/it]"
     ]
    },
    {
     "name": "stderr",
     "output_type": "stream",
     "text": [
      "\r\n",
      "Train:  83%|████████▎ | 91/110 [22:06<04:35, 14.50s/it]"
     ]
    },
    {
     "name": "stderr",
     "output_type": "stream",
     "text": [
      "\r\n",
      "Train:  84%|████████▎ | 92/110 [22:11<03:29, 11.65s/it]"
     ]
    },
    {
     "name": "stderr",
     "output_type": "stream",
     "text": [
      "\r\n",
      "Train:  85%|████████▍ | 93/110 [22:35<04:18, 15.22s/it]"
     ]
    },
    {
     "name": "stderr",
     "output_type": "stream",
     "text": [
      "\r\n",
      "Train:  85%|████████▌ | 94/110 [22:57<04:39, 17.46s/it]"
     ]
    },
    {
     "name": "stderr",
     "output_type": "stream",
     "text": [
      "\r\n",
      "Train:  86%|████████▋ | 95/110 [23:02<03:26, 13.77s/it]"
     ]
    },
    {
     "name": "stderr",
     "output_type": "stream",
     "text": [
      "\r\n",
      "Train:  87%|████████▋ | 96/110 [23:08<02:36, 11.16s/it]"
     ]
    },
    {
     "name": "stderr",
     "output_type": "stream",
     "text": [
      "\r\n",
      "Train:  88%|████████▊ | 97/110 [23:33<03:20, 15.41s/it]"
     ]
    },
    {
     "name": "stderr",
     "output_type": "stream",
     "text": [
      "\r\n",
      "Train:  89%|████████▉ | 98/110 [23:55<03:30, 17.56s/it]"
     ]
    },
    {
     "name": "stderr",
     "output_type": "stream",
     "text": [
      "\r\n",
      "Train:  90%|█████████ | 99/110 [24:00<02:31, 13.79s/it]"
     ]
    },
    {
     "name": "stderr",
     "output_type": "stream",
     "text": [
      "\r\n",
      "Train:  91%|█████████ | 100/110 [24:06<01:52, 11.22s/it]"
     ]
    },
    {
     "name": "stderr",
     "output_type": "stream",
     "text": [
      "\r\n",
      "Train:  92%|█████████▏| 101/110 [24:33<02:24, 16.01s/it]"
     ]
    },
    {
     "name": "stderr",
     "output_type": "stream",
     "text": [
      "\r\n",
      "Train:  93%|█████████▎| 102/110 [24:58<02:30, 18.75s/it]"
     ]
    },
    {
     "name": "stderr",
     "output_type": "stream",
     "text": [
      "\r\n",
      "Train:  94%|█████████▎| 103/110 [25:03<01:42, 14.58s/it]"
     ]
    },
    {
     "name": "stderr",
     "output_type": "stream",
     "text": [
      "\r\n",
      "Train:  95%|█████████▍| 104/110 [25:08<01:09, 11.63s/it]"
     ]
    },
    {
     "name": "stderr",
     "output_type": "stream",
     "text": [
      "\r\n",
      "Train:  95%|█████████▌| 105/110 [25:18<00:56, 11.37s/it]"
     ]
    },
    {
     "name": "stderr",
     "output_type": "stream",
     "text": [
      "\r\n",
      "Train:  96%|█████████▋| 106/110 [25:38<00:55, 13.94s/it]"
     ]
    },
    {
     "name": "stderr",
     "output_type": "stream",
     "text": [
      "\r\n",
      "Train:  97%|█████████▋| 107/110 [25:43<00:33, 11.12s/it]"
     ]
    },
    {
     "name": "stderr",
     "output_type": "stream",
     "text": [
      "\r\n",
      "Train:  98%|█████████▊| 108/110 [25:47<00:18,  9.16s/it]"
     ]
    },
    {
     "name": "stderr",
     "output_type": "stream",
     "text": [
      "\r\n",
      "Train:  99%|█████████▉| 109/110 [25:54<00:08,  8.47s/it]"
     ]
    },
    {
     "name": "stderr",
     "output_type": "stream",
     "text": [
      "\r\n",
      "Train: 100%|██████████| 110/110 [25:54<00:00, 14.13s/it]"
     ]
    },
    {
     "name": "stderr",
     "output_type": "stream",
     "text": [
      "\n"
     ]
    },
    {
     "name": "stdout",
     "output_type": "stream",
     "text": [
      "  Train Loss: 1.0340, Acc: 0.4401\n"
     ]
    },
    {
     "name": "stderr",
     "output_type": "stream",
     "text": [
      "\r\n",
      "Val:   0%|          | 0/28 [00:00<?, ?it/s]"
     ]
    },
    {
     "name": "stderr",
     "output_type": "stream",
     "text": [
      "\r\n",
      "Val:   4%|▎         | 1/28 [01:00<27:26, 60.98s/it]"
     ]
    },
    {
     "name": "stderr",
     "output_type": "stream",
     "text": [
      "\r\n",
      "Val:   7%|▋         | 2/28 [01:05<12:06, 27.93s/it]"
     ]
    },
    {
     "name": "stderr",
     "output_type": "stream",
     "text": [
      "\r\n",
      "Val:  11%|█         | 3/28 [01:10<07:12, 17.30s/it]"
     ]
    },
    {
     "name": "stderr",
     "output_type": "stream",
     "text": [
      "\r\n",
      "Val:  14%|█▍        | 4/28 [01:15<04:55, 12.33s/it]"
     ]
    },
    {
     "name": "stderr",
     "output_type": "stream",
     "text": [
      "\r\n",
      "Val:  18%|█▊        | 5/28 [02:01<09:22, 24.45s/it]"
     ]
    },
    {
     "name": "stderr",
     "output_type": "stream",
     "text": [
      "\r\n",
      "Val:  21%|██▏       | 6/28 [02:05<06:30, 17.74s/it]"
     ]
    },
    {
     "name": "stderr",
     "output_type": "stream",
     "text": [
      "\r\n",
      "Val:  25%|██▌       | 7/28 [02:10<04:43, 13.50s/it]"
     ]
    },
    {
     "name": "stderr",
     "output_type": "stream",
     "text": [
      "\r\n",
      "Val:  29%|██▊       | 8/28 [02:15<03:35, 10.76s/it]"
     ]
    },
    {
     "name": "stderr",
     "output_type": "stream",
     "text": [
      "\r\n",
      "Val:  32%|███▏      | 9/28 [02:54<06:10, 19.49s/it]"
     ]
    },
    {
     "name": "stderr",
     "output_type": "stream",
     "text": [
      "\r\n",
      "Val:  36%|███▌      | 10/28 [02:58<04:27, 14.88s/it]"
     ]
    },
    {
     "name": "stderr",
     "output_type": "stream",
     "text": [
      "\r\n",
      "Val:  39%|███▉      | 11/28 [03:03<03:20, 11.79s/it]"
     ]
    },
    {
     "name": "stderr",
     "output_type": "stream",
     "text": [
      "\r\n",
      "Val:  43%|████▎     | 12/28 [03:08<02:34,  9.66s/it]"
     ]
    },
    {
     "name": "stderr",
     "output_type": "stream",
     "text": [
      "\r\n",
      "Val:  46%|████▋     | 13/28 [03:53<05:06, 20.45s/it]"
     ]
    },
    {
     "name": "stderr",
     "output_type": "stream",
     "text": [
      "\r\n",
      "Val:  50%|█████     | 14/28 [03:58<03:39, 15.69s/it]"
     ]
    },
    {
     "name": "stderr",
     "output_type": "stream",
     "text": [
      "\r\n",
      "Val:  54%|█████▎    | 15/28 [04:02<02:40, 12.37s/it]"
     ]
    },
    {
     "name": "stderr",
     "output_type": "stream",
     "text": [
      "\r\n",
      "Val:  57%|█████▋    | 16/28 [04:07<02:01, 10.14s/it]"
     ]
    },
    {
     "name": "stderr",
     "output_type": "stream",
     "text": [
      "\r\n",
      "Val:  61%|██████    | 17/28 [04:50<03:39, 19.98s/it]"
     ]
    },
    {
     "name": "stderr",
     "output_type": "stream",
     "text": [
      "\r\n",
      "Val:  64%|██████▍   | 18/28 [04:58<02:43, 16.37s/it]"
     ]
    },
    {
     "name": "stderr",
     "output_type": "stream",
     "text": [
      "\r\n",
      "Val:  68%|██████▊   | 19/28 [05:03<01:55, 12.88s/it]"
     ]
    },
    {
     "name": "stderr",
     "output_type": "stream",
     "text": [
      "\r\n",
      "Val:  71%|███████▏  | 20/28 [05:08<01:23, 10.43s/it]"
     ]
    },
    {
     "name": "stderr",
     "output_type": "stream",
     "text": [
      "\r\n",
      "Val:  75%|███████▌  | 21/28 [05:43<02:05, 17.92s/it]"
     ]
    },
    {
     "name": "stderr",
     "output_type": "stream",
     "text": [
      "\r\n",
      "Val:  79%|███████▊  | 22/28 [05:53<01:32, 15.38s/it]"
     ]
    },
    {
     "name": "stderr",
     "output_type": "stream",
     "text": [
      "\r\n",
      "Val:  82%|████████▏ | 23/28 [05:57<01:01, 12.23s/it]"
     ]
    },
    {
     "name": "stderr",
     "output_type": "stream",
     "text": [
      "\r\n",
      "Val:  86%|████████▌ | 24/28 [06:02<00:39,  9.99s/it]"
     ]
    },
    {
     "name": "stderr",
     "output_type": "stream",
     "text": [
      "\r\n",
      "Val:  89%|████████▉ | 25/28 [06:35<00:50, 16.87s/it]"
     ]
    },
    {
     "name": "stderr",
     "output_type": "stream",
     "text": [
      "\r\n",
      "Val:  93%|█████████▎| 26/28 [06:39<00:26, 13.09s/it]"
     ]
    },
    {
     "name": "stderr",
     "output_type": "stream",
     "text": [
      "\r\n",
      "Val:  96%|█████████▋| 27/28 [06:44<00:10, 10.46s/it]"
     ]
    },
    {
     "name": "stderr",
     "output_type": "stream",
     "text": [
      "\r\n",
      "Val: 100%|██████████| 28/28 [06:45<00:00,  7.83s/it]"
     ]
    },
    {
     "name": "stderr",
     "output_type": "stream",
     "text": [
      "\r\n",
      "Val: 100%|██████████| 28/28 [06:45<00:00, 14.49s/it]"
     ]
    },
    {
     "name": "stderr",
     "output_type": "stream",
     "text": [
      "\n"
     ]
    },
    {
     "name": "stdout",
     "output_type": "stream",
     "text": [
      "  Val Loss: 1.0577, Acc: 0.3799\n",
      "Epoch 5/10\n"
     ]
    },
    {
     "name": "stderr",
     "output_type": "stream",
     "text": [
      "\r\n",
      "Train:   0%|          | 0/110 [00:00<?, ?it/s]"
     ]
    },
    {
     "name": "stderr",
     "output_type": "stream",
     "text": [
      "\r\n",
      "Train:   1%|          | 1/110 [00:59<1:47:18, 59.07s/it]"
     ]
    },
    {
     "name": "stderr",
     "output_type": "stream",
     "text": [
      "\r\n",
      "Train:   2%|▏         | 2/110 [01:04<49:06, 27.29s/it]  "
     ]
    },
    {
     "name": "stderr",
     "output_type": "stream",
     "text": [
      "\r\n",
      "Train:   3%|▎         | 3/110 [01:09<30:42, 17.22s/it]"
     ]
    },
    {
     "name": "stderr",
     "output_type": "stream",
     "text": [
      "\r\n",
      "Train:   4%|▎         | 4/110 [01:14<22:01, 12.47s/it]"
     ]
    },
    {
     "name": "stderr",
     "output_type": "stream",
     "text": [
      "\r\n",
      "Train:   5%|▍         | 5/110 [01:51<37:33, 21.46s/it]"
     ]
    },
    {
     "name": "stderr",
     "output_type": "stream",
     "text": [
      "\r\n",
      "Train:   5%|▌         | 6/110 [01:56<27:26, 15.83s/it]"
     ]
    },
    {
     "name": "stderr",
     "output_type": "stream",
     "text": [
      "\r\n",
      "Train:   6%|▋         | 7/110 [02:01<21:00, 12.24s/it]"
     ]
    },
    {
     "name": "stderr",
     "output_type": "stream",
     "text": [
      "\r\n",
      "Train:   7%|▋         | 8/110 [02:06<16:49,  9.90s/it]"
     ]
    },
    {
     "name": "stderr",
     "output_type": "stream",
     "text": [
      "\r\n",
      "Train:   8%|▊         | 9/110 [02:41<29:59, 17.82s/it]"
     ]
    },
    {
     "name": "stderr",
     "output_type": "stream",
     "text": [
      "\r\n",
      "Train:   9%|▉         | 10/110 [02:51<25:29, 15.29s/it]"
     ]
    },
    {
     "name": "stderr",
     "output_type": "stream",
     "text": [
      "\r\n",
      "Train:  10%|█         | 11/110 [02:56<20:02, 12.15s/it]"
     ]
    },
    {
     "name": "stderr",
     "output_type": "stream",
     "text": [
      "\r\n",
      "Train:  11%|█         | 12/110 [03:01<16:20, 10.00s/it]"
     ]
    },
    {
     "name": "stderr",
     "output_type": "stream",
     "text": [
      "\r\n",
      "Train:  12%|█▏        | 13/110 [03:33<27:05, 16.76s/it]"
     ]
    },
    {
     "name": "stderr",
     "output_type": "stream",
     "text": [
      "\r\n",
      "Train:  13%|█▎        | 14/110 [03:47<25:13, 15.76s/it]"
     ]
    },
    {
     "name": "stderr",
     "output_type": "stream",
     "text": [
      "\r\n",
      "Train:  14%|█▎        | 15/110 [03:56<21:50, 13.79s/it]"
     ]
    },
    {
     "name": "stderr",
     "output_type": "stream",
     "text": [
      "\r\n",
      "Train:  15%|█▍        | 16/110 [04:01<17:25, 11.13s/it]"
     ]
    },
    {
     "name": "stderr",
     "output_type": "stream",
     "text": [
      "\r\n",
      "Train:  15%|█▌        | 17/110 [04:30<25:38, 16.55s/it]"
     ]
    },
    {
     "name": "stderr",
     "output_type": "stream",
     "text": [
      "\r\n",
      "Train:  16%|█▋        | 18/110 [04:47<25:42, 16.77s/it]"
     ]
    },
    {
     "name": "stderr",
     "output_type": "stream",
     "text": [
      "\r\n",
      "Train:  17%|█▋        | 19/110 [04:58<22:44, 14.99s/it]"
     ]
    },
    {
     "name": "stderr",
     "output_type": "stream",
     "text": [
      "\r\n",
      "Train:  18%|█▊        | 20/110 [05:03<18:03, 12.04s/it]"
     ]
    },
    {
     "name": "stderr",
     "output_type": "stream",
     "text": [
      "\r\n",
      "Train:  19%|█▉        | 21/110 [05:26<22:38, 15.26s/it]"
     ]
    },
    {
     "name": "stderr",
     "output_type": "stream",
     "text": [
      "\r\n",
      "Train:  20%|██        | 22/110 [05:46<24:27, 16.67s/it]"
     ]
    },
    {
     "name": "stderr",
     "output_type": "stream",
     "text": [
      "\r\n",
      "Train:  21%|██        | 23/110 [05:55<20:53, 14.41s/it]"
     ]
    },
    {
     "name": "stderr",
     "output_type": "stream",
     "text": [
      "\r\n",
      "Train:  22%|██▏       | 24/110 [06:00<16:38, 11.61s/it]"
     ]
    },
    {
     "name": "stderr",
     "output_type": "stream",
     "text": [
      "\r\n",
      "Train:  23%|██▎       | 25/110 [06:24<21:31, 15.19s/it]"
     ]
    },
    {
     "name": "stderr",
     "output_type": "stream",
     "text": [
      "\r\n",
      "Train:  24%|██▎       | 26/110 [06:39<21:14, 15.17s/it]"
     ]
    },
    {
     "name": "stderr",
     "output_type": "stream",
     "text": [
      "\r\n",
      "Train:  25%|██▍       | 27/110 [06:55<21:27, 15.51s/it]"
     ]
    },
    {
     "name": "stderr",
     "output_type": "stream",
     "text": [
      "\r\n",
      "Train:  25%|██▌       | 28/110 [07:00<16:55, 12.38s/it]"
     ]
    },
    {
     "name": "stderr",
     "output_type": "stream",
     "text": [
      "\r\n",
      "Train:  26%|██▋       | 29/110 [07:22<20:25, 15.13s/it]"
     ]
    },
    {
     "name": "stderr",
     "output_type": "stream",
     "text": [
      "\r\n",
      "Train:  27%|██▋       | 30/110 [07:29<17:07, 12.84s/it]"
     ]
    },
    {
     "name": "stderr",
     "output_type": "stream",
     "text": [
      "\r\n",
      "Train:  28%|██▊       | 31/110 [07:50<20:05, 15.25s/it]"
     ]
    },
    {
     "name": "stderr",
     "output_type": "stream",
     "text": [
      "\r\n",
      "Train:  29%|██▉       | 32/110 [07:55<15:53, 12.22s/it]"
     ]
    },
    {
     "name": "stderr",
     "output_type": "stream",
     "text": [
      "\r\n",
      "Train:  30%|███       | 33/110 [08:24<22:07, 17.25s/it]"
     ]
    },
    {
     "name": "stderr",
     "output_type": "stream",
     "text": [
      "\r\n",
      "Train:  31%|███       | 34/110 [08:30<17:13, 13.59s/it]"
     ]
    },
    {
     "name": "stderr",
     "output_type": "stream",
     "text": [
      "\r\n",
      "Train:  32%|███▏      | 35/110 [08:44<17:27, 13.97s/it]"
     ]
    },
    {
     "name": "stderr",
     "output_type": "stream",
     "text": [
      "\r\n",
      "Train:  33%|███▎      | 36/110 [08:49<13:54, 11.28s/it]"
     ]
    },
    {
     "name": "stderr",
     "output_type": "stream",
     "text": [
      "\r\n",
      "Train:  34%|███▎      | 37/110 [09:20<20:39, 16.98s/it]"
     ]
    },
    {
     "name": "stderr",
     "output_type": "stream",
     "text": [
      "\r\n",
      "Train:  35%|███▍      | 38/110 [09:25<16:03, 13.38s/it]"
     ]
    },
    {
     "name": "stderr",
     "output_type": "stream",
     "text": [
      "\r\n",
      "Train:  35%|███▌      | 39/110 [09:34<14:32, 12.29s/it]"
     ]
    },
    {
     "name": "stderr",
     "output_type": "stream",
     "text": [
      "\r\n",
      "Train:  36%|███▋      | 40/110 [09:39<11:48, 10.13s/it]"
     ]
    },
    {
     "name": "stderr",
     "output_type": "stream",
     "text": [
      "\r\n",
      "Train:  37%|███▋      | 41/110 [10:12<19:26, 16.90s/it]"
     ]
    },
    {
     "name": "stderr",
     "output_type": "stream",
     "text": [
      "\r\n",
      "Train:  38%|███▊      | 42/110 [10:17<15:07, 13.34s/it]"
     ]
    },
    {
     "name": "stderr",
     "output_type": "stream",
     "text": [
      "\r\n",
      "Train:  39%|███▉      | 43/110 [10:28<13:58, 12.51s/it]"
     ]
    },
    {
     "name": "stderr",
     "output_type": "stream",
     "text": [
      "\r\n",
      "Train:  40%|████      | 44/110 [10:33<11:18, 10.29s/it]"
     ]
    },
    {
     "name": "stderr",
     "output_type": "stream",
     "text": [
      "\r\n",
      "Train:  41%|████      | 45/110 [11:12<20:37, 19.03s/it]"
     ]
    },
    {
     "name": "stderr",
     "output_type": "stream",
     "text": [
      "\r\n",
      "Train:  42%|████▏     | 46/110 [11:17<15:49, 14.84s/it]"
     ]
    },
    {
     "name": "stderr",
     "output_type": "stream",
     "text": [
      "\r\n",
      "Train:  43%|████▎     | 47/110 [11:25<13:20, 12.71s/it]"
     ]
    },
    {
     "name": "stderr",
     "output_type": "stream",
     "text": [
      "\r\n",
      "Train:  44%|████▎     | 48/110 [11:30<10:44, 10.40s/it]"
     ]
    },
    {
     "name": "stderr",
     "output_type": "stream",
     "text": [
      "\r\n",
      "Train:  45%|████▍     | 49/110 [12:09<19:16, 18.96s/it]"
     ]
    },
    {
     "name": "stderr",
     "output_type": "stream",
     "text": [
      "\r\n",
      "Train:  45%|████▌     | 50/110 [12:14<14:46, 14.77s/it]"
     ]
    },
    {
     "name": "stderr",
     "output_type": "stream",
     "text": [
      "\r\n",
      "Train:  46%|████▋     | 51/110 [12:24<13:07, 13.34s/it]"
     ]
    },
    {
     "name": "stderr",
     "output_type": "stream",
     "text": [
      "\r\n",
      "Train:  47%|████▋     | 52/110 [12:29<10:30, 10.88s/it]"
     ]
    },
    {
     "name": "stderr",
     "output_type": "stream",
     "text": [
      "\r\n",
      "Train:  48%|████▊     | 53/110 [13:05<17:23, 18.31s/it]"
     ]
    },
    {
     "name": "stderr",
     "output_type": "stream",
     "text": [
      "\r\n",
      "Train:  49%|████▉     | 54/110 [13:10<13:20, 14.29s/it]"
     ]
    },
    {
     "name": "stderr",
     "output_type": "stream",
     "text": [
      "\r\n",
      "Train:  50%|█████     | 55/110 [13:20<12:06, 13.20s/it]"
     ]
    },
    {
     "name": "stderr",
     "output_type": "stream",
     "text": [
      "\r\n",
      "Train:  51%|█████     | 56/110 [13:26<09:41, 10.77s/it]"
     ]
    },
    {
     "name": "stderr",
     "output_type": "stream",
     "text": [
      "\r\n",
      "Train:  52%|█████▏    | 57/110 [14:06<17:19, 19.61s/it]"
     ]
    },
    {
     "name": "stderr",
     "output_type": "stream",
     "text": [
      "\r\n",
      "Train:  53%|█████▎    | 58/110 [14:11<13:11, 15.21s/it]"
     ]
    },
    {
     "name": "stderr",
     "output_type": "stream",
     "text": [
      "\r\n",
      "Train:  54%|█████▎    | 59/110 [14:17<10:43, 12.61s/it]"
     ]
    },
    {
     "name": "stderr",
     "output_type": "stream",
     "text": [
      "\r\n",
      "Train:  55%|█████▍    | 60/110 [14:23<08:40, 10.41s/it]"
     ]
    },
    {
     "name": "stderr",
     "output_type": "stream",
     "text": [
      "\r\n",
      "Train:  55%|█████▌    | 61/110 [15:06<16:33, 20.28s/it]"
     ]
    },
    {
     "name": "stderr",
     "output_type": "stream",
     "text": [
      "\r\n",
      "Train:  56%|█████▋    | 62/110 [15:11<12:35, 15.74s/it]"
     ]
    },
    {
     "name": "stderr",
     "output_type": "stream",
     "text": [
      "\r\n",
      "Train:  57%|█████▋    | 63/110 [15:20<10:45, 13.74s/it]"
     ]
    },
    {
     "name": "stderr",
     "output_type": "stream",
     "text": [
      "\r\n",
      "Train:  58%|█████▊    | 64/110 [15:25<08:31, 11.13s/it]"
     ]
    },
    {
     "name": "stderr",
     "output_type": "stream",
     "text": [
      "\r\n",
      "Train:  59%|█████▉    | 65/110 [15:56<12:52, 17.16s/it]"
     ]
    },
    {
     "name": "stderr",
     "output_type": "stream",
     "text": [
      "\r\n",
      "Train:  60%|██████    | 66/110 [16:04<10:35, 14.45s/it]"
     ]
    },
    {
     "name": "stderr",
     "output_type": "stream",
     "text": [
      "\r\n",
      "Train:  61%|██████    | 67/110 [16:25<11:45, 16.42s/it]"
     ]
    },
    {
     "name": "stderr",
     "output_type": "stream",
     "text": [
      "\r\n",
      "Train:  62%|██████▏   | 68/110 [16:30<09:05, 13.00s/it]"
     ]
    },
    {
     "name": "stderr",
     "output_type": "stream",
     "text": [
      "\r\n",
      "Train:  63%|██████▎   | 69/110 [16:58<11:47, 17.25s/it]"
     ]
    },
    {
     "name": "stderr",
     "output_type": "stream",
     "text": [
      "\r\n",
      "Train:  64%|██████▎   | 70/110 [17:03<09:02, 13.57s/it]"
     ]
    },
    {
     "name": "stderr",
     "output_type": "stream",
     "text": [
      "\r\n",
      "Train:  65%|██████▍   | 71/110 [17:27<10:57, 16.86s/it]"
     ]
    },
    {
     "name": "stderr",
     "output_type": "stream",
     "text": [
      "\r\n",
      "Train:  65%|██████▌   | 72/110 [17:32<08:26, 13.33s/it]"
     ]
    },
    {
     "name": "stderr",
     "output_type": "stream",
     "text": [
      "\r\n",
      "Train:  66%|██████▋   | 73/110 [17:55<10:01, 16.26s/it]"
     ]
    },
    {
     "name": "stderr",
     "output_type": "stream",
     "text": [
      "\r\n",
      "Train:  67%|██████▋   | 74/110 [18:00<07:43, 12.87s/it]"
     ]
    },
    {
     "name": "stderr",
     "output_type": "stream",
     "text": [
      "\r\n",
      "Train:  68%|██████▊   | 75/110 [18:29<10:14, 17.55s/it]"
     ]
    },
    {
     "name": "stderr",
     "output_type": "stream",
     "text": [
      "\r\n",
      "Train:  69%|██████▉   | 76/110 [18:34<07:49, 13.80s/it]"
     ]
    },
    {
     "name": "stderr",
     "output_type": "stream",
     "text": [
      "\r\n",
      "Train:  70%|███████   | 77/110 [18:54<08:42, 15.83s/it]"
     ]
    },
    {
     "name": "stderr",
     "output_type": "stream",
     "text": [
      "\r\n",
      "Train:  71%|███████   | 78/110 [18:59<06:42, 12.58s/it]"
     ]
    },
    {
     "name": "stderr",
     "output_type": "stream",
     "text": [
      "\r\n",
      "Train:  72%|███████▏  | 79/110 [19:33<09:45, 18.88s/it]"
     ]
    },
    {
     "name": "stderr",
     "output_type": "stream",
     "text": [
      "\r\n",
      "Train:  73%|███████▎  | 80/110 [19:38<07:21, 14.70s/it]"
     ]
    },
    {
     "name": "stderr",
     "output_type": "stream",
     "text": [
      "\r\n",
      "Train:  74%|███████▎  | 81/110 [19:49<06:37, 13.70s/it]"
     ]
    },
    {
     "name": "stderr",
     "output_type": "stream",
     "text": [
      "\r\n",
      "Train:  75%|███████▍  | 82/110 [19:54<05:11, 11.13s/it]"
     ]
    },
    {
     "name": "stderr",
     "output_type": "stream",
     "text": [
      "\r\n",
      "Train:  75%|███████▌  | 83/110 [20:30<08:16, 18.40s/it]"
     ]
    },
    {
     "name": "stderr",
     "output_type": "stream",
     "text": [
      "\r\n",
      "Train:  76%|███████▋  | 84/110 [20:35<06:14, 14.41s/it]"
     ]
    },
    {
     "name": "stderr",
     "output_type": "stream",
     "text": [
      "\r\n",
      "Train:  77%|███████▋  | 85/110 [20:52<06:21, 15.25s/it]"
     ]
    },
    {
     "name": "stderr",
     "output_type": "stream",
     "text": [
      "\r\n",
      "Train:  78%|███████▊  | 86/110 [20:57<04:52, 12.18s/it]"
     ]
    },
    {
     "name": "stderr",
     "output_type": "stream",
     "text": [
      "\r\n",
      "Train:  79%|███████▉  | 87/110 [21:28<06:49, 17.81s/it]"
     ]
    },
    {
     "name": "stderr",
     "output_type": "stream",
     "text": [
      "\r\n",
      "Train:  80%|████████  | 88/110 [21:33<05:07, 13.98s/it]"
     ]
    },
    {
     "name": "stderr",
     "output_type": "stream",
     "text": [
      "\r\n",
      "Train:  81%|████████  | 89/110 [21:45<04:37, 13.21s/it]"
     ]
    },
    {
     "name": "stderr",
     "output_type": "stream",
     "text": [
      "\r\n",
      "Train:  82%|████████▏ | 90/110 [21:50<03:35, 10.76s/it]"
     ]
    },
    {
     "name": "stderr",
     "output_type": "stream",
     "text": [
      "\r\n",
      "Train:  83%|████████▎ | 91/110 [22:23<05:35, 17.67s/it]"
     ]
    },
    {
     "name": "stderr",
     "output_type": "stream",
     "text": [
      "\r\n",
      "Train:  84%|████████▎ | 92/110 [22:28<04:08, 13.83s/it]"
     ]
    },
    {
     "name": "stderr",
     "output_type": "stream",
     "text": [
      "\r\n",
      "Train:  85%|████████▍ | 93/110 [22:35<03:17, 11.60s/it]"
     ]
    },
    {
     "name": "stderr",
     "output_type": "stream",
     "text": [
      "\r\n",
      "Train:  85%|████████▌ | 94/110 [22:40<02:34,  9.66s/it]"
     ]
    },
    {
     "name": "stderr",
     "output_type": "stream",
     "text": [
      "\r\n",
      "Train:  86%|████████▋ | 95/110 [23:23<04:55, 19.71s/it]"
     ]
    },
    {
     "name": "stderr",
     "output_type": "stream",
     "text": [
      "\r\n",
      "Train:  87%|████████▋ | 96/110 [23:28<03:34, 15.29s/it]"
     ]
    },
    {
     "name": "stderr",
     "output_type": "stream",
     "text": [
      "\r\n",
      "Train:  88%|████████▊ | 97/110 [23:33<02:38, 12.20s/it]"
     ]
    },
    {
     "name": "stderr",
     "output_type": "stream",
     "text": [
      "\r\n",
      "Train:  89%|████████▉ | 98/110 [23:38<02:00, 10.04s/it]"
     ]
    },
    {
     "name": "stderr",
     "output_type": "stream",
     "text": [
      "\r\n",
      "Train:  90%|█████████ | 99/110 [24:13<03:14, 17.68s/it]"
     ]
    },
    {
     "name": "stderr",
     "output_type": "stream",
     "text": [
      "\r\n",
      "Train:  91%|█████████ | 100/110 [24:18<02:18, 13.89s/it]"
     ]
    },
    {
     "name": "stderr",
     "output_type": "stream",
     "text": [
      "\r\n",
      "Train:  92%|█████████▏| 101/110 [24:26<01:47, 11.91s/it]"
     ]
    },
    {
     "name": "stderr",
     "output_type": "stream",
     "text": [
      "\r\n",
      "Train:  93%|█████████▎| 102/110 [24:31<01:19,  9.88s/it]"
     ]
    },
    {
     "name": "stderr",
     "output_type": "stream",
     "text": [
      "\r\n",
      "Train:  94%|█████████▎| 103/110 [25:12<02:14, 19.23s/it]"
     ]
    },
    {
     "name": "stderr",
     "output_type": "stream",
     "text": [
      "\r\n",
      "Train:  95%|█████████▍| 104/110 [25:16<01:28, 14.83s/it]"
     ]
    },
    {
     "name": "stderr",
     "output_type": "stream",
     "text": [
      "\r\n",
      "Train:  95%|█████████▌| 105/110 [25:21<00:58, 11.77s/it]"
     ]
    },
    {
     "name": "stderr",
     "output_type": "stream",
     "text": [
      "\r\n",
      "Train:  96%|█████████▋| 106/110 [25:26<00:38,  9.64s/it]"
     ]
    },
    {
     "name": "stderr",
     "output_type": "stream",
     "text": [
      "\r\n",
      "Train:  97%|█████████▋| 107/110 [25:50<00:42, 14.02s/it]"
     ]
    },
    {
     "name": "stderr",
     "output_type": "stream",
     "text": [
      "\r\n",
      "Train:  98%|█████████▊| 108/110 [25:55<00:22, 11.19s/it]"
     ]
    },
    {
     "name": "stderr",
     "output_type": "stream",
     "text": [
      "\r\n",
      "Train:  99%|█████████▉| 109/110 [25:59<00:09,  9.22s/it]"
     ]
    },
    {
     "name": "stderr",
     "output_type": "stream",
     "text": [
      "\r\n",
      "Train: 100%|██████████| 110/110 [25:59<00:00, 14.18s/it]"
     ]
    },
    {
     "name": "stderr",
     "output_type": "stream",
     "text": [
      "\n"
     ]
    },
    {
     "name": "stdout",
     "output_type": "stream",
     "text": [
      "  Train Loss: 0.9951, Acc: 0.4653\n"
     ]
    },
    {
     "name": "stderr",
     "output_type": "stream",
     "text": [
      "\r\n",
      "Val:   0%|          | 0/28 [00:00<?, ?it/s]"
     ]
    },
    {
     "name": "stderr",
     "output_type": "stream",
     "text": [
      "\r\n",
      "Val:   4%|▎         | 1/28 [00:59<26:46, 59.49s/it]"
     ]
    },
    {
     "name": "stderr",
     "output_type": "stream",
     "text": [
      "\r\n",
      "Val:   7%|▋         | 2/28 [01:04<11:49, 27.30s/it]"
     ]
    },
    {
     "name": "stderr",
     "output_type": "stream",
     "text": [
      "\r\n",
      "Val:  11%|█         | 3/28 [01:09<07:06, 17.05s/it]"
     ]
    },
    {
     "name": "stderr",
     "output_type": "stream",
     "text": [
      "\r\n",
      "Val:  14%|█▍        | 4/28 [01:13<04:52, 12.18s/it]"
     ]
    },
    {
     "name": "stderr",
     "output_type": "stream",
     "text": [
      "\r\n",
      "Val:  18%|█▊        | 5/28 [01:57<09:04, 23.69s/it]"
     ]
    },
    {
     "name": "stderr",
     "output_type": "stream",
     "text": [
      "\r\n",
      "Val:  21%|██▏       | 6/28 [02:02<06:18, 17.22s/it]"
     ]
    },
    {
     "name": "stderr",
     "output_type": "stream",
     "text": [
      "\r\n",
      "Val:  25%|██▌       | 7/28 [02:07<04:36, 13.19s/it]"
     ]
    },
    {
     "name": "stderr",
     "output_type": "stream",
     "text": [
      "\r\n",
      "Val:  29%|██▊       | 8/28 [02:12<03:30, 10.54s/it]"
     ]
    },
    {
     "name": "stderr",
     "output_type": "stream",
     "text": [
      "\r\n",
      "Val:  32%|███▏      | 9/28 [02:49<05:59, 18.91s/it]"
     ]
    },
    {
     "name": "stderr",
     "output_type": "stream",
     "text": [
      "\r\n",
      "Val:  36%|███▌      | 10/28 [02:56<04:31, 15.07s/it]"
     ]
    },
    {
     "name": "stderr",
     "output_type": "stream",
     "text": [
      "\r\n",
      "Val:  39%|███▉      | 11/28 [03:00<03:21, 11.87s/it]"
     ]
    },
    {
     "name": "stderr",
     "output_type": "stream",
     "text": [
      "\r\n",
      "Val:  43%|████▎     | 12/28 [03:05<02:36,  9.79s/it]"
     ]
    },
    {
     "name": "stderr",
     "output_type": "stream",
     "text": [
      "\r\n",
      "Val:  46%|████▋     | 13/28 [03:47<04:52, 19.48s/it]"
     ]
    },
    {
     "name": "stderr",
     "output_type": "stream",
     "text": [
      "\r\n",
      "Val:  50%|█████     | 14/28 [03:54<03:41, 15.84s/it]"
     ]
    },
    {
     "name": "stderr",
     "output_type": "stream",
     "text": [
      "\r\n",
      "Val:  54%|█████▎    | 15/28 [03:59<02:42, 12.49s/it]"
     ]
    },
    {
     "name": "stderr",
     "output_type": "stream",
     "text": [
      "\r\n",
      "Val:  57%|█████▋    | 16/28 [04:04<02:02, 10.22s/it]"
     ]
    },
    {
     "name": "stderr",
     "output_type": "stream",
     "text": [
      "\r\n",
      "Val:  61%|██████    | 17/28 [04:43<03:26, 18.81s/it]"
     ]
    },
    {
     "name": "stderr",
     "output_type": "stream",
     "text": [
      "\r\n",
      "Val:  64%|██████▍   | 18/28 [04:56<02:51, 17.15s/it]"
     ]
    },
    {
     "name": "stderr",
     "output_type": "stream",
     "text": [
      "\r\n",
      "Val:  68%|██████▊   | 19/28 [05:01<02:00, 13.39s/it]"
     ]
    },
    {
     "name": "stderr",
     "output_type": "stream",
     "text": [
      "\r\n",
      "Val:  71%|███████▏  | 20/28 [05:06<01:26, 10.80s/it]"
     ]
    },
    {
     "name": "stderr",
     "output_type": "stream",
     "text": [
      "\r\n",
      "Val:  75%|███████▌  | 21/28 [05:35<01:53, 16.24s/it]"
     ]
    },
    {
     "name": "stderr",
     "output_type": "stream",
     "text": [
      "\r\n",
      "Val:  79%|███████▊  | 22/28 [05:50<01:36, 16.09s/it]"
     ]
    },
    {
     "name": "stderr",
     "output_type": "stream",
     "text": [
      "\r\n",
      "Val:  82%|████████▏ | 23/28 [05:55<01:03, 12.70s/it]"
     ]
    },
    {
     "name": "stderr",
     "output_type": "stream",
     "text": [
      "\r\n",
      "Val:  86%|████████▌ | 24/28 [06:00<00:41, 10.31s/it]"
     ]
    },
    {
     "name": "stderr",
     "output_type": "stream",
     "text": [
      "\r\n",
      "Val:  89%|████████▉ | 25/28 [06:27<00:46, 15.37s/it]"
     ]
    },
    {
     "name": "stderr",
     "output_type": "stream",
     "text": [
      "\r\n",
      "Val:  93%|█████████▎| 26/28 [06:33<00:25, 12.58s/it]"
     ]
    },
    {
     "name": "stderr",
     "output_type": "stream",
     "text": [
      "\r\n",
      "Val:  96%|█████████▋| 27/28 [06:39<00:10, 10.62s/it]"
     ]
    },
    {
     "name": "stderr",
     "output_type": "stream",
     "text": [
      "\r\n",
      "Val: 100%|██████████| 28/28 [06:41<00:00,  7.95s/it]"
     ]
    },
    {
     "name": "stderr",
     "output_type": "stream",
     "text": [
      "\r\n",
      "Val: 100%|██████████| 28/28 [06:41<00:00, 14.33s/it]"
     ]
    },
    {
     "name": "stderr",
     "output_type": "stream",
     "text": [
      "\n"
     ]
    },
    {
     "name": "stdout",
     "output_type": "stream",
     "text": [
      "  Val Loss: 1.0241, Acc: 0.4737\n",
      "  + New best! Saved.\n",
      "Epoch 6/10\n"
     ]
    },
    {
     "name": "stderr",
     "output_type": "stream",
     "text": [
      "\r\n",
      "Train:   0%|          | 0/110 [00:00<?, ?it/s]"
     ]
    },
    {
     "name": "stderr",
     "output_type": "stream",
     "text": [
      "\r\n",
      "Train:   1%|          | 1/110 [00:54<1:39:41, 54.87s/it]"
     ]
    },
    {
     "name": "stderr",
     "output_type": "stream",
     "text": [
      "\r\n",
      "Train:   2%|▏         | 2/110 [00:59<45:48, 25.45s/it]  "
     ]
    },
    {
     "name": "stderr",
     "output_type": "stream",
     "text": [
      "\r\n",
      "Train:   3%|▎         | 3/110 [01:04<28:47, 16.15s/it]"
     ]
    },
    {
     "name": "stderr",
     "output_type": "stream",
     "text": [
      "\r\n",
      "Train:   4%|▎         | 4/110 [01:09<20:48, 11.78s/it]"
     ]
    },
    {
     "name": "stderr",
     "output_type": "stream",
     "text": [
      "\r\n",
      "Train:   5%|▍         | 5/110 [01:48<37:30, 21.43s/it]"
     ]
    },
    {
     "name": "stderr",
     "output_type": "stream",
     "text": [
      "\r\n",
      "Train:   5%|▌         | 6/110 [01:53<27:26, 15.84s/it]"
     ]
    },
    {
     "name": "stderr",
     "output_type": "stream",
     "text": [
      "\r\n",
      "Train:   6%|▋         | 7/110 [01:58<21:04, 12.28s/it]"
     ]
    },
    {
     "name": "stderr",
     "output_type": "stream",
     "text": [
      "\r\n",
      "Train:   7%|▋         | 8/110 [02:03<16:56,  9.96s/it]"
     ]
    },
    {
     "name": "stderr",
     "output_type": "stream",
     "text": [
      "\r\n",
      "Train:   8%|▊         | 9/110 [02:49<35:48, 21.27s/it]"
     ]
    },
    {
     "name": "stderr",
     "output_type": "stream",
     "text": [
      "\r\n",
      "Train:   9%|▉         | 10/110 [02:54<27:07, 16.28s/it]"
     ]
    },
    {
     "name": "stderr",
     "output_type": "stream",
     "text": [
      "\r\n",
      "Train:  10%|█         | 11/110 [02:59<21:09, 12.82s/it]"
     ]
    },
    {
     "name": "stderr",
     "output_type": "stream",
     "text": [
      "\r\n",
      "Train:  11%|█         | 12/110 [03:04<17:04, 10.46s/it]"
     ]
    },
    {
     "name": "stderr",
     "output_type": "stream",
     "text": [
      "\r\n",
      "Train:  12%|█▏        | 13/110 [03:47<32:46, 20.27s/it]"
     ]
    },
    {
     "name": "stderr",
     "output_type": "stream",
     "text": [
      "\r\n",
      "Train:  13%|█▎        | 14/110 [03:52<25:03, 15.66s/it]"
     ]
    },
    {
     "name": "stderr",
     "output_type": "stream",
     "text": [
      "\r\n",
      "Train:  14%|█▎        | 15/110 [03:57<19:44, 12.47s/it]"
     ]
    },
    {
     "name": "stderr",
     "output_type": "stream",
     "text": [
      "\r\n",
      "Train:  15%|█▍        | 16/110 [04:02<16:03, 10.25s/it]"
     ]
    },
    {
     "name": "stderr",
     "output_type": "stream",
     "text": [
      "\r\n",
      "Train:  15%|█▌        | 17/110 [04:42<29:47, 19.22s/it]"
     ]
    },
    {
     "name": "stderr",
     "output_type": "stream",
     "text": [
      "\r\n",
      "Train:  16%|█▋        | 18/110 [04:47<22:55, 14.95s/it]"
     ]
    },
    {
     "name": "stderr",
     "output_type": "stream",
     "text": [
      "\r\n",
      "Train:  17%|█▋        | 19/110 [04:52<18:05, 11.93s/it]"
     ]
    },
    {
     "name": "stderr",
     "output_type": "stream",
     "text": [
      "\r\n",
      "Train:  18%|█▊        | 20/110 [04:57<14:51,  9.90s/it]"
     ]
    },
    {
     "name": "stderr",
     "output_type": "stream",
     "text": [
      "\r\n",
      "Train:  19%|█▉        | 21/110 [05:39<28:38, 19.30s/it]"
     ]
    },
    {
     "name": "stderr",
     "output_type": "stream",
     "text": [
      "\r\n",
      "Train:  20%|██        | 22/110 [05:44<22:22, 15.26s/it]"
     ]
    },
    {
     "name": "stderr",
     "output_type": "stream",
     "text": [
      "\r\n",
      "Train:  21%|██        | 23/110 [05:49<17:39, 12.18s/it]"
     ]
    },
    {
     "name": "stderr",
     "output_type": "stream",
     "text": [
      "\r\n",
      "Train:  22%|██▏       | 24/110 [05:54<14:23, 10.04s/it]"
     ]
    },
    {
     "name": "stderr",
     "output_type": "stream",
     "text": [
      "\r\n",
      "Train:  23%|██▎       | 25/110 [06:30<25:15, 17.83s/it]"
     ]
    },
    {
     "name": "stderr",
     "output_type": "stream",
     "text": [
      "\r\n",
      "Train:  24%|██▎       | 26/110 [06:44<23:10, 16.55s/it]"
     ]
    },
    {
     "name": "stderr",
     "output_type": "stream",
     "text": [
      "\r\n",
      "Train:  25%|██▍       | 27/110 [06:49<18:07, 13.11s/it]"
     ]
    },
    {
     "name": "stderr",
     "output_type": "stream",
     "text": [
      "\r\n",
      "Train:  25%|██▌       | 28/110 [06:54<14:37, 10.70s/it]"
     ]
    },
    {
     "name": "stderr",
     "output_type": "stream",
     "text": [
      "\r\n",
      "Train:  26%|██▋       | 29/110 [07:22<21:18, 15.78s/it]"
     ]
    },
    {
     "name": "stderr",
     "output_type": "stream",
     "text": [
      "\r\n",
      "Train:  27%|██▋       | 30/110 [07:44<23:39, 17.75s/it]"
     ]
    },
    {
     "name": "stderr",
     "output_type": "stream",
     "text": [
      "\r\n",
      "Train:  28%|██▊       | 31/110 [07:49<18:18, 13.90s/it]"
     ]
    },
    {
     "name": "stderr",
     "output_type": "stream",
     "text": [
      "\r\n",
      "Train:  29%|██▉       | 32/110 [07:54<14:35, 11.23s/it]"
     ]
    },
    {
     "name": "stderr",
     "output_type": "stream",
     "text": [
      "\r\n",
      "Train:  30%|███       | 33/110 [08:17<18:48, 14.65s/it]"
     ]
    },
    {
     "name": "stderr",
     "output_type": "stream",
     "text": [
      "\r\n",
      "Train:  31%|███       | 34/110 [08:39<21:17, 16.81s/it]"
     ]
    },
    {
     "name": "stderr",
     "output_type": "stream",
     "text": [
      "\r\n",
      "Train:  32%|███▏      | 35/110 [08:44<16:38, 13.31s/it]"
     ]
    },
    {
     "name": "stderr",
     "output_type": "stream",
     "text": [
      "\r\n",
      "Train:  33%|███▎      | 36/110 [08:49<13:24, 10.88s/it]"
     ]
    },
    {
     "name": "stderr",
     "output_type": "stream",
     "text": [
      "\r\n",
      "Train:  34%|███▎      | 37/110 [09:14<18:21, 15.09s/it]"
     ]
    },
    {
     "name": "stderr",
     "output_type": "stream",
     "text": [
      "\r\n",
      "Train:  35%|███▍      | 38/110 [09:32<19:04, 15.89s/it]"
     ]
    },
    {
     "name": "stderr",
     "output_type": "stream",
     "text": [
      "\r\n",
      "Train:  35%|███▌      | 39/110 [09:36<14:54, 12.60s/it]"
     ]
    },
    {
     "name": "stderr",
     "output_type": "stream",
     "text": [
      "\r\n",
      "Train:  36%|███▋      | 40/110 [09:41<12:01, 10.30s/it]"
     ]
    },
    {
     "name": "stderr",
     "output_type": "stream",
     "text": [
      "\r\n",
      "Train:  37%|███▋      | 41/110 [10:16<20:19, 17.68s/it]"
     ]
    },
    {
     "name": "stderr",
     "output_type": "stream",
     "text": [
      "\r\n",
      "Train:  38%|███▊      | 42/110 [10:30<18:43, 16.52s/it]"
     ]
    },
    {
     "name": "stderr",
     "output_type": "stream",
     "text": [
      "\r\n",
      "Train:  39%|███▉      | 43/110 [10:35<14:36, 13.08s/it]"
     ]
    },
    {
     "name": "stderr",
     "output_type": "stream",
     "text": [
      "\r\n",
      "Train:  40%|████      | 44/110 [10:40<11:44, 10.68s/it]"
     ]
    },
    {
     "name": "stderr",
     "output_type": "stream",
     "text": [
      "\r\n",
      "Train:  41%|████      | 45/110 [11:14<19:11, 17.72s/it]"
     ]
    },
    {
     "name": "stderr",
     "output_type": "stream",
     "text": [
      "\r\n",
      "Train:  42%|████▏     | 46/110 [11:28<17:38, 16.54s/it]"
     ]
    },
    {
     "name": "stderr",
     "output_type": "stream",
     "text": [
      "\r\n",
      "Train:  43%|████▎     | 47/110 [11:33<13:48, 13.15s/it]"
     ]
    },
    {
     "name": "stderr",
     "output_type": "stream",
     "text": [
      "\r\n",
      "Train:  44%|████▎     | 48/110 [11:39<11:06, 10.74s/it]"
     ]
    },
    {
     "name": "stderr",
     "output_type": "stream",
     "text": [
      "\r\n",
      "Train:  45%|████▍     | 49/110 [12:12<17:54, 17.61s/it]"
     ]
    },
    {
     "name": "stderr",
     "output_type": "stream",
     "text": [
      "\r\n",
      "Train:  45%|████▌     | 50/110 [12:23<15:34, 15.57s/it]"
     ]
    },
    {
     "name": "stderr",
     "output_type": "stream",
     "text": [
      "\r\n",
      "Train:  46%|████▋     | 51/110 [12:28<12:10, 12.39s/it]"
     ]
    },
    {
     "name": "stderr",
     "output_type": "stream",
     "text": [
      "\r\n",
      "Train:  47%|████▋     | 52/110 [12:33<09:47, 10.13s/it]"
     ]
    },
    {
     "name": "stderr",
     "output_type": "stream",
     "text": [
      "\r\n",
      "Train:  48%|████▊     | 53/110 [13:10<17:13, 18.13s/it]"
     ]
    },
    {
     "name": "stderr",
     "output_type": "stream",
     "text": [
      "\r\n",
      "Train:  49%|████▉     | 54/110 [13:25<16:08, 17.30s/it]"
     ]
    },
    {
     "name": "stderr",
     "output_type": "stream",
     "text": [
      "\r\n",
      "Train:  50%|█████     | 55/110 [13:30<12:26, 13.57s/it]"
     ]
    },
    {
     "name": "stderr",
     "output_type": "stream",
     "text": [
      "\r\n",
      "Train:  51%|█████     | 56/110 [13:35<09:55, 11.02s/it]"
     ]
    },
    {
     "name": "stderr",
     "output_type": "stream",
     "text": [
      "\r\n",
      "Train:  52%|█████▏    | 57/110 [14:05<14:44, 16.70s/it]"
     ]
    },
    {
     "name": "stderr",
     "output_type": "stream",
     "text": [
      "\r\n",
      "Train:  53%|█████▎    | 58/110 [14:17<13:17, 15.34s/it]"
     ]
    },
    {
     "name": "stderr",
     "output_type": "stream",
     "text": [
      "\r\n",
      "Train:  54%|█████▎    | 59/110 [14:22<10:24, 12.25s/it]"
     ]
    },
    {
     "name": "stderr",
     "output_type": "stream",
     "text": [
      "\r\n",
      "Train:  55%|█████▍    | 60/110 [14:27<08:25, 10.12s/it]"
     ]
    },
    {
     "name": "stderr",
     "output_type": "stream",
     "text": [
      "\r\n",
      "Train:  55%|█████▌    | 61/110 [15:01<14:02, 17.20s/it]"
     ]
    },
    {
     "name": "stderr",
     "output_type": "stream",
     "text": [
      "\r\n",
      "Train:  56%|█████▋    | 62/110 [15:16<13:11, 16.48s/it]"
     ]
    },
    {
     "name": "stderr",
     "output_type": "stream",
     "text": [
      "\r\n",
      "Train:  57%|█████▋    | 63/110 [15:21<10:16, 13.11s/it]"
     ]
    },
    {
     "name": "stderr",
     "output_type": "stream",
     "text": [
      "\r\n",
      "Train:  58%|█████▊    | 64/110 [15:26<08:12, 10.70s/it]"
     ]
    },
    {
     "name": "stderr",
     "output_type": "stream",
     "text": [
      "\r\n",
      "Train:  59%|█████▉    | 65/110 [15:59<12:56, 17.26s/it]"
     ]
    },
    {
     "name": "stderr",
     "output_type": "stream",
     "text": [
      "\r\n",
      "Train:  60%|██████    | 66/110 [16:14<12:17, 16.75s/it]"
     ]
    },
    {
     "name": "stderr",
     "output_type": "stream",
     "text": [
      "\r\n",
      "Train:  61%|██████    | 67/110 [16:19<09:30, 13.26s/it]"
     ]
    },
    {
     "name": "stderr",
     "output_type": "stream",
     "text": [
      "\r\n",
      "Train:  62%|██████▏   | 68/110 [16:25<07:35, 10.85s/it]"
     ]
    },
    {
     "name": "stderr",
     "output_type": "stream",
     "text": [
      "\r\n",
      "Train:  63%|██████▎   | 69/110 [16:58<11:57, 17.50s/it]"
     ]
    },
    {
     "name": "stderr",
     "output_type": "stream",
     "text": [
      "\r\n",
      "Train:  64%|██████▎   | 70/110 [17:07<09:59, 14.98s/it]"
     ]
    },
    {
     "name": "stderr",
     "output_type": "stream",
     "text": [
      "\r\n",
      "Train:  65%|██████▍   | 71/110 [17:12<07:48, 12.01s/it]"
     ]
    },
    {
     "name": "stderr",
     "output_type": "stream",
     "text": [
      "\r\n",
      "Train:  65%|██████▌   | 72/110 [17:17<06:17,  9.94s/it]"
     ]
    },
    {
     "name": "stderr",
     "output_type": "stream",
     "text": [
      "\r\n",
      "Train:  66%|██████▋   | 73/110 [17:58<11:57, 19.40s/it]"
     ]
    },
    {
     "name": "stderr",
     "output_type": "stream",
     "text": [
      "\r\n",
      "Train:  67%|██████▋   | 74/110 [18:07<09:46, 16.30s/it]"
     ]
    },
    {
     "name": "stderr",
     "output_type": "stream",
     "text": [
      "\r\n",
      "Train:  68%|██████▊   | 75/110 [18:12<07:32, 12.92s/it]"
     ]
    },
    {
     "name": "stderr",
     "output_type": "stream",
     "text": [
      "\r\n",
      "Train:  69%|██████▉   | 76/110 [18:17<05:57, 10.52s/it]"
     ]
    },
    {
     "name": "stderr",
     "output_type": "stream",
     "text": [
      "\r\n",
      "Train:  70%|███████   | 77/110 [18:51<09:36, 17.48s/it]"
     ]
    },
    {
     "name": "stderr",
     "output_type": "stream",
     "text": [
      "\r\n",
      "Train:  71%|███████   | 78/110 [19:04<08:32, 16.02s/it]"
     ]
    },
    {
     "name": "stderr",
     "output_type": "stream",
     "text": [
      "\r\n",
      "Train:  72%|███████▏  | 79/110 [19:09<06:34, 12.74s/it]"
     ]
    },
    {
     "name": "stderr",
     "output_type": "stream",
     "text": [
      "\r\n",
      "Train:  73%|███████▎  | 80/110 [19:14<05:12, 10.42s/it]"
     ]
    },
    {
     "name": "stderr",
     "output_type": "stream",
     "text": [
      "\r\n",
      "Train:  74%|███████▎  | 81/110 [19:49<08:36, 17.82s/it]"
     ]
    },
    {
     "name": "stderr",
     "output_type": "stream",
     "text": [
      "\r\n",
      "Train:  75%|███████▍  | 82/110 [20:06<08:10, 17.50s/it]"
     ]
    },
    {
     "name": "stderr",
     "output_type": "stream",
     "text": [
      "\r\n",
      "Train:  75%|███████▌  | 83/110 [20:11<06:12, 13.78s/it]"
     ]
    },
    {
     "name": "stderr",
     "output_type": "stream",
     "text": [
      "\r\n",
      "Train:  76%|███████▋  | 84/110 [20:16<04:50, 11.17s/it]"
     ]
    },
    {
     "name": "stderr",
     "output_type": "stream",
     "text": [
      "\r\n",
      "Train:  77%|███████▋  | 85/110 [20:46<07:05, 17.02s/it]"
     ]
    },
    {
     "name": "stderr",
     "output_type": "stream",
     "text": [
      "\r\n",
      "Train:  78%|███████▊  | 86/110 [20:52<05:26, 13.61s/it]"
     ]
    },
    {
     "name": "stderr",
     "output_type": "stream",
     "text": [
      "\r\n",
      "Train:  79%|███████▉  | 87/110 [20:57<04:13, 11.03s/it]"
     ]
    },
    {
     "name": "stderr",
     "output_type": "stream",
     "text": [
      "\r\n",
      "Train:  80%|████████  | 88/110 [21:02<03:23,  9.26s/it]"
     ]
    },
    {
     "name": "stderr",
     "output_type": "stream",
     "text": [
      "\r\n",
      "Train:  81%|████████  | 89/110 [21:51<07:21, 21.01s/it]"
     ]
    },
    {
     "name": "stderr",
     "output_type": "stream",
     "text": [
      "\r\n",
      "Train:  82%|████████▏ | 90/110 [21:56<05:23, 16.17s/it]"
     ]
    },
    {
     "name": "stderr",
     "output_type": "stream",
     "text": [
      "\r\n",
      "Train:  83%|████████▎ | 91/110 [22:00<04:02, 12.76s/it]"
     ]
    },
    {
     "name": "stderr",
     "output_type": "stream",
     "text": [
      "\r\n",
      "Train:  84%|████████▎ | 92/110 [22:05<03:08, 10.45s/it]"
     ]
    },
    {
     "name": "stderr",
     "output_type": "stream",
     "text": [
      "\r\n",
      "Train:  85%|████████▍ | 93/110 [22:47<05:37, 19.85s/it]"
     ]
    },
    {
     "name": "stderr",
     "output_type": "stream",
     "text": [
      "\r\n",
      "Train:  85%|████████▌ | 94/110 [22:52<04:06, 15.39s/it]"
     ]
    },
    {
     "name": "stderr",
     "output_type": "stream",
     "text": [
      "\r\n",
      "Train:  86%|████████▋ | 95/110 [22:57<03:04, 12.29s/it]"
     ]
    },
    {
     "name": "stderr",
     "output_type": "stream",
     "text": [
      "\r\n",
      "Train:  87%|████████▋ | 96/110 [23:02<02:21, 10.14s/it]"
     ]
    },
    {
     "name": "stderr",
     "output_type": "stream",
     "text": [
      "\r\n",
      "Train:  88%|████████▊ | 97/110 [23:44<04:13, 19.47s/it]"
     ]
    },
    {
     "name": "stderr",
     "output_type": "stream",
     "text": [
      "\r\n",
      "Train:  89%|████████▉ | 98/110 [23:53<03:16, 16.39s/it]"
     ]
    },
    {
     "name": "stderr",
     "output_type": "stream",
     "text": [
      "\r\n",
      "Train:  90%|█████████ | 99/110 [23:58<02:22, 12.95s/it]"
     ]
    },
    {
     "name": "stderr",
     "output_type": "stream",
     "text": [
      "\r\n",
      "Train:  91%|█████████ | 100/110 [24:03<01:45, 10.58s/it]"
     ]
    },
    {
     "name": "stderr",
     "output_type": "stream",
     "text": [
      "\r\n",
      "Train:  92%|█████████▏| 101/110 [24:42<02:53, 19.28s/it]"
     ]
    },
    {
     "name": "stderr",
     "output_type": "stream",
     "text": [
      "\r\n",
      "Train:  93%|█████████▎| 102/110 [24:50<02:06, 15.80s/it]"
     ]
    },
    {
     "name": "stderr",
     "output_type": "stream",
     "text": [
      "\r\n",
      "Train:  94%|█████████▎| 103/110 [24:55<01:28, 12.60s/it]"
     ]
    },
    {
     "name": "stderr",
     "output_type": "stream",
     "text": [
      "\r\n",
      "Train:  95%|█████████▍| 104/110 [25:00<01:02, 10.34s/it]"
     ]
    },
    {
     "name": "stderr",
     "output_type": "stream",
     "text": [
      "\r\n",
      "Train:  95%|█████████▌| 105/110 [25:35<01:28, 17.73s/it]"
     ]
    },
    {
     "name": "stderr",
     "output_type": "stream",
     "text": [
      "\r\n",
      "Train:  96%|█████████▋| 106/110 [25:40<00:55, 13.78s/it]"
     ]
    },
    {
     "name": "stderr",
     "output_type": "stream",
     "text": [
      "\r\n",
      "Train:  97%|█████████▋| 107/110 [25:44<00:33, 11.03s/it]"
     ]
    },
    {
     "name": "stderr",
     "output_type": "stream",
     "text": [
      "\r\n",
      "Train:  98%|█████████▊| 108/110 [25:49<00:18,  9.13s/it]"
     ]
    },
    {
     "name": "stderr",
     "output_type": "stream",
     "text": [
      "\r\n",
      "Train:  99%|█████████▉| 109/110 [26:14<00:13, 13.87s/it]"
     ]
    },
    {
     "name": "stderr",
     "output_type": "stream",
     "text": [
      "\r\n",
      "Train: 100%|██████████| 110/110 [26:14<00:00, 14.31s/it]"
     ]
    },
    {
     "name": "stderr",
     "output_type": "stream",
     "text": [
      "\n"
     ]
    },
    {
     "name": "stdout",
     "output_type": "stream",
     "text": [
      "  Train Loss: 1.0298, Acc: 0.4579\n"
     ]
    },
    {
     "name": "stderr",
     "output_type": "stream",
     "text": [
      "\r\n",
      "Val:   0%|          | 0/28 [00:00<?, ?it/s]"
     ]
    },
    {
     "name": "stderr",
     "output_type": "stream",
     "text": [
      "\r\n",
      "Val:   4%|▎         | 1/28 [01:01<27:33, 61.25s/it]"
     ]
    },
    {
     "name": "stderr",
     "output_type": "stream",
     "text": [
      "\r\n",
      "Val:   7%|▋         | 2/28 [01:06<12:10, 28.09s/it]"
     ]
    },
    {
     "name": "stderr",
     "output_type": "stream",
     "text": [
      "\r\n",
      "Val:  11%|█         | 3/28 [01:11<07:18, 17.52s/it]"
     ]
    },
    {
     "name": "stderr",
     "output_type": "stream",
     "text": [
      "\r\n",
      "Val:  14%|█▍        | 4/28 [01:16<05:02, 12.61s/it]"
     ]
    },
    {
     "name": "stderr",
     "output_type": "stream",
     "text": [
      "\r\n",
      "Val:  18%|█▊        | 5/28 [02:03<09:38, 25.17s/it]"
     ]
    },
    {
     "name": "stderr",
     "output_type": "stream",
     "text": [
      "\r\n",
      "Val:  21%|██▏       | 6/28 [02:08<06:39, 18.16s/it]"
     ]
    },
    {
     "name": "stderr",
     "output_type": "stream",
     "text": [
      "\r\n",
      "Val:  25%|██▌       | 7/28 [02:12<04:49, 13.77s/it]"
     ]
    },
    {
     "name": "stderr",
     "output_type": "stream",
     "text": [
      "\r\n",
      "Val:  29%|██▊       | 8/28 [02:17<03:38, 10.91s/it]"
     ]
    },
    {
     "name": "stderr",
     "output_type": "stream",
     "text": [
      "\r\n",
      "Val:  32%|███▏      | 9/28 [02:58<06:22, 20.14s/it]"
     ]
    },
    {
     "name": "stderr",
     "output_type": "stream",
     "text": [
      "\r\n",
      "Val:  36%|███▌      | 10/28 [03:03<04:38, 15.47s/it]"
     ]
    },
    {
     "name": "stderr",
     "output_type": "stream",
     "text": [
      "\r\n",
      "Val:  39%|███▉      | 11/28 [03:07<03:27, 12.22s/it]"
     ]
    },
    {
     "name": "stderr",
     "output_type": "stream",
     "text": [
      "\r\n",
      "Val:  43%|████▎     | 12/28 [03:12<02:40, 10.01s/it]"
     ]
    },
    {
     "name": "stderr",
     "output_type": "stream",
     "text": [
      "\r\n",
      "Val:  46%|████▋     | 13/28 [03:57<05:08, 20.57s/it]"
     ]
    },
    {
     "name": "stderr",
     "output_type": "stream",
     "text": [
      "\r\n",
      "Val:  50%|█████     | 14/28 [04:02<03:40, 15.78s/it]"
     ]
    },
    {
     "name": "stderr",
     "output_type": "stream",
     "text": [
      "\r\n",
      "Val:  54%|█████▎    | 15/28 [04:07<02:42, 12.47s/it]"
     ]
    },
    {
     "name": "stderr",
     "output_type": "stream",
     "text": [
      "\r\n",
      "Val:  57%|█████▋    | 16/28 [04:12<02:01, 10.13s/it]"
     ]
    },
    {
     "name": "stderr",
     "output_type": "stream",
     "text": [
      "\r\n",
      "Val:  61%|██████    | 17/28 [04:54<03:39, 19.93s/it]"
     ]
    },
    {
     "name": "stderr",
     "output_type": "stream",
     "text": [
      "\r\n",
      "Val:  64%|██████▍   | 18/28 [04:59<02:33, 15.35s/it]"
     ]
    },
    {
     "name": "stderr",
     "output_type": "stream",
     "text": [
      "\r\n",
      "Val:  68%|██████▊   | 19/28 [05:04<01:49, 12.18s/it]"
     ]
    },
    {
     "name": "stderr",
     "output_type": "stream",
     "text": [
      "\r\n",
      "Val:  71%|███████▏  | 20/28 [05:08<01:19,  9.96s/it]"
     ]
    },
    {
     "name": "stderr",
     "output_type": "stream",
     "text": [
      "\r\n",
      "Val:  75%|███████▌  | 21/28 [05:46<02:07, 18.25s/it]"
     ]
    },
    {
     "name": "stderr",
     "output_type": "stream",
     "text": [
      "\r\n",
      "Val:  79%|███████▊  | 22/28 [05:51<01:25, 14.26s/it]"
     ]
    },
    {
     "name": "stderr",
     "output_type": "stream",
     "text": [
      "\r\n",
      "Val:  82%|████████▏ | 23/28 [05:56<00:57, 11.42s/it]"
     ]
    },
    {
     "name": "stderr",
     "output_type": "stream",
     "text": [
      "\r\n",
      "Val:  86%|████████▌ | 24/28 [06:01<00:37,  9.43s/it]"
     ]
    },
    {
     "name": "stderr",
     "output_type": "stream",
     "text": [
      "\r\n",
      "Val:  89%|████████▉ | 25/28 [06:39<00:54, 18.15s/it]"
     ]
    },
    {
     "name": "stderr",
     "output_type": "stream",
     "text": [
      "\r\n",
      "Val:  93%|█████████▎| 26/28 [06:43<00:28, 14.01s/it]"
     ]
    },
    {
     "name": "stderr",
     "output_type": "stream",
     "text": [
      "\r\n",
      "Val:  96%|█████████▋| 27/28 [06:48<00:11, 11.14s/it]"
     ]
    },
    {
     "name": "stderr",
     "output_type": "stream",
     "text": [
      "\r\n",
      "Val: 100%|██████████| 28/28 [06:50<00:00,  8.31s/it]"
     ]
    },
    {
     "name": "stderr",
     "output_type": "stream",
     "text": [
      "\r\n",
      "Val: 100%|██████████| 28/28 [06:50<00:00, 14.65s/it]"
     ]
    },
    {
     "name": "stderr",
     "output_type": "stream",
     "text": [
      "\n"
     ]
    },
    {
     "name": "stdout",
     "output_type": "stream",
     "text": [
      "  Val Loss: 1.0751, Acc: 0.4348\n",
      "Epoch 7/10\n"
     ]
    },
    {
     "name": "stderr",
     "output_type": "stream",
     "text": [
      "\r\n",
      "Train:   0%|          | 0/110 [00:00<?, ?it/s]"
     ]
    },
    {
     "name": "stderr",
     "output_type": "stream",
     "text": [
      "\r\n",
      "Train:   1%|          | 1/110 [00:52<1:35:37, 52.64s/it]"
     ]
    },
    {
     "name": "stderr",
     "output_type": "stream",
     "text": [
      "\r\n",
      "Train:   2%|▏         | 2/110 [00:57<44:09, 24.53s/it]  "
     ]
    },
    {
     "name": "stderr",
     "output_type": "stream",
     "text": [
      "\r\n",
      "Train:   3%|▎         | 3/110 [01:02<27:46, 15.57s/it]"
     ]
    },
    {
     "name": "stderr",
     "output_type": "stream",
     "text": [
      "\r\n",
      "Train:   4%|▎         | 4/110 [01:07<20:09, 11.41s/it]"
     ]
    },
    {
     "name": "stderr",
     "output_type": "stream",
     "text": [
      "\r\n",
      "Train:   5%|▍         | 5/110 [01:48<38:34, 22.04s/it]"
     ]
    },
    {
     "name": "stderr",
     "output_type": "stream",
     "text": [
      "\r\n",
      "Train:   5%|▌         | 6/110 [01:53<28:07, 16.23s/it]"
     ]
    },
    {
     "name": "stderr",
     "output_type": "stream",
     "text": [
      "\r\n",
      "Train:   6%|▋         | 7/110 [01:59<22:19, 13.00s/it]"
     ]
    },
    {
     "name": "stderr",
     "output_type": "stream",
     "text": [
      "\r\n",
      "Train:   7%|▋         | 8/110 [02:04<17:51, 10.50s/it]"
     ]
    },
    {
     "name": "stderr",
     "output_type": "stream",
     "text": [
      "\r\n",
      "Train:   8%|▊         | 9/110 [02:41<31:40, 18.82s/it]"
     ]
    },
    {
     "name": "stderr",
     "output_type": "stream",
     "text": [
      "\r\n",
      "Train:   9%|▉         | 10/110 [02:46<24:10, 14.50s/it]"
     ]
    },
    {
     "name": "stderr",
     "output_type": "stream",
     "text": [
      "\r\n",
      "Train:  10%|█         | 11/110 [02:56<21:34, 13.07s/it]"
     ]
    },
    {
     "name": "stderr",
     "output_type": "stream",
     "text": [
      "\r\n",
      "Train:  11%|█         | 12/110 [03:01<17:23, 10.65s/it]"
     ]
    },
    {
     "name": "stderr",
     "output_type": "stream",
     "text": [
      "\r\n",
      "Train:  12%|█▏        | 13/110 [03:42<31:55, 19.74s/it]"
     ]
    },
    {
     "name": "stderr",
     "output_type": "stream",
     "text": [
      "\r\n",
      "Train:  13%|█▎        | 14/110 [03:47<24:31, 15.33s/it]"
     ]
    },
    {
     "name": "stderr",
     "output_type": "stream",
     "text": [
      "\r\n",
      "Train:  14%|█▎        | 15/110 [03:53<20:02, 12.65s/it]"
     ]
    },
    {
     "name": "stderr",
     "output_type": "stream",
     "text": [
      "\r\n",
      "Train:  15%|█▍        | 16/110 [03:59<16:15, 10.38s/it]"
     ]
    },
    {
     "name": "stderr",
     "output_type": "stream",
     "text": [
      "\r\n",
      "Train:  15%|█▌        | 17/110 [04:33<27:12, 17.55s/it]"
     ]
    },
    {
     "name": "stderr",
     "output_type": "stream",
     "text": [
      "\r\n",
      "Train:  16%|█▋        | 18/110 [04:39<21:51, 14.26s/it]"
     ]
    },
    {
     "name": "stderr",
     "output_type": "stream",
     "text": [
      "\r\n",
      "Train:  17%|█▋        | 19/110 [04:55<22:11, 14.63s/it]"
     ]
    },
    {
     "name": "stderr",
     "output_type": "stream",
     "text": [
      "\r\n",
      "Train:  18%|█▊        | 20/110 [05:00<17:36, 11.74s/it]"
     ]
    },
    {
     "name": "stderr",
     "output_type": "stream",
     "text": [
      "\r\n",
      "Train:  19%|█▉        | 21/110 [05:29<25:21, 17.10s/it]"
     ]
    },
    {
     "name": "stderr",
     "output_type": "stream",
     "text": [
      "\r\n",
      "Train:  20%|██        | 22/110 [05:34<19:43, 13.45s/it]"
     ]
    },
    {
     "name": "stderr",
     "output_type": "stream",
     "text": [
      "\r\n",
      "Train:  21%|██        | 23/110 [05:52<21:14, 14.65s/it]"
     ]
    },
    {
     "name": "stderr",
     "output_type": "stream",
     "text": [
      "\r\n",
      "Train:  22%|██▏       | 24/110 [05:57<16:54, 11.79s/it]"
     ]
    },
    {
     "name": "stderr",
     "output_type": "stream",
     "text": [
      "\r\n",
      "Train:  23%|██▎       | 25/110 [06:29<25:20, 17.89s/it]"
     ]
    },
    {
     "name": "stderr",
     "output_type": "stream",
     "text": [
      "\r\n",
      "Train:  24%|██▎       | 26/110 [06:34<19:39, 14.04s/it]"
     ]
    },
    {
     "name": "stderr",
     "output_type": "stream",
     "text": [
      "\r\n",
      "Train:  25%|██▍       | 27/110 [06:47<18:44, 13.55s/it]"
     ]
    },
    {
     "name": "stderr",
     "output_type": "stream",
     "text": [
      "\r\n",
      "Train:  25%|██▌       | 28/110 [06:52<15:04, 11.03s/it]"
     ]
    },
    {
     "name": "stderr",
     "output_type": "stream",
     "text": [
      "\r\n",
      "Train:  26%|██▋       | 29/110 [07:23<23:01, 17.06s/it]"
     ]
    },
    {
     "name": "stderr",
     "output_type": "stream",
     "text": [
      "\r\n",
      "Train:  27%|██▋       | 30/110 [07:28<17:55, 13.44s/it]"
     ]
    },
    {
     "name": "stderr",
     "output_type": "stream",
     "text": [
      "\r\n",
      "Train:  28%|██▊       | 31/110 [07:43<18:24, 13.98s/it]"
     ]
    },
    {
     "name": "stderr",
     "output_type": "stream",
     "text": [
      "\r\n",
      "Train:  29%|██▉       | 32/110 [07:48<14:41, 11.31s/it]"
     ]
    },
    {
     "name": "stderr",
     "output_type": "stream",
     "text": [
      "\r\n",
      "Train:  30%|███       | 33/110 [08:21<22:44, 17.73s/it]"
     ]
    },
    {
     "name": "stderr",
     "output_type": "stream",
     "text": [
      "\r\n",
      "Train:  31%|███       | 34/110 [08:26<17:36, 13.91s/it]"
     ]
    },
    {
     "name": "stderr",
     "output_type": "stream",
     "text": [
      "\r\n",
      "Train:  32%|███▏      | 35/110 [08:43<18:34, 14.86s/it]"
     ]
    },
    {
     "name": "stderr",
     "output_type": "stream",
     "text": [
      "\r\n",
      "Train:  33%|███▎      | 36/110 [08:48<14:40, 11.90s/it]"
     ]
    },
    {
     "name": "stderr",
     "output_type": "stream",
     "text": [
      "\r\n",
      "Train:  34%|███▎      | 37/110 [09:22<22:42, 18.66s/it]"
     ]
    },
    {
     "name": "stderr",
     "output_type": "stream",
     "text": [
      "\r\n",
      "Train:  35%|███▍      | 38/110 [09:27<17:29, 14.58s/it]"
     ]
    },
    {
     "name": "stderr",
     "output_type": "stream",
     "text": [
      "\r\n",
      "Train:  35%|███▌      | 39/110 [09:35<14:45, 12.48s/it]"
     ]
    },
    {
     "name": "stderr",
     "output_type": "stream",
     "text": [
      "\r\n",
      "Train:  36%|███▋      | 40/110 [09:40<11:58, 10.26s/it]"
     ]
    },
    {
     "name": "stderr",
     "output_type": "stream",
     "text": [
      "\r\n",
      "Train:  37%|███▋      | 41/110 [10:29<25:09, 21.88s/it]"
     ]
    },
    {
     "name": "stderr",
     "output_type": "stream",
     "text": [
      "\r\n",
      "Train:  38%|███▊      | 42/110 [10:34<19:01, 16.79s/it]"
     ]
    },
    {
     "name": "stderr",
     "output_type": "stream",
     "text": [
      "\r\n",
      "Train:  39%|███▉      | 43/110 [10:39<14:45, 13.21s/it]"
     ]
    },
    {
     "name": "stderr",
     "output_type": "stream",
     "text": [
      "\r\n",
      "Train:  40%|████      | 44/110 [10:44<11:49, 10.75s/it]"
     ]
    },
    {
     "name": "stderr",
     "output_type": "stream",
     "text": [
      "\r\n",
      "Train:  41%|████      | 45/110 [11:27<22:07, 20.42s/it]"
     ]
    },
    {
     "name": "stderr",
     "output_type": "stream",
     "text": [
      "\r\n",
      "Train:  42%|████▏     | 46/110 [11:32<16:52, 15.83s/it]"
     ]
    },
    {
     "name": "stderr",
     "output_type": "stream",
     "text": [
      "\r\n",
      "Train:  43%|████▎     | 47/110 [11:37<13:15, 12.63s/it]"
     ]
    },
    {
     "name": "stderr",
     "output_type": "stream",
     "text": [
      "\r\n",
      "Train:  44%|████▎     | 48/110 [11:42<10:44, 10.39s/it]"
     ]
    },
    {
     "name": "stderr",
     "output_type": "stream",
     "text": [
      "\r\n",
      "Train:  45%|████▍     | 49/110 [12:31<22:14, 21.88s/it]"
     ]
    },
    {
     "name": "stderr",
     "output_type": "stream",
     "text": [
      "\r\n",
      "Train:  45%|████▌     | 50/110 [12:36<16:47, 16.80s/it]"
     ]
    },
    {
     "name": "stderr",
     "output_type": "stream",
     "text": [
      "\r\n",
      "Train:  46%|████▋     | 51/110 [12:41<13:01, 13.25s/it]"
     ]
    },
    {
     "name": "stderr",
     "output_type": "stream",
     "text": [
      "\r\n",
      "Train:  47%|████▋     | 52/110 [12:46<10:25, 10.79s/it]"
     ]
    },
    {
     "name": "stderr",
     "output_type": "stream",
     "text": [
      "\r\n",
      "Train:  48%|████▊     | 53/110 [13:28<19:04, 20.08s/it]"
     ]
    },
    {
     "name": "stderr",
     "output_type": "stream",
     "text": [
      "\r\n",
      "Train:  49%|████▉     | 54/110 [13:33<14:31, 15.56s/it]"
     ]
    },
    {
     "name": "stderr",
     "output_type": "stream",
     "text": [
      "\r\n",
      "Train:  50%|█████     | 55/110 [13:38<11:22, 12.40s/it]"
     ]
    },
    {
     "name": "stderr",
     "output_type": "stream",
     "text": [
      "\r\n",
      "Train:  51%|█████     | 56/110 [13:43<09:11, 10.22s/it]"
     ]
    },
    {
     "name": "stderr",
     "output_type": "stream",
     "text": [
      "\r\n",
      "Train:  52%|█████▏    | 57/110 [14:22<16:39, 18.86s/it]"
     ]
    },
    {
     "name": "stderr",
     "output_type": "stream",
     "text": [
      "\r\n",
      "Train:  53%|█████▎    | 58/110 [14:27<12:42, 14.66s/it]"
     ]
    },
    {
     "name": "stderr",
     "output_type": "stream",
     "text": [
      "\r\n",
      "Train:  54%|█████▎    | 59/110 [14:32<10:00, 11.77s/it]"
     ]
    },
    {
     "name": "stderr",
     "output_type": "stream",
     "text": [
      "\r\n",
      "Train:  55%|█████▍    | 60/110 [14:37<08:07,  9.75s/it]"
     ]
    },
    {
     "name": "stderr",
     "output_type": "stream",
     "text": [
      "\r\n",
      "Train:  55%|█████▌    | 61/110 [15:19<16:00, 19.59s/it]"
     ]
    },
    {
     "name": "stderr",
     "output_type": "stream",
     "text": [
      "\r\n",
      "Train:  56%|█████▋    | 62/110 [15:24<12:09, 15.20s/it]"
     ]
    },
    {
     "name": "stderr",
     "output_type": "stream",
     "text": [
      "\r\n",
      "Train:  57%|█████▋    | 63/110 [15:29<09:30, 12.15s/it]"
     ]
    },
    {
     "name": "stderr",
     "output_type": "stream",
     "text": [
      "\r\n",
      "Train:  58%|█████▊    | 64/110 [15:34<07:39, 10.00s/it]"
     ]
    },
    {
     "name": "stderr",
     "output_type": "stream",
     "text": [
      "\r\n",
      "Train:  59%|█████▉    | 65/110 [16:14<14:07, 18.84s/it]"
     ]
    },
    {
     "name": "stderr",
     "output_type": "stream",
     "text": [
      "\r\n",
      "Train:  60%|██████    | 66/110 [16:19<10:45, 14.67s/it]"
     ]
    },
    {
     "name": "stderr",
     "output_type": "stream",
     "text": [
      "\r\n",
      "Train:  61%|██████    | 67/110 [16:24<08:29, 11.85s/it]"
     ]
    },
    {
     "name": "stderr",
     "output_type": "stream",
     "text": [
      "\r\n",
      "Train:  62%|██████▏   | 68/110 [16:29<06:52,  9.82s/it]"
     ]
    },
    {
     "name": "stderr",
     "output_type": "stream",
     "text": [
      "\r\n",
      "Train:  63%|██████▎   | 69/110 [17:06<12:14, 17.93s/it]"
     ]
    },
    {
     "name": "stderr",
     "output_type": "stream",
     "text": [
      "\r\n",
      "Train:  64%|██████▎   | 70/110 [17:11<09:21, 14.04s/it]"
     ]
    },
    {
     "name": "stderr",
     "output_type": "stream",
     "text": [
      "\r\n",
      "Train:  65%|██████▍   | 71/110 [17:16<07:20, 11.30s/it]"
     ]
    },
    {
     "name": "stderr",
     "output_type": "stream",
     "text": [
      "\r\n",
      "Train:  65%|██████▌   | 72/110 [17:21<05:59,  9.47s/it]"
     ]
    },
    {
     "name": "stderr",
     "output_type": "stream",
     "text": [
      "\r\n",
      "Train:  66%|██████▋   | 73/110 [18:04<12:02, 19.52s/it]"
     ]
    },
    {
     "name": "stderr",
     "output_type": "stream",
     "text": [
      "\r\n",
      "Train:  67%|██████▋   | 74/110 [18:09<09:05, 15.16s/it]"
     ]
    },
    {
     "name": "stderr",
     "output_type": "stream",
     "text": [
      "\r\n",
      "Train:  68%|██████▊   | 75/110 [18:14<07:05, 12.15s/it]"
     ]
    },
    {
     "name": "stderr",
     "output_type": "stream",
     "text": [
      "\r\n",
      "Train:  69%|██████▉   | 76/110 [18:19<05:40, 10.02s/it]"
     ]
    },
    {
     "name": "stderr",
     "output_type": "stream",
     "text": [
      "\r\n",
      "Train:  70%|███████   | 77/110 [19:07<11:48, 21.46s/it]"
     ]
    },
    {
     "name": "stderr",
     "output_type": "stream",
     "text": [
      "\r\n",
      "Train:  71%|███████   | 78/110 [19:12<08:51, 16.61s/it]"
     ]
    },
    {
     "name": "stderr",
     "output_type": "stream",
     "text": [
      "\r\n",
      "Train:  72%|███████▏  | 79/110 [19:18<06:47, 13.15s/it]"
     ]
    },
    {
     "name": "stderr",
     "output_type": "stream",
     "text": [
      "\r\n",
      "Train:  73%|███████▎  | 80/110 [19:23<05:22, 10.75s/it]"
     ]
    },
    {
     "name": "stderr",
     "output_type": "stream",
     "text": [
      "\r\n",
      "Train:  74%|███████▎  | 81/110 [20:02<09:22, 19.40s/it]"
     ]
    },
    {
     "name": "stderr",
     "output_type": "stream",
     "text": [
      "\r\n",
      "Train:  75%|███████▍  | 82/110 [20:07<07:02, 15.08s/it]"
     ]
    },
    {
     "name": "stderr",
     "output_type": "stream",
     "text": [
      "\r\n",
      "Train:  75%|███████▌  | 83/110 [20:12<05:26, 12.08s/it]"
     ]
    },
    {
     "name": "stderr",
     "output_type": "stream",
     "text": [
      "\r\n",
      "Train:  76%|███████▋  | 84/110 [20:18<04:21, 10.04s/it]"
     ]
    },
    {
     "name": "stderr",
     "output_type": "stream",
     "text": [
      "\r\n",
      "Train:  77%|███████▋  | 85/110 [20:55<07:37, 18.31s/it]"
     ]
    },
    {
     "name": "stderr",
     "output_type": "stream",
     "text": [
      "\r\n",
      "Train:  78%|███████▊  | 86/110 [21:00<05:43, 14.30s/it]"
     ]
    },
    {
     "name": "stderr",
     "output_type": "stream",
     "text": [
      "\r\n",
      "Train:  79%|███████▉  | 87/110 [21:05<04:24, 11.51s/it]"
     ]
    },
    {
     "name": "stderr",
     "output_type": "stream",
     "text": [
      "\r\n",
      "Train:  80%|████████  | 88/110 [21:10<03:31,  9.59s/it]"
     ]
    },
    {
     "name": "stderr",
     "output_type": "stream",
     "text": [
      "\r\n",
      "Train:  81%|████████  | 89/110 [22:00<07:31, 21.51s/it]"
     ]
    },
    {
     "name": "stderr",
     "output_type": "stream",
     "text": [
      "\r\n",
      "Train:  82%|████████▏ | 90/110 [22:05<05:30, 16.55s/it]"
     ]
    },
    {
     "name": "stderr",
     "output_type": "stream",
     "text": [
      "\r\n",
      "Train:  83%|████████▎ | 91/110 [22:10<04:08, 13.05s/it]"
     ]
    },
    {
     "name": "stderr",
     "output_type": "stream",
     "text": [
      "\r\n",
      "Train:  84%|████████▎ | 92/110 [22:15<03:11, 10.66s/it]"
     ]
    },
    {
     "name": "stderr",
     "output_type": "stream",
     "text": [
      "\r\n",
      "Train:  85%|████████▍ | 93/110 [22:59<05:53, 20.76s/it]"
     ]
    },
    {
     "name": "stderr",
     "output_type": "stream",
     "text": [
      "\r\n",
      "Train:  85%|████████▌ | 94/110 [23:04<04:16, 16.01s/it]"
     ]
    },
    {
     "name": "stderr",
     "output_type": "stream",
     "text": [
      "\r\n",
      "Train:  86%|████████▋ | 95/110 [23:09<03:11, 12.75s/it]"
     ]
    },
    {
     "name": "stderr",
     "output_type": "stream",
     "text": [
      "\r\n",
      "Train:  87%|████████▋ | 96/110 [23:14<02:26, 10.47s/it]"
     ]
    },
    {
     "name": "stderr",
     "output_type": "stream",
     "text": [
      "\r\n",
      "Train:  88%|████████▊ | 97/110 [23:51<03:59, 18.41s/it]"
     ]
    },
    {
     "name": "stderr",
     "output_type": "stream",
     "text": [
      "\r\n",
      "Train:  89%|████████▉ | 98/110 [23:56<02:52, 14.36s/it]"
     ]
    },
    {
     "name": "stderr",
     "output_type": "stream",
     "text": [
      "\r\n",
      "Train:  90%|█████████ | 99/110 [24:01<02:07, 11.58s/it]"
     ]
    },
    {
     "name": "stderr",
     "output_type": "stream",
     "text": [
      "\r\n",
      "Train:  91%|█████████ | 100/110 [24:06<01:36,  9.62s/it]"
     ]
    },
    {
     "name": "stderr",
     "output_type": "stream",
     "text": [
      "\r\n",
      "Train:  92%|█████████▏| 101/110 [24:46<02:47, 18.57s/it]"
     ]
    },
    {
     "name": "stderr",
     "output_type": "stream",
     "text": [
      "\r\n",
      "Train:  93%|█████████▎| 102/110 [24:50<01:55, 14.47s/it]"
     ]
    },
    {
     "name": "stderr",
     "output_type": "stream",
     "text": [
      "\r\n",
      "Train:  94%|█████████▎| 103/110 [24:56<01:21, 11.66s/it]"
     ]
    },
    {
     "name": "stderr",
     "output_type": "stream",
     "text": [
      "\r\n",
      "Train:  95%|█████████▍| 104/110 [25:01<00:58,  9.68s/it]"
     ]
    },
    {
     "name": "stderr",
     "output_type": "stream",
     "text": [
      "\r\n",
      "Train:  95%|█████████▌| 105/110 [25:30<01:18, 15.72s/it]"
     ]
    },
    {
     "name": "stderr",
     "output_type": "stream",
     "text": [
      "\r\n",
      "Train:  96%|█████████▋| 106/110 [25:35<00:49, 12.37s/it]"
     ]
    },
    {
     "name": "stderr",
     "output_type": "stream",
     "text": [
      "\r\n",
      "Train:  97%|█████████▋| 107/110 [25:40<00:30, 10.05s/it]"
     ]
    },
    {
     "name": "stderr",
     "output_type": "stream",
     "text": [
      "\r\n",
      "Train:  98%|█████████▊| 108/110 [25:44<00:16,  8.46s/it]"
     ]
    },
    {
     "name": "stderr",
     "output_type": "stream",
     "text": [
      "\r\n",
      "Train:  99%|█████████▉| 109/110 [26:09<00:13, 13.25s/it]"
     ]
    },
    {
     "name": "stderr",
     "output_type": "stream",
     "text": [
      "\r\n",
      "Train: 100%|██████████| 110/110 [26:09<00:00, 14.27s/it]"
     ]
    },
    {
     "name": "stderr",
     "output_type": "stream",
     "text": [
      "\n"
     ]
    },
    {
     "name": "stdout",
     "output_type": "stream",
     "text": [
      "  Train Loss: 1.0279, Acc: 0.4642\n"
     ]
    },
    {
     "name": "stderr",
     "output_type": "stream",
     "text": [
      "\r\n",
      "Val:   0%|          | 0/28 [00:00<?, ?it/s]"
     ]
    },
    {
     "name": "stderr",
     "output_type": "stream",
     "text": [
      "\r\n",
      "Val:   4%|▎         | 1/28 [00:58<26:31, 58.93s/it]"
     ]
    },
    {
     "name": "stderr",
     "output_type": "stream",
     "text": [
      "\r\n",
      "Val:   7%|▋         | 2/28 [01:04<11:49, 27.30s/it]"
     ]
    },
    {
     "name": "stderr",
     "output_type": "stream",
     "text": [
      "\r\n",
      "Val:  11%|█         | 3/28 [01:08<07:06, 17.06s/it]"
     ]
    },
    {
     "name": "stderr",
     "output_type": "stream",
     "text": [
      "\r\n",
      "Val:  14%|█▍        | 4/28 [01:14<04:56, 12.36s/it]"
     ]
    },
    {
     "name": "stderr",
     "output_type": "stream",
     "text": [
      "\r\n",
      "Val:  18%|█▊        | 5/28 [01:58<09:12, 24.01s/it]"
     ]
    },
    {
     "name": "stderr",
     "output_type": "stream",
     "text": [
      "\r\n",
      "Val:  21%|██▏       | 6/28 [02:03<06:24, 17.48s/it]"
     ]
    },
    {
     "name": "stderr",
     "output_type": "stream",
     "text": [
      "\r\n",
      "Val:  25%|██▌       | 7/28 [02:08<04:40, 13.34s/it]"
     ]
    },
    {
     "name": "stderr",
     "output_type": "stream",
     "text": [
      "\r\n",
      "Val:  29%|██▊       | 8/28 [02:13<03:33, 10.65s/it]"
     ]
    },
    {
     "name": "stderr",
     "output_type": "stream",
     "text": [
      "\r\n",
      "Val:  32%|███▏      | 9/28 [02:50<06:00, 18.98s/it]"
     ]
    },
    {
     "name": "stderr",
     "output_type": "stream",
     "text": [
      "\r\n",
      "Val:  36%|███▌      | 10/28 [02:55<04:22, 14.57s/it]"
     ]
    },
    {
     "name": "stderr",
     "output_type": "stream",
     "text": [
      "\r\n",
      "Val:  39%|███▉      | 11/28 [03:00<03:17, 11.60s/it]"
     ]
    },
    {
     "name": "stderr",
     "output_type": "stream",
     "text": [
      "\r\n",
      "Val:  43%|████▎     | 12/28 [03:05<02:33,  9.57s/it]"
     ]
    },
    {
     "name": "stderr",
     "output_type": "stream",
     "text": [
      "\r\n",
      "Val:  46%|████▋     | 13/28 [03:45<04:45, 19.05s/it]"
     ]
    },
    {
     "name": "stderr",
     "output_type": "stream",
     "text": [
      "\r\n",
      "Val:  50%|█████     | 14/28 [03:50<03:25, 14.71s/it]"
     ]
    },
    {
     "name": "stderr",
     "output_type": "stream",
     "text": [
      "\r\n",
      "Val:  54%|█████▎    | 15/28 [03:55<02:32, 11.72s/it]"
     ]
    },
    {
     "name": "stderr",
     "output_type": "stream",
     "text": [
      "\r\n",
      "Val:  57%|█████▋    | 16/28 [04:00<01:55,  9.63s/it]"
     ]
    },
    {
     "name": "stderr",
     "output_type": "stream",
     "text": [
      "\r\n",
      "Val:  61%|██████    | 17/28 [04:40<03:28, 18.91s/it]"
     ]
    },
    {
     "name": "stderr",
     "output_type": "stream",
     "text": [
      "\r\n",
      "Val:  64%|██████▍   | 18/28 [04:47<02:34, 15.41s/it]"
     ]
    },
    {
     "name": "stderr",
     "output_type": "stream",
     "text": [
      "\r\n",
      "Val:  68%|██████▊   | 19/28 [04:52<01:50, 12.26s/it]"
     ]
    },
    {
     "name": "stderr",
     "output_type": "stream",
     "text": [
      "\r\n",
      "Val:  71%|███████▏  | 20/28 [04:57<01:19, 10.00s/it]"
     ]
    },
    {
     "name": "stderr",
     "output_type": "stream",
     "text": [
      "\r\n",
      "Val:  75%|███████▌  | 21/28 [05:32<02:02, 17.50s/it]"
     ]
    },
    {
     "name": "stderr",
     "output_type": "stream",
     "text": [
      "\r\n",
      "Val:  79%|███████▊  | 22/28 [05:40<01:27, 14.66s/it]"
     ]
    },
    {
     "name": "stderr",
     "output_type": "stream",
     "text": [
      "\r\n",
      "Val:  82%|████████▏ | 23/28 [05:45<00:58, 11.71s/it]"
     ]
    },
    {
     "name": "stderr",
     "output_type": "stream",
     "text": [
      "\r\n",
      "Val:  86%|████████▌ | 24/28 [05:50<00:38,  9.67s/it]"
     ]
    },
    {
     "name": "stderr",
     "output_type": "stream",
     "text": [
      "\r\n",
      "Val:  89%|████████▉ | 25/28 [06:25<00:51, 17.30s/it]"
     ]
    },
    {
     "name": "stderr",
     "output_type": "stream",
     "text": [
      "\r\n",
      "Val:  93%|█████████▎| 26/28 [06:29<00:26, 13.42s/it]"
     ]
    },
    {
     "name": "stderr",
     "output_type": "stream",
     "text": [
      "\r\n",
      "Val:  96%|█████████▋| 27/28 [06:34<00:10, 10.71s/it]"
     ]
    },
    {
     "name": "stderr",
     "output_type": "stream",
     "text": [
      "\r\n",
      "Val: 100%|██████████| 28/28 [06:35<00:00,  8.01s/it]"
     ]
    },
    {
     "name": "stderr",
     "output_type": "stream",
     "text": [
      "\r\n",
      "Val: 100%|██████████| 28/28 [06:35<00:00, 14.14s/it]"
     ]
    },
    {
     "name": "stderr",
     "output_type": "stream",
     "text": [
      "\n"
     ]
    },
    {
     "name": "stdout",
     "output_type": "stream",
     "text": [
      "  Val Loss: 1.0335, Acc: 0.4325\n",
      "Epoch 8/10\n"
     ]
    },
    {
     "name": "stderr",
     "output_type": "stream",
     "text": [
      "\r\n",
      "Train:   0%|          | 0/110 [00:00<?, ?it/s]"
     ]
    },
    {
     "name": "stderr",
     "output_type": "stream",
     "text": [
      "\r\n",
      "Train:   1%|          | 1/110 [00:54<1:39:42, 54.89s/it]"
     ]
    },
    {
     "name": "stderr",
     "output_type": "stream",
     "text": [
      "\r\n",
      "Train:   2%|▏         | 2/110 [00:59<45:57, 25.53s/it]  "
     ]
    },
    {
     "name": "stderr",
     "output_type": "stream",
     "text": [
      "\r\n",
      "Train:   3%|▎         | 3/110 [01:04<28:51, 16.18s/it]"
     ]
    },
    {
     "name": "stderr",
     "output_type": "stream",
     "text": [
      "\r\n",
      "Train:   4%|▎         | 4/110 [01:10<20:52, 11.82s/it]"
     ]
    },
    {
     "name": "stderr",
     "output_type": "stream",
     "text": [
      "\r\n",
      "Train:   5%|▍         | 5/110 [01:48<37:32, 21.45s/it]"
     ]
    },
    {
     "name": "stderr",
     "output_type": "stream",
     "text": [
      "\r\n",
      "Train:   5%|▌         | 6/110 [01:53<27:27, 15.84s/it]"
     ]
    },
    {
     "name": "stderr",
     "output_type": "stream",
     "text": [
      "\r\n",
      "Train:   6%|▋         | 7/110 [01:58<21:05, 12.28s/it]"
     ]
    },
    {
     "name": "stderr",
     "output_type": "stream",
     "text": [
      "\r\n",
      "Train:   7%|▋         | 8/110 [02:04<17:20, 10.20s/it]"
     ]
    },
    {
     "name": "stderr",
     "output_type": "stream",
     "text": [
      "\r\n",
      "Train:   8%|▊         | 9/110 [02:48<35:09, 20.89s/it]"
     ]
    },
    {
     "name": "stderr",
     "output_type": "stream",
     "text": [
      "\r\n",
      "Train:   9%|▉         | 10/110 [02:53<26:39, 15.99s/it]"
     ]
    },
    {
     "name": "stderr",
     "output_type": "stream",
     "text": [
      "\r\n",
      "Train:  10%|█         | 11/110 [02:58<20:51, 12.64s/it]"
     ]
    },
    {
     "name": "stderr",
     "output_type": "stream",
     "text": [
      "\r\n",
      "Train:  11%|█         | 12/110 [03:08<19:20, 11.85s/it]"
     ]
    },
    {
     "name": "stderr",
     "output_type": "stream",
     "text": [
      "\r\n",
      "Train:  12%|█▏        | 13/110 [03:44<30:39, 18.96s/it]"
     ]
    },
    {
     "name": "stderr",
     "output_type": "stream",
     "text": [
      "\r\n",
      "Train:  13%|█▎        | 14/110 [03:48<23:32, 14.71s/it]"
     ]
    },
    {
     "name": "stderr",
     "output_type": "stream",
     "text": [
      "\r\n",
      "Train:  14%|█▎        | 15/110 [03:53<18:40, 11.80s/it]"
     ]
    },
    {
     "name": "stderr",
     "output_type": "stream",
     "text": [
      "\r\n",
      "Train:  15%|█▍        | 16/110 [04:04<17:57, 11.46s/it]"
     ]
    },
    {
     "name": "stderr",
     "output_type": "stream",
     "text": [
      "\r\n",
      "Train:  15%|█▌        | 17/110 [04:39<28:31, 18.41s/it]"
     ]
    },
    {
     "name": "stderr",
     "output_type": "stream",
     "text": [
      "\r\n",
      "Train:  16%|█▋        | 18/110 [04:44<22:04, 14.40s/it]"
     ]
    },
    {
     "name": "stderr",
     "output_type": "stream",
     "text": [
      "\r\n",
      "Train:  17%|█▋        | 19/110 [04:49<17:35, 11.59s/it]"
     ]
    },
    {
     "name": "stderr",
     "output_type": "stream",
     "text": [
      "\r\n",
      "Train:  18%|█▊        | 20/110 [05:01<17:35, 11.72s/it]"
     ]
    },
    {
     "name": "stderr",
     "output_type": "stream",
     "text": [
      "\r\n",
      "Train:  19%|█▉        | 21/110 [05:26<23:25, 15.79s/it]"
     ]
    },
    {
     "name": "stderr",
     "output_type": "stream",
     "text": [
      "\r\n",
      "Train:  20%|██        | 22/110 [05:31<18:23, 12.54s/it]"
     ]
    },
    {
     "name": "stderr",
     "output_type": "stream",
     "text": [
      "\r\n",
      "Train:  21%|██        | 23/110 [05:36<14:54, 10.28s/it]"
     ]
    },
    {
     "name": "stderr",
     "output_type": "stream",
     "text": [
      "\r\n",
      "Train:  22%|██▏       | 24/110 [05:54<18:07, 12.65s/it]"
     ]
    },
    {
     "name": "stderr",
     "output_type": "stream",
     "text": [
      "\r\n",
      "Train:  23%|██▎       | 25/110 [06:21<24:00, 16.94s/it]"
     ]
    },
    {
     "name": "stderr",
     "output_type": "stream",
     "text": [
      "\r\n",
      "Train:  24%|██▎       | 26/110 [06:27<19:12, 13.72s/it]"
     ]
    },
    {
     "name": "stderr",
     "output_type": "stream",
     "text": [
      "\r\n",
      "Train:  25%|██▍       | 27/110 [06:33<15:25, 11.15s/it]"
     ]
    },
    {
     "name": "stderr",
     "output_type": "stream",
     "text": [
      "\r\n",
      "Train:  25%|██▌       | 28/110 [06:54<19:18, 14.12s/it]"
     ]
    },
    {
     "name": "stderr",
     "output_type": "stream",
     "text": [
      "\r\n",
      "Train:  26%|██▋       | 29/110 [07:17<22:48, 16.89s/it]"
     ]
    },
    {
     "name": "stderr",
     "output_type": "stream",
     "text": [
      "\r\n",
      "Train:  27%|██▋       | 30/110 [07:23<18:20, 13.75s/it]"
     ]
    },
    {
     "name": "stderr",
     "output_type": "stream",
     "text": [
      "\r\n",
      "Train:  28%|██▊       | 31/110 [07:29<14:42, 11.17s/it]"
     ]
    },
    {
     "name": "stderr",
     "output_type": "stream",
     "text": [
      "\r\n",
      "Train:  29%|██▉       | 32/110 [07:53<19:40, 15.13s/it]"
     ]
    },
    {
     "name": "stderr",
     "output_type": "stream",
     "text": [
      "\r\n",
      "Train:  30%|███       | 33/110 [08:04<17:58, 14.01s/it]"
     ]
    },
    {
     "name": "stderr",
     "output_type": "stream",
     "text": [
      "\r\n",
      "Train:  31%|███       | 34/110 [08:24<19:41, 15.55s/it]"
     ]
    },
    {
     "name": "stderr",
     "output_type": "stream",
     "text": [
      "\r\n",
      "Train:  32%|███▏      | 35/110 [08:29<15:28, 12.39s/it]"
     ]
    },
    {
     "name": "stderr",
     "output_type": "stream",
     "text": [
      "\r\n",
      "Train:  33%|███▎      | 36/110 [08:53<19:51, 16.11s/it]"
     ]
    },
    {
     "name": "stderr",
     "output_type": "stream",
     "text": [
      "\r\n",
      "Train:  34%|███▎      | 37/110 [08:59<15:52, 13.04s/it]"
     ]
    },
    {
     "name": "stderr",
     "output_type": "stream",
     "text": [
      "\r\n",
      "Train:  35%|███▍      | 38/110 [09:10<15:01, 12.52s/it]"
     ]
    },
    {
     "name": "stderr",
     "output_type": "stream",
     "text": [
      "\r\n",
      "Train:  35%|███▌      | 39/110 [09:17<12:36, 10.65s/it]"
     ]
    },
    {
     "name": "stderr",
     "output_type": "stream",
     "text": [
      "\r\n",
      "Train:  36%|███▋      | 40/110 [09:50<20:27, 17.53s/it]"
     ]
    },
    {
     "name": "stderr",
     "output_type": "stream",
     "text": [
      "\r\n",
      "Train:  37%|███▋      | 41/110 [09:55<15:47, 13.74s/it]"
     ]
    },
    {
     "name": "stderr",
     "output_type": "stream",
     "text": [
      "\r\n",
      "Train:  38%|███▊      | 42/110 [10:01<12:52, 11.36s/it]"
     ]
    },
    {
     "name": "stderr",
     "output_type": "stream",
     "text": [
      "\r\n",
      "Train:  39%|███▉      | 43/110 [10:10<11:43, 10.49s/it]"
     ]
    },
    {
     "name": "stderr",
     "output_type": "stream",
     "text": [
      "\r\n",
      "Train:  40%|████      | 44/110 [10:43<18:59, 17.26s/it]"
     ]
    },
    {
     "name": "stderr",
     "output_type": "stream",
     "text": [
      "\r\n",
      "Train:  41%|████      | 45/110 [10:48<14:43, 13.60s/it]"
     ]
    },
    {
     "name": "stderr",
     "output_type": "stream",
     "text": [
      "\r\n",
      "Train:  42%|████▏     | 46/110 [10:59<13:39, 12.81s/it]"
     ]
    },
    {
     "name": "stderr",
     "output_type": "stream",
     "text": [
      "\r\n",
      "Train:  43%|████▎     | 47/110 [11:08<12:25, 11.84s/it]"
     ]
    },
    {
     "name": "stderr",
     "output_type": "stream",
     "text": [
      "\r\n",
      "Train:  44%|████▎     | 48/110 [11:39<17:57, 17.39s/it]"
     ]
    },
    {
     "name": "stderr",
     "output_type": "stream",
     "text": [
      "\r\n",
      "Train:  45%|████▍     | 49/110 [11:43<13:53, 13.66s/it]"
     ]
    },
    {
     "name": "stderr",
     "output_type": "stream",
     "text": [
      "\r\n",
      "Train:  45%|████▌     | 50/110 [11:56<13:15, 13.26s/it]"
     ]
    },
    {
     "name": "stderr",
     "output_type": "stream",
     "text": [
      "\r\n",
      "Train:  46%|████▋     | 51/110 [12:01<10:38, 10.83s/it]"
     ]
    },
    {
     "name": "stderr",
     "output_type": "stream",
     "text": [
      "\r\n",
      "Train:  47%|████▋     | 52/110 [12:33<16:35, 17.17s/it]"
     ]
    },
    {
     "name": "stderr",
     "output_type": "stream",
     "text": [
      "\r\n",
      "Train:  48%|████▊     | 53/110 [12:38<12:49, 13.50s/it]"
     ]
    },
    {
     "name": "stderr",
     "output_type": "stream",
     "text": [
      "\r\n",
      "Train:  49%|████▉     | 54/110 [12:58<14:27, 15.48s/it]"
     ]
    },
    {
     "name": "stderr",
     "output_type": "stream",
     "text": [
      "\r\n",
      "Train:  50%|█████     | 55/110 [13:03<11:19, 12.35s/it]"
     ]
    },
    {
     "name": "stderr",
     "output_type": "stream",
     "text": [
      "\r\n",
      "Train:  51%|█████     | 56/110 [13:32<15:35, 17.33s/it]"
     ]
    },
    {
     "name": "stderr",
     "output_type": "stream",
     "text": [
      "\r\n",
      "Train:  52%|█████▏    | 57/110 [13:37<12:00, 13.60s/it]"
     ]
    },
    {
     "name": "stderr",
     "output_type": "stream",
     "text": [
      "\r\n",
      "Train:  53%|█████▎    | 58/110 [13:56<13:19, 15.38s/it]"
     ]
    },
    {
     "name": "stderr",
     "output_type": "stream",
     "text": [
      "\r\n",
      "Train:  54%|█████▎    | 59/110 [14:01<10:25, 12.27s/it]"
     ]
    },
    {
     "name": "stderr",
     "output_type": "stream",
     "text": [
      "\r\n",
      "Train:  55%|█████▍    | 60/110 [14:33<15:03, 18.07s/it]"
     ]
    },
    {
     "name": "stderr",
     "output_type": "stream",
     "text": [
      "\r\n",
      "Train:  55%|█████▌    | 61/110 [14:38<11:33, 14.16s/it]"
     ]
    },
    {
     "name": "stderr",
     "output_type": "stream",
     "text": [
      "\r\n",
      "Train:  56%|█████▋    | 62/110 [14:48<10:21, 12.94s/it]"
     ]
    },
    {
     "name": "stderr",
     "output_type": "stream",
     "text": [
      "\r\n",
      "Train:  57%|█████▋    | 63/110 [14:58<09:27, 12.07s/it]"
     ]
    },
    {
     "name": "stderr",
     "output_type": "stream",
     "text": [
      "\r\n",
      "Train:  58%|█████▊    | 64/110 [15:32<14:21, 18.74s/it]"
     ]
    },
    {
     "name": "stderr",
     "output_type": "stream",
     "text": [
      "\r\n",
      "Train:  59%|█████▉    | 65/110 [15:38<10:58, 14.62s/it]"
     ]
    },
    {
     "name": "stderr",
     "output_type": "stream",
     "text": [
      "\r\n",
      "Train:  60%|██████    | 66/110 [15:52<10:41, 14.58s/it]"
     ]
    },
    {
     "name": "stderr",
     "output_type": "stream",
     "text": [
      "\r\n",
      "Train:  61%|██████    | 67/110 [15:57<08:25, 11.76s/it]"
     ]
    },
    {
     "name": "stderr",
     "output_type": "stream",
     "text": [
      "\r\n",
      "Train:  62%|██████▏   | 68/110 [16:33<13:15, 18.94s/it]"
     ]
    },
    {
     "name": "stderr",
     "output_type": "stream",
     "text": [
      "\r\n",
      "Train:  63%|██████▎   | 69/110 [16:38<10:05, 14.77s/it]"
     ]
    },
    {
     "name": "stderr",
     "output_type": "stream",
     "text": [
      "\r\n",
      "Train:  64%|██████▎   | 70/110 [16:52<09:48, 14.70s/it]"
     ]
    },
    {
     "name": "stderr",
     "output_type": "stream",
     "text": [
      "\r\n",
      "Train:  65%|██████▍   | 71/110 [16:58<07:41, 11.84s/it]"
     ]
    },
    {
     "name": "stderr",
     "output_type": "stream",
     "text": [
      "\r\n",
      "Train:  65%|██████▌   | 72/110 [17:37<12:47, 20.21s/it]"
     ]
    },
    {
     "name": "stderr",
     "output_type": "stream",
     "text": [
      "\r\n",
      "Train:  66%|██████▋   | 73/110 [17:42<09:38, 15.65s/it]"
     ]
    },
    {
     "name": "stderr",
     "output_type": "stream",
     "text": [
      "\r\n",
      "Train:  67%|██████▋   | 74/110 [17:48<07:38, 12.74s/it]"
     ]
    },
    {
     "name": "stderr",
     "output_type": "stream",
     "text": [
      "\r\n",
      "Train:  68%|██████▊   | 75/110 [17:58<06:50, 11.74s/it]"
     ]
    },
    {
     "name": "stderr",
     "output_type": "stream",
     "text": [
      "\r\n",
      "Train:  69%|██████▉   | 76/110 [18:40<11:50, 20.91s/it]"
     ]
    },
    {
     "name": "stderr",
     "output_type": "stream",
     "text": [
      "\r\n",
      "Train:  70%|███████   | 77/110 [18:45<08:53, 16.16s/it]"
     ]
    },
    {
     "name": "stderr",
     "output_type": "stream",
     "text": [
      "\r\n",
      "Train:  71%|███████   | 78/110 [18:50<06:49, 12.81s/it]"
     ]
    },
    {
     "name": "stderr",
     "output_type": "stream",
     "text": [
      "\r\n",
      "Train:  72%|███████▏  | 79/110 [18:55<05:26, 10.53s/it]"
     ]
    },
    {
     "name": "stderr",
     "output_type": "stream",
     "text": [
      "\r\n",
      "Train:  73%|███████▎  | 80/110 [19:37<09:57, 19.93s/it]"
     ]
    },
    {
     "name": "stderr",
     "output_type": "stream",
     "text": [
      "\r\n",
      "Train:  74%|███████▎  | 81/110 [19:42<07:28, 15.46s/it]"
     ]
    },
    {
     "name": "stderr",
     "output_type": "stream",
     "text": [
      "\r\n",
      "Train:  75%|███████▍  | 82/110 [19:47<05:45, 12.35s/it]"
     ]
    },
    {
     "name": "stderr",
     "output_type": "stream",
     "text": [
      "\r\n",
      "Train:  75%|███████▌  | 83/110 [19:54<04:45, 10.59s/it]"
     ]
    },
    {
     "name": "stderr",
     "output_type": "stream",
     "text": [
      "\r\n",
      "Train:  76%|███████▋  | 84/110 [20:29<07:48, 18.03s/it]"
     ]
    },
    {
     "name": "stderr",
     "output_type": "stream",
     "text": [
      "\r\n",
      "Train:  77%|███████▋  | 85/110 [20:34<05:52, 14.12s/it]"
     ]
    },
    {
     "name": "stderr",
     "output_type": "stream",
     "text": [
      "\r\n",
      "Train:  78%|███████▊  | 86/110 [20:47<05:32, 13.87s/it]"
     ]
    },
    {
     "name": "stderr",
     "output_type": "stream",
     "text": [
      "\r\n",
      "Train:  79%|███████▉  | 87/110 [20:56<04:43, 12.31s/it]"
     ]
    },
    {
     "name": "stderr",
     "output_type": "stream",
     "text": [
      "\r\n",
      "Train:  80%|████████  | 88/110 [21:29<06:49, 18.61s/it]"
     ]
    },
    {
     "name": "stderr",
     "output_type": "stream",
     "text": [
      "\r\n",
      "Train:  81%|████████  | 89/110 [21:34<05:04, 14.52s/it]"
     ]
    },
    {
     "name": "stderr",
     "output_type": "stream",
     "text": [
      "\r\n",
      "Train:  82%|████████▏ | 90/110 [21:40<03:54, 11.73s/it]"
     ]
    },
    {
     "name": "stderr",
     "output_type": "stream",
     "text": [
      "\r\n",
      "Train:  83%|████████▎ | 91/110 [21:50<03:35, 11.36s/it]"
     ]
    },
    {
     "name": "stderr",
     "output_type": "stream",
     "text": [
      "\r\n",
      "Train:  84%|████████▎ | 92/110 [22:21<05:08, 17.16s/it]"
     ]
    },
    {
     "name": "stderr",
     "output_type": "stream",
     "text": [
      "\r\n",
      "Train:  85%|████████▍ | 93/110 [22:26<03:49, 13.48s/it]"
     ]
    },
    {
     "name": "stderr",
     "output_type": "stream",
     "text": [
      "\r\n",
      "Train:  85%|████████▌ | 94/110 [22:36<03:22, 12.63s/it]"
     ]
    },
    {
     "name": "stderr",
     "output_type": "stream",
     "text": [
      "\r\n",
      "Train:  86%|████████▋ | 95/110 [22:49<03:09, 12.63s/it]"
     ]
    },
    {
     "name": "stderr",
     "output_type": "stream",
     "text": [
      "\r\n",
      "Train:  87%|████████▋ | 96/110 [23:15<03:52, 16.60s/it]"
     ]
    },
    {
     "name": "stderr",
     "output_type": "stream",
     "text": [
      "\r\n",
      "Train:  88%|████████▊ | 97/110 [23:20<02:50, 13.11s/it]"
     ]
    },
    {
     "name": "stderr",
     "output_type": "stream",
     "text": [
      "\r\n",
      "Train:  89%|████████▉ | 98/110 [23:37<02:51, 14.28s/it]"
     ]
    },
    {
     "name": "stderr",
     "output_type": "stream",
     "text": [
      "\r\n",
      "Train:  90%|█████████ | 99/110 [23:44<02:12, 12.02s/it]"
     ]
    },
    {
     "name": "stderr",
     "output_type": "stream",
     "text": [
      "\r\n",
      "Train:  91%|█████████ | 100/110 [24:07<02:33, 15.34s/it]"
     ]
    },
    {
     "name": "stderr",
     "output_type": "stream",
     "text": [
      "\r\n",
      "Train:  92%|█████████▏| 101/110 [24:12<01:50, 12.25s/it]"
     ]
    },
    {
     "name": "stderr",
     "output_type": "stream",
     "text": [
      "\r\n",
      "Train:  93%|█████████▎| 102/110 [24:33<01:58, 14.85s/it]"
     ]
    },
    {
     "name": "stderr",
     "output_type": "stream",
     "text": [
      "\r\n",
      "Train:  94%|█████████▎| 103/110 [24:40<01:29, 12.76s/it]"
     ]
    },
    {
     "name": "stderr",
     "output_type": "stream",
     "text": [
      "\r\n",
      "Train:  95%|█████████▍| 104/110 [25:02<01:33, 15.51s/it]"
     ]
    },
    {
     "name": "stderr",
     "output_type": "stream",
     "text": [
      "\r\n",
      "Train:  95%|█████████▌| 105/110 [25:07<01:01, 12.37s/it]"
     ]
    },
    {
     "name": "stderr",
     "output_type": "stream",
     "text": [
      "\r\n",
      "Train:  96%|█████████▋| 106/110 [25:30<01:01, 15.33s/it]"
     ]
    },
    {
     "name": "stderr",
     "output_type": "stream",
     "text": [
      "\r\n",
      "Train:  97%|█████████▋| 107/110 [25:35<00:36, 12.20s/it]"
     ]
    },
    {
     "name": "stderr",
     "output_type": "stream",
     "text": [
      "\r\n",
      "Train:  98%|█████████▊| 108/110 [25:52<00:27, 13.90s/it]"
     ]
    },
    {
     "name": "stderr",
     "output_type": "stream",
     "text": [
      "\r\n",
      "Train:  99%|█████████▉| 109/110 [25:57<00:11, 11.11s/it]"
     ]
    },
    {
     "name": "stderr",
     "output_type": "stream",
     "text": [
      "\r\n",
      "Train: 100%|██████████| 110/110 [25:57<00:00, 14.16s/it]"
     ]
    },
    {
     "name": "stderr",
     "output_type": "stream",
     "text": [
      "\n"
     ]
    },
    {
     "name": "stdout",
     "output_type": "stream",
     "text": [
      "  Train Loss: 1.0179, Acc: 0.4533\n"
     ]
    },
    {
     "name": "stderr",
     "output_type": "stream",
     "text": [
      "\r\n",
      "Val:   0%|          | 0/28 [00:00<?, ?it/s]"
     ]
    },
    {
     "name": "stderr",
     "output_type": "stream",
     "text": [
      "\r\n",
      "Val:   4%|▎         | 1/28 [01:00<27:14, 60.55s/it]"
     ]
    },
    {
     "name": "stderr",
     "output_type": "stream",
     "text": [
      "\r\n",
      "Val:   7%|▋         | 2/28 [01:05<12:01, 27.74s/it]"
     ]
    },
    {
     "name": "stderr",
     "output_type": "stream",
     "text": [
      "\r\n",
      "Val:  11%|█         | 3/28 [01:10<07:13, 17.33s/it]"
     ]
    },
    {
     "name": "stderr",
     "output_type": "stream",
     "text": [
      "\r\n",
      "Val:  14%|█▍        | 4/28 [01:15<04:58, 12.45s/it]"
     ]
    },
    {
     "name": "stderr",
     "output_type": "stream",
     "text": [
      "\r\n",
      "Val:  18%|█▊        | 5/28 [02:01<09:25, 24.57s/it]"
     ]
    },
    {
     "name": "stderr",
     "output_type": "stream",
     "text": [
      "\r\n",
      "Val:  21%|██▏       | 6/28 [02:05<06:31, 17.81s/it]"
     ]
    },
    {
     "name": "stderr",
     "output_type": "stream",
     "text": [
      "\r\n",
      "Val:  25%|██▌       | 7/28 [02:10<04:44, 13.54s/it]"
     ]
    },
    {
     "name": "stderr",
     "output_type": "stream",
     "text": [
      "\r\n",
      "Val:  29%|██▊       | 8/28 [02:15<03:35, 10.77s/it]"
     ]
    },
    {
     "name": "stderr",
     "output_type": "stream",
     "text": [
      "\r\n",
      "Val:  32%|███▏      | 9/28 [02:53<06:05, 19.24s/it]"
     ]
    },
    {
     "name": "stderr",
     "output_type": "stream",
     "text": [
      "\r\n",
      "Val:  36%|███▌      | 10/28 [02:58<04:26, 14.79s/it]"
     ]
    },
    {
     "name": "stderr",
     "output_type": "stream",
     "text": [
      "\r\n",
      "Val:  39%|███▉      | 11/28 [03:03<03:19, 11.73s/it]"
     ]
    },
    {
     "name": "stderr",
     "output_type": "stream",
     "text": [
      "\r\n",
      "Val:  43%|████▎     | 12/28 [03:07<02:34,  9.65s/it]"
     ]
    },
    {
     "name": "stderr",
     "output_type": "stream",
     "text": [
      "\r\n",
      "Val:  46%|████▋     | 13/28 [03:52<05:02, 20.16s/it]"
     ]
    },
    {
     "name": "stderr",
     "output_type": "stream",
     "text": [
      "\r\n",
      "Val:  50%|█████     | 14/28 [03:57<03:38, 15.58s/it]"
     ]
    },
    {
     "name": "stderr",
     "output_type": "stream",
     "text": [
      "\r\n",
      "Val:  54%|█████▎    | 15/28 [04:01<02:39, 12.30s/it]"
     ]
    },
    {
     "name": "stderr",
     "output_type": "stream",
     "text": [
      "\r\n",
      "Val:  57%|█████▋    | 16/28 [04:06<02:00, 10.08s/it]"
     ]
    },
    {
     "name": "stderr",
     "output_type": "stream",
     "text": [
      "\r\n",
      "Val:  61%|██████    | 17/28 [04:48<03:35, 19.59s/it]"
     ]
    },
    {
     "name": "stderr",
     "output_type": "stream",
     "text": [
      "\r\n",
      "Val:  64%|██████▍   | 18/28 [04:55<02:37, 15.75s/it]"
     ]
    },
    {
     "name": "stderr",
     "output_type": "stream",
     "text": [
      "\r\n",
      "Val:  68%|██████▊   | 19/28 [05:00<01:52, 12.47s/it]"
     ]
    },
    {
     "name": "stderr",
     "output_type": "stream",
     "text": [
      "\r\n",
      "Val:  71%|███████▏  | 20/28 [05:05<01:21, 10.20s/it]"
     ]
    },
    {
     "name": "stderr",
     "output_type": "stream",
     "text": [
      "\r\n",
      "Val:  75%|███████▌  | 21/28 [05:40<02:03, 17.68s/it]"
     ]
    },
    {
     "name": "stderr",
     "output_type": "stream",
     "text": [
      "\r\n",
      "Val:  79%|███████▊  | 22/28 [05:48<01:29, 14.87s/it]"
     ]
    },
    {
     "name": "stderr",
     "output_type": "stream",
     "text": [
      "\r\n",
      "Val:  82%|████████▏ | 23/28 [05:53<00:59, 11.86s/it]"
     ]
    },
    {
     "name": "stderr",
     "output_type": "stream",
     "text": [
      "\r\n",
      "Val:  86%|████████▌ | 24/28 [05:58<00:39,  9.77s/it]"
     ]
    },
    {
     "name": "stderr",
     "output_type": "stream",
     "text": [
      "\r\n",
      "Val:  89%|████████▉ | 25/28 [06:34<00:53, 17.71s/it]"
     ]
    },
    {
     "name": "stderr",
     "output_type": "stream",
     "text": [
      "\r\n",
      "Val:  93%|█████████▎| 26/28 [06:38<00:27, 13.71s/it]"
     ]
    },
    {
     "name": "stderr",
     "output_type": "stream",
     "text": [
      "\r\n",
      "Val:  96%|█████████▋| 27/28 [06:43<00:10, 10.92s/it]"
     ]
    },
    {
     "name": "stderr",
     "output_type": "stream",
     "text": [
      "\r\n",
      "Val: 100%|██████████| 28/28 [06:45<00:00,  8.15s/it]"
     ]
    },
    {
     "name": "stderr",
     "output_type": "stream",
     "text": [
      "\r\n",
      "Val: 100%|██████████| 28/28 [06:45<00:00, 14.47s/it]"
     ]
    },
    {
     "name": "stderr",
     "output_type": "stream",
     "text": [
      "\n"
     ]
    },
    {
     "name": "stdout",
     "output_type": "stream",
     "text": [
      "  Val Loss: 1.5555, Acc: 0.3089\n",
      "Epoch 9/10\n"
     ]
    },
    {
     "name": "stderr",
     "output_type": "stream",
     "text": [
      "\r\n",
      "Train:   0%|          | 0/110 [00:00<?, ?it/s]"
     ]
    },
    {
     "name": "stderr",
     "output_type": "stream",
     "text": [
      "\r\n",
      "Train:   1%|          | 1/110 [00:50<1:32:24, 50.87s/it]"
     ]
    },
    {
     "name": "stderr",
     "output_type": "stream",
     "text": [
      "\r\n",
      "Train:   2%|▏         | 2/110 [01:00<47:43, 26.52s/it]  "
     ]
    },
    {
     "name": "stderr",
     "output_type": "stream",
     "text": [
      "\r\n",
      "Train:   3%|▎         | 3/110 [01:05<29:49, 16.72s/it]"
     ]
    },
    {
     "name": "stderr",
     "output_type": "stream",
     "text": [
      "\r\n",
      "Train:   4%|▎         | 4/110 [01:10<21:27, 12.14s/it]"
     ]
    },
    {
     "name": "stderr",
     "output_type": "stream",
     "text": [
      "\r\n",
      "Train:   5%|▍         | 5/110 [01:46<36:15, 20.72s/it]"
     ]
    },
    {
     "name": "stderr",
     "output_type": "stream",
     "text": [
      "\r\n",
      "Train:   5%|▌         | 6/110 [01:53<27:59, 16.14s/it]"
     ]
    },
    {
     "name": "stderr",
     "output_type": "stream",
     "text": [
      "\r\n",
      "Train:   6%|▋         | 7/110 [01:58<21:26, 12.49s/it]"
     ]
    },
    {
     "name": "stderr",
     "output_type": "stream",
     "text": [
      "\r\n",
      "Train:   7%|▋         | 8/110 [02:03<17:17, 10.18s/it]"
     ]
    },
    {
     "name": "stderr",
     "output_type": "stream",
     "text": [
      "\r\n",
      "Train:   8%|▊         | 9/110 [02:32<26:38, 15.83s/it]"
     ]
    },
    {
     "name": "stderr",
     "output_type": "stream",
     "text": [
      "\r\n",
      "Train:   9%|▉         | 10/110 [02:51<28:06, 16.87s/it]"
     ]
    },
    {
     "name": "stderr",
     "output_type": "stream",
     "text": [
      "\r\n",
      "Train:  10%|█         | 11/110 [02:56<21:53, 13.26s/it]"
     ]
    },
    {
     "name": "stderr",
     "output_type": "stream",
     "text": [
      "\r\n",
      "Train:  11%|█         | 12/110 [03:01<17:37, 10.79s/it]"
     ]
    },
    {
     "name": "stderr",
     "output_type": "stream",
     "text": [
      "\r\n",
      "Train:  12%|█▏        | 13/110 [03:25<23:37, 14.62s/it]"
     ]
    },
    {
     "name": "stderr",
     "output_type": "stream",
     "text": [
      "\r\n",
      "Train:  13%|█▎        | 14/110 [03:46<26:40, 16.67s/it]"
     ]
    },
    {
     "name": "stderr",
     "output_type": "stream",
     "text": [
      "\r\n",
      "Train:  14%|█▎        | 15/110 [03:54<22:29, 14.20s/it]"
     ]
    },
    {
     "name": "stderr",
     "output_type": "stream",
     "text": [
      "\r\n",
      "Train:  15%|█▍        | 16/110 [04:00<18:04, 11.54s/it]"
     ]
    },
    {
     "name": "stderr",
     "output_type": "stream",
     "text": [
      "\r\n",
      "Train:  15%|█▌        | 17/110 [04:23<23:09, 14.94s/it]"
     ]
    },
    {
     "name": "stderr",
     "output_type": "stream",
     "text": [
      "\r\n",
      "Train:  16%|█▋        | 18/110 [04:44<25:41, 16.76s/it]"
     ]
    },
    {
     "name": "stderr",
     "output_type": "stream",
     "text": [
      "\r\n",
      "Train:  17%|█▋        | 19/110 [04:54<22:33, 14.88s/it]"
     ]
    },
    {
     "name": "stderr",
     "output_type": "stream",
     "text": [
      "\r\n",
      "Train:  18%|█▊        | 20/110 [04:59<17:53, 11.93s/it]"
     ]
    },
    {
     "name": "stderr",
     "output_type": "stream",
     "text": [
      "\r\n",
      "Train:  19%|█▉        | 21/110 [05:24<23:33, 15.88s/it]"
     ]
    },
    {
     "name": "stderr",
     "output_type": "stream",
     "text": [
      "\r\n",
      "Train:  20%|██        | 22/110 [05:47<26:07, 17.81s/it]"
     ]
    },
    {
     "name": "stderr",
     "output_type": "stream",
     "text": [
      "\r\n",
      "Train:  21%|██        | 23/110 [05:52<20:25, 14.09s/it]"
     ]
    },
    {
     "name": "stderr",
     "output_type": "stream",
     "text": [
      "\r\n",
      "Train:  22%|██▏       | 24/110 [05:57<16:21, 11.41s/it]"
     ]
    },
    {
     "name": "stderr",
     "output_type": "stream",
     "text": [
      "\r\n",
      "Train:  23%|██▎       | 25/110 [06:26<23:32, 16.61s/it]"
     ]
    },
    {
     "name": "stderr",
     "output_type": "stream",
     "text": [
      "\r\n",
      "Train:  24%|██▎       | 26/110 [06:44<23:51, 17.04s/it]"
     ]
    },
    {
     "name": "stderr",
     "output_type": "stream",
     "text": [
      "\r\n",
      "Train:  25%|██▍       | 27/110 [06:49<18:36, 13.46s/it]"
     ]
    },
    {
     "name": "stderr",
     "output_type": "stream",
     "text": [
      "\r\n",
      "Train:  25%|██▌       | 28/110 [06:54<14:57, 10.95s/it]"
     ]
    },
    {
     "name": "stderr",
     "output_type": "stream",
     "text": [
      "\r\n",
      "Train:  26%|██▋       | 29/110 [07:25<22:42, 16.82s/it]"
     ]
    },
    {
     "name": "stderr",
     "output_type": "stream",
     "text": [
      "\r\n",
      "Train:  27%|██▋       | 30/110 [07:42<22:43, 17.04s/it]"
     ]
    },
    {
     "name": "stderr",
     "output_type": "stream",
     "text": [
      "\r\n",
      "Train:  28%|██▊       | 31/110 [07:47<17:42, 13.45s/it]"
     ]
    },
    {
     "name": "stderr",
     "output_type": "stream",
     "text": [
      "\r\n",
      "Train:  29%|██▉       | 32/110 [07:52<14:14, 10.96s/it]"
     ]
    },
    {
     "name": "stderr",
     "output_type": "stream",
     "text": [
      "\r\n",
      "Train:  30%|███       | 33/110 [08:25<22:17, 17.36s/it]"
     ]
    },
    {
     "name": "stderr",
     "output_type": "stream",
     "text": [
      "\r\n",
      "Train:  31%|███       | 34/110 [08:42<21:47, 17.21s/it]"
     ]
    },
    {
     "name": "stderr",
     "output_type": "stream",
     "text": [
      "\r\n",
      "Train:  32%|███▏      | 35/110 [08:47<16:55, 13.54s/it]"
     ]
    },
    {
     "name": "stderr",
     "output_type": "stream",
     "text": [
      "\r\n",
      "Train:  33%|███▎      | 36/110 [08:52<13:36, 11.04s/it]"
     ]
    },
    {
     "name": "stderr",
     "output_type": "stream",
     "text": [
      "\r\n",
      "Train:  34%|███▎      | 37/110 [09:21<20:06, 16.53s/it]"
     ]
    },
    {
     "name": "stderr",
     "output_type": "stream",
     "text": [
      "\r\n",
      "Train:  35%|███▍      | 38/110 [09:43<21:57, 18.29s/it]"
     ]
    },
    {
     "name": "stderr",
     "output_type": "stream",
     "text": [
      "\r\n",
      "Train:  35%|███▌      | 39/110 [09:49<16:57, 14.33s/it]"
     ]
    },
    {
     "name": "stderr",
     "output_type": "stream",
     "text": [
      "\r\n",
      "Train:  36%|███▋      | 40/110 [09:54<13:31, 11.60s/it]"
     ]
    },
    {
     "name": "stderr",
     "output_type": "stream",
     "text": [
      "\r\n",
      "Train:  37%|███▋      | 41/110 [10:27<20:51, 18.14s/it]"
     ]
    },
    {
     "name": "stderr",
     "output_type": "stream",
     "text": [
      "\r\n",
      "Train:  38%|███▊      | 42/110 [10:40<18:38, 16.45s/it]"
     ]
    },
    {
     "name": "stderr",
     "output_type": "stream",
     "text": [
      "\r\n",
      "Train:  39%|███▉      | 43/110 [10:45<14:39, 13.12s/it]"
     ]
    },
    {
     "name": "stderr",
     "output_type": "stream",
     "text": [
      "\r\n",
      "Train:  40%|████      | 44/110 [10:50<11:49, 10.75s/it]"
     ]
    },
    {
     "name": "stderr",
     "output_type": "stream",
     "text": [
      "\r\n",
      "Train:  41%|████      | 45/110 [11:27<19:58, 18.44s/it]"
     ]
    },
    {
     "name": "stderr",
     "output_type": "stream",
     "text": [
      "\r\n",
      "Train:  42%|████▏     | 46/110 [11:44<19:11, 17.99s/it]"
     ]
    },
    {
     "name": "stderr",
     "output_type": "stream",
     "text": [
      "\r\n",
      "Train:  43%|████▎     | 47/110 [11:49<14:50, 14.14s/it]"
     ]
    },
    {
     "name": "stderr",
     "output_type": "stream",
     "text": [
      "\r\n",
      "Train:  44%|████▎     | 48/110 [11:54<11:48, 11.43s/it]"
     ]
    },
    {
     "name": "stderr",
     "output_type": "stream",
     "text": [
      "\r\n",
      "Train:  45%|████▍     | 49/110 [12:28<18:31, 18.23s/it]"
     ]
    },
    {
     "name": "stderr",
     "output_type": "stream",
     "text": [
      "\r\n",
      "Train:  45%|████▌     | 50/110 [12:38<15:49, 15.83s/it]"
     ]
    },
    {
     "name": "stderr",
     "output_type": "stream",
     "text": [
      "\r\n",
      "Train:  46%|████▋     | 51/110 [12:43<12:24, 12.61s/it]"
     ]
    },
    {
     "name": "stderr",
     "output_type": "stream",
     "text": [
      "\r\n",
      "Train:  47%|████▋     | 52/110 [12:48<10:02, 10.38s/it]"
     ]
    },
    {
     "name": "stderr",
     "output_type": "stream",
     "text": [
      "\r\n",
      "Train:  48%|████▊     | 53/110 [13:23<16:38, 17.52s/it]"
     ]
    },
    {
     "name": "stderr",
     "output_type": "stream",
     "text": [
      "\r\n",
      "Train:  49%|████▉     | 54/110 [13:41<16:41, 17.88s/it]"
     ]
    },
    {
     "name": "stderr",
     "output_type": "stream",
     "text": [
      "\r\n",
      "Train:  50%|█████     | 55/110 [13:46<12:50, 14.01s/it]"
     ]
    },
    {
     "name": "stderr",
     "output_type": "stream",
     "text": [
      "\r\n",
      "Train:  51%|█████     | 56/110 [13:51<10:12, 11.33s/it]"
     ]
    },
    {
     "name": "stderr",
     "output_type": "stream",
     "text": [
      "\r\n",
      "Train:  52%|█████▏    | 57/110 [14:19<14:12, 16.09s/it]"
     ]
    },
    {
     "name": "stderr",
     "output_type": "stream",
     "text": [
      "\r\n",
      "Train:  53%|█████▎    | 58/110 [14:44<16:14, 18.74s/it]"
     ]
    },
    {
     "name": "stderr",
     "output_type": "stream",
     "text": [
      "\r\n",
      "Train:  54%|█████▎    | 59/110 [14:49<12:27, 14.66s/it]"
     ]
    },
    {
     "name": "stderr",
     "output_type": "stream",
     "text": [
      "\r\n",
      "Train:  55%|█████▍    | 60/110 [14:54<09:50, 11.81s/it]"
     ]
    },
    {
     "name": "stderr",
     "output_type": "stream",
     "text": [
      "\r\n",
      "Train:  55%|█████▌    | 61/110 [15:21<13:29, 16.52s/it]"
     ]
    },
    {
     "name": "stderr",
     "output_type": "stream",
     "text": [
      "\r\n",
      "Train:  56%|█████▋    | 62/110 [15:40<13:48, 17.25s/it]"
     ]
    },
    {
     "name": "stderr",
     "output_type": "stream",
     "text": [
      "\r\n",
      "Train:  57%|█████▋    | 63/110 [15:45<10:38, 13.58s/it]"
     ]
    },
    {
     "name": "stderr",
     "output_type": "stream",
     "text": [
      "\r\n",
      "Train:  58%|█████▊    | 64/110 [15:50<08:26, 11.01s/it]"
     ]
    },
    {
     "name": "stderr",
     "output_type": "stream",
     "text": [
      "\r\n",
      "Train:  59%|█████▉    | 65/110 [16:26<13:41, 18.25s/it]"
     ]
    },
    {
     "name": "stderr",
     "output_type": "stream",
     "text": [
      "\r\n",
      "Train:  60%|██████    | 66/110 [16:37<11:52, 16.20s/it]"
     ]
    },
    {
     "name": "stderr",
     "output_type": "stream",
     "text": [
      "\r\n",
      "Train:  61%|██████    | 67/110 [16:43<09:28, 13.22s/it]"
     ]
    },
    {
     "name": "stderr",
     "output_type": "stream",
     "text": [
      "\r\n",
      "Train:  62%|██████▏   | 68/110 [16:49<07:35, 10.85s/it]"
     ]
    },
    {
     "name": "stderr",
     "output_type": "stream",
     "text": [
      "\r\n",
      "Train:  63%|██████▎   | 69/110 [17:29<13:27, 19.69s/it]"
     ]
    },
    {
     "name": "stderr",
     "output_type": "stream",
     "text": [
      "\r\n",
      "Train:  64%|██████▎   | 70/110 [17:38<11:00, 16.52s/it]"
     ]
    },
    {
     "name": "stderr",
     "output_type": "stream",
     "text": [
      "\r\n",
      "Train:  65%|██████▍   | 71/110 [17:43<08:29, 13.06s/it]"
     ]
    },
    {
     "name": "stderr",
     "output_type": "stream",
     "text": [
      "\r\n",
      "Train:  65%|██████▌   | 72/110 [17:48<06:49, 10.79s/it]"
     ]
    },
    {
     "name": "stderr",
     "output_type": "stream",
     "text": [
      "\r\n",
      "Train:  66%|██████▋   | 73/110 [18:28<11:56, 19.35s/it]"
     ]
    },
    {
     "name": "stderr",
     "output_type": "stream",
     "text": [
      "\r\n",
      "Train:  67%|██████▋   | 74/110 [18:33<09:01, 15.04s/it]"
     ]
    },
    {
     "name": "stderr",
     "output_type": "stream",
     "text": [
      "\r\n",
      "Train:  68%|██████▊   | 75/110 [18:42<07:47, 13.36s/it]"
     ]
    },
    {
     "name": "stderr",
     "output_type": "stream",
     "text": [
      "\r\n",
      "Train:  69%|██████▉   | 76/110 [18:47<06:09, 10.88s/it]"
     ]
    },
    {
     "name": "stderr",
     "output_type": "stream",
     "text": [
      "\r\n",
      "Train:  70%|███████   | 77/110 [19:27<10:44, 19.52s/it]"
     ]
    },
    {
     "name": "stderr",
     "output_type": "stream",
     "text": [
      "\r\n",
      "Train:  71%|███████   | 78/110 [19:32<08:06, 15.20s/it]"
     ]
    },
    {
     "name": "stderr",
     "output_type": "stream",
     "text": [
      "\r\n",
      "Train:  72%|███████▏  | 79/110 [19:40<06:46, 13.10s/it]"
     ]
    },
    {
     "name": "stderr",
     "output_type": "stream",
     "text": [
      "\r\n",
      "Train:  73%|███████▎  | 80/110 [19:45<05:20, 10.68s/it]"
     ]
    },
    {
     "name": "stderr",
     "output_type": "stream",
     "text": [
      "\r\n",
      "Train:  74%|███████▎  | 81/110 [20:25<09:21, 19.36s/it]"
     ]
    },
    {
     "name": "stderr",
     "output_type": "stream",
     "text": [
      "\r\n",
      "Train:  75%|███████▍  | 82/110 [20:30<07:00, 15.04s/it]"
     ]
    },
    {
     "name": "stderr",
     "output_type": "stream",
     "text": [
      "\r\n",
      "Train:  75%|███████▌  | 83/110 [20:41<06:14, 13.87s/it]"
     ]
    },
    {
     "name": "stderr",
     "output_type": "stream",
     "text": [
      "\r\n",
      "Train:  76%|███████▋  | 84/110 [20:46<04:52, 11.25s/it]"
     ]
    },
    {
     "name": "stderr",
     "output_type": "stream",
     "text": [
      "\r\n",
      "Train:  77%|███████▋  | 85/110 [21:29<08:39, 20.78s/it]"
     ]
    },
    {
     "name": "stderr",
     "output_type": "stream",
     "text": [
      "\r\n",
      "Train:  78%|███████▊  | 86/110 [21:34<06:24, 16.02s/it]"
     ]
    },
    {
     "name": "stderr",
     "output_type": "stream",
     "text": [
      "\r\n",
      "Train:  79%|███████▉  | 87/110 [21:39<04:51, 12.68s/it]"
     ]
    },
    {
     "name": "stderr",
     "output_type": "stream",
     "text": [
      "\r\n",
      "Train:  80%|████████  | 88/110 [21:44<03:48, 10.39s/it]"
     ]
    },
    {
     "name": "stderr",
     "output_type": "stream",
     "text": [
      "\r\n",
      "Train:  81%|████████  | 89/110 [22:23<06:40, 19.05s/it]"
     ]
    },
    {
     "name": "stderr",
     "output_type": "stream",
     "text": [
      "\r\n",
      "Train:  82%|████████▏ | 90/110 [22:32<05:21, 16.07s/it]"
     ]
    },
    {
     "name": "stderr",
     "output_type": "stream",
     "text": [
      "\r\n",
      "Train:  83%|████████▎ | 91/110 [22:37<04:02, 12.78s/it]"
     ]
    },
    {
     "name": "stderr",
     "output_type": "stream",
     "text": [
      "\r\n",
      "Train:  84%|████████▎ | 92/110 [22:46<03:24, 11.37s/it]"
     ]
    },
    {
     "name": "stderr",
     "output_type": "stream",
     "text": [
      "\r\n",
      "Train:  85%|████████▍ | 93/110 [23:14<04:41, 16.54s/it]"
     ]
    },
    {
     "name": "stderr",
     "output_type": "stream",
     "text": [
      "\r\n",
      "Train:  85%|████████▌ | 94/110 [23:33<04:36, 17.29s/it]"
     ]
    },
    {
     "name": "stderr",
     "output_type": "stream",
     "text": [
      "\r\n",
      "Train:  86%|████████▋ | 95/110 [23:38<03:24, 13.63s/it]"
     ]
    },
    {
     "name": "stderr",
     "output_type": "stream",
     "text": [
      "\r\n",
      "Train:  87%|████████▋ | 96/110 [23:45<02:42, 11.59s/it]"
     ]
    },
    {
     "name": "stderr",
     "output_type": "stream",
     "text": [
      "\r\n",
      "Train:  88%|████████▊ | 97/110 [24:14<03:39, 16.86s/it]"
     ]
    },
    {
     "name": "stderr",
     "output_type": "stream",
     "text": [
      "\r\n",
      "Train:  89%|████████▉ | 98/110 [24:33<03:28, 17.36s/it]"
     ]
    },
    {
     "name": "stderr",
     "output_type": "stream",
     "text": [
      "\r\n",
      "Train:  90%|█████████ | 99/110 [24:38<02:30, 13.66s/it]"
     ]
    },
    {
     "name": "stderr",
     "output_type": "stream",
     "text": [
      "\r\n",
      "Train:  91%|█████████ | 100/110 [24:43<01:51, 11.19s/it]"
     ]
    },
    {
     "name": "stderr",
     "output_type": "stream",
     "text": [
      "\r\n",
      "Train:  92%|█████████▏| 101/110 [25:09<02:19, 15.53s/it]"
     ]
    },
    {
     "name": "stderr",
     "output_type": "stream",
     "text": [
      "\r\n",
      "Train:  93%|█████████▎| 102/110 [25:35<02:29, 18.74s/it]"
     ]
    },
    {
     "name": "stderr",
     "output_type": "stream",
     "text": [
      "\r\n",
      "Train:  94%|█████████▎| 103/110 [25:40<01:42, 14.59s/it]"
     ]
    },
    {
     "name": "stderr",
     "output_type": "stream",
     "text": [
      "\r\n",
      "Train:  95%|█████████▍| 104/110 [25:45<01:10, 11.76s/it]"
     ]
    },
    {
     "name": "stderr",
     "output_type": "stream",
     "text": [
      "\r\n",
      "Train:  95%|█████████▌| 105/110 [26:05<01:10, 14.05s/it]"
     ]
    },
    {
     "name": "stderr",
     "output_type": "stream",
     "text": [
      "\r\n",
      "Train:  96%|█████████▋| 106/110 [26:24<01:02, 15.59s/it]"
     ]
    },
    {
     "name": "stderr",
     "output_type": "stream",
     "text": [
      "\r\n",
      "Train:  97%|█████████▋| 107/110 [26:28<00:36, 12.31s/it]"
     ]
    },
    {
     "name": "stderr",
     "output_type": "stream",
     "text": [
      "\r\n",
      "Train:  98%|█████████▊| 108/110 [26:36<00:21, 10.92s/it]"
     ]
    },
    {
     "name": "stderr",
     "output_type": "stream",
     "text": [
      "\r\n",
      "Train:  99%|█████████▉| 109/110 [26:52<00:12, 12.34s/it]"
     ]
    },
    {
     "name": "stderr",
     "output_type": "stream",
     "text": [
      "\r\n",
      "Train: 100%|██████████| 110/110 [26:52<00:00, 14.66s/it]"
     ]
    },
    {
     "name": "stderr",
     "output_type": "stream",
     "text": [
      "\n"
     ]
    },
    {
     "name": "stdout",
     "output_type": "stream",
     "text": [
      "  Train Loss: 1.0035, Acc: 0.4688\n"
     ]
    },
    {
     "name": "stderr",
     "output_type": "stream",
     "text": [
      "\r\n",
      "Val:   0%|          | 0/28 [00:00<?, ?it/s]"
     ]
    },
    {
     "name": "stderr",
     "output_type": "stream",
     "text": [
      "\r\n",
      "Val:   4%|▎         | 1/28 [01:03<28:21, 63.01s/it]"
     ]
    },
    {
     "name": "stderr",
     "output_type": "stream",
     "text": [
      "\r\n",
      "Val:   7%|▋         | 2/28 [01:07<12:28, 28.79s/it]"
     ]
    },
    {
     "name": "stderr",
     "output_type": "stream",
     "text": [
      "\r\n",
      "Val:  11%|█         | 3/28 [01:12<07:27, 17.92s/it]"
     ]
    },
    {
     "name": "stderr",
     "output_type": "stream",
     "text": [
      "\r\n",
      "Val:  14%|█▍        | 4/28 [01:17<05:08, 12.83s/it]"
     ]
    },
    {
     "name": "stderr",
     "output_type": "stream",
     "text": [
      "\r\n",
      "Val:  18%|█▊        | 5/28 [02:07<09:57, 25.98s/it]"
     ]
    },
    {
     "name": "stderr",
     "output_type": "stream",
     "text": [
      "\r\n",
      "Val:  21%|██▏       | 6/28 [02:11<06:52, 18.77s/it]"
     ]
    },
    {
     "name": "stderr",
     "output_type": "stream",
     "text": [
      "\r\n",
      "Val:  25%|██▌       | 7/28 [02:17<05:01, 14.35s/it]"
     ]
    },
    {
     "name": "stderr",
     "output_type": "stream",
     "text": [
      "\r\n",
      "Val:  29%|██▊       | 8/28 [02:22<03:46, 11.35s/it]"
     ]
    },
    {
     "name": "stderr",
     "output_type": "stream",
     "text": [
      "\r\n",
      "Val:  32%|███▏      | 9/28 [03:01<06:24, 20.24s/it]"
     ]
    },
    {
     "name": "stderr",
     "output_type": "stream",
     "text": [
      "\r\n",
      "Val:  36%|███▌      | 10/28 [03:06<04:38, 15.46s/it]"
     ]
    },
    {
     "name": "stderr",
     "output_type": "stream",
     "text": [
      "\r\n",
      "Val:  39%|███▉      | 11/28 [03:11<03:27, 12.22s/it]"
     ]
    },
    {
     "name": "stderr",
     "output_type": "stream",
     "text": [
      "\r\n",
      "Val:  43%|████▎     | 12/28 [03:16<02:40, 10.01s/it]"
     ]
    },
    {
     "name": "stderr",
     "output_type": "stream",
     "text": [
      "\r\n",
      "Val:  46%|████▋     | 13/28 [03:59<05:00, 20.00s/it]"
     ]
    },
    {
     "name": "stderr",
     "output_type": "stream",
     "text": [
      "\r\n",
      "Val:  50%|█████     | 14/28 [04:04<03:35, 15.41s/it]"
     ]
    },
    {
     "name": "stderr",
     "output_type": "stream",
     "text": [
      "\r\n",
      "Val:  54%|█████▎    | 15/28 [04:09<02:38, 12.22s/it]"
     ]
    },
    {
     "name": "stderr",
     "output_type": "stream",
     "text": [
      "\r\n",
      "Val:  57%|█████▋    | 16/28 [04:13<02:00, 10.01s/it]"
     ]
    },
    {
     "name": "stderr",
     "output_type": "stream",
     "text": [
      "\r\n",
      "Val:  61%|██████    | 17/28 [04:56<03:38, 19.86s/it]"
     ]
    },
    {
     "name": "stderr",
     "output_type": "stream",
     "text": [
      "\r\n",
      "Val:  64%|██████▍   | 18/28 [05:01<02:34, 15.41s/it]"
     ]
    },
    {
     "name": "stderr",
     "output_type": "stream",
     "text": [
      "\r\n",
      "Val:  68%|██████▊   | 19/28 [05:06<01:49, 12.21s/it]"
     ]
    },
    {
     "name": "stderr",
     "output_type": "stream",
     "text": [
      "\r\n",
      "Val:  71%|███████▏  | 20/28 [05:11<01:20, 10.03s/it]"
     ]
    },
    {
     "name": "stderr",
     "output_type": "stream",
     "text": [
      "\r\n",
      "Val:  75%|███████▌  | 21/28 [05:51<02:13, 19.00s/it]"
     ]
    },
    {
     "name": "stderr",
     "output_type": "stream",
     "text": [
      "\r\n",
      "Val:  79%|███████▊  | 22/28 [05:56<01:28, 14.77s/it]"
     ]
    },
    {
     "name": "stderr",
     "output_type": "stream",
     "text": [
      "\r\n",
      "Val:  82%|████████▏ | 23/28 [06:01<00:58, 11.77s/it]"
     ]
    },
    {
     "name": "stderr",
     "output_type": "stream",
     "text": [
      "\r\n",
      "Val:  86%|████████▌ | 24/28 [06:05<00:38,  9.69s/it]"
     ]
    },
    {
     "name": "stderr",
     "output_type": "stream",
     "text": [
      "\r\n",
      "Val:  89%|████████▉ | 25/28 [06:46<00:56, 18.89s/it]"
     ]
    },
    {
     "name": "stderr",
     "output_type": "stream",
     "text": [
      "\r\n",
      "Val:  93%|█████████▎| 26/28 [06:50<00:29, 14.53s/it]"
     ]
    },
    {
     "name": "stderr",
     "output_type": "stream",
     "text": [
      "\r\n",
      "Val:  96%|█████████▋| 27/28 [06:55<00:11, 11.60s/it]"
     ]
    },
    {
     "name": "stderr",
     "output_type": "stream",
     "text": [
      "\r\n",
      "Val: 100%|██████████| 28/28 [06:57<00:00,  8.63s/it]"
     ]
    },
    {
     "name": "stderr",
     "output_type": "stream",
     "text": [
      "\r\n",
      "Val: 100%|██████████| 28/28 [06:57<00:00, 14.90s/it]"
     ]
    },
    {
     "name": "stderr",
     "output_type": "stream",
     "text": [
      "\n"
     ]
    },
    {
     "name": "stdout",
     "output_type": "stream",
     "text": [
      "  Val Loss: 1.0648, Acc: 0.4508\n",
      "Epoch 10/10\n"
     ]
    },
    {
     "name": "stderr",
     "output_type": "stream",
     "text": [
      "\r\n",
      "Train:   0%|          | 0/110 [00:00<?, ?it/s]"
     ]
    },
    {
     "name": "stderr",
     "output_type": "stream",
     "text": [
      "\r\n",
      "Train:   1%|          | 1/110 [01:00<1:50:05, 60.60s/it]"
     ]
    },
    {
     "name": "stderr",
     "output_type": "stream",
     "text": [
      "\r\n",
      "Train:   2%|▏         | 2/110 [01:05<50:20, 27.96s/it]  "
     ]
    },
    {
     "name": "stderr",
     "output_type": "stream",
     "text": [
      "\r\n",
      "Train:   3%|▎         | 3/110 [01:10<31:14, 17.52s/it]"
     ]
    },
    {
     "name": "stderr",
     "output_type": "stream",
     "text": [
      "\r\n",
      "Train:   4%|▎         | 4/110 [01:16<22:22, 12.66s/it]"
     ]
    },
    {
     "name": "stderr",
     "output_type": "stream",
     "text": [
      "\r\n",
      "Train:   5%|▍         | 5/110 [02:07<46:27, 26.55s/it]"
     ]
    },
    {
     "name": "stderr",
     "output_type": "stream",
     "text": [
      "\r\n",
      "Train:   5%|▌         | 6/110 [02:12<33:35, 19.38s/it]"
     ]
    },
    {
     "name": "stderr",
     "output_type": "stream",
     "text": [
      "\r\n",
      "Train:   6%|▋         | 7/110 [02:17<25:14, 14.70s/it]"
     ]
    },
    {
     "name": "stderr",
     "output_type": "stream",
     "text": [
      "\r\n",
      "Train:   7%|▋         | 8/110 [02:22<19:47, 11.64s/it]"
     ]
    },
    {
     "name": "stderr",
     "output_type": "stream",
     "text": [
      "\r\n",
      "Train:   8%|▊         | 9/110 [03:05<35:41, 21.21s/it]"
     ]
    },
    {
     "name": "stderr",
     "output_type": "stream",
     "text": [
      "\r\n",
      "Train:   9%|▉         | 10/110 [03:13<28:44, 17.25s/it]"
     ]
    },
    {
     "name": "stderr",
     "output_type": "stream",
     "text": [
      "\r\n",
      "Train:  10%|█         | 11/110 [03:18<22:18, 13.52s/it]"
     ]
    },
    {
     "name": "stderr",
     "output_type": "stream",
     "text": [
      "\r\n",
      "Train:  11%|█         | 12/110 [03:23<17:53, 10.95s/it]"
     ]
    },
    {
     "name": "stderr",
     "output_type": "stream",
     "text": [
      "\r\n",
      "Train:  12%|█▏        | 13/110 [04:00<30:23, 18.80s/it]"
     ]
    },
    {
     "name": "stderr",
     "output_type": "stream",
     "text": [
      "\r\n",
      "Train:  13%|█▎        | 14/110 [04:11<26:29, 16.56s/it]"
     ]
    },
    {
     "name": "stderr",
     "output_type": "stream",
     "text": [
      "\r\n",
      "Train:  14%|█▎        | 15/110 [04:16<20:43, 13.09s/it]"
     ]
    },
    {
     "name": "stderr",
     "output_type": "stream",
     "text": [
      "\r\n",
      "Train:  15%|█▍        | 16/110 [04:22<16:46, 10.71s/it]"
     ]
    },
    {
     "name": "stderr",
     "output_type": "stream",
     "text": [
      "\r\n",
      "Train:  15%|█▌        | 17/110 [05:03<31:09, 20.10s/it]"
     ]
    },
    {
     "name": "stderr",
     "output_type": "stream",
     "text": [
      "\r\n",
      "Train:  16%|█▋        | 18/110 [05:16<27:19, 17.82s/it]"
     ]
    },
    {
     "name": "stderr",
     "output_type": "stream",
     "text": [
      "\r\n",
      "Train:  17%|█▋        | 19/110 [05:21<21:10, 13.96s/it]"
     ]
    },
    {
     "name": "stderr",
     "output_type": "stream",
     "text": [
      "\r\n",
      "Train:  18%|█▊        | 20/110 [05:26<16:55, 11.28s/it]"
     ]
    },
    {
     "name": "stderr",
     "output_type": "stream",
     "text": [
      "\r\n",
      "Train:  19%|█▉        | 21/110 [05:54<24:17, 16.38s/it]"
     ]
    },
    {
     "name": "stderr",
     "output_type": "stream",
     "text": [
      "\r\n",
      "Train:  20%|██        | 22/110 [06:15<26:00, 17.73s/it]"
     ]
    },
    {
     "name": "stderr",
     "output_type": "stream",
     "text": [
      "\r\n",
      "Train:  21%|██        | 23/110 [06:20<20:09, 13.90s/it]"
     ]
    },
    {
     "name": "stderr",
     "output_type": "stream",
     "text": [
      "\r\n",
      "Train:  22%|██▏       | 24/110 [06:25<16:10, 11.28s/it]"
     ]
    },
    {
     "name": "stderr",
     "output_type": "stream",
     "text": [
      "\r\n",
      "Train:  23%|██▎       | 25/110 [06:55<23:51, 16.84s/it]"
     ]
    },
    {
     "name": "stderr",
     "output_type": "stream",
     "text": [
      "\r\n",
      "Train:  24%|██▎       | 26/110 [07:12<23:29, 16.78s/it]"
     ]
    },
    {
     "name": "stderr",
     "output_type": "stream",
     "text": [
      "\r\n",
      "Train:  25%|██▍       | 27/110 [07:17<18:20, 13.25s/it]"
     ]
    },
    {
     "name": "stderr",
     "output_type": "stream",
     "text": [
      "\r\n",
      "Train:  25%|██▌       | 28/110 [07:22<14:44, 10.78s/it]"
     ]
    },
    {
     "name": "stderr",
     "output_type": "stream",
     "text": [
      "\r\n",
      "Train:  26%|██▋       | 29/110 [08:00<25:32, 18.92s/it]"
     ]
    },
    {
     "name": "stderr",
     "output_type": "stream",
     "text": [
      "\r\n",
      "Train:  27%|██▋       | 30/110 [08:12<22:32, 16.90s/it]"
     ]
    },
    {
     "name": "stderr",
     "output_type": "stream",
     "text": [
      "\r\n",
      "Train:  28%|██▊       | 31/110 [08:17<17:32, 13.32s/it]"
     ]
    },
    {
     "name": "stderr",
     "output_type": "stream",
     "text": [
      "\r\n",
      "Train:  29%|██▉       | 32/110 [08:22<14:07, 10.87s/it]"
     ]
    },
    {
     "name": "stderr",
     "output_type": "stream",
     "text": [
      "\r\n",
      "Train:  30%|███       | 33/110 [08:51<21:01, 16.38s/it]"
     ]
    },
    {
     "name": "stderr",
     "output_type": "stream",
     "text": [
      "\r\n",
      "Train:  31%|███       | 34/110 [09:13<22:57, 18.13s/it]"
     ]
    },
    {
     "name": "stderr",
     "output_type": "stream",
     "text": [
      "\r\n",
      "Train:  32%|███▏      | 35/110 [09:19<17:45, 14.20s/it]"
     ]
    },
    {
     "name": "stderr",
     "output_type": "stream",
     "text": [
      "\r\n",
      "Train:  33%|███▎      | 36/110 [09:24<14:08, 11.47s/it]"
     ]
    },
    {
     "name": "stderr",
     "output_type": "stream",
     "text": [
      "\r\n",
      "Train:  34%|███▎      | 37/110 [09:51<19:50, 16.31s/it]"
     ]
    },
    {
     "name": "stderr",
     "output_type": "stream",
     "text": [
      "\r\n",
      "Train:  35%|███▍      | 38/110 [10:08<19:44, 16.46s/it]"
     ]
    },
    {
     "name": "stderr",
     "output_type": "stream",
     "text": [
      "\r\n",
      "Train:  35%|███▌      | 39/110 [10:13<15:24, 13.03s/it]"
     ]
    },
    {
     "name": "stderr",
     "output_type": "stream",
     "text": [
      "\r\n",
      "Train:  36%|███▋      | 40/110 [10:18<12:24, 10.63s/it]"
     ]
    },
    {
     "name": "stderr",
     "output_type": "stream",
     "text": [
      "\r\n",
      "Train:  37%|███▋      | 41/110 [10:49<19:23, 16.87s/it]"
     ]
    },
    {
     "name": "stderr",
     "output_type": "stream",
     "text": [
      "\r\n",
      "Train:  38%|███▊      | 42/110 [11:06<19:01, 16.79s/it]"
     ]
    },
    {
     "name": "stderr",
     "output_type": "stream",
     "text": [
      "\r\n",
      "Train:  39%|███▉      | 43/110 [11:11<14:48, 13.26s/it]"
     ]
    },
    {
     "name": "stderr",
     "output_type": "stream",
     "text": [
      "\r\n",
      "Train:  40%|████      | 44/110 [11:16<11:54, 10.82s/it]"
     ]
    },
    {
     "name": "stderr",
     "output_type": "stream",
     "text": [
      "\r\n",
      "Train:  41%|████      | 45/110 [11:42<16:35, 15.32s/it]"
     ]
    },
    {
     "name": "stderr",
     "output_type": "stream",
     "text": [
      "\r\n",
      "Train:  42%|████▏     | 46/110 [12:03<18:00, 16.88s/it]"
     ]
    },
    {
     "name": "stderr",
     "output_type": "stream",
     "text": [
      "\r\n",
      "Train:  43%|████▎     | 47/110 [12:08<13:59, 13.33s/it]"
     ]
    },
    {
     "name": "stderr",
     "output_type": "stream",
     "text": [
      "\r\n",
      "Train:  44%|████▎     | 48/110 [12:13<11:16, 10.91s/it]"
     ]
    },
    {
     "name": "stderr",
     "output_type": "stream",
     "text": [
      "\r\n",
      "Train:  45%|████▍     | 49/110 [12:38<15:27, 15.20s/it]"
     ]
    },
    {
     "name": "stderr",
     "output_type": "stream",
     "text": [
      "\r\n",
      "Train:  45%|████▌     | 50/110 [12:58<16:34, 16.57s/it]"
     ]
    },
    {
     "name": "stderr",
     "output_type": "stream",
     "text": [
      "\r\n",
      "Train:  46%|████▋     | 51/110 [13:03<12:54, 13.13s/it]"
     ]
    },
    {
     "name": "stderr",
     "output_type": "stream",
     "text": [
      "\r\n",
      "Train:  47%|████▋     | 52/110 [13:08<10:22, 10.74s/it]"
     ]
    },
    {
     "name": "stderr",
     "output_type": "stream",
     "text": [
      "\r\n",
      "Train:  48%|████▊     | 53/110 [13:40<16:19, 17.19s/it]"
     ]
    },
    {
     "name": "stderr",
     "output_type": "stream",
     "text": [
      "\r\n",
      "Train:  49%|████▉     | 54/110 [14:04<17:43, 18.98s/it]"
     ]
    },
    {
     "name": "stderr",
     "output_type": "stream",
     "text": [
      "\r\n",
      "Train:  50%|█████     | 55/110 [14:09<13:33, 14.78s/it]"
     ]
    },
    {
     "name": "stderr",
     "output_type": "stream",
     "text": [
      "\r\n",
      "Train:  51%|█████     | 56/110 [14:14<10:42, 11.89s/it]"
     ]
    },
    {
     "name": "stderr",
     "output_type": "stream",
     "text": [
      "\r\n",
      "Train:  52%|█████▏    | 57/110 [14:41<14:38, 16.58s/it]"
     ]
    },
    {
     "name": "stderr",
     "output_type": "stream",
     "text": [
      "\r\n",
      "Train:  53%|█████▎    | 58/110 [14:57<14:02, 16.20s/it]"
     ]
    },
    {
     "name": "stderr",
     "output_type": "stream",
     "text": [
      "\r\n",
      "Train:  54%|█████▎    | 59/110 [15:02<10:57, 12.89s/it]"
     ]
    },
    {
     "name": "stderr",
     "output_type": "stream",
     "text": [
      "\r\n",
      "Train:  55%|█████▍    | 60/110 [15:07<08:46, 10.53s/it]"
     ]
    },
    {
     "name": "stderr",
     "output_type": "stream",
     "text": [
      "\r\n",
      "Train:  55%|█████▌    | 61/110 [15:41<14:32, 17.80s/it]"
     ]
    },
    {
     "name": "stderr",
     "output_type": "stream",
     "text": [
      "\r\n",
      "Train:  56%|█████▋    | 62/110 [15:53<12:41, 15.86s/it]"
     ]
    },
    {
     "name": "stderr",
     "output_type": "stream",
     "text": [
      "\r\n",
      "Train:  57%|█████▋    | 63/110 [15:58<09:50, 12.56s/it]"
     ]
    },
    {
     "name": "stderr",
     "output_type": "stream",
     "text": [
      "\r\n",
      "Train:  58%|█████▊    | 64/110 [16:03<07:54, 10.31s/it]"
     ]
    },
    {
     "name": "stderr",
     "output_type": "stream",
     "text": [
      "\r\n",
      "Train:  59%|█████▉    | 65/110 [16:48<15:33, 20.74s/it]"
     ]
    },
    {
     "name": "stderr",
     "output_type": "stream",
     "text": [
      "\r\n",
      "Train:  60%|██████    | 66/110 [16:53<11:43, 15.98s/it]"
     ]
    },
    {
     "name": "stderr",
     "output_type": "stream",
     "text": [
      "\r\n",
      "Train:  61%|██████    | 67/110 [16:58<09:05, 12.69s/it]"
     ]
    },
    {
     "name": "stderr",
     "output_type": "stream",
     "text": [
      "\r\n",
      "Train:  62%|██████▏   | 68/110 [17:03<07:18, 10.44s/it]"
     ]
    },
    {
     "name": "stderr",
     "output_type": "stream",
     "text": [
      "\r\n",
      "Train:  63%|██████▎   | 69/110 [17:42<13:06, 19.18s/it]"
     ]
    },
    {
     "name": "stderr",
     "output_type": "stream",
     "text": [
      "\r\n",
      "Train:  64%|██████▎   | 70/110 [17:47<09:56, 14.90s/it]"
     ]
    },
    {
     "name": "stderr",
     "output_type": "stream",
     "text": [
      "\r\n",
      "Train:  65%|██████▍   | 71/110 [17:52<07:45, 11.94s/it]"
     ]
    },
    {
     "name": "stderr",
     "output_type": "stream",
     "text": [
      "\r\n",
      "Train:  65%|██████▌   | 72/110 [17:57<06:15,  9.87s/it]"
     ]
    },
    {
     "name": "stderr",
     "output_type": "stream",
     "text": [
      "\r\n",
      "Train:  66%|██████▋   | 73/110 [18:39<12:00, 19.47s/it]"
     ]
    },
    {
     "name": "stderr",
     "output_type": "stream",
     "text": [
      "\r\n",
      "Train:  67%|██████▋   | 74/110 [18:51<10:11, 16.99s/it]"
     ]
    },
    {
     "name": "stderr",
     "output_type": "stream",
     "text": [
      "\r\n",
      "Train:  68%|██████▊   | 75/110 [18:56<07:49, 13.42s/it]"
     ]
    },
    {
     "name": "stderr",
     "output_type": "stream",
     "text": [
      "\r\n",
      "Train:  69%|██████▉   | 76/110 [19:01<06:12, 10.95s/it]"
     ]
    },
    {
     "name": "stderr",
     "output_type": "stream",
     "text": [
      "\r\n",
      "Train:  70%|███████   | 77/110 [19:41<10:51, 19.76s/it]"
     ]
    },
    {
     "name": "stderr",
     "output_type": "stream",
     "text": [
      "\r\n",
      "Train:  71%|███████   | 78/110 [19:46<08:09, 15.30s/it]"
     ]
    },
    {
     "name": "stderr",
     "output_type": "stream",
     "text": [
      "\r\n",
      "Train:  72%|███████▏  | 79/110 [19:51<06:19, 12.25s/it]"
     ]
    },
    {
     "name": "stderr",
     "output_type": "stream",
     "text": [
      "\r\n",
      "Train:  73%|███████▎  | 80/110 [19:57<05:09, 10.31s/it]"
     ]
    },
    {
     "name": "stderr",
     "output_type": "stream",
     "text": [
      "\r\n",
      "Train:  74%|███████▎  | 81/110 [20:46<10:32, 21.81s/it]"
     ]
    },
    {
     "name": "stderr",
     "output_type": "stream",
     "text": [
      "\r\n",
      "Train:  75%|███████▍  | 82/110 [20:51<07:50, 16.79s/it]"
     ]
    },
    {
     "name": "stderr",
     "output_type": "stream",
     "text": [
      "\r\n",
      "Train:  75%|███████▌  | 83/110 [20:56<05:58, 13.27s/it]"
     ]
    },
    {
     "name": "stderr",
     "output_type": "stream",
     "text": [
      "\r\n",
      "Train:  76%|███████▋  | 84/110 [21:01<04:41, 10.83s/it]"
     ]
    },
    {
     "name": "stderr",
     "output_type": "stream",
     "text": [
      "\r\n",
      "Train:  77%|███████▋  | 85/110 [21:44<08:31, 20.44s/it]"
     ]
    },
    {
     "name": "stderr",
     "output_type": "stream",
     "text": [
      "\r\n",
      "Train:  78%|███████▊  | 86/110 [21:49<06:18, 15.76s/it]"
     ]
    },
    {
     "name": "stderr",
     "output_type": "stream",
     "text": [
      "\r\n",
      "Train:  79%|███████▉  | 87/110 [21:54<04:48, 12.54s/it]"
     ]
    },
    {
     "name": "stderr",
     "output_type": "stream",
     "text": [
      "\r\n",
      "Train:  80%|████████  | 88/110 [21:59<03:49, 10.43s/it]"
     ]
    },
    {
     "name": "stderr",
     "output_type": "stream",
     "text": [
      "\r\n",
      "Train:  81%|████████  | 89/110 [22:39<06:44, 19.28s/it]"
     ]
    },
    {
     "name": "stderr",
     "output_type": "stream",
     "text": [
      "\r\n",
      "Train:  82%|████████▏ | 90/110 [22:44<04:59, 14.98s/it]"
     ]
    },
    {
     "name": "stderr",
     "output_type": "stream",
     "text": [
      "\r\n",
      "Train:  83%|████████▎ | 91/110 [22:49<03:47, 11.97s/it]"
     ]
    },
    {
     "name": "stderr",
     "output_type": "stream",
     "text": [
      "\r\n",
      "Train:  84%|████████▎ | 92/110 [22:54<02:58,  9.91s/it]"
     ]
    },
    {
     "name": "stderr",
     "output_type": "stream",
     "text": [
      "\r\n",
      "Train:  85%|████████▍ | 93/110 [23:40<05:54, 20.83s/it]"
     ]
    },
    {
     "name": "stderr",
     "output_type": "stream",
     "text": [
      "\r\n",
      "Train:  85%|████████▌ | 94/110 [23:45<04:16, 16.04s/it]"
     ]
    },
    {
     "name": "stderr",
     "output_type": "stream",
     "text": [
      "\r\n",
      "Train:  86%|████████▋ | 95/110 [23:50<03:11, 12.74s/it]"
     ]
    },
    {
     "name": "stderr",
     "output_type": "stream",
     "text": [
      "\r\n",
      "Train:  87%|████████▋ | 96/110 [23:55<02:26, 10.47s/it]"
     ]
    },
    {
     "name": "stderr",
     "output_type": "stream",
     "text": [
      "\r\n",
      "Train:  88%|████████▊ | 97/110 [24:41<04:32, 20.94s/it]"
     ]
    },
    {
     "name": "stderr",
     "output_type": "stream",
     "text": [
      "\r\n",
      "Train:  89%|████████▉ | 98/110 [24:46<03:13, 16.12s/it]"
     ]
    },
    {
     "name": "stderr",
     "output_type": "stream",
     "text": [
      "\r\n",
      "Train:  90%|█████████ | 99/110 [24:51<02:20, 12.78s/it]"
     ]
    },
    {
     "name": "stderr",
     "output_type": "stream",
     "text": [
      "\r\n",
      "Train:  91%|█████████ | 100/110 [24:56<01:44, 10.47s/it]"
     ]
    },
    {
     "name": "stderr",
     "output_type": "stream",
     "text": [
      "\r\n",
      "Train:  92%|█████████▏| 101/110 [25:27<02:31, 16.79s/it]"
     ]
    },
    {
     "name": "stderr",
     "output_type": "stream",
     "text": [
      "\r\n",
      "Train:  93%|█████████▎| 102/110 [25:32<01:45, 13.24s/it]"
     ]
    },
    {
     "name": "stderr",
     "output_type": "stream",
     "text": [
      "\r\n",
      "Train:  94%|█████████▎| 103/110 [25:37<01:15, 10.76s/it]"
     ]
    },
    {
     "name": "stderr",
     "output_type": "stream",
     "text": [
      "\r\n",
      "Train:  95%|█████████▍| 104/110 [25:42<00:54,  9.06s/it]"
     ]
    },
    {
     "name": "stderr",
     "output_type": "stream",
     "text": [
      "\r\n",
      "Train:  95%|█████████▌| 105/110 [26:22<01:31, 18.33s/it]"
     ]
    },
    {
     "name": "stderr",
     "output_type": "stream",
     "text": [
      "\r\n",
      "Train:  96%|█████████▋| 106/110 [26:27<00:56, 14.20s/it]"
     ]
    },
    {
     "name": "stderr",
     "output_type": "stream",
     "text": [
      "\r\n",
      "Train:  97%|█████████▋| 107/110 [26:31<00:33, 11.32s/it]"
     ]
    },
    {
     "name": "stderr",
     "output_type": "stream",
     "text": [
      "\r\n",
      "Train:  98%|█████████▊| 108/110 [26:36<00:18,  9.34s/it]"
     ]
    },
    {
     "name": "stderr",
     "output_type": "stream",
     "text": [
      "\r\n",
      "Train:  99%|█████████▉| 109/110 [26:57<00:12, 12.96s/it]"
     ]
    },
    {
     "name": "stderr",
     "output_type": "stream",
     "text": [
      "\r\n",
      "Train: 100%|██████████| 110/110 [26:58<00:00, 14.71s/it]"
     ]
    },
    {
     "name": "stderr",
     "output_type": "stream",
     "text": [
      "\n"
     ]
    },
    {
     "name": "stdout",
     "output_type": "stream",
     "text": [
      "  Train Loss: 0.9848, Acc: 0.4883\n"
     ]
    },
    {
     "name": "stderr",
     "output_type": "stream",
     "text": [
      "\r\n",
      "Val:   0%|          | 0/28 [00:00<?, ?it/s]"
     ]
    },
    {
     "name": "stderr",
     "output_type": "stream",
     "text": [
      "\r\n",
      "Val:   4%|▎         | 1/28 [00:59<26:43, 59.38s/it]"
     ]
    },
    {
     "name": "stderr",
     "output_type": "stream",
     "text": [
      "\r\n",
      "Val:   7%|▋         | 2/28 [01:04<11:49, 27.28s/it]"
     ]
    },
    {
     "name": "stderr",
     "output_type": "stream",
     "text": [
      "\r\n",
      "Val:  11%|█         | 3/28 [01:08<07:05, 17.01s/it]"
     ]
    },
    {
     "name": "stderr",
     "output_type": "stream",
     "text": [
      "\r\n",
      "Val:  14%|█▍        | 4/28 [01:13<04:52, 12.20s/it]"
     ]
    },
    {
     "name": "stderr",
     "output_type": "stream",
     "text": [
      "\r\n",
      "Val:  18%|█▊        | 5/28 [01:59<09:16, 24.20s/it]"
     ]
    },
    {
     "name": "stderr",
     "output_type": "stream",
     "text": [
      "\r\n",
      "Val:  21%|██▏       | 6/28 [02:04<06:26, 17.58s/it]"
     ]
    },
    {
     "name": "stderr",
     "output_type": "stream",
     "text": [
      "\r\n",
      "Val:  25%|██▌       | 7/28 [02:08<04:41, 13.39s/it]"
     ]
    },
    {
     "name": "stderr",
     "output_type": "stream",
     "text": [
      "\r\n",
      "Val:  29%|██▊       | 8/28 [02:13<03:33, 10.69s/it]"
     ]
    },
    {
     "name": "stderr",
     "output_type": "stream",
     "text": [
      "\r\n",
      "Val:  32%|███▏      | 9/28 [02:52<06:12, 19.58s/it]"
     ]
    },
    {
     "name": "stderr",
     "output_type": "stream",
     "text": [
      "\r\n",
      "Val:  36%|███▌      | 10/28 [02:57<04:30, 15.01s/it]"
     ]
    },
    {
     "name": "stderr",
     "output_type": "stream",
     "text": [
      "\r\n",
      "Val:  39%|███▉      | 11/28 [03:02<03:21, 11.86s/it]"
     ]
    },
    {
     "name": "stderr",
     "output_type": "stream",
     "text": [
      "\r\n",
      "Val:  43%|████▎     | 12/28 [03:07<02:36,  9.81s/it]"
     ]
    },
    {
     "name": "stderr",
     "output_type": "stream",
     "text": [
      "\r\n",
      "Val:  46%|████▋     | 13/28 [03:51<05:01, 20.09s/it]"
     ]
    },
    {
     "name": "stderr",
     "output_type": "stream",
     "text": [
      "\r\n",
      "Val:  50%|█████     | 14/28 [03:55<03:36, 15.43s/it]"
     ]
    },
    {
     "name": "stderr",
     "output_type": "stream",
     "text": [
      "\r\n",
      "Val:  54%|█████▎    | 15/28 [04:00<02:39, 12.24s/it]"
     ]
    },
    {
     "name": "stderr",
     "output_type": "stream",
     "text": [
      "\r\n",
      "Val:  57%|█████▋    | 16/28 [04:05<02:00, 10.03s/it]"
     ]
    },
    {
     "name": "stderr",
     "output_type": "stream",
     "text": [
      "\r\n",
      "Val:  61%|██████    | 17/28 [04:47<03:34, 19.50s/it]"
     ]
    },
    {
     "name": "stderr",
     "output_type": "stream",
     "text": [
      "\r\n",
      "Val:  64%|██████▍   | 18/28 [04:55<02:42, 16.30s/it]"
     ]
    },
    {
     "name": "stderr",
     "output_type": "stream",
     "text": [
      "\r\n",
      "Val:  68%|██████▊   | 19/28 [05:00<01:55, 12.83s/it]"
     ]
    },
    {
     "name": "stderr",
     "output_type": "stream",
     "text": [
      "\r\n",
      "Val:  71%|███████▏  | 20/28 [05:05<01:23, 10.43s/it]"
     ]
    },
    {
     "name": "stderr",
     "output_type": "stream",
     "text": [
      "\r\n",
      "Val:  75%|███████▌  | 21/28 [05:39<02:01, 17.39s/it]"
     ]
    },
    {
     "name": "stderr",
     "output_type": "stream",
     "text": [
      "\r\n",
      "Val:  79%|███████▊  | 22/28 [05:49<01:30, 15.15s/it]"
     ]
    },
    {
     "name": "stderr",
     "output_type": "stream",
     "text": [
      "\r\n",
      "Val:  82%|████████▏ | 23/28 [05:53<01:00, 12.03s/it]"
     ]
    },
    {
     "name": "stderr",
     "output_type": "stream",
     "text": [
      "\r\n",
      "Val:  86%|████████▌ | 24/28 [05:58<00:39,  9.89s/it]"
     ]
    },
    {
     "name": "stderr",
     "output_type": "stream",
     "text": [
      "\r\n",
      "Val:  89%|████████▉ | 25/28 [06:33<00:52, 17.35s/it]"
     ]
    },
    {
     "name": "stderr",
     "output_type": "stream",
     "text": [
      "\r\n",
      "Val:  93%|█████████▎| 26/28 [06:37<00:26, 13.47s/it]"
     ]
    },
    {
     "name": "stderr",
     "output_type": "stream",
     "text": [
      "\r\n",
      "Val:  96%|█████████▋| 27/28 [06:44<00:11, 11.33s/it]"
     ]
    },
    {
     "name": "stderr",
     "output_type": "stream",
     "text": [
      "\r\n",
      "Val: 100%|██████████| 28/28 [06:45<00:00,  8.44s/it]"
     ]
    },
    {
     "name": "stderr",
     "output_type": "stream",
     "text": [
      "\r\n",
      "Val: 100%|██████████| 28/28 [06:45<00:00, 14.50s/it]"
     ]
    },
    {
     "name": "stderr",
     "output_type": "stream",
     "text": [
      "\n"
     ]
    },
    {
     "name": "stdout",
     "output_type": "stream",
     "text": [
      "  Val Loss: 0.9788, Acc: 0.4622\n",
      "  Early stopping\n",
      "\n",
      "Fold 1 Summary:\n",
      "Best Accuracy: 0.4737\n",
      "Final Validation Loss: 0.9788\n",
      "Final Validation Accuracy: 0.4622\n",
      "Epochs Trained: 10\n",
      "\n",
      "Current Hyperparameters:\n",
      "  learning_rate: 0.0002\n",
      "  weight_decay: 1e-05\n",
      "  dropout_rate: 0.4\n",
      "  batch_size: 16\n",
      "  patch_size: 128\n",
      "  se_reduction: 8\n",
      "  num_workers: 4\n",
      "  gradient_accumulation_steps: 2\n",
      "\n",
      ">>> Fold 2/5\n"
     ]
    },
    {
     "name": "stdout",
     "output_type": "stream",
     "text": [
      "Epoch 1/10\n"
     ]
    },
    {
     "name": "stderr",
     "output_type": "stream",
     "text": [
      "\r\n",
      "Train:   0%|          | 0/110 [00:00<?, ?it/s]"
     ]
    },
    {
     "name": "stderr",
     "output_type": "stream",
     "text": [
      "\r\n",
      "Train:   1%|          | 1/110 [00:56<1:41:46, 56.02s/it]"
     ]
    },
    {
     "name": "stderr",
     "output_type": "stream",
     "text": [
      "\r\n",
      "Train:   2%|▏         | 2/110 [01:01<47:49, 26.57s/it]  "
     ]
    },
    {
     "name": "stderr",
     "output_type": "stream",
     "text": [
      "\r\n",
      "Train:   3%|▎         | 3/110 [01:07<29:57, 16.80s/it]"
     ]
    },
    {
     "name": "stderr",
     "output_type": "stream",
     "text": [
      "\r\n",
      "Train:   4%|▎         | 4/110 [01:12<21:33, 12.21s/it]"
     ]
    },
    {
     "name": "stderr",
     "output_type": "stream",
     "text": [
      "\r\n",
      "Train:   5%|▍         | 5/110 [01:57<42:02, 24.03s/it]"
     ]
    },
    {
     "name": "stderr",
     "output_type": "stream",
     "text": [
      "\r\n",
      "Train:   5%|▌         | 6/110 [02:02<30:21, 17.51s/it]"
     ]
    },
    {
     "name": "stderr",
     "output_type": "stream",
     "text": [
      "\r\n",
      "Train:   6%|▋         | 7/110 [02:07<23:02, 13.43s/it]"
     ]
    },
    {
     "name": "stderr",
     "output_type": "stream",
     "text": [
      "\r\n",
      "Train:   7%|▋         | 8/110 [02:12<18:18, 10.77s/it]"
     ]
    },
    {
     "name": "stderr",
     "output_type": "stream",
     "text": [
      "\r\n",
      "Train:   8%|▊         | 9/110 [02:47<31:08, 18.50s/it]"
     ]
    },
    {
     "name": "stderr",
     "output_type": "stream",
     "text": [
      "\r\n",
      "Train:   9%|▉         | 10/110 [02:54<24:40, 14.80s/it]"
     ]
    },
    {
     "name": "stderr",
     "output_type": "stream",
     "text": [
      "\r\n",
      "Train:  10%|█         | 11/110 [02:59<19:32, 11.84s/it]"
     ]
    },
    {
     "name": "stderr",
     "output_type": "stream",
     "text": [
      "\r\n",
      "Train:  11%|█         | 12/110 [03:04<15:58,  9.78s/it]"
     ]
    },
    {
     "name": "stderr",
     "output_type": "stream",
     "text": [
      "\r\n",
      "Train:  12%|█▏        | 13/110 [03:45<31:03, 19.21s/it]"
     ]
    },
    {
     "name": "stderr",
     "output_type": "stream",
     "text": [
      "\r\n",
      "Train:  13%|█▎        | 14/110 [03:50<23:52, 14.92s/it]"
     ]
    },
    {
     "name": "stderr",
     "output_type": "stream",
     "text": [
      "\r\n",
      "Train:  14%|█▎        | 15/110 [03:58<20:21, 12.85s/it]"
     ]
    },
    {
     "name": "stderr",
     "output_type": "stream",
     "text": [
      "\r\n",
      "Train:  15%|█▍        | 16/110 [04:03<16:29, 10.52s/it]"
     ]
    },
    {
     "name": "stderr",
     "output_type": "stream",
     "text": [
      "\r\n",
      "Train:  15%|█▌        | 17/110 [04:48<32:14, 20.80s/it]"
     ]
    },
    {
     "name": "stderr",
     "output_type": "stream",
     "text": [
      "\r\n",
      "Train:  16%|█▋        | 18/110 [04:53<24:34, 16.02s/it]"
     ]
    },
    {
     "name": "stderr",
     "output_type": "stream",
     "text": [
      "\r\n",
      "Train:  17%|█▋        | 19/110 [04:58<19:18, 12.73s/it]"
     ]
    },
    {
     "name": "stderr",
     "output_type": "stream",
     "text": [
      "\r\n",
      "Train:  18%|█▊        | 20/110 [05:03<15:45, 10.51s/it]"
     ]
    },
    {
     "name": "stderr",
     "output_type": "stream",
     "text": [
      "\r\n",
      "Train:  19%|█▉        | 21/110 [05:46<29:58, 20.21s/it]"
     ]
    },
    {
     "name": "stderr",
     "output_type": "stream",
     "text": [
      "\r\n",
      "Train:  20%|██        | 22/110 [05:51<22:55, 15.63s/it]"
     ]
    },
    {
     "name": "stderr",
     "output_type": "stream",
     "text": [
      "\r\n",
      "Train:  21%|██        | 23/110 [05:56<18:01, 12.43s/it]"
     ]
    },
    {
     "name": "stderr",
     "output_type": "stream",
     "text": [
      "\r\n",
      "Train:  22%|██▏       | 24/110 [06:01<14:42, 10.26s/it]"
     ]
    },
    {
     "name": "stderr",
     "output_type": "stream",
     "text": [
      "\r\n",
      "Train:  23%|██▎       | 25/110 [06:42<27:38, 19.52s/it]"
     ]
    },
    {
     "name": "stderr",
     "output_type": "stream",
     "text": [
      "\r\n",
      "Train:  24%|██▎       | 26/110 [06:47<21:13, 15.16s/it]"
     ]
    },
    {
     "name": "stderr",
     "output_type": "stream",
     "text": [
      "\r\n",
      "Train:  25%|██▍       | 27/110 [06:52<16:46, 12.13s/it]"
     ]
    },
    {
     "name": "stderr",
     "output_type": "stream",
     "text": [
      "\r\n",
      "Train:  25%|██▌       | 28/110 [06:57<13:41, 10.02s/it]"
     ]
    },
    {
     "name": "stderr",
     "output_type": "stream",
     "text": [
      "\r\n",
      "Train:  26%|██▋       | 29/110 [07:41<27:06, 20.08s/it]"
     ]
    },
    {
     "name": "stderr",
     "output_type": "stream",
     "text": [
      "\r\n",
      "Train:  27%|██▋       | 30/110 [07:46<20:44, 15.56s/it]"
     ]
    },
    {
     "name": "stderr",
     "output_type": "stream",
     "text": [
      "\r\n",
      "Train:  28%|██▊       | 31/110 [07:51<16:19, 12.40s/it]"
     ]
    },
    {
     "name": "stderr",
     "output_type": "stream",
     "text": [
      "\r\n",
      "Train:  29%|██▉       | 32/110 [07:56<13:14, 10.18s/it]"
     ]
    },
    {
     "name": "stderr",
     "output_type": "stream",
     "text": [
      "\r\n",
      "Train:  30%|███       | 33/110 [08:36<24:34, 19.15s/it]"
     ]
    },
    {
     "name": "stderr",
     "output_type": "stream",
     "text": [
      "\r\n",
      "Train:  31%|███       | 34/110 [08:41<18:52, 14.90s/it]"
     ]
    },
    {
     "name": "stderr",
     "output_type": "stream",
     "text": [
      "\r\n",
      "Train:  32%|███▏      | 35/110 [08:46<14:56, 11.96s/it]"
     ]
    },
    {
     "name": "stderr",
     "output_type": "stream",
     "text": [
      "\r\n",
      "Train:  33%|███▎      | 36/110 [08:51<12:15,  9.94s/it]"
     ]
    },
    {
     "name": "stderr",
     "output_type": "stream",
     "text": [
      "\r\n",
      "Train:  34%|███▎      | 37/110 [09:32<23:15, 19.12s/it]"
     ]
    },
    {
     "name": "stderr",
     "output_type": "stream",
     "text": [
      "\r\n",
      "Train:  35%|███▍      | 38/110 [09:37<17:50, 14.87s/it]"
     ]
    },
    {
     "name": "stderr",
     "output_type": "stream",
     "text": [
      "\r\n",
      "Train:  35%|███▌      | 39/110 [09:42<14:05, 11.90s/it]"
     ]
    },
    {
     "name": "stderr",
     "output_type": "stream",
     "text": [
      "\r\n",
      "Train:  36%|███▋      | 40/110 [09:47<11:28,  9.84s/it]"
     ]
    },
    {
     "name": "stderr",
     "output_type": "stream",
     "text": [
      "\r\n",
      "Train:  37%|███▋      | 41/110 [10:35<24:25, 21.25s/it]"
     ]
    },
    {
     "name": "stderr",
     "output_type": "stream",
     "text": [
      "\r\n",
      "Train:  38%|███▊      | 42/110 [10:40<18:32, 16.36s/it]"
     ]
    },
    {
     "name": "stderr",
     "output_type": "stream",
     "text": [
      "\r\n",
      "Train:  39%|███▉      | 43/110 [10:45<14:28, 12.96s/it]"
     ]
    },
    {
     "name": "stderr",
     "output_type": "stream",
     "text": [
      "\r\n",
      "Train:  40%|████      | 44/110 [10:50<11:41, 10.63s/it]"
     ]
    },
    {
     "name": "stderr",
     "output_type": "stream",
     "text": [
      "\r\n",
      "Train:  41%|████      | 45/110 [11:43<25:30, 23.55s/it]"
     ]
    },
    {
     "name": "stderr",
     "output_type": "stream",
     "text": [
      "\r\n",
      "Train:  42%|████▏     | 46/110 [11:48<19:11, 17.99s/it]"
     ]
    },
    {
     "name": "stderr",
     "output_type": "stream",
     "text": [
      "\r\n",
      "Train:  43%|████▎     | 47/110 [11:54<14:48, 14.10s/it]"
     ]
    },
    {
     "name": "stderr",
     "output_type": "stream",
     "text": [
      "\r\n",
      "Train:  44%|████▎     | 48/110 [11:59<11:48, 11.42s/it]"
     ]
    },
    {
     "name": "stderr",
     "output_type": "stream",
     "text": [
      "\r\n",
      "Train:  45%|████▍     | 49/110 [12:42<21:17, 20.94s/it]"
     ]
    },
    {
     "name": "stderr",
     "output_type": "stream",
     "text": [
      "\r\n",
      "Train:  45%|████▌     | 50/110 [12:47<16:08, 16.14s/it]"
     ]
    },
    {
     "name": "stderr",
     "output_type": "stream",
     "text": [
      "\r\n",
      "Train:  46%|████▋     | 51/110 [12:52<12:37, 12.83s/it]"
     ]
    },
    {
     "name": "stderr",
     "output_type": "stream",
     "text": [
      "\r\n",
      "Train:  47%|████▋     | 52/110 [12:57<10:09, 10.51s/it]"
     ]
    },
    {
     "name": "stderr",
     "output_type": "stream",
     "text": [
      "\r\n",
      "Train:  48%|████▊     | 53/110 [13:40<19:20, 20.36s/it]"
     ]
    },
    {
     "name": "stderr",
     "output_type": "stream",
     "text": [
      "\r\n",
      "Train:  49%|████▉     | 54/110 [13:45<14:41, 15.75s/it]"
     ]
    },
    {
     "name": "stderr",
     "output_type": "stream",
     "text": [
      "\r\n",
      "Train:  50%|█████     | 55/110 [13:50<11:28, 12.52s/it]"
     ]
    },
    {
     "name": "stderr",
     "output_type": "stream",
     "text": [
      "\r\n",
      "Train:  51%|█████     | 56/110 [13:55<09:16, 10.31s/it]"
     ]
    },
    {
     "name": "stderr",
     "output_type": "stream",
     "text": [
      "\r\n",
      "Train:  52%|█████▏    | 57/110 [14:33<16:25, 18.59s/it]"
     ]
    },
    {
     "name": "stderr",
     "output_type": "stream",
     "text": [
      "\r\n",
      "Train:  53%|█████▎    | 58/110 [14:38<12:34, 14.51s/it]"
     ]
    },
    {
     "name": "stderr",
     "output_type": "stream",
     "text": [
      "\r\n",
      "Train:  54%|█████▎    | 59/110 [14:44<09:56, 11.70s/it]"
     ]
    },
    {
     "name": "stderr",
     "output_type": "stream",
     "text": [
      "\r\n",
      "Train:  55%|█████▍    | 60/110 [14:49<08:13,  9.86s/it]"
     ]
    },
    {
     "name": "stderr",
     "output_type": "stream",
     "text": [
      "\r\n",
      "Train:  55%|█████▌    | 61/110 [15:29<15:24, 18.87s/it]"
     ]
    },
    {
     "name": "stderr",
     "output_type": "stream",
     "text": [
      "\r\n",
      "Train:  56%|█████▋    | 62/110 [15:34<11:43, 14.67s/it]"
     ]
    },
    {
     "name": "stderr",
     "output_type": "stream",
     "text": [
      "\r\n",
      "Train:  57%|█████▋    | 63/110 [15:39<09:14, 11.80s/it]"
     ]
    },
    {
     "name": "stderr",
     "output_type": "stream",
     "text": [
      "\r\n",
      "Train:  58%|█████▊    | 64/110 [15:48<08:21, 10.91s/it]"
     ]
    },
    {
     "name": "stderr",
     "output_type": "stream",
     "text": [
      "\r\n",
      "Train:  59%|█████▉    | 65/110 [16:33<15:55, 21.24s/it]"
     ]
    },
    {
     "name": "stderr",
     "output_type": "stream",
     "text": [
      "\r\n",
      "Train:  60%|██████    | 66/110 [16:38<12:00, 16.37s/it]"
     ]
    },
    {
     "name": "stderr",
     "output_type": "stream",
     "text": [
      "\r\n",
      "Train:  61%|██████    | 67/110 [16:43<09:17, 12.96s/it]"
     ]
    },
    {
     "name": "stderr",
     "output_type": "stream",
     "text": [
      "\r\n",
      "Train:  62%|██████▏   | 68/110 [16:48<07:25, 10.61s/it]"
     ]
    },
    {
     "name": "stderr",
     "output_type": "stream",
     "text": [
      "\r\n",
      "Train:  63%|██████▎   | 69/110 [17:28<13:08, 19.23s/it]"
     ]
    },
    {
     "name": "stderr",
     "output_type": "stream",
     "text": [
      "\r\n",
      "Train:  64%|██████▎   | 70/110 [17:33<09:57, 14.95s/it]"
     ]
    },
    {
     "name": "stderr",
     "output_type": "stream",
     "text": [
      "\r\n",
      "Train:  65%|██████▍   | 71/110 [17:38<07:46, 11.97s/it]"
     ]
    },
    {
     "name": "stderr",
     "output_type": "stream",
     "text": [
      "\r\n",
      "Train:  65%|██████▌   | 72/110 [17:43<06:20, 10.00s/it]"
     ]
    },
    {
     "name": "stderr",
     "output_type": "stream",
     "text": [
      "\r\n",
      "Train:  66%|██████▋   | 73/110 [18:30<12:57, 21.00s/it]"
     ]
    },
    {
     "name": "stderr",
     "output_type": "stream",
     "text": [
      "\r\n",
      "Train:  67%|██████▋   | 74/110 [18:35<09:42, 16.17s/it]"
     ]
    },
    {
     "name": "stderr",
     "output_type": "stream",
     "text": [
      "\r\n",
      "Train:  68%|██████▊   | 75/110 [18:40<07:28, 12.82s/it]"
     ]
    },
    {
     "name": "stderr",
     "output_type": "stream",
     "text": [
      "\r\n",
      "Train:  69%|██████▉   | 76/110 [18:45<05:56, 10.50s/it]"
     ]
    },
    {
     "name": "stderr",
     "output_type": "stream",
     "text": [
      "\r\n",
      "Train:  70%|███████   | 77/110 [19:29<11:21, 20.66s/it]"
     ]
    },
    {
     "name": "stderr",
     "output_type": "stream",
     "text": [
      "\r\n",
      "Train:  71%|███████   | 78/110 [19:34<08:32, 16.01s/it]"
     ]
    },
    {
     "name": "stderr",
     "output_type": "stream",
     "text": [
      "\r\n",
      "Train:  72%|███████▏  | 79/110 [19:39<06:33, 12.70s/it]"
     ]
    },
    {
     "name": "stderr",
     "output_type": "stream",
     "text": [
      "\r\n",
      "Train:  73%|███████▎  | 80/110 [19:44<05:12, 10.41s/it]"
     ]
    },
    {
     "name": "stderr",
     "output_type": "stream",
     "text": [
      "\r\n",
      "Train:  74%|███████▎  | 81/110 [20:30<10:10, 21.04s/it]"
     ]
    },
    {
     "name": "stderr",
     "output_type": "stream",
     "text": [
      "\r\n",
      "Train:  75%|███████▍  | 82/110 [20:35<07:33, 16.21s/it]"
     ]
    },
    {
     "name": "stderr",
     "output_type": "stream",
     "text": [
      "\r\n",
      "Train:  75%|███████▌  | 83/110 [20:40<05:48, 12.91s/it]"
     ]
    },
    {
     "name": "stderr",
     "output_type": "stream",
     "text": [
      "\r\n",
      "Train:  76%|███████▋  | 84/110 [20:53<05:35, 12.91s/it]"
     ]
    },
    {
     "name": "stderr",
     "output_type": "stream",
     "text": [
      "\r\n",
      "Train:  77%|███████▋  | 85/110 [21:27<07:58, 19.13s/it]"
     ]
    },
    {
     "name": "stderr",
     "output_type": "stream",
     "text": [
      "\r\n",
      "Train:  78%|███████▊  | 86/110 [21:32<05:58, 14.92s/it]"
     ]
    },
    {
     "name": "stderr",
     "output_type": "stream",
     "text": [
      "\r\n",
      "Train:  79%|███████▉  | 87/110 [21:37<04:36, 12.01s/it]"
     ]
    },
    {
     "name": "stderr",
     "output_type": "stream",
     "text": [
      "\r\n",
      "Train:  80%|████████  | 88/110 [21:56<05:12, 14.21s/it]"
     ]
    },
    {
     "name": "stderr",
     "output_type": "stream",
     "text": [
      "\r\n",
      "Train:  81%|████████  | 89/110 [22:28<06:46, 19.34s/it]"
     ]
    },
    {
     "name": "stderr",
     "output_type": "stream",
     "text": [
      "\r\n",
      "Train:  82%|████████▏ | 90/110 [22:33<05:01, 15.07s/it]"
     ]
    },
    {
     "name": "stderr",
     "output_type": "stream",
     "text": [
      "\r\n",
      "Train:  83%|████████▎ | 91/110 [22:38<03:49, 12.06s/it]"
     ]
    },
    {
     "name": "stderr",
     "output_type": "stream",
     "text": [
      "\r\n",
      "Train:  84%|████████▎ | 92/110 [22:59<04:25, 14.76s/it]"
     ]
    },
    {
     "name": "stderr",
     "output_type": "stream",
     "text": [
      "\r\n",
      "Train:  85%|████████▍ | 93/110 [23:26<05:16, 18.60s/it]"
     ]
    },
    {
     "name": "stderr",
     "output_type": "stream",
     "text": [
      "\r\n",
      "Train:  85%|████████▌ | 94/110 [23:31<03:52, 14.52s/it]"
     ]
    },
    {
     "name": "stderr",
     "output_type": "stream",
     "text": [
      "\r\n",
      "Train:  86%|████████▋ | 95/110 [23:37<02:55, 11.69s/it]"
     ]
    },
    {
     "name": "stderr",
     "output_type": "stream",
     "text": [
      "\r\n",
      "Train:  87%|████████▋ | 96/110 [24:05<03:54, 16.74s/it]"
     ]
    },
    {
     "name": "stderr",
     "output_type": "stream",
     "text": [
      "\r\n",
      "Train:  88%|████████▊ | 97/110 [24:25<03:50, 17.74s/it]"
     ]
    },
    {
     "name": "stderr",
     "output_type": "stream",
     "text": [
      "\r\n",
      "Train:  89%|████████▉ | 98/110 [24:30<02:47, 13.95s/it]"
     ]
    },
    {
     "name": "stderr",
     "output_type": "stream",
     "text": [
      "\r\n",
      "Train:  90%|█████████ | 99/110 [24:35<02:03, 11.27s/it]"
     ]
    },
    {
     "name": "stderr",
     "output_type": "stream",
     "text": [
      "\r\n",
      "Train:  91%|█████████ | 100/110 [25:02<02:39, 15.98s/it]"
     ]
    },
    {
     "name": "stderr",
     "output_type": "stream",
     "text": [
      "\r\n",
      "Train:  92%|█████████▏| 101/110 [25:20<02:28, 16.45s/it]"
     ]
    },
    {
     "name": "stderr",
     "output_type": "stream",
     "text": [
      "\r\n",
      "Train:  93%|█████████▎| 102/110 [25:25<01:44, 13.04s/it]"
     ]
    },
    {
     "name": "stderr",
     "output_type": "stream",
     "text": [
      "\r\n",
      "Train:  94%|█████████▎| 103/110 [25:30<01:14, 10.66s/it]"
     ]
    },
    {
     "name": "stderr",
     "output_type": "stream",
     "text": [
      "\r\n",
      "Train:  95%|█████████▍| 104/110 [26:07<01:51, 18.58s/it]"
     ]
    },
    {
     "name": "stderr",
     "output_type": "stream",
     "text": [
      "\r\n",
      "Train:  95%|█████████▌| 105/110 [26:21<01:26, 17.27s/it]"
     ]
    },
    {
     "name": "stderr",
     "output_type": "stream",
     "text": [
      "\r\n",
      "Train:  96%|█████████▋| 106/110 [26:26<00:53, 13.50s/it]"
     ]
    },
    {
     "name": "stderr",
     "output_type": "stream",
     "text": [
      "\r\n",
      "Train:  97%|█████████▋| 107/110 [26:31<00:32, 10.88s/it]"
     ]
    },
    {
     "name": "stderr",
     "output_type": "stream",
     "text": [
      "\r\n",
      "Train:  98%|█████████▊| 108/110 [26:48<00:25, 12.78s/it]"
     ]
    },
    {
     "name": "stderr",
     "output_type": "stream",
     "text": [
      "\r\n",
      "Train:  99%|█████████▉| 109/110 [26:59<00:12, 12.32s/it]"
     ]
    },
    {
     "name": "stderr",
     "output_type": "stream",
     "text": [
      "\r\n",
      "Train: 100%|██████████| 110/110 [26:59<00:00, 14.73s/it]"
     ]
    },
    {
     "name": "stderr",
     "output_type": "stream",
     "text": [
      "\n"
     ]
    },
    {
     "name": "stdout",
     "output_type": "stream",
     "text": [
      "  Train Loss: 1.0861, Acc: 0.3673\n"
     ]
    },
    {
     "name": "stderr",
     "output_type": "stream",
     "text": [
      "\r\n",
      "Val:   0%|          | 0/28 [00:00<?, ?it/s]"
     ]
    },
    {
     "name": "stderr",
     "output_type": "stream",
     "text": [
      "\r\n",
      "Val:   4%|▎         | 1/28 [01:01<27:45, 61.67s/it]"
     ]
    },
    {
     "name": "stderr",
     "output_type": "stream",
     "text": [
      "\r\n",
      "Val:   7%|▋         | 2/28 [01:06<12:12, 28.18s/it]"
     ]
    },
    {
     "name": "stderr",
     "output_type": "stream",
     "text": [
      "\r\n",
      "Val:  11%|█         | 3/28 [01:11<07:18, 17.52s/it]"
     ]
    },
    {
     "name": "stderr",
     "output_type": "stream",
     "text": [
      "\r\n",
      "Val:  14%|█▍        | 4/28 [01:16<05:02, 12.59s/it]"
     ]
    },
    {
     "name": "stderr",
     "output_type": "stream",
     "text": [
      "\r\n",
      "Val:  18%|█▊        | 5/28 [01:58<08:53, 23.18s/it]"
     ]
    },
    {
     "name": "stderr",
     "output_type": "stream",
     "text": [
      "\r\n",
      "Val:  21%|██▏       | 6/28 [02:03<06:12, 16.93s/it]"
     ]
    },
    {
     "name": "stderr",
     "output_type": "stream",
     "text": [
      "\r\n",
      "Val:  25%|██▌       | 7/28 [02:07<04:32, 12.95s/it]"
     ]
    },
    {
     "name": "stderr",
     "output_type": "stream",
     "text": [
      "\r\n",
      "Val:  29%|██▊       | 8/28 [02:12<03:27, 10.38s/it]"
     ]
    },
    {
     "name": "stderr",
     "output_type": "stream",
     "text": [
      "\r\n",
      "Val:  32%|███▏      | 9/28 [03:02<07:08, 22.56s/it]"
     ]
    },
    {
     "name": "stderr",
     "output_type": "stream",
     "text": [
      "\r\n",
      "Val:  36%|███▌      | 10/28 [03:06<05:07, 17.07s/it]"
     ]
    },
    {
     "name": "stderr",
     "output_type": "stream",
     "text": [
      "\r\n",
      "Val:  39%|███▉      | 11/28 [03:11<03:46, 13.33s/it]"
     ]
    },
    {
     "name": "stderr",
     "output_type": "stream",
     "text": [
      "\r\n",
      "Val:  43%|████▎     | 12/28 [03:16<02:51, 10.72s/it]"
     ]
    },
    {
     "name": "stderr",
     "output_type": "stream",
     "text": [
      "\r\n",
      "Val:  46%|████▋     | 13/28 [03:57<05:00, 20.03s/it]"
     ]
    },
    {
     "name": "stderr",
     "output_type": "stream",
     "text": [
      "\r\n",
      "Val:  50%|█████     | 14/28 [04:02<03:35, 15.40s/it]"
     ]
    },
    {
     "name": "stderr",
     "output_type": "stream",
     "text": [
      "\r\n",
      "Val:  54%|█████▎    | 15/28 [04:07<02:39, 12.23s/it]"
     ]
    },
    {
     "name": "stderr",
     "output_type": "stream",
     "text": [
      "\r\n",
      "Val:  57%|█████▋    | 16/28 [04:12<02:00, 10.02s/it]"
     ]
    },
    {
     "name": "stderr",
     "output_type": "stream",
     "text": [
      "\r\n",
      "Val:  61%|██████    | 17/28 [04:58<03:49, 20.85s/it]"
     ]
    },
    {
     "name": "stderr",
     "output_type": "stream",
     "text": [
      "\r\n",
      "Val:  64%|██████▍   | 18/28 [05:03<02:42, 16.25s/it]"
     ]
    },
    {
     "name": "stderr",
     "output_type": "stream",
     "text": [
      "\r\n",
      "Val:  68%|██████▊   | 19/28 [05:08<01:55, 12.78s/it]"
     ]
    },
    {
     "name": "stderr",
     "output_type": "stream",
     "text": [
      "\r\n",
      "Val:  71%|███████▏  | 20/28 [05:13<01:23, 10.38s/it]"
     ]
    },
    {
     "name": "stderr",
     "output_type": "stream",
     "text": [
      "\r\n",
      "Val:  75%|███████▌  | 21/28 [05:55<02:20, 20.05s/it]"
     ]
    },
    {
     "name": "stderr",
     "output_type": "stream",
     "text": [
      "\r\n",
      "Val:  79%|███████▊  | 22/28 [06:02<01:35, 15.96s/it]"
     ]
    },
    {
     "name": "stderr",
     "output_type": "stream",
     "text": [
      "\r\n",
      "Val:  82%|████████▏ | 23/28 [06:07<01:03, 12.64s/it]"
     ]
    },
    {
     "name": "stderr",
     "output_type": "stream",
     "text": [
      "\r\n",
      "Val:  86%|████████▌ | 24/28 [06:12<00:41, 10.34s/it]"
     ]
    },
    {
     "name": "stderr",
     "output_type": "stream",
     "text": [
      "\r\n",
      "Val:  89%|████████▉ | 25/28 [06:51<00:57, 19.08s/it]"
     ]
    },
    {
     "name": "stderr",
     "output_type": "stream",
     "text": [
      "\r\n",
      "Val:  93%|█████████▎| 26/28 [06:56<00:29, 14.65s/it]"
     ]
    },
    {
     "name": "stderr",
     "output_type": "stream",
     "text": [
      "\r\n",
      "Val:  96%|█████████▋| 27/28 [07:00<00:11, 11.57s/it]"
     ]
    },
    {
     "name": "stderr",
     "output_type": "stream",
     "text": [
      "\r\n",
      "Val: 100%|██████████| 28/28 [07:02<00:00,  8.61s/it]"
     ]
    },
    {
     "name": "stderr",
     "output_type": "stream",
     "text": [
      "\r\n",
      "Val: 100%|██████████| 28/28 [07:02<00:00, 15.08s/it]"
     ]
    },
    {
     "name": "stderr",
     "output_type": "stream",
     "text": [
      "\n"
     ]
    },
    {
     "name": "stdout",
     "output_type": "stream",
     "text": [
      "  Val Loss: 1.1527, Acc: 0.3684\n",
      "  + New best! Saved.\n",
      "Epoch 2/10\n"
     ]
    },
    {
     "name": "stderr",
     "output_type": "stream",
     "text": [
      "\r\n",
      "Train:   0%|          | 0/110 [00:00<?, ?it/s]"
     ]
    },
    {
     "name": "stderr",
     "output_type": "stream",
     "text": [
      "\r\n",
      "Train:   1%|          | 1/110 [01:04<1:57:17, 64.56s/it]"
     ]
    },
    {
     "name": "stderr",
     "output_type": "stream",
     "text": [
      "\r\n",
      "Train:   2%|▏         | 2/110 [01:09<53:21, 29.64s/it]  "
     ]
    },
    {
     "name": "stderr",
     "output_type": "stream",
     "text": [
      "\r\n",
      "Train:   3%|▎         | 3/110 [01:14<32:54, 18.46s/it]"
     ]
    },
    {
     "name": "stderr",
     "output_type": "stream",
     "text": [
      "\r\n",
      "Train:   4%|▎         | 4/110 [01:20<23:25, 13.26s/it]"
     ]
    },
    {
     "name": "stderr",
     "output_type": "stream",
     "text": [
      "\r\n",
      "Train:   5%|▍         | 5/110 [02:01<41:05, 23.48s/it]"
     ]
    },
    {
     "name": "stderr",
     "output_type": "stream",
     "text": [
      "\r\n",
      "Train:   5%|▌         | 6/110 [02:06<29:46, 17.18s/it]"
     ]
    },
    {
     "name": "stderr",
     "output_type": "stream",
     "text": [
      "\r\n",
      "Train:   6%|▋         | 7/110 [02:11<22:37, 13.18s/it]"
     ]
    },
    {
     "name": "stderr",
     "output_type": "stream",
     "text": [
      "\r\n",
      "Train:   7%|▋         | 8/110 [02:16<18:05, 10.64s/it]"
     ]
    },
    {
     "name": "stderr",
     "output_type": "stream",
     "text": [
      "\r\n",
      "Train:   8%|▊         | 9/110 [03:00<35:15, 20.95s/it]"
     ]
    },
    {
     "name": "stderr",
     "output_type": "stream",
     "text": [
      "\r\n",
      "Train:   9%|▉         | 10/110 [03:11<29:32, 17.73s/it]"
     ]
    },
    {
     "name": "stderr",
     "output_type": "stream",
     "text": [
      "\r\n",
      "Train:  10%|█         | 11/110 [03:16<22:53, 13.88s/it]"
     ]
    },
    {
     "name": "stderr",
     "output_type": "stream",
     "text": [
      "\r\n",
      "Train:  11%|█         | 12/110 [03:21<18:19, 11.22s/it]"
     ]
    },
    {
     "name": "stderr",
     "output_type": "stream",
     "text": [
      "\r\n",
      "Train:  12%|█▏        | 13/110 [04:03<33:05, 20.47s/it]"
     ]
    },
    {
     "name": "stderr",
     "output_type": "stream",
     "text": [
      "\r\n",
      "Train:  13%|█▎        | 14/110 [04:08<25:19, 15.82s/it]"
     ]
    },
    {
     "name": "stderr",
     "output_type": "stream",
     "text": [
      "\r\n",
      "Train:  14%|█▎        | 15/110 [04:13<19:53, 12.56s/it]"
     ]
    },
    {
     "name": "stderr",
     "output_type": "stream",
     "text": [
      "\r\n",
      "Train:  15%|█▍        | 16/110 [04:18<16:15, 10.37s/it]"
     ]
    },
    {
     "name": "stderr",
     "output_type": "stream",
     "text": [
      "\r\n",
      "Train:  15%|█▌        | 17/110 [05:03<32:26, 20.94s/it]"
     ]
    },
    {
     "name": "stderr",
     "output_type": "stream",
     "text": [
      "\r\n",
      "Train:  16%|█▋        | 18/110 [05:13<26:48, 17.48s/it]"
     ]
    },
    {
     "name": "stderr",
     "output_type": "stream",
     "text": [
      "\r\n",
      "Train:  17%|█▋        | 19/110 [05:18<20:51, 13.75s/it]"
     ]
    },
    {
     "name": "stderr",
     "output_type": "stream",
     "text": [
      "\r\n",
      "Train:  18%|█▊        | 20/110 [05:23<16:46, 11.18s/it]"
     ]
    },
    {
     "name": "stderr",
     "output_type": "stream",
     "text": [
      "\r\n",
      "Train:  19%|█▉        | 21/110 [06:07<31:16, 21.09s/it]"
     ]
    },
    {
     "name": "stderr",
     "output_type": "stream",
     "text": [
      "\r\n",
      "Train:  20%|██        | 22/110 [06:12<23:50, 16.25s/it]"
     ]
    },
    {
     "name": "stderr",
     "output_type": "stream",
     "text": [
      "\r\n",
      "Train:  21%|██        | 23/110 [06:17<18:41, 12.89s/it]"
     ]
    },
    {
     "name": "stderr",
     "output_type": "stream",
     "text": [
      "\r\n",
      "Train:  22%|██▏       | 24/110 [06:22<15:07, 10.55s/it]"
     ]
    },
    {
     "name": "stderr",
     "output_type": "stream",
     "text": [
      "\r\n",
      "Train:  23%|██▎       | 25/110 [07:06<29:05, 20.54s/it]"
     ]
    },
    {
     "name": "stderr",
     "output_type": "stream",
     "text": [
      "\r\n",
      "Train:  24%|██▎       | 26/110 [07:11<22:15, 15.89s/it]"
     ]
    },
    {
     "name": "stderr",
     "output_type": "stream",
     "text": [
      "\r\n",
      "Train:  25%|██▍       | 27/110 [07:17<17:32, 12.68s/it]"
     ]
    },
    {
     "name": "stderr",
     "output_type": "stream",
     "text": [
      "\r\n",
      "Train:  25%|██▌       | 28/110 [07:22<14:15, 10.43s/it]"
     ]
    },
    {
     "name": "stderr",
     "output_type": "stream",
     "text": [
      "\r\n",
      "Train:  26%|██▋       | 29/110 [08:08<28:39, 21.23s/it]"
     ]
    },
    {
     "name": "stderr",
     "output_type": "stream",
     "text": [
      "\r\n",
      "Train:  27%|██▋       | 30/110 [08:13<21:50, 16.38s/it]"
     ]
    },
    {
     "name": "stderr",
     "output_type": "stream",
     "text": [
      "\r\n",
      "Train:  28%|██▊       | 31/110 [08:19<17:14, 13.10s/it]"
     ]
    },
    {
     "name": "stderr",
     "output_type": "stream",
     "text": [
      "\r\n",
      "Train:  29%|██▉       | 32/110 [08:24<13:56, 10.73s/it]"
     ]
    },
    {
     "name": "stderr",
     "output_type": "stream",
     "text": [
      "\r\n",
      "Train:  30%|███       | 33/110 [09:09<27:05, 21.12s/it]"
     ]
    },
    {
     "name": "stderr",
     "output_type": "stream",
     "text": [
      "\r\n",
      "Train:  31%|███       | 34/110 [09:14<20:36, 16.27s/it]"
     ]
    },
    {
     "name": "stderr",
     "output_type": "stream",
     "text": [
      "\r\n",
      "Train:  32%|███▏      | 35/110 [09:19<16:08, 12.91s/it]"
     ]
    },
    {
     "name": "stderr",
     "output_type": "stream",
     "text": [
      "\r\n",
      "Train:  33%|███▎      | 36/110 [09:25<13:06, 10.63s/it]"
     ]
    },
    {
     "name": "stderr",
     "output_type": "stream",
     "text": [
      "\r\n",
      "Train:  34%|███▎      | 37/110 [10:06<24:20, 20.00s/it]"
     ]
    },
    {
     "name": "stderr",
     "output_type": "stream",
     "text": [
      "\r\n",
      "Train:  35%|███▍      | 38/110 [10:11<18:36, 15.50s/it]"
     ]
    },
    {
     "name": "stderr",
     "output_type": "stream",
     "text": [
      "\r\n",
      "Train:  35%|███▌      | 39/110 [10:16<14:36, 12.34s/it]"
     ]
    },
    {
     "name": "stderr",
     "output_type": "stream",
     "text": [
      "\r\n",
      "Train:  36%|███▋      | 40/110 [10:22<11:52, 10.18s/it]"
     ]
    },
    {
     "name": "stderr",
     "output_type": "stream",
     "text": [
      "\r\n",
      "Train:  37%|███▋      | 41/110 [11:08<24:15, 21.09s/it]"
     ]
    },
    {
     "name": "stderr",
     "output_type": "stream",
     "text": [
      "\r\n",
      "Train:  38%|███▊      | 42/110 [11:13<18:28, 16.30s/it]"
     ]
    },
    {
     "name": "stderr",
     "output_type": "stream",
     "text": [
      "\r\n",
      "Train:  39%|███▉      | 43/110 [11:18<14:27, 12.95s/it]"
     ]
    },
    {
     "name": "stderr",
     "output_type": "stream",
     "text": [
      "\r\n",
      "Train:  40%|████      | 44/110 [11:24<11:40, 10.62s/it]"
     ]
    },
    {
     "name": "stderr",
     "output_type": "stream",
     "text": [
      "\r\n",
      "Train:  41%|████      | 45/110 [12:02<20:25, 18.86s/it]"
     ]
    },
    {
     "name": "stderr",
     "output_type": "stream",
     "text": [
      "\r\n",
      "Train:  42%|████▏     | 46/110 [12:14<17:53, 16.77s/it]"
     ]
    },
    {
     "name": "stderr",
     "output_type": "stream",
     "text": [
      "\r\n",
      "Train:  43%|████▎     | 47/110 [12:19<13:55, 13.27s/it]"
     ]
    },
    {
     "name": "stderr",
     "output_type": "stream",
     "text": [
      "\r\n",
      "Train:  44%|████▎     | 48/110 [12:24<11:12, 10.85s/it]"
     ]
    },
    {
     "name": "stderr",
     "output_type": "stream",
     "text": [
      "\r\n",
      "Train:  45%|████▍     | 49/110 [13:01<19:04, 18.77s/it]"
     ]
    },
    {
     "name": "stderr",
     "output_type": "stream",
     "text": [
      "\r\n",
      "Train:  45%|████▌     | 50/110 [13:08<15:18, 15.32s/it]"
     ]
    },
    {
     "name": "stderr",
     "output_type": "stream",
     "text": [
      "\r\n",
      "Train:  46%|████▋     | 51/110 [13:13<12:01, 12.23s/it]"
     ]
    },
    {
     "name": "stderr",
     "output_type": "stream",
     "text": [
      "\r\n",
      "Train:  47%|████▋     | 52/110 [13:18<09:45, 10.10s/it]"
     ]
    },
    {
     "name": "stderr",
     "output_type": "stream",
     "text": [
      "\r\n",
      "Train:  48%|████▊     | 53/110 [13:56<17:30, 18.43s/it]"
     ]
    },
    {
     "name": "stderr",
     "output_type": "stream",
     "text": [
      "\r\n",
      "Train:  49%|████▉     | 54/110 [14:05<14:36, 15.64s/it]"
     ]
    },
    {
     "name": "stderr",
     "output_type": "stream",
     "text": [
      "\r\n",
      "Train:  50%|█████     | 55/110 [14:11<11:26, 12.48s/it]"
     ]
    },
    {
     "name": "stderr",
     "output_type": "stream",
     "text": [
      "\r\n",
      "Train:  51%|█████     | 56/110 [14:16<09:20, 10.37s/it]"
     ]
    },
    {
     "name": "stderr",
     "output_type": "stream",
     "text": [
      "\r\n",
      "Train:  52%|█████▏    | 57/110 [14:52<16:01, 18.15s/it]"
     ]
    },
    {
     "name": "stderr",
     "output_type": "stream",
     "text": [
      "\r\n",
      "Train:  53%|█████▎    | 58/110 [15:03<13:43, 15.83s/it]"
     ]
    },
    {
     "name": "stderr",
     "output_type": "stream",
     "text": [
      "\r\n",
      "Train:  54%|█████▎    | 59/110 [15:08<10:40, 12.56s/it]"
     ]
    },
    {
     "name": "stderr",
     "output_type": "stream",
     "text": [
      "\r\n",
      "Train:  55%|█████▍    | 60/110 [15:13<08:35, 10.31s/it]"
     ]
    },
    {
     "name": "stderr",
     "output_type": "stream",
     "text": [
      "\r\n",
      "Train:  55%|█████▌    | 61/110 [15:49<14:45, 18.08s/it]"
     ]
    },
    {
     "name": "stderr",
     "output_type": "stream",
     "text": [
      "\r\n",
      "Train:  56%|█████▋    | 62/110 [15:56<11:49, 14.78s/it]"
     ]
    },
    {
     "name": "stderr",
     "output_type": "stream",
     "text": [
      "\r\n",
      "Train:  57%|█████▋    | 63/110 [16:01<09:17, 11.85s/it]"
     ]
    },
    {
     "name": "stderr",
     "output_type": "stream",
     "text": [
      "\r\n",
      "Train:  58%|█████▊    | 64/110 [16:06<07:32,  9.84s/it]"
     ]
    },
    {
     "name": "stderr",
     "output_type": "stream",
     "text": [
      "\r\n",
      "Train:  59%|█████▉    | 65/110 [16:48<14:36, 19.48s/it]"
     ]
    },
    {
     "name": "stderr",
     "output_type": "stream",
     "text": [
      "\r\n",
      "Train:  60%|██████    | 66/110 [16:53<11:06, 15.14s/it]"
     ]
    },
    {
     "name": "stderr",
     "output_type": "stream",
     "text": [
      "\r\n",
      "Train:  61%|██████    | 67/110 [16:58<08:42, 12.16s/it]"
     ]
    },
    {
     "name": "stderr",
     "output_type": "stream",
     "text": [
      "\r\n",
      "Train:  62%|██████▏   | 68/110 [17:04<07:02, 10.07s/it]"
     ]
    },
    {
     "name": "stderr",
     "output_type": "stream",
     "text": [
      "\r\n",
      "Train:  63%|██████▎   | 69/110 [17:54<15:12, 22.26s/it]"
     ]
    },
    {
     "name": "stderr",
     "output_type": "stream",
     "text": [
      "\r\n",
      "Train:  64%|██████▎   | 70/110 [17:59<11:24, 17.10s/it]"
     ]
    },
    {
     "name": "stderr",
     "output_type": "stream",
     "text": [
      "\r\n",
      "Train:  65%|██████▍   | 71/110 [18:04<08:46, 13.51s/it]"
     ]
    },
    {
     "name": "stderr",
     "output_type": "stream",
     "text": [
      "\r\n",
      "Train:  65%|██████▌   | 72/110 [18:10<06:59, 11.04s/it]"
     ]
    },
    {
     "name": "stderr",
     "output_type": "stream",
     "text": [
      "\r\n",
      "Train:  66%|██████▋   | 73/110 [18:50<12:17, 19.92s/it]"
     ]
    },
    {
     "name": "stderr",
     "output_type": "stream",
     "text": [
      "\r\n",
      "Train:  67%|██████▋   | 74/110 [18:55<09:16, 15.46s/it]"
     ]
    },
    {
     "name": "stderr",
     "output_type": "stream",
     "text": [
      "\r\n",
      "Train:  68%|██████▊   | 75/110 [19:01<07:13, 12.38s/it]"
     ]
    },
    {
     "name": "stderr",
     "output_type": "stream",
     "text": [
      "\r\n",
      "Train:  69%|██████▉   | 76/110 [19:06<05:47, 10.22s/it]"
     ]
    },
    {
     "name": "stderr",
     "output_type": "stream",
     "text": [
      "\r\n",
      "Train:  70%|███████   | 77/110 [19:56<12:09, 22.12s/it]"
     ]
    },
    {
     "name": "stderr",
     "output_type": "stream",
     "text": [
      "\r\n",
      "Train:  71%|███████   | 78/110 [20:01<09:03, 16.99s/it]"
     ]
    },
    {
     "name": "stderr",
     "output_type": "stream",
     "text": [
      "\r\n",
      "Train:  72%|███████▏  | 79/110 [20:06<06:56, 13.45s/it]"
     ]
    },
    {
     "name": "stderr",
     "output_type": "stream",
     "text": [
      "\r\n",
      "Train:  73%|███████▎  | 80/110 [20:11<05:29, 10.98s/it]"
     ]
    },
    {
     "name": "stderr",
     "output_type": "stream",
     "text": [
      "\r\n",
      "Train:  74%|███████▎  | 81/110 [20:59<10:38, 22.00s/it]"
     ]
    },
    {
     "name": "stderr",
     "output_type": "stream",
     "text": [
      "\r\n",
      "Train:  75%|███████▍  | 82/110 [21:04<07:53, 16.90s/it]"
     ]
    },
    {
     "name": "stderr",
     "output_type": "stream",
     "text": [
      "\r\n",
      "Train:  75%|███████▌  | 83/110 [21:09<06:00, 13.36s/it]"
     ]
    },
    {
     "name": "stderr",
     "output_type": "stream",
     "text": [
      "\r\n",
      "Train:  76%|███████▋  | 84/110 [21:14<04:43, 10.91s/it]"
     ]
    },
    {
     "name": "stderr",
     "output_type": "stream",
     "text": [
      "\r\n",
      "Train:  77%|███████▋  | 85/110 [22:00<08:53, 21.34s/it]"
     ]
    },
    {
     "name": "stderr",
     "output_type": "stream",
     "text": [
      "\r\n",
      "Train:  78%|███████▊  | 86/110 [22:05<06:34, 16.42s/it]"
     ]
    },
    {
     "name": "stderr",
     "output_type": "stream",
     "text": [
      "\r\n",
      "Train:  79%|███████▉  | 87/110 [22:10<04:59, 13.02s/it]"
     ]
    },
    {
     "name": "stderr",
     "output_type": "stream",
     "text": [
      "\r\n",
      "Train:  80%|████████  | 88/110 [22:15<03:54, 10.67s/it]"
     ]
    },
    {
     "name": "stderr",
     "output_type": "stream",
     "text": [
      "\r\n",
      "Train:  81%|████████  | 89/110 [22:56<06:56, 19.85s/it]"
     ]
    },
    {
     "name": "stderr",
     "output_type": "stream",
     "text": [
      "\r\n",
      "Train:  82%|████████▏ | 90/110 [23:01<05:08, 15.40s/it]"
     ]
    },
    {
     "name": "stderr",
     "output_type": "stream",
     "text": [
      "\r\n",
      "Train:  83%|████████▎ | 91/110 [23:06<03:53, 12.31s/it]"
     ]
    },
    {
     "name": "stderr",
     "output_type": "stream",
     "text": [
      "\r\n",
      "Train:  84%|████████▎ | 92/110 [23:12<03:07, 10.41s/it]"
     ]
    },
    {
     "name": "stderr",
     "output_type": "stream",
     "text": [
      "\r\n",
      "Train:  85%|████████▍ | 93/110 [23:57<05:49, 20.54s/it]"
     ]
    },
    {
     "name": "stderr",
     "output_type": "stream",
     "text": [
      "\r\n",
      "Train:  85%|████████▌ | 94/110 [24:02<04:15, 15.98s/it]"
     ]
    },
    {
     "name": "stderr",
     "output_type": "stream",
     "text": [
      "\r\n",
      "Train:  86%|████████▋ | 95/110 [24:07<03:10, 12.73s/it]"
     ]
    },
    {
     "name": "stderr",
     "output_type": "stream",
     "text": [
      "\r\n",
      "Train:  87%|████████▋ | 96/110 [24:12<02:26, 10.47s/it]"
     ]
    },
    {
     "name": "stderr",
     "output_type": "stream",
     "text": [
      "\r\n",
      "Train:  88%|████████▊ | 97/110 [24:48<03:55, 18.15s/it]"
     ]
    },
    {
     "name": "stderr",
     "output_type": "stream",
     "text": [
      "\r\n",
      "Train:  89%|████████▉ | 98/110 [24:53<02:50, 14.20s/it]"
     ]
    },
    {
     "name": "stderr",
     "output_type": "stream",
     "text": [
      "\r\n",
      "Train:  90%|█████████ | 99/110 [24:58<02:05, 11.45s/it]"
     ]
    },
    {
     "name": "stderr",
     "output_type": "stream",
     "text": [
      "\r\n",
      "Train:  91%|█████████ | 100/110 [25:03<01:35,  9.55s/it]"
     ]
    },
    {
     "name": "stderr",
     "output_type": "stream",
     "text": [
      "\r\n",
      "Train:  92%|█████████▏| 101/110 [25:55<03:18, 22.10s/it]"
     ]
    },
    {
     "name": "stderr",
     "output_type": "stream",
     "text": [
      "\r\n",
      "Train:  93%|█████████▎| 102/110 [26:00<02:15, 16.98s/it]"
     ]
    },
    {
     "name": "stderr",
     "output_type": "stream",
     "text": [
      "\r\n",
      "Train:  94%|█████████▎| 103/110 [26:05<01:33, 13.40s/it]"
     ]
    },
    {
     "name": "stderr",
     "output_type": "stream",
     "text": [
      "\r\n",
      "Train:  95%|█████████▍| 104/110 [26:10<01:05, 10.90s/it]"
     ]
    },
    {
     "name": "stderr",
     "output_type": "stream",
     "text": [
      "\r\n",
      "Train:  95%|█████████▌| 105/110 [26:40<01:22, 16.58s/it]"
     ]
    },
    {
     "name": "stderr",
     "output_type": "stream",
     "text": [
      "\r\n",
      "Train:  96%|█████████▋| 106/110 [26:44<00:51, 12.99s/it]"
     ]
    },
    {
     "name": "stderr",
     "output_type": "stream",
     "text": [
      "\r\n",
      "Train:  97%|█████████▋| 107/110 [26:49<00:31, 10.47s/it]"
     ]
    },
    {
     "name": "stderr",
     "output_type": "stream",
     "text": [
      "\r\n",
      "Train:  98%|█████████▊| 108/110 [26:54<00:17,  8.75s/it]"
     ]
    },
    {
     "name": "stderr",
     "output_type": "stream",
     "text": [
      "\r\n",
      "Train:  99%|█████████▉| 109/110 [27:19<00:13, 13.77s/it]"
     ]
    },
    {
     "name": "stderr",
     "output_type": "stream",
     "text": [
      "\r\n",
      "Train: 100%|██████████| 110/110 [27:19<00:00, 14.91s/it]"
     ]
    },
    {
     "name": "stderr",
     "output_type": "stream",
     "text": [
      "\n"
     ]
    },
    {
     "name": "stdout",
     "output_type": "stream",
     "text": [
      "  Train Loss: 1.0614, Acc: 0.4034\n"
     ]
    },
    {
     "name": "stderr",
     "output_type": "stream",
     "text": [
      "\r\n",
      "Val:   0%|          | 0/28 [00:00<?, ?it/s]"
     ]
    },
    {
     "name": "stderr",
     "output_type": "stream",
     "text": [
      "\r\n",
      "Val:   4%|▎         | 1/28 [00:58<26:23, 58.64s/it]"
     ]
    },
    {
     "name": "stderr",
     "output_type": "stream",
     "text": [
      "\r\n",
      "Val:   7%|▋         | 2/28 [01:03<11:40, 26.93s/it]"
     ]
    },
    {
     "name": "stderr",
     "output_type": "stream",
     "text": [
      "\r\n",
      "Val:  11%|█         | 3/28 [01:08<07:02, 16.92s/it]"
     ]
    },
    {
     "name": "stderr",
     "output_type": "stream",
     "text": [
      "\r\n",
      "Val:  14%|█▍        | 4/28 [01:13<04:53, 12.24s/it]"
     ]
    },
    {
     "name": "stderr",
     "output_type": "stream",
     "text": [
      "\r\n",
      "Val:  18%|█▊        | 5/28 [01:56<08:53, 23.19s/it]"
     ]
    },
    {
     "name": "stderr",
     "output_type": "stream",
     "text": [
      "\r\n",
      "Val:  21%|██▏       | 6/28 [02:00<06:11, 16.89s/it]"
     ]
    },
    {
     "name": "stderr",
     "output_type": "stream",
     "text": [
      "\r\n",
      "Val:  25%|██▌       | 7/28 [02:05<04:32, 12.98s/it]"
     ]
    },
    {
     "name": "stderr",
     "output_type": "stream",
     "text": [
      "\r\n",
      "Val:  29%|██▊       | 8/28 [02:10<03:28, 10.40s/it]"
     ]
    },
    {
     "name": "stderr",
     "output_type": "stream",
     "text": [
      "\r\n",
      "Val:  32%|███▏      | 9/28 [02:56<06:51, 21.66s/it]"
     ]
    },
    {
     "name": "stderr",
     "output_type": "stream",
     "text": [
      "\r\n",
      "Val:  36%|███▌      | 10/28 [03:01<04:56, 16.48s/it]"
     ]
    },
    {
     "name": "stderr",
     "output_type": "stream",
     "text": [
      "\r\n",
      "Val:  39%|███▉      | 11/28 [03:06<03:39, 12.94s/it]"
     ]
    },
    {
     "name": "stderr",
     "output_type": "stream",
     "text": [
      "\r\n",
      "Val:  43%|████▎     | 12/28 [03:11<02:49, 10.57s/it]"
     ]
    },
    {
     "name": "stderr",
     "output_type": "stream",
     "text": [
      "\r\n",
      "Val:  46%|████▋     | 13/28 [03:51<04:49, 19.32s/it]"
     ]
    },
    {
     "name": "stderr",
     "output_type": "stream",
     "text": [
      "\r\n",
      "Val:  50%|█████     | 14/28 [03:56<03:28, 14.91s/it]"
     ]
    },
    {
     "name": "stderr",
     "output_type": "stream",
     "text": [
      "\r\n",
      "Val:  54%|█████▎    | 15/28 [04:00<02:34, 11.85s/it]"
     ]
    },
    {
     "name": "stderr",
     "output_type": "stream",
     "text": [
      "\r\n",
      "Val:  57%|█████▋    | 16/28 [04:05<01:56,  9.71s/it]"
     ]
    },
    {
     "name": "stderr",
     "output_type": "stream",
     "text": [
      "\r\n",
      "Val:  61%|██████    | 17/28 [04:52<03:51, 21.04s/it]"
     ]
    },
    {
     "name": "stderr",
     "output_type": "stream",
     "text": [
      "\r\n",
      "Val:  64%|██████▍   | 18/28 [04:57<02:41, 16.15s/it]"
     ]
    },
    {
     "name": "stderr",
     "output_type": "stream",
     "text": [
      "\r\n",
      "Val:  68%|██████▊   | 19/28 [05:02<01:54, 12.77s/it]"
     ]
    },
    {
     "name": "stderr",
     "output_type": "stream",
     "text": [
      "\r\n",
      "Val:  71%|███████▏  | 20/28 [05:07<01:23, 10.40s/it]"
     ]
    },
    {
     "name": "stderr",
     "output_type": "stream",
     "text": [
      "\r\n",
      "Val:  75%|███████▌  | 21/28 [05:51<02:24, 20.64s/it]"
     ]
    },
    {
     "name": "stderr",
     "output_type": "stream",
     "text": [
      "\r\n",
      "Val:  79%|███████▊  | 22/28 [05:56<01:35, 15.94s/it]"
     ]
    },
    {
     "name": "stderr",
     "output_type": "stream",
     "text": [
      "\r\n",
      "Val:  82%|████████▏ | 23/28 [06:01<01:02, 12.60s/it]"
     ]
    },
    {
     "name": "stderr",
     "output_type": "stream",
     "text": [
      "\r\n",
      "Val:  86%|████████▌ | 24/28 [06:06<00:41, 10.30s/it]"
     ]
    },
    {
     "name": "stderr",
     "output_type": "stream",
     "text": [
      "\r\n",
      "Val:  89%|████████▉ | 25/28 [06:49<01:00, 20.10s/it]"
     ]
    },
    {
     "name": "stderr",
     "output_type": "stream",
     "text": [
      "\r\n",
      "Val:  93%|█████████▎| 26/28 [06:54<00:30, 15.38s/it]"
     ]
    },
    {
     "name": "stderr",
     "output_type": "stream",
     "text": [
      "\r\n",
      "Val:  96%|█████████▋| 27/28 [06:58<00:12, 12.11s/it]"
     ]
    },
    {
     "name": "stderr",
     "output_type": "stream",
     "text": [
      "\r\n",
      "Val: 100%|██████████| 28/28 [07:00<00:00,  8.99s/it]"
     ]
    },
    {
     "name": "stderr",
     "output_type": "stream",
     "text": [
      "\r\n",
      "Val: 100%|██████████| 28/28 [07:00<00:00, 15.01s/it]"
     ]
    },
    {
     "name": "stderr",
     "output_type": "stream",
     "text": [
      "\n"
     ]
    },
    {
     "name": "stdout",
     "output_type": "stream",
     "text": [
      "  Val Loss: 1.1842, Acc: 0.3913\n",
      "  + New best! Saved.\n",
      "Epoch 3/10\n"
     ]
    },
    {
     "name": "stderr",
     "output_type": "stream",
     "text": [
      "\r\n",
      "Train:   0%|          | 0/110 [00:00<?, ?it/s]"
     ]
    },
    {
     "name": "stderr",
     "output_type": "stream",
     "text": [
      "\r\n",
      "Train:   1%|          | 1/110 [01:00<1:50:05, 60.60s/it]"
     ]
    },
    {
     "name": "stderr",
     "output_type": "stream",
     "text": [
      "\r\n",
      "Train:   2%|▏         | 2/110 [01:05<50:14, 27.91s/it]  "
     ]
    },
    {
     "name": "stderr",
     "output_type": "stream",
     "text": [
      "\r\n",
      "Train:   3%|▎         | 3/110 [01:10<31:19, 17.57s/it]"
     ]
    },
    {
     "name": "stderr",
     "output_type": "stream",
     "text": [
      "\r\n",
      "Train:   4%|▎         | 4/110 [01:16<22:30, 12.74s/it]"
     ]
    },
    {
     "name": "stderr",
     "output_type": "stream",
     "text": [
      "\r\n",
      "Train:   5%|▍         | 5/110 [01:59<41:19, 23.62s/it]"
     ]
    },
    {
     "name": "stderr",
     "output_type": "stream",
     "text": [
      "\r\n",
      "Train:   5%|▌         | 6/110 [02:03<29:53, 17.24s/it]"
     ]
    },
    {
     "name": "stderr",
     "output_type": "stream",
     "text": [
      "\r\n",
      "Train:   6%|▋         | 7/110 [02:09<22:52, 13.32s/it]"
     ]
    },
    {
     "name": "stderr",
     "output_type": "stream",
     "text": [
      "\r\n",
      "Train:   7%|▋         | 8/110 [02:14<18:13, 10.72s/it]"
     ]
    },
    {
     "name": "stderr",
     "output_type": "stream",
     "text": [
      "\r\n",
      "Train:   8%|▊         | 9/110 [02:55<33:56, 20.17s/it]"
     ]
    },
    {
     "name": "stderr",
     "output_type": "stream",
     "text": [
      "\r\n",
      "Train:   9%|▉         | 10/110 [03:00<25:46, 15.46s/it]"
     ]
    },
    {
     "name": "stderr",
     "output_type": "stream",
     "text": [
      "\r\n",
      "Train:  10%|█         | 11/110 [03:11<23:11, 14.05s/it]"
     ]
    },
    {
     "name": "stderr",
     "output_type": "stream",
     "text": [
      "\r\n",
      "Train:  11%|█         | 12/110 [03:16<18:33, 11.37s/it]"
     ]
    },
    {
     "name": "stderr",
     "output_type": "stream",
     "text": [
      "\r\n",
      "Train:  12%|█▏        | 13/110 [03:53<30:47, 19.05s/it]"
     ]
    },
    {
     "name": "stderr",
     "output_type": "stream",
     "text": [
      "\r\n",
      "Train:  13%|█▎        | 14/110 [04:01<25:18, 15.82s/it]"
     ]
    },
    {
     "name": "stderr",
     "output_type": "stream",
     "text": [
      "\r\n",
      "Train:  14%|█▎        | 15/110 [04:12<22:39, 14.31s/it]"
     ]
    },
    {
     "name": "stderr",
     "output_type": "stream",
     "text": [
      "\r\n",
      "Train:  15%|█▍        | 16/110 [04:17<18:06, 11.56s/it]"
     ]
    },
    {
     "name": "stderr",
     "output_type": "stream",
     "text": [
      "\r\n",
      "Train:  15%|█▌        | 17/110 [04:47<26:45, 17.26s/it]"
     ]
    },
    {
     "name": "stderr",
     "output_type": "stream",
     "text": [
      "\r\n",
      "Train:  16%|█▋        | 18/110 [05:03<25:48, 16.83s/it]"
     ]
    },
    {
     "name": "stderr",
     "output_type": "stream",
     "text": [
      "\r\n",
      "Train:  17%|█▋        | 19/110 [05:16<23:44, 15.66s/it]"
     ]
    },
    {
     "name": "stderr",
     "output_type": "stream",
     "text": [
      "\r\n",
      "Train:  18%|█▊        | 20/110 [05:21<18:45, 12.51s/it]"
     ]
    },
    {
     "name": "stderr",
     "output_type": "stream",
     "text": [
      "\r\n",
      "Train:  19%|█▉        | 21/110 [05:53<27:05, 18.26s/it]"
     ]
    },
    {
     "name": "stderr",
     "output_type": "stream",
     "text": [
      "\r\n",
      "Train:  20%|██        | 22/110 [05:58<20:59, 14.31s/it]"
     ]
    },
    {
     "name": "stderr",
     "output_type": "stream",
     "text": [
      "\r\n",
      "Train:  21%|██        | 23/110 [06:19<23:42, 16.35s/it]"
     ]
    },
    {
     "name": "stderr",
     "output_type": "stream",
     "text": [
      "\r\n",
      "Train:  22%|██▏       | 24/110 [06:24<18:36, 12.99s/it]"
     ]
    },
    {
     "name": "stderr",
     "output_type": "stream",
     "text": [
      "\r\n",
      "Train:  23%|██▎       | 25/110 [06:54<25:28, 17.98s/it]"
     ]
    },
    {
     "name": "stderr",
     "output_type": "stream",
     "text": [
      "\r\n",
      "Train:  24%|██▎       | 26/110 [06:59<19:41, 14.07s/it]"
     ]
    },
    {
     "name": "stderr",
     "output_type": "stream",
     "text": [
      "\r\n",
      "Train:  25%|██▍       | 27/110 [07:22<23:09, 16.74s/it]"
     ]
    },
    {
     "name": "stderr",
     "output_type": "stream",
     "text": [
      "\r\n",
      "Train:  25%|██▌       | 28/110 [07:27<18:03, 13.22s/it]"
     ]
    },
    {
     "name": "stderr",
     "output_type": "stream",
     "text": [
      "\r\n",
      "Train:  26%|██▋       | 29/110 [07:57<24:29, 18.15s/it]"
     ]
    },
    {
     "name": "stderr",
     "output_type": "stream",
     "text": [
      "\r\n",
      "Train:  27%|██▋       | 30/110 [08:02<18:58, 14.23s/it]"
     ]
    },
    {
     "name": "stderr",
     "output_type": "stream",
     "text": [
      "\r\n",
      "Train:  28%|██▊       | 31/110 [08:15<18:17, 13.89s/it]"
     ]
    },
    {
     "name": "stderr",
     "output_type": "stream",
     "text": [
      "\r\n",
      "Train:  29%|██▉       | 32/110 [08:20<14:36, 11.24s/it]"
     ]
    },
    {
     "name": "stderr",
     "output_type": "stream",
     "text": [
      "\r\n",
      "Train:  30%|███       | 33/110 [08:57<24:31, 19.12s/it]"
     ]
    },
    {
     "name": "stderr",
     "output_type": "stream",
     "text": [
      "\r\n",
      "Train:  31%|███       | 34/110 [09:02<18:51, 14.89s/it]"
     ]
    },
    {
     "name": "stderr",
     "output_type": "stream",
     "text": [
      "\r\n",
      "Train:  32%|███▏      | 35/110 [09:19<19:24, 15.53s/it]"
     ]
    },
    {
     "name": "stderr",
     "output_type": "stream",
     "text": [
      "\r\n",
      "Train:  33%|███▎      | 36/110 [09:25<15:20, 12.44s/it]"
     ]
    },
    {
     "name": "stderr",
     "output_type": "stream",
     "text": [
      "\r\n",
      "Train:  34%|███▎      | 37/110 [09:53<20:49, 17.11s/it]"
     ]
    },
    {
     "name": "stderr",
     "output_type": "stream",
     "text": [
      "\r\n",
      "Train:  35%|███▍      | 38/110 [09:58<16:10, 13.48s/it]"
     ]
    },
    {
     "name": "stderr",
     "output_type": "stream",
     "text": [
      "\r\n",
      "Train:  35%|███▌      | 39/110 [10:21<19:35, 16.56s/it]"
     ]
    },
    {
     "name": "stderr",
     "output_type": "stream",
     "text": [
      "\r\n",
      "Train:  36%|███▋      | 40/110 [10:26<15:17, 13.11s/it]"
     ]
    },
    {
     "name": "stderr",
     "output_type": "stream",
     "text": [
      "\r\n",
      "Train:  37%|███▋      | 41/110 [10:47<17:35, 15.29s/it]"
     ]
    },
    {
     "name": "stderr",
     "output_type": "stream",
     "text": [
      "\r\n",
      "Train:  38%|███▊      | 42/110 [10:54<14:26, 12.75s/it]"
     ]
    },
    {
     "name": "stderr",
     "output_type": "stream",
     "text": [
      "\r\n",
      "Train:  39%|███▉      | 43/110 [11:17<17:57, 16.07s/it]"
     ]
    },
    {
     "name": "stderr",
     "output_type": "stream",
     "text": [
      "\r\n",
      "Train:  40%|████      | 44/110 [11:23<14:04, 12.80s/it]"
     ]
    },
    {
     "name": "stderr",
     "output_type": "stream",
     "text": [
      "\r\n",
      "Train:  41%|████      | 45/110 [11:48<17:51, 16.48s/it]"
     ]
    },
    {
     "name": "stderr",
     "output_type": "stream",
     "text": [
      "\r\n",
      "Train:  42%|████▏     | 46/110 [11:58<15:45, 14.78s/it]"
     ]
    },
    {
     "name": "stderr",
     "output_type": "stream",
     "text": [
      "\r\n",
      "Train:  43%|████▎     | 47/110 [12:21<18:05, 17.22s/it]"
     ]
    },
    {
     "name": "stderr",
     "output_type": "stream",
     "text": [
      "\r\n",
      "Train:  44%|████▎     | 48/110 [12:26<14:01, 13.57s/it]"
     ]
    },
    {
     "name": "stderr",
     "output_type": "stream",
     "text": [
      "\r\n",
      "Train:  45%|████▍     | 49/110 [12:48<16:15, 15.99s/it]"
     ]
    },
    {
     "name": "stderr",
     "output_type": "stream",
     "text": [
      "\r\n",
      "Train:  45%|████▌     | 50/110 [12:58<14:11, 14.20s/it]"
     ]
    },
    {
     "name": "stderr",
     "output_type": "stream",
     "text": [
      "\r\n",
      "Train:  46%|████▋     | 51/110 [13:20<16:16, 16.56s/it]"
     ]
    },
    {
     "name": "stderr",
     "output_type": "stream",
     "text": [
      "\r\n",
      "Train:  47%|████▋     | 52/110 [13:25<12:41, 13.12s/it]"
     ]
    },
    {
     "name": "stderr",
     "output_type": "stream",
     "text": [
      "\r\n",
      "Train:  48%|████▊     | 53/110 [13:48<15:10, 15.97s/it]"
     ]
    },
    {
     "name": "stderr",
     "output_type": "stream",
     "text": [
      "\r\n",
      "Train:  49%|████▉     | 54/110 [13:53<11:53, 12.74s/it]"
     ]
    },
    {
     "name": "stderr",
     "output_type": "stream",
     "text": [
      "\r\n",
      "Train:  50%|█████     | 55/110 [14:21<15:43, 17.15s/it]"
     ]
    },
    {
     "name": "stderr",
     "output_type": "stream",
     "text": [
      "\r\n",
      "Train:  51%|█████     | 56/110 [14:26<12:09, 13.51s/it]"
     ]
    },
    {
     "name": "stderr",
     "output_type": "stream",
     "text": [
      "\r\n",
      "Train:  52%|█████▏    | 57/110 [14:48<14:13, 16.10s/it]"
     ]
    },
    {
     "name": "stderr",
     "output_type": "stream",
     "text": [
      "\r\n",
      "Train:  53%|█████▎    | 58/110 [14:53<11:05, 12.80s/it]"
     ]
    },
    {
     "name": "stderr",
     "output_type": "stream",
     "text": [
      "\r\n",
      "Train:  54%|█████▎    | 59/110 [15:17<13:41, 16.10s/it]"
     ]
    },
    {
     "name": "stderr",
     "output_type": "stream",
     "text": [
      "\r\n",
      "Train:  55%|█████▍    | 60/110 [15:22<10:37, 12.75s/it]"
     ]
    },
    {
     "name": "stderr",
     "output_type": "stream",
     "text": [
      "\r\n",
      "Train:  55%|█████▌    | 61/110 [15:48<13:50, 16.95s/it]"
     ]
    },
    {
     "name": "stderr",
     "output_type": "stream",
     "text": [
      "\r\n",
      "Train:  56%|█████▋    | 62/110 [15:53<10:42, 13.38s/it]"
     ]
    },
    {
     "name": "stderr",
     "output_type": "stream",
     "text": [
      "\r\n",
      "Train:  57%|█████▋    | 63/110 [16:25<14:49, 18.93s/it]"
     ]
    },
    {
     "name": "stderr",
     "output_type": "stream",
     "text": [
      "\r\n",
      "Train:  58%|█████▊    | 64/110 [16:30<11:21, 14.81s/it]"
     ]
    },
    {
     "name": "stderr",
     "output_type": "stream",
     "text": [
      "\r\n",
      "Train:  59%|█████▉    | 65/110 [16:44<10:53, 14.52s/it]"
     ]
    },
    {
     "name": "stderr",
     "output_type": "stream",
     "text": [
      "\r\n",
      "Train:  60%|██████    | 66/110 [16:58<10:26, 14.24s/it]"
     ]
    },
    {
     "name": "stderr",
     "output_type": "stream",
     "text": [
      "\r\n",
      "Train:  61%|██████    | 67/110 [17:24<12:52, 17.96s/it]"
     ]
    },
    {
     "name": "stderr",
     "output_type": "stream",
     "text": [
      "\r\n",
      "Train:  62%|██████▏   | 68/110 [17:29<09:49, 14.03s/it]"
     ]
    },
    {
     "name": "stderr",
     "output_type": "stream",
     "text": [
      "\r\n",
      "Train:  63%|██████▎   | 69/110 [17:41<09:04, 13.29s/it]"
     ]
    },
    {
     "name": "stderr",
     "output_type": "stream",
     "text": [
      "\r\n",
      "Train:  64%|██████▎   | 70/110 [17:57<09:26, 14.15s/it]"
     ]
    },
    {
     "name": "stderr",
     "output_type": "stream",
     "text": [
      "\r\n",
      "Train:  65%|██████▍   | 71/110 [18:26<12:05, 18.60s/it]"
     ]
    },
    {
     "name": "stderr",
     "output_type": "stream",
     "text": [
      "\r\n",
      "Train:  65%|██████▌   | 72/110 [18:31<09:12, 14.54s/it]"
     ]
    },
    {
     "name": "stderr",
     "output_type": "stream",
     "text": [
      "\r\n",
      "Train:  66%|██████▋   | 73/110 [18:46<09:00, 14.62s/it]"
     ]
    },
    {
     "name": "stderr",
     "output_type": "stream",
     "text": [
      "\r\n",
      "Train:  67%|██████▋   | 74/110 [18:54<07:37, 12.72s/it]"
     ]
    },
    {
     "name": "stderr",
     "output_type": "stream",
     "text": [
      "\r\n",
      "Train:  68%|██████▊   | 75/110 [19:31<11:41, 20.05s/it]"
     ]
    },
    {
     "name": "stderr",
     "output_type": "stream",
     "text": [
      "\r\n",
      "Train:  69%|██████▉   | 76/110 [19:36<08:49, 15.57s/it]"
     ]
    },
    {
     "name": "stderr",
     "output_type": "stream",
     "text": [
      "\r\n",
      "Train:  70%|███████   | 77/110 [19:42<06:50, 12.44s/it]"
     ]
    },
    {
     "name": "stderr",
     "output_type": "stream",
     "text": [
      "\r\n",
      "Train:  71%|███████   | 78/110 [19:53<06:24, 12.00s/it]"
     ]
    },
    {
     "name": "stderr",
     "output_type": "stream",
     "text": [
      "\r\n",
      "Train:  72%|███████▏  | 79/110 [20:38<11:27, 22.17s/it]"
     ]
    },
    {
     "name": "stderr",
     "output_type": "stream",
     "text": [
      "\r\n",
      "Train:  73%|███████▎  | 80/110 [20:43<08:29, 16.99s/it]"
     ]
    },
    {
     "name": "stderr",
     "output_type": "stream",
     "text": [
      "\r\n",
      "Train:  74%|███████▎  | 81/110 [20:49<06:29, 13.44s/it]"
     ]
    },
    {
     "name": "stderr",
     "output_type": "stream",
     "text": [
      "\r\n",
      "Train:  75%|███████▍  | 82/110 [20:54<05:07, 10.97s/it]"
     ]
    },
    {
     "name": "stderr",
     "output_type": "stream",
     "text": [
      "\r\n",
      "Train:  75%|███████▌  | 83/110 [21:35<08:59, 20.00s/it]"
     ]
    },
    {
     "name": "stderr",
     "output_type": "stream",
     "text": [
      "\r\n",
      "Train:  76%|███████▋  | 84/110 [21:40<06:43, 15.51s/it]"
     ]
    },
    {
     "name": "stderr",
     "output_type": "stream",
     "text": [
      "\r\n",
      "Train:  77%|███████▋  | 85/110 [21:45<05:10, 12.41s/it]"
     ]
    },
    {
     "name": "stderr",
     "output_type": "stream",
     "text": [
      "\r\n",
      "Train:  78%|███████▊  | 86/110 [21:51<04:14, 10.60s/it]"
     ]
    },
    {
     "name": "stderr",
     "output_type": "stream",
     "text": [
      "\r\n",
      "Train:  79%|███████▉  | 87/110 [22:30<07:20, 19.14s/it]"
     ]
    },
    {
     "name": "stderr",
     "output_type": "stream",
     "text": [
      "\r\n",
      "Train:  80%|████████  | 88/110 [22:36<05:28, 14.92s/it]"
     ]
    },
    {
     "name": "stderr",
     "output_type": "stream",
     "text": [
      "\r\n",
      "Train:  81%|████████  | 89/110 [22:41<04:11, 11.99s/it]"
     ]
    },
    {
     "name": "stderr",
     "output_type": "stream",
     "text": [
      "\r\n",
      "Train:  82%|████████▏ | 90/110 [22:49<03:37, 10.87s/it]"
     ]
    },
    {
     "name": "stderr",
     "output_type": "stream",
     "text": [
      "\r\n",
      "Train:  83%|████████▎ | 91/110 [23:36<06:52, 21.71s/it]"
     ]
    },
    {
     "name": "stderr",
     "output_type": "stream",
     "text": [
      "\r\n",
      "Train:  84%|████████▎ | 92/110 [23:41<04:59, 16.65s/it]"
     ]
    },
    {
     "name": "stderr",
     "output_type": "stream",
     "text": [
      "\r\n",
      "Train:  85%|████████▍ | 93/110 [23:46<03:44, 13.19s/it]"
     ]
    },
    {
     "name": "stderr",
     "output_type": "stream",
     "text": [
      "\r\n",
      "Train:  85%|████████▌ | 94/110 [23:51<02:52, 10.75s/it]"
     ]
    },
    {
     "name": "stderr",
     "output_type": "stream",
     "text": [
      "\r\n",
      "Train:  86%|████████▋ | 95/110 [24:40<05:32, 22.19s/it]"
     ]
    },
    {
     "name": "stderr",
     "output_type": "stream",
     "text": [
      "\r\n",
      "Train:  87%|████████▋ | 96/110 [24:45<03:58, 17.07s/it]"
     ]
    },
    {
     "name": "stderr",
     "output_type": "stream",
     "text": [
      "\r\n",
      "Train:  88%|████████▊ | 97/110 [24:50<02:55, 13.50s/it]"
     ]
    },
    {
     "name": "stderr",
     "output_type": "stream",
     "text": [
      "\r\n",
      "Train:  89%|████████▉ | 98/110 [24:55<02:12, 11.01s/it]"
     ]
    },
    {
     "name": "stderr",
     "output_type": "stream",
     "text": [
      "\r\n",
      "Train:  90%|█████████ | 99/110 [25:44<04:05, 22.31s/it]"
     ]
    },
    {
     "name": "stderr",
     "output_type": "stream",
     "text": [
      "\r\n",
      "Train:  91%|█████████ | 100/110 [25:49<02:51, 17.13s/it]"
     ]
    },
    {
     "name": "stderr",
     "output_type": "stream",
     "text": [
      "\r\n",
      "Train:  92%|█████████▏| 101/110 [25:54<02:01, 13.50s/it]"
     ]
    },
    {
     "name": "stderr",
     "output_type": "stream",
     "text": [
      "\r\n",
      "Train:  93%|█████████▎| 102/110 [25:59<01:27, 10.98s/it]"
     ]
    },
    {
     "name": "stderr",
     "output_type": "stream",
     "text": [
      "\r\n",
      "Train:  94%|█████████▎| 103/110 [26:51<02:42, 23.19s/it]"
     ]
    },
    {
     "name": "stderr",
     "output_type": "stream",
     "text": [
      "\r\n",
      "Train:  95%|█████████▍| 104/110 [26:56<01:45, 17.62s/it]"
     ]
    },
    {
     "name": "stderr",
     "output_type": "stream",
     "text": [
      "\r\n",
      "Train:  95%|█████████▌| 105/110 [27:00<01:08, 13.74s/it]"
     ]
    },
    {
     "name": "stderr",
     "output_type": "stream",
     "text": [
      "\r\n",
      "Train:  96%|█████████▋| 106/110 [27:05<00:44, 11.06s/it]"
     ]
    },
    {
     "name": "stderr",
     "output_type": "stream",
     "text": [
      "\r\n",
      "Train:  97%|█████████▋| 107/110 [27:29<00:45, 15.09s/it]"
     ]
    },
    {
     "name": "stderr",
     "output_type": "stream",
     "text": [
      "\r\n",
      "Train:  98%|█████████▊| 108/110 [27:34<00:23, 11.92s/it]"
     ]
    },
    {
     "name": "stderr",
     "output_type": "stream",
     "text": [
      "\r\n",
      "Train:  99%|█████████▉| 109/110 [27:39<00:09,  9.73s/it]"
     ]
    },
    {
     "name": "stderr",
     "output_type": "stream",
     "text": [
      "\r\n",
      "Train: 100%|██████████| 110/110 [27:39<00:00, 15.08s/it]"
     ]
    },
    {
     "name": "stderr",
     "output_type": "stream",
     "text": [
      "\n"
     ]
    },
    {
     "name": "stdout",
     "output_type": "stream",
     "text": [
      "  Train Loss: 1.0567, Acc: 0.4292\n"
     ]
    },
    {
     "name": "stderr",
     "output_type": "stream",
     "text": [
      "\r\n",
      "Val:   0%|          | 0/28 [00:00<?, ?it/s]"
     ]
    },
    {
     "name": "stderr",
     "output_type": "stream",
     "text": [
      "\r\n",
      "Val:   4%|▎         | 1/28 [01:08<31:00, 68.92s/it]"
     ]
    },
    {
     "name": "stderr",
     "output_type": "stream",
     "text": [
      "\r\n",
      "Val:   7%|▋         | 2/28 [01:13<13:32, 31.24s/it]"
     ]
    },
    {
     "name": "stderr",
     "output_type": "stream",
     "text": [
      "\r\n",
      "Val:  11%|█         | 3/28 [01:18<07:58, 19.16s/it]"
     ]
    },
    {
     "name": "stderr",
     "output_type": "stream",
     "text": [
      "\r\n",
      "Val:  14%|█▍        | 4/28 [01:23<05:24, 13.51s/it]"
     ]
    },
    {
     "name": "stderr",
     "output_type": "stream",
     "text": [
      "\r\n",
      "Val:  18%|█▊        | 5/28 [02:13<10:10, 26.54s/it]"
     ]
    },
    {
     "name": "stderr",
     "output_type": "stream",
     "text": [
      "\r\n",
      "Val:  21%|██▏       | 6/28 [02:17<07:00, 19.11s/it]"
     ]
    },
    {
     "name": "stderr",
     "output_type": "stream",
     "text": [
      "\r\n",
      "Val:  25%|██▌       | 7/28 [02:22<05:04, 14.49s/it]"
     ]
    },
    {
     "name": "stderr",
     "output_type": "stream",
     "text": [
      "\r\n",
      "Val:  29%|██▊       | 8/28 [02:27<03:48, 11.43s/it]"
     ]
    },
    {
     "name": "stderr",
     "output_type": "stream",
     "text": [
      "\r\n",
      "Val:  32%|███▏      | 9/28 [03:21<07:49, 24.70s/it]"
     ]
    },
    {
     "name": "stderr",
     "output_type": "stream",
     "text": [
      "\r\n",
      "Val:  36%|███▌      | 10/28 [03:26<05:34, 18.56s/it]"
     ]
    },
    {
     "name": "stderr",
     "output_type": "stream",
     "text": [
      "\r\n",
      "Val:  39%|███▉      | 11/28 [03:31<04:03, 14.34s/it]"
     ]
    },
    {
     "name": "stderr",
     "output_type": "stream",
     "text": [
      "\r\n",
      "Val:  43%|████▎     | 12/28 [03:35<03:03, 11.48s/it]"
     ]
    },
    {
     "name": "stderr",
     "output_type": "stream",
     "text": [
      "\r\n",
      "Val:  46%|████▋     | 13/28 [04:21<05:27, 21.86s/it]"
     ]
    },
    {
     "name": "stderr",
     "output_type": "stream",
     "text": [
      "\r\n",
      "Val:  50%|█████     | 14/28 [04:26<03:54, 16.74s/it]"
     ]
    },
    {
     "name": "stderr",
     "output_type": "stream",
     "text": [
      "\r\n",
      "Val:  54%|█████▎    | 15/28 [04:31<02:50, 13.14s/it]"
     ]
    },
    {
     "name": "stderr",
     "output_type": "stream",
     "text": [
      "\r\n",
      "Val:  57%|█████▋    | 16/28 [04:36<02:08, 10.67s/it]"
     ]
    },
    {
     "name": "stderr",
     "output_type": "stream",
     "text": [
      "\r\n",
      "Val:  61%|██████    | 17/28 [05:25<04:05, 22.31s/it]"
     ]
    },
    {
     "name": "stderr",
     "output_type": "stream",
     "text": [
      "\r\n",
      "Val:  64%|██████▍   | 18/28 [05:30<02:50, 17.07s/it]"
     ]
    },
    {
     "name": "stderr",
     "output_type": "stream",
     "text": [
      "\r\n",
      "Val:  68%|██████▊   | 19/28 [05:35<02:00, 13.40s/it]"
     ]
    },
    {
     "name": "stderr",
     "output_type": "stream",
     "text": [
      "\r\n",
      "Val:  71%|███████▏  | 20/28 [05:40<01:26, 10.83s/it]"
     ]
    },
    {
     "name": "stderr",
     "output_type": "stream",
     "text": [
      "\r\n",
      "Val:  75%|███████▌  | 21/28 [06:28<02:33, 21.96s/it]"
     ]
    },
    {
     "name": "stderr",
     "output_type": "stream",
     "text": [
      "\r\n",
      "Val:  79%|███████▊  | 22/28 [06:32<01:40, 16.76s/it]"
     ]
    },
    {
     "name": "stderr",
     "output_type": "stream",
     "text": [
      "\r\n",
      "Val:  82%|████████▏ | 23/28 [06:37<01:05, 13.16s/it]"
     ]
    },
    {
     "name": "stderr",
     "output_type": "stream",
     "text": [
      "\r\n",
      "Val:  86%|████████▌ | 24/28 [06:42<00:42, 10.70s/it]"
     ]
    },
    {
     "name": "stderr",
     "output_type": "stream",
     "text": [
      "\r\n",
      "Val:  89%|████████▉ | 25/28 [07:25<01:01, 20.41s/it]"
     ]
    },
    {
     "name": "stderr",
     "output_type": "stream",
     "text": [
      "\r\n",
      "Val:  93%|█████████▎| 26/28 [07:30<00:31, 15.59s/it]"
     ]
    },
    {
     "name": "stderr",
     "output_type": "stream",
     "text": [
      "\r\n",
      "Val:  96%|█████████▋| 27/28 [07:34<00:12, 12.24s/it]"
     ]
    },
    {
     "name": "stderr",
     "output_type": "stream",
     "text": [
      "\r\n",
      "Val: 100%|██████████| 28/28 [07:36<00:00,  9.08s/it]"
     ]
    },
    {
     "name": "stderr",
     "output_type": "stream",
     "text": [
      "\r\n",
      "Val: 100%|██████████| 28/28 [07:36<00:00, 16.29s/it]"
     ]
    },
    {
     "name": "stderr",
     "output_type": "stream",
     "text": [
      "\n"
     ]
    },
    {
     "name": "stdout",
     "output_type": "stream",
     "text": [
      "  Val Loss: 1.1159, Acc: 0.3158\n",
      "Epoch 4/10\n"
     ]
    },
    {
     "name": "stderr",
     "output_type": "stream",
     "text": [
      "\r\n",
      "Train:   0%|          | 0/110 [00:00<?, ?it/s]"
     ]
    },
    {
     "name": "stderr",
     "output_type": "stream",
     "text": [
      "\r\n",
      "Train:   1%|          | 1/110 [01:07<2:02:44, 67.57s/it]"
     ]
    },
    {
     "name": "stderr",
     "output_type": "stream",
     "text": [
      "\r\n",
      "Train:   2%|▏         | 2/110 [01:12<55:28, 30.82s/it]  "
     ]
    },
    {
     "name": "stderr",
     "output_type": "stream",
     "text": [
      "\r\n",
      "Train:   3%|▎         | 3/110 [01:17<34:08, 19.14s/it]"
     ]
    },
    {
     "name": "stderr",
     "output_type": "stream",
     "text": [
      "\r\n",
      "Train:   4%|▎         | 4/110 [01:23<24:06, 13.64s/it]"
     ]
    },
    {
     "name": "stderr",
     "output_type": "stream",
     "text": [
      "\r\n",
      "Train:   5%|▍         | 5/110 [02:05<41:45, 23.87s/it]"
     ]
    },
    {
     "name": "stderr",
     "output_type": "stream",
     "text": [
      "\r\n",
      "Train:   5%|▌         | 6/110 [02:10<30:12, 17.43s/it]"
     ]
    },
    {
     "name": "stderr",
     "output_type": "stream",
     "text": [
      "\r\n",
      "Train:   6%|▋         | 7/110 [02:18<24:39, 14.36s/it]"
     ]
    },
    {
     "name": "stderr",
     "output_type": "stream",
     "text": [
      "\r\n",
      "Train:   7%|▋         | 8/110 [02:23<19:29, 11.46s/it]"
     ]
    },
    {
     "name": "stderr",
     "output_type": "stream",
     "text": [
      "\r\n",
      "Train:   8%|▊         | 9/110 [03:10<37:54, 22.52s/it]"
     ]
    },
    {
     "name": "stderr",
     "output_type": "stream",
     "text": [
      "\r\n",
      "Train:   9%|▉         | 10/110 [03:15<28:32, 17.12s/it]"
     ]
    },
    {
     "name": "stderr",
     "output_type": "stream",
     "text": [
      "\r\n",
      "Train:  10%|█         | 11/110 [03:20<22:16, 13.50s/it]"
     ]
    },
    {
     "name": "stderr",
     "output_type": "stream",
     "text": [
      "\r\n",
      "Train:  11%|█         | 12/110 [03:25<17:54, 10.96s/it]"
     ]
    },
    {
     "name": "stderr",
     "output_type": "stream",
     "text": [
      "\r\n",
      "Train:  12%|█▏        | 13/110 [04:11<34:52, 21.58s/it]"
     ]
    },
    {
     "name": "stderr",
     "output_type": "stream",
     "text": [
      "\r\n",
      "Train:  13%|█▎        | 14/110 [04:17<26:53, 16.80s/it]"
     ]
    },
    {
     "name": "stderr",
     "output_type": "stream",
     "text": [
      "\r\n",
      "Train:  14%|█▎        | 15/110 [04:22<21:02, 13.29s/it]"
     ]
    },
    {
     "name": "stderr",
     "output_type": "stream",
     "text": [
      "\r\n",
      "Train:  15%|█▍        | 16/110 [04:27<16:59, 10.84s/it]"
     ]
    },
    {
     "name": "stderr",
     "output_type": "stream",
     "text": [
      "\r\n",
      "Train:  15%|█▌        | 17/110 [05:12<32:47, 21.16s/it]"
     ]
    },
    {
     "name": "stderr",
     "output_type": "stream",
     "text": [
      "\r\n",
      "Train:  16%|█▋        | 18/110 [05:18<25:04, 16.35s/it]"
     ]
    },
    {
     "name": "stderr",
     "output_type": "stream",
     "text": [
      "\r\n",
      "Train:  17%|█▋        | 19/110 [05:23<19:39, 12.96s/it]"
     ]
    },
    {
     "name": "stderr",
     "output_type": "stream",
     "text": [
      "\r\n",
      "Train:  18%|█▊        | 20/110 [05:28<15:56, 10.63s/it]"
     ]
    },
    {
     "name": "stderr",
     "output_type": "stream",
     "text": [
      "\r\n",
      "Train:  19%|█▉        | 21/110 [06:11<30:28, 20.54s/it]"
     ]
    },
    {
     "name": "stderr",
     "output_type": "stream",
     "text": [
      "\r\n",
      "Train:  20%|██        | 22/110 [06:18<23:45, 16.20s/it]"
     ]
    },
    {
     "name": "stderr",
     "output_type": "stream",
     "text": [
      "\r\n",
      "Train:  21%|██        | 23/110 [06:23<18:38, 12.86s/it]"
     ]
    },
    {
     "name": "stderr",
     "output_type": "stream",
     "text": [
      "\r\n",
      "Train:  22%|██▏       | 24/110 [06:28<15:11, 10.60s/it]"
     ]
    },
    {
     "name": "stderr",
     "output_type": "stream",
     "text": [
      "\r\n",
      "Train:  23%|██▎       | 25/110 [07:10<28:32, 20.15s/it]"
     ]
    },
    {
     "name": "stderr",
     "output_type": "stream",
     "text": [
      "\r\n",
      "Train:  24%|██▎       | 26/110 [07:15<21:51, 15.62s/it]"
     ]
    },
    {
     "name": "stderr",
     "output_type": "stream",
     "text": [
      "\r\n",
      "Train:  25%|██▍       | 27/110 [07:21<17:15, 12.48s/it]"
     ]
    },
    {
     "name": "stderr",
     "output_type": "stream",
     "text": [
      "\r\n",
      "Train:  25%|██▌       | 28/110 [07:26<14:02, 10.28s/it]"
     ]
    },
    {
     "name": "stderr",
     "output_type": "stream",
     "text": [
      "\r\n",
      "Train:  26%|██▋       | 29/110 [08:13<28:59, 21.48s/it]"
     ]
    },
    {
     "name": "stderr",
     "output_type": "stream",
     "text": [
      "\r\n",
      "Train:  27%|██▋       | 30/110 [08:19<22:25, 16.82s/it]"
     ]
    },
    {
     "name": "stderr",
     "output_type": "stream",
     "text": [
      "\r\n",
      "Train:  28%|██▊       | 31/110 [08:24<17:31, 13.31s/it]"
     ]
    },
    {
     "name": "stderr",
     "output_type": "stream",
     "text": [
      "\r\n",
      "Train:  29%|██▉       | 32/110 [08:30<14:07, 10.86s/it]"
     ]
    },
    {
     "name": "stderr",
     "output_type": "stream",
     "text": [
      "\r\n",
      "Train:  30%|███       | 33/110 [09:07<24:16, 18.91s/it]"
     ]
    },
    {
     "name": "stderr",
     "output_type": "stream",
     "text": [
      "\r\n",
      "Train:  31%|███       | 34/110 [09:25<23:24, 18.48s/it]"
     ]
    },
    {
     "name": "stderr",
     "output_type": "stream",
     "text": [
      "\r\n",
      "Train:  32%|███▏      | 35/110 [09:30<18:07, 14.50s/it]"
     ]
    },
    {
     "name": "stderr",
     "output_type": "stream",
     "text": [
      "\r\n",
      "Train:  33%|███▎      | 36/110 [09:35<14:29, 11.75s/it]"
     ]
    },
    {
     "name": "stderr",
     "output_type": "stream",
     "text": [
      "\r\n",
      "Train:  34%|███▎      | 37/110 [10:14<24:13, 19.91s/it]"
     ]
    },
    {
     "name": "stderr",
     "output_type": "stream",
     "text": [
      "\r\n",
      "Train:  35%|███▍      | 38/110 [10:26<20:49, 17.35s/it]"
     ]
    },
    {
     "name": "stderr",
     "output_type": "stream",
     "text": [
      "\r\n",
      "Train:  35%|███▌      | 39/110 [10:31<16:09, 13.66s/it]"
     ]
    },
    {
     "name": "stderr",
     "output_type": "stream",
     "text": [
      "\r\n",
      "Train:  36%|███▋      | 40/110 [10:36<12:58, 11.12s/it]"
     ]
    },
    {
     "name": "stderr",
     "output_type": "stream",
     "text": [
      "\r\n",
      "Train:  37%|███▋      | 41/110 [11:18<23:24, 20.35s/it]"
     ]
    },
    {
     "name": "stderr",
     "output_type": "stream",
     "text": [
      "\r\n",
      "Train:  38%|███▊      | 42/110 [11:32<21:00, 18.54s/it]"
     ]
    },
    {
     "name": "stderr",
     "output_type": "stream",
     "text": [
      "\r\n",
      "Train:  39%|███▉      | 43/110 [11:37<16:09, 14.46s/it]"
     ]
    },
    {
     "name": "stderr",
     "output_type": "stream",
     "text": [
      "\r\n",
      "Train:  40%|████      | 44/110 [11:42<12:52, 11.70s/it]"
     ]
    },
    {
     "name": "stderr",
     "output_type": "stream",
     "text": [
      "\r\n",
      "Train:  41%|████      | 45/110 [12:18<20:37, 19.04s/it]"
     ]
    },
    {
     "name": "stderr",
     "output_type": "stream",
     "text": [
      "\r\n",
      "Train:  42%|████▏     | 46/110 [12:37<20:18, 19.04s/it]"
     ]
    },
    {
     "name": "stderr",
     "output_type": "stream",
     "text": [
      "\r\n",
      "Train:  43%|████▎     | 47/110 [12:43<15:37, 14.88s/it]"
     ]
    },
    {
     "name": "stderr",
     "output_type": "stream",
     "text": [
      "\r\n",
      "Train:  44%|████▎     | 48/110 [12:48<12:20, 11.95s/it]"
     ]
    },
    {
     "name": "stderr",
     "output_type": "stream",
     "text": [
      "\r\n",
      "Train:  45%|████▍     | 49/110 [13:22<18:52, 18.56s/it]"
     ]
    },
    {
     "name": "stderr",
     "output_type": "stream",
     "text": [
      "\r\n",
      "Train:  45%|████▌     | 50/110 [13:38<17:46, 17.77s/it]"
     ]
    },
    {
     "name": "stderr",
     "output_type": "stream",
     "text": [
      "\r\n",
      "Train:  46%|████▋     | 51/110 [13:43<13:47, 14.02s/it]"
     ]
    },
    {
     "name": "stderr",
     "output_type": "stream",
     "text": [
      "\r\n",
      "Train:  47%|████▋     | 52/110 [13:48<10:58, 11.35s/it]"
     ]
    },
    {
     "name": "stderr",
     "output_type": "stream",
     "text": [
      "\r\n",
      "Train:  48%|████▊     | 53/110 [14:15<15:09, 15.96s/it]"
     ]
    },
    {
     "name": "stderr",
     "output_type": "stream",
     "text": [
      "\r\n",
      "Train:  49%|████▉     | 54/110 [14:37<16:43, 17.92s/it]"
     ]
    },
    {
     "name": "stderr",
     "output_type": "stream",
     "text": [
      "\r\n",
      "Train:  50%|█████     | 55/110 [14:42<12:52, 14.04s/it]"
     ]
    },
    {
     "name": "stderr",
     "output_type": "stream",
     "text": [
      "\r\n",
      "Train:  51%|█████     | 56/110 [14:48<10:17, 11.43s/it]"
     ]
    },
    {
     "name": "stderr",
     "output_type": "stream",
     "text": [
      "\r\n",
      "Train:  52%|█████▏    | 57/110 [15:13<13:50, 15.67s/it]"
     ]
    },
    {
     "name": "stderr",
     "output_type": "stream",
     "text": [
      "\r\n",
      "Train:  53%|█████▎    | 58/110 [15:32<14:31, 16.77s/it]"
     ]
    },
    {
     "name": "stderr",
     "output_type": "stream",
     "text": [
      "\r\n",
      "Train:  54%|█████▎    | 59/110 [15:37<11:15, 13.25s/it]"
     ]
    },
    {
     "name": "stderr",
     "output_type": "stream",
     "text": [
      "\r\n",
      "Train:  55%|█████▍    | 60/110 [15:43<09:01, 10.83s/it]"
     ]
    },
    {
     "name": "stderr",
     "output_type": "stream",
     "text": [
      "\r\n",
      "Train:  55%|█████▌    | 61/110 [16:13<13:36, 16.65s/it]"
     ]
    },
    {
     "name": "stderr",
     "output_type": "stream",
     "text": [
      "\r\n",
      "Train:  56%|█████▋    | 62/110 [16:24<11:57, 14.96s/it]"
     ]
    },
    {
     "name": "stderr",
     "output_type": "stream",
     "text": [
      "\r\n",
      "Train:  57%|█████▋    | 63/110 [16:29<09:23, 11.99s/it]"
     ]
    },
    {
     "name": "stderr",
     "output_type": "stream",
     "text": [
      "\r\n",
      "Train:  58%|█████▊    | 64/110 [16:34<07:36,  9.93s/it]"
     ]
    },
    {
     "name": "stderr",
     "output_type": "stream",
     "text": [
      "\r\n",
      "Train:  59%|█████▉    | 65/110 [17:09<13:10, 17.56s/it]"
     ]
    },
    {
     "name": "stderr",
     "output_type": "stream",
     "text": [
      "\r\n",
      "Train:  60%|██████    | 66/110 [17:22<11:41, 15.94s/it]"
     ]
    },
    {
     "name": "stderr",
     "output_type": "stream",
     "text": [
      "\r\n",
      "Train:  61%|██████    | 67/110 [17:27<09:06, 12.72s/it]"
     ]
    },
    {
     "name": "stderr",
     "output_type": "stream",
     "text": [
      "\r\n",
      "Train:  62%|██████▏   | 68/110 [17:32<07:20, 10.48s/it]"
     ]
    },
    {
     "name": "stderr",
     "output_type": "stream",
     "text": [
      "\r\n",
      "Train:  63%|██████▎   | 69/110 [18:13<13:23, 19.60s/it]"
     ]
    },
    {
     "name": "stderr",
     "output_type": "stream",
     "text": [
      "\r\n",
      "Train:  64%|██████▎   | 70/110 [18:18<10:07, 15.18s/it]"
     ]
    },
    {
     "name": "stderr",
     "output_type": "stream",
     "text": [
      "\r\n",
      "Train:  65%|██████▍   | 71/110 [18:23<07:54, 12.16s/it]"
     ]
    },
    {
     "name": "stderr",
     "output_type": "stream",
     "text": [
      "\r\n",
      "Train:  65%|██████▌   | 72/110 [18:28<06:22, 10.08s/it]"
     ]
    },
    {
     "name": "stderr",
     "output_type": "stream",
     "text": [
      "\r\n",
      "Train:  66%|██████▋   | 73/110 [19:13<12:43, 20.65s/it]"
     ]
    },
    {
     "name": "stderr",
     "output_type": "stream",
     "text": [
      "\r\n",
      "Train:  67%|██████▋   | 74/110 [19:18<09:32, 15.92s/it]"
     ]
    },
    {
     "name": "stderr",
     "output_type": "stream",
     "text": [
      "\r\n",
      "Train:  68%|██████▊   | 75/110 [19:24<07:24, 12.70s/it]"
     ]
    },
    {
     "name": "stderr",
     "output_type": "stream",
     "text": [
      "\r\n",
      "Train:  69%|██████▉   | 76/110 [19:29<05:56, 10.47s/it]"
     ]
    },
    {
     "name": "stderr",
     "output_type": "stream",
     "text": [
      "\r\n",
      "Train:  70%|███████   | 77/110 [20:12<11:10, 20.32s/it]"
     ]
    },
    {
     "name": "stderr",
     "output_type": "stream",
     "text": [
      "\r\n",
      "Train:  71%|███████   | 78/110 [20:18<08:34, 16.08s/it]"
     ]
    },
    {
     "name": "stderr",
     "output_type": "stream",
     "text": [
      "\r\n",
      "Train:  72%|███████▏  | 79/110 [20:23<06:36, 12.79s/it]"
     ]
    },
    {
     "name": "stderr",
     "output_type": "stream",
     "text": [
      "\r\n",
      "Train:  73%|███████▎  | 80/110 [20:29<05:15, 10.51s/it]"
     ]
    },
    {
     "name": "stderr",
     "output_type": "stream",
     "text": [
      "\r\n",
      "Train:  74%|███████▎  | 81/110 [21:13<09:59, 20.68s/it]"
     ]
    },
    {
     "name": "stderr",
     "output_type": "stream",
     "text": [
      "\r\n",
      "Train:  75%|███████▍  | 82/110 [21:20<07:47, 16.71s/it]"
     ]
    },
    {
     "name": "stderr",
     "output_type": "stream",
     "text": [
      "\r\n",
      "Train:  75%|███████▌  | 83/110 [21:26<05:56, 13.21s/it]"
     ]
    },
    {
     "name": "stderr",
     "output_type": "stream",
     "text": [
      "\r\n",
      "Train:  76%|███████▋  | 84/110 [21:31<04:40, 10.80s/it]"
     ]
    },
    {
     "name": "stderr",
     "output_type": "stream",
     "text": [
      "\r\n",
      "Train:  77%|███████▋  | 85/110 [22:10<08:06, 19.46s/it]"
     ]
    },
    {
     "name": "stderr",
     "output_type": "stream",
     "text": [
      "\r\n",
      "Train:  78%|███████▊  | 86/110 [22:21<06:45, 16.91s/it]"
     ]
    },
    {
     "name": "stderr",
     "output_type": "stream",
     "text": [
      "\r\n",
      "Train:  79%|███████▉  | 87/110 [22:26<05:07, 13.37s/it]"
     ]
    },
    {
     "name": "stderr",
     "output_type": "stream",
     "text": [
      "\r\n",
      "Train:  80%|████████  | 88/110 [22:32<03:59, 10.89s/it]"
     ]
    },
    {
     "name": "stderr",
     "output_type": "stream",
     "text": [
      "\r\n",
      "Train:  81%|████████  | 89/110 [23:11<06:51, 19.58s/it]"
     ]
    },
    {
     "name": "stderr",
     "output_type": "stream",
     "text": [
      "\r\n",
      "Train:  82%|████████▏ | 90/110 [23:25<05:54, 17.75s/it]"
     ]
    },
    {
     "name": "stderr",
     "output_type": "stream",
     "text": [
      "\r\n",
      "Train:  83%|████████▎ | 91/110 [23:30<04:25, 13.99s/it]"
     ]
    },
    {
     "name": "stderr",
     "output_type": "stream",
     "text": [
      "\r\n",
      "Train:  84%|████████▎ | 92/110 [23:35<03:24, 11.34s/it]"
     ]
    },
    {
     "name": "stderr",
     "output_type": "stream",
     "text": [
      "\r\n",
      "Train:  85%|████████▍ | 93/110 [24:09<05:09, 18.18s/it]"
     ]
    },
    {
     "name": "stderr",
     "output_type": "stream",
     "text": [
      "\r\n",
      "Train:  85%|████████▌ | 94/110 [24:24<04:34, 17.13s/it]"
     ]
    },
    {
     "name": "stderr",
     "output_type": "stream",
     "text": [
      "\r\n",
      "Train:  86%|████████▋ | 95/110 [24:29<03:23, 13.53s/it]"
     ]
    },
    {
     "name": "stderr",
     "output_type": "stream",
     "text": [
      "\r\n",
      "Train:  87%|████████▋ | 96/110 [24:35<02:35, 11.07s/it]"
     ]
    },
    {
     "name": "stderr",
     "output_type": "stream",
     "text": [
      "\r\n",
      "Train:  88%|████████▊ | 97/110 [25:08<03:51, 17.82s/it]"
     ]
    },
    {
     "name": "stderr",
     "output_type": "stream",
     "text": [
      "\r\n",
      "Train:  89%|████████▉ | 98/110 [25:24<03:27, 17.25s/it]"
     ]
    },
    {
     "name": "stderr",
     "output_type": "stream",
     "text": [
      "\r\n",
      "Train:  90%|█████████ | 99/110 [25:29<02:29, 13.62s/it]"
     ]
    },
    {
     "name": "stderr",
     "output_type": "stream",
     "text": [
      "\r\n",
      "Train:  91%|█████████ | 100/110 [25:34<01:50, 11.08s/it]"
     ]
    },
    {
     "name": "stderr",
     "output_type": "stream",
     "text": [
      "\r\n",
      "Train:  92%|█████████▏| 101/110 [26:10<02:45, 18.40s/it]"
     ]
    },
    {
     "name": "stderr",
     "output_type": "stream",
     "text": [
      "\r\n",
      "Train:  93%|█████████▎| 102/110 [26:29<02:29, 18.67s/it]"
     ]
    },
    {
     "name": "stderr",
     "output_type": "stream",
     "text": [
      "\r\n",
      "Train:  94%|█████████▎| 103/110 [26:34<01:41, 14.56s/it]"
     ]
    },
    {
     "name": "stderr",
     "output_type": "stream",
     "text": [
      "\r\n",
      "Train:  95%|█████████▍| 104/110 [26:39<01:10, 11.71s/it]"
     ]
    },
    {
     "name": "stderr",
     "output_type": "stream",
     "text": [
      "\r\n",
      "Train:  95%|█████████▌| 105/110 [27:04<01:17, 15.54s/it]"
     ]
    },
    {
     "name": "stderr",
     "output_type": "stream",
     "text": [
      "\r\n",
      "Train:  96%|█████████▋| 106/110 [27:12<00:52, 13.25s/it]"
     ]
    },
    {
     "name": "stderr",
     "output_type": "stream",
     "text": [
      "\r\n",
      "Train:  97%|█████████▋| 107/110 [27:16<00:32, 10.68s/it]"
     ]
    },
    {
     "name": "stderr",
     "output_type": "stream",
     "text": [
      "\r\n",
      "Train:  98%|█████████▊| 108/110 [27:21<00:17,  8.90s/it]"
     ]
    },
    {
     "name": "stderr",
     "output_type": "stream",
     "text": [
      "\r\n",
      "Train:  99%|█████████▉| 109/110 [27:42<00:12, 12.41s/it]"
     ]
    },
    {
     "name": "stderr",
     "output_type": "stream",
     "text": [
      "\r\n",
      "Train: 100%|██████████| 110/110 [27:42<00:00, 15.11s/it]"
     ]
    },
    {
     "name": "stderr",
     "output_type": "stream",
     "text": [
      "\n"
     ]
    },
    {
     "name": "stdout",
     "output_type": "stream",
     "text": [
      "  Train Loss: 1.0334, Acc: 0.4235\n"
     ]
    },
    {
     "name": "stderr",
     "output_type": "stream",
     "text": [
      "\r\n",
      "Val:   0%|          | 0/28 [00:00<?, ?it/s]"
     ]
    },
    {
     "name": "stderr",
     "output_type": "stream",
     "text": [
      "\r\n",
      "Val:   4%|▎         | 1/28 [01:06<29:57, 66.57s/it]"
     ]
    },
    {
     "name": "stderr",
     "output_type": "stream",
     "text": [
      "\r\n",
      "Val:   7%|▋         | 2/28 [01:11<13:09, 30.37s/it]"
     ]
    },
    {
     "name": "stderr",
     "output_type": "stream",
     "text": [
      "\r\n",
      "Val:  11%|█         | 3/28 [01:16<07:49, 18.79s/it]"
     ]
    },
    {
     "name": "stderr",
     "output_type": "stream",
     "text": [
      "\r\n",
      "Val:  14%|█▍        | 4/28 [01:21<05:20, 13.36s/it]"
     ]
    },
    {
     "name": "stderr",
     "output_type": "stream",
     "text": [
      "\r\n",
      "Val:  18%|█▊        | 5/28 [02:01<08:47, 22.92s/it]"
     ]
    },
    {
     "name": "stderr",
     "output_type": "stream",
     "text": [
      "\r\n",
      "Val:  21%|██▏       | 6/28 [02:06<06:07, 16.71s/it]"
     ]
    },
    {
     "name": "stderr",
     "output_type": "stream",
     "text": [
      "\r\n",
      "Val:  25%|██▌       | 7/28 [02:10<04:28, 12.78s/it]"
     ]
    },
    {
     "name": "stderr",
     "output_type": "stream",
     "text": [
      "\r\n",
      "Val:  29%|██▊       | 8/28 [02:15<03:24, 10.24s/it]"
     ]
    },
    {
     "name": "stderr",
     "output_type": "stream",
     "text": [
      "\r\n",
      "Val:  32%|███▏      | 9/28 [03:01<06:45, 21.36s/it]"
     ]
    },
    {
     "name": "stderr",
     "output_type": "stream",
     "text": [
      "\r\n",
      "Val:  36%|███▌      | 10/28 [03:06<04:52, 16.26s/it]"
     ]
    },
    {
     "name": "stderr",
     "output_type": "stream",
     "text": [
      "\r\n",
      "Val:  39%|███▉      | 11/28 [03:11<03:37, 12.77s/it]"
     ]
    },
    {
     "name": "stderr",
     "output_type": "stream",
     "text": [
      "\r\n",
      "Val:  43%|████▎     | 12/28 [03:16<02:46, 10.39s/it]"
     ]
    },
    {
     "name": "stderr",
     "output_type": "stream",
     "text": [
      "\r\n",
      "Val:  46%|████▋     | 13/28 [03:53<04:38, 18.59s/it]"
     ]
    },
    {
     "name": "stderr",
     "output_type": "stream",
     "text": [
      "\r\n",
      "Val:  50%|█████     | 14/28 [03:58<03:21, 14.41s/it]"
     ]
    },
    {
     "name": "stderr",
     "output_type": "stream",
     "text": [
      "\r\n",
      "Val:  54%|█████▎    | 15/28 [04:03<02:30, 11.55s/it]"
     ]
    },
    {
     "name": "stderr",
     "output_type": "stream",
     "text": [
      "\r\n",
      "Val:  57%|█████▋    | 16/28 [04:08<01:54,  9.55s/it]"
     ]
    },
    {
     "name": "stderr",
     "output_type": "stream",
     "text": [
      "\r\n",
      "Val:  61%|██████    | 17/28 [04:52<03:41, 20.12s/it]"
     ]
    },
    {
     "name": "stderr",
     "output_type": "stream",
     "text": [
      "\r\n",
      "Val:  64%|██████▍   | 18/28 [04:57<02:34, 15.46s/it]"
     ]
    },
    {
     "name": "stderr",
     "output_type": "stream",
     "text": [
      "\r\n",
      "Val:  68%|██████▊   | 19/28 [05:02<01:50, 12.26s/it]"
     ]
    },
    {
     "name": "stderr",
     "output_type": "stream",
     "text": [
      "\r\n",
      "Val:  71%|███████▏  | 20/28 [05:07<01:20, 10.11s/it]"
     ]
    },
    {
     "name": "stderr",
     "output_type": "stream",
     "text": [
      "\r\n",
      "Val:  75%|███████▌  | 21/28 [05:48<02:16, 19.52s/it]"
     ]
    },
    {
     "name": "stderr",
     "output_type": "stream",
     "text": [
      "\r\n",
      "Val:  79%|███████▊  | 22/28 [05:54<01:31, 15.31s/it]"
     ]
    },
    {
     "name": "stderr",
     "output_type": "stream",
     "text": [
      "\r\n",
      "Val:  82%|████████▏ | 23/28 [05:58<01:00, 12.11s/it]"
     ]
    },
    {
     "name": "stderr",
     "output_type": "stream",
     "text": [
      "\r\n",
      "Val:  86%|████████▌ | 24/28 [06:03<00:39,  9.90s/it]"
     ]
    },
    {
     "name": "stderr",
     "output_type": "stream",
     "text": [
      "\r\n",
      "Val:  89%|████████▉ | 25/28 [06:39<00:52, 17.66s/it]"
     ]
    },
    {
     "name": "stderr",
     "output_type": "stream",
     "text": [
      "\r\n",
      "Val:  93%|█████████▎| 26/28 [06:43<00:27, 13.67s/it]"
     ]
    },
    {
     "name": "stderr",
     "output_type": "stream",
     "text": [
      "\r\n",
      "Val:  96%|█████████▋| 27/28 [06:48<00:10, 10.89s/it]"
     ]
    },
    {
     "name": "stderr",
     "output_type": "stream",
     "text": [
      "\r\n",
      "Val: 100%|██████████| 28/28 [06:49<00:00,  8.13s/it]"
     ]
    },
    {
     "name": "stderr",
     "output_type": "stream",
     "text": [
      "\r\n",
      "Val: 100%|██████████| 28/28 [06:49<00:00, 14.64s/it]"
     ]
    },
    {
     "name": "stderr",
     "output_type": "stream",
     "text": [
      "\n"
     ]
    },
    {
     "name": "stdout",
     "output_type": "stream",
     "text": [
      "  Val Loss: 1.1285, Acc: 0.4188\n",
      "  + New best! Saved.\n",
      "Epoch 5/10\n"
     ]
    },
    {
     "name": "stderr",
     "output_type": "stream",
     "text": [
      "\r\n",
      "Train:   0%|          | 0/110 [00:00<?, ?it/s]"
     ]
    },
    {
     "name": "stderr",
     "output_type": "stream",
     "text": [
      "\r\n",
      "Train:   1%|          | 1/110 [00:59<1:48:19, 59.63s/it]"
     ]
    },
    {
     "name": "stderr",
     "output_type": "stream",
     "text": [
      "\r\n",
      "Train:   2%|▏         | 2/110 [01:04<49:38, 27.58s/it]  "
     ]
    },
    {
     "name": "stderr",
     "output_type": "stream",
     "text": [
      "\r\n",
      "Train:   3%|▎         | 3/110 [01:09<30:57, 17.36s/it]"
     ]
    },
    {
     "name": "stderr",
     "output_type": "stream",
     "text": [
      "\r\n",
      "Train:   4%|▎         | 4/110 [01:15<22:10, 12.55s/it]"
     ]
    },
    {
     "name": "stderr",
     "output_type": "stream",
     "text": [
      "\r\n",
      "Train:   5%|▍         | 5/110 [01:51<36:55, 21.10s/it]"
     ]
    },
    {
     "name": "stderr",
     "output_type": "stream",
     "text": [
      "\r\n",
      "Train:   5%|▌         | 6/110 [01:56<27:00, 15.58s/it]"
     ]
    },
    {
     "name": "stderr",
     "output_type": "stream",
     "text": [
      "\r\n",
      "Train:   6%|▋         | 7/110 [02:02<21:26, 12.49s/it]"
     ]
    },
    {
     "name": "stderr",
     "output_type": "stream",
     "text": [
      "\r\n",
      "Train:   7%|▋         | 8/110 [02:07<17:12, 10.12s/it]"
     ]
    },
    {
     "name": "stderr",
     "output_type": "stream",
     "text": [
      "\r\n",
      "Train:   8%|▊         | 9/110 [02:50<34:28, 20.48s/it]"
     ]
    },
    {
     "name": "stderr",
     "output_type": "stream",
     "text": [
      "\r\n",
      "Train:   9%|▉         | 10/110 [02:55<26:07, 15.68s/it]"
     ]
    },
    {
     "name": "stderr",
     "output_type": "stream",
     "text": [
      "\r\n",
      "Train:  10%|█         | 11/110 [03:00<20:30, 12.42s/it]"
     ]
    },
    {
     "name": "stderr",
     "output_type": "stream",
     "text": [
      "\r\n",
      "Train:  11%|█         | 12/110 [03:05<16:40, 10.21s/it]"
     ]
    },
    {
     "name": "stderr",
     "output_type": "stream",
     "text": [
      "\r\n",
      "Train:  12%|█▏        | 13/110 [03:41<28:57, 17.91s/it]"
     ]
    },
    {
     "name": "stderr",
     "output_type": "stream",
     "text": [
      "\r\n",
      "Train:  13%|█▎        | 14/110 [03:52<25:22, 15.86s/it]"
     ]
    },
    {
     "name": "stderr",
     "output_type": "stream",
     "text": [
      "\r\n",
      "Train:  14%|█▎        | 15/110 [03:57<19:58, 12.62s/it]"
     ]
    },
    {
     "name": "stderr",
     "output_type": "stream",
     "text": [
      "\r\n",
      "Train:  15%|█▍        | 16/110 [04:02<16:13, 10.36s/it]"
     ]
    },
    {
     "name": "stderr",
     "output_type": "stream",
     "text": [
      "\r\n",
      "Train:  15%|█▌        | 17/110 [04:34<25:55, 16.72s/it]"
     ]
    },
    {
     "name": "stderr",
     "output_type": "stream",
     "text": [
      "\r\n",
      "Train:  16%|█▋        | 18/110 [04:49<24:54, 16.24s/it]"
     ]
    },
    {
     "name": "stderr",
     "output_type": "stream",
     "text": [
      "\r\n",
      "Train:  17%|█▋        | 19/110 [04:54<19:30, 12.86s/it]"
     ]
    },
    {
     "name": "stderr",
     "output_type": "stream",
     "text": [
      "\r\n",
      "Train:  18%|█▊        | 20/110 [04:59<15:49, 10.55s/it]"
     ]
    },
    {
     "name": "stderr",
     "output_type": "stream",
     "text": [
      "\r\n",
      "Train:  19%|█▉        | 21/110 [05:34<26:33, 17.91s/it]"
     ]
    },
    {
     "name": "stderr",
     "output_type": "stream",
     "text": [
      "\r\n",
      "Train:  20%|██        | 22/110 [05:39<20:34, 14.03s/it]"
     ]
    },
    {
     "name": "stderr",
     "output_type": "stream",
     "text": [
      "\r\n",
      "Train:  21%|██        | 23/110 [05:48<18:09, 12.52s/it]"
     ]
    },
    {
     "name": "stderr",
     "output_type": "stream",
     "text": [
      "\r\n",
      "Train:  22%|██▏       | 24/110 [05:53<14:46, 10.31s/it]"
     ]
    },
    {
     "name": "stderr",
     "output_type": "stream",
     "text": [
      "\r\n",
      "Train:  23%|██▎       | 25/110 [06:35<27:56, 19.72s/it]"
     ]
    },
    {
     "name": "stderr",
     "output_type": "stream",
     "text": [
      "\r\n",
      "Train:  24%|██▎       | 26/110 [06:40<21:25, 15.30s/it]"
     ]
    },
    {
     "name": "stderr",
     "output_type": "stream",
     "text": [
      "\r\n",
      "Train:  25%|██▍       | 27/110 [06:48<17:58, 12.99s/it]"
     ]
    },
    {
     "name": "stderr",
     "output_type": "stream",
     "text": [
      "\r\n",
      "Train:  25%|██▌       | 28/110 [06:53<14:35, 10.68s/it]"
     ]
    },
    {
     "name": "stderr",
     "output_type": "stream",
     "text": [
      "\r\n",
      "Train:  26%|██▋       | 29/110 [07:35<27:16, 20.20s/it]"
     ]
    },
    {
     "name": "stderr",
     "output_type": "stream",
     "text": [
      "\r\n",
      "Train:  27%|██▋       | 30/110 [07:40<20:50, 15.63s/it]"
     ]
    },
    {
     "name": "stderr",
     "output_type": "stream",
     "text": [
      "\r\n",
      "Train:  28%|██▊       | 31/110 [07:45<16:22, 12.44s/it]"
     ]
    },
    {
     "name": "stderr",
     "output_type": "stream",
     "text": [
      "\r\n",
      "Train:  29%|██▉       | 32/110 [07:50<13:19, 10.25s/it]"
     ]
    },
    {
     "name": "stderr",
     "output_type": "stream",
     "text": [
      "\r\n",
      "Train:  30%|███       | 33/110 [08:35<26:33, 20.69s/it]"
     ]
    },
    {
     "name": "stderr",
     "output_type": "stream",
     "text": [
      "\r\n",
      "Train:  31%|███       | 34/110 [08:40<20:14, 15.98s/it]"
     ]
    },
    {
     "name": "stderr",
     "output_type": "stream",
     "text": [
      "\r\n",
      "Train:  32%|███▏      | 35/110 [08:46<15:54, 12.72s/it]"
     ]
    },
    {
     "name": "stderr",
     "output_type": "stream",
     "text": [
      "\r\n",
      "Train:  33%|███▎      | 36/110 [08:51<12:57, 10.50s/it]"
     ]
    },
    {
     "name": "stderr",
     "output_type": "stream",
     "text": [
      "\r\n",
      "Train:  34%|███▎      | 37/110 [09:29<23:00, 18.92s/it]"
     ]
    },
    {
     "name": "stderr",
     "output_type": "stream",
     "text": [
      "\r\n",
      "Train:  35%|███▍      | 38/110 [09:34<17:39, 14.72s/it]"
     ]
    },
    {
     "name": "stderr",
     "output_type": "stream",
     "text": [
      "\r\n",
      "Train:  35%|███▌      | 39/110 [09:41<14:40, 12.40s/it]"
     ]
    },
    {
     "name": "stderr",
     "output_type": "stream",
     "text": [
      "\r\n",
      "Train:  36%|███▋      | 40/110 [09:46<11:55, 10.23s/it]"
     ]
    },
    {
     "name": "stderr",
     "output_type": "stream",
     "text": [
      "\r\n",
      "Train:  37%|███▋      | 41/110 [10:30<23:14, 20.20s/it]"
     ]
    },
    {
     "name": "stderr",
     "output_type": "stream",
     "text": [
      "\r\n",
      "Train:  38%|███▊      | 42/110 [10:35<17:42, 15.63s/it]"
     ]
    },
    {
     "name": "stderr",
     "output_type": "stream",
     "text": [
      "\r\n",
      "Train:  39%|███▉      | 43/110 [10:40<14:03, 12.59s/it]"
     ]
    },
    {
     "name": "stderr",
     "output_type": "stream",
     "text": [
      "\r\n",
      "Train:  40%|████      | 44/110 [10:45<11:22, 10.34s/it]"
     ]
    },
    {
     "name": "stderr",
     "output_type": "stream",
     "text": [
      "\r\n",
      "Train:  41%|████      | 45/110 [11:29<22:02, 20.34s/it]"
     ]
    },
    {
     "name": "stderr",
     "output_type": "stream",
     "text": [
      "\r\n",
      "Train:  42%|████▏     | 46/110 [11:34<16:47, 15.74s/it]"
     ]
    },
    {
     "name": "stderr",
     "output_type": "stream",
     "text": [
      "\r\n",
      "Train:  43%|████▎     | 47/110 [11:39<13:15, 12.62s/it]"
     ]
    },
    {
     "name": "stderr",
     "output_type": "stream",
     "text": [
      "\r\n",
      "Train:  44%|████▎     | 48/110 [11:45<10:43, 10.37s/it]"
     ]
    },
    {
     "name": "stderr",
     "output_type": "stream",
     "text": [
      "\r\n",
      "Train:  45%|████▍     | 49/110 [12:26<20:04, 19.75s/it]"
     ]
    },
    {
     "name": "stderr",
     "output_type": "stream",
     "text": [
      "\r\n",
      "Train:  45%|████▌     | 50/110 [12:31<15:21, 15.36s/it]"
     ]
    },
    {
     "name": "stderr",
     "output_type": "stream",
     "text": [
      "\r\n",
      "Train:  46%|████▋     | 51/110 [12:48<15:20, 15.61s/it]"
     ]
    },
    {
     "name": "stderr",
     "output_type": "stream",
     "text": [
      "\r\n",
      "Train:  47%|████▋     | 52/110 [12:53<12:05, 12.50s/it]"
     ]
    },
    {
     "name": "stderr",
     "output_type": "stream",
     "text": [
      "\r\n",
      "Train:  48%|████▊     | 53/110 [13:31<19:19, 20.33s/it]"
     ]
    },
    {
     "name": "stderr",
     "output_type": "stream",
     "text": [
      "\r\n",
      "Train:  49%|████▉     | 54/110 [13:36<14:41, 15.74s/it]"
     ]
    },
    {
     "name": "stderr",
     "output_type": "stream",
     "text": [
      "\r\n",
      "Train:  50%|█████     | 55/110 [13:47<12:59, 14.18s/it]"
     ]
    },
    {
     "name": "stderr",
     "output_type": "stream",
     "text": [
      "\r\n",
      "Train:  51%|█████     | 56/110 [13:52<10:18, 11.46s/it]"
     ]
    },
    {
     "name": "stderr",
     "output_type": "stream",
     "text": [
      "\r\n",
      "Train:  52%|█████▏    | 57/110 [14:28<16:33, 18.75s/it]"
     ]
    },
    {
     "name": "stderr",
     "output_type": "stream",
     "text": [
      "\r\n",
      "Train:  53%|█████▎    | 58/110 [14:33<12:42, 14.66s/it]"
     ]
    },
    {
     "name": "stderr",
     "output_type": "stream",
     "text": [
      "\r\n",
      "Train:  54%|█████▎    | 59/110 [14:38<10:00, 11.77s/it]"
     ]
    },
    {
     "name": "stderr",
     "output_type": "stream",
     "text": [
      "\r\n",
      "Train:  55%|█████▍    | 60/110 [14:43<08:09,  9.79s/it]"
     ]
    },
    {
     "name": "stderr",
     "output_type": "stream",
     "text": [
      "\r\n",
      "Train:  55%|█████▌    | 61/110 [15:28<16:35, 20.31s/it]"
     ]
    },
    {
     "name": "stderr",
     "output_type": "stream",
     "text": [
      "\r\n",
      "Train:  56%|█████▋    | 62/110 [15:33<12:33, 15.70s/it]"
     ]
    },
    {
     "name": "stderr",
     "output_type": "stream",
     "text": [
      "\r\n",
      "Train:  57%|█████▋    | 63/110 [15:38<09:47, 12.51s/it]"
     ]
    },
    {
     "name": "stderr",
     "output_type": "stream",
     "text": [
      "\r\n",
      "Train:  58%|█████▊    | 64/110 [15:43<07:54, 10.31s/it]"
     ]
    },
    {
     "name": "stderr",
     "output_type": "stream",
     "text": [
      "\r\n",
      "Train:  59%|█████▉    | 65/110 [16:29<15:40, 20.90s/it]"
     ]
    },
    {
     "name": "stderr",
     "output_type": "stream",
     "text": [
      "\r\n",
      "Train:  60%|██████    | 66/110 [16:34<11:50, 16.15s/it]"
     ]
    },
    {
     "name": "stderr",
     "output_type": "stream",
     "text": [
      "\r\n",
      "Train:  61%|██████    | 67/110 [16:39<09:12, 12.86s/it]"
     ]
    },
    {
     "name": "stderr",
     "output_type": "stream",
     "text": [
      "\r\n",
      "Train:  62%|██████▏   | 68/110 [16:44<07:22, 10.54s/it]"
     ]
    },
    {
     "name": "stderr",
     "output_type": "stream",
     "text": [
      "\r\n",
      "Train:  63%|██████▎   | 69/110 [17:29<14:15, 20.87s/it]"
     ]
    },
    {
     "name": "stderr",
     "output_type": "stream",
     "text": [
      "\r\n",
      "Train:  64%|██████▎   | 70/110 [17:34<10:45, 16.13s/it]"
     ]
    },
    {
     "name": "stderr",
     "output_type": "stream",
     "text": [
      "\r\n",
      "Train:  65%|██████▍   | 71/110 [17:39<08:20, 12.83s/it]"
     ]
    },
    {
     "name": "stderr",
     "output_type": "stream",
     "text": [
      "\r\n",
      "Train:  65%|██████▌   | 72/110 [17:45<06:41, 10.55s/it]"
     ]
    },
    {
     "name": "stderr",
     "output_type": "stream",
     "text": [
      "\r\n",
      "Train:  66%|██████▋   | 73/110 [18:32<13:14, 21.48s/it]"
     ]
    },
    {
     "name": "stderr",
     "output_type": "stream",
     "text": [
      "\r\n",
      "Train:  67%|██████▋   | 74/110 [18:36<09:53, 16.48s/it]"
     ]
    },
    {
     "name": "stderr",
     "output_type": "stream",
     "text": [
      "\r\n",
      "Train:  68%|██████▊   | 75/110 [18:41<07:36, 13.04s/it]"
     ]
    },
    {
     "name": "stderr",
     "output_type": "stream",
     "text": [
      "\r\n",
      "Train:  69%|██████▉   | 76/110 [18:46<06:01, 10.64s/it]"
     ]
    },
    {
     "name": "stderr",
     "output_type": "stream",
     "text": [
      "\r\n",
      "Train:  70%|███████   | 77/110 [19:30<11:14, 20.45s/it]"
     ]
    },
    {
     "name": "stderr",
     "output_type": "stream",
     "text": [
      "\r\n",
      "Train:  71%|███████   | 78/110 [19:35<08:26, 15.83s/it]"
     ]
    },
    {
     "name": "stderr",
     "output_type": "stream",
     "text": [
      "\r\n",
      "Train:  72%|███████▏  | 79/110 [19:40<06:30, 12.61s/it]"
     ]
    },
    {
     "name": "stderr",
     "output_type": "stream",
     "text": [
      "\r\n",
      "Train:  73%|███████▎  | 80/110 [19:45<05:10, 10.34s/it]"
     ]
    },
    {
     "name": "stderr",
     "output_type": "stream",
     "text": [
      "\r\n",
      "Train:  74%|███████▎  | 81/110 [20:31<10:06, 20.92s/it]"
     ]
    },
    {
     "name": "stderr",
     "output_type": "stream",
     "text": [
      "\r\n",
      "Train:  75%|███████▍  | 82/110 [20:36<07:31, 16.13s/it]"
     ]
    },
    {
     "name": "stderr",
     "output_type": "stream",
     "text": [
      "\r\n",
      "Train:  75%|███████▌  | 83/110 [20:41<05:45, 12.79s/it]"
     ]
    },
    {
     "name": "stderr",
     "output_type": "stream",
     "text": [
      "\r\n",
      "Train:  76%|███████▋  | 84/110 [20:46<04:32, 10.50s/it]"
     ]
    },
    {
     "name": "stderr",
     "output_type": "stream",
     "text": [
      "\r\n",
      "Train:  77%|███████▋  | 85/110 [21:28<08:18, 19.93s/it]"
     ]
    },
    {
     "name": "stderr",
     "output_type": "stream",
     "text": [
      "\r\n",
      "Train:  78%|███████▊  | 86/110 [21:33<06:12, 15.54s/it]"
     ]
    },
    {
     "name": "stderr",
     "output_type": "stream",
     "text": [
      "\r\n",
      "Train:  79%|███████▉  | 87/110 [21:38<04:45, 12.41s/it]"
     ]
    },
    {
     "name": "stderr",
     "output_type": "stream",
     "text": [
      "\r\n",
      "Train:  80%|████████  | 88/110 [21:43<03:45, 10.24s/it]"
     ]
    },
    {
     "name": "stderr",
     "output_type": "stream",
     "text": [
      "\r\n",
      "Train:  81%|████████  | 89/110 [22:26<07:00, 20.01s/it]"
     ]
    },
    {
     "name": "stderr",
     "output_type": "stream",
     "text": [
      "\r\n",
      "Train:  82%|████████▏ | 90/110 [22:36<05:37, 16.85s/it]"
     ]
    },
    {
     "name": "stderr",
     "output_type": "stream",
     "text": [
      "\r\n",
      "Train:  83%|████████▎ | 91/110 [22:40<04:12, 13.27s/it]"
     ]
    },
    {
     "name": "stderr",
     "output_type": "stream",
     "text": [
      "\r\n",
      "Train:  84%|████████▎ | 92/110 [22:46<03:15, 10.87s/it]"
     ]
    },
    {
     "name": "stderr",
     "output_type": "stream",
     "text": [
      "\r\n",
      "Train:  85%|████████▍ | 93/110 [23:24<05:22, 18.99s/it]"
     ]
    },
    {
     "name": "stderr",
     "output_type": "stream",
     "text": [
      "\r\n",
      "Train:  85%|████████▌ | 94/110 [23:36<04:34, 17.14s/it]"
     ]
    },
    {
     "name": "stderr",
     "output_type": "stream",
     "text": [
      "\r\n",
      "Train:  86%|████████▋ | 95/110 [23:42<03:23, 13.58s/it]"
     ]
    },
    {
     "name": "stderr",
     "output_type": "stream",
     "text": [
      "\r\n",
      "Train:  87%|████████▋ | 96/110 [23:47<02:34, 11.05s/it]"
     ]
    },
    {
     "name": "stderr",
     "output_type": "stream",
     "text": [
      "\r\n",
      "Train:  88%|████████▊ | 97/110 [24:29<04:24, 20.36s/it]"
     ]
    },
    {
     "name": "stderr",
     "output_type": "stream",
     "text": [
      "\r\n",
      "Train:  89%|████████▉ | 98/110 [24:38<03:22, 16.84s/it]"
     ]
    },
    {
     "name": "stderr",
     "output_type": "stream",
     "text": [
      "\r\n",
      "Train:  90%|█████████ | 99/110 [24:43<02:26, 13.32s/it]"
     ]
    },
    {
     "name": "stderr",
     "output_type": "stream",
     "text": [
      "\r\n",
      "Train:  91%|█████████ | 100/110 [24:48<01:49, 10.94s/it]"
     ]
    },
    {
     "name": "stderr",
     "output_type": "stream",
     "text": [
      "\r\n",
      "Train:  92%|█████████▏| 101/110 [25:32<03:06, 20.73s/it]"
     ]
    },
    {
     "name": "stderr",
     "output_type": "stream",
     "text": [
      "\r\n",
      "Train:  93%|█████████▎| 102/110 [25:39<02:12, 16.58s/it]"
     ]
    },
    {
     "name": "stderr",
     "output_type": "stream",
     "text": [
      "\r\n",
      "Train:  94%|█████████▎| 103/110 [25:44<01:31, 13.13s/it]"
     ]
    },
    {
     "name": "stderr",
     "output_type": "stream",
     "text": [
      "\r\n",
      "Train:  95%|█████████▍| 104/110 [25:50<01:06, 11.07s/it]"
     ]
    },
    {
     "name": "stderr",
     "output_type": "stream",
     "text": [
      "\r\n",
      "Train:  95%|█████████▌| 105/110 [26:28<01:35, 19.15s/it]"
     ]
    },
    {
     "name": "stderr",
     "output_type": "stream",
     "text": [
      "\r\n",
      "Train:  96%|█████████▋| 106/110 [26:37<01:04, 16.13s/it]"
     ]
    },
    {
     "name": "stderr",
     "output_type": "stream",
     "text": [
      "\r\n",
      "Train:  97%|█████████▋| 107/110 [26:42<00:38, 12.69s/it]"
     ]
    },
    {
     "name": "stderr",
     "output_type": "stream",
     "text": [
      "\r\n",
      "Train:  98%|█████████▊| 108/110 [26:46<00:20, 10.30s/it]"
     ]
    },
    {
     "name": "stderr",
     "output_type": "stream",
     "text": [
      "\r\n",
      "Train:  99%|█████████▉| 109/110 [27:09<00:13, 13.88s/it]"
     ]
    },
    {
     "name": "stderr",
     "output_type": "stream",
     "text": [
      "\r\n",
      "Train: 100%|██████████| 110/110 [27:09<00:00, 14.81s/it]"
     ]
    },
    {
     "name": "stderr",
     "output_type": "stream",
     "text": [
      "\n"
     ]
    },
    {
     "name": "stdout",
     "output_type": "stream",
     "text": [
      "  Train Loss: 1.0113, Acc: 0.4447\n"
     ]
    },
    {
     "name": "stderr",
     "output_type": "stream",
     "text": [
      "\r\n",
      "Val:   0%|          | 0/28 [00:00<?, ?it/s]"
     ]
    },
    {
     "name": "stderr",
     "output_type": "stream",
     "text": [
      "\r\n",
      "Val:   4%|▎         | 1/28 [01:03<28:28, 63.26s/it]"
     ]
    },
    {
     "name": "stderr",
     "output_type": "stream",
     "text": [
      "\r\n",
      "Val:   7%|▋         | 2/28 [01:07<12:29, 28.82s/it]"
     ]
    },
    {
     "name": "stderr",
     "output_type": "stream",
     "text": [
      "\r\n",
      "Val:  11%|█         | 3/28 [01:12<07:26, 17.87s/it]"
     ]
    },
    {
     "name": "stderr",
     "output_type": "stream",
     "text": [
      "\r\n",
      "Val:  14%|█▍        | 4/28 [01:17<05:06, 12.79s/it]"
     ]
    },
    {
     "name": "stderr",
     "output_type": "stream",
     "text": [
      "\r\n",
      "Val:  18%|█▊        | 5/28 [02:00<09:04, 23.67s/it]"
     ]
    },
    {
     "name": "stderr",
     "output_type": "stream",
     "text": [
      "\r\n",
      "Val:  21%|██▏       | 6/28 [02:05<06:18, 17.22s/it]"
     ]
    },
    {
     "name": "stderr",
     "output_type": "stream",
     "text": [
      "\r\n",
      "Val:  25%|██▌       | 7/28 [02:10<04:36, 13.15s/it]"
     ]
    },
    {
     "name": "stderr",
     "output_type": "stream",
     "text": [
      "\r\n",
      "Val:  29%|██▊       | 8/28 [02:15<03:30, 10.50s/it]"
     ]
    },
    {
     "name": "stderr",
     "output_type": "stream",
     "text": [
      "\r\n",
      "Val:  32%|███▏      | 9/28 [03:03<07:04, 22.33s/it]"
     ]
    },
    {
     "name": "stderr",
     "output_type": "stream",
     "text": [
      "\r\n",
      "Val:  36%|███▌      | 10/28 [03:08<05:04, 16.93s/it]"
     ]
    },
    {
     "name": "stderr",
     "output_type": "stream",
     "text": [
      "\r\n",
      "Val:  39%|███▉      | 11/28 [03:13<03:44, 13.21s/it]"
     ]
    },
    {
     "name": "stderr",
     "output_type": "stream",
     "text": [
      "\r\n",
      "Val:  43%|████▎     | 12/28 [03:17<02:50, 10.66s/it]"
     ]
    },
    {
     "name": "stderr",
     "output_type": "stream",
     "text": [
      "\r\n",
      "Val:  46%|████▋     | 13/28 [04:00<05:04, 20.31s/it]"
     ]
    },
    {
     "name": "stderr",
     "output_type": "stream",
     "text": [
      "\r\n",
      "Val:  50%|█████     | 14/28 [04:05<03:42, 15.87s/it]"
     ]
    },
    {
     "name": "stderr",
     "output_type": "stream",
     "text": [
      "\r\n",
      "Val:  54%|█████▎    | 15/28 [04:10<02:42, 12.49s/it]"
     ]
    },
    {
     "name": "stderr",
     "output_type": "stream",
     "text": [
      "\r\n",
      "Val:  57%|█████▋    | 16/28 [04:15<02:02, 10.21s/it]"
     ]
    },
    {
     "name": "stderr",
     "output_type": "stream",
     "text": [
      "\r\n",
      "Val:  61%|██████    | 17/28 [05:01<03:50, 20.92s/it]"
     ]
    },
    {
     "name": "stderr",
     "output_type": "stream",
     "text": [
      "\r\n",
      "Val:  64%|██████▍   | 18/28 [05:07<02:45, 16.57s/it]"
     ]
    },
    {
     "name": "stderr",
     "output_type": "stream",
     "text": [
      "\r\n",
      "Val:  68%|██████▊   | 19/28 [05:12<01:57, 13.03s/it]"
     ]
    },
    {
     "name": "stderr",
     "output_type": "stream",
     "text": [
      "\r\n",
      "Val:  71%|███████▏  | 20/28 [05:17<01:24, 10.61s/it]"
     ]
    },
    {
     "name": "stderr",
     "output_type": "stream",
     "text": [
      "\r\n",
      "Val:  75%|███████▌  | 21/28 [05:59<02:19, 19.98s/it]"
     ]
    },
    {
     "name": "stderr",
     "output_type": "stream",
     "text": [
      "\r\n",
      "Val:  79%|███████▊  | 22/28 [06:06<01:37, 16.23s/it]"
     ]
    },
    {
     "name": "stderr",
     "output_type": "stream",
     "text": [
      "\r\n",
      "Val:  82%|████████▏ | 23/28 [06:11<01:03, 12.77s/it]"
     ]
    },
    {
     "name": "stderr",
     "output_type": "stream",
     "text": [
      "\r\n",
      "Val:  86%|████████▌ | 24/28 [06:16<00:41, 10.37s/it]"
     ]
    },
    {
     "name": "stderr",
     "output_type": "stream",
     "text": [
      "\r\n",
      "Val:  89%|████████▉ | 25/28 [06:55<00:57, 19.04s/it]"
     ]
    },
    {
     "name": "stderr",
     "output_type": "stream",
     "text": [
      "\r\n",
      "Val:  93%|█████████▎| 26/28 [06:59<00:29, 14.63s/it]"
     ]
    },
    {
     "name": "stderr",
     "output_type": "stream",
     "text": [
      "\r\n",
      "Val:  96%|█████████▋| 27/28 [07:04<00:11, 11.55s/it]"
     ]
    },
    {
     "name": "stderr",
     "output_type": "stream",
     "text": [
      "\r\n",
      "Val: 100%|██████████| 28/28 [07:06<00:00,  8.60s/it]"
     ]
    },
    {
     "name": "stderr",
     "output_type": "stream",
     "text": [
      "\r\n",
      "Val: 100%|██████████| 28/28 [07:06<00:00, 15.22s/it]"
     ]
    },
    {
     "name": "stderr",
     "output_type": "stream",
     "text": [
      "\n"
     ]
    },
    {
     "name": "stdout",
     "output_type": "stream",
     "text": [
      "  Val Loss: 1.0086, Acc: 0.4531\n",
      "  + New best! Saved.\n",
      "Epoch 6/10\n"
     ]
    },
    {
     "name": "stderr",
     "output_type": "stream",
     "text": [
      "\r\n",
      "Train:   0%|          | 0/110 [00:00<?, ?it/s]"
     ]
    },
    {
     "name": "stderr",
     "output_type": "stream",
     "text": [
      "\r\n",
      "Train:   1%|          | 1/110 [00:52<1:34:29, 52.02s/it]"
     ]
    },
    {
     "name": "stderr",
     "output_type": "stream",
     "text": [
      "\r\n",
      "Train:   2%|▏         | 2/110 [00:57<43:51, 24.36s/it]  "
     ]
    },
    {
     "name": "stderr",
     "output_type": "stream",
     "text": [
      "\r\n",
      "Train:   3%|▎         | 3/110 [01:02<27:46, 15.57s/it]"
     ]
    },
    {
     "name": "stderr",
     "output_type": "stream",
     "text": [
      "\r\n",
      "Train:   4%|▎         | 4/110 [01:07<20:16, 11.48s/it]"
     ]
    },
    {
     "name": "stderr",
     "output_type": "stream",
     "text": [
      "\r\n",
      "Train:   5%|▍         | 5/110 [01:50<39:50, 22.77s/it]"
     ]
    },
    {
     "name": "stderr",
     "output_type": "stream",
     "text": [
      "\r\n",
      "Train:   5%|▌         | 6/110 [01:58<30:43, 17.73s/it]"
     ]
    },
    {
     "name": "stderr",
     "output_type": "stream",
     "text": [
      "\r\n",
      "Train:   6%|▋         | 7/110 [02:03<23:33, 13.73s/it]"
     ]
    },
    {
     "name": "stderr",
     "output_type": "stream",
     "text": [
      "\r\n",
      "Train:   7%|▋         | 8/110 [02:08<18:40, 10.99s/it]"
     ]
    },
    {
     "name": "stderr",
     "output_type": "stream",
     "text": [
      "\r\n",
      "Train:   8%|▊         | 9/110 [02:44<31:41, 18.83s/it]"
     ]
    },
    {
     "name": "stderr",
     "output_type": "stream",
     "text": [
      "\r\n",
      "Train:   9%|▉         | 10/110 [03:01<30:32, 18.33s/it]"
     ]
    },
    {
     "name": "stderr",
     "output_type": "stream",
     "text": [
      "\r\n",
      "Train:  10%|█         | 11/110 [03:07<23:32, 14.27s/it]"
     ]
    },
    {
     "name": "stderr",
     "output_type": "stream",
     "text": [
      "\r\n",
      "Train:  11%|█         | 12/110 [03:12<18:49, 11.52s/it]"
     ]
    },
    {
     "name": "stderr",
     "output_type": "stream",
     "text": [
      "\r\n",
      "Train:  12%|█▏        | 13/110 [03:35<24:23, 15.09s/it]"
     ]
    },
    {
     "name": "stderr",
     "output_type": "stream",
     "text": [
      "\r\n",
      "Train:  13%|█▎        | 14/110 [03:56<26:49, 16.77s/it]"
     ]
    },
    {
     "name": "stderr",
     "output_type": "stream",
     "text": [
      "\r\n",
      "Train:  14%|█▎        | 15/110 [04:01<20:55, 13.22s/it]"
     ]
    },
    {
     "name": "stderr",
     "output_type": "stream",
     "text": [
      "\r\n",
      "Train:  15%|█▍        | 16/110 [04:06<16:58, 10.83s/it]"
     ]
    },
    {
     "name": "stderr",
     "output_type": "stream",
     "text": [
      "\r\n",
      "Train:  15%|█▌        | 17/110 [04:38<26:36, 17.16s/it]"
     ]
    },
    {
     "name": "stderr",
     "output_type": "stream",
     "text": [
      "\r\n",
      "Train:  16%|█▋        | 18/110 [04:48<23:09, 15.10s/it]"
     ]
    },
    {
     "name": "stderr",
     "output_type": "stream",
     "text": [
      "\r\n",
      "Train:  17%|█▋        | 19/110 [04:55<19:14, 12.68s/it]"
     ]
    },
    {
     "name": "stderr",
     "output_type": "stream",
     "text": [
      "\r\n",
      "Train:  18%|█▊        | 20/110 [05:00<15:38, 10.42s/it]"
     ]
    },
    {
     "name": "stderr",
     "output_type": "stream",
     "text": [
      "\r\n",
      "Train:  19%|█▉        | 21/110 [05:34<25:36, 17.26s/it]"
     ]
    },
    {
     "name": "stderr",
     "output_type": "stream",
     "text": [
      "\r\n",
      "Train:  20%|██        | 22/110 [05:45<22:36, 15.42s/it]"
     ]
    },
    {
     "name": "stderr",
     "output_type": "stream",
     "text": [
      "\r\n",
      "Train:  21%|██        | 23/110 [05:50<17:50, 12.30s/it]"
     ]
    },
    {
     "name": "stderr",
     "output_type": "stream",
     "text": [
      "\r\n",
      "Train:  22%|██▏       | 24/110 [05:55<14:33, 10.16s/it]"
     ]
    },
    {
     "name": "stderr",
     "output_type": "stream",
     "text": [
      "\r\n",
      "Train:  23%|██▎       | 25/110 [06:34<26:47, 18.92s/it]"
     ]
    },
    {
     "name": "stderr",
     "output_type": "stream",
     "text": [
      "\r\n",
      "Train:  24%|██▎       | 26/110 [06:39<20:36, 14.72s/it]"
     ]
    },
    {
     "name": "stderr",
     "output_type": "stream",
     "text": [
      "\r\n",
      "Train:  25%|██▍       | 27/110 [06:44<16:18, 11.79s/it]"
     ]
    },
    {
     "name": "stderr",
     "output_type": "stream",
     "text": [
      "\r\n",
      "Train:  25%|██▌       | 28/110 [06:54<15:21, 11.24s/it]"
     ]
    },
    {
     "name": "stderr",
     "output_type": "stream",
     "text": [
      "\r\n",
      "Train:  26%|██▋       | 29/110 [07:34<26:53, 19.91s/it]"
     ]
    },
    {
     "name": "stderr",
     "output_type": "stream",
     "text": [
      "\r\n",
      "Train:  27%|██▋       | 30/110 [07:39<20:36, 15.45s/it]"
     ]
    },
    {
     "name": "stderr",
     "output_type": "stream",
     "text": [
      "\r\n",
      "Train:  28%|██▊       | 31/110 [07:44<16:17, 12.37s/it]"
     ]
    },
    {
     "name": "stderr",
     "output_type": "stream",
     "text": [
      "\r\n",
      "Train:  29%|██▉       | 32/110 [07:50<13:14, 10.19s/it]"
     ]
    },
    {
     "name": "stderr",
     "output_type": "stream",
     "text": [
      "\r\n",
      "Train:  30%|███       | 33/110 [08:31<25:11, 19.64s/it]"
     ]
    },
    {
     "name": "stderr",
     "output_type": "stream",
     "text": [
      "\r\n",
      "Train:  31%|███       | 34/110 [08:38<20:06, 15.87s/it]"
     ]
    },
    {
     "name": "stderr",
     "output_type": "stream",
     "text": [
      "\r\n",
      "Train:  32%|███▏      | 35/110 [08:43<15:47, 12.64s/it]"
     ]
    },
    {
     "name": "stderr",
     "output_type": "stream",
     "text": [
      "\r\n",
      "Train:  33%|███▎      | 36/110 [08:49<12:47, 10.38s/it]"
     ]
    },
    {
     "name": "stderr",
     "output_type": "stream",
     "text": [
      "\r\n",
      "Train:  34%|███▎      | 37/110 [09:30<23:48, 19.57s/it]"
     ]
    },
    {
     "name": "stderr",
     "output_type": "stream",
     "text": [
      "\r\n",
      "Train:  35%|███▍      | 38/110 [09:36<18:37, 15.52s/it]"
     ]
    },
    {
     "name": "stderr",
     "output_type": "stream",
     "text": [
      "\r\n",
      "Train:  35%|███▌      | 39/110 [09:40<14:34, 12.31s/it]"
     ]
    },
    {
     "name": "stderr",
     "output_type": "stream",
     "text": [
      "\r\n",
      "Train:  36%|███▋      | 40/110 [09:46<11:51, 10.16s/it]"
     ]
    },
    {
     "name": "stderr",
     "output_type": "stream",
     "text": [
      "\r\n",
      "Train:  37%|███▋      | 41/110 [10:34<24:46, 21.55s/it]"
     ]
    },
    {
     "name": "stderr",
     "output_type": "stream",
     "text": [
      "\r\n",
      "Train:  38%|███▊      | 42/110 [10:39<18:47, 16.58s/it]"
     ]
    },
    {
     "name": "stderr",
     "output_type": "stream",
     "text": [
      "\r\n",
      "Train:  39%|███▉      | 43/110 [10:44<14:38, 13.11s/it]"
     ]
    },
    {
     "name": "stderr",
     "output_type": "stream",
     "text": [
      "\r\n",
      "Train:  40%|████      | 44/110 [10:49<11:47, 10.72s/it]"
     ]
    },
    {
     "name": "stderr",
     "output_type": "stream",
     "text": [
      "\r\n",
      "Train:  41%|████      | 45/110 [11:22<18:47, 17.35s/it]"
     ]
    },
    {
     "name": "stderr",
     "output_type": "stream",
     "text": [
      "\r\n",
      "Train:  42%|████▏     | 46/110 [11:27<14:32, 13.63s/it]"
     ]
    },
    {
     "name": "stderr",
     "output_type": "stream",
     "text": [
      "\r\n",
      "Train:  43%|████▎     | 47/110 [11:32<11:34, 11.03s/it]"
     ]
    },
    {
     "name": "stderr",
     "output_type": "stream",
     "text": [
      "\r\n",
      "Train:  44%|████▎     | 48/110 [11:37<09:32,  9.23s/it]"
     ]
    },
    {
     "name": "stderr",
     "output_type": "stream",
     "text": [
      "\r\n",
      "Train:  45%|████▍     | 49/110 [12:23<20:35, 20.26s/it]"
     ]
    },
    {
     "name": "stderr",
     "output_type": "stream",
     "text": [
      "\r\n",
      "Train:  45%|████▌     | 50/110 [12:28<15:39, 15.67s/it]"
     ]
    },
    {
     "name": "stderr",
     "output_type": "stream",
     "text": [
      "\r\n",
      "Train:  46%|████▋     | 51/110 [12:33<12:17, 12.49s/it]"
     ]
    },
    {
     "name": "stderr",
     "output_type": "stream",
     "text": [
      "\r\n",
      "Train:  47%|████▋     | 52/110 [12:38<09:55, 10.27s/it]"
     ]
    },
    {
     "name": "stderr",
     "output_type": "stream",
     "text": [
      "\r\n",
      "Train:  48%|████▊     | 53/110 [13:19<18:39, 19.65s/it]"
     ]
    },
    {
     "name": "stderr",
     "output_type": "stream",
     "text": [
      "\r\n",
      "Train:  49%|████▉     | 54/110 [13:24<14:13, 15.24s/it]"
     ]
    },
    {
     "name": "stderr",
     "output_type": "stream",
     "text": [
      "\r\n",
      "Train:  50%|█████     | 55/110 [13:29<11:09, 12.17s/it]"
     ]
    },
    {
     "name": "stderr",
     "output_type": "stream",
     "text": [
      "\r\n",
      "Train:  51%|█████     | 56/110 [13:34<08:58,  9.98s/it]"
     ]
    },
    {
     "name": "stderr",
     "output_type": "stream",
     "text": [
      "\r\n",
      "Train:  52%|█████▏    | 57/110 [14:17<17:40, 20.00s/it]"
     ]
    },
    {
     "name": "stderr",
     "output_type": "stream",
     "text": [
      "\r\n",
      "Train:  53%|█████▎    | 58/110 [14:23<13:27, 15.53s/it]"
     ]
    },
    {
     "name": "stderr",
     "output_type": "stream",
     "text": [
      "\r\n",
      "Train:  54%|█████▎    | 59/110 [14:28<10:31, 12.39s/it]"
     ]
    },
    {
     "name": "stderr",
     "output_type": "stream",
     "text": [
      "\r\n",
      "Train:  55%|█████▍    | 60/110 [14:33<08:30, 10.21s/it]"
     ]
    },
    {
     "name": "stderr",
     "output_type": "stream",
     "text": [
      "\r\n",
      "Train:  55%|█████▌    | 61/110 [15:17<16:36, 20.34s/it]"
     ]
    },
    {
     "name": "stderr",
     "output_type": "stream",
     "text": [
      "\r\n",
      "Train:  56%|█████▋    | 62/110 [15:22<12:34, 15.72s/it]"
     ]
    },
    {
     "name": "stderr",
     "output_type": "stream",
     "text": [
      "\r\n",
      "Train:  57%|█████▋    | 63/110 [15:27<09:51, 12.59s/it]"
     ]
    },
    {
     "name": "stderr",
     "output_type": "stream",
     "text": [
      "\r\n",
      "Train:  58%|█████▊    | 64/110 [15:32<07:55, 10.33s/it]"
     ]
    },
    {
     "name": "stderr",
     "output_type": "stream",
     "text": [
      "\r\n",
      "Train:  59%|█████▉    | 65/110 [16:15<15:07, 20.17s/it]"
     ]
    },
    {
     "name": "stderr",
     "output_type": "stream",
     "text": [
      "\r\n",
      "Train:  60%|██████    | 66/110 [16:20<11:26, 15.60s/it]"
     ]
    },
    {
     "name": "stderr",
     "output_type": "stream",
     "text": [
      "\r\n",
      "Train:  61%|██████    | 67/110 [16:26<09:04, 12.66s/it]"
     ]
    },
    {
     "name": "stderr",
     "output_type": "stream",
     "text": [
      "\r\n",
      "Train:  62%|██████▏   | 68/110 [16:31<07:19, 10.45s/it]"
     ]
    },
    {
     "name": "stderr",
     "output_type": "stream",
     "text": [
      "\r\n",
      "Train:  63%|██████▎   | 69/110 [17:17<14:26, 21.13s/it]"
     ]
    },
    {
     "name": "stderr",
     "output_type": "stream",
     "text": [
      "\r\n",
      "Train:  64%|██████▎   | 70/110 [17:22<10:51, 16.28s/it]"
     ]
    },
    {
     "name": "stderr",
     "output_type": "stream",
     "text": [
      "\r\n",
      "Train:  65%|██████▍   | 71/110 [17:27<08:23, 12.91s/it]"
     ]
    },
    {
     "name": "stderr",
     "output_type": "stream",
     "text": [
      "\r\n",
      "Train:  65%|██████▌   | 72/110 [17:32<06:41, 10.56s/it]"
     ]
    },
    {
     "name": "stderr",
     "output_type": "stream",
     "text": [
      "\r\n",
      "Train:  66%|██████▋   | 73/110 [18:18<13:03, 21.18s/it]"
     ]
    },
    {
     "name": "stderr",
     "output_type": "stream",
     "text": [
      "\r\n",
      "Train:  67%|██████▋   | 74/110 [18:23<09:48, 16.35s/it]"
     ]
    },
    {
     "name": "stderr",
     "output_type": "stream",
     "text": [
      "\r\n",
      "Train:  68%|██████▊   | 75/110 [18:28<07:33, 12.95s/it]"
     ]
    },
    {
     "name": "stderr",
     "output_type": "stream",
     "text": [
      "\r\n",
      "Train:  69%|██████▉   | 76/110 [18:33<06:00, 10.59s/it]"
     ]
    },
    {
     "name": "stderr",
     "output_type": "stream",
     "text": [
      "\r\n",
      "Train:  70%|███████   | 77/110 [19:23<12:16, 22.31s/it]"
     ]
    },
    {
     "name": "stderr",
     "output_type": "stream",
     "text": [
      "\r\n",
      "Train:  71%|███████   | 78/110 [19:28<09:08, 17.13s/it]"
     ]
    },
    {
     "name": "stderr",
     "output_type": "stream",
     "text": [
      "\r\n",
      "Train:  72%|███████▏  | 79/110 [19:33<06:59, 13.54s/it]"
     ]
    },
    {
     "name": "stderr",
     "output_type": "stream",
     "text": [
      "\r\n",
      "Train:  73%|███████▎  | 80/110 [19:38<05:30, 11.01s/it]"
     ]
    },
    {
     "name": "stderr",
     "output_type": "stream",
     "text": [
      "\r\n",
      "Train:  74%|███████▎  | 81/110 [20:22<10:06, 20.91s/it]"
     ]
    },
    {
     "name": "stderr",
     "output_type": "stream",
     "text": [
      "\r\n",
      "Train:  75%|███████▍  | 82/110 [20:27<07:32, 16.15s/it]"
     ]
    },
    {
     "name": "stderr",
     "output_type": "stream",
     "text": [
      "\r\n",
      "Train:  75%|███████▌  | 83/110 [20:33<05:46, 12.83s/it]"
     ]
    },
    {
     "name": "stderr",
     "output_type": "stream",
     "text": [
      "\r\n",
      "Train:  76%|███████▋  | 84/110 [20:38<04:33, 10.51s/it]"
     ]
    },
    {
     "name": "stderr",
     "output_type": "stream",
     "text": [
      "\r\n",
      "Train:  77%|███████▋  | 85/110 [21:17<07:59, 19.20s/it]"
     ]
    },
    {
     "name": "stderr",
     "output_type": "stream",
     "text": [
      "\r\n",
      "Train:  78%|███████▊  | 86/110 [21:22<05:59, 14.97s/it]"
     ]
    },
    {
     "name": "stderr",
     "output_type": "stream",
     "text": [
      "\r\n",
      "Train:  79%|███████▉  | 87/110 [21:27<04:35, 12.00s/it]"
     ]
    },
    {
     "name": "stderr",
     "output_type": "stream",
     "text": [
      "\r\n",
      "Train:  80%|████████  | 88/110 [21:32<03:38,  9.94s/it]"
     ]
    },
    {
     "name": "stderr",
     "output_type": "stream",
     "text": [
      "\r\n",
      "Train:  81%|████████  | 89/110 [22:10<06:25, 18.38s/it]"
     ]
    },
    {
     "name": "stderr",
     "output_type": "stream",
     "text": [
      "\r\n",
      "Train:  82%|████████▏ | 90/110 [22:25<05:46, 17.32s/it]"
     ]
    },
    {
     "name": "stderr",
     "output_type": "stream",
     "text": [
      "\r\n",
      "Train:  83%|████████▎ | 91/110 [22:31<04:20, 13.71s/it]"
     ]
    },
    {
     "name": "stderr",
     "output_type": "stream",
     "text": [
      "\r\n",
      "Train:  84%|████████▎ | 92/110 [22:36<03:20, 11.12s/it]"
     ]
    },
    {
     "name": "stderr",
     "output_type": "stream",
     "text": [
      "\r\n",
      "Train:  85%|████████▍ | 93/110 [23:04<04:37, 16.31s/it]"
     ]
    },
    {
     "name": "stderr",
     "output_type": "stream",
     "text": [
      "\r\n",
      "Train:  85%|████████▌ | 94/110 [23:31<05:10, 19.39s/it]"
     ]
    },
    {
     "name": "stderr",
     "output_type": "stream",
     "text": [
      "\r\n",
      "Train:  86%|████████▋ | 95/110 [23:36<03:47, 15.14s/it]"
     ]
    },
    {
     "name": "stderr",
     "output_type": "stream",
     "text": [
      "\r\n",
      "Train:  87%|████████▋ | 96/110 [23:41<02:50, 12.16s/it]"
     ]
    },
    {
     "name": "stderr",
     "output_type": "stream",
     "text": [
      "\r\n",
      "Train:  88%|████████▊ | 97/110 [24:03<03:15, 15.02s/it]"
     ]
    },
    {
     "name": "stderr",
     "output_type": "stream",
     "text": [
      "\r\n",
      "Train:  89%|████████▉ | 98/110 [24:33<03:53, 19.43s/it]"
     ]
    },
    {
     "name": "stderr",
     "output_type": "stream",
     "text": [
      "\r\n",
      "Train:  90%|█████████ | 99/110 [24:38<02:46, 15.11s/it]"
     ]
    },
    {
     "name": "stderr",
     "output_type": "stream",
     "text": [
      "\r\n",
      "Train:  91%|█████████ | 100/110 [24:43<02:01, 12.16s/it]"
     ]
    },
    {
     "name": "stderr",
     "output_type": "stream",
     "text": [
      "\r\n",
      "Train:  92%|█████████▏| 101/110 [25:00<02:03, 13.68s/it]"
     ]
    },
    {
     "name": "stderr",
     "output_type": "stream",
     "text": [
      "\r\n",
      "Train:  93%|█████████▎| 102/110 [25:37<02:45, 20.68s/it]"
     ]
    },
    {
     "name": "stderr",
     "output_type": "stream",
     "text": [
      "\r\n",
      "Train:  94%|█████████▎| 103/110 [25:42<01:51, 15.99s/it]"
     ]
    },
    {
     "name": "stderr",
     "output_type": "stream",
     "text": [
      "\r\n",
      "Train:  95%|█████████▍| 104/110 [25:48<01:16, 12.81s/it]"
     ]
    },
    {
     "name": "stderr",
     "output_type": "stream",
     "text": [
      "\r\n",
      "Train:  95%|█████████▌| 105/110 [25:58<01:00, 12.07s/it]"
     ]
    },
    {
     "name": "stderr",
     "output_type": "stream",
     "text": [
      "\r\n",
      "Train:  96%|█████████▋| 106/110 [26:28<01:09, 17.38s/it]"
     ]
    },
    {
     "name": "stderr",
     "output_type": "stream",
     "text": [
      "\r\n",
      "Train:  97%|█████████▋| 107/110 [26:32<00:40, 13.54s/it]"
     ]
    },
    {
     "name": "stderr",
     "output_type": "stream",
     "text": [
      "\r\n",
      "Train:  98%|█████████▊| 108/110 [26:37<00:21, 10.88s/it]"
     ]
    },
    {
     "name": "stderr",
     "output_type": "stream",
     "text": [
      "\r\n",
      "Train:  99%|█████████▉| 109/110 [26:42<00:09,  9.03s/it]"
     ]
    },
    {
     "name": "stderr",
     "output_type": "stream",
     "text": [
      "\r\n",
      "Train: 100%|██████████| 110/110 [26:42<00:00, 14.56s/it]"
     ]
    },
    {
     "name": "stderr",
     "output_type": "stream",
     "text": [
      "\n"
     ]
    },
    {
     "name": "stdout",
     "output_type": "stream",
     "text": [
      "  Train Loss: 1.0341, Acc: 0.4516\n"
     ]
    },
    {
     "name": "stderr",
     "output_type": "stream",
     "text": [
      "\r\n",
      "Val:   0%|          | 0/28 [00:00<?, ?it/s]"
     ]
    },
    {
     "name": "stderr",
     "output_type": "stream",
     "text": [
      "\r\n",
      "Val:   4%|▎         | 1/28 [01:01<27:40, 61.51s/it]"
     ]
    },
    {
     "name": "stderr",
     "output_type": "stream",
     "text": [
      "\r\n",
      "Val:   7%|▋         | 2/28 [01:06<12:11, 28.13s/it]"
     ]
    },
    {
     "name": "stderr",
     "output_type": "stream",
     "text": [
      "\r\n",
      "Val:  11%|█         | 3/28 [01:11<07:18, 17.54s/it]"
     ]
    },
    {
     "name": "stderr",
     "output_type": "stream",
     "text": [
      "\r\n",
      "Val:  14%|█▍        | 4/28 [01:16<05:03, 12.63s/it]"
     ]
    },
    {
     "name": "stderr",
     "output_type": "stream",
     "text": [
      "\r\n",
      "Val:  18%|█▊        | 5/28 [01:58<08:55, 23.26s/it]"
     ]
    },
    {
     "name": "stderr",
     "output_type": "stream",
     "text": [
      "\r\n",
      "Val:  21%|██▏       | 6/28 [02:03<06:13, 16.96s/it]"
     ]
    },
    {
     "name": "stderr",
     "output_type": "stream",
     "text": [
      "\r\n",
      "Val:  25%|██▌       | 7/28 [02:07<04:31, 12.95s/it]"
     ]
    },
    {
     "name": "stderr",
     "output_type": "stream",
     "text": [
      "\r\n",
      "Val:  29%|██▊       | 8/28 [02:12<03:27, 10.38s/it]"
     ]
    },
    {
     "name": "stderr",
     "output_type": "stream",
     "text": [
      "\r\n",
      "Val:  32%|███▏      | 9/28 [03:01<07:02, 22.24s/it]"
     ]
    },
    {
     "name": "stderr",
     "output_type": "stream",
     "text": [
      "\r\n",
      "Val:  36%|███▌      | 10/28 [03:05<05:03, 16.86s/it]"
     ]
    },
    {
     "name": "stderr",
     "output_type": "stream",
     "text": [
      "\r\n",
      "Val:  39%|███▉      | 11/28 [03:10<03:44, 13.20s/it]"
     ]
    },
    {
     "name": "stderr",
     "output_type": "stream",
     "text": [
      "\r\n",
      "Val:  43%|████▎     | 12/28 [03:15<02:51, 10.70s/it]"
     ]
    },
    {
     "name": "stderr",
     "output_type": "stream",
     "text": [
      "\r\n",
      "Val:  46%|████▋     | 13/28 [03:56<04:57, 19.83s/it]"
     ]
    },
    {
     "name": "stderr",
     "output_type": "stream",
     "text": [
      "\r\n",
      "Val:  50%|█████     | 14/28 [04:01<03:34, 15.29s/it]"
     ]
    },
    {
     "name": "stderr",
     "output_type": "stream",
     "text": [
      "\r\n",
      "Val:  54%|█████▎    | 15/28 [04:06<02:37, 12.12s/it]"
     ]
    },
    {
     "name": "stderr",
     "output_type": "stream",
     "text": [
      "\r\n",
      "Val:  57%|█████▋    | 16/28 [04:10<01:59,  9.93s/it]"
     ]
    },
    {
     "name": "stderr",
     "output_type": "stream",
     "text": [
      "\r\n",
      "Val:  61%|██████    | 17/28 [04:57<03:51, 21.02s/it]"
     ]
    },
    {
     "name": "stderr",
     "output_type": "stream",
     "text": [
      "\r\n",
      "Val:  64%|██████▍   | 18/28 [05:02<02:41, 16.19s/it]"
     ]
    },
    {
     "name": "stderr",
     "output_type": "stream",
     "text": [
      "\r\n",
      "Val:  68%|██████▊   | 19/28 [05:07<01:54, 12.77s/it]"
     ]
    },
    {
     "name": "stderr",
     "output_type": "stream",
     "text": [
      "\r\n",
      "Val:  71%|███████▏  | 20/28 [05:12<01:23, 10.43s/it]"
     ]
    },
    {
     "name": "stderr",
     "output_type": "stream",
     "text": [
      "\r\n",
      "Val:  75%|███████▌  | 21/28 [05:55<02:21, 20.27s/it]"
     ]
    },
    {
     "name": "stderr",
     "output_type": "stream",
     "text": [
      "\r\n",
      "Val:  79%|███████▊  | 22/28 [06:00<01:33, 15.61s/it]"
     ]
    },
    {
     "name": "stderr",
     "output_type": "stream",
     "text": [
      "\r\n",
      "Val:  82%|████████▏ | 23/28 [06:05<01:01, 12.33s/it]"
     ]
    },
    {
     "name": "stderr",
     "output_type": "stream",
     "text": [
      "\r\n",
      "Val:  86%|████████▌ | 24/28 [06:09<00:40, 10.08s/it]"
     ]
    },
    {
     "name": "stderr",
     "output_type": "stream",
     "text": [
      "\r\n",
      "Val:  89%|████████▉ | 25/28 [06:47<00:54, 18.28s/it]"
     ]
    },
    {
     "name": "stderr",
     "output_type": "stream",
     "text": [
      "\r\n",
      "Val:  93%|█████████▎| 26/28 [06:51<00:28, 14.10s/it]"
     ]
    },
    {
     "name": "stderr",
     "output_type": "stream",
     "text": [
      "\r\n",
      "Val:  96%|█████████▋| 27/28 [06:56<00:11, 11.20s/it]"
     ]
    },
    {
     "name": "stderr",
     "output_type": "stream",
     "text": [
      "\r\n",
      "Val: 100%|██████████| 28/28 [06:57<00:00,  8.35s/it]"
     ]
    },
    {
     "name": "stderr",
     "output_type": "stream",
     "text": [
      "\r\n",
      "Val: 100%|██████████| 28/28 [06:57<00:00, 14.92s/it]"
     ]
    },
    {
     "name": "stderr",
     "output_type": "stream",
     "text": [
      "\n"
     ]
    },
    {
     "name": "stdout",
     "output_type": "stream",
     "text": [
      "  Val Loss: 1.0593, Acc: 0.4462\n",
      "Epoch 7/10\n"
     ]
    },
    {
     "name": "stderr",
     "output_type": "stream",
     "text": [
      "\r\n",
      "Train:   0%|          | 0/110 [00:00<?, ?it/s]"
     ]
    },
    {
     "name": "stderr",
     "output_type": "stream",
     "text": [
      "\r\n",
      "Train:   1%|          | 1/110 [00:56<1:41:57, 56.13s/it]"
     ]
    },
    {
     "name": "stderr",
     "output_type": "stream",
     "text": [
      "\r\n",
      "Train:   2%|▏         | 2/110 [01:01<46:56, 26.08s/it]  "
     ]
    },
    {
     "name": "stderr",
     "output_type": "stream",
     "text": [
      "\r\n",
      "Train:   3%|▎         | 3/110 [01:06<29:30, 16.54s/it]"
     ]
    },
    {
     "name": "stderr",
     "output_type": "stream",
     "text": [
      "\r\n",
      "Train:   4%|▎         | 4/110 [01:11<21:17, 12.05s/it]"
     ]
    },
    {
     "name": "stderr",
     "output_type": "stream",
     "text": [
      "\r\n",
      "Train:   5%|▍         | 5/110 [01:57<42:31, 24.30s/it]"
     ]
    },
    {
     "name": "stderr",
     "output_type": "stream",
     "text": [
      "\r\n",
      "Train:   5%|▌         | 6/110 [02:02<30:44, 17.74s/it]"
     ]
    },
    {
     "name": "stderr",
     "output_type": "stream",
     "text": [
      "\r\n",
      "Train:   6%|▋         | 7/110 [02:07<23:19, 13.58s/it]"
     ]
    },
    {
     "name": "stderr",
     "output_type": "stream",
     "text": [
      "\r\n",
      "Train:   7%|▋         | 8/110 [02:12<18:33, 10.91s/it]"
     ]
    },
    {
     "name": "stderr",
     "output_type": "stream",
     "text": [
      "\r\n",
      "Train:   8%|▊         | 9/110 [02:57<36:24, 21.63s/it]"
     ]
    },
    {
     "name": "stderr",
     "output_type": "stream",
     "text": [
      "\r\n",
      "Train:   9%|▉         | 10/110 [03:02<27:30, 16.50s/it]"
     ]
    },
    {
     "name": "stderr",
     "output_type": "stream",
     "text": [
      "\r\n",
      "Train:  10%|█         | 11/110 [03:08<21:28, 13.02s/it]"
     ]
    },
    {
     "name": "stderr",
     "output_type": "stream",
     "text": [
      "\r\n",
      "Train:  11%|█         | 12/110 [03:13<17:21, 10.63s/it]"
     ]
    },
    {
     "name": "stderr",
     "output_type": "stream",
     "text": [
      "\r\n",
      "Train:  12%|█▏        | 13/110 [03:59<34:26, 21.31s/it]"
     ]
    },
    {
     "name": "stderr",
     "output_type": "stream",
     "text": [
      "\r\n",
      "Train:  13%|█▎        | 14/110 [04:04<26:20, 16.47s/it]"
     ]
    },
    {
     "name": "stderr",
     "output_type": "stream",
     "text": [
      "\r\n",
      "Train:  14%|█▎        | 15/110 [04:09<20:39, 13.04s/it]"
     ]
    },
    {
     "name": "stderr",
     "output_type": "stream",
     "text": [
      "\r\n",
      "Train:  15%|█▍        | 16/110 [04:14<16:40, 10.65s/it]"
     ]
    },
    {
     "name": "stderr",
     "output_type": "stream",
     "text": [
      "\r\n",
      "Train:  15%|█▌        | 17/110 [04:57<31:45, 20.49s/it]"
     ]
    },
    {
     "name": "stderr",
     "output_type": "stream",
     "text": [
      "\r\n",
      "Train:  16%|█▋        | 18/110 [05:02<24:14, 15.81s/it]"
     ]
    },
    {
     "name": "stderr",
     "output_type": "stream",
     "text": [
      "\r\n",
      "Train:  17%|█▋        | 19/110 [05:08<19:07, 12.61s/it]"
     ]
    },
    {
     "name": "stderr",
     "output_type": "stream",
     "text": [
      "\r\n",
      "Train:  18%|█▊        | 20/110 [05:13<15:35, 10.39s/it]"
     ]
    },
    {
     "name": "stderr",
     "output_type": "stream",
     "text": [
      "\r\n",
      "Train:  19%|█▉        | 21/110 [06:01<32:18, 21.78s/it]"
     ]
    },
    {
     "name": "stderr",
     "output_type": "stream",
     "text": [
      "\r\n",
      "Train:  20%|██        | 22/110 [06:06<24:34, 16.76s/it]"
     ]
    },
    {
     "name": "stderr",
     "output_type": "stream",
     "text": [
      "\r\n",
      "Train:  21%|██        | 23/110 [06:11<19:11, 13.24s/it]"
     ]
    },
    {
     "name": "stderr",
     "output_type": "stream",
     "text": [
      "\r\n",
      "Train:  22%|██▏       | 24/110 [06:16<15:32, 10.84s/it]"
     ]
    },
    {
     "name": "stderr",
     "output_type": "stream",
     "text": [
      "\r\n",
      "Train:  23%|██▎       | 25/110 [07:05<31:21, 22.14s/it]"
     ]
    },
    {
     "name": "stderr",
     "output_type": "stream",
     "text": [
      "\r\n",
      "Train:  24%|██▎       | 26/110 [07:10<23:46, 16.98s/it]"
     ]
    },
    {
     "name": "stderr",
     "output_type": "stream",
     "text": [
      "\r\n",
      "Train:  25%|██▍       | 27/110 [07:15<18:33, 13.41s/it]"
     ]
    },
    {
     "name": "stderr",
     "output_type": "stream",
     "text": [
      "\r\n",
      "Train:  25%|██▌       | 28/110 [07:20<14:58, 10.96s/it]"
     ]
    },
    {
     "name": "stderr",
     "output_type": "stream",
     "text": [
      "\r\n",
      "Train:  26%|██▋       | 29/110 [08:06<28:56, 21.44s/it]"
     ]
    },
    {
     "name": "stderr",
     "output_type": "stream",
     "text": [
      "\r\n",
      "Train:  27%|██▋       | 30/110 [08:11<22:02, 16.53s/it]"
     ]
    },
    {
     "name": "stderr",
     "output_type": "stream",
     "text": [
      "\r\n",
      "Train:  28%|██▊       | 31/110 [08:16<17:15, 13.10s/it]"
     ]
    },
    {
     "name": "stderr",
     "output_type": "stream",
     "text": [
      "\r\n",
      "Train:  29%|██▉       | 32/110 [08:21<13:55, 10.71s/it]"
     ]
    },
    {
     "name": "stderr",
     "output_type": "stream",
     "text": [
      "\r\n",
      "Train:  30%|███       | 33/110 [09:08<27:32, 21.46s/it]"
     ]
    },
    {
     "name": "stderr",
     "output_type": "stream",
     "text": [
      "\r\n",
      "Train:  31%|███       | 34/110 [09:13<20:54, 16.50s/it]"
     ]
    },
    {
     "name": "stderr",
     "output_type": "stream",
     "text": [
      "\r\n",
      "Train:  32%|███▏      | 35/110 [09:18<16:21, 13.09s/it]"
     ]
    },
    {
     "name": "stderr",
     "output_type": "stream",
     "text": [
      "\r\n",
      "Train:  33%|███▎      | 36/110 [09:23<13:10, 10.68s/it]"
     ]
    },
    {
     "name": "stderr",
     "output_type": "stream",
     "text": [
      "\r\n",
      "Train:  34%|███▎      | 37/110 [09:59<22:14, 18.28s/it]"
     ]
    },
    {
     "name": "stderr",
     "output_type": "stream",
     "text": [
      "\r\n",
      "Train:  35%|███▍      | 38/110 [10:04<17:10, 14.31s/it]"
     ]
    },
    {
     "name": "stderr",
     "output_type": "stream",
     "text": [
      "\r\n",
      "Train:  35%|███▌      | 39/110 [10:09<13:37, 11.51s/it]"
     ]
    },
    {
     "name": "stderr",
     "output_type": "stream",
     "text": [
      "\r\n",
      "Train:  36%|███▋      | 40/110 [10:14<11:13,  9.62s/it]"
     ]
    },
    {
     "name": "stderr",
     "output_type": "stream",
     "text": [
      "\r\n",
      "Train:  37%|███▋      | 41/110 [10:57<22:28, 19.54s/it]"
     ]
    },
    {
     "name": "stderr",
     "output_type": "stream",
     "text": [
      "\r\n",
      "Train:  38%|███▊      | 42/110 [11:02<17:08, 15.12s/it]"
     ]
    },
    {
     "name": "stderr",
     "output_type": "stream",
     "text": [
      "\r\n",
      "Train:  39%|███▉      | 43/110 [11:07<13:35, 12.16s/it]"
     ]
    },
    {
     "name": "stderr",
     "output_type": "stream",
     "text": [
      "\r\n",
      "Train:  40%|████      | 44/110 [11:12<11:02, 10.03s/it]"
     ]
    },
    {
     "name": "stderr",
     "output_type": "stream",
     "text": [
      "\r\n",
      "Train:  41%|████      | 45/110 [11:59<22:52, 21.12s/it]"
     ]
    },
    {
     "name": "stderr",
     "output_type": "stream",
     "text": [
      "\r\n",
      "Train:  42%|████▏     | 46/110 [12:04<17:22, 16.29s/it]"
     ]
    },
    {
     "name": "stderr",
     "output_type": "stream",
     "text": [
      "\r\n",
      "Train:  43%|████▎     | 47/110 [12:09<13:35, 12.94s/it]"
     ]
    },
    {
     "name": "stderr",
     "output_type": "stream",
     "text": [
      "\r\n",
      "Train:  44%|████▎     | 48/110 [12:14<10:57, 10.61s/it]"
     ]
    },
    {
     "name": "stderr",
     "output_type": "stream",
     "text": [
      "\r\n",
      "Train:  45%|████▍     | 49/110 [13:05<22:50, 22.47s/it]"
     ]
    },
    {
     "name": "stderr",
     "output_type": "stream",
     "text": [
      "\r\n",
      "Train:  45%|████▌     | 50/110 [13:10<17:13, 17.22s/it]"
     ]
    },
    {
     "name": "stderr",
     "output_type": "stream",
     "text": [
      "\r\n",
      "Train:  46%|████▋     | 51/110 [13:15<13:22, 13.60s/it]"
     ]
    },
    {
     "name": "stderr",
     "output_type": "stream",
     "text": [
      "\r\n",
      "Train:  47%|████▋     | 52/110 [13:20<10:44, 11.11s/it]"
     ]
    },
    {
     "name": "stderr",
     "output_type": "stream",
     "text": [
      "\r\n",
      "Train:  48%|████▊     | 53/110 [14:05<20:08, 21.21s/it]"
     ]
    },
    {
     "name": "stderr",
     "output_type": "stream",
     "text": [
      "\r\n",
      "Train:  49%|████▉     | 54/110 [14:10<15:15, 16.34s/it]"
     ]
    },
    {
     "name": "stderr",
     "output_type": "stream",
     "text": [
      "\r\n",
      "Train:  50%|█████     | 55/110 [14:15<11:53, 12.97s/it]"
     ]
    },
    {
     "name": "stderr",
     "output_type": "stream",
     "text": [
      "\r\n",
      "Train:  51%|█████     | 56/110 [14:20<09:34, 10.64s/it]"
     ]
    },
    {
     "name": "stderr",
     "output_type": "stream",
     "text": [
      "\r\n",
      "Train:  52%|█████▏    | 57/110 [15:06<18:36, 21.07s/it]"
     ]
    },
    {
     "name": "stderr",
     "output_type": "stream",
     "text": [
      "\r\n",
      "Train:  53%|█████▎    | 58/110 [15:11<14:05, 16.26s/it]"
     ]
    },
    {
     "name": "stderr",
     "output_type": "stream",
     "text": [
      "\r\n",
      "Train:  54%|█████▎    | 59/110 [15:16<10:58, 12.92s/it]"
     ]
    },
    {
     "name": "stderr",
     "output_type": "stream",
     "text": [
      "\r\n",
      "Train:  55%|█████▍    | 60/110 [15:21<08:49, 10.59s/it]"
     ]
    },
    {
     "name": "stderr",
     "output_type": "stream",
     "text": [
      "\r\n",
      "Train:  55%|█████▌    | 61/110 [16:08<17:43, 21.70s/it]"
     ]
    },
    {
     "name": "stderr",
     "output_type": "stream",
     "text": [
      "\r\n",
      "Train:  56%|█████▋    | 62/110 [16:13<13:20, 16.67s/it]"
     ]
    },
    {
     "name": "stderr",
     "output_type": "stream",
     "text": [
      "\r\n",
      "Train:  57%|█████▋    | 63/110 [16:18<10:20, 13.19s/it]"
     ]
    },
    {
     "name": "stderr",
     "output_type": "stream",
     "text": [
      "\r\n",
      "Train:  58%|█████▊    | 64/110 [16:24<08:15, 10.76s/it]"
     ]
    },
    {
     "name": "stderr",
     "output_type": "stream",
     "text": [
      "\r\n",
      "Train:  59%|█████▉    | 65/110 [17:14<16:58, 22.63s/it]"
     ]
    },
    {
     "name": "stderr",
     "output_type": "stream",
     "text": [
      "\r\n",
      "Train:  60%|██████    | 66/110 [17:19<12:42, 17.32s/it]"
     ]
    },
    {
     "name": "stderr",
     "output_type": "stream",
     "text": [
      "\r\n",
      "Train:  61%|██████    | 67/110 [17:24<09:47, 13.66s/it]"
     ]
    },
    {
     "name": "stderr",
     "output_type": "stream",
     "text": [
      "\r\n",
      "Train:  62%|██████▏   | 68/110 [17:29<07:45, 11.09s/it]"
     ]
    },
    {
     "name": "stderr",
     "output_type": "stream",
     "text": [
      "\r\n",
      "Train:  63%|██████▎   | 69/110 [18:16<14:51, 21.75s/it]"
     ]
    },
    {
     "name": "stderr",
     "output_type": "stream",
     "text": [
      "\r\n",
      "Train:  64%|██████▎   | 70/110 [18:21<11:07, 16.69s/it]"
     ]
    },
    {
     "name": "stderr",
     "output_type": "stream",
     "text": [
      "\r\n",
      "Train:  65%|██████▍   | 71/110 [18:26<08:35, 13.21s/it]"
     ]
    },
    {
     "name": "stderr",
     "output_type": "stream",
     "text": [
      "\r\n",
      "Train:  65%|██████▌   | 72/110 [18:31<06:50, 10.80s/it]"
     ]
    },
    {
     "name": "stderr",
     "output_type": "stream",
     "text": [
      "\r\n",
      "Train:  66%|██████▋   | 73/110 [19:19<13:31, 21.94s/it]"
     ]
    },
    {
     "name": "stderr",
     "output_type": "stream",
     "text": [
      "\r\n",
      "Train:  67%|██████▋   | 74/110 [19:24<10:05, 16.83s/it]"
     ]
    },
    {
     "name": "stderr",
     "output_type": "stream",
     "text": [
      "\r\n",
      "Train:  68%|██████▊   | 75/110 [19:29<07:46, 13.32s/it]"
     ]
    },
    {
     "name": "stderr",
     "output_type": "stream",
     "text": [
      "\r\n",
      "Train:  69%|██████▉   | 76/110 [19:34<06:09, 10.86s/it]"
     ]
    },
    {
     "name": "stderr",
     "output_type": "stream",
     "text": [
      "\r\n",
      "Train:  70%|███████   | 77/110 [20:11<10:22, 18.87s/it]"
     ]
    },
    {
     "name": "stderr",
     "output_type": "stream",
     "text": [
      "\r\n",
      "Train:  71%|███████   | 78/110 [20:16<07:50, 14.70s/it]"
     ]
    },
    {
     "name": "stderr",
     "output_type": "stream",
     "text": [
      "\r\n",
      "Train:  72%|███████▏  | 79/110 [20:22<06:07, 11.86s/it]"
     ]
    },
    {
     "name": "stderr",
     "output_type": "stream",
     "text": [
      "\r\n",
      "Train:  73%|███████▎  | 80/110 [20:27<04:56,  9.87s/it]"
     ]
    },
    {
     "name": "stderr",
     "output_type": "stream",
     "text": [
      "\r\n",
      "Train:  74%|███████▎  | 81/110 [21:09<09:26, 19.52s/it]"
     ]
    },
    {
     "name": "stderr",
     "output_type": "stream",
     "text": [
      "\r\n",
      "Train:  75%|███████▍  | 82/110 [21:14<07:04, 15.17s/it]"
     ]
    },
    {
     "name": "stderr",
     "output_type": "stream",
     "text": [
      "\r\n",
      "Train:  75%|███████▌  | 83/110 [21:19<05:28, 12.17s/it]"
     ]
    },
    {
     "name": "stderr",
     "output_type": "stream",
     "text": [
      "\r\n",
      "Train:  76%|███████▋  | 84/110 [21:24<04:22, 10.09s/it]"
     ]
    },
    {
     "name": "stderr",
     "output_type": "stream",
     "text": [
      "\r\n",
      "Train:  77%|███████▋  | 85/110 [22:09<08:35, 20.61s/it]"
     ]
    },
    {
     "name": "stderr",
     "output_type": "stream",
     "text": [
      "\r\n",
      "Train:  78%|███████▊  | 86/110 [22:14<06:22, 15.92s/it]"
     ]
    },
    {
     "name": "stderr",
     "output_type": "stream",
     "text": [
      "\r\n",
      "Train:  79%|███████▉  | 87/110 [22:20<04:52, 12.71s/it]"
     ]
    },
    {
     "name": "stderr",
     "output_type": "stream",
     "text": [
      "\r\n",
      "Train:  80%|████████  | 88/110 [22:25<03:50, 10.47s/it]"
     ]
    },
    {
     "name": "stderr",
     "output_type": "stream",
     "text": [
      "\r\n",
      "Train:  81%|████████  | 89/110 [23:03<06:31, 18.63s/it]"
     ]
    },
    {
     "name": "stderr",
     "output_type": "stream",
     "text": [
      "\r\n",
      "Train:  82%|████████▏ | 90/110 [23:08<04:50, 14.54s/it]"
     ]
    },
    {
     "name": "stderr",
     "output_type": "stream",
     "text": [
      "\r\n",
      "Train:  83%|████████▎ | 91/110 [23:13<03:42, 11.73s/it]"
     ]
    },
    {
     "name": "stderr",
     "output_type": "stream",
     "text": [
      "\r\n",
      "Train:  84%|████████▎ | 92/110 [23:18<02:56,  9.78s/it]"
     ]
    },
    {
     "name": "stderr",
     "output_type": "stream",
     "text": [
      "\r\n",
      "Train:  85%|████████▍ | 93/110 [24:04<05:50, 20.62s/it]"
     ]
    },
    {
     "name": "stderr",
     "output_type": "stream",
     "text": [
      "\r\n",
      "Train:  85%|████████▌ | 94/110 [24:09<04:14, 15.92s/it]"
     ]
    },
    {
     "name": "stderr",
     "output_type": "stream",
     "text": [
      "\r\n",
      "Train:  86%|████████▋ | 95/110 [24:14<03:09, 12.65s/it]"
     ]
    },
    {
     "name": "stderr",
     "output_type": "stream",
     "text": [
      "\r\n",
      "Train:  87%|████████▋ | 96/110 [24:19<02:25, 10.39s/it]"
     ]
    },
    {
     "name": "stderr",
     "output_type": "stream",
     "text": [
      "\r\n",
      "Train:  88%|████████▊ | 97/110 [24:56<03:58, 18.34s/it]"
     ]
    },
    {
     "name": "stderr",
     "output_type": "stream",
     "text": [
      "\r\n",
      "Train:  89%|████████▉ | 98/110 [25:01<02:52, 14.35s/it]"
     ]
    },
    {
     "name": "stderr",
     "output_type": "stream",
     "text": [
      "\r\n",
      "Train:  90%|█████████ | 99/110 [25:06<02:07, 11.59s/it]"
     ]
    },
    {
     "name": "stderr",
     "output_type": "stream",
     "text": [
      "\r\n",
      "Train:  91%|█████████ | 100/110 [25:11<01:36,  9.68s/it]"
     ]
    },
    {
     "name": "stderr",
     "output_type": "stream",
     "text": [
      "\r\n",
      "Train:  92%|█████████▏| 101/110 [25:57<03:03, 20.43s/it]"
     ]
    },
    {
     "name": "stderr",
     "output_type": "stream",
     "text": [
      "\r\n",
      "Train:  93%|█████████▎| 102/110 [26:02<02:06, 15.80s/it]"
     ]
    },
    {
     "name": "stderr",
     "output_type": "stream",
     "text": [
      "\r\n",
      "Train:  94%|█████████▎| 103/110 [26:07<01:28, 12.59s/it]"
     ]
    },
    {
     "name": "stderr",
     "output_type": "stream",
     "text": [
      "\r\n",
      "Train:  95%|█████████▍| 104/110 [26:12<01:02, 10.38s/it]"
     ]
    },
    {
     "name": "stderr",
     "output_type": "stream",
     "text": [
      "\r\n",
      "Train:  95%|█████████▌| 105/110 [26:45<01:25, 17.07s/it]"
     ]
    },
    {
     "name": "stderr",
     "output_type": "stream",
     "text": [
      "\r\n",
      "Train:  96%|█████████▋| 106/110 [26:50<00:53, 13.38s/it]"
     ]
    },
    {
     "name": "stderr",
     "output_type": "stream",
     "text": [
      "\r\n",
      "Train:  97%|█████████▋| 107/110 [26:54<00:32, 10.77s/it]"
     ]
    },
    {
     "name": "stderr",
     "output_type": "stream",
     "text": [
      "\r\n",
      "Train:  98%|█████████▊| 108/110 [26:59<00:17,  8.97s/it]"
     ]
    },
    {
     "name": "stderr",
     "output_type": "stream",
     "text": [
      "\r\n",
      "Train:  99%|█████████▉| 109/110 [27:27<00:14, 14.60s/it]"
     ]
    },
    {
     "name": "stderr",
     "output_type": "stream",
     "text": [
      "\r\n",
      "Train: 100%|██████████| 110/110 [27:27<00:00, 14.98s/it]"
     ]
    },
    {
     "name": "stderr",
     "output_type": "stream",
     "text": [
      "\n"
     ]
    },
    {
     "name": "stdout",
     "output_type": "stream",
     "text": [
      "  Train Loss: 1.0280, Acc: 0.4275\n"
     ]
    },
    {
     "name": "stderr",
     "output_type": "stream",
     "text": [
      "\r\n",
      "Val:   0%|          | 0/28 [00:00<?, ?it/s]"
     ]
    },
    {
     "name": "stderr",
     "output_type": "stream",
     "text": [
      "\r\n",
      "Val:   4%|▎         | 1/28 [00:59<26:53, 59.77s/it]"
     ]
    },
    {
     "name": "stderr",
     "output_type": "stream",
     "text": [
      "\r\n",
      "Val:   7%|▋         | 2/28 [01:04<11:55, 27.53s/it]"
     ]
    },
    {
     "name": "stderr",
     "output_type": "stream",
     "text": [
      "\r\n",
      "Val:  11%|█         | 3/28 [01:09<07:10, 17.23s/it]"
     ]
    },
    {
     "name": "stderr",
     "output_type": "stream",
     "text": [
      "\r\n",
      "Val:  14%|█▍        | 4/28 [01:14<04:58, 12.42s/it]"
     ]
    },
    {
     "name": "stderr",
     "output_type": "stream",
     "text": [
      "\r\n",
      "Val:  18%|█▊        | 5/28 [01:56<08:48, 22.98s/it]"
     ]
    },
    {
     "name": "stderr",
     "output_type": "stream",
     "text": [
      "\r\n",
      "Val:  21%|██▏       | 6/28 [02:01<06:08, 16.75s/it]"
     ]
    },
    {
     "name": "stderr",
     "output_type": "stream",
     "text": [
      "\r\n",
      "Val:  25%|██▌       | 7/28 [02:05<04:29, 12.81s/it]"
     ]
    },
    {
     "name": "stderr",
     "output_type": "stream",
     "text": [
      "\r\n",
      "Val:  29%|██▊       | 8/28 [02:10<03:25, 10.27s/it]"
     ]
    },
    {
     "name": "stderr",
     "output_type": "stream",
     "text": [
      "\r\n",
      "Val:  32%|███▏      | 9/28 [02:58<07:01, 22.17s/it]"
     ]
    },
    {
     "name": "stderr",
     "output_type": "stream",
     "text": [
      "\r\n",
      "Val:  36%|███▌      | 10/28 [03:03<05:02, 16.83s/it]"
     ]
    },
    {
     "name": "stderr",
     "output_type": "stream",
     "text": [
      "\r\n",
      "Val:  39%|███▉      | 11/28 [03:08<03:44, 13.19s/it]"
     ]
    },
    {
     "name": "stderr",
     "output_type": "stream",
     "text": [
      "\r\n",
      "Val:  43%|████▎     | 12/28 [03:13<02:51, 10.75s/it]"
     ]
    },
    {
     "name": "stderr",
     "output_type": "stream",
     "text": [
      "\r\n",
      "Val:  46%|████▋     | 13/28 [03:53<04:52, 19.51s/it]"
     ]
    },
    {
     "name": "stderr",
     "output_type": "stream",
     "text": [
      "\r\n",
      "Val:  50%|█████     | 14/28 [03:58<03:31, 15.08s/it]"
     ]
    },
    {
     "name": "stderr",
     "output_type": "stream",
     "text": [
      "\r\n",
      "Val:  54%|█████▎    | 15/28 [04:03<02:35, 11.95s/it]"
     ]
    },
    {
     "name": "stderr",
     "output_type": "stream",
     "text": [
      "\r\n",
      "Val:  57%|█████▋    | 16/28 [04:07<01:57,  9.80s/it]"
     ]
    },
    {
     "name": "stderr",
     "output_type": "stream",
     "text": [
      "\r\n",
      "Val:  61%|██████    | 17/28 [04:53<03:45, 20.48s/it]"
     ]
    },
    {
     "name": "stderr",
     "output_type": "stream",
     "text": [
      "\r\n",
      "Val:  64%|██████▍   | 18/28 [04:58<02:37, 15.76s/it]"
     ]
    },
    {
     "name": "stderr",
     "output_type": "stream",
     "text": [
      "\r\n",
      "Val:  68%|██████▊   | 19/28 [05:02<01:52, 12.48s/it]"
     ]
    },
    {
     "name": "stderr",
     "output_type": "stream",
     "text": [
      "\r\n",
      "Val:  71%|███████▏  | 20/28 [05:07<01:21, 10.22s/it]"
     ]
    },
    {
     "name": "stderr",
     "output_type": "stream",
     "text": [
      "\r\n",
      "Val:  75%|███████▌  | 21/28 [05:49<02:17, 19.70s/it]"
     ]
    },
    {
     "name": "stderr",
     "output_type": "stream",
     "text": [
      "\r\n",
      "Val:  79%|███████▊  | 22/28 [05:54<01:31, 15.19s/it]"
     ]
    },
    {
     "name": "stderr",
     "output_type": "stream",
     "text": [
      "\r\n",
      "Val:  82%|████████▏ | 23/28 [05:59<01:00, 12.10s/it]"
     ]
    },
    {
     "name": "stderr",
     "output_type": "stream",
     "text": [
      "\r\n",
      "Val:  86%|████████▌ | 24/28 [06:04<00:39,  9.91s/it]"
     ]
    },
    {
     "name": "stderr",
     "output_type": "stream",
     "text": [
      "\r\n",
      "Val:  89%|████████▉ | 25/28 [06:42<00:55, 18.54s/it]"
     ]
    },
    {
     "name": "stderr",
     "output_type": "stream",
     "text": [
      "\r\n",
      "Val:  93%|█████████▎| 26/28 [06:47<00:28, 14.33s/it]"
     ]
    },
    {
     "name": "stderr",
     "output_type": "stream",
     "text": [
      "\r\n",
      "Val:  96%|█████████▋| 27/28 [06:51<00:11, 11.36s/it]"
     ]
    },
    {
     "name": "stderr",
     "output_type": "stream",
     "text": [
      "\r\n",
      "Val: 100%|██████████| 28/28 [06:53<00:00,  8.46s/it]"
     ]
    },
    {
     "name": "stderr",
     "output_type": "stream",
     "text": [
      "\r\n",
      "Val: 100%|██████████| 28/28 [06:53<00:00, 14.76s/it]"
     ]
    },
    {
     "name": "stderr",
     "output_type": "stream",
     "text": [
      "\n"
     ]
    },
    {
     "name": "stdout",
     "output_type": "stream",
     "text": [
      "  Val Loss: 1.2558, Acc: 0.2197\n",
      "Epoch 8/10\n"
     ]
    },
    {
     "name": "stderr",
     "output_type": "stream",
     "text": [
      "\r\n",
      "Train:   0%|          | 0/110 [00:00<?, ?it/s]"
     ]
    },
    {
     "name": "stderr",
     "output_type": "stream",
     "text": [
      "\r\n",
      "Train:   1%|          | 1/110 [00:54<1:38:25, 54.18s/it]"
     ]
    },
    {
     "name": "stderr",
     "output_type": "stream",
     "text": [
      "\r\n",
      "Train:   2%|▏         | 2/110 [00:59<45:31, 25.29s/it]  "
     ]
    },
    {
     "name": "stderr",
     "output_type": "stream",
     "text": [
      "\r\n",
      "Train:   3%|▎         | 3/110 [01:04<28:40, 16.08s/it]"
     ]
    },
    {
     "name": "stderr",
     "output_type": "stream",
     "text": [
      "\r\n",
      "Train:   4%|▎         | 4/110 [01:09<20:48, 11.77s/it]"
     ]
    },
    {
     "name": "stderr",
     "output_type": "stream",
     "text": [
      "\r\n",
      "Train:   5%|▍         | 5/110 [01:57<43:24, 24.80s/it]"
     ]
    },
    {
     "name": "stderr",
     "output_type": "stream",
     "text": [
      "\r\n",
      "Train:   5%|▌         | 6/110 [02:02<31:19, 18.08s/it]"
     ]
    },
    {
     "name": "stderr",
     "output_type": "stream",
     "text": [
      "\r\n",
      "Train:   6%|▋         | 7/110 [02:07<23:47, 13.85s/it]"
     ]
    },
    {
     "name": "stderr",
     "output_type": "stream",
     "text": [
      "\r\n",
      "Train:   7%|▋         | 8/110 [02:12<18:49, 11.07s/it]"
     ]
    },
    {
     "name": "stderr",
     "output_type": "stream",
     "text": [
      "\r\n",
      "Train:   8%|▊         | 9/110 [03:05<40:49, 24.25s/it]"
     ]
    },
    {
     "name": "stderr",
     "output_type": "stream",
     "text": [
      "\r\n",
      "Train:   9%|▉         | 10/110 [03:10<30:31, 18.31s/it]"
     ]
    },
    {
     "name": "stderr",
     "output_type": "stream",
     "text": [
      "\r\n",
      "Train:  10%|█         | 11/110 [03:16<23:34, 14.29s/it]"
     ]
    },
    {
     "name": "stderr",
     "output_type": "stream",
     "text": [
      "\r\n",
      "Train:  11%|█         | 12/110 [03:21<18:49, 11.52s/it]"
     ]
    },
    {
     "name": "stderr",
     "output_type": "stream",
     "text": [
      "\r\n",
      "Train:  12%|█▏        | 13/110 [04:06<35:07, 21.73s/it]"
     ]
    },
    {
     "name": "stderr",
     "output_type": "stream",
     "text": [
      "\r\n",
      "Train:  13%|█▎        | 14/110 [04:11<26:40, 16.67s/it]"
     ]
    },
    {
     "name": "stderr",
     "output_type": "stream",
     "text": [
      "\r\n",
      "Train:  14%|█▎        | 15/110 [04:16<20:50, 13.16s/it]"
     ]
    },
    {
     "name": "stderr",
     "output_type": "stream",
     "text": [
      "\r\n",
      "Train:  15%|█▍        | 16/110 [04:21<16:50, 10.74s/it]"
     ]
    },
    {
     "name": "stderr",
     "output_type": "stream",
     "text": [
      "\r\n",
      "Train:  15%|█▌        | 17/110 [05:06<32:21, 20.88s/it]"
     ]
    },
    {
     "name": "stderr",
     "output_type": "stream",
     "text": [
      "\r\n",
      "Train:  16%|█▋        | 18/110 [05:11<24:42, 16.12s/it]"
     ]
    },
    {
     "name": "stderr",
     "output_type": "stream",
     "text": [
      "\r\n",
      "Train:  17%|█▋        | 19/110 [05:16<19:25, 12.81s/it]"
     ]
    },
    {
     "name": "stderr",
     "output_type": "stream",
     "text": [
      "\r\n",
      "Train:  18%|█▊        | 20/110 [05:21<15:45, 10.51s/it]"
     ]
    },
    {
     "name": "stderr",
     "output_type": "stream",
     "text": [
      "\r\n",
      "Train:  19%|█▉        | 21/110 [06:05<30:27, 20.53s/it]"
     ]
    },
    {
     "name": "stderr",
     "output_type": "stream",
     "text": [
      "\r\n",
      "Train:  20%|██        | 22/110 [06:10<23:17, 15.88s/it]"
     ]
    },
    {
     "name": "stderr",
     "output_type": "stream",
     "text": [
      "\r\n",
      "Train:  21%|██        | 23/110 [06:15<18:20, 12.65s/it]"
     ]
    },
    {
     "name": "stderr",
     "output_type": "stream",
     "text": [
      "\r\n",
      "Train:  22%|██▏       | 24/110 [06:20<14:56, 10.43s/it]"
     ]
    },
    {
     "name": "stderr",
     "output_type": "stream",
     "text": [
      "\r\n",
      "Train:  23%|██▎       | 25/110 [07:00<27:02, 19.09s/it]"
     ]
    },
    {
     "name": "stderr",
     "output_type": "stream",
     "text": [
      "\r\n",
      "Train:  24%|██▎       | 26/110 [07:04<20:46, 14.84s/it]"
     ]
    },
    {
     "name": "stderr",
     "output_type": "stream",
     "text": [
      "\r\n",
      "Train:  25%|██▍       | 27/110 [07:10<16:29, 11.92s/it]"
     ]
    },
    {
     "name": "stderr",
     "output_type": "stream",
     "text": [
      "\r\n",
      "Train:  25%|██▌       | 28/110 [07:15<13:33,  9.92s/it]"
     ]
    },
    {
     "name": "stderr",
     "output_type": "stream",
     "text": [
      "\r\n",
      "Train:  26%|██▋       | 29/110 [07:58<27:01, 20.02s/it]"
     ]
    },
    {
     "name": "stderr",
     "output_type": "stream",
     "text": [
      "\r\n",
      "Train:  27%|██▋       | 30/110 [08:03<20:43, 15.54s/it]"
     ]
    },
    {
     "name": "stderr",
     "output_type": "stream",
     "text": [
      "\r\n",
      "Train:  28%|██▊       | 31/110 [08:09<16:21, 12.43s/it]"
     ]
    },
    {
     "name": "stderr",
     "output_type": "stream",
     "text": [
      "\r\n",
      "Train:  29%|██▉       | 32/110 [08:14<13:20, 10.26s/it]"
     ]
    },
    {
     "name": "stderr",
     "output_type": "stream",
     "text": [
      "\r\n",
      "Train:  30%|███       | 33/110 [08:54<24:38, 19.20s/it]"
     ]
    },
    {
     "name": "stderr",
     "output_type": "stream",
     "text": [
      "\r\n",
      "Train:  31%|███       | 34/110 [08:59<18:53, 14.92s/it]"
     ]
    },
    {
     "name": "stderr",
     "output_type": "stream",
     "text": [
      "\r\n",
      "Train:  32%|███▏      | 35/110 [09:04<14:56, 11.95s/it]"
     ]
    },
    {
     "name": "stderr",
     "output_type": "stream",
     "text": [
      "\r\n",
      "Train:  33%|███▎      | 36/110 [09:09<12:13,  9.91s/it]"
     ]
    },
    {
     "name": "stderr",
     "output_type": "stream",
     "text": [
      "\r\n",
      "Train:  34%|███▎      | 37/110 [09:57<25:59, 21.36s/it]"
     ]
    },
    {
     "name": "stderr",
     "output_type": "stream",
     "text": [
      "\r\n",
      "Train:  35%|███▍      | 38/110 [10:02<19:44, 16.45s/it]"
     ]
    },
    {
     "name": "stderr",
     "output_type": "stream",
     "text": [
      "\r\n",
      "Train:  35%|███▌      | 39/110 [10:07<15:24, 13.03s/it]"
     ]
    },
    {
     "name": "stderr",
     "output_type": "stream",
     "text": [
      "\r\n",
      "Train:  36%|███▋      | 40/110 [10:12<12:27, 10.68s/it]"
     ]
    },
    {
     "name": "stderr",
     "output_type": "stream",
     "text": [
      "\r\n",
      "Train:  37%|███▋      | 41/110 [10:57<24:08, 20.99s/it]"
     ]
    },
    {
     "name": "stderr",
     "output_type": "stream",
     "text": [
      "\r\n",
      "Train:  38%|███▊      | 42/110 [11:02<18:20, 16.19s/it]"
     ]
    },
    {
     "name": "stderr",
     "output_type": "stream",
     "text": [
      "\r\n",
      "Train:  39%|███▉      | 43/110 [11:07<14:19, 12.82s/it]"
     ]
    },
    {
     "name": "stderr",
     "output_type": "stream",
     "text": [
      "\r\n",
      "Train:  40%|████      | 44/110 [11:13<11:36, 10.56s/it]"
     ]
    },
    {
     "name": "stderr",
     "output_type": "stream",
     "text": [
      "\r\n",
      "Train:  41%|████      | 45/110 [12:01<23:38, 21.82s/it]"
     ]
    },
    {
     "name": "stderr",
     "output_type": "stream",
     "text": [
      "\r\n",
      "Train:  42%|████▏     | 46/110 [12:06<17:53, 16.77s/it]"
     ]
    },
    {
     "name": "stderr",
     "output_type": "stream",
     "text": [
      "\r\n",
      "Train:  43%|████▎     | 47/110 [12:11<13:55, 13.26s/it]"
     ]
    },
    {
     "name": "stderr",
     "output_type": "stream",
     "text": [
      "\r\n",
      "Train:  44%|████▎     | 48/110 [12:16<11:13, 10.87s/it]"
     ]
    },
    {
     "name": "stderr",
     "output_type": "stream",
     "text": [
      "\r\n",
      "Train:  45%|████▍     | 49/110 [13:01<21:25, 21.07s/it]"
     ]
    },
    {
     "name": "stderr",
     "output_type": "stream",
     "text": [
      "\r\n",
      "Train:  45%|████▌     | 50/110 [13:06<16:14, 16.25s/it]"
     ]
    },
    {
     "name": "stderr",
     "output_type": "stream",
     "text": [
      "\r\n",
      "Train:  46%|████▋     | 51/110 [13:11<12:40, 12.90s/it]"
     ]
    },
    {
     "name": "stderr",
     "output_type": "stream",
     "text": [
      "\r\n",
      "Train:  47%|████▋     | 52/110 [13:16<10:12, 10.57s/it]"
     ]
    },
    {
     "name": "stderr",
     "output_type": "stream",
     "text": [
      "\r\n",
      "Train:  48%|████▊     | 53/110 [14:03<20:27, 21.53s/it]"
     ]
    },
    {
     "name": "stderr",
     "output_type": "stream",
     "text": [
      "\r\n",
      "Train:  49%|████▉     | 54/110 [14:08<15:29, 16.59s/it]"
     ]
    },
    {
     "name": "stderr",
     "output_type": "stream",
     "text": [
      "\r\n",
      "Train:  50%|█████     | 55/110 [14:13<12:02, 13.13s/it]"
     ]
    },
    {
     "name": "stderr",
     "output_type": "stream",
     "text": [
      "\r\n",
      "Train:  51%|█████     | 56/110 [14:18<09:38, 10.72s/it]"
     ]
    },
    {
     "name": "stderr",
     "output_type": "stream",
     "text": [
      "\r\n",
      "Train:  52%|█████▏    | 57/110 [14:57<16:55, 19.16s/it]"
     ]
    },
    {
     "name": "stderr",
     "output_type": "stream",
     "text": [
      "\r\n",
      "Train:  53%|█████▎    | 58/110 [15:02<12:54, 14.90s/it]"
     ]
    },
    {
     "name": "stderr",
     "output_type": "stream",
     "text": [
      "\r\n",
      "Train:  54%|█████▎    | 59/110 [15:07<10:07, 11.91s/it]"
     ]
    },
    {
     "name": "stderr",
     "output_type": "stream",
     "text": [
      "\r\n",
      "Train:  55%|█████▍    | 60/110 [15:12<08:15,  9.91s/it]"
     ]
    },
    {
     "name": "stderr",
     "output_type": "stream",
     "text": [
      "\r\n",
      "Train:  55%|█████▌    | 61/110 [15:59<16:58, 20.79s/it]"
     ]
    },
    {
     "name": "stderr",
     "output_type": "stream",
     "text": [
      "\r\n",
      "Train:  56%|█████▋    | 62/110 [16:04<12:51, 16.07s/it]"
     ]
    },
    {
     "name": "stderr",
     "output_type": "stream",
     "text": [
      "\r\n",
      "Train:  57%|█████▋    | 63/110 [16:09<09:59, 12.75s/it]"
     ]
    },
    {
     "name": "stderr",
     "output_type": "stream",
     "text": [
      "\r\n",
      "Train:  58%|█████▊    | 64/110 [16:14<08:01, 10.46s/it]"
     ]
    },
    {
     "name": "stderr",
     "output_type": "stream",
     "text": [
      "\r\n",
      "Train:  59%|█████▉    | 65/110 [17:04<16:53, 22.52s/it]"
     ]
    },
    {
     "name": "stderr",
     "output_type": "stream",
     "text": [
      "\r\n",
      "Train:  60%|██████    | 66/110 [17:09<12:39, 17.27s/it]"
     ]
    },
    {
     "name": "stderr",
     "output_type": "stream",
     "text": [
      "\r\n",
      "Train:  61%|██████    | 67/110 [17:15<09:46, 13.64s/it]"
     ]
    },
    {
     "name": "stderr",
     "output_type": "stream",
     "text": [
      "\r\n",
      "Train:  62%|██████▏   | 68/110 [17:20<07:48, 11.15s/it]"
     ]
    },
    {
     "name": "stderr",
     "output_type": "stream",
     "text": [
      "\r\n",
      "Train:  63%|██████▎   | 69/110 [18:11<15:51, 23.21s/it]"
     ]
    },
    {
     "name": "stderr",
     "output_type": "stream",
     "text": [
      "\r\n",
      "Train:  64%|██████▎   | 70/110 [18:16<11:50, 17.77s/it]"
     ]
    },
    {
     "name": "stderr",
     "output_type": "stream",
     "text": [
      "\r\n",
      "Train:  65%|██████▍   | 71/110 [18:21<09:04, 13.95s/it]"
     ]
    },
    {
     "name": "stderr",
     "output_type": "stream",
     "text": [
      "\r\n",
      "Train:  65%|██████▌   | 72/110 [18:27<07:14, 11.44s/it]"
     ]
    },
    {
     "name": "stderr",
     "output_type": "stream",
     "text": [
      "\r\n",
      "Train:  66%|██████▋   | 73/110 [19:09<12:46, 20.72s/it]"
     ]
    },
    {
     "name": "stderr",
     "output_type": "stream",
     "text": [
      "\r\n",
      "Train:  67%|██████▋   | 74/110 [19:14<09:36, 16.02s/it]"
     ]
    },
    {
     "name": "stderr",
     "output_type": "stream",
     "text": [
      "\r\n",
      "Train:  68%|██████▊   | 75/110 [19:20<07:26, 12.74s/it]"
     ]
    },
    {
     "name": "stderr",
     "output_type": "stream",
     "text": [
      "\r\n",
      "Train:  69%|██████▉   | 76/110 [19:25<05:54, 10.43s/it]"
     ]
    },
    {
     "name": "stderr",
     "output_type": "stream",
     "text": [
      "\r\n",
      "Train:  70%|███████   | 77/110 [19:59<09:44, 17.71s/it]"
     ]
    },
    {
     "name": "stderr",
     "output_type": "stream",
     "text": [
      "\r\n",
      "Train:  71%|███████   | 78/110 [20:04<07:26, 13.94s/it]"
     ]
    },
    {
     "name": "stderr",
     "output_type": "stream",
     "text": [
      "\r\n",
      "Train:  72%|███████▏  | 79/110 [20:10<05:49, 11.29s/it]"
     ]
    },
    {
     "name": "stderr",
     "output_type": "stream",
     "text": [
      "\r\n",
      "Train:  73%|███████▎  | 80/110 [20:15<04:44,  9.49s/it]"
     ]
    },
    {
     "name": "stderr",
     "output_type": "stream",
     "text": [
      "\r\n",
      "Train:  74%|███████▎  | 81/110 [21:03<10:07, 20.96s/it]"
     ]
    },
    {
     "name": "stderr",
     "output_type": "stream",
     "text": [
      "\r\n",
      "Train:  75%|███████▍  | 82/110 [21:08<07:32, 16.17s/it]"
     ]
    },
    {
     "name": "stderr",
     "output_type": "stream",
     "text": [
      "\r\n",
      "Train:  75%|███████▌  | 83/110 [21:13<05:47, 12.85s/it]"
     ]
    },
    {
     "name": "stderr",
     "output_type": "stream",
     "text": [
      "\r\n",
      "Train:  76%|███████▋  | 84/110 [21:18<04:34, 10.57s/it]"
     ]
    },
    {
     "name": "stderr",
     "output_type": "stream",
     "text": [
      "\r\n",
      "Train:  77%|███████▋  | 85/110 [22:03<08:44, 20.99s/it]"
     ]
    },
    {
     "name": "stderr",
     "output_type": "stream",
     "text": [
      "\r\n",
      "Train:  78%|███████▊  | 86/110 [22:08<06:28, 16.18s/it]"
     ]
    },
    {
     "name": "stderr",
     "output_type": "stream",
     "text": [
      "\r\n",
      "Train:  79%|███████▉  | 87/110 [22:13<04:56, 12.87s/it]"
     ]
    },
    {
     "name": "stderr",
     "output_type": "stream",
     "text": [
      "\r\n",
      "Train:  80%|████████  | 88/110 [22:19<03:52, 10.59s/it]"
     ]
    },
    {
     "name": "stderr",
     "output_type": "stream",
     "text": [
      "\r\n",
      "Train:  81%|████████  | 89/110 [22:58<06:46, 19.34s/it]"
     ]
    },
    {
     "name": "stderr",
     "output_type": "stream",
     "text": [
      "\r\n",
      "Train:  82%|████████▏ | 90/110 [23:03<05:01, 15.05s/it]"
     ]
    },
    {
     "name": "stderr",
     "output_type": "stream",
     "text": [
      "\r\n",
      "Train:  83%|████████▎ | 91/110 [23:08<03:49, 12.06s/it]"
     ]
    },
    {
     "name": "stderr",
     "output_type": "stream",
     "text": [
      "\r\n",
      "Train:  84%|████████▎ | 92/110 [23:20<03:36, 12.05s/it]"
     ]
    },
    {
     "name": "stderr",
     "output_type": "stream",
     "text": [
      "\r\n",
      "Train:  85%|████████▍ | 93/110 [23:58<05:33, 19.61s/it]"
     ]
    },
    {
     "name": "stderr",
     "output_type": "stream",
     "text": [
      "\r\n",
      "Train:  85%|████████▌ | 94/110 [24:03<04:03, 15.23s/it]"
     ]
    },
    {
     "name": "stderr",
     "output_type": "stream",
     "text": [
      "\r\n",
      "Train:  86%|████████▋ | 95/110 [24:08<03:03, 12.23s/it]"
     ]
    },
    {
     "name": "stderr",
     "output_type": "stream",
     "text": [
      "\r\n",
      "Train:  87%|████████▋ | 96/110 [24:24<03:06, 13.32s/it]"
     ]
    },
    {
     "name": "stderr",
     "output_type": "stream",
     "text": [
      "\r\n",
      "Train:  88%|████████▊ | 97/110 [24:59<04:19, 19.98s/it]"
     ]
    },
    {
     "name": "stderr",
     "output_type": "stream",
     "text": [
      "\r\n",
      "Train:  89%|████████▉ | 98/110 [25:04<03:06, 15.51s/it]"
     ]
    },
    {
     "name": "stderr",
     "output_type": "stream",
     "text": [
      "\r\n",
      "Train:  90%|█████████ | 99/110 [25:10<02:16, 12.40s/it]"
     ]
    },
    {
     "name": "stderr",
     "output_type": "stream",
     "text": [
      "\r\n",
      "Train:  91%|█████████ | 100/110 [25:24<02:11, 13.16s/it]"
     ]
    },
    {
     "name": "stderr",
     "output_type": "stream",
     "text": [
      "\r\n",
      "Train:  92%|█████████▏| 101/110 [25:54<02:41, 17.96s/it]"
     ]
    },
    {
     "name": "stderr",
     "output_type": "stream",
     "text": [
      "\r\n",
      "Train:  93%|█████████▎| 102/110 [25:59<01:52, 14.08s/it]"
     ]
    },
    {
     "name": "stderr",
     "output_type": "stream",
     "text": [
      "\r\n",
      "Train:  94%|█████████▎| 103/110 [26:04<01:21, 11.60s/it]"
     ]
    },
    {
     "name": "stderr",
     "output_type": "stream",
     "text": [
      "\r\n",
      "Train:  95%|█████████▍| 104/110 [26:28<01:31, 15.17s/it]"
     ]
    },
    {
     "name": "stderr",
     "output_type": "stream",
     "text": [
      "\r\n",
      "Train:  95%|█████████▌| 105/110 [26:52<01:29, 17.83s/it]"
     ]
    },
    {
     "name": "stderr",
     "output_type": "stream",
     "text": [
      "\r\n",
      "Train:  96%|█████████▋| 106/110 [26:57<00:55, 13.89s/it]"
     ]
    },
    {
     "name": "stderr",
     "output_type": "stream",
     "text": [
      "\r\n",
      "Train:  97%|█████████▋| 107/110 [27:01<00:33, 11.15s/it]"
     ]
    },
    {
     "name": "stderr",
     "output_type": "stream",
     "text": [
      "\r\n",
      "Train:  98%|█████████▊| 108/110 [27:19<00:25, 12.94s/it]"
     ]
    },
    {
     "name": "stderr",
     "output_type": "stream",
     "text": [
      "\r\n",
      "Train:  99%|█████████▉| 109/110 [27:37<00:14, 14.46s/it]"
     ]
    },
    {
     "name": "stderr",
     "output_type": "stream",
     "text": [
      "\r\n",
      "Train: 100%|██████████| 110/110 [27:37<00:00, 15.07s/it]"
     ]
    },
    {
     "name": "stderr",
     "output_type": "stream",
     "text": [
      "\n"
     ]
    },
    {
     "name": "stdout",
     "output_type": "stream",
     "text": [
      "  Train Loss: 1.0313, Acc: 0.4630\n"
     ]
    },
    {
     "name": "stderr",
     "output_type": "stream",
     "text": [
      "\r\n",
      "Val:   0%|          | 0/28 [00:00<?, ?it/s]"
     ]
    },
    {
     "name": "stderr",
     "output_type": "stream",
     "text": [
      "\r\n",
      "Val:   4%|▎         | 1/28 [01:00<27:21, 60.78s/it]"
     ]
    },
    {
     "name": "stderr",
     "output_type": "stream",
     "text": [
      "\r\n",
      "Val:   7%|▋         | 2/28 [01:05<12:04, 27.87s/it]"
     ]
    },
    {
     "name": "stderr",
     "output_type": "stream",
     "text": [
      "\r\n",
      "Val:  11%|█         | 3/28 [01:10<07:15, 17.40s/it]"
     ]
    },
    {
     "name": "stderr",
     "output_type": "stream",
     "text": [
      "\r\n",
      "Val:  14%|█▍        | 4/28 [01:15<04:59, 12.49s/it]"
     ]
    },
    {
     "name": "stderr",
     "output_type": "stream",
     "text": [
      "\r\n",
      "Val:  18%|█▊        | 5/28 [01:57<08:54, 23.25s/it]"
     ]
    },
    {
     "name": "stderr",
     "output_type": "stream",
     "text": [
      "\r\n",
      "Val:  21%|██▏       | 6/28 [02:02<06:12, 16.92s/it]"
     ]
    },
    {
     "name": "stderr",
     "output_type": "stream",
     "text": [
      "\r\n",
      "Val:  25%|██▌       | 7/28 [02:07<04:30, 12.90s/it]"
     ]
    },
    {
     "name": "stderr",
     "output_type": "stream",
     "text": [
      "\r\n",
      "Val:  29%|██▊       | 8/28 [02:11<03:26, 10.31s/it]"
     ]
    },
    {
     "name": "stderr",
     "output_type": "stream",
     "text": [
      "\r\n",
      "Val:  32%|███▏      | 9/28 [03:00<07:02, 22.23s/it]"
     ]
    },
    {
     "name": "stderr",
     "output_type": "stream",
     "text": [
      "\r\n",
      "Val:  36%|███▌      | 10/28 [03:05<05:03, 16.83s/it]"
     ]
    },
    {
     "name": "stderr",
     "output_type": "stream",
     "text": [
      "\r\n",
      "Val:  39%|███▉      | 11/28 [03:09<03:43, 13.15s/it]"
     ]
    },
    {
     "name": "stderr",
     "output_type": "stream",
     "text": [
      "\r\n",
      "Val:  43%|████▎     | 12/28 [03:14<02:50, 10.67s/it]"
     ]
    },
    {
     "name": "stderr",
     "output_type": "stream",
     "text": [
      "\r\n",
      "Val:  46%|████▋     | 13/28 [03:54<04:52, 19.49s/it]"
     ]
    },
    {
     "name": "stderr",
     "output_type": "stream",
     "text": [
      "\r\n",
      "Val:  50%|█████     | 14/28 [03:59<03:30, 15.01s/it]"
     ]
    },
    {
     "name": "stderr",
     "output_type": "stream",
     "text": [
      "\r\n",
      "Val:  54%|█████▎    | 15/28 [04:04<02:35, 11.93s/it]"
     ]
    },
    {
     "name": "stderr",
     "output_type": "stream",
     "text": [
      "\r\n",
      "Val:  57%|█████▋    | 16/28 [04:08<01:57,  9.77s/it]"
     ]
    },
    {
     "name": "stderr",
     "output_type": "stream",
     "text": [
      "\r\n",
      "Val:  61%|██████    | 17/28 [04:56<03:52, 21.13s/it]"
     ]
    },
    {
     "name": "stderr",
     "output_type": "stream",
     "text": [
      "\r\n",
      "Val:  64%|██████▍   | 18/28 [05:01<02:42, 16.25s/it]"
     ]
    },
    {
     "name": "stderr",
     "output_type": "stream",
     "text": [
      "\r\n",
      "Val:  68%|██████▊   | 19/28 [05:06<01:55, 12.80s/it]"
     ]
    },
    {
     "name": "stderr",
     "output_type": "stream",
     "text": [
      "\r\n",
      "Val:  71%|███████▏  | 20/28 [05:11<01:23, 10.45s/it]"
     ]
    },
    {
     "name": "stderr",
     "output_type": "stream",
     "text": [
      "\r\n",
      "Val:  75%|███████▌  | 21/28 [05:54<02:21, 20.24s/it]"
     ]
    },
    {
     "name": "stderr",
     "output_type": "stream",
     "text": [
      "\r\n",
      "Val:  79%|███████▊  | 22/28 [05:58<01:33, 15.59s/it]"
     ]
    },
    {
     "name": "stderr",
     "output_type": "stream",
     "text": [
      "\r\n",
      "Val:  82%|████████▏ | 23/28 [06:03<01:01, 12.39s/it]"
     ]
    },
    {
     "name": "stderr",
     "output_type": "stream",
     "text": [
      "\r\n",
      "Val:  86%|████████▌ | 24/28 [06:08<00:40, 10.13s/it]"
     ]
    },
    {
     "name": "stderr",
     "output_type": "stream",
     "text": [
      "\r\n",
      "Val:  89%|████████▉ | 25/28 [06:45<00:54, 18.11s/it]"
     ]
    },
    {
     "name": "stderr",
     "output_type": "stream",
     "text": [
      "\r\n",
      "Val:  93%|█████████▎| 26/28 [06:49<00:27, 13.97s/it]"
     ]
    },
    {
     "name": "stderr",
     "output_type": "stream",
     "text": [
      "\r\n",
      "Val:  96%|█████████▋| 27/28 [06:54<00:11, 11.11s/it]"
     ]
    },
    {
     "name": "stderr",
     "output_type": "stream",
     "text": [
      "\r\n",
      "Val: 100%|██████████| 28/28 [06:55<00:00,  8.29s/it]"
     ]
    },
    {
     "name": "stderr",
     "output_type": "stream",
     "text": [
      "\r\n",
      "Val: 100%|██████████| 28/28 [06:55<00:00, 14.85s/it]"
     ]
    },
    {
     "name": "stderr",
     "output_type": "stream",
     "text": [
      "\n"
     ]
    },
    {
     "name": "stdout",
     "output_type": "stream",
     "text": [
      "  Val Loss: 1.0305, Acc: 0.4943\n",
      "  + New best! Saved.\n",
      "Epoch 9/10\n"
     ]
    },
    {
     "name": "stderr",
     "output_type": "stream",
     "text": [
      "\r\n",
      "Train:   0%|          | 0/110 [00:00<?, ?it/s]"
     ]
    },
    {
     "name": "stderr",
     "output_type": "stream",
     "text": [
      "\r\n",
      "Train:   1%|          | 1/110 [00:49<1:29:31, 49.28s/it]"
     ]
    },
    {
     "name": "stderr",
     "output_type": "stream",
     "text": [
      "\r\n",
      "Train:   2%|▏         | 2/110 [00:59<47:38, 26.47s/it]  "
     ]
    },
    {
     "name": "stderr",
     "output_type": "stream",
     "text": [
      "\r\n",
      "Train:   3%|▎         | 3/110 [01:04<29:49, 16.72s/it]"
     ]
    },
    {
     "name": "stderr",
     "output_type": "stream",
     "text": [
      "\r\n",
      "Train:   4%|▎         | 4/110 [01:10<21:27, 12.15s/it]"
     ]
    },
    {
     "name": "stderr",
     "output_type": "stream",
     "text": [
      "\r\n",
      "Train:   5%|▍         | 5/110 [01:40<32:43, 18.70s/it]"
     ]
    },
    {
     "name": "stderr",
     "output_type": "stream",
     "text": [
      "\r\n",
      "Train:   5%|▌         | 6/110 [02:06<36:41, 21.16s/it]"
     ]
    },
    {
     "name": "stderr",
     "output_type": "stream",
     "text": [
      "\r\n",
      "Train:   6%|▋         | 7/110 [02:11<27:16, 15.89s/it]"
     ]
    },
    {
     "name": "stderr",
     "output_type": "stream",
     "text": [
      "\r\n",
      "Train:   7%|▋         | 8/110 [02:16<21:11, 12.46s/it]"
     ]
    },
    {
     "name": "stderr",
     "output_type": "stream",
     "text": [
      "\r\n",
      "Train:   8%|▊         | 9/110 [02:41<27:36, 16.40s/it]"
     ]
    },
    {
     "name": "stderr",
     "output_type": "stream",
     "text": [
      "\r\n",
      "Train:   9%|▉         | 10/110 [02:59<27:56, 16.77s/it]"
     ]
    },
    {
     "name": "stderr",
     "output_type": "stream",
     "text": [
      "\r\n",
      "Train:  10%|█         | 11/110 [03:04<21:45, 13.18s/it]"
     ]
    },
    {
     "name": "stderr",
     "output_type": "stream",
     "text": [
      "\r\n",
      "Train:  11%|█         | 12/110 [03:09<17:35, 10.77s/it]"
     ]
    },
    {
     "name": "stderr",
     "output_type": "stream",
     "text": [
      "\r\n",
      "Train:  12%|█▏        | 13/110 [03:27<21:05, 13.05s/it]"
     ]
    },
    {
     "name": "stderr",
     "output_type": "stream",
     "text": [
      "\r\n",
      "Train:  13%|█▎        | 14/110 [03:53<27:06, 16.94s/it]"
     ]
    },
    {
     "name": "stderr",
     "output_type": "stream",
     "text": [
      "\r\n",
      "Train:  14%|█▎        | 15/110 [03:58<21:10, 13.38s/it]"
     ]
    },
    {
     "name": "stderr",
     "output_type": "stream",
     "text": [
      "\r\n",
      "Train:  15%|█▍        | 16/110 [04:03<17:04, 10.90s/it]"
     ]
    },
    {
     "name": "stderr",
     "output_type": "stream",
     "text": [
      "\r\n",
      "Train:  15%|█▌        | 17/110 [04:15<17:10, 11.08s/it]"
     ]
    },
    {
     "name": "stderr",
     "output_type": "stream",
     "text": [
      "\r\n",
      "Train:  16%|█▋        | 18/110 [04:52<29:06, 18.99s/it]"
     ]
    },
    {
     "name": "stderr",
     "output_type": "stream",
     "text": [
      "\r\n",
      "Train:  17%|█▋        | 19/110 [04:57<22:25, 14.78s/it]"
     ]
    },
    {
     "name": "stderr",
     "output_type": "stream",
     "text": [
      "\r\n",
      "Train:  18%|█▊        | 20/110 [05:02<17:47, 11.87s/it]"
     ]
    },
    {
     "name": "stderr",
     "output_type": "stream",
     "text": [
      "\r\n",
      "Train:  19%|█▉        | 21/110 [05:07<14:35,  9.84s/it]"
     ]
    },
    {
     "name": "stderr",
     "output_type": "stream",
     "text": [
      "\r\n",
      "Train:  20%|██        | 22/110 [05:47<27:40, 18.87s/it]"
     ]
    },
    {
     "name": "stderr",
     "output_type": "stream",
     "text": [
      "\r\n",
      "Train:  21%|██        | 23/110 [05:52<21:19, 14.70s/it]"
     ]
    },
    {
     "name": "stderr",
     "output_type": "stream",
     "text": [
      "\r\n",
      "Train:  22%|██▏       | 24/110 [05:57<16:52, 11.77s/it]"
     ]
    },
    {
     "name": "stderr",
     "output_type": "stream",
     "text": [
      "\r\n",
      "Train:  23%|██▎       | 25/110 [06:02<13:48,  9.75s/it]"
     ]
    },
    {
     "name": "stderr",
     "output_type": "stream",
     "text": [
      "\r\n",
      "Train:  24%|██▎       | 26/110 [06:40<25:11, 17.99s/it]"
     ]
    },
    {
     "name": "stderr",
     "output_type": "stream",
     "text": [
      "\r\n",
      "Train:  25%|██▍       | 27/110 [06:45<19:31, 14.11s/it]"
     ]
    },
    {
     "name": "stderr",
     "output_type": "stream",
     "text": [
      "\r\n",
      "Train:  25%|██▌       | 28/110 [06:50<15:33, 11.38s/it]"
     ]
    },
    {
     "name": "stderr",
     "output_type": "stream",
     "text": [
      "\r\n",
      "Train:  26%|██▋       | 29/110 [06:59<14:25, 10.68s/it]"
     ]
    },
    {
     "name": "stderr",
     "output_type": "stream",
     "text": [
      "\r\n",
      "Train:  27%|██▋       | 30/110 [07:40<26:19, 19.74s/it]"
     ]
    },
    {
     "name": "stderr",
     "output_type": "stream",
     "text": [
      "\r\n",
      "Train:  28%|██▊       | 31/110 [07:45<20:09, 15.31s/it]"
     ]
    },
    {
     "name": "stderr",
     "output_type": "stream",
     "text": [
      "\r\n",
      "Train:  29%|██▉       | 32/110 [07:50<15:55, 12.26s/it]"
     ]
    },
    {
     "name": "stderr",
     "output_type": "stream",
     "text": [
      "\r\n",
      "Train:  30%|███       | 33/110 [07:55<13:02, 10.16s/it]"
     ]
    },
    {
     "name": "stderr",
     "output_type": "stream",
     "text": [
      "\r\n",
      "Train:  31%|███       | 34/110 [08:33<23:29, 18.54s/it]"
     ]
    },
    {
     "name": "stderr",
     "output_type": "stream",
     "text": [
      "\r\n",
      "Train:  32%|███▏      | 35/110 [08:38<18:04, 14.46s/it]"
     ]
    },
    {
     "name": "stderr",
     "output_type": "stream",
     "text": [
      "\r\n",
      "Train:  33%|███▎      | 36/110 [08:43<14:21, 11.64s/it]"
     ]
    },
    {
     "name": "stderr",
     "output_type": "stream",
     "text": [
      "\r\n",
      "Train:  34%|███▎      | 37/110 [08:54<13:44, 11.29s/it]"
     ]
    },
    {
     "name": "stderr",
     "output_type": "stream",
     "text": [
      "\r\n",
      "Train:  35%|███▍      | 38/110 [09:24<20:28, 17.06s/it]"
     ]
    },
    {
     "name": "stderr",
     "output_type": "stream",
     "text": [
      "\r\n",
      "Train:  35%|███▌      | 39/110 [09:29<15:54, 13.44s/it]"
     ]
    },
    {
     "name": "stderr",
     "output_type": "stream",
     "text": [
      "\r\n",
      "Train:  36%|███▋      | 40/110 [09:34<12:45, 10.94s/it]"
     ]
    },
    {
     "name": "stderr",
     "output_type": "stream",
     "text": [
      "\r\n",
      "Train:  37%|███▋      | 41/110 [09:51<14:28, 12.59s/it]"
     ]
    },
    {
     "name": "stderr",
     "output_type": "stream",
     "text": [
      "\r\n",
      "Train:  38%|███▊      | 42/110 [10:21<20:17, 17.91s/it]"
     ]
    },
    {
     "name": "stderr",
     "output_type": "stream",
     "text": [
      "\r\n",
      "Train:  39%|███▉      | 43/110 [10:26<15:39, 14.03s/it]"
     ]
    },
    {
     "name": "stderr",
     "output_type": "stream",
     "text": [
      "\r\n",
      "Train:  40%|████      | 44/110 [10:31<12:29, 11.36s/it]"
     ]
    },
    {
     "name": "stderr",
     "output_type": "stream",
     "text": [
      "\r\n",
      "Train:  41%|████      | 45/110 [10:54<16:03, 14.82s/it]"
     ]
    },
    {
     "name": "stderr",
     "output_type": "stream",
     "text": [
      "\r\n",
      "Train:  42%|████▏     | 46/110 [11:12<16:59, 15.93s/it]"
     ]
    },
    {
     "name": "stderr",
     "output_type": "stream",
     "text": [
      "\r\n",
      "Train:  43%|████▎     | 47/110 [11:18<13:25, 12.79s/it]"
     ]
    },
    {
     "name": "stderr",
     "output_type": "stream",
     "text": [
      "\r\n",
      "Train:  44%|████▎     | 48/110 [11:23<10:50, 10.49s/it]"
     ]
    },
    {
     "name": "stderr",
     "output_type": "stream",
     "text": [
      "\r\n",
      "Train:  45%|████▍     | 49/110 [11:50<15:41, 15.43s/it]"
     ]
    },
    {
     "name": "stderr",
     "output_type": "stream",
     "text": [
      "\r\n",
      "Train:  45%|████▌     | 50/110 [12:10<16:52, 16.87s/it]"
     ]
    },
    {
     "name": "stderr",
     "output_type": "stream",
     "text": [
      "\r\n",
      "Train:  46%|████▋     | 51/110 [12:16<13:12, 13.43s/it]"
     ]
    },
    {
     "name": "stderr",
     "output_type": "stream",
     "text": [
      "\r\n",
      "Train:  47%|████▋     | 52/110 [12:21<10:34, 10.94s/it]"
     ]
    },
    {
     "name": "stderr",
     "output_type": "stream",
     "text": [
      "\r\n",
      "Train:  48%|████▊     | 53/110 [12:42<13:24, 14.12s/it]"
     ]
    },
    {
     "name": "stderr",
     "output_type": "stream",
     "text": [
      "\r\n",
      "Train:  49%|████▉     | 54/110 [13:12<17:28, 18.72s/it]"
     ]
    },
    {
     "name": "stderr",
     "output_type": "stream",
     "text": [
      "\r\n",
      "Train:  50%|█████     | 55/110 [13:17<13:22, 14.58s/it]"
     ]
    },
    {
     "name": "stderr",
     "output_type": "stream",
     "text": [
      "\r\n",
      "Train:  51%|█████     | 56/110 [13:22<10:34, 11.75s/it]"
     ]
    },
    {
     "name": "stderr",
     "output_type": "stream",
     "text": [
      "\r\n",
      "Train:  52%|█████▏    | 57/110 [13:37<11:21, 12.86s/it]"
     ]
    },
    {
     "name": "stderr",
     "output_type": "stream",
     "text": [
      "\r\n",
      "Train:  53%|█████▎    | 58/110 [14:11<16:30, 19.04s/it]"
     ]
    },
    {
     "name": "stderr",
     "output_type": "stream",
     "text": [
      "\r\n",
      "Train:  54%|█████▎    | 59/110 [14:16<12:39, 14.89s/it]"
     ]
    },
    {
     "name": "stderr",
     "output_type": "stream",
     "text": [
      "\r\n",
      "Train:  55%|█████▍    | 60/110 [14:21<09:56, 11.94s/it]"
     ]
    },
    {
     "name": "stderr",
     "output_type": "stream",
     "text": [
      "\r\n",
      "Train:  55%|█████▌    | 61/110 [14:39<11:17, 13.82s/it]"
     ]
    },
    {
     "name": "stderr",
     "output_type": "stream",
     "text": [
      "\r\n",
      "Train:  56%|█████▋    | 62/110 [15:04<13:38, 17.05s/it]"
     ]
    },
    {
     "name": "stderr",
     "output_type": "stream",
     "text": [
      "\r\n",
      "Train:  57%|█████▋    | 63/110 [15:09<10:33, 13.47s/it]"
     ]
    },
    {
     "name": "stderr",
     "output_type": "stream",
     "text": [
      "\r\n",
      "Train:  58%|█████▊    | 64/110 [15:14<08:24, 10.96s/it]"
     ]
    },
    {
     "name": "stderr",
     "output_type": "stream",
     "text": [
      "\r\n",
      "Train:  59%|█████▉    | 65/110 [15:36<10:39, 14.21s/it]"
     ]
    },
    {
     "name": "stderr",
     "output_type": "stream",
     "text": [
      "\r\n",
      "Train:  60%|██████    | 66/110 [16:02<12:57, 17.68s/it]"
     ]
    },
    {
     "name": "stderr",
     "output_type": "stream",
     "text": [
      "\r\n",
      "Train:  61%|██████    | 67/110 [16:06<09:54, 13.82s/it]"
     ]
    },
    {
     "name": "stderr",
     "output_type": "stream",
     "text": [
      "\r\n",
      "Train:  62%|██████▏   | 68/110 [16:11<07:50, 11.19s/it]"
     ]
    },
    {
     "name": "stderr",
     "output_type": "stream",
     "text": [
      "\r\n",
      "Train:  63%|██████▎   | 69/110 [16:28<08:49, 12.91s/it]"
     ]
    },
    {
     "name": "stderr",
     "output_type": "stream",
     "text": [
      "\r\n",
      "Train:  64%|██████▎   | 70/110 [16:57<11:47, 17.68s/it]"
     ]
    },
    {
     "name": "stderr",
     "output_type": "stream",
     "text": [
      "\r\n",
      "Train:  65%|██████▍   | 71/110 [17:02<09:01, 13.88s/it]"
     ]
    },
    {
     "name": "stderr",
     "output_type": "stream",
     "text": [
      "\r\n",
      "Train:  65%|██████▌   | 72/110 [17:07<07:07, 11.25s/it]"
     ]
    },
    {
     "name": "stderr",
     "output_type": "stream",
     "text": [
      "\r\n",
      "Train:  66%|██████▋   | 73/110 [17:21<07:24, 12.01s/it]"
     ]
    },
    {
     "name": "stderr",
     "output_type": "stream",
     "text": [
      "\r\n",
      "Train:  67%|██████▋   | 74/110 [17:51<10:21, 17.26s/it]"
     ]
    },
    {
     "name": "stderr",
     "output_type": "stream",
     "text": [
      "\r\n",
      "Train:  68%|██████▊   | 75/110 [17:56<07:55, 13.58s/it]"
     ]
    },
    {
     "name": "stderr",
     "output_type": "stream",
     "text": [
      "\r\n",
      "Train:  69%|██████▉   | 76/110 [18:01<06:15, 11.03s/it]"
     ]
    },
    {
     "name": "stderr",
     "output_type": "stream",
     "text": [
      "\r\n",
      "Train:  70%|███████   | 77/110 [18:15<06:33, 11.93s/it]"
     ]
    },
    {
     "name": "stderr",
     "output_type": "stream",
     "text": [
      "\r\n",
      "Train:  71%|███████   | 78/110 [18:47<09:37, 18.04s/it]"
     ]
    },
    {
     "name": "stderr",
     "output_type": "stream",
     "text": [
      "\r\n",
      "Train:  72%|███████▏  | 79/110 [18:52<07:17, 14.11s/it]"
     ]
    },
    {
     "name": "stderr",
     "output_type": "stream",
     "text": [
      "\r\n",
      "Train:  73%|███████▎  | 80/110 [18:57<05:41, 11.38s/it]"
     ]
    },
    {
     "name": "stderr",
     "output_type": "stream",
     "text": [
      "\r\n",
      "Train:  74%|███████▎  | 81/110 [19:17<06:42, 13.87s/it]"
     ]
    },
    {
     "name": "stderr",
     "output_type": "stream",
     "text": [
      "\r\n",
      "Train:  75%|███████▍  | 82/110 [19:44<08:18, 17.82s/it]"
     ]
    },
    {
     "name": "stderr",
     "output_type": "stream",
     "text": [
      "\r\n",
      "Train:  75%|███████▌  | 83/110 [19:49<06:18, 14.01s/it]"
     ]
    },
    {
     "name": "stderr",
     "output_type": "stream",
     "text": [
      "\r\n",
      "Train:  76%|███████▋  | 84/110 [19:54<04:55, 11.36s/it]"
     ]
    },
    {
     "name": "stderr",
     "output_type": "stream",
     "text": [
      "\r\n",
      "Train:  77%|███████▋  | 85/110 [20:11<05:26, 13.04s/it]"
     ]
    },
    {
     "name": "stderr",
     "output_type": "stream",
     "text": [
      "\r\n",
      "Train:  78%|███████▊  | 86/110 [20:39<07:02, 17.61s/it]"
     ]
    },
    {
     "name": "stderr",
     "output_type": "stream",
     "text": [
      "\r\n",
      "Train:  79%|███████▉  | 87/110 [20:44<05:18, 13.85s/it]"
     ]
    },
    {
     "name": "stderr",
     "output_type": "stream",
     "text": [
      "\r\n",
      "Train:  80%|████████  | 88/110 [20:49<04:06, 11.21s/it]"
     ]
    },
    {
     "name": "stderr",
     "output_type": "stream",
     "text": [
      "\r\n",
      "Train:  81%|████████  | 89/110 [21:06<04:27, 12.76s/it]"
     ]
    },
    {
     "name": "stderr",
     "output_type": "stream",
     "text": [
      "\r\n",
      "Train:  82%|████████▏ | 90/110 [21:43<06:40, 20.01s/it]"
     ]
    },
    {
     "name": "stderr",
     "output_type": "stream",
     "text": [
      "\r\n",
      "Train:  83%|████████▎ | 91/110 [21:48<04:54, 15.52s/it]"
     ]
    },
    {
     "name": "stderr",
     "output_type": "stream",
     "text": [
      "\r\n",
      "Train:  84%|████████▎ | 92/110 [21:53<03:42, 12.38s/it]"
     ]
    },
    {
     "name": "stderr",
     "output_type": "stream",
     "text": [
      "\r\n",
      "Train:  85%|████████▍ | 93/110 [22:03<03:21, 11.87s/it]"
     ]
    },
    {
     "name": "stderr",
     "output_type": "stream",
     "text": [
      "\r\n",
      "Train:  85%|████████▌ | 94/110 [22:40<05:07, 19.23s/it]"
     ]
    },
    {
     "name": "stderr",
     "output_type": "stream",
     "text": [
      "\r\n",
      "Train:  86%|████████▋ | 95/110 [22:45<03:43, 14.93s/it]"
     ]
    },
    {
     "name": "stderr",
     "output_type": "stream",
     "text": [
      "\r\n",
      "Train:  87%|████████▋ | 96/110 [22:50<02:47, 11.96s/it]"
     ]
    },
    {
     "name": "stderr",
     "output_type": "stream",
     "text": [
      "\r\n",
      "Train:  88%|████████▊ | 97/110 [23:01<02:33, 11.80s/it]"
     ]
    },
    {
     "name": "stderr",
     "output_type": "stream",
     "text": [
      "\r\n",
      "Train:  89%|████████▉ | 98/110 [23:40<03:58, 19.85s/it]"
     ]
    },
    {
     "name": "stderr",
     "output_type": "stream",
     "text": [
      "\r\n",
      "Train:  90%|█████████ | 99/110 [23:45<02:49, 15.41s/it]"
     ]
    },
    {
     "name": "stderr",
     "output_type": "stream",
     "text": [
      "\r\n",
      "Train:  91%|█████████ | 100/110 [23:50<02:02, 12.30s/it]"
     ]
    },
    {
     "name": "stderr",
     "output_type": "stream",
     "text": [
      "\r\n",
      "Train:  92%|█████████▏| 101/110 [23:55<01:31, 10.15s/it]"
     ]
    },
    {
     "name": "stderr",
     "output_type": "stream",
     "text": [
      "\r\n",
      "Train:  93%|█████████▎| 102/110 [24:35<02:33, 19.18s/it]"
     ]
    },
    {
     "name": "stderr",
     "output_type": "stream",
     "text": [
      "\r\n",
      "Train:  94%|█████████▎| 103/110 [24:40<01:44, 14.95s/it]"
     ]
    },
    {
     "name": "stderr",
     "output_type": "stream",
     "text": [
      "\r\n",
      "Train:  95%|█████████▍| 104/110 [24:45<01:11, 12.00s/it]"
     ]
    },
    {
     "name": "stderr",
     "output_type": "stream",
     "text": [
      "\r\n",
      "Train:  95%|█████████▌| 105/110 [24:51<00:49,  9.94s/it]"
     ]
    },
    {
     "name": "stderr",
     "output_type": "stream",
     "text": [
      "\r\n",
      "Train:  96%|█████████▋| 106/110 [25:27<01:11, 17.76s/it]"
     ]
    },
    {
     "name": "stderr",
     "output_type": "stream",
     "text": [
      "\r\n",
      "Train:  97%|█████████▋| 107/110 [25:31<00:41, 13.79s/it]"
     ]
    },
    {
     "name": "stderr",
     "output_type": "stream",
     "text": [
      "\r\n",
      "Train:  98%|█████████▊| 108/110 [25:36<00:22, 11.05s/it]"
     ]
    },
    {
     "name": "stderr",
     "output_type": "stream",
     "text": [
      "\r\n",
      "Train:  99%|█████████▉| 109/110 [25:40<00:09,  9.14s/it]"
     ]
    },
    {
     "name": "stderr",
     "output_type": "stream",
     "text": [
      "\r\n",
      "Train: 100%|██████████| 110/110 [25:40<00:00, 14.01s/it]"
     ]
    },
    {
     "name": "stderr",
     "output_type": "stream",
     "text": [
      "\n"
     ]
    },
    {
     "name": "stdout",
     "output_type": "stream",
     "text": [
      "  Train Loss: 1.0179, Acc: 0.4676\n"
     ]
    },
    {
     "name": "stderr",
     "output_type": "stream",
     "text": [
      "\r\n",
      "Val:   0%|          | 0/28 [00:00<?, ?it/s]"
     ]
    },
    {
     "name": "stderr",
     "output_type": "stream",
     "text": [
      "\r\n",
      "Val:   4%|▎         | 1/28 [01:00<27:11, 60.44s/it]"
     ]
    },
    {
     "name": "stderr",
     "output_type": "stream",
     "text": [
      "\r\n",
      "Val:   7%|▋         | 2/28 [01:05<11:59, 27.68s/it]"
     ]
    },
    {
     "name": "stderr",
     "output_type": "stream",
     "text": [
      "\r\n",
      "Val:  11%|█         | 3/28 [01:10<07:11, 17.26s/it]"
     ]
    },
    {
     "name": "stderr",
     "output_type": "stream",
     "text": [
      "\r\n",
      "Val:  14%|█▍        | 4/28 [01:14<04:57, 12.39s/it]"
     ]
    },
    {
     "name": "stderr",
     "output_type": "stream",
     "text": [
      "\r\n",
      "Val:  18%|█▊        | 5/28 [01:56<08:46, 22.88s/it]"
     ]
    },
    {
     "name": "stderr",
     "output_type": "stream",
     "text": [
      "\r\n",
      "Val:  21%|██▏       | 6/28 [02:01<06:07, 16.69s/it]"
     ]
    },
    {
     "name": "stderr",
     "output_type": "stream",
     "text": [
      "\r\n",
      "Val:  25%|██▌       | 7/28 [02:06<04:29, 12.85s/it]"
     ]
    },
    {
     "name": "stderr",
     "output_type": "stream",
     "text": [
      "\r\n",
      "Val:  29%|██▊       | 8/28 [02:10<03:26, 10.32s/it]"
     ]
    },
    {
     "name": "stderr",
     "output_type": "stream",
     "text": [
      "\r\n",
      "Val:  32%|███▏      | 9/28 [02:57<06:52, 21.71s/it]"
     ]
    },
    {
     "name": "stderr",
     "output_type": "stream",
     "text": [
      "\r\n",
      "Val:  36%|███▌      | 10/28 [03:02<04:56, 16.48s/it]"
     ]
    },
    {
     "name": "stderr",
     "output_type": "stream",
     "text": [
      "\r\n",
      "Val:  39%|███▉      | 11/28 [03:07<03:39, 12.92s/it]"
     ]
    },
    {
     "name": "stderr",
     "output_type": "stream",
     "text": [
      "\r\n",
      "Val:  43%|████▎     | 12/28 [03:12<02:48, 10.52s/it]"
     ]
    },
    {
     "name": "stderr",
     "output_type": "stream",
     "text": [
      "\r\n",
      "Val:  46%|████▋     | 13/28 [03:51<04:46, 19.07s/it]"
     ]
    },
    {
     "name": "stderr",
     "output_type": "stream",
     "text": [
      "\r\n",
      "Val:  50%|█████     | 14/28 [03:55<03:26, 14.73s/it]"
     ]
    },
    {
     "name": "stderr",
     "output_type": "stream",
     "text": [
      "\r\n",
      "Val:  54%|█████▎    | 15/28 [04:00<02:32, 11.70s/it]"
     ]
    },
    {
     "name": "stderr",
     "output_type": "stream",
     "text": [
      "\r\n",
      "Val:  57%|█████▋    | 16/28 [04:05<01:55,  9.66s/it]"
     ]
    },
    {
     "name": "stderr",
     "output_type": "stream",
     "text": [
      "\r\n",
      "Val:  61%|██████    | 17/28 [04:51<03:45, 20.48s/it]"
     ]
    },
    {
     "name": "stderr",
     "output_type": "stream",
     "text": [
      "\r\n",
      "Val:  64%|██████▍   | 18/28 [04:55<02:37, 15.72s/it]"
     ]
    },
    {
     "name": "stderr",
     "output_type": "stream",
     "text": [
      "\r\n",
      "Val:  68%|██████▊   | 19/28 [05:00<01:52, 12.46s/it]"
     ]
    },
    {
     "name": "stderr",
     "output_type": "stream",
     "text": [
      "\r\n",
      "Val:  71%|███████▏  | 20/28 [05:05<01:21, 10.18s/it]"
     ]
    },
    {
     "name": "stderr",
     "output_type": "stream",
     "text": [
      "\r\n",
      "Val:  75%|███████▌  | 21/28 [05:45<02:14, 19.24s/it]"
     ]
    },
    {
     "name": "stderr",
     "output_type": "stream",
     "text": [
      "\r\n",
      "Val:  79%|███████▊  | 22/28 [05:50<01:29, 14.88s/it]"
     ]
    },
    {
     "name": "stderr",
     "output_type": "stream",
     "text": [
      "\r\n",
      "Val:  82%|████████▏ | 23/28 [05:55<00:59, 11.92s/it]"
     ]
    },
    {
     "name": "stderr",
     "output_type": "stream",
     "text": [
      "\r\n",
      "Val:  86%|████████▌ | 24/28 [06:00<00:39,  9.80s/it]"
     ]
    },
    {
     "name": "stderr",
     "output_type": "stream",
     "text": [
      "\r\n",
      "Val:  89%|████████▉ | 25/28 [06:38<00:54, 18.17s/it]"
     ]
    },
    {
     "name": "stderr",
     "output_type": "stream",
     "text": [
      "\r\n",
      "Val:  93%|█████████▎| 26/28 [06:42<00:28, 14.02s/it]"
     ]
    },
    {
     "name": "stderr",
     "output_type": "stream",
     "text": [
      "\r\n",
      "Val:  96%|█████████▋| 27/28 [06:46<00:11, 11.14s/it]"
     ]
    },
    {
     "name": "stderr",
     "output_type": "stream",
     "text": [
      "\r\n",
      "Val: 100%|██████████| 28/28 [06:48<00:00,  8.31s/it]"
     ]
    },
    {
     "name": "stderr",
     "output_type": "stream",
     "text": [
      "\r\n",
      "Val: 100%|██████████| 28/28 [06:48<00:00, 14.59s/it]"
     ]
    },
    {
     "name": "stderr",
     "output_type": "stream",
     "text": [
      "\n"
     ]
    },
    {
     "name": "stdout",
     "output_type": "stream",
     "text": [
      "  Val Loss: 1.0234, Acc: 0.4805\n",
      "Epoch 10/10\n"
     ]
    },
    {
     "name": "stderr",
     "output_type": "stream",
     "text": [
      "\r\n",
      "Train:   0%|          | 0/110 [00:00<?, ?it/s]"
     ]
    },
    {
     "name": "stderr",
     "output_type": "stream",
     "text": [
      "\r\n",
      "Train:   1%|          | 1/110 [01:02<1:53:36, 62.54s/it]"
     ]
    },
    {
     "name": "stderr",
     "output_type": "stream",
     "text": [
      "\r\n",
      "Train:   2%|▏         | 2/110 [01:07<51:43, 28.74s/it]  "
     ]
    },
    {
     "name": "stderr",
     "output_type": "stream",
     "text": [
      "\r\n",
      "Train:   3%|▎         | 3/110 [01:12<32:09, 18.03s/it]"
     ]
    },
    {
     "name": "stderr",
     "output_type": "stream",
     "text": [
      "\r\n",
      "Train:   4%|▎         | 4/110 [01:18<22:59, 13.02s/it]"
     ]
    },
    {
     "name": "stderr",
     "output_type": "stream",
     "text": [
      "\r\n",
      "Train:   5%|▍         | 5/110 [01:59<40:40, 23.24s/it]"
     ]
    },
    {
     "name": "stderr",
     "output_type": "stream",
     "text": [
      "\r\n",
      "Train:   5%|▌         | 6/110 [02:04<29:34, 17.06s/it]"
     ]
    },
    {
     "name": "stderr",
     "output_type": "stream",
     "text": [
      "\r\n",
      "Train:   6%|▋         | 7/110 [02:09<22:33, 13.14s/it]"
     ]
    },
    {
     "name": "stderr",
     "output_type": "stream",
     "text": [
      "\r\n",
      "Train:   7%|▋         | 8/110 [02:14<18:00, 10.59s/it]"
     ]
    },
    {
     "name": "stderr",
     "output_type": "stream",
     "text": [
      "\r\n",
      "Train:   8%|▊         | 9/110 [02:59<35:36, 21.15s/it]"
     ]
    },
    {
     "name": "stderr",
     "output_type": "stream",
     "text": [
      "\r\n",
      "Train:   9%|▉         | 10/110 [03:04<26:55, 16.16s/it]"
     ]
    },
    {
     "name": "stderr",
     "output_type": "stream",
     "text": [
      "\r\n",
      "Train:  10%|█         | 11/110 [03:09<21:05, 12.79s/it]"
     ]
    },
    {
     "name": "stderr",
     "output_type": "stream",
     "text": [
      "\r\n",
      "Train:  11%|█         | 12/110 [03:14<17:02, 10.43s/it]"
     ]
    },
    {
     "name": "stderr",
     "output_type": "stream",
     "text": [
      "\r\n",
      "Train:  12%|█▏        | 13/110 [03:57<32:52, 20.33s/it]"
     ]
    },
    {
     "name": "stderr",
     "output_type": "stream",
     "text": [
      "\r\n",
      "Train:  13%|█▎        | 14/110 [04:02<25:09, 15.72s/it]"
     ]
    },
    {
     "name": "stderr",
     "output_type": "stream",
     "text": [
      "\r\n",
      "Train:  14%|█▎        | 15/110 [04:07<19:44, 12.47s/it]"
     ]
    },
    {
     "name": "stderr",
     "output_type": "stream",
     "text": [
      "\r\n",
      "Train:  15%|█▍        | 16/110 [04:12<16:05, 10.27s/it]"
     ]
    },
    {
     "name": "stderr",
     "output_type": "stream",
     "text": [
      "\r\n",
      "Train:  15%|█▌        | 17/110 [04:57<31:55, 20.60s/it]"
     ]
    },
    {
     "name": "stderr",
     "output_type": "stream",
     "text": [
      "\r\n",
      "Train:  16%|█▋        | 18/110 [05:03<25:08, 16.39s/it]"
     ]
    },
    {
     "name": "stderr",
     "output_type": "stream",
     "text": [
      "\r\n",
      "Train:  17%|█▋        | 19/110 [05:09<19:43, 13.00s/it]"
     ]
    },
    {
     "name": "stderr",
     "output_type": "stream",
     "text": [
      "\r\n",
      "Train:  18%|█▊        | 20/110 [05:14<15:59, 10.66s/it]"
     ]
    },
    {
     "name": "stderr",
     "output_type": "stream",
     "text": [
      "\r\n",
      "Train:  19%|█▉        | 21/110 [05:56<29:47, 20.09s/it]"
     ]
    },
    {
     "name": "stderr",
     "output_type": "stream",
     "text": [
      "\r\n",
      "Train:  20%|██        | 22/110 [06:01<22:48, 15.56s/it]"
     ]
    },
    {
     "name": "stderr",
     "output_type": "stream",
     "text": [
      "\r\n",
      "Train:  21%|██        | 23/110 [06:06<17:57, 12.39s/it]"
     ]
    },
    {
     "name": "stderr",
     "output_type": "stream",
     "text": [
      "\r\n",
      "Train:  22%|██▏       | 24/110 [06:11<14:38, 10.21s/it]"
     ]
    },
    {
     "name": "stderr",
     "output_type": "stream",
     "text": [
      "\r\n",
      "Train:  23%|██▎       | 25/110 [06:55<29:01, 20.49s/it]"
     ]
    },
    {
     "name": "stderr",
     "output_type": "stream",
     "text": [
      "\r\n",
      "Train:  24%|██▎       | 26/110 [07:00<22:09, 15.83s/it]"
     ]
    },
    {
     "name": "stderr",
     "output_type": "stream",
     "text": [
      "\r\n",
      "Train:  25%|██▍       | 27/110 [07:05<17:26, 12.61s/it]"
     ]
    },
    {
     "name": "stderr",
     "output_type": "stream",
     "text": [
      "\r\n",
      "Train:  25%|██▌       | 28/110 [07:11<14:11, 10.39s/it]"
     ]
    },
    {
     "name": "stderr",
     "output_type": "stream",
     "text": [
      "\r\n",
      "Train:  26%|██▋       | 29/110 [07:51<26:09, 19.38s/it]"
     ]
    },
    {
     "name": "stderr",
     "output_type": "stream",
     "text": [
      "\r\n",
      "Train:  27%|██▋       | 30/110 [07:56<20:03, 15.05s/it]"
     ]
    },
    {
     "name": "stderr",
     "output_type": "stream",
     "text": [
      "\r\n",
      "Train:  28%|██▊       | 31/110 [08:01<15:53, 12.07s/it]"
     ]
    },
    {
     "name": "stderr",
     "output_type": "stream",
     "text": [
      "\r\n",
      "Train:  29%|██▉       | 32/110 [08:06<12:59, 10.00s/it]"
     ]
    },
    {
     "name": "stderr",
     "output_type": "stream",
     "text": [
      "\r\n",
      "Train:  30%|███       | 33/110 [08:47<24:31, 19.11s/it]"
     ]
    },
    {
     "name": "stderr",
     "output_type": "stream",
     "text": [
      "\r\n",
      "Train:  31%|███       | 34/110 [08:52<18:50, 14.88s/it]"
     ]
    },
    {
     "name": "stderr",
     "output_type": "stream",
     "text": [
      "\r\n",
      "Train:  32%|███▏      | 35/110 [08:57<14:54, 11.92s/it]"
     ]
    },
    {
     "name": "stderr",
     "output_type": "stream",
     "text": [
      "\r\n",
      "Train:  33%|███▎      | 36/110 [09:02<12:12,  9.90s/it]"
     ]
    },
    {
     "name": "stderr",
     "output_type": "stream",
     "text": [
      "\r\n",
      "Train:  34%|███▎      | 37/110 [09:38<21:31, 17.69s/it]"
     ]
    },
    {
     "name": "stderr",
     "output_type": "stream",
     "text": [
      "\r\n",
      "Train:  35%|███▍      | 38/110 [09:49<18:48, 15.67s/it]"
     ]
    },
    {
     "name": "stderr",
     "output_type": "stream",
     "text": [
      "\r\n",
      "Train:  35%|███▌      | 39/110 [09:54<14:45, 12.47s/it]"
     ]
    },
    {
     "name": "stderr",
     "output_type": "stream",
     "text": [
      "\r\n",
      "Train:  36%|███▋      | 40/110 [09:59<12:01, 10.31s/it]"
     ]
    },
    {
     "name": "stderr",
     "output_type": "stream",
     "text": [
      "\r\n",
      "Train:  37%|███▋      | 41/110 [10:34<20:16, 17.64s/it]"
     ]
    },
    {
     "name": "stderr",
     "output_type": "stream",
     "text": [
      "\r\n",
      "Train:  38%|███▊      | 42/110 [10:48<18:56, 16.71s/it]"
     ]
    },
    {
     "name": "stderr",
     "output_type": "stream",
     "text": [
      "\r\n",
      "Train:  39%|███▉      | 43/110 [10:53<14:44, 13.19s/it]"
     ]
    },
    {
     "name": "stderr",
     "output_type": "stream",
     "text": [
      "\r\n",
      "Train:  40%|████      | 44/110 [10:58<11:51, 10.78s/it]"
     ]
    },
    {
     "name": "stderr",
     "output_type": "stream",
     "text": [
      "\r\n",
      "Train:  41%|████      | 45/110 [11:31<18:39, 17.22s/it]"
     ]
    },
    {
     "name": "stderr",
     "output_type": "stream",
     "text": [
      "\r\n",
      "Train:  42%|████▏     | 46/110 [11:43<16:54, 15.86s/it]"
     ]
    },
    {
     "name": "stderr",
     "output_type": "stream",
     "text": [
      "\r\n",
      "Train:  43%|████▎     | 47/110 [11:48<13:16, 12.65s/it]"
     ]
    },
    {
     "name": "stderr",
     "output_type": "stream",
     "text": [
      "\r\n",
      "Train:  44%|████▎     | 48/110 [11:54<10:46, 10.42s/it]"
     ]
    },
    {
     "name": "stderr",
     "output_type": "stream",
     "text": [
      "\r\n",
      "Train:  45%|████▍     | 49/110 [12:26<17:10, 16.89s/it]"
     ]
    },
    {
     "name": "stderr",
     "output_type": "stream",
     "text": [
      "\r\n",
      "Train:  45%|████▌     | 50/110 [12:43<17:05, 17.09s/it]"
     ]
    },
    {
     "name": "stderr",
     "output_type": "stream",
     "text": [
      "\r\n",
      "Train:  46%|████▋     | 51/110 [12:48<13:15, 13.49s/it]"
     ]
    },
    {
     "name": "stderr",
     "output_type": "stream",
     "text": [
      "\r\n",
      "Train:  47%|████▋     | 52/110 [12:53<10:36, 10.97s/it]"
     ]
    },
    {
     "name": "stderr",
     "output_type": "stream",
     "text": [
      "\r\n",
      "Train:  48%|████▊     | 53/110 [13:26<16:39, 17.53s/it]"
     ]
    },
    {
     "name": "stderr",
     "output_type": "stream",
     "text": [
      "\r\n",
      "Train:  49%|████▉     | 54/110 [13:38<14:37, 15.68s/it]"
     ]
    },
    {
     "name": "stderr",
     "output_type": "stream",
     "text": [
      "\r\n",
      "Train:  50%|█████     | 55/110 [13:43<11:28, 12.51s/it]"
     ]
    },
    {
     "name": "stderr",
     "output_type": "stream",
     "text": [
      "\r\n",
      "Train:  51%|█████     | 56/110 [13:48<09:16, 10.30s/it]"
     ]
    },
    {
     "name": "stderr",
     "output_type": "stream",
     "text": [
      "\r\n",
      "Train:  52%|█████▏    | 57/110 [14:23<15:47, 17.88s/it]"
     ]
    },
    {
     "name": "stderr",
     "output_type": "stream",
     "text": [
      "\r\n",
      "Train:  53%|█████▎    | 58/110 [14:36<14:12, 16.40s/it]"
     ]
    },
    {
     "name": "stderr",
     "output_type": "stream",
     "text": [
      "\r\n",
      "Train:  54%|█████▎    | 59/110 [14:41<11:03, 13.00s/it]"
     ]
    },
    {
     "name": "stderr",
     "output_type": "stream",
     "text": [
      "\r\n",
      "Train:  55%|█████▍    | 60/110 [14:47<08:51, 10.64s/it]"
     ]
    },
    {
     "name": "stderr",
     "output_type": "stream",
     "text": [
      "\r\n",
      "Train:  55%|█████▌    | 61/110 [15:17<13:39, 16.73s/it]"
     ]
    },
    {
     "name": "stderr",
     "output_type": "stream",
     "text": [
      "\r\n",
      "Train:  56%|█████▋    | 62/110 [15:31<12:40, 15.84s/it]"
     ]
    },
    {
     "name": "stderr",
     "output_type": "stream",
     "text": [
      "\r\n",
      "Train:  57%|█████▋    | 63/110 [15:36<09:52, 12.61s/it]"
     ]
    },
    {
     "name": "stderr",
     "output_type": "stream",
     "text": [
      "\r\n",
      "Train:  58%|█████▊    | 64/110 [15:41<07:56, 10.37s/it]"
     ]
    },
    {
     "name": "stderr",
     "output_type": "stream",
     "text": [
      "\r\n",
      "Train:  59%|█████▉    | 65/110 [16:09<11:43, 15.63s/it]"
     ]
    },
    {
     "name": "stderr",
     "output_type": "stream",
     "text": [
      "\r\n",
      "Train:  60%|██████    | 66/110 [16:28<12:10, 16.61s/it]"
     ]
    },
    {
     "name": "stderr",
     "output_type": "stream",
     "text": [
      "\r\n",
      "Train:  61%|██████    | 67/110 [16:33<09:25, 13.16s/it]"
     ]
    },
    {
     "name": "stderr",
     "output_type": "stream",
     "text": [
      "\r\n",
      "Train:  62%|██████▏   | 68/110 [16:38<07:31, 10.76s/it]"
     ]
    },
    {
     "name": "stderr",
     "output_type": "stream",
     "text": [
      "\r\n",
      "Train:  63%|██████▎   | 69/110 [17:06<10:47, 15.80s/it]"
     ]
    },
    {
     "name": "stderr",
     "output_type": "stream",
     "text": [
      "\r\n",
      "Train:  64%|██████▎   | 70/110 [17:26<11:26, 17.16s/it]"
     ]
    },
    {
     "name": "stderr",
     "output_type": "stream",
     "text": [
      "\r\n",
      "Train:  65%|██████▍   | 71/110 [17:32<08:50, 13.60s/it]"
     ]
    },
    {
     "name": "stderr",
     "output_type": "stream",
     "text": [
      "\r\n",
      "Train:  65%|██████▌   | 72/110 [17:37<06:59, 11.04s/it]"
     ]
    },
    {
     "name": "stderr",
     "output_type": "stream",
     "text": [
      "\r\n",
      "Train:  66%|██████▋   | 73/110 [18:08<10:37, 17.23s/it]"
     ]
    },
    {
     "name": "stderr",
     "output_type": "stream",
     "text": [
      "\r\n",
      "Train:  67%|██████▋   | 74/110 [18:32<11:32, 19.23s/it]"
     ]
    },
    {
     "name": "stderr",
     "output_type": "stream",
     "text": [
      "\r\n",
      "Train:  68%|██████▊   | 75/110 [18:38<08:46, 15.03s/it]"
     ]
    },
    {
     "name": "stderr",
     "output_type": "stream",
     "text": [
      "\r\n",
      "Train:  69%|██████▉   | 76/110 [18:43<06:50, 12.07s/it]"
     ]
    },
    {
     "name": "stderr",
     "output_type": "stream",
     "text": [
      "\r\n",
      "Train:  70%|███████   | 77/110 [19:03<08:04, 14.69s/it]"
     ]
    },
    {
     "name": "stderr",
     "output_type": "stream",
     "text": [
      "\r\n",
      "Train:  71%|███████   | 78/110 [19:29<09:30, 17.83s/it]"
     ]
    },
    {
     "name": "stderr",
     "output_type": "stream",
     "text": [
      "\r\n",
      "Train:  72%|███████▏  | 79/110 [19:34<07:13, 14.00s/it]"
     ]
    },
    {
     "name": "stderr",
     "output_type": "stream",
     "text": [
      "\r\n",
      "Train:  73%|███████▎  | 80/110 [19:39<05:39, 11.33s/it]"
     ]
    },
    {
     "name": "stderr",
     "output_type": "stream",
     "text": [
      "\r\n",
      "Train:  74%|███████▎  | 81/110 [19:59<06:49, 14.12s/it]"
     ]
    },
    {
     "name": "stderr",
     "output_type": "stream",
     "text": [
      "\r\n",
      "Train:  75%|███████▍  | 82/110 [20:33<09:18, 19.93s/it]"
     ]
    },
    {
     "name": "stderr",
     "output_type": "stream",
     "text": [
      "\r\n",
      "Train:  75%|███████▌  | 83/110 [20:38<06:57, 15.45s/it]"
     ]
    },
    {
     "name": "stderr",
     "output_type": "stream",
     "text": [
      "\r\n",
      "Train:  76%|███████▋  | 84/110 [20:43<05:21, 12.38s/it]"
     ]
    },
    {
     "name": "stderr",
     "output_type": "stream",
     "text": [
      "\r\n",
      "Train:  77%|███████▋  | 85/110 [21:05<06:20, 15.24s/it]"
     ]
    },
    {
     "name": "stderr",
     "output_type": "stream",
     "text": [
      "\r\n",
      "Train:  78%|███████▊  | 86/110 [21:35<07:53, 19.75s/it]"
     ]
    },
    {
     "name": "stderr",
     "output_type": "stream",
     "text": [
      "\r\n",
      "Train:  79%|███████▉  | 87/110 [21:41<05:55, 15.44s/it]"
     ]
    },
    {
     "name": "stderr",
     "output_type": "stream",
     "text": [
      "\r\n",
      "Train:  80%|████████  | 88/110 [21:46<04:31, 12.34s/it]"
     ]
    },
    {
     "name": "stderr",
     "output_type": "stream",
     "text": [
      "\r\n",
      "Train:  81%|████████  | 89/110 [22:00<04:31, 12.92s/it]"
     ]
    },
    {
     "name": "stderr",
     "output_type": "stream",
     "text": [
      "\r\n",
      "Train:  82%|████████▏ | 90/110 [22:32<06:14, 18.72s/it]"
     ]
    },
    {
     "name": "stderr",
     "output_type": "stream",
     "text": [
      "\r\n",
      "Train:  83%|████████▎ | 91/110 [22:37<04:37, 14.63s/it]"
     ]
    },
    {
     "name": "stderr",
     "output_type": "stream",
     "text": [
      "\r\n",
      "Train:  84%|████████▎ | 92/110 [22:43<03:31, 11.77s/it]"
     ]
    },
    {
     "name": "stderr",
     "output_type": "stream",
     "text": [
      "\r\n",
      "Train:  85%|████████▍ | 93/110 [22:59<03:43, 13.18s/it]"
     ]
    },
    {
     "name": "stderr",
     "output_type": "stream",
     "text": [
      "\r\n",
      "Train:  85%|████████▌ | 94/110 [23:31<05:00, 18.78s/it]"
     ]
    },
    {
     "name": "stderr",
     "output_type": "stream",
     "text": [
      "\r\n",
      "Train:  86%|████████▋ | 95/110 [23:36<03:39, 14.65s/it]"
     ]
    },
    {
     "name": "stderr",
     "output_type": "stream",
     "text": [
      "\r\n",
      "Train:  87%|████████▋ | 96/110 [23:41<02:44, 11.78s/it]"
     ]
    },
    {
     "name": "stderr",
     "output_type": "stream",
     "text": [
      "\r\n",
      "Train:  88%|████████▊ | 97/110 [24:02<03:10, 14.63s/it]"
     ]
    },
    {
     "name": "stderr",
     "output_type": "stream",
     "text": [
      "\r\n",
      "Train:  89%|████████▉ | 98/110 [24:32<03:50, 19.17s/it]"
     ]
    },
    {
     "name": "stderr",
     "output_type": "stream",
     "text": [
      "\r\n",
      "Train:  90%|█████████ | 99/110 [24:37<02:43, 14.88s/it]"
     ]
    },
    {
     "name": "stderr",
     "output_type": "stream",
     "text": [
      "\r\n",
      "Train:  91%|█████████ | 100/110 [24:42<01:59, 11.97s/it]"
     ]
    },
    {
     "name": "stderr",
     "output_type": "stream",
     "text": [
      "\r\n",
      "Train:  92%|█████████▏| 101/110 [25:02<02:10, 14.47s/it]"
     ]
    },
    {
     "name": "stderr",
     "output_type": "stream",
     "text": [
      "\r\n",
      "Train:  93%|█████████▎| 102/110 [25:33<02:34, 19.34s/it]"
     ]
    },
    {
     "name": "stderr",
     "output_type": "stream",
     "text": [
      "\r\n",
      "Train:  94%|█████████▎| 103/110 [25:38<01:45, 15.04s/it]"
     ]
    },
    {
     "name": "stderr",
     "output_type": "stream",
     "text": [
      "\r\n",
      "Train:  95%|█████████▍| 104/110 [25:43<01:12, 12.02s/it]"
     ]
    },
    {
     "name": "stderr",
     "output_type": "stream",
     "text": [
      "\r\n",
      "Train:  95%|█████████▌| 105/110 [26:02<01:10, 14.01s/it]"
     ]
    },
    {
     "name": "stderr",
     "output_type": "stream",
     "text": [
      "\r\n",
      "Train:  96%|█████████▋| 106/110 [26:21<01:01, 15.47s/it]"
     ]
    },
    {
     "name": "stderr",
     "output_type": "stream",
     "text": [
      "\r\n",
      "Train:  97%|█████████▋| 107/110 [26:25<00:36, 12.22s/it]"
     ]
    },
    {
     "name": "stderr",
     "output_type": "stream",
     "text": [
      "\r\n",
      "Train:  98%|█████████▊| 108/110 [26:30<00:19,  9.97s/it]"
     ]
    },
    {
     "name": "stderr",
     "output_type": "stream",
     "text": [
      "\r\n",
      "Train:  99%|█████████▉| 109/110 [26:40<00:09,  9.94s/it]"
     ]
    },
    {
     "name": "stderr",
     "output_type": "stream",
     "text": [
      "\r\n",
      "Train: 100%|██████████| 110/110 [26:40<00:00, 14.55s/it]"
     ]
    },
    {
     "name": "stderr",
     "output_type": "stream",
     "text": [
      "\n"
     ]
    },
    {
     "name": "stdout",
     "output_type": "stream",
     "text": [
      "  Train Loss: 0.9897, Acc: 0.4865\n"
     ]
    },
    {
     "name": "stderr",
     "output_type": "stream",
     "text": [
      "\r\n",
      "Val:   0%|          | 0/28 [00:00<?, ?it/s]"
     ]
    },
    {
     "name": "stderr",
     "output_type": "stream",
     "text": [
      "\r\n",
      "Val:   4%|▎         | 1/28 [00:59<26:38, 59.19s/it]"
     ]
    },
    {
     "name": "stderr",
     "output_type": "stream",
     "text": [
      "\r\n",
      "Val:   7%|▋         | 2/28 [01:03<11:46, 27.16s/it]"
     ]
    },
    {
     "name": "stderr",
     "output_type": "stream",
     "text": [
      "\r\n",
      "Val:  11%|█         | 3/28 [01:08<07:04, 16.97s/it]"
     ]
    },
    {
     "name": "stderr",
     "output_type": "stream",
     "text": [
      "\r\n",
      "Val:  14%|█▍        | 4/28 [01:13<04:52, 12.21s/it]"
     ]
    },
    {
     "name": "stderr",
     "output_type": "stream",
     "text": [
      "\r\n",
      "Val:  18%|█▊        | 5/28 [01:54<08:38, 22.53s/it]"
     ]
    },
    {
     "name": "stderr",
     "output_type": "stream",
     "text": [
      "\r\n",
      "Val:  21%|██▏       | 6/28 [01:59<06:02, 16.49s/it]"
     ]
    },
    {
     "name": "stderr",
     "output_type": "stream",
     "text": [
      "\r\n",
      "Val:  25%|██▌       | 7/28 [02:04<04:25, 12.66s/it]"
     ]
    },
    {
     "name": "stderr",
     "output_type": "stream",
     "text": [
      "\r\n",
      "Val:  29%|██▊       | 8/28 [02:08<03:23, 10.16s/it]"
     ]
    },
    {
     "name": "stderr",
     "output_type": "stream",
     "text": [
      "\r\n",
      "Val:  32%|███▏      | 9/28 [02:56<06:55, 21.85s/it]"
     ]
    },
    {
     "name": "stderr",
     "output_type": "stream",
     "text": [
      "\r\n",
      "Val:  36%|███▌      | 10/28 [03:01<04:58, 16.60s/it]"
     ]
    },
    {
     "name": "stderr",
     "output_type": "stream",
     "text": [
      "\r\n",
      "Val:  39%|███▉      | 11/28 [03:06<03:40, 12.98s/it]"
     ]
    },
    {
     "name": "stderr",
     "output_type": "stream",
     "text": [
      "\r\n",
      "Val:  43%|████▎     | 12/28 [03:10<02:47, 10.49s/it]"
     ]
    },
    {
     "name": "stderr",
     "output_type": "stream",
     "text": [
      "\r\n",
      "Val:  46%|████▋     | 13/28 [03:50<04:48, 19.24s/it]"
     ]
    },
    {
     "name": "stderr",
     "output_type": "stream",
     "text": [
      "\r\n",
      "Val:  50%|█████     | 14/28 [03:54<03:27, 14.85s/it]"
     ]
    },
    {
     "name": "stderr",
     "output_type": "stream",
     "text": [
      "\r\n",
      "Val:  54%|█████▎    | 15/28 [03:59<02:33, 11.78s/it]"
     ]
    },
    {
     "name": "stderr",
     "output_type": "stream",
     "text": [
      "\r\n",
      "Val:  57%|█████▋    | 16/28 [04:04<01:56,  9.67s/it]"
     ]
    },
    {
     "name": "stderr",
     "output_type": "stream",
     "text": [
      "\r\n",
      "Val:  61%|██████    | 17/28 [04:48<03:39, 19.99s/it]"
     ]
    },
    {
     "name": "stderr",
     "output_type": "stream",
     "text": [
      "\r\n",
      "Val:  64%|██████▍   | 18/28 [04:53<02:34, 15.41s/it]"
     ]
    },
    {
     "name": "stderr",
     "output_type": "stream",
     "text": [
      "\r\n",
      "Val:  68%|██████▊   | 19/28 [04:58<01:50, 12.30s/it]"
     ]
    },
    {
     "name": "stderr",
     "output_type": "stream",
     "text": [
      "\r\n",
      "Val:  71%|███████▏  | 20/28 [05:02<01:20, 10.05s/it]"
     ]
    },
    {
     "name": "stderr",
     "output_type": "stream",
     "text": [
      "\r\n",
      "Val:  75%|███████▌  | 21/28 [05:43<02:15, 19.30s/it]"
     ]
    },
    {
     "name": "stderr",
     "output_type": "stream",
     "text": [
      "\r\n",
      "Val:  79%|███████▊  | 22/28 [05:49<01:30, 15.10s/it]"
     ]
    },
    {
     "name": "stderr",
     "output_type": "stream",
     "text": [
      "\r\n",
      "Val:  82%|████████▏ | 23/28 [05:53<01:00, 12.00s/it]"
     ]
    },
    {
     "name": "stderr",
     "output_type": "stream",
     "text": [
      "\r\n",
      "Val:  86%|████████▌ | 24/28 [05:58<00:39,  9.85s/it]"
     ]
    },
    {
     "name": "stderr",
     "output_type": "stream",
     "text": [
      "\r\n",
      "Val:  89%|████████▉ | 25/28 [06:35<00:53, 17.89s/it]"
     ]
    },
    {
     "name": "stderr",
     "output_type": "stream",
     "text": [
      "\r\n",
      "Val:  93%|█████████▎| 26/28 [06:39<00:27, 13.82s/it]"
     ]
    },
    {
     "name": "stderr",
     "output_type": "stream",
     "text": [
      "\r\n",
      "Val:  96%|█████████▋| 27/28 [06:44<00:11, 11.00s/it]"
     ]
    },
    {
     "name": "stderr",
     "output_type": "stream",
     "text": [
      "\r\n",
      "Val: 100%|██████████| 28/28 [06:45<00:00,  8.21s/it]"
     ]
    },
    {
     "name": "stderr",
     "output_type": "stream",
     "text": [
      "\r\n",
      "Val: 100%|██████████| 28/28 [06:45<00:00, 14.49s/it]"
     ]
    },
    {
     "name": "stderr",
     "output_type": "stream",
     "text": [
      "\n"
     ]
    },
    {
     "name": "stdout",
     "output_type": "stream",
     "text": [
      "  Val Loss: 1.0734, Acc: 0.4920\n",
      "\n",
      "Fold 2 Summary:\n",
      "Best Accuracy: 0.4943\n",
      "Final Validation Loss: 1.0734\n",
      "Final Validation Accuracy: 0.4920\n",
      "Epochs Trained: 10\n",
      "\n",
      "Current Hyperparameters:\n",
      "  learning_rate: 0.0002\n",
      "  weight_decay: 1e-05\n",
      "  dropout_rate: 0.4\n",
      "  batch_size: 16\n",
      "  patch_size: 128\n",
      "  se_reduction: 8\n",
      "  num_workers: 4\n",
      "  gradient_accumulation_steps: 2\n",
      "\n",
      ">>> Fold 3/5\n"
     ]
    },
    {
     "name": "stdout",
     "output_type": "stream",
     "text": [
      "Epoch 1/10\n"
     ]
    },
    {
     "name": "stderr",
     "output_type": "stream",
     "text": [
      "\r\n",
      "Train:   0%|          | 0/110 [00:00<?, ?it/s]"
     ]
    },
    {
     "name": "stderr",
     "output_type": "stream",
     "text": [
      "\r\n",
      "Train:   1%|          | 1/110 [01:01<1:51:21, 61.30s/it]"
     ]
    },
    {
     "name": "stderr",
     "output_type": "stream",
     "text": [
      "\r\n",
      "Train:   2%|▏         | 2/110 [01:06<50:47, 28.22s/it]  "
     ]
    },
    {
     "name": "stderr",
     "output_type": "stream",
     "text": [
      "\r\n",
      "Train:   3%|▎         | 3/110 [01:11<31:35, 17.71s/it]"
     ]
    },
    {
     "name": "stderr",
     "output_type": "stream",
     "text": [
      "\r\n",
      "Train:   4%|▎         | 4/110 [01:16<22:36, 12.80s/it]"
     ]
    },
    {
     "name": "stderr",
     "output_type": "stream",
     "text": [
      "\r\n",
      "Train:   5%|▍         | 5/110 [02:01<42:28, 24.27s/it]"
     ]
    },
    {
     "name": "stderr",
     "output_type": "stream",
     "text": [
      "\r\n",
      "Train:   5%|▌         | 6/110 [02:06<30:43, 17.73s/it]"
     ]
    },
    {
     "name": "stderr",
     "output_type": "stream",
     "text": [
      "\r\n",
      "Train:   6%|▋         | 7/110 [02:11<23:18, 13.58s/it]"
     ]
    },
    {
     "name": "stderr",
     "output_type": "stream",
     "text": [
      "\r\n",
      "Train:   7%|▋         | 8/110 [02:16<18:28, 10.87s/it]"
     ]
    },
    {
     "name": "stderr",
     "output_type": "stream",
     "text": [
      "\r\n",
      "Train:   8%|▊         | 9/110 [03:00<35:49, 21.28s/it]"
     ]
    },
    {
     "name": "stderr",
     "output_type": "stream",
     "text": [
      "\r\n",
      "Train:   9%|▉         | 10/110 [03:05<27:10, 16.31s/it]"
     ]
    },
    {
     "name": "stderr",
     "output_type": "stream",
     "text": [
      "\r\n",
      "Train:  10%|█         | 11/110 [03:11<21:15, 12.88s/it]"
     ]
    },
    {
     "name": "stderr",
     "output_type": "stream",
     "text": [
      "\r\n",
      "Train:  11%|█         | 12/110 [03:16<17:11, 10.53s/it]"
     ]
    },
    {
     "name": "stderr",
     "output_type": "stream",
     "text": [
      "\r\n",
      "Train:  12%|█▏        | 13/110 [04:09<37:54, 23.45s/it]"
     ]
    },
    {
     "name": "stderr",
     "output_type": "stream",
     "text": [
      "\r\n",
      "Train:  13%|█▎        | 14/110 [04:14<28:37, 17.89s/it]"
     ]
    },
    {
     "name": "stderr",
     "output_type": "stream",
     "text": [
      "\r\n",
      "Train:  14%|█▎        | 15/110 [04:19<22:13, 14.04s/it]"
     ]
    },
    {
     "name": "stderr",
     "output_type": "stream",
     "text": [
      "\r\n",
      "Train:  15%|█▍        | 16/110 [04:24<17:46, 11.35s/it]"
     ]
    },
    {
     "name": "stderr",
     "output_type": "stream",
     "text": [
      "\r\n",
      "Train:  15%|█▌        | 17/110 [05:09<33:19, 21.50s/it]"
     ]
    },
    {
     "name": "stderr",
     "output_type": "stream",
     "text": [
      "\r\n",
      "Train:  16%|█▋        | 18/110 [05:14<25:25, 16.58s/it]"
     ]
    },
    {
     "name": "stderr",
     "output_type": "stream",
     "text": [
      "\r\n",
      "Train:  17%|█▋        | 19/110 [05:19<19:54, 13.13s/it]"
     ]
    },
    {
     "name": "stderr",
     "output_type": "stream",
     "text": [
      "\r\n",
      "Train:  18%|█▊        | 20/110 [05:25<16:05, 10.73s/it]"
     ]
    },
    {
     "name": "stderr",
     "output_type": "stream",
     "text": [
      "\r\n",
      "Train:  19%|█▉        | 21/110 [06:03<28:08, 18.97s/it]"
     ]
    },
    {
     "name": "stderr",
     "output_type": "stream",
     "text": [
      "\r\n",
      "Train:  20%|██        | 22/110 [06:08<21:39, 14.77s/it]"
     ]
    },
    {
     "name": "stderr",
     "output_type": "stream",
     "text": [
      "\r\n",
      "Train:  21%|██        | 23/110 [06:13<17:09, 11.84s/it]"
     ]
    },
    {
     "name": "stderr",
     "output_type": "stream",
     "text": [
      "\r\n",
      "Train:  22%|██▏       | 24/110 [06:18<14:04,  9.83s/it]"
     ]
    },
    {
     "name": "stderr",
     "output_type": "stream",
     "text": [
      "\r\n",
      "Train:  23%|██▎       | 25/110 [07:02<28:37, 20.20s/it]"
     ]
    },
    {
     "name": "stderr",
     "output_type": "stream",
     "text": [
      "\r\n",
      "Train:  24%|██▎       | 26/110 [07:07<21:51, 15.62s/it]"
     ]
    },
    {
     "name": "stderr",
     "output_type": "stream",
     "text": [
      "\r\n",
      "Train:  25%|██▍       | 27/110 [07:12<17:12, 12.44s/it]"
     ]
    },
    {
     "name": "stderr",
     "output_type": "stream",
     "text": [
      "\r\n",
      "Train:  25%|██▌       | 28/110 [07:17<14:00, 10.25s/it]"
     ]
    },
    {
     "name": "stderr",
     "output_type": "stream",
     "text": [
      "\r\n",
      "Train:  26%|██▋       | 29/110 [07:56<25:26, 18.85s/it]"
     ]
    },
    {
     "name": "stderr",
     "output_type": "stream",
     "text": [
      "\r\n",
      "Train:  27%|██▋       | 30/110 [08:01<19:35, 14.70s/it]"
     ]
    },
    {
     "name": "stderr",
     "output_type": "stream",
     "text": [
      "\r\n",
      "Train:  28%|██▊       | 31/110 [08:06<15:31, 11.79s/it]"
     ]
    },
    {
     "name": "stderr",
     "output_type": "stream",
     "text": [
      "\r\n",
      "Train:  29%|██▉       | 32/110 [08:11<12:42,  9.77s/it]"
     ]
    },
    {
     "name": "stderr",
     "output_type": "stream",
     "text": [
      "\r\n",
      "Train:  30%|███       | 33/110 [08:57<26:23, 20.57s/it]"
     ]
    },
    {
     "name": "stderr",
     "output_type": "stream",
     "text": [
      "\r\n",
      "Train:  31%|███       | 34/110 [09:02<20:12, 15.95s/it]"
     ]
    },
    {
     "name": "stderr",
     "output_type": "stream",
     "text": [
      "\r\n",
      "Train:  32%|███▏      | 35/110 [09:07<15:51, 12.68s/it]"
     ]
    },
    {
     "name": "stderr",
     "output_type": "stream",
     "text": [
      "\r\n",
      "Train:  33%|███▎      | 36/110 [09:13<12:52, 10.44s/it]"
     ]
    },
    {
     "name": "stderr",
     "output_type": "stream",
     "text": [
      "\r\n",
      "Train:  34%|███▎      | 37/110 [10:02<27:05, 22.27s/it]"
     ]
    },
    {
     "name": "stderr",
     "output_type": "stream",
     "text": [
      "\r\n",
      "Train:  35%|███▍      | 38/110 [10:08<20:33, 17.13s/it]"
     ]
    },
    {
     "name": "stderr",
     "output_type": "stream",
     "text": [
      "\r\n",
      "Train:  35%|███▌      | 39/110 [10:13<15:58, 13.50s/it]"
     ]
    },
    {
     "name": "stderr",
     "output_type": "stream",
     "text": [
      "\r\n",
      "Train:  36%|███▋      | 40/110 [10:18<12:48, 10.98s/it]"
     ]
    },
    {
     "name": "stderr",
     "output_type": "stream",
     "text": [
      "\r\n",
      "Train:  37%|███▋      | 41/110 [11:05<25:03, 21.79s/it]"
     ]
    },
    {
     "name": "stderr",
     "output_type": "stream",
     "text": [
      "\r\n",
      "Train:  38%|███▊      | 42/110 [11:10<18:59, 16.76s/it]"
     ]
    },
    {
     "name": "stderr",
     "output_type": "stream",
     "text": [
      "\r\n",
      "Train:  39%|███▉      | 43/110 [11:15<14:48, 13.26s/it]"
     ]
    },
    {
     "name": "stderr",
     "output_type": "stream",
     "text": [
      "\r\n",
      "Train:  40%|████      | 44/110 [11:20<11:54, 10.83s/it]"
     ]
    },
    {
     "name": "stderr",
     "output_type": "stream",
     "text": [
      "\r\n",
      "Train:  41%|████      | 45/110 [12:04<22:27, 20.73s/it]"
     ]
    },
    {
     "name": "stderr",
     "output_type": "stream",
     "text": [
      "\r\n",
      "Train:  42%|████▏     | 46/110 [12:09<17:04, 16.01s/it]"
     ]
    },
    {
     "name": "stderr",
     "output_type": "stream",
     "text": [
      "\r\n",
      "Train:  43%|████▎     | 47/110 [12:14<13:22, 12.73s/it]"
     ]
    },
    {
     "name": "stderr",
     "output_type": "stream",
     "text": [
      "\r\n",
      "Train:  44%|████▎     | 48/110 [12:19<10:48, 10.45s/it]"
     ]
    },
    {
     "name": "stderr",
     "output_type": "stream",
     "text": [
      "\r\n",
      "Train:  45%|████▍     | 49/110 [13:05<21:26, 21.10s/it]"
     ]
    },
    {
     "name": "stderr",
     "output_type": "stream",
     "text": [
      "\r\n",
      "Train:  45%|████▌     | 50/110 [13:10<16:15, 16.26s/it]"
     ]
    },
    {
     "name": "stderr",
     "output_type": "stream",
     "text": [
      "\r\n",
      "Train:  46%|████▋     | 51/110 [13:15<12:40, 12.89s/it]"
     ]
    },
    {
     "name": "stderr",
     "output_type": "stream",
     "text": [
      "\r\n",
      "Train:  47%|████▋     | 52/110 [13:20<10:13, 10.57s/it]"
     ]
    },
    {
     "name": "stderr",
     "output_type": "stream",
     "text": [
      "\r\n",
      "Train:  48%|████▊     | 53/110 [14:12<21:45, 22.90s/it]"
     ]
    },
    {
     "name": "stderr",
     "output_type": "stream",
     "text": [
      "\r\n",
      "Train:  49%|████▉     | 54/110 [14:17<16:21, 17.52s/it]"
     ]
    },
    {
     "name": "stderr",
     "output_type": "stream",
     "text": [
      "\r\n",
      "Train:  50%|█████     | 55/110 [14:22<12:37, 13.78s/it]"
     ]
    },
    {
     "name": "stderr",
     "output_type": "stream",
     "text": [
      "\r\n",
      "Train:  51%|█████     | 56/110 [14:27<10:07, 11.25s/it]"
     ]
    },
    {
     "name": "stderr",
     "output_type": "stream",
     "text": [
      "\r\n",
      "Train:  52%|█████▏    | 57/110 [15:13<19:08, 21.66s/it]"
     ]
    },
    {
     "name": "stderr",
     "output_type": "stream",
     "text": [
      "\r\n",
      "Train:  53%|█████▎    | 58/110 [15:18<14:22, 16.59s/it]"
     ]
    },
    {
     "name": "stderr",
     "output_type": "stream",
     "text": [
      "\r\n",
      "Train:  54%|█████▎    | 59/110 [15:23<11:06, 13.07s/it]"
     ]
    },
    {
     "name": "stderr",
     "output_type": "stream",
     "text": [
      "\r\n",
      "Train:  55%|█████▍    | 60/110 [15:28<08:54, 10.70s/it]"
     ]
    },
    {
     "name": "stderr",
     "output_type": "stream",
     "text": [
      "\r\n",
      "Train:  55%|█████▌    | 61/110 [16:10<16:24, 20.09s/it]"
     ]
    },
    {
     "name": "stderr",
     "output_type": "stream",
     "text": [
      "\r\n",
      "Train:  56%|█████▋    | 62/110 [16:15<12:25, 15.53s/it]"
     ]
    },
    {
     "name": "stderr",
     "output_type": "stream",
     "text": [
      "\r\n",
      "Train:  57%|█████▋    | 63/110 [16:20<09:43, 12.41s/it]"
     ]
    },
    {
     "name": "stderr",
     "output_type": "stream",
     "text": [
      "\r\n",
      "Train:  58%|█████▊    | 64/110 [16:25<07:49, 10.20s/it]"
     ]
    },
    {
     "name": "stderr",
     "output_type": "stream",
     "text": [
      "\r\n",
      "Train:  59%|█████▉    | 65/110 [16:56<12:20, 16.45s/it]"
     ]
    },
    {
     "name": "stderr",
     "output_type": "stream",
     "text": [
      "\r\n",
      "Train:  60%|██████    | 66/110 [17:01<09:31, 13.00s/it]"
     ]
    },
    {
     "name": "stderr",
     "output_type": "stream",
     "text": [
      "\r\n",
      "Train:  61%|██████    | 67/110 [17:06<07:37, 10.65s/it]"
     ]
    },
    {
     "name": "stderr",
     "output_type": "stream",
     "text": [
      "\r\n",
      "Train:  62%|██████▏   | 68/110 [17:11<06:18,  9.02s/it]"
     ]
    },
    {
     "name": "stderr",
     "output_type": "stream",
     "text": [
      "\r\n",
      "Train:  63%|██████▎   | 69/110 [17:56<13:30, 19.76s/it]"
     ]
    },
    {
     "name": "stderr",
     "output_type": "stream",
     "text": [
      "\r\n",
      "Train:  64%|██████▎   | 70/110 [18:01<10:13, 15.34s/it]"
     ]
    },
    {
     "name": "stderr",
     "output_type": "stream",
     "text": [
      "\r\n",
      "Train:  65%|██████▍   | 71/110 [18:06<07:58, 12.28s/it]"
     ]
    },
    {
     "name": "stderr",
     "output_type": "stream",
     "text": [
      "\r\n",
      "Train:  65%|██████▌   | 72/110 [18:12<06:26, 10.16s/it]"
     ]
    },
    {
     "name": "stderr",
     "output_type": "stream",
     "text": [
      "\r\n",
      "Train:  66%|██████▋   | 73/110 [18:57<12:47, 20.75s/it]"
     ]
    },
    {
     "name": "stderr",
     "output_type": "stream",
     "text": [
      "\r\n",
      "Train:  67%|██████▋   | 74/110 [19:02<09:37, 16.05s/it]"
     ]
    },
    {
     "name": "stderr",
     "output_type": "stream",
     "text": [
      "\r\n",
      "Train:  68%|██████▊   | 75/110 [19:07<07:25, 12.73s/it]"
     ]
    },
    {
     "name": "stderr",
     "output_type": "stream",
     "text": [
      "\r\n",
      "Train:  69%|██████▉   | 76/110 [19:12<05:54, 10.43s/it]"
     ]
    },
    {
     "name": "stderr",
     "output_type": "stream",
     "text": [
      "\r\n",
      "Train:  70%|███████   | 77/110 [19:51<10:24, 18.92s/it]"
     ]
    },
    {
     "name": "stderr",
     "output_type": "stream",
     "text": [
      "\r\n",
      "Train:  71%|███████   | 78/110 [19:56<07:51, 14.74s/it]"
     ]
    },
    {
     "name": "stderr",
     "output_type": "stream",
     "text": [
      "\r\n",
      "Train:  72%|███████▏  | 79/110 [20:01<06:06, 11.82s/it]"
     ]
    },
    {
     "name": "stderr",
     "output_type": "stream",
     "text": [
      "\r\n",
      "Train:  73%|███████▎  | 80/110 [20:06<04:55,  9.84s/it]"
     ]
    },
    {
     "name": "stderr",
     "output_type": "stream",
     "text": [
      "\r\n",
      "Train:  74%|███████▎  | 81/110 [20:50<09:42, 20.10s/it]"
     ]
    },
    {
     "name": "stderr",
     "output_type": "stream",
     "text": [
      "\r\n",
      "Train:  75%|███████▍  | 82/110 [20:55<07:15, 15.56s/it]"
     ]
    },
    {
     "name": "stderr",
     "output_type": "stream",
     "text": [
      "\r\n",
      "Train:  75%|███████▌  | 83/110 [21:00<05:35, 12.43s/it]"
     ]
    },
    {
     "name": "stderr",
     "output_type": "stream",
     "text": [
      "\r\n",
      "Train:  76%|███████▋  | 84/110 [21:05<04:26, 10.26s/it]"
     ]
    },
    {
     "name": "stderr",
     "output_type": "stream",
     "text": [
      "\r\n",
      "Train:  77%|███████▋  | 85/110 [21:49<08:23, 20.13s/it]"
     ]
    },
    {
     "name": "stderr",
     "output_type": "stream",
     "text": [
      "\r\n",
      "Train:  78%|███████▊  | 86/110 [21:53<06:13, 15.56s/it]"
     ]
    },
    {
     "name": "stderr",
     "output_type": "stream",
     "text": [
      "\r\n",
      "Train:  79%|███████▉  | 87/110 [21:58<04:44, 12.36s/it]"
     ]
    },
    {
     "name": "stderr",
     "output_type": "stream",
     "text": [
      "\r\n",
      "Train:  80%|████████  | 88/110 [22:04<03:46, 10.27s/it]"
     ]
    },
    {
     "name": "stderr",
     "output_type": "stream",
     "text": [
      "\r\n",
      "Train:  81%|████████  | 89/110 [22:45<06:47, 19.42s/it]"
     ]
    },
    {
     "name": "stderr",
     "output_type": "stream",
     "text": [
      "\r\n",
      "Train:  82%|████████▏ | 90/110 [22:50<05:01, 15.08s/it]"
     ]
    },
    {
     "name": "stderr",
     "output_type": "stream",
     "text": [
      "\r\n",
      "Train:  83%|████████▎ | 91/110 [22:55<03:49, 12.09s/it]"
     ]
    },
    {
     "name": "stderr",
     "output_type": "stream",
     "text": [
      "\r\n",
      "Train:  84%|████████▎ | 92/110 [23:00<02:59, 10.00s/it]"
     ]
    },
    {
     "name": "stderr",
     "output_type": "stream",
     "text": [
      "\r\n",
      "Train:  85%|████████▍ | 93/110 [23:42<05:36, 19.78s/it]"
     ]
    },
    {
     "name": "stderr",
     "output_type": "stream",
     "text": [
      "\r\n",
      "Train:  85%|████████▌ | 94/110 [23:47<04:05, 15.32s/it]"
     ]
    },
    {
     "name": "stderr",
     "output_type": "stream",
     "text": [
      "\r\n",
      "Train:  86%|████████▋ | 95/110 [23:52<03:03, 12.21s/it]"
     ]
    },
    {
     "name": "stderr",
     "output_type": "stream",
     "text": [
      "\r\n",
      "Train:  87%|████████▋ | 96/110 [23:57<02:21, 10.13s/it]"
     ]
    },
    {
     "name": "stderr",
     "output_type": "stream",
     "text": [
      "\r\n",
      "Train:  88%|████████▊ | 97/110 [24:43<04:30, 20.80s/it]"
     ]
    },
    {
     "name": "stderr",
     "output_type": "stream",
     "text": [
      "\r\n",
      "Train:  89%|████████▉ | 98/110 [24:48<03:12, 16.06s/it]"
     ]
    },
    {
     "name": "stderr",
     "output_type": "stream",
     "text": [
      "\r\n",
      "Train:  90%|█████████ | 99/110 [24:53<02:20, 12.78s/it]"
     ]
    },
    {
     "name": "stderr",
     "output_type": "stream",
     "text": [
      "\r\n",
      "Train:  91%|█████████ | 100/110 [24:58<01:44, 10.48s/it]"
     ]
    },
    {
     "name": "stderr",
     "output_type": "stream",
     "text": [
      "\r\n",
      "Train:  92%|█████████▏| 101/110 [25:39<02:55, 19.50s/it]"
     ]
    },
    {
     "name": "stderr",
     "output_type": "stream",
     "text": [
      "\r\n",
      "Train:  93%|█████████▎| 102/110 [25:44<02:01, 15.15s/it]"
     ]
    },
    {
     "name": "stderr",
     "output_type": "stream",
     "text": [
      "\r\n",
      "Train:  94%|█████████▎| 103/110 [25:49<01:24, 12.11s/it]"
     ]
    },
    {
     "name": "stderr",
     "output_type": "stream",
     "text": [
      "\r\n",
      "Train:  95%|█████████▍| 104/110 [25:54<01:00, 10.01s/it]"
     ]
    },
    {
     "name": "stderr",
     "output_type": "stream",
     "text": [
      "\r\n",
      "Train:  95%|█████████▌| 105/110 [26:24<01:20, 16.01s/it]"
     ]
    },
    {
     "name": "stderr",
     "output_type": "stream",
     "text": [
      "\r\n",
      "Train:  96%|█████████▋| 106/110 [26:29<00:50, 12.57s/it]"
     ]
    },
    {
     "name": "stderr",
     "output_type": "stream",
     "text": [
      "\r\n",
      "Train:  97%|█████████▋| 107/110 [26:33<00:30, 10.20s/it]"
     ]
    },
    {
     "name": "stderr",
     "output_type": "stream",
     "text": [
      "\r\n",
      "Train:  98%|█████████▊| 108/110 [26:38<00:17,  8.57s/it]"
     ]
    },
    {
     "name": "stderr",
     "output_type": "stream",
     "text": [
      "\r\n",
      "Train:  99%|█████████▉| 109/110 [27:03<00:13, 13.45s/it]"
     ]
    },
    {
     "name": "stderr",
     "output_type": "stream",
     "text": [
      "\r\n",
      "Train: 100%|██████████| 110/110 [27:05<00:00,  9.94s/it]"
     ]
    },
    {
     "name": "stderr",
     "output_type": "stream",
     "text": [
      "\r\n",
      "Train: 100%|██████████| 110/110 [27:05<00:00, 14.77s/it]"
     ]
    },
    {
     "name": "stderr",
     "output_type": "stream",
     "text": [
      "\n"
     ]
    },
    {
     "name": "stdout",
     "output_type": "stream",
     "text": [
      "  Train Loss: 1.0959, Acc: 0.3769\n"
     ]
    },
    {
     "name": "stderr",
     "output_type": "stream",
     "text": [
      "\r\n",
      "Val:   0%|          | 0/28 [00:00<?, ?it/s]"
     ]
    },
    {
     "name": "stderr",
     "output_type": "stream",
     "text": [
      "\r\n",
      "Val:   4%|▎         | 1/28 [01:04<29:10, 64.82s/it]"
     ]
    },
    {
     "name": "stderr",
     "output_type": "stream",
     "text": [
      "\r\n",
      "Val:   7%|▋         | 2/28 [01:09<12:48, 29.55s/it]"
     ]
    },
    {
     "name": "stderr",
     "output_type": "stream",
     "text": [
      "\r\n",
      "Val:  11%|█         | 3/28 [01:14<07:36, 18.27s/it]"
     ]
    },
    {
     "name": "stderr",
     "output_type": "stream",
     "text": [
      "\r\n",
      "Val:  14%|█▍        | 4/28 [01:19<05:12, 13.02s/it]"
     ]
    },
    {
     "name": "stderr",
     "output_type": "stream",
     "text": [
      "\r\n",
      "Val:  18%|█▊        | 5/28 [02:06<09:44, 25.41s/it]"
     ]
    },
    {
     "name": "stderr",
     "output_type": "stream",
     "text": [
      "\r\n",
      "Val:  21%|██▏       | 6/28 [02:11<06:44, 18.39s/it]"
     ]
    },
    {
     "name": "stderr",
     "output_type": "stream",
     "text": [
      "\r\n",
      "Val:  25%|██▌       | 7/28 [02:16<04:52, 13.93s/it]"
     ]
    },
    {
     "name": "stderr",
     "output_type": "stream",
     "text": [
      "\r\n",
      "Val:  29%|██▊       | 8/28 [02:21<03:40, 11.05s/it]"
     ]
    },
    {
     "name": "stderr",
     "output_type": "stream",
     "text": [
      "\r\n",
      "Val:  32%|███▏      | 9/28 [03:00<06:15, 19.75s/it]"
     ]
    },
    {
     "name": "stderr",
     "output_type": "stream",
     "text": [
      "\r\n",
      "Val:  36%|███▌      | 10/28 [03:05<04:33, 15.21s/it]"
     ]
    },
    {
     "name": "stderr",
     "output_type": "stream",
     "text": [
      "\r\n",
      "Val:  39%|███▉      | 11/28 [03:10<03:24, 12.03s/it]"
     ]
    },
    {
     "name": "stderr",
     "output_type": "stream",
     "text": [
      "\r\n",
      "Val:  43%|████▎     | 12/28 [03:14<02:37,  9.84s/it]"
     ]
    },
    {
     "name": "stderr",
     "output_type": "stream",
     "text": [
      "\r\n",
      "Val:  46%|████▋     | 13/28 [03:58<05:02, 20.19s/it]"
     ]
    },
    {
     "name": "stderr",
     "output_type": "stream",
     "text": [
      "\r\n",
      "Val:  50%|█████     | 14/28 [04:03<03:37, 15.50s/it]"
     ]
    },
    {
     "name": "stderr",
     "output_type": "stream",
     "text": [
      "\r\n",
      "Val:  54%|█████▎    | 15/28 [04:08<02:39, 12.30s/it]"
     ]
    },
    {
     "name": "stderr",
     "output_type": "stream",
     "text": [
      "\r\n",
      "Val:  57%|█████▋    | 16/28 [04:13<02:00, 10.07s/it]"
     ]
    },
    {
     "name": "stderr",
     "output_type": "stream",
     "text": [
      "\r\n",
      "Val:  61%|██████    | 17/28 [04:53<03:31, 19.19s/it]"
     ]
    },
    {
     "name": "stderr",
     "output_type": "stream",
     "text": [
      "\r\n",
      "Val:  64%|██████▍   | 18/28 [04:58<02:28, 14.82s/it]"
     ]
    },
    {
     "name": "stderr",
     "output_type": "stream",
     "text": [
      "\r\n",
      "Val:  68%|██████▊   | 19/28 [05:03<01:46, 11.80s/it]"
     ]
    },
    {
     "name": "stderr",
     "output_type": "stream",
     "text": [
      "\r\n",
      "Val:  71%|███████▏  | 20/28 [05:07<01:17,  9.71s/it]"
     ]
    },
    {
     "name": "stderr",
     "output_type": "stream",
     "text": [
      "\r\n",
      "Val:  75%|███████▌  | 21/28 [05:49<02:15, 19.37s/it]"
     ]
    },
    {
     "name": "stderr",
     "output_type": "stream",
     "text": [
      "\r\n",
      "Val:  79%|███████▊  | 22/28 [05:54<01:29, 14.95s/it]"
     ]
    },
    {
     "name": "stderr",
     "output_type": "stream",
     "text": [
      "\r\n",
      "Val:  82%|████████▏ | 23/28 [05:59<00:59, 11.89s/it]"
     ]
    },
    {
     "name": "stderr",
     "output_type": "stream",
     "text": [
      "\r\n",
      "Val:  86%|████████▌ | 24/28 [06:03<00:39,  9.76s/it]"
     ]
    },
    {
     "name": "stderr",
     "output_type": "stream",
     "text": [
      "\r\n",
      "Val:  89%|████████▉ | 25/28 [06:40<00:53, 17.89s/it]"
     ]
    },
    {
     "name": "stderr",
     "output_type": "stream",
     "text": [
      "\r\n",
      "Val:  93%|█████████▎| 26/28 [06:45<00:27, 13.82s/it]"
     ]
    },
    {
     "name": "stderr",
     "output_type": "stream",
     "text": [
      "\r\n",
      "Val:  96%|█████████▋| 27/28 [06:49<00:10, 11.00s/it]"
     ]
    },
    {
     "name": "stderr",
     "output_type": "stream",
     "text": [
      "\r\n",
      "Val: 100%|██████████| 28/28 [06:50<00:00,  8.10s/it]"
     ]
    },
    {
     "name": "stderr",
     "output_type": "stream",
     "text": [
      "\r\n",
      "Val: 100%|██████████| 28/28 [06:50<00:00, 14.68s/it]"
     ]
    },
    {
     "name": "stderr",
     "output_type": "stream",
     "text": [
      "\n"
     ]
    },
    {
     "name": "stdout",
     "output_type": "stream",
     "text": [
      "  Val Loss: 1.1391, Acc: 0.3899\n",
      "  + New best! Saved.\n",
      "Epoch 2/10\n"
     ]
    },
    {
     "name": "stderr",
     "output_type": "stream",
     "text": [
      "\r\n",
      "Train:   0%|          | 0/110 [00:00<?, ?it/s]"
     ]
    },
    {
     "name": "stderr",
     "output_type": "stream",
     "text": [
      "\r\n",
      "Train:   1%|          | 1/110 [00:57<1:43:39, 57.06s/it]"
     ]
    },
    {
     "name": "stderr",
     "output_type": "stream",
     "text": [
      "\r\n",
      "Train:   2%|▏         | 2/110 [01:02<47:40, 26.49s/it]  "
     ]
    },
    {
     "name": "stderr",
     "output_type": "stream",
     "text": [
      "\r\n",
      "Train:   3%|▎         | 3/110 [01:07<29:50, 16.74s/it]"
     ]
    },
    {
     "name": "stderr",
     "output_type": "stream",
     "text": [
      "\r\n",
      "Train:   4%|▎         | 4/110 [01:12<21:34, 12.21s/it]"
     ]
    },
    {
     "name": "stderr",
     "output_type": "stream",
     "text": [
      "\r\n",
      "Train:   5%|▍         | 5/110 [01:54<39:55, 22.82s/it]"
     ]
    },
    {
     "name": "stderr",
     "output_type": "stream",
     "text": [
      "\r\n",
      "Train:   5%|▌         | 6/110 [02:01<30:15, 17.46s/it]"
     ]
    },
    {
     "name": "stderr",
     "output_type": "stream",
     "text": [
      "\r\n",
      "Train:   6%|▋         | 7/110 [02:06<22:59, 13.39s/it]"
     ]
    },
    {
     "name": "stderr",
     "output_type": "stream",
     "text": [
      "\r\n",
      "Train:   7%|▋         | 8/110 [02:11<18:23, 10.82s/it]"
     ]
    },
    {
     "name": "stderr",
     "output_type": "stream",
     "text": [
      "\r\n",
      "Train:   8%|▊         | 9/110 [02:46<30:41, 18.24s/it]"
     ]
    },
    {
     "name": "stderr",
     "output_type": "stream",
     "text": [
      "\r\n",
      "Train:   9%|▉         | 10/110 [02:55<25:48, 15.49s/it]"
     ]
    },
    {
     "name": "stderr",
     "output_type": "stream",
     "text": [
      "\r\n",
      "Train:  10%|█         | 11/110 [03:01<21:01, 12.74s/it]"
     ]
    },
    {
     "name": "stderr",
     "output_type": "stream",
     "text": [
      "\r\n",
      "Train:  11%|█         | 12/110 [03:07<17:00, 10.41s/it]"
     ]
    },
    {
     "name": "stderr",
     "output_type": "stream",
     "text": [
      "\r\n",
      "Train:  12%|█▏        | 13/110 [03:47<31:35, 19.54s/it]"
     ]
    },
    {
     "name": "stderr",
     "output_type": "stream",
     "text": [
      "\r\n",
      "Train:  13%|█▎        | 14/110 [03:52<24:11, 15.12s/it]"
     ]
    },
    {
     "name": "stderr",
     "output_type": "stream",
     "text": [
      "\r\n",
      "Train:  14%|█▎        | 15/110 [03:58<19:48, 12.51s/it]"
     ]
    },
    {
     "name": "stderr",
     "output_type": "stream",
     "text": [
      "\r\n",
      "Train:  15%|█▍        | 16/110 [04:04<16:07, 10.30s/it]"
     ]
    },
    {
     "name": "stderr",
     "output_type": "stream",
     "text": [
      "\r\n",
      "Train:  15%|█▌        | 17/110 [04:54<34:26, 22.23s/it]"
     ]
    },
    {
     "name": "stderr",
     "output_type": "stream",
     "text": [
      "\r\n",
      "Train:  16%|█▋        | 18/110 [04:59<26:08, 17.04s/it]"
     ]
    },
    {
     "name": "stderr",
     "output_type": "stream",
     "text": [
      "\r\n",
      "Train:  17%|█▋        | 19/110 [05:04<20:24, 13.45s/it]"
     ]
    },
    {
     "name": "stderr",
     "output_type": "stream",
     "text": [
      "\r\n",
      "Train:  18%|█▊        | 20/110 [05:09<16:26, 10.96s/it]"
     ]
    },
    {
     "name": "stderr",
     "output_type": "stream",
     "text": [
      "\r\n",
      "Train:  19%|█▉        | 21/110 [05:53<31:03, 20.94s/it]"
     ]
    },
    {
     "name": "stderr",
     "output_type": "stream",
     "text": [
      "\r\n",
      "Train:  20%|██        | 22/110 [05:58<23:48, 16.23s/it]"
     ]
    },
    {
     "name": "stderr",
     "output_type": "stream",
     "text": [
      "\r\n",
      "Train:  21%|██        | 23/110 [06:03<18:38, 12.86s/it]"
     ]
    },
    {
     "name": "stderr",
     "output_type": "stream",
     "text": [
      "\r\n",
      "Train:  22%|██▏       | 24/110 [06:08<15:08, 10.56s/it]"
     ]
    },
    {
     "name": "stderr",
     "output_type": "stream",
     "text": [
      "\r\n",
      "Train:  23%|██▎       | 25/110 [06:53<29:26, 20.78s/it]"
     ]
    },
    {
     "name": "stderr",
     "output_type": "stream",
     "text": [
      "\r\n",
      "Train:  24%|██▎       | 26/110 [06:58<22:26, 16.03s/it]"
     ]
    },
    {
     "name": "stderr",
     "output_type": "stream",
     "text": [
      "\r\n",
      "Train:  25%|██▍       | 27/110 [07:03<17:43, 12.81s/it]"
     ]
    },
    {
     "name": "stderr",
     "output_type": "stream",
     "text": [
      "\r\n",
      "Train:  25%|██▌       | 28/110 [07:09<14:23, 10.53s/it]"
     ]
    },
    {
     "name": "stderr",
     "output_type": "stream",
     "text": [
      "\r\n",
      "Train:  26%|██▋       | 29/110 [07:52<27:41, 20.51s/it]"
     ]
    },
    {
     "name": "stderr",
     "output_type": "stream",
     "text": [
      "\r\n",
      "Train:  27%|██▋       | 30/110 [07:57<21:08, 15.86s/it]"
     ]
    },
    {
     "name": "stderr",
     "output_type": "stream",
     "text": [
      "\r\n",
      "Train:  28%|██▊       | 31/110 [08:02<16:34, 12.59s/it]"
     ]
    },
    {
     "name": "stderr",
     "output_type": "stream",
     "text": [
      "\r\n",
      "Train:  29%|██▉       | 32/110 [08:08<13:30, 10.39s/it]"
     ]
    },
    {
     "name": "stderr",
     "output_type": "stream",
     "text": [
      "\r\n",
      "Train:  30%|███       | 33/110 [08:50<25:47, 20.10s/it]"
     ]
    },
    {
     "name": "stderr",
     "output_type": "stream",
     "text": [
      "\r\n",
      "Train:  31%|███       | 34/110 [08:55<19:42, 15.56s/it]"
     ]
    },
    {
     "name": "stderr",
     "output_type": "stream",
     "text": [
      "\r\n",
      "Train:  32%|███▏      | 35/110 [09:00<15:29, 12.40s/it]"
     ]
    },
    {
     "name": "stderr",
     "output_type": "stream",
     "text": [
      "\r\n",
      "Train:  33%|███▎      | 36/110 [09:05<12:37, 10.24s/it]"
     ]
    },
    {
     "name": "stderr",
     "output_type": "stream",
     "text": [
      "\r\n",
      "Train:  34%|███▎      | 37/110 [09:51<25:16, 20.78s/it]"
     ]
    },
    {
     "name": "stderr",
     "output_type": "stream",
     "text": [
      "\r\n",
      "Train:  35%|███▍      | 38/110 [09:56<19:15, 16.04s/it]"
     ]
    },
    {
     "name": "stderr",
     "output_type": "stream",
     "text": [
      "\r\n",
      "Train:  35%|███▌      | 39/110 [10:01<15:04, 12.74s/it]"
     ]
    },
    {
     "name": "stderr",
     "output_type": "stream",
     "text": [
      "\r\n",
      "Train:  36%|███▋      | 40/110 [10:06<12:13, 10.48s/it]"
     ]
    },
    {
     "name": "stderr",
     "output_type": "stream",
     "text": [
      "\r\n",
      "Train:  37%|███▋      | 41/110 [10:51<23:49, 20.71s/it]"
     ]
    },
    {
     "name": "stderr",
     "output_type": "stream",
     "text": [
      "\r\n",
      "Train:  38%|███▊      | 42/110 [10:56<18:08, 16.01s/it]"
     ]
    },
    {
     "name": "stderr",
     "output_type": "stream",
     "text": [
      "\r\n",
      "Train:  39%|███▉      | 43/110 [11:01<14:11, 12.71s/it]"
     ]
    },
    {
     "name": "stderr",
     "output_type": "stream",
     "text": [
      "\r\n",
      "Train:  40%|████      | 44/110 [11:06<11:30, 10.46s/it]"
     ]
    },
    {
     "name": "stderr",
     "output_type": "stream",
     "text": [
      "\r\n",
      "Train:  41%|████      | 45/110 [11:44<20:21, 18.80s/it]"
     ]
    },
    {
     "name": "stderr",
     "output_type": "stream",
     "text": [
      "\r\n",
      "Train:  42%|████▏     | 46/110 [11:49<15:37, 14.65s/it]"
     ]
    },
    {
     "name": "stderr",
     "output_type": "stream",
     "text": [
      "\r\n",
      "Train:  43%|████▎     | 47/110 [11:54<12:22, 11.79s/it]"
     ]
    },
    {
     "name": "stderr",
     "output_type": "stream",
     "text": [
      "\r\n",
      "Train:  44%|████▎     | 48/110 [11:59<10:07,  9.80s/it]"
     ]
    },
    {
     "name": "stderr",
     "output_type": "stream",
     "text": [
      "\r\n",
      "Train:  45%|████▍     | 49/110 [12:42<20:00, 19.68s/it]"
     ]
    }
   ],
   "source": [
    "import os\n",
    "import glob\n",
    "import random\n",
    "import numpy as np\n",
    "import torch\n",
    "import torch.nn as nn\n",
    "import torch.nn.parallel\n",
    "import torch.distributed as dist\n",
    "import torch.multiprocessing as mp\n",
    "import nibabel as nib\n",
    "from torch.utils.data import Dataset, DataLoader\n",
    "from torch.nn import CrossEntropyLoss\n",
    "from torch.optim import AdamW\n",
    "from torch.optim.lr_scheduler import CosineAnnealingWarmRestarts\n",
    "from torch.cuda.amp import autocast, GradScaler\n",
    "from sklearn.model_selection import StratifiedKFold\n",
    "from skimage.filters import threshold_otsu\n",
    "from scipy import ndimage\n",
    "from tqdm import tqdm\n",
    "import json\n",
    "from datetime import datetime\n",
    "\n",
    "# ---------------------------------------\n",
    "# CUDA Ayarları\n",
    "# ---------------------------------------\n",
    "def setup_gpu():\n",
    "    if torch.cuda.device_count() > 1:\n",
    "        print(f\"Using {torch.cuda.device_count()} GPUs!\")\n",
    "        # Set default device to cuda:0\n",
    "        torch.cuda.set_device(0)\n",
    "        # Her GPU için bellek optimizasyonu\n",
    "        for i in range(torch.cuda.device_count()):\n",
    "            torch.cuda.empty_cache()\n",
    "    else:\n",
    "        print(\"Using single GPU or CPU\")\n",
    "    \n",
    "    torch.backends.cudnn.benchmark = True\n",
    "    torch.backends.cudnn.deterministic = True\n",
    "    return torch.device('cuda:0' if torch.cuda.is_available() else 'cpu')\n",
    "\n",
    "DEVICE = setup_gpu()\n",
    "\n",
    "# ---------------------------------------\n",
    "# 1) Veri Klasörü ve Sınıfların Otomatik Tespiti\n",
    "# ---------------------------------------\n",
    "DATA_DIR = '/kaggle/input/skullstripping'\n",
    "all_classes = [d for d in os.listdir(DATA_DIR) if os.path.isdir(os.path.join(DATA_DIR, d))]\n",
    "classes = {name: idx for idx, name in enumerate(sorted(all_classes))}\n",
    "num_classes = len(classes)\n",
    "print(f\"Detected classes: {classes}\")\n",
    "\n",
    "# ---------------------------------------\n",
    "# 2) \".nii\" Dosyalarını Listeleyip Etiketleme\n",
    "# ---------------------------------------\n",
    "all_nii = glob.glob(os.path.join(DATA_DIR, '**', '*.nii'), recursive=True)\n",
    "paths, labels = [], []\n",
    "for p in all_nii:\n",
    "    parent = os.path.dirname(p)\n",
    "    grand = os.path.dirname(parent)\n",
    "    cls_name = os.path.basename(grand)\n",
    "    if cls_name not in classes:\n",
    "        continue\n",
    "    if os.path.getsize(p) == 0:\n",
    "        continue\n",
    "    paths.append(p)\n",
    "    labels.append(classes[cls_name])\n",
    "\n",
    "if len(set(labels)) < 2:\n",
    "    raise RuntimeError(f\"En az iki farklı sınıf bulunmalı; mevcut: {set(labels)}\")\n",
    "\n",
    "for cls, idx in classes.items():\n",
    "    print(f\"  {cls}: {labels.count(idx)} örnek\")\n",
    "\n",
    "# Shuffle\n",
    "tuple_data = list(zip(paths, labels))\n",
    "random.seed(42)\n",
    "random.shuffle(tuple_data)\n",
    "paths, labels = zip(*tuple_data)\n",
    "paths, labels = list(paths), list(labels)\n",
    "\n",
    "# ---------------------------------------\n",
    "# 3) Dataset ve Data Augmentations\n",
    "# ---------------------------------------\n",
    "PATCH_SIZE = 128  # Increased patch size for better feature extraction\n",
    "\n",
    "def random_flip(tensor):\n",
    "    for axis in [1, 2, 3]:\n",
    "        if random.random() < 0.5:\n",
    "            tensor = tensor.flip(axis)\n",
    "    return tensor\n",
    "\n",
    "def random_rotate(tensor):\n",
    "    if random.random() < 0.5:\n",
    "        angle = random.choice([90, 180, 270])\n",
    "        tensor = torch.rot90(tensor, k=angle//90, dims=[2, 3])\n",
    "    return tensor\n",
    "\n",
    "def random_noise(tensor):\n",
    "    if random.random() < 0.3:\n",
    "        noise = torch.randn_like(tensor) * 0.1\n",
    "        tensor = tensor + noise\n",
    "    return tensor\n",
    "\n",
    "class SkullStripDataset(Dataset):\n",
    "    def __init__(self, paths, labels, augment=False):\n",
    "        self.paths = paths\n",
    "        self.labels = labels\n",
    "        self.augment = augment\n",
    "\n",
    "    def __len__(self):\n",
    "        return len(self.paths)\n",
    "\n",
    "    def __getitem__(self, idx):\n",
    "        img = nib.load(self.paths[idx]).get_fdata().astype(np.float32)\n",
    "        \n",
    "        # Enhanced preprocessing\n",
    "        p1, p99 = np.percentile(img, (1, 99))\n",
    "        img = np.clip(img, p1, p99)\n",
    "        img = (img - p1) / (p99 - p1 + 1e-6)\n",
    "        \n",
    "        # Improved skull stripping\n",
    "        mask = img > threshold_otsu(img)\n",
    "        mask = ndimage.binary_closing(mask, structure=np.ones((3,3,3)))\n",
    "        mask = ndimage.binary_fill_holes(mask)\n",
    "        labeled, num = ndimage.label(mask)\n",
    "        if num > 1:\n",
    "            counts = np.bincount(labeled.ravel()); counts[0] = 0\n",
    "            mask = (labeled == counts.argmax())\n",
    "        \n",
    "        # Enhanced patch extraction\n",
    "        coords = np.array(np.where(mask))\n",
    "        mins = coords.min(axis=1); maxs = coords.max(axis=1)\n",
    "        centers = (mins + maxs) // 2\n",
    "        half = PATCH_SIZE // 2\n",
    "        starts = centers - half; ends = starts + PATCH_SIZE\n",
    "        \n",
    "        # Boundary handling\n",
    "        for i in range(3):\n",
    "            d = img.shape[i]\n",
    "            if starts[i] < 0:\n",
    "                starts[i] = 0; ends[i] = PATCH_SIZE\n",
    "            if ends[i] > d:\n",
    "                ends[i] = d; starts[i] = d - PATCH_SIZE\n",
    "        \n",
    "        patch = img[starts[0]:ends[0], starts[1]:ends[1], starts[2]:ends[2]]\n",
    "        \n",
    "        # Padding if needed\n",
    "        if patch.shape != (PATCH_SIZE,)*3:\n",
    "            pad = np.zeros((PATCH_SIZE,)*3, dtype=np.float32)\n",
    "            pd, ph, pw = patch.shape\n",
    "            sd, sh, sw = [(PATCH_SIZE - s)//2 for s in patch.shape]\n",
    "            pad[sd:sd+pd, sh:sh+ph, sw:sw+pw] = patch\n",
    "            patch = pad\n",
    "        \n",
    "        # Enhanced normalization\n",
    "        patch = (patch - patch.mean()) / (patch.std() + 1e-6)\n",
    "        tensor = torch.from_numpy(patch).unsqueeze(0)\n",
    "        \n",
    "        if self.augment:\n",
    "            tensor = random_flip(tensor)\n",
    "            tensor = random_rotate(tensor)\n",
    "            tensor = random_noise(tensor)\n",
    "            \n",
    "        return tensor, torch.tensor(self.labels[idx], dtype=torch.long)\n",
    "\n",
    "# ---------------------------------------\n",
    "# 4) Enhanced SE Block and Inception3D_SE Model\n",
    "# ---------------------------------------\n",
    "class SEBlock(nn.Module):\n",
    "    def __init__(self, channels, reduction=8):\n",
    "        super().__init__()\n",
    "        self.fc1 = nn.Linear(channels, channels//reduction, bias=False)\n",
    "        self.relu = nn.ReLU(inplace=True)\n",
    "        self.fc2 = nn.Linear(channels//reduction, channels, bias=False)\n",
    "        self.sigmoid = nn.Sigmoid()\n",
    "        \n",
    "    def forward(self, x):\n",
    "        b,c,d,h,w = x.size()\n",
    "        y = x.view(b,c,-1).mean(dim=2)\n",
    "        y = self.relu(self.fc1(y))\n",
    "        y = self.sigmoid(self.fc2(y)).view(b,c,1,1,1)\n",
    "        return x * y\n",
    "\n",
    "class Inception3D_SE(nn.Module):\n",
    "    def __init__(self, in_ch, c1, r3, c3, r5, c5, p):\n",
    "        super().__init__()\n",
    "        self.b1 = nn.Sequential(\n",
    "            nn.Conv3d(in_ch, c1, kernel_size=1, bias=False),\n",
    "            nn.BatchNorm3d(c1, affine=True),\n",
    "            nn.ReLU(inplace=True)\n",
    "        )\n",
    "        self.b3 = nn.Sequential(\n",
    "            nn.Conv3d(in_ch, r3, kernel_size=1, bias=False),\n",
    "            nn.BatchNorm3d(r3, affine=True),\n",
    "            nn.ReLU(inplace=True),\n",
    "            nn.Conv3d(r3, c3, kernel_size=3, padding=1, bias=False),\n",
    "            nn.BatchNorm3d(c3, affine=True),\n",
    "            nn.ReLU(inplace=True)\n",
    "        )\n",
    "        self.b5 = nn.Sequential(\n",
    "            nn.Conv3d(in_ch, r5, kernel_size=1, bias=False),\n",
    "            nn.BatchNorm3d(r5, affine=True),\n",
    "            nn.ReLU(inplace=True),\n",
    "            nn.Conv3d(r5, c5, kernel_size=5, padding=2, bias=False),\n",
    "            nn.BatchNorm3d(c5, affine=True),\n",
    "            nn.ReLU(inplace=True)\n",
    "        )\n",
    "        self.bp = nn.Sequential(\n",
    "            nn.MaxPool3d(kernel_size=3, stride=1, padding=1),\n",
    "            nn.Conv3d(in_ch, p, kernel_size=1, bias=False),\n",
    "            nn.BatchNorm3d(p, affine=True),\n",
    "            nn.ReLU(inplace=True)\n",
    "        )\n",
    "        out = c1 + c3 + c5 + p\n",
    "        self.se = SEBlock(out)\n",
    "        \n",
    "    def forward(self, x):\n",
    "        return self.se(torch.cat([\n",
    "            self.b1(x), self.b3(x), self.b5(x), self.bp(x)\n",
    "        ], dim=1))\n",
    "\n",
    "class Inception3DNet_SE(nn.Module):\n",
    "    def __init__(self, num_classes):\n",
    "        super().__init__()\n",
    "        self.conv1 = nn.Sequential(\n",
    "            nn.Conv3d(1, 64, kernel_size=7, stride=2, padding=3, bias=False),\n",
    "            nn.BatchNorm3d(64, affine=True),\n",
    "            nn.ReLU(inplace=True),\n",
    "            nn.MaxPool3d(kernel_size=3, stride=2, padding=1)\n",
    "        )\n",
    "        self.conv2 = nn.Sequential(\n",
    "            nn.Conv3d(64, 64, kernel_size=1, bias=False),\n",
    "            nn.BatchNorm3d(64, affine=True),\n",
    "            nn.ReLU(inplace=True),\n",
    "            nn.Conv3d(64, 192, kernel_size=3, padding=1, bias=False),\n",
    "            nn.BatchNorm3d(192, affine=True),\n",
    "            nn.ReLU(inplace=True),\n",
    "            nn.MaxPool3d(kernel_size=3, stride=2, padding=1)\n",
    "        )\n",
    "        self.i3a = Inception3D_SE(192, 64, 96, 128, 16, 32, 32)\n",
    "        self.i3b = Inception3D_SE(256, 128, 128, 192, 32, 96, 64)\n",
    "        self.mp3 = nn.MaxPool3d(kernel_size=3, stride=2, padding=1)\n",
    "        self.i4a = Inception3D_SE(480, 192, 96, 208, 16, 48, 64)\n",
    "        self.i4b = Inception3D_SE(512, 160, 112, 224, 24, 64, 64)\n",
    "        self.i4c = Inception3D_SE(512, 128, 128, 256, 24, 64, 64)\n",
    "        self.ap = nn.AdaptiveAvgPool3d((1, 1, 1))\n",
    "        self.do = nn.Dropout(0.4)\n",
    "        self.fc = nn.Linear(512, num_classes)\n",
    "        \n",
    "        # Initialize weights\n",
    "        for m in self.modules():\n",
    "            if isinstance(m, nn.Conv3d):\n",
    "                nn.init.kaiming_normal_(m.weight, mode='fan_out', nonlinearity='relu')\n",
    "            elif isinstance(m, (nn.BatchNorm3d, nn.GroupNorm)):\n",
    "                if hasattr(m, 'weight') and m.weight is not None:\n",
    "                    nn.init.constant_(m.weight, 1)\n",
    "                if hasattr(m, 'bias') and m.bias is not None:\n",
    "                    nn.init.constant_(m.bias, 0)\n",
    "                    \n",
    "    def forward(self, x):\n",
    "        x = self.conv1(x)\n",
    "        x = self.conv2(x)\n",
    "        x = self.i3a(x)\n",
    "        x = self.i3b(x)\n",
    "        x = self.mp3(x)\n",
    "        x = self.i4a(x)\n",
    "        x = self.i4b(x)\n",
    "        x = self.i4c(x)\n",
    "        x = self.ap(x).view(x.size(0), -1)\n",
    "        x = self.do(x)\n",
    "        return self.fc(x)\n",
    "\n",
    "# ---------------------------------------\n",
    "# Hiperparametre Yönetimi\n",
    "# ---------------------------------------\n",
    "class HyperParameterManager:\n",
    "    def __init__(self):\n",
    "        self.base_params = {\n",
    "            'learning_rate': 2e-4,\n",
    "            'weight_decay': 1e-5,\n",
    "            'dropout_rate': 0.4,\n",
    "            'batch_size': 16 if DEVICE.type == 'cuda' else 4,  # 2xT4 için artırıldı\n",
    "            'patch_size': 128,\n",
    "            'se_reduction': 8,\n",
    "            'num_workers': 4,  # Her GPU için worker sayısı\n",
    "            'gradient_accumulation_steps': 2  # Gradient biriktirme adımları\n",
    "        }\n",
    "        self.fold_results = []\n",
    "        self.best_params = self.base_params.copy()\n",
    "        self.best_accuracy = 0.0\n",
    "        \n",
    "    def update_params(self, fold_results):\n",
    "        \"\"\"Fold sonuçlarına göre hiperparametreleri güncelle\"\"\"\n",
    "        self.fold_results.append(fold_results)\n",
    "        \n",
    "        if len(self.fold_results) >= 3:\n",
    "            recent_results = self.fold_results[-3:]\n",
    "            avg_accuracy = np.mean([r['val_accuracy'] for r in recent_results])\n",
    "            avg_loss = np.mean([r['val_loss'] for r in recent_results])\n",
    "            \n",
    "            if avg_accuracy < 0.7:\n",
    "                self.best_params['learning_rate'] *= 0.8\n",
    "                self.best_params['weight_decay'] *= 1.2\n",
    "                self.best_params['dropout_rate'] = min(0.5, self.best_params['dropout_rate'] * 1.1)\n",
    "                \n",
    "            if avg_loss > 1.0:\n",
    "                self.best_params['batch_size'] = max(8, self.best_params['batch_size'] - 4)\n",
    "                self.best_params['patch_size'] = min(160, self.best_params['patch_size'] + 8)\n",
    "                \n",
    "            if avg_accuracy > self.best_accuracy:\n",
    "                self.best_accuracy = avg_accuracy\n",
    "                self.best_params = self.base_params.copy()\n",
    "                \n",
    "        return self.best_params\n",
    "    \n",
    "    def save_results(self, fold_num):\n",
    "        \"\"\"Sonuçları JSON dosyasına kaydet\"\"\"\n",
    "        timestamp = datetime.now().strftime(\"%Y%m%d_%H%M%S\")\n",
    "        results = {\n",
    "            'timestamp': timestamp,\n",
    "            'fold_results': self.fold_results,\n",
    "            'best_params': self.best_params,\n",
    "            'best_accuracy': self.best_accuracy\n",
    "        }\n",
    "        \n",
    "        with open(f'training_results_fold{fold_num}_{timestamp}.json', 'w') as f:\n",
    "            json.dump(results, f, indent=4)\n",
    "\n",
    "# ---------------------------------------\n",
    "# 5) Eğitim Döngüsü\n",
    "# ---------------------------------------\n",
    "NUM_FOLDS = 5\n",
    "EPOCHS = 10\n",
    "\n",
    "def train_fold(fold, train_idx, val_idx, hp_manager):\n",
    "    print(f\"\\n>>> Fold {fold}/{NUM_FOLDS}\")\n",
    "    \n",
    "    current_params = hp_manager.best_params\n",
    "    \n",
    "    # Dataset'leri oluştur\n",
    "    train_ds = SkullStripDataset([paths[i] for i in train_idx], \n",
    "                                [labels[i] for i in train_idx], \n",
    "                                augment=True)\n",
    "    val_ds = SkullStripDataset([paths[i] for i in val_idx], \n",
    "                              [labels[i] for i in val_idx], \n",
    "                              augment=False)\n",
    "\n",
    "    # DataLoader'ları oluştur\n",
    "    train_loader = DataLoader(train_ds, \n",
    "                            batch_size=current_params['batch_size'], \n",
    "                            shuffle=True,\n",
    "                            num_workers=current_params['num_workers'],\n",
    "                            pin_memory=True,\n",
    "                            persistent_workers=True)\n",
    "    val_loader = DataLoader(val_ds, \n",
    "                          batch_size=current_params['batch_size'], \n",
    "                          shuffle=False,\n",
    "                          num_workers=current_params['num_workers'],\n",
    "                          pin_memory=True,\n",
    "                          persistent_workers=True)\n",
    "\n",
    "    # Model oluştur ve çoklu GPU'ya dağıt\n",
    "    model = Inception3DNet_SE(num_classes)\n",
    "    model = model.to(DEVICE)  # First move to default device (cuda:0)\n",
    "    if torch.cuda.device_count() > 1:\n",
    "        model = nn.DataParallel(model)\n",
    "    \n",
    "    # Fix dropout rate access for DataParallel\n",
    "    if isinstance(model, nn.DataParallel):\n",
    "        model.module.do.p = current_params['dropout_rate']\n",
    "    else:\n",
    "        model.do.p = current_params['dropout_rate']\n",
    "    \n",
    "    criterion = CrossEntropyLoss(weight=class_weights.to(DEVICE))  # Move weights to default device\n",
    "    optimizer = AdamW(model.parameters(), \n",
    "                     lr=current_params['learning_rate'], \n",
    "                     weight_decay=current_params['weight_decay'])\n",
    "    scheduler = CosineAnnealingWarmRestarts(optimizer, T_0=5, T_mult=2, eta_min=1e-6)\n",
    "    \n",
    "    scaler = GradScaler()\n",
    "    best_acc = 0\n",
    "    no_improve = 0\n",
    "    patience = 5\n",
    "    \n",
    "    fold_metrics = {\n",
    "        'train_losses': [],\n",
    "        'train_accuracies': [],\n",
    "        'val_losses': [],\n",
    "        'val_accuracies': [],\n",
    "        'learning_rates': []\n",
    "    }\n",
    "\n",
    "    for epoch in range(1, EPOCHS+1):\n",
    "        print(f\"Epoch {epoch}/{EPOCHS}\")\n",
    "        model.train()\n",
    "        tloss = 0\n",
    "        corr = 0\n",
    "        tot = 0\n",
    "        \n",
    "        # Gradient biriktirme için\n",
    "        optimizer.zero_grad(set_to_none=True)\n",
    "        \n",
    "        for batch_idx, (imgs, lbls) in enumerate(tqdm(train_loader, desc=\"Train\")):\n",
    "            imgs, lbls = imgs.to(DEVICE), lbls.to(DEVICE)\n",
    "            \n",
    "            with autocast():\n",
    "                logits = model(imgs)\n",
    "                loss = criterion(logits, lbls)\n",
    "                # Gradient biriktirme için loss'u normalize et\n",
    "                loss = loss / current_params['gradient_accumulation_steps']\n",
    "\n",
    "            scaler.scale(loss).backward()\n",
    "            \n",
    "            if (batch_idx + 1) % current_params['gradient_accumulation_steps'] == 0:\n",
    "                scaler.unscale_(optimizer)\n",
    "                nn.utils.clip_grad_norm_(model.parameters(), max_norm=1.0)\n",
    "                scaler.step(optimizer)\n",
    "                scaler.update()\n",
    "                optimizer.zero_grad(set_to_none=True)\n",
    "            \n",
    "            tloss += loss.item() * current_params['gradient_accumulation_steps']\n",
    "            preds = logits.argmax(1)\n",
    "            corr += (preds==lbls).sum().item()\n",
    "            tot += lbls.size(0)\n",
    "        \n",
    "        train_loss = tloss/len(train_loader)\n",
    "        train_acc = corr/tot\n",
    "        print(f\"  Train Loss: {train_loss:.4f}, Acc: {train_acc:.4f}\")\n",
    "        \n",
    "        # Validation\n",
    "        model.eval()\n",
    "        vloss = 0\n",
    "        corr = 0\n",
    "        tot = 0\n",
    "        with torch.no_grad():\n",
    "            for imgs, lbls in tqdm(val_loader, desc=\"Val\"):\n",
    "                imgs, lbls = imgs.to(DEVICE), lbls.to(DEVICE)\n",
    "                with autocast():\n",
    "                    logits = model(imgs)\n",
    "                    loss = criterion(logits, lbls)\n",
    "\n",
    "                vloss += loss.item()\n",
    "                preds = logits.argmax(1)\n",
    "                corr += (preds==lbls).sum().item()\n",
    "                tot += lbls.size(0)\n",
    "        \n",
    "        val_loss = vloss/len(val_loader)\n",
    "        val_acc = corr/tot\n",
    "        print(f\"  Val Loss: {val_loss:.4f}, Acc: {val_acc:.4f}\")\n",
    "        \n",
    "        fold_metrics['train_losses'].append(train_loss)\n",
    "        fold_metrics['train_accuracies'].append(train_acc)\n",
    "        fold_metrics['val_losses'].append(val_loss)\n",
    "        fold_metrics['val_accuracies'].append(val_acc)\n",
    "        fold_metrics['learning_rates'].append(optimizer.param_groups[0]['lr'])\n",
    "        \n",
    "        scheduler.step()\n",
    "        \n",
    "        if val_acc > best_acc + 1e-4:\n",
    "            best_acc = val_acc\n",
    "            # Model checkpoint'ini kaydet\n",
    "            if isinstance(model, nn.DataParallel):\n",
    "                model_state = model.module.state_dict()\n",
    "            else:\n",
    "                model_state = model.state_dict()\n",
    "                \n",
    "            torch.save({\n",
    "                'epoch': epoch,\n",
    "                'model_state_dict': model_state,\n",
    "                'optimizer_state_dict': optimizer.state_dict(),\n",
    "                'scheduler_state_dict': scheduler.state_dict(),\n",
    "                'best_acc': best_acc,\n",
    "                'hyperparameters': current_params\n",
    "            }, f\"best_fold{fold}.pth\")\n",
    "            print(\"  + New best! Saved.\")\n",
    "            no_improve = 0\n",
    "        else:\n",
    "            no_improve += 1\n",
    "        if no_improve >= patience:\n",
    "            print(\"  Early stopping\")\n",
    "            break\n",
    "    \n",
    "    return {\n",
    "        'fold': fold,\n",
    "        'best_accuracy': best_acc,\n",
    "        'final_val_loss': val_loss,\n",
    "        'final_val_accuracy': val_acc,\n",
    "        'epochs_trained': epoch,\n",
    "        'hyperparameters': current_params,\n",
    "        'metrics': fold_metrics\n",
    "    }\n",
    "\n",
    "# Ana eğitim döngüsü\n",
    "if __name__ == '__main__':\n",
    "    # Hiperparametre yöneticisini başlat\n",
    "    hp_manager = HyperParameterManager()\n",
    "    \n",
    "    # Calculate class weights\n",
    "    class_counts = np.bincount(labels)\n",
    "    total_samples = len(labels)\n",
    "    class_weights = torch.FloatTensor(total_samples / (len(class_counts) * class_counts)).to(DEVICE)\n",
    "    print(f\"Class weights: {class_weights}\")\n",
    "    \n",
    "    # K-fold cross validation\n",
    "    skf = StratifiedKFold(n_splits=NUM_FOLDS, shuffle=True, random_state=42)\n",
    "    all_idx = np.arange(len(paths))\n",
    "    labels_arr = np.array(labels)\n",
    "    \n",
    "    all_fold_results = []\n",
    "    \n",
    "    for fold, (train_idx, val_idx) in enumerate(skf.split(all_idx, labels_arr), 1):\n",
    "        fold_result = train_fold(fold, train_idx, val_idx, hp_manager)\n",
    "        all_fold_results.append(fold_result)\n",
    "        \n",
    "        # Hiperparametreleri güncelle\n",
    "        hp_manager.update_params(fold_result)\n",
    "        \n",
    "        # Sonuçları kaydet\n",
    "        hp_manager.save_results(fold)\n",
    "        \n",
    "        print(f\"\\nFold {fold} Summary:\")\n",
    "        print(f\"Best Accuracy: {fold_result['best_accuracy']:.4f}\")\n",
    "        print(f\"Final Validation Loss: {fold_result['final_val_loss']:.4f}\")\n",
    "        print(f\"Final Validation Accuracy: {fold_result['final_val_accuracy']:.4f}\")\n",
    "        print(f\"Epochs Trained: {fold_result['epochs_trained']}\")\n",
    "        print(\"\\nCurrent Hyperparameters:\")\n",
    "        for param, value in fold_result['hyperparameters'].items():\n",
    "            print(f\"  {param}: {value}\")\n",
    "    \n",
    "    # Final sonuçları\n",
    "    print(\"\\n=== Final Results ===\")\n",
    "    avg_accuracy = np.mean([r['best_accuracy'] for r in all_fold_results])\n",
    "    std_accuracy = np.std([r['best_accuracy'] for r in all_fold_results])\n",
    "    print(f\"Average Accuracy: {avg_accuracy:.4f} ± {std_accuracy:.4f}\")\n",
    "    print(\"\\nBest Hyperparameters:\")\n",
    "    for param, value in hp_manager.best_params.items():\n",
    "        print(f\"  {param}: {value}\")\n",
    "    \n",
    "    # Tüm sonuçları kaydet\n",
    "    final_results = {\n",
    "        'timestamp': datetime.now().strftime(\"%Y%m%d_%H%M%S\"),\n",
    "        'all_fold_results': all_fold_results,\n",
    "        'best_hyperparameters': hp_manager.best_params,\n",
    "        'average_accuracy': float(avg_accuracy),\n",
    "        'std_accuracy': float(std_accuracy)\n",
    "    }\n",
    "    \n",
    "    with open('final_training_results.json', 'w') as f:\n",
    "        json.dump(final_results, f, indent=4)"
   ]
  }
 ],
 "metadata": {
  "kaggle": {
   "accelerator": "nvidiaTeslaT4",
   "dataSources": [
    {
     "datasetId": 7612334,
     "sourceId": 12092413,
     "sourceType": "datasetVersion"
    }
   ],
   "isGpuEnabled": true,
   "isInternetEnabled": true,
   "language": "python",
   "sourceType": "notebook"
  },
  "kernelspec": {
   "display_name": "Python 3",
   "language": "python",
   "name": "python3"
  },
  "language_info": {
   "codemirror_mode": {
    "name": "ipython",
    "version": 3
   },
   "file_extension": ".py",
   "mimetype": "text/x-python",
   "name": "python",
   "nbconvert_exporter": "python",
   "pygments_lexer": "ipython3",
   "version": "3.6.4"
  },
  "papermill": {
   "default_parameters": {},
   "duration": null,
   "end_time": null,
   "environment_variables": {},
   "exception": null,
   "input_path": "__notebook__.ipynb",
   "output_path": "__notebook__.ipynb",
   "parameters": {},
   "start_time": "2025-06-10T13:46:38.579915",
   "version": "2.6.0"
  }
 },
 "nbformat": 4,
 "nbformat_minor": 5
}
