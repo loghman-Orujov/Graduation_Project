{
 "cells": [
  {
   "cell_type": "code",
   "execution_count": 1,
   "id": "6821c45e",
   "metadata": {
    "_cell_guid": "b1076dfc-b9ad-4769-8c92-a6c4dae69d19",
    "_uuid": "8f2839f25d086af736a60e9eeb907d3b93b6e0e5",
    "execution": {
     "iopub.execute_input": "2025-06-09T17:15:11.682388Z",
     "iopub.status.busy": "2025-06-09T17:15:11.681770Z",
     "iopub.status.idle": "2025-06-10T00:37:57.755317Z",
     "shell.execute_reply": "2025-06-10T00:37:57.754312Z"
    },
    "papermill": {
     "duration": 26566.377687,
     "end_time": "2025-06-10T00:37:58.055872",
     "exception": false,
     "start_time": "2025-06-09T17:15:11.678185",
     "status": "completed"
    },
    "tags": []
   },
   "outputs": [
    {
     "name": "stdout",
     "output_type": "stream",
     "text": [
      "Using device: cuda\n",
      "Total sample sayısı (sağlam NIfTI): 2182\n",
      "Sınıf dağılımı dosya düzeyinde: Counter({1: 981, 0: 748, 2: 453})\n",
      "Train+Val dosya sayısı: 1930, Test dosya sayısı: 252\n",
      "Test sınıf dağılımı dosya düzeyinde: Counter({1: 131, 0: 80, 2: 41})\n",
      "\n",
      "========== Fold 1/5 ==========\n"
     ]
    },
    {
     "name": "stderr",
     "output_type": "stream",
     "text": [
      "Epoch 1: 100%|██████████| 386/386 [08:38<00:00,  1.34s/it]\n"
     ]
    },
    {
     "name": "stdout",
     "output_type": "stream",
     "text": [
      "Epoch 1 | Train Acc: 0.3679 | Val Acc: 0.4404 | Val F1: 0.2693\n",
      "Fold 1 - En iyi F1: 0.2693\n"
     ]
    },
    {
     "name": "stderr",
     "output_type": "stream",
     "text": [
      "Epoch 2: 100%|██████████| 386/386 [08:56<00:00,  1.39s/it]\n"
     ]
    },
    {
     "name": "stdout",
     "output_type": "stream",
     "text": [
      "Epoch 2 | Train Acc: 0.3867 | Val Acc: 0.4430 | Val F1: 0.2963\n",
      "Fold 1 - En iyi F1: 0.2963\n"
     ]
    },
    {
     "name": "stderr",
     "output_type": "stream",
     "text": [
      "Epoch 3: 100%|██████████| 386/386 [08:31<00:00,  1.33s/it]\n"
     ]
    },
    {
     "name": "stdout",
     "output_type": "stream",
     "text": [
      "Epoch 3 | Train Acc: 0.4598 | Val Acc: 0.4404 | Val F1: 0.2693\n"
     ]
    },
    {
     "name": "stderr",
     "output_type": "stream",
     "text": [
      "Epoch 4: 100%|██████████| 386/386 [08:43<00:00,  1.36s/it]\n"
     ]
    },
    {
     "name": "stdout",
     "output_type": "stream",
     "text": [
      "Epoch 4 | Train Acc: 0.5142 | Val Acc: 0.3497 | Val F1: 0.3463\n",
      "Fold 1 - En iyi F1: 0.3463\n"
     ]
    },
    {
     "name": "stderr",
     "output_type": "stream",
     "text": [
      "Epoch 5: 100%|██████████| 386/386 [08:39<00:00,  1.34s/it]\n"
     ]
    },
    {
     "name": "stdout",
     "output_type": "stream",
     "text": [
      "Epoch 5 | Train Acc: 0.5563 | Val Acc: 0.4404 | Val F1: 0.2693\n"
     ]
    },
    {
     "name": "stderr",
     "output_type": "stream",
     "text": [
      "Epoch 6: 100%|██████████| 386/386 [08:45<00:00,  1.36s/it]\n"
     ]
    },
    {
     "name": "stdout",
     "output_type": "stream",
     "text": [
      "Epoch 6 | Train Acc: 0.5887 | Val Acc: 0.4404 | Val F1: 0.2693\n"
     ]
    },
    {
     "name": "stderr",
     "output_type": "stream",
     "text": [
      "Epoch 7: 100%|██████████| 386/386 [08:50<00:00,  1.38s/it]\n"
     ]
    },
    {
     "name": "stdout",
     "output_type": "stream",
     "text": [
      "Epoch 7 | Train Acc: 0.5842 | Val Acc: 0.4404 | Val F1: 0.2693\n"
     ]
    },
    {
     "name": "stderr",
     "output_type": "stream",
     "text": [
      "Epoch 8: 100%|██████████| 386/386 [08:53<00:00,  1.38s/it]\n"
     ]
    },
    {
     "name": "stdout",
     "output_type": "stream",
     "text": [
      "Epoch 8 | Train Acc: 0.5861 | Val Acc: 0.4404 | Val F1: 0.2693\n"
     ]
    },
    {
     "name": "stderr",
     "output_type": "stream",
     "text": [
      "Epoch 9: 100%|██████████| 386/386 [08:51<00:00,  1.38s/it]\n"
     ]
    },
    {
     "name": "stdout",
     "output_type": "stream",
     "text": [
      "Epoch 9 | Train Acc: 0.5907 | Val Acc: 0.4404 | Val F1: 0.2693\n",
      "Early stopping at epoch 9\n",
      "\n",
      "Fold 1 Test Sonuçları:\n",
      "Test Accuracy: 0.4008\n",
      "              precision    recall  f1-score   support\n",
      "\n",
      "          CN       0.33      0.34      0.33        80\n",
      "         MCI       0.53      0.51      0.52       131\n",
      "          AD       0.16      0.17      0.16        41\n",
      "\n",
      "    accuracy                           0.40       252\n",
      "   macro avg       0.34      0.34      0.34       252\n",
      "weighted avg       0.41      0.40      0.40       252\n",
      "\n"
     ]
    },
    {
     "data": {
      "image/png": "[encoded data removed]",
      "text/plain": [
       "<Figure size 600x500 with 2 Axes>"
      ]
     },
     "metadata": {},
     "output_type": "display_data"
    },
    {
     "name": "stdout",
     "output_type": "stream",
     "text": [
      "\n",
      "========== Fold 2/5 ==========\n"
     ]
    },
    {
     "name": "stderr",
     "output_type": "stream",
     "text": [
      "Epoch 1: 100%|██████████| 386/386 [08:52<00:00,  1.38s/it]\n"
     ]
    },
    {
     "name": "stdout",
     "output_type": "stream",
     "text": [
      "Epoch 1 | Train Acc: 0.3497 | Val Acc: 0.4249 | Val F1: 0.3122\n",
      "Fold 2 - En iyi F1: 0.3122\n"
     ]
    },
    {
     "name": "stderr",
     "output_type": "stream",
     "text": [
      "Epoch 2: 100%|██████████| 386/386 [08:45<00:00,  1.36s/it]\n"
     ]
    },
    {
     "name": "stdout",
     "output_type": "stream",
     "text": [
      "Epoch 2 | Train Acc: 0.3815 | Val Acc: 0.3523 | Val F1: 0.3113\n"
     ]
    },
    {
     "name": "stderr",
     "output_type": "stream",
     "text": [
      "Epoch 3: 100%|██████████| 386/386 [08:47<00:00,  1.37s/it]\n"
     ]
    },
    {
     "name": "stdout",
     "output_type": "stream",
     "text": [
      "Epoch 3 | Train Acc: 0.4365 | Val Acc: 0.4171 | Val F1: 0.3094\n"
     ]
    },
    {
     "name": "stderr",
     "output_type": "stream",
     "text": [
      "Epoch 4: 100%|██████████| 386/386 [08:57<00:00,  1.39s/it]\n"
     ]
    },
    {
     "name": "stdout",
     "output_type": "stream",
     "text": [
      "Epoch 4 | Train Acc: 0.5291 | Val Acc: 0.4456 | Val F1: 0.2855\n"
     ]
    },
    {
     "name": "stderr",
     "output_type": "stream",
     "text": [
      "Epoch 5: 100%|██████████| 386/386 [08:39<00:00,  1.35s/it]\n"
     ]
    },
    {
     "name": "stdout",
     "output_type": "stream",
     "text": [
      "Epoch 5 | Train Acc: 0.5602 | Val Acc: 0.4404 | Val F1: 0.2693\n"
     ]
    },
    {
     "name": "stderr",
     "output_type": "stream",
     "text": [
      "Epoch 6: 100%|██████████| 386/386 [08:48<00:00,  1.37s/it]\n"
     ]
    },
    {
     "name": "stdout",
     "output_type": "stream",
     "text": [
      "Epoch 6 | Train Acc: 0.5706 | Val Acc: 0.4404 | Val F1: 0.2693\n",
      "Early stopping at epoch 6\n",
      "\n",
      "Fold 2 Test Sonuçları:\n",
      "Test Accuracy: 0.4881\n",
      "              precision    recall  f1-score   support\n",
      "\n",
      "          CN       0.31      0.14      0.19        80\n",
      "         MCI       0.52      0.85      0.64       131\n",
      "          AD       0.00      0.00      0.00        41\n",
      "\n",
      "    accuracy                           0.49       252\n",
      "   macro avg       0.28      0.33      0.28       252\n",
      "weighted avg       0.37      0.49      0.40       252\n",
      "\n"
     ]
    },
    {
     "data": {
      "image/png": "[encoded data removed]",
      "text/plain": [
       "<Figure size 600x500 with 2 Axes>"
      ]
     },
     "metadata": {},
     "output_type": "display_data"
    },
    {
     "name": "stdout",
     "output_type": "stream",
     "text": [
      "\n",
      "========== Fold 3/5 ==========\n"
     ]
    },
    {
     "name": "stderr",
     "output_type": "stream",
     "text": [
      "Epoch 1: 100%|██████████| 386/386 [08:42<00:00,  1.35s/it]\n"
     ]
    },
    {
     "name": "stdout",
     "output_type": "stream",
     "text": [
      "Epoch 1 | Train Acc: 0.3439 | Val Acc: 0.4404 | Val F1: 0.2693\n",
      "Fold 3 - En iyi F1: 0.2693\n"
     ]
    },
    {
     "name": "stderr",
     "output_type": "stream",
     "text": [
      "Epoch 2: 100%|██████████| 386/386 [08:47<00:00,  1.37s/it]\n"
     ]
    },
    {
     "name": "stdout",
     "output_type": "stream",
     "text": [
      "Epoch 2 | Train Acc: 0.3685 | Val Acc: 0.4404 | Val F1: 0.2693\n"
     ]
    },
    {
     "name": "stderr",
     "output_type": "stream",
     "text": [
      "Epoch 3: 100%|██████████| 386/386 [08:33<00:00,  1.33s/it]\n"
     ]
    },
    {
     "name": "stdout",
     "output_type": "stream",
     "text": [
      "Epoch 3 | Train Acc: 0.4592 | Val Acc: 0.4041 | Val F1: 0.2834\n",
      "Fold 3 - En iyi F1: 0.2834\n"
     ]
    },
    {
     "name": "stderr",
     "output_type": "stream",
     "text": [
      "Epoch 4: 100%|██████████| 386/386 [08:47<00:00,  1.37s/it]\n"
     ]
    },
    {
     "name": "stdout",
     "output_type": "stream",
     "text": [
      "Epoch 4 | Train Acc: 0.5298 | Val Acc: 0.4404 | Val F1: 0.2693\n"
     ]
    },
    {
     "name": "stderr",
     "output_type": "stream",
     "text": [
      "Epoch 5: 100%|██████████| 386/386 [08:35<00:00,  1.34s/it]\n"
     ]
    },
    {
     "name": "stdout",
     "output_type": "stream",
     "text": [
      "Epoch 5 | Train Acc: 0.5661 | Val Acc: 0.4404 | Val F1: 0.2693\n"
     ]
    },
    {
     "name": "stderr",
     "output_type": "stream",
     "text": [
      "Epoch 6: 100%|██████████| 386/386 [08:50<00:00,  1.37s/it]\n"
     ]
    },
    {
     "name": "stdout",
     "output_type": "stream",
     "text": [
      "Epoch 6 | Train Acc: 0.5486 | Val Acc: 0.4404 | Val F1: 0.2693\n"
     ]
    },
    {
     "name": "stderr",
     "output_type": "stream",
     "text": [
      "Epoch 7: 100%|██████████| 386/386 [08:44<00:00,  1.36s/it]\n"
     ]
    },
    {
     "name": "stdout",
     "output_type": "stream",
     "text": [
      "Epoch 7 | Train Acc: 0.6146 | Val Acc: 0.4404 | Val F1: 0.2693\n"
     ]
    },
    {
     "name": "stderr",
     "output_type": "stream",
     "text": [
      "Epoch 8: 100%|██████████| 386/386 [08:29<00:00,  1.32s/it]\n"
     ]
    },
    {
     "name": "stdout",
     "output_type": "stream",
     "text": [
      "Epoch 8 | Train Acc: 0.5810 | Val Acc: 0.4404 | Val F1: 0.2693\n",
      "Early stopping at epoch 8\n",
      "\n",
      "Fold 3 Test Sonuçları:\n",
      "Test Accuracy: 0.4524\n",
      "              precision    recall  f1-score   support\n",
      "\n",
      "          CN       0.31      0.30      0.30        80\n",
      "         MCI       0.52      0.69      0.59       131\n",
      "          AD       0.00      0.00      0.00        41\n",
      "\n",
      "    accuracy                           0.45       252\n",
      "   macro avg       0.27      0.33      0.30       252\n",
      "weighted avg       0.37      0.45      0.40       252\n",
      "\n"
     ]
    },
    {
     "data": {
      "image/png": "[encoded data removed]",
      "text/plain": [
       "<Figure size 600x500 with 2 Axes>"
      ]
     },
     "metadata": {},
     "output_type": "display_data"
    },
    {
     "name": "stdout",
     "output_type": "stream",
     "text": [
      "\n",
      "========== Fold 4/5 ==========\n"
     ]
    },
    {
     "name": "stderr",
     "output_type": "stream",
     "text": [
      "Epoch 1: 100%|██████████| 386/386 [09:02<00:00,  1.41s/it]\n"
     ]
    },
    {
     "name": "stdout",
     "output_type": "stream",
     "text": [
      "Epoch 1 | Train Acc: 0.3711 | Val Acc: 0.3420 | Val F1: 0.1773\n",
      "Fold 4 - En iyi F1: 0.1773\n"
     ]
    },
    {
     "name": "stderr",
     "output_type": "stream",
     "text": [
      "Epoch 2: 100%|██████████| 386/386 [08:39<00:00,  1.35s/it]\n"
     ]
    },
    {
     "name": "stdout",
     "output_type": "stream",
     "text": [
      "Epoch 2 | Train Acc: 0.3562 | Val Acc: 0.4585 | Val F1: 0.3077\n",
      "Fold 4 - En iyi F1: 0.3077\n"
     ]
    },
    {
     "name": "stderr",
     "output_type": "stream",
     "text": [
      "Epoch 3: 100%|██████████| 386/386 [08:39<00:00,  1.35s/it]\n"
     ]
    },
    {
     "name": "stdout",
     "output_type": "stream",
     "text": [
      "Epoch 3 | Train Acc: 0.4644 | Val Acc: 0.3394 | Val F1: 0.2804\n"
     ]
    },
    {
     "name": "stderr",
     "output_type": "stream",
     "text": [
      "Epoch 4: 100%|██████████| 386/386 [08:44<00:00,  1.36s/it]\n"
     ]
    },
    {
     "name": "stdout",
     "output_type": "stream",
     "text": [
      "Epoch 4 | Train Acc: 0.5175 | Val Acc: 0.4067 | Val F1: 0.3619\n",
      "Fold 4 - En iyi F1: 0.3619\n"
     ]
    },
    {
     "name": "stderr",
     "output_type": "stream",
     "text": [
      "Epoch 5: 100%|██████████| 386/386 [08:39<00:00,  1.35s/it]\n"
     ]
    },
    {
     "name": "stdout",
     "output_type": "stream",
     "text": [
      "Epoch 5 | Train Acc: 0.5706 | Val Acc: 0.4404 | Val F1: 0.2693\n"
     ]
    },
    {
     "name": "stderr",
     "output_type": "stream",
     "text": [
      "Epoch 6: 100%|██████████| 386/386 [08:39<00:00,  1.35s/it]\n"
     ]
    },
    {
     "name": "stdout",
     "output_type": "stream",
     "text": [
      "Epoch 6 | Train Acc: 0.5771 | Val Acc: 0.4404 | Val F1: 0.2693\n"
     ]
    },
    {
     "name": "stderr",
     "output_type": "stream",
     "text": [
      "Epoch 7: 100%|██████████| 386/386 [08:32<00:00,  1.33s/it]\n"
     ]
    },
    {
     "name": "stdout",
     "output_type": "stream",
     "text": [
      "Epoch 7 | Train Acc: 0.6030 | Val Acc: 0.4404 | Val F1: 0.2693\n"
     ]
    },
    {
     "name": "stderr",
     "output_type": "stream",
     "text": [
      "Epoch 8: 100%|██████████| 386/386 [08:41<00:00,  1.35s/it]\n"
     ]
    },
    {
     "name": "stdout",
     "output_type": "stream",
     "text": [
      "Epoch 8 | Train Acc: 0.5946 | Val Acc: 0.4404 | Val F1: 0.2693\n"
     ]
    },
    {
     "name": "stderr",
     "output_type": "stream",
     "text": [
      "Epoch 9: 100%|██████████| 386/386 [08:39<00:00,  1.34s/it]\n"
     ]
    },
    {
     "name": "stdout",
     "output_type": "stream",
     "text": [
      "Epoch 9 | Train Acc: 0.5868 | Val Acc: 0.4404 | Val F1: 0.2693\n",
      "Early stopping at epoch 9\n",
      "\n",
      "Fold 4 Test Sonuçları:\n",
      "Test Accuracy: 0.4603\n",
      "              precision    recall  f1-score   support\n",
      "\n",
      "          CN       0.33      0.41      0.36        80\n",
      "         MCI       0.57      0.63      0.60       131\n",
      "          AD       0.00      0.00      0.00        41\n",
      "\n",
      "    accuracy                           0.46       252\n",
      "   macro avg       0.30      0.35      0.32       252\n",
      "weighted avg       0.40      0.46      0.43       252\n",
      "\n"
     ]
    },
    {
     "data": {
      "image/png": "[encoded data removed]",
      "text/plain": [
       "<Figure size 600x500 with 2 Axes>"
      ]
     },
     "metadata": {},
     "output_type": "display_data"
    },
    {
     "name": "stdout",
     "output_type": "stream",
     "text": [
      "\n",
      "========== Fold 5/5 ==========\n"
     ]
    },
    {
     "name": "stderr",
     "output_type": "stream",
     "text": [
      "Epoch 1: 100%|██████████| 386/386 [08:55<00:00,  1.39s/it]\n"
     ]
    },
    {
     "name": "stdout",
     "output_type": "stream",
     "text": [
      "Epoch 1 | Train Acc: 0.3452 | Val Acc: 0.4404 | Val F1: 0.2693\n",
      "Fold 5 - En iyi F1: 0.2693\n"
     ]
    },
    {
     "name": "stderr",
     "output_type": "stream",
     "text": [
      "Epoch 2: 100%|██████████| 386/386 [08:42<00:00,  1.35s/it]\n"
     ]
    },
    {
     "name": "stdout",
     "output_type": "stream",
     "text": [
      "Epoch 2 | Train Acc: 0.4100 | Val Acc: 0.4352 | Val F1: 0.2676\n"
     ]
    },
    {
     "name": "stderr",
     "output_type": "stream",
     "text": [
      "Epoch 3: 100%|██████████| 386/386 [08:44<00:00,  1.36s/it]\n"
     ]
    },
    {
     "name": "stdout",
     "output_type": "stream",
     "text": [
      "Epoch 3 | Train Acc: 0.4741 | Val Acc: 0.4404 | Val F1: 0.2698\n",
      "Fold 5 - En iyi F1: 0.2698\n"
     ]
    },
    {
     "name": "stderr",
     "output_type": "stream",
     "text": [
      "Epoch 4: 100%|██████████| 386/386 [08:44<00:00,  1.36s/it]\n"
     ]
    },
    {
     "name": "stdout",
     "output_type": "stream",
     "text": [
      "Epoch 4 | Train Acc: 0.5142 | Val Acc: 0.4404 | Val F1: 0.2693\n"
     ]
    },
    {
     "name": "stderr",
     "output_type": "stream",
     "text": [
      "Epoch 5: 100%|██████████| 386/386 [08:46<00:00,  1.36s/it]\n"
     ]
    },
    {
     "name": "stdout",
     "output_type": "stream",
     "text": [
      "Epoch 5 | Train Acc: 0.5415 | Val Acc: 0.4404 | Val F1: 0.2693\n"
     ]
    },
    {
     "name": "stderr",
     "output_type": "stream",
     "text": [
      "Epoch 6: 100%|██████████| 386/386 [08:40<00:00,  1.35s/it]\n"
     ]
    },
    {
     "name": "stdout",
     "output_type": "stream",
     "text": [
      "Epoch 6 | Train Acc: 0.6023 | Val Acc: 0.4404 | Val F1: 0.2693\n"
     ]
    },
    {
     "name": "stderr",
     "output_type": "stream",
     "text": [
      "Epoch 7: 100%|██████████| 386/386 [08:46<00:00,  1.36s/it]\n"
     ]
    },
    {
     "name": "stdout",
     "output_type": "stream",
     "text": [
      "Epoch 7 | Train Acc: 0.5797 | Val Acc: 0.4404 | Val F1: 0.2693\n"
     ]
    },
    {
     "name": "stderr",
     "output_type": "stream",
     "text": [
      "Epoch 8: 100%|██████████| 386/386 [08:30<00:00,  1.32s/it]\n"
     ]
    },
    {
     "name": "stdout",
     "output_type": "stream",
     "text": [
      "Epoch 8 | Train Acc: 0.5939 | Val Acc: 0.4404 | Val F1: 0.2693\n",
      "Early stopping at epoch 8\n",
      "\n",
      "Fold 5 Test Sonuçları:\n",
      "Test Accuracy: 0.5198\n",
      "              precision    recall  f1-score   support\n",
      "\n",
      "          CN       0.00      0.00      0.00        80\n",
      "         MCI       0.52      1.00      0.68       131\n",
      "          AD       0.00      0.00      0.00        41\n",
      "\n",
      "    accuracy                           0.52       252\n",
      "   macro avg       0.17      0.33      0.23       252\n",
      "weighted avg       0.27      0.52      0.36       252\n",
      "\n"
     ]
    },
    {
     "data": {
      "image/png": "[encoded data removed]",
      "text/plain": [
       "<Figure size 600x500 with 2 Axes>"
      ]
     },
     "metadata": {},
     "output_type": "display_data"
    }
   ],
   "source": [
    "# -------------------- [1] Gerekli Kütüphaneler --------------------\n",
    "import os, glob, random\n",
    "import numpy as np\n",
    "import torch\n",
    "import torch.nn as nn\n",
    "import nibabel as nib\n",
    "from torch.utils.data import Dataset, DataLoader, WeightedRandomSampler\n",
    "from sklearn.metrics import classification_report, confusion_matrix, f1_score\n",
    "from sklearn.model_selection import StratifiedKFold\n",
    "from collections import Counter, defaultdict\n",
    "from tqdm import tqdm\n",
    "import matplotlib.pyplot as plt\n",
    "import seaborn as sns\n",
    "import torchvision.models.video as video_models\n",
    "from torch.amp import autocast, GradScaler\n",
    "from torchvision.transforms import RandomRotation, RandomAffine\n",
    "import warnings\n",
    "warnings.filterwarnings('ignore')\n",
    "\n",
    "# -------------------- [2] Cihaz --------------------\n",
    "DEVICE = torch.device('cuda' if torch.cuda.is_available() else 'cpu')\n",
    "print(f\"Using device: {DEVICE}\")\n",
    "\n",
    "# -------------------- [3] Veri Hazırlama --------------------\n",
    "DATA_DIR = '/kaggle/input/adniunpreprocessed'\n",
    "classes = {'CN': 0, 'MCI': 1, 'AD': 2}\n",
    "pattern = os.path.join(DATA_DIR, '**', '*.nii*')\n",
    "all_files = glob.glob(pattern, recursive=True)\n",
    "\n",
    "valid_paths, valid_labels, subject_ids = [], [], []\n",
    "for fp in all_files:\n",
    "    parent = os.path.basename(os.path.dirname(fp))\n",
    "    if parent not in classes or os.path.getsize(fp) == 0:\n",
    "        continue\n",
    "    try:\n",
    "        _ = nib.load(fp)\n",
    "    except:\n",
    "        continue\n",
    "    parts = fp.split(os.sep)\n",
    "    sid = None\n",
    "    for part in parts:\n",
    "        if part.startswith('ADNI_'):\n",
    "            sid = \"_\".join(part.split(\"_\")[:3])\n",
    "            break\n",
    "    if sid is None:\n",
    "        continue\n",
    "    valid_paths.append(fp)\n",
    "    valid_labels.append(classes[parent])\n",
    "    subject_ids.append(sid)\n",
    "\n",
    "print(f\"Total sample sayısı (sağlam NIfTI): {len(valid_paths)}\")\n",
    "print(\"Sınıf dağılımı dosya düzeyinde:\", Counter(valid_labels))\n",
    "\n",
    "# -------------------- [4] Subject-Level Train/Test Split --------------------\n",
    "subj_to_label = {sid: lbl for sid, lbl in zip(subject_ids, valid_labels)}\n",
    "class_to_subj = defaultdict(list)\n",
    "for sid, lbl in subj_to_label.items():\n",
    "    class_to_subj[lbl].append(sid)\n",
    "\n",
    "trainval_subjs, test_subjs = [], []\n",
    "for lbl, subjs in class_to_subj.items():\n",
    "    random.seed(42)\n",
    "    random.shuffle(subjs)\n",
    "    n_test = max(1, int(0.10 * len(subjs)))\n",
    "    test_subjs += subjs[:n_test]\n",
    "    trainval_subjs += subjs[n_test:]\n",
    "\n",
    "paths_trainval, labels_trainval = [], []\n",
    "paths_test, labels_test = [], []\n",
    "for path, lbl, sid in zip(valid_paths, valid_labels, subject_ids):\n",
    "    if sid in test_subjs:\n",
    "        paths_test.append(path)\n",
    "        labels_test.append(lbl)\n",
    "    else:\n",
    "        paths_trainval.append(path)\n",
    "        labels_trainval.append(lbl)\n",
    "\n",
    "print(f\"Train+Val dosya sayısı: {len(paths_trainval)}, Test dosya sayısı: {len(paths_test)}\")\n",
    "print(\"Test sınıf dağılımı dosya düzeyinde:\", Counter(labels_test))\n",
    "\n",
    "# -------------------- [5] Geliştirilmiş Augmentasyon --------------------\n",
    "class StrongAugment3D:\n",
    "    def __call__(self, x):\n",
    "        # Rastgele yansıma (daha agresif)\n",
    "        if torch.rand(1) > 0.5: x = torch.flip(x, dims=[2])\n",
    "        if torch.rand(1) > 0.5: x = torch.flip(x, dims=[3])\n",
    "        # Rastgele döndürme (-20, +20 derece)\n",
    "        angle = random.uniform(-20, 20)\n",
    "        x = RandomRotation((angle, angle))(x)\n",
    "        # Rastgele ölçeklendirme (daha geniş aralık)\n",
    "        scale = random.uniform(0.85, 1.15)\n",
    "        x = RandomAffine(0, scale=(scale, scale))(x)\n",
    "        # Gürültü ekleme (daha fazla varyasyon)\n",
    "        noise_level = random.uniform(0.02, 0.05)\n",
    "        x = torch.clamp(x + torch.randn_like(x) * noise_level, 0.0, 1.0)\n",
    "        return x\n",
    "\n",
    "# -------------------- [6] Dataset Sınıfı (Optimize Edildi) --------------------\n",
    "class ADNI_ResNet3D_Dataset(Dataset):\n",
    "    def __init__(self, paths, labels, transform=None, d=96, h=128, w=128):\n",
    "        self.paths = paths\n",
    "        self.labels = labels\n",
    "        self.transform = transform\n",
    "        self.d, self.h, self.w = d, h, w\n",
    "\n",
    "    def __len__(self):\n",
    "        return len(self.paths)\n",
    "\n",
    "    def __getitem__(self, idx):\n",
    "        img = nib.load(self.paths[idx]).get_fdata().astype(np.float32)\n",
    "        \n",
    "        # Geliştirilmiş normalizasyon\n",
    "        p1, p99 = np.percentile(img[img > 0], (1, 99))\n",
    "        img = np.clip(img, p1, p99)\n",
    "        img = (img - p1) / (p99 - p1 + 1e-6)\n",
    "        \n",
    "        # Akıllı kırpma (daha hassas)\n",
    "        non_zero_coords = np.argwhere(img > 0.05)  # Threshold düşürüldü\n",
    "        min_d, max_d = non_zero_coords[:,0].min(), non_zero_coords[:,0].max()\n",
    "        min_h, max_h = non_zero_coords[:,1].min(), non_zero_coords[:,1].max()\n",
    "        min_w, max_w = non_zero_coords[:,2].min(), non_zero_coords[:,2].max()\n",
    "        \n",
    "        # Padding ekle\n",
    "        pad_d = int((max_d - min_d) * 0.1)\n",
    "        pad_h = int((max_h - min_h) * 0.1)\n",
    "        pad_w = int((max_w - min_w) * 0.1)\n",
    "        \n",
    "        min_d = max(0, min_d - pad_d)\n",
    "        max_d = min(img.shape[0], max_d + pad_d)\n",
    "        min_h = max(0, min_h - pad_h)\n",
    "        max_h = min(img.shape[1], max_h + pad_h)\n",
    "        min_w = max(0, min_w - pad_w)\n",
    "        max_w = min(img.shape[2], max_w + pad_w)\n",
    "        \n",
    "        img = img[min_d:max_d, min_h:max_h, min_w:max_w]\n",
    "        \n",
    "        # Boyutlandırma\n",
    "        img_tensor = torch.from_numpy(img).unsqueeze(0).float()\n",
    "        img_tensor = nn.functional.interpolate(img_tensor.unsqueeze(0), size=(self.d, self.h, self.w), mode='trilinear', align_corners=True).squeeze(0)\n",
    "        \n",
    "        if self.transform:\n",
    "            img_tensor = self.transform(img_tensor)\n",
    "            \n",
    "        return img_tensor, torch.tensor(self.labels[idx], dtype=torch.long)\n",
    "\n",
    "# -------------------- [7] Model Tanımı (Optimize Edildi) --------------------\n",
    "class R2Plus1DClassifier(nn.Module):\n",
    "    def __init__(self, num_classes=3):\n",
    "        super().__init__()\n",
    "        self.base = video_models.r2plus1d_18(pretrained=False)\n",
    "        \n",
    "        # Tamamen yeni stem katmanı oluştur\n",
    "        self.stem = nn.Sequential(\n",
    "            nn.Conv3d(1, 64, kernel_size=(3,7,7), stride=(1,2,2), padding=(1,3,3), bias=False),\n",
    "            nn.BatchNorm3d(64),\n",
    "            nn.ReLU(inplace=True)\n",
    "        )\n",
    "        \n",
    "        # Dropout ekle\n",
    "        self.dropout1 = nn.Dropout3d(0.2)\n",
    "        \n",
    "        # Final katmanları optimizasyonu\n",
    "        self.base.fc = nn.Sequential(\n",
    "            nn.AdaptiveAvgPool3d(1),\n",
    "            nn.Flatten(),\n",
    "            nn.Dropout(0.5),\n",
    "            nn.Linear(self.base.fc.in_features, 1024),\n",
    "            nn.ReLU(),\n",
    "            nn.BatchNorm1d(1024),\n",
    "            nn.Dropout(0.4),\n",
    "            nn.Linear(1024, 512),\n",
    "            nn.ReLU(),\n",
    "            nn.BatchNorm1d(512),\n",
    "            nn.Dropout(0.3),\n",
    "            nn.Linear(512, num_classes)\n",
    "        )\n",
    "\n",
    "    def forward(self, x):\n",
    "        x = self.stem(x)\n",
    "        x = self.dropout1(x)\n",
    "        x = self.base.layer1(x)\n",
    "        x = self.base.layer2(x)\n",
    "        x = self.base.layer3(x)\n",
    "        x = self.base.layer4(x)\n",
    "        x = self.base.fc(x)\n",
    "        return x\n",
    "\n",
    "# -------------------- [8] Stratified K-Fold --------------------\n",
    "n_splits = 5\n",
    "skf = StratifiedKFold(n_splits=n_splits, shuffle=True, random_state=42)\n",
    "test_ds = ADNI_ResNet3D_Dataset(paths_test, labels_test, transform=None)\n",
    "test_loader = DataLoader(test_ds, batch_size=4, shuffle=False, num_workers=4, pin_memory=True)\n",
    "\n",
    "# -------------------- [9] K-Fold Eğitim Döngüsü --------------------\n",
    "for fold, (train_idx, val_idx) in enumerate(skf.split(paths_trainval, labels_trainval), start=1):\n",
    "    print(f\"\\n========== Fold {fold}/{n_splits} ==========\")\n",
    "    \n",
    "    # Veri yükleme\n",
    "    paths_train = [paths_trainval[i] for i in train_idx]\n",
    "    labels_train = [labels_trainval[i] for i in train_idx]\n",
    "    paths_val = [paths_trainval[i] for i in val_idx]\n",
    "    labels_val = [labels_trainval[i] for i in val_idx]\n",
    "    \n",
    "    # Class weights\n",
    "    class_counts = Counter(labels_train)\n",
    "    max_count = max(class_counts.values())\n",
    "    class_weights = torch.tensor([max_count / count for count in class_counts.values()]).to(DEVICE)\n",
    "    sampler = WeightedRandomSampler(\n",
    "        weights=[class_weights[lbl] for lbl in labels_train],\n",
    "        num_samples=len(labels_train),\n",
    "        replacement=True\n",
    "    )\n",
    "    \n",
    "    # DataLoader'lar (optimize edildi)\n",
    "    train_ds = ADNI_ResNet3D_Dataset(paths_train, labels_train, transform=StrongAugment3D())\n",
    "    val_ds = ADNI_ResNet3D_Dataset(paths_val, labels_val, transform=None)\n",
    "    train_loader = DataLoader(train_ds, batch_size=4, sampler=sampler, num_workers=4, pin_memory=True)\n",
    "    val_loader = DataLoader(val_ds, batch_size=4, shuffle=False, num_workers=4, pin_memory=True)\n",
    "    \n",
    "    # Model ve Optimizer (optimize edildi)\n",
    "    model = R2Plus1DClassifier().to(DEVICE)\n",
    "    optimizer = torch.optim.AdamW(model.parameters(), lr=2e-4, weight_decay=1e-4)\n",
    "    scheduler = torch.optim.lr_scheduler.OneCycleLR(\n",
    "        optimizer,\n",
    "        max_lr=2e-4,\n",
    "        epochs=15,\n",
    "        steps_per_epoch=len(train_loader),\n",
    "        pct_start=0.3,\n",
    "        div_factor=10,\n",
    "        final_div_factor=100\n",
    "    )\n",
    "    scaler = GradScaler(enabled=(DEVICE.type == 'cuda'))\n",
    "    \n",
    "    # Early stopping\n",
    "    best_f1 = 0.0\n",
    "    patience = 5\n",
    "    patience_counter = 0\n",
    "    \n",
    "    # Eğitim\n",
    "    for epoch in range(1, 16):  # 15 epochs\n",
    "        model.train()\n",
    "        train_loss, correct, total = 0.0, 0, 0\n",
    "        for imgs, labels in tqdm(train_loader, desc=f\"Epoch {epoch}\"):\n",
    "            imgs, labels = imgs.to(DEVICE), labels.to(DEVICE)\n",
    "            optimizer.zero_grad()\n",
    "            \n",
    "            with autocast(device_type=DEVICE.type):\n",
    "                out = model(imgs)\n",
    "                loss = nn.CrossEntropyLoss(weight=class_weights)(out, labels)\n",
    "            \n",
    "            scaler.scale(loss).backward()\n",
    "            scaler.unscale_(optimizer)\n",
    "            torch.nn.utils.clip_grad_norm_(model.parameters(), max_norm=1.0)\n",
    "            scaler.step(optimizer)\n",
    "            scaler.update()\n",
    "            scheduler.step()\n",
    "            \n",
    "            train_loss += loss.item()\n",
    "            correct += (out.argmax(1) == labels).sum().item()\n",
    "            total += labels.size(0)\n",
    "        \n",
    "        # Validation\n",
    "        model.eval()\n",
    "        val_preds, val_labels = [], []\n",
    "        with torch.no_grad():\n",
    "            for imgs, labels in val_loader:\n",
    "                imgs = imgs.to(DEVICE)\n",
    "                with autocast(device_type=DEVICE.type):\n",
    "                    out = model(imgs)\n",
    "                val_preds.extend(out.argmax(1).cpu().numpy())\n",
    "                val_labels.extend(labels.numpy())\n",
    "        \n",
    "        val_acc = np.mean(np.array(val_preds) == np.array(val_labels))\n",
    "        val_f1 = f1_score(val_labels, val_preds, average='weighted')\n",
    "        print(f\"Epoch {epoch} | Train Acc: {correct/total:.4f} | Val Acc: {val_acc:.4f} | Val F1: {val_f1:.4f}\")\n",
    "        \n",
    "        # Early stopping kontrolü\n",
    "        if val_f1 > best_f1:\n",
    "            best_f1 = val_f1\n",
    "            patience_counter = 0\n",
    "            torch.save(model.state_dict(), f\"best_fold{fold}.pth\")\n",
    "            print(f\"Fold {fold} - En iyi F1: {best_f1:.4f}\")\n",
    "        else:\n",
    "            patience_counter += 1\n",
    "            if patience_counter >= patience:\n",
    "                print(f\"Early stopping at epoch {epoch}\")\n",
    "                break\n",
    "\n",
    "    # Test\n",
    "    model.load_state_dict(torch.load(f\"best_fold{fold}.pth\"))\n",
    "    model.eval()\n",
    "    test_preds, test_labels = [], []\n",
    "    with torch.no_grad():\n",
    "        for imgs, labels in test_loader:\n",
    "            imgs = imgs.to(DEVICE)\n",
    "            with autocast(device_type=DEVICE.type):\n",
    "                out = model(imgs)\n",
    "            test_preds.extend(out.argmax(1).cpu().numpy())\n",
    "            test_labels.extend(labels.numpy())\n",
    "    \n",
    "    test_acc = np.mean(np.array(test_preds) == np.array(test_labels))\n",
    "    print(f\"\\nFold {fold} Test Sonuçları:\")\n",
    "    print(f\"Test Accuracy: {test_acc:.4f}\")\n",
    "    print(classification_report(test_labels, test_preds, target_names=classes.keys()))\n",
    "    \n",
    "    # Confusion Matrix\n",
    "    cm = confusion_matrix(test_labels, test_preds)\n",
    "    plt.figure(figsize=(6,5))\n",
    "    sns.heatmap(cm, annot=True, fmt=\"d\", cmap=\"Blues\", xticklabels=classes.keys(), yticklabels=classes.keys())\n",
    "    plt.title(f\"Fold {fold} Confusion Matrix\")\n",
    "    plt.show()"
   ]
  }
 ],
 "metadata": {
  "kaggle": {
   "accelerator": "nvidiaTeslaT4",
   "dataSources": [
    {
     "datasetId": 7573927,
     "sourceId": 12036716,
     "sourceType": "datasetVersion"
    }
   ],
   "dockerImageVersionId": 31041,
   "isGpuEnabled": true,
   "isInternetEnabled": true,
   "language": "python",
   "sourceType": "notebook"
  },
  "kernelspec": {
   "display_name": "Python 3",
   "language": "python",
   "name": "python3"
  },
  "language_info": {
   "codemirror_mode": {
    "name": "ipython",
    "version": 3
   },
   "file_extension": ".py",
   "mimetype": "text/x-python",
   "name": "python",
   "nbconvert_exporter": "python",
   "pygments_lexer": "ipython3",
   "version": "3.11.11"
  },
  "papermill": {
   "default_parameters": {},
   "duration": 26577.426629,
   "end_time": "2025-06-10T00:38:02.270869",
   "environment_variables": {},
   "exception": null,
   "input_path": "__notebook__.ipynb",
   "output_path": "__notebook__.ipynb",
   "parameters": {},
   "start_time": "2025-06-09T17:15:04.844240",
   "version": "2.6.0"
  }
 },
 "nbformat": 4,
 "nbformat_minor": 5
}
